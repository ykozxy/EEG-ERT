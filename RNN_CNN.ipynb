{
 "cells": [
  {
   "cell_type": "markdown",
   "id": "88eb20178c058e",
   "metadata": {
    "collapsed": false
   },
   "source": [
    "# Initialize"
   ]
  },
  {
   "cell_type": "code",
   "execution_count": 1,
   "id": "initial_id",
   "metadata": {
    "ExecuteTime": {
     "end_time": "2024-03-08T10:01:01.963656Z",
     "start_time": "2024-03-08T10:01:00.723261Z"
    },
    "collapsed": true
   },
   "outputs": [],
   "source": [
    "import os\n",
    "\n",
    "import numpy as np\n",
    "import optuna\n",
    "import torch\n",
    "from torch.utils.data import DataLoader\n",
    "\n",
    "from models.RNN_CNN import RNNWithCNN\n",
    "from utils.dataset import EEGDataset\n",
    "from utils.training import optuna_train, get_study_callback"
   ]
  },
  {
   "cell_type": "code",
   "execution_count": 2,
   "id": "6574b419fc9485e0",
   "metadata": {
    "ExecuteTime": {
     "end_time": "2024-03-08T10:01:01.970596Z",
     "start_time": "2024-03-08T10:01:01.964657Z"
    },
    "collapsed": false
   },
   "outputs": [
    {
     "data": {
      "text/plain": [
       "True"
      ]
     },
     "execution_count": 2,
     "metadata": {},
     "output_type": "execute_result"
    }
   ],
   "source": [
    "from dotenv import load_dotenv\n",
    "\n",
    "load_dotenv()"
   ]
  },
  {
   "cell_type": "code",
   "execution_count": 3,
   "id": "c6ed07a179d718b7",
   "metadata": {
    "ExecuteTime": {
     "end_time": "2024-03-08T10:01:01.972750Z",
     "start_time": "2024-03-08T10:01:01.971266Z"
    },
    "collapsed": false
   },
   "outputs": [],
   "source": [
    "# torch.manual_seed(3407)"
   ]
  },
  {
   "cell_type": "code",
   "execution_count": 4,
   "id": "4abf2ec823201c47",
   "metadata": {
    "ExecuteTime": {
     "end_time": "2024-03-08T10:01:01.991545Z",
     "start_time": "2024-03-08T10:01:01.974275Z"
    },
    "collapsed": false
   },
   "outputs": [],
   "source": [
    "%load_ext autoreload\n",
    "%autoreload 2"
   ]
  },
  {
   "cell_type": "markdown",
   "id": "35c4d7e420afc5ca",
   "metadata": {
    "collapsed": false
   },
   "source": [
    "## Constants"
   ]
  },
  {
   "cell_type": "code",
   "execution_count": 5,
   "id": "a49c41ea4f834f0a",
   "metadata": {
    "ExecuteTime": {
     "end_time": "2024-03-08T10:01:02.005559Z",
     "start_time": "2024-03-08T10:01:01.992310Z"
    },
    "collapsed": false
   },
   "outputs": [],
   "source": [
    "CP_PATH = \"checkpoints/cnn_rnn/\""
   ]
  },
  {
   "cell_type": "markdown",
   "id": "1c0fb425bd9075bf",
   "metadata": {
    "collapsed": false
   },
   "source": [
    "## Load data"
   ]
  },
  {
   "cell_type": "code",
   "execution_count": 6,
   "id": "82d45c23b2c0c4b",
   "metadata": {
    "ExecuteTime": {
     "end_time": "2024-03-08T10:01:02.108056Z",
     "start_time": "2024-03-08T10:01:02.006234Z"
    },
    "collapsed": false
   },
   "outputs": [],
   "source": [
    "X_train = np.load('data/X_train_valid.npy')\n",
    "y_train = np.load('data/y_train_valid.npy')\n",
    "X_test = np.load('data/X_test.npy')\n",
    "y_test = np.load('data/y_test.npy')"
   ]
  },
  {
   "cell_type": "code",
   "execution_count": 7,
   "id": "952ddc47e2418462",
   "metadata": {
    "ExecuteTime": {
     "end_time": "2024-03-08T10:01:02.123076Z",
     "start_time": "2024-03-08T10:01:02.108686Z"
    },
    "collapsed": false
   },
   "outputs": [],
   "source": [
    "split_idx = 1777\n",
    "X_train, X_valid = X_train[:split_idx], X_train[split_idx:]\n",
    "y_train, y_valid = y_train[:split_idx], y_train[split_idx:]"
   ]
  },
  {
   "cell_type": "code",
   "execution_count": 8,
   "id": "c7a57b90c209ba81",
   "metadata": {
    "ExecuteTime": {
     "end_time": "2024-03-08T10:01:02.138627Z",
     "start_time": "2024-03-08T10:01:02.123772Z"
    },
    "collapsed": false
   },
   "outputs": [
    {
     "name": "stdout",
     "output_type": "stream",
     "text": [
      "X_train shape: (1777, 22, 1000)\n",
      "y_train shape: (1777,)\n",
      "X_valid shape: (338, 22, 1000)\n",
      "y_valid shape: (338,)\n",
      "X_test shape: (443, 22, 1000)\n",
      "y_test shape: (443,)\n"
     ]
    }
   ],
   "source": [
    "print(f\"X_train shape: {X_train.shape}\")\n",
    "print(f\"y_train shape: {y_train.shape}\")\n",
    "print(f\"X_valid shape: {X_valid.shape}\")\n",
    "print(f\"y_valid shape: {y_valid.shape}\")\n",
    "print(f\"X_test shape: {X_test.shape}\")\n",
    "print(f\"y_test shape: {y_test.shape}\")"
   ]
  },
  {
   "cell_type": "code",
   "execution_count": 9,
   "id": "17817deda4822302",
   "metadata": {
    "ExecuteTime": {
     "end_time": "2024-03-08T10:01:02.238604Z",
     "start_time": "2024-03-08T10:01:02.139337Z"
    },
    "collapsed": false
   },
   "outputs": [],
   "source": [
    "train_set = EEGDataset(X_train, y_train, label_smoothing=False)\n",
    "valid_set = EEGDataset(X_valid, y_valid, label_smoothing=False)\n",
    "test_set = EEGDataset(X_test, y_test, label_smoothing=False)"
   ]
  },
  {
   "cell_type": "code",
   "execution_count": 10,
   "id": "272b7a86aaa05b31",
   "metadata": {
    "ExecuteTime": {
     "end_time": "2024-03-08T10:01:02.252843Z",
     "start_time": "2024-03-08T10:01:02.240475Z"
    },
    "collapsed": false
   },
   "outputs": [],
   "source": [
    "train_loader = DataLoader(train_set, batch_size=32, shuffle=True)\n",
    "valid_loader = DataLoader(valid_set, batch_size=32, shuffle=False)\n",
    "test_loader = DataLoader(test_set, batch_size=32, shuffle=False)"
   ]
  },
  {
   "cell_type": "markdown",
   "id": "3ec42593bdd10176",
   "metadata": {
    "collapsed": false
   },
   "source": [
    "# Train"
   ]
  },
  {
   "cell_type": "markdown",
   "id": "9d17d76fa2a4dd1e",
   "metadata": {
    "collapsed": false
   },
   "source": [
    "## Setup Optuna"
   ]
  },
  {
   "cell_type": "code",
   "execution_count": 11,
   "id": "5efc0b18af12fcdc",
   "metadata": {
    "ExecuteTime": {
     "end_time": "2024-03-08T10:01:03.642260Z",
     "start_time": "2024-03-08T10:01:02.253406Z"
    },
    "collapsed": false
   },
   "outputs": [
    {
     "name": "stderr",
     "output_type": "stream",
     "text": [
      "[I 2024-03-08 02:01:03,418] Using an existing study with name 'CNN_RNN' instead of creating a new one.\n"
     ]
    }
   ],
   "source": [
    "# if os.path.exists(CP_PATH + \"CNN_RNN_study.pkl\"):\n",
    "#     print(\"Loading existing study...\")\n",
    "#     study = joblib.load(CP_PATH + \"CNN_RNN_study.pkl\")\n",
    "# else:\n",
    "#     print(\"Creating new study...\")\n",
    "study = optuna.create_study(\n",
    "    study_name=\"CNN_RNN\",\n",
    "    direction=\"maximize\",\n",
    "    pruner=optuna.pruners.HyperbandPruner(),\n",
    "    sampler=optuna.samplers.TPESampler(),\n",
    "    load_if_exists=True,\n",
    "    storage=os.getenv(\"RDB_URL\"),\n",
    ")"
   ]
  },
  {
   "cell_type": "code",
   "execution_count": 12,
   "id": "91691fc0065d7f1d",
   "metadata": {
    "ExecuteTime": {
     "end_time": "2024-03-08T10:01:03.659614Z",
     "start_time": "2024-03-08T10:01:03.643212Z"
    },
    "collapsed": false
   },
   "outputs": [],
   "source": [
    "def gen_model(trial):\n",
    "    return RNNWithCNN(trial)\n",
    "\n",
    "\n",
    "def gen_optimizer(trial, model):\n",
    "    weight_decay = trial.suggest_float(\"weight_decay\", 1e-5, 1e-1, log=True)\n",
    "    lr = trial.suggest_float(\"lr\", 1e-5, 1e-2, log=True)\n",
    "    return torch.optim.Adam(model.parameters(), weight_decay=weight_decay, lr=lr)\n",
    "\n",
    "\n",
    "loss_func = torch.nn.CrossEntropyLoss()"
   ]
  },
  {
   "cell_type": "markdown",
   "id": "660fb98aec780ab",
   "metadata": {
    "collapsed": false
   },
   "source": [
    "## Training"
   ]
  },
  {
   "cell_type": "code",
   "execution_count": 13,
   "id": "d524cbe5edbd5be9",
   "metadata": {
    "ExecuteTime": {
     "end_time": "2024-03-08T15:45:51.359752Z",
     "start_time": "2024-03-08T10:01:03.660346Z"
    },
    "collapsed": false
   },
   "outputs": [
    {
     "data": {
      "application/vnd.jupyter.widget-view+json": {
       "model_id": "54196b51cfc14c8ba4711b8a6c1d658b",
       "version_major": 2,
       "version_minor": 0
      },
      "text/plain": [
       "  0%|          | 0/200 [00:00<?, ?it/s]"
      ]
     },
     "metadata": {},
     "output_type": "display_data"
    },
    {
     "name": "stderr",
     "output_type": "stream",
     "text": [
      "/Users/nickzhou/opt/anaconda3/envs/py3.11/lib/python3.11/site-packages/torch/nn/modules/lazy.py:181: UserWarning: Lazy modules are a new feature under heavy development so changes to the API or functionality can happen at any moment.\n",
      "  warnings.warn('Lazy modules are a new feature under heavy development '\n"
     ]
    },
    {
     "name": "stdout",
     "output_type": "stream",
     "text": [
      "[I 2024-03-08 02:04:42,275] Trial 40 pruned. \n"
     ]
    },
    {
     "name": "stderr",
     "output_type": "stream",
     "text": [
      "/Users/nickzhou/opt/anaconda3/envs/py3.11/lib/python3.11/site-packages/torch/nn/modules/lazy.py:181: UserWarning: Lazy modules are a new feature under heavy development so changes to the API or functionality can happen at any moment.\n",
      "  warnings.warn('Lazy modules are a new feature under heavy development '\n"
     ]
    },
    {
     "name": "stdout",
     "output_type": "stream",
     "text": [
      "[I 2024-03-08 02:06:10,131] Trial 41 finished with value: 0.5798816568047337 and parameters: {'num_cnn_layers': 3, 'cnn_use_bn': True, 'cnn_activation': 'ELU', 'cnn_dropout': 0.33335068650333943, 'cnn_kernel_size': 13, 'cnn_out_channels_0': 86, 'cnn_out_channels_1': 59, 'cnn_out_channels_2': 81, 'use_fc1': False, 'num_rnn_layers': 4, 'rnn_hidden_size': 245, 'rnn_dropout': 0.49929087604342404, 'num_fc_layers_2': 1, 'fc_use_bn_1': True, 'fc_out_features_1_0': 352, 'fc_dropout_1_0': 0.2567213282100878, 'weight_decay': 2.2133030694621662e-05, 'lr': 0.00011049821810148668}. Best is trial 31 with value: 0.6775147928994083.\n",
      "[I 2024-03-08 02:16:12,548] Trial 42 finished with value: 0.6834319526627219 and parameters: {'num_cnn_layers': 4, 'cnn_use_bn': True, 'cnn_activation': 'ELU', 'cnn_dropout': 0.31692871208310097, 'cnn_kernel_size': 13, 'cnn_out_channels_0': 82, 'cnn_out_channels_1': 125, 'cnn_out_channels_2': 84, 'cnn_out_channels_3': 171, 'use_fc1': False, 'num_rnn_layers': 4, 'rnn_hidden_size': 368, 'rnn_dropout': 0.4997125247023329, 'num_fc_layers_2': 1, 'fc_use_bn_1': True, 'fc_out_features_1_0': 361, 'fc_dropout_1_0': 0.2535576324855838, 'weight_decay': 0.00018255148789363278, 'lr': 6.441811024230226e-05}. Best is trial 42 with value: 0.6834319526627219.\n",
      "[I 2024-03-08 02:17:17,905] Trial 43 pruned. \n",
      "[I 2024-03-08 02:19:39,579] Trial 44 pruned. \n",
      "[I 2024-03-08 02:20:10,813] Trial 45 pruned. \n",
      "[I 2024-03-08 02:20:45,354] Trial 46 pruned. \n",
      "[I 2024-03-08 02:24:49,895] Trial 47 pruned. \n",
      "[I 2024-03-08 02:26:19,402] Trial 48 pruned. \n",
      "[I 2024-03-08 02:26:45,856] Trial 49 pruned. \n"
     ]
    },
    {
     "name": "stderr",
     "output_type": "stream",
     "text": [
      "/Users/nickzhou/opt/anaconda3/envs/py3.11/lib/python3.11/site-packages/torch/nn/modules/rnn.py:83: UserWarning: dropout option adds dropout after all but last recurrent layer, so non-zero dropout expects num_layers greater than 1, but got dropout=0.38107196283708317 and num_layers=1\n",
      "  warnings.warn(\"dropout option adds dropout after all but last \"\n"
     ]
    },
    {
     "name": "stdout",
     "output_type": "stream",
     "text": [
      "[I 2024-03-08 02:27:04,840] Trial 50 pruned. \n",
      "[I 2024-03-08 02:28:13,689] Trial 51 pruned. \n",
      "[I 2024-03-08 02:28:42,945] Trial 52 pruned. \n",
      "[I 2024-03-08 02:31:18,105] Trial 53 pruned. \n",
      "[I 2024-03-08 02:34:36,174] Trial 54 finished with value: 0.5266272189349113 and parameters: {'num_cnn_layers': 3, 'cnn_use_bn': True, 'cnn_activation': 'ELU', 'cnn_dropout': 0.26067970268323176, 'cnn_kernel_size': 5, 'cnn_out_channels_0': 129, 'cnn_out_channels_1': 129, 'cnn_out_channels_2': 54, 'use_fc1': False, 'num_rnn_layers': 4, 'rnn_hidden_size': 200, 'rnn_dropout': 0.42730736553122517, 'num_fc_layers_2': 1, 'fc_use_bn_1': True, 'fc_out_features_1_0': 243, 'fc_dropout_1_0': 0.2536943775115597, 'weight_decay': 0.0002724878495671256, 'lr': 2.5144556758704066e-05}. Best is trial 42 with value: 0.6834319526627219.\n",
      "[I 2024-03-08 02:35:23,008] Trial 55 pruned. \n",
      "[I 2024-03-08 02:36:19,305] Trial 56 pruned. \n",
      "[I 2024-03-08 02:36:57,412] Trial 57 pruned. \n",
      "[I 2024-03-08 02:37:48,388] Trial 58 pruned. \n"
     ]
    },
    {
     "name": "stderr",
     "output_type": "stream",
     "text": [
      "/Users/nickzhou/opt/anaconda3/envs/py3.11/lib/python3.11/site-packages/torch/nn/modules/rnn.py:83: UserWarning: dropout option adds dropout after all but last recurrent layer, so non-zero dropout expects num_layers greater than 1, but got dropout=0.4778697767148477 and num_layers=1\n",
      "  warnings.warn(\"dropout option adds dropout after all but last \"\n"
     ]
    },
    {
     "name": "stdout",
     "output_type": "stream",
     "text": [
      "[I 2024-03-08 02:38:14,487] Trial 59 pruned. \n",
      "[I 2024-03-08 02:38:40,236] Trial 60 pruned. \n",
      "[I 2024-03-08 02:39:01,047] Trial 61 pruned. \n",
      "[I 2024-03-08 02:40:36,621] Trial 62 finished with value: 0.5769230769230769 and parameters: {'num_cnn_layers': 3, 'cnn_use_bn': True, 'cnn_activation': 'ELU', 'cnn_dropout': 0.23548503810293195, 'cnn_kernel_size': 14, 'cnn_out_channels_0': 126, 'cnn_out_channels_1': 107, 'cnn_out_channels_2': 68, 'use_fc1': False, 'num_rnn_layers': 3, 'rnn_hidden_size': 242, 'rnn_dropout': 0.4591164986881121, 'num_fc_layers_2': 1, 'fc_use_bn_1': True, 'fc_out_features_1_0': 166, 'fc_dropout_1_0': 0.26743377361438636, 'weight_decay': 0.0001595932222752486, 'lr': 0.00013658763876854497}. Best is trial 42 with value: 0.6834319526627219.\n",
      "[I 2024-03-08 02:44:41,099] Trial 63 finished with value: 0.7071005917159763 and parameters: {'num_cnn_layers': 4, 'cnn_use_bn': True, 'cnn_activation': 'ELU', 'cnn_dropout': 0.2230093551904904, 'cnn_kernel_size': 14, 'cnn_out_channels_0': 152, 'cnn_out_channels_1': 105, 'cnn_out_channels_2': 69, 'cnn_out_channels_3': 165, 'use_fc1': False, 'num_rnn_layers': 2, 'rnn_hidden_size': 241, 'rnn_dropout': 0.4576748906701417, 'num_fc_layers_2': 1, 'fc_use_bn_1': True, 'fc_out_features_1_0': 160, 'fc_dropout_1_0': 0.29698594183605237, 'weight_decay': 5.2083768932105694e-05, 'lr': 0.00010142859869365503}. Best is trial 63 with value: 0.7071005917159763.\n",
      "[I 2024-03-08 02:49:35,020] Trial 64 finished with value: 0.6982248520710059 and parameters: {'num_cnn_layers': 4, 'cnn_use_bn': True, 'cnn_activation': 'ELU', 'cnn_dropout': 0.24099959487346218, 'cnn_kernel_size': 14, 'cnn_out_channels_0': 154, 'cnn_out_channels_1': 103, 'cnn_out_channels_2': 109, 'cnn_out_channels_3': 165, 'use_fc1': False, 'num_rnn_layers': 3, 'rnn_hidden_size': 240, 'rnn_dropout': 0.4579516875889563, 'num_fc_layers_2': 1, 'fc_use_bn_1': True, 'fc_out_features_1_0': 626, 'fc_dropout_1_0': 0.30571382915472606, 'weight_decay': 5.3029242584662824e-05, 'lr': 9.049926596316137e-05}. Best is trial 63 with value: 0.7071005917159763.\n",
      "[I 2024-03-08 02:52:04,475] Trial 65 finished with value: 0.6242603550295858 and parameters: {'num_cnn_layers': 5, 'cnn_use_bn': True, 'cnn_activation': 'ELU', 'cnn_dropout': 0.19879937553605462, 'cnn_kernel_size': 15, 'cnn_out_channels_0': 177, 'cnn_out_channels_1': 88, 'cnn_out_channels_2': 107, 'cnn_out_channels_3': 167, 'cnn_out_channels_4': 25, 'use_fc1': False, 'num_rnn_layers': 2, 'rnn_hidden_size': 143, 'rnn_dropout': 0.48262851557951786, 'num_fc_layers_2': 0, 'fc_use_bn_1': True, 'weight_decay': 1.0071408766897649e-05, 'lr': 9.884217008250984e-05}. Best is trial 63 with value: 0.7071005917159763.\n",
      "[I 2024-03-08 02:52:53,968] Trial 66 pruned. \n",
      "[I 2024-03-08 02:55:23,524] Trial 67 finished with value: 0.6153846153846154 and parameters: {'num_cnn_layers': 5, 'cnn_use_bn': True, 'cnn_activation': 'ELU', 'cnn_dropout': 0.19839147720018127, 'cnn_kernel_size': 15, 'cnn_out_channels_0': 190, 'cnn_out_channels_1': 80, 'cnn_out_channels_2': 122, 'cnn_out_channels_3': 174, 'cnn_out_channels_4': 24, 'use_fc1': False, 'num_rnn_layers': 2, 'rnn_hidden_size': 148, 'rnn_dropout': 0.4786148739153694, 'num_fc_layers_2': 0, 'fc_use_bn_1': True, 'weight_decay': 1.5958635808530318e-05, 'lr': 5.794879507226225e-05}. Best is trial 63 with value: 0.7071005917159763.\n",
      "[I 2024-03-08 02:56:19,767] Trial 68 pruned. \n",
      "[I 2024-03-08 02:58:13,140] Trial 69 finished with value: 0.5562130177514792 and parameters: {'num_cnn_layers': 5, 'cnn_use_bn': True, 'cnn_activation': 'ELU', 'cnn_dropout': 0.13950107597103573, 'cnn_kernel_size': 17, 'cnn_out_channels_0': 168, 'cnn_out_channels_1': 84, 'cnn_out_channels_2': 143, 'cnn_out_channels_3': 171, 'cnn_out_channels_4': 61, 'use_fc1': False, 'num_rnn_layers': 2, 'rnn_hidden_size': 109, 'rnn_dropout': 0.4765867539386602, 'num_fc_layers_2': 0, 'fc_use_bn_1': True, 'weight_decay': 1.0170322013340705e-05, 'lr': 0.00041895804170910897}. Best is trial 63 with value: 0.7071005917159763.\n",
      "[I 2024-03-08 03:01:09,683] Trial 70 finished with value: 0.6331360946745562 and parameters: {'num_cnn_layers': 4, 'cnn_use_bn': True, 'cnn_activation': 'ELU', 'cnn_dropout': 0.18832252292300564, 'cnn_kernel_size': 14, 'cnn_out_channels_0': 189, 'cnn_out_channels_1': 70, 'cnn_out_channels_2': 134, 'cnn_out_channels_3': 155, 'use_fc1': False, 'num_rnn_layers': 3, 'rnn_hidden_size': 175, 'rnn_dropout': 0.45672671516833335, 'num_fc_layers_2': 0, 'fc_use_bn_1': True, 'weight_decay': 3.240027633035308e-05, 'lr': 8.570879520061506e-05}. Best is trial 63 with value: 0.7071005917159763.\n",
      "[I 2024-03-08 03:04:12,113] Trial 71 finished with value: 0.650887573964497 and parameters: {'num_cnn_layers': 5, 'cnn_use_bn': True, 'cnn_activation': 'ELU', 'cnn_dropout': 0.180376927571406, 'cnn_kernel_size': 15, 'cnn_out_channels_0': 178, 'cnn_out_channels_1': 70, 'cnn_out_channels_2': 161, 'cnn_out_channels_3': 155, 'cnn_out_channels_4': 20, 'use_fc1': False, 'num_rnn_layers': 2, 'rnn_hidden_size': 173, 'rnn_dropout': 0.45138743773050666, 'num_fc_layers_2': 0, 'fc_use_bn_1': True, 'weight_decay': 3.0574386583661535e-05, 'lr': 6.42145840650746e-05}. Best is trial 63 with value: 0.7071005917159763.\n",
      "[I 2024-03-08 03:06:20,321] Trial 72 finished with value: 0.5887573964497042 and parameters: {'num_cnn_layers': 4, 'cnn_use_bn': True, 'cnn_activation': 'ELU', 'cnn_dropout': 0.15505935708417318, 'cnn_kernel_size': 14, 'cnn_out_channels_0': 165, 'cnn_out_channels_1': 70, 'cnn_out_channels_2': 163, 'cnn_out_channels_3': 154, 'use_fc1': False, 'num_rnn_layers': 3, 'rnn_hidden_size': 180, 'rnn_dropout': 0.45394611973476096, 'num_fc_layers_2': 0, 'fc_use_bn_1': True, 'weight_decay': 3.0837169452429576e-05, 'lr': 0.00021269342667931985}. Best is trial 63 with value: 0.7071005917159763.\n",
      "[I 2024-03-08 03:08:19,188] Trial 73 finished with value: 0.6242603550295858 and parameters: {'num_cnn_layers': 4, 'cnn_use_bn': True, 'cnn_activation': 'ELU', 'cnn_dropout': 0.05302127001943274, 'cnn_kernel_size': 15, 'cnn_out_channels_0': 177, 'cnn_out_channels_1': 93, 'cnn_out_channels_2': 176, 'cnn_out_channels_3': 189, 'use_fc1': False, 'num_rnn_layers': 2, 'rnn_hidden_size': 171, 'rnn_dropout': 0.4101050006167257, 'num_fc_layers_2': 0, 'fc_use_bn_1': True, 'weight_decay': 4.6768819967629904e-05, 'lr': 0.0001438720389373274}. Best is trial 63 with value: 0.7071005917159763.\n",
      "[I 2024-03-08 03:09:45,680] Trial 74 pruned. \n",
      "[I 2024-03-08 03:12:14,852] Trial 75 finished with value: 0.5769230769230769 and parameters: {'num_cnn_layers': 4, 'cnn_use_bn': True, 'cnn_activation': 'ELU', 'cnn_dropout': 0.21907540520571392, 'cnn_kernel_size': 14, 'cnn_out_channels_0': 188, 'cnn_out_channels_1': 43, 'cnn_out_channels_2': 137, 'cnn_out_channels_3': 151, 'use_fc1': False, 'num_rnn_layers': 3, 'rnn_hidden_size': 98, 'rnn_dropout': 0.44135425194605155, 'num_fc_layers_2': 0, 'fc_use_bn_1': False, 'weight_decay': 8.515452334412745e-05, 'lr': 6.838514639345106e-05}. Best is trial 63 with value: 0.7071005917159763.\n"
     ]
    },
    {
     "name": "stderr",
     "output_type": "stream",
     "text": [
      "/Users/nickzhou/opt/anaconda3/envs/py3.11/lib/python3.11/site-packages/torch/nn/modules/rnn.py:83: UserWarning: dropout option adds dropout after all but last recurrent layer, so non-zero dropout expects num_layers greater than 1, but got dropout=0.4565196995209748 and num_layers=1\n",
      "  warnings.warn(\"dropout option adds dropout after all but last \"\n"
     ]
    },
    {
     "name": "stdout",
     "output_type": "stream",
     "text": [
      "[I 2024-03-08 03:18:17,057] Trial 76 finished with value: 0.6449704142011834 and parameters: {'num_cnn_layers': 4, 'cnn_use_bn': False, 'cnn_activation': 'ELU', 'cnn_dropout': 0.24204676966843908, 'cnn_kernel_size': 17, 'cnn_out_channels_0': 171, 'cnn_out_channels_1': 118, 'cnn_out_channels_2': 177, 'cnn_out_channels_3': 144, 'use_fc1': False, 'num_rnn_layers': 1, 'rnn_hidden_size': 119, 'rnn_dropout': 0.4565196995209748, 'num_fc_layers_2': 0, 'fc_use_bn_1': True, 'weight_decay': 3.771358310992508e-05, 'lr': 4.081597801345242e-05}. Best is trial 63 with value: 0.7071005917159763.\n"
     ]
    },
    {
     "name": "stderr",
     "output_type": "stream",
     "text": [
      "/Users/nickzhou/opt/anaconda3/envs/py3.11/lib/python3.11/site-packages/torch/nn/modules/rnn.py:83: UserWarning: dropout option adds dropout after all but last recurrent layer, so non-zero dropout expects num_layers greater than 1, but got dropout=0.32690349916813716 and num_layers=1\n",
      "  warnings.warn(\"dropout option adds dropout after all but last \"\n"
     ]
    },
    {
     "name": "stdout",
     "output_type": "stream",
     "text": [
      "[I 2024-03-08 03:18:49,481] Trial 77 pruned. \n"
     ]
    },
    {
     "name": "stderr",
     "output_type": "stream",
     "text": [
      "/Users/nickzhou/opt/anaconda3/envs/py3.11/lib/python3.11/site-packages/torch/nn/modules/rnn.py:83: UserWarning: dropout option adds dropout after all but last recurrent layer, so non-zero dropout expects num_layers greater than 1, but got dropout=0.43583200532620325 and num_layers=1\n",
      "  warnings.warn(\"dropout option adds dropout after all but last \"\n"
     ]
    },
    {
     "name": "stdout",
     "output_type": "stream",
     "text": [
      "[I 2024-03-08 03:22:40,733] Trial 78 finished with value: 0.5976331360946746 and parameters: {'num_cnn_layers': 4, 'cnn_use_bn': False, 'cnn_activation': 'ELU', 'cnn_dropout': 0.08592636317647012, 'cnn_kernel_size': 13, 'cnn_out_channels_0': 199, 'cnn_out_channels_1': 136, 'cnn_out_channels_2': 177, 'cnn_out_channels_3': 145, 'use_fc1': False, 'num_rnn_layers': 1, 'rnn_hidden_size': 43, 'rnn_dropout': 0.43583200532620325, 'num_fc_layers_2': 0, 'fc_use_bn_1': True, 'weight_decay': 0.00012372982117224099, 'lr': 3.45013769688271e-05}. Best is trial 63 with value: 0.7071005917159763.\n",
      "[I 2024-03-08 03:23:44,811] Trial 79 pruned. \n"
     ]
    },
    {
     "name": "stderr",
     "output_type": "stream",
     "text": [
      "/Users/nickzhou/opt/anaconda3/envs/py3.11/lib/python3.11/site-packages/torch/nn/modules/rnn.py:83: UserWarning: dropout option adds dropout after all but last recurrent layer, so non-zero dropout expects num_layers greater than 1, but got dropout=0.4813183726287117 and num_layers=1\n",
      "  warnings.warn(\"dropout option adds dropout after all but last \"\n"
     ]
    },
    {
     "name": "stdout",
     "output_type": "stream",
     "text": [
      "[I 2024-03-08 03:24:15,473] Trial 80 pruned. \n",
      "[I 2024-03-08 03:24:45,401] Trial 81 pruned. \n",
      "[I 2024-03-08 03:28:43,413] Trial 82 finished with value: 0.6479289940828402 and parameters: {'num_cnn_layers': 4, 'cnn_use_bn': True, 'cnn_activation': 'ELU', 'cnn_dropout': 0.24682496688568756, 'cnn_kernel_size': 15, 'cnn_out_channels_0': 185, 'cnn_out_channels_1': 113, 'cnn_out_channels_2': 171, 'cnn_out_channels_3': 180, 'use_fc1': False, 'num_rnn_layers': 2, 'rnn_hidden_size': 130, 'rnn_dropout': 0.4666769812258296, 'num_fc_layers_2': 0, 'fc_use_bn_1': True, 'weight_decay': 5.1371215343012255e-05, 'lr': 6.078725173725127e-05}. Best is trial 63 with value: 0.7071005917159763.\n"
     ]
    },
    {
     "name": "stderr",
     "output_type": "stream",
     "text": [
      "/Users/nickzhou/opt/anaconda3/envs/py3.11/lib/python3.11/site-packages/torch/nn/modules/rnn.py:83: UserWarning: dropout option adds dropout after all but last recurrent layer, so non-zero dropout expects num_layers greater than 1, but got dropout=0.41893548857486895 and num_layers=1\n",
      "  warnings.warn(\"dropout option adds dropout after all but last \"\n"
     ]
    },
    {
     "name": "stdout",
     "output_type": "stream",
     "text": [
      "[I 2024-03-08 03:29:16,102] Trial 83 pruned. \n",
      "[I 2024-03-08 03:33:56,181] Trial 84 finished with value: 0.6479289940828402 and parameters: {'num_cnn_layers': 4, 'cnn_use_bn': True, 'cnn_activation': 'ELU', 'cnn_dropout': 0.2525724650063997, 'cnn_kernel_size': 13, 'cnn_out_channels_0': 183, 'cnn_out_channels_1': 101, 'cnn_out_channels_2': 184, 'cnn_out_channels_3': 191, 'use_fc1': False, 'num_rnn_layers': 3, 'rnn_hidden_size': 87, 'rnn_dropout': 0.4457401533353988, 'num_fc_layers_2': 0, 'fc_use_bn_1': True, 'weight_decay': 2.5800396256302524e-05, 'lr': 4.2414357366543995e-05}. Best is trial 63 with value: 0.7071005917159763.\n",
      "[I 2024-03-08 03:34:24,938] Trial 85 pruned. \n",
      "[I 2024-03-08 03:35:53,570] Trial 86 pruned. \n"
     ]
    },
    {
     "name": "stderr",
     "output_type": "stream",
     "text": [
      "/Users/nickzhou/opt/anaconda3/envs/py3.11/lib/python3.11/site-packages/torch/nn/modules/rnn.py:83: UserWarning: dropout option adds dropout after all but last recurrent layer, so non-zero dropout expects num_layers greater than 1, but got dropout=0.44098605291490467 and num_layers=1\n",
      "  warnings.warn(\"dropout option adds dropout after all but last \"\n"
     ]
    },
    {
     "name": "stdout",
     "output_type": "stream",
     "text": [
      "[I 2024-03-08 03:37:08,927] Trial 87 pruned. \n",
      "[I 2024-03-08 03:37:33,299] Trial 88 pruned. \n",
      "[I 2024-03-08 03:38:18,691] Trial 89 pruned. \n",
      "[I 2024-03-08 03:41:31,044] Trial 90 pruned. \n",
      "[I 2024-03-08 03:42:13,122] Trial 91 pruned. \n",
      "[I 2024-03-08 03:42:44,347] Trial 92 pruned. \n",
      "[I 2024-03-08 03:48:54,658] Trial 93 finished with value: 0.6479289940828402 and parameters: {'num_cnn_layers': 4, 'cnn_use_bn': True, 'cnn_activation': 'ELU', 'cnn_dropout': 0.17197262366727734, 'cnn_kernel_size': 16, 'cnn_out_channels_0': 197, 'cnn_out_channels_1': 128, 'cnn_out_channels_2': 158, 'cnn_out_channels_3': 148, 'use_fc1': False, 'num_rnn_layers': 3, 'rnn_hidden_size': 262, 'rnn_dropout': 0.4134683113451011, 'num_fc_layers_2': 0, 'fc_use_bn_1': True, 'weight_decay': 4.216666543448165e-05, 'lr': 3.202178951598366e-05}. Best is trial 63 with value: 0.7071005917159763.\n",
      "[I 2024-03-08 03:49:28,660] Trial 94 pruned. \n",
      "[I 2024-03-08 03:50:53,578] Trial 95 pruned. \n",
      "[I 2024-03-08 03:53:36,134] Trial 96 pruned. \n",
      "[I 2024-03-08 03:54:10,639] Trial 97 pruned. \n",
      "[I 2024-03-08 03:54:50,948] Trial 98 pruned. \n",
      "[I 2024-03-08 03:55:16,841] Trial 99 pruned. \n",
      "[I 2024-03-08 03:58:56,897] Trial 100 finished with value: 0.6272189349112426 and parameters: {'num_cnn_layers': 4, 'cnn_use_bn': True, 'cnn_activation': 'ELU', 'cnn_dropout': 0.18590964804239302, 'cnn_kernel_size': 14, 'cnn_out_channels_0': 187, 'cnn_out_channels_1': 119, 'cnn_out_channels_2': 131, 'cnn_out_channels_3': 154, 'use_fc1': False, 'num_rnn_layers': 3, 'rnn_hidden_size': 257, 'rnn_dropout': 0.46843954636016844, 'num_fc_layers_2': 0, 'fc_use_bn_1': True, 'weight_decay': 0.0008362523787334938, 'lr': 7.059248230922118e-05}. Best is trial 63 with value: 0.7071005917159763.\n",
      "[I 2024-03-08 04:00:10,106] Trial 101 pruned. \n",
      "[I 2024-03-08 04:03:31,458] Trial 102 finished with value: 0.6094674556213018 and parameters: {'num_cnn_layers': 4, 'cnn_use_bn': True, 'cnn_activation': 'ELU', 'cnn_dropout': 0.26361344805293524, 'cnn_kernel_size': 15, 'cnn_out_channels_0': 192, 'cnn_out_channels_1': 55, 'cnn_out_channels_2': 149, 'cnn_out_channels_3': 141, 'use_fc1': False, 'num_rnn_layers': 3, 'rnn_hidden_size': 208, 'rnn_dropout': 0.4312610417346509, 'num_fc_layers_2': 0, 'fc_use_bn_1': True, 'weight_decay': 4.246402402943165e-05, 'lr': 5.401402333848728e-05}. Best is trial 63 with value: 0.7071005917159763.\n",
      "[I 2024-03-08 04:07:00,779] Trial 103 pruned. \n",
      "[I 2024-03-08 04:07:37,057] Trial 104 pruned. \n",
      "[I 2024-03-08 04:10:26,775] Trial 105 pruned. \n",
      "[I 2024-03-08 04:13:52,909] Trial 106 finished with value: 0.6568047337278107 and parameters: {'num_cnn_layers': 4, 'cnn_use_bn': True, 'cnn_activation': 'ELU', 'cnn_dropout': 0.19645592715075444, 'cnn_kernel_size': 12, 'cnn_out_channels_0': 168, 'cnn_out_channels_1': 127, 'cnn_out_channels_2': 200, 'cnn_out_channels_3': 171, 'use_fc1': False, 'num_rnn_layers': 3, 'rnn_hidden_size': 68, 'rnn_dropout': 0.4979501305957047, 'num_fc_layers_2': 1, 'fc_use_bn_1': True, 'fc_out_features_1_0': 707, 'fc_dropout_1_0': 0.33879791694682687, 'weight_decay': 1.3345993099917433e-05, 'lr': 0.00010863745715583128}. Best is trial 63 with value: 0.7071005917159763.\n",
      "[I 2024-03-08 04:14:38,166] Trial 107 pruned. \n",
      "[I 2024-03-08 04:15:11,275] Trial 108 pruned. \n"
     ]
    },
    {
     "name": "stderr",
     "output_type": "stream",
     "text": [
      "/Users/nickzhou/opt/anaconda3/envs/py3.11/lib/python3.11/site-packages/torch/nn/modules/rnn.py:83: UserWarning: dropout option adds dropout after all but last recurrent layer, so non-zero dropout expects num_layers greater than 1, but got dropout=0.47498842720653034 and num_layers=1\n",
      "  warnings.warn(\"dropout option adds dropout after all but last \"\n"
     ]
    },
    {
     "name": "stdout",
     "output_type": "stream",
     "text": [
      "[I 2024-03-08 04:16:12,522] Trial 109 pruned. \n",
      "[I 2024-03-08 04:16:58,961] Trial 110 pruned. \n",
      "[I 2024-03-08 04:18:14,879] Trial 111 pruned. \n",
      "[I 2024-03-08 04:19:48,366] Trial 112 pruned. \n",
      "[I 2024-03-08 04:23:59,375] Trial 113 finished with value: 0.6124260355029586 and parameters: {'num_cnn_layers': 4, 'cnn_use_bn': True, 'cnn_activation': 'ELU', 'cnn_dropout': 0.15824296628739848, 'cnn_kernel_size': 13, 'cnn_out_channels_0': 194, 'cnn_out_channels_1': 79, 'cnn_out_channels_2': 171, 'cnn_out_channels_3': 138, 'use_fc1': False, 'num_rnn_layers': 3, 'rnn_hidden_size': 277, 'rnn_dropout': 0.44899655759106594, 'num_fc_layers_2': 0, 'fc_use_bn_1': True, 'weight_decay': 5.5211067259850335e-05, 'lr': 0.0001361339226866419}. Best is trial 63 with value: 0.7071005917159763.\n",
      "[I 2024-03-08 04:24:41,834] Trial 114 pruned. \n",
      "[I 2024-03-08 04:26:07,847] Trial 115 pruned. \n",
      "[I 2024-03-08 04:26:52,661] Trial 116 pruned. \n",
      "[I 2024-03-08 04:30:17,294] Trial 117 finished with value: 0.6686390532544378 and parameters: {'num_cnn_layers': 5, 'cnn_use_bn': True, 'cnn_activation': 'ReLU', 'cnn_dropout': 0.14729195118497931, 'cnn_kernel_size': 15, 'cnn_out_channels_0': 190, 'cnn_out_channels_1': 44, 'cnn_out_channels_2': 155, 'cnn_out_channels_3': 158, 'cnn_out_channels_4': 198, 'use_fc1': False, 'num_rnn_layers': 2, 'rnn_hidden_size': 102, 'rnn_dropout': 0.4767506737166745, 'num_fc_layers_2': 1, 'fc_use_bn_1': False, 'fc_out_features_1_0': 883, 'fc_dropout_1_0': 0.40148760431884406, 'weight_decay': 4.595727074019773e-05, 'lr': 6.573793341486349e-05}. Best is trial 63 with value: 0.7071005917159763.\n",
      "[I 2024-03-08 04:30:56,617] Trial 118 pruned. \n",
      "[I 2024-03-08 04:31:44,676] Trial 119 pruned. \n",
      "[I 2024-03-08 04:32:29,330] Trial 120 pruned. \n"
     ]
    },
    {
     "name": "stderr",
     "output_type": "stream",
     "text": [
      "/Users/nickzhou/opt/anaconda3/envs/py3.11/lib/python3.11/site-packages/torch/nn/modules/rnn.py:83: UserWarning: dropout option adds dropout after all but last recurrent layer, so non-zero dropout expects num_layers greater than 1, but got dropout=0.49967191965111146 and num_layers=1\n",
      "  warnings.warn(\"dropout option adds dropout after all but last \"\n"
     ]
    },
    {
     "name": "stdout",
     "output_type": "stream",
     "text": [
      "[I 2024-03-08 04:34:40,348] Trial 121 finished with value: 0.6390532544378699 and parameters: {'num_cnn_layers': 4, 'cnn_use_bn': True, 'cnn_activation': 'ReLU', 'cnn_dropout': 0.14419693074336304, 'cnn_kernel_size': 13, 'cnn_out_channels_0': 196, 'cnn_out_channels_1': 71, 'cnn_out_channels_2': 153, 'cnn_out_channels_3': 164, 'use_fc1': False, 'num_rnn_layers': 1, 'rnn_hidden_size': 101, 'rnn_dropout': 0.49967191965111146, 'num_fc_layers_2': 1, 'fc_use_bn_1': False, 'fc_out_features_1_0': 450, 'fc_dropout_1_0': 0.23561446944111542, 'weight_decay': 3.3295540373976365e-05, 'lr': 9.712506841753594e-05}. Best is trial 63 with value: 0.7071005917159763.\n"
     ]
    },
    {
     "name": "stderr",
     "output_type": "stream",
     "text": [
      "/Users/nickzhou/opt/anaconda3/envs/py3.11/lib/python3.11/site-packages/torch/nn/modules/rnn.py:83: UserWarning: dropout option adds dropout after all but last recurrent layer, so non-zero dropout expects num_layers greater than 1, but got dropout=0.48585180516786314 and num_layers=1\n",
      "  warnings.warn(\"dropout option adds dropout after all but last \"\n"
     ]
    },
    {
     "name": "stdout",
     "output_type": "stream",
     "text": [
      "[I 2024-03-08 04:35:29,145] Trial 122 pruned. \n"
     ]
    },
    {
     "name": "stderr",
     "output_type": "stream",
     "text": [
      "/Users/nickzhou/opt/anaconda3/envs/py3.11/lib/python3.11/site-packages/torch/nn/modules/rnn.py:83: UserWarning: dropout option adds dropout after all but last recurrent layer, so non-zero dropout expects num_layers greater than 1, but got dropout=0.4981383833793616 and num_layers=1\n",
      "  warnings.warn(\"dropout option adds dropout after all but last \"\n"
     ]
    },
    {
     "name": "stdout",
     "output_type": "stream",
     "text": [
      "[I 2024-03-08 04:37:44,613] Trial 123 finished with value: 0.6627218934911243 and parameters: {'num_cnn_layers': 4, 'cnn_use_bn': True, 'cnn_activation': 'ReLU', 'cnn_dropout': 0.1499332128598449, 'cnn_kernel_size': 13, 'cnn_out_channels_0': 180, 'cnn_out_channels_1': 117, 'cnn_out_channels_2': 154, 'cnn_out_channels_3': 168, 'use_fc1': False, 'num_rnn_layers': 1, 'rnn_hidden_size': 54, 'rnn_dropout': 0.4981383833793616, 'num_fc_layers_2': 1, 'fc_use_bn_1': False, 'fc_out_features_1_0': 465, 'fc_dropout_1_0': 0.29690092759555176, 'weight_decay': 1.8801970390894e-05, 'lr': 9.977217589749152e-05}. Best is trial 63 with value: 0.7071005917159763.\n"
     ]
    },
    {
     "name": "stderr",
     "output_type": "stream",
     "text": [
      "/Users/nickzhou/opt/anaconda3/envs/py3.11/lib/python3.11/site-packages/torch/nn/modules/rnn.py:83: UserWarning: dropout option adds dropout after all but last recurrent layer, so non-zero dropout expects num_layers greater than 1, but got dropout=0.463313386834745 and num_layers=1\n",
      "  warnings.warn(\"dropout option adds dropout after all but last \"\n"
     ]
    },
    {
     "name": "stdout",
     "output_type": "stream",
     "text": [
      "[I 2024-03-08 04:39:52,879] Trial 124 finished with value: 0.650887573964497 and parameters: {'num_cnn_layers': 5, 'cnn_use_bn': True, 'cnn_activation': 'ReLU', 'cnn_dropout': 0.12927312079678588, 'cnn_kernel_size': 15, 'cnn_out_channels_0': 179, 'cnn_out_channels_1': 118, 'cnn_out_channels_2': 164, 'cnn_out_channels_3': 170, 'cnn_out_channels_4': 198, 'use_fc1': False, 'num_rnn_layers': 1, 'rnn_hidden_size': 60, 'rnn_dropout': 0.463313386834745, 'num_fc_layers_2': 1, 'fc_use_bn_1': False, 'fc_out_features_1_0': 511, 'fc_dropout_1_0': 0.2993140823849176, 'weight_decay': 1.91649924753827e-05, 'lr': 6.415172245767875e-05}. Best is trial 63 with value: 0.7071005917159763.\n"
     ]
    },
    {
     "name": "stderr",
     "output_type": "stream",
     "text": [
      "/Users/nickzhou/opt/anaconda3/envs/py3.11/lib/python3.11/site-packages/torch/nn/modules/rnn.py:83: UserWarning: dropout option adds dropout after all but last recurrent layer, so non-zero dropout expects num_layers greater than 1, but got dropout=0.17456092582554755 and num_layers=1\n",
      "  warnings.warn(\"dropout option adds dropout after all but last \"\n"
     ]
    },
    {
     "name": "stdout",
     "output_type": "stream",
     "text": [
      "[I 2024-03-08 04:41:41,858] Trial 125 finished with value: 0.5887573964497042 and parameters: {'num_cnn_layers': 6, 'cnn_use_bn': True, 'cnn_activation': 'ReLU', 'cnn_dropout': 0.10440277261157162, 'cnn_kernel_size': 15, 'cnn_out_channels_0': 180, 'cnn_out_channels_1': 23, 'cnn_out_channels_2': 167, 'cnn_out_channels_3': 195, 'cnn_out_channels_4': 198, 'cnn_out_channels_5': 138, 'use_fc1': False, 'num_rnn_layers': 1, 'rnn_hidden_size': 41, 'rnn_dropout': 0.17456092582554755, 'num_fc_layers_2': 1, 'fc_use_bn_1': False, 'fc_out_features_1_0': 516, 'fc_dropout_1_0': 0.3028059362265714, 'weight_decay': 1.4323881188825275e-05, 'lr': 0.00011823136210836554}. Best is trial 63 with value: 0.7071005917159763.\n",
      "[I 2024-03-08 04:42:51,076] Trial 126 pruned. \n"
     ]
    },
    {
     "name": "stderr",
     "output_type": "stream",
     "text": [
      "/Users/nickzhou/opt/anaconda3/envs/py3.11/lib/python3.11/site-packages/torch/nn/modules/rnn.py:83: UserWarning: dropout option adds dropout after all but last recurrent layer, so non-zero dropout expects num_layers greater than 1, but got dropout=0.48965471212475115 and num_layers=1\n",
      "  warnings.warn(\"dropout option adds dropout after all but last \"\n"
     ]
    },
    {
     "name": "stdout",
     "output_type": "stream",
     "text": [
      "[I 2024-03-08 04:45:29,959] Trial 127 finished with value: 0.6715976331360947 and parameters: {'num_cnn_layers': 5, 'cnn_use_bn': True, 'cnn_activation': 'ReLU', 'cnn_dropout': 0.15377672143505478, 'cnn_kernel_size': 15, 'cnn_out_channels_0': 165, 'cnn_out_channels_1': 109, 'cnn_out_channels_2': 145, 'cnn_out_channels_3': 181, 'cnn_out_channels_4': 156, 'use_fc1': False, 'num_rnn_layers': 1, 'rnn_hidden_size': 69, 'rnn_dropout': 0.48965471212475115, 'num_fc_layers_2': 1, 'fc_use_bn_1': False, 'fc_out_features_1_0': 381, 'fc_dropout_1_0': 0.3305221971389803, 'weight_decay': 0.0005166819627470478, 'lr': 7.801504995356977e-05}. Best is trial 63 with value: 0.7071005917159763.\n"
     ]
    },
    {
     "name": "stderr",
     "output_type": "stream",
     "text": [
      "/Users/nickzhou/opt/anaconda3/envs/py3.11/lib/python3.11/site-packages/torch/nn/modules/rnn.py:83: UserWarning: dropout option adds dropout after all but last recurrent layer, so non-zero dropout expects num_layers greater than 1, but got dropout=0.48971051655338654 and num_layers=1\n",
      "  warnings.warn(\"dropout option adds dropout after all but last \"\n"
     ]
    },
    {
     "name": "stdout",
     "output_type": "stream",
     "text": [
      "[I 2024-03-08 04:47:46,623] Trial 128 finished with value: 0.6272189349112426 and parameters: {'num_cnn_layers': 5, 'cnn_use_bn': True, 'cnn_activation': 'ReLU', 'cnn_dropout': 0.12166443849912614, 'cnn_kernel_size': 15, 'cnn_out_channels_0': 165, 'cnn_out_channels_1': 107, 'cnn_out_channels_2': 77, 'cnn_out_channels_3': 182, 'cnn_out_channels_4': 165, 'use_fc1': False, 'num_rnn_layers': 1, 'rnn_hidden_size': 31, 'rnn_dropout': 0.48971051655338654, 'num_fc_layers_2': 1, 'fc_use_bn_1': False, 'fc_out_features_1_0': 389, 'fc_dropout_1_0': 0.32575502220335645, 'weight_decay': 0.0005521004447678681, 'lr': 7.917625895723662e-05}. Best is trial 63 with value: 0.7071005917159763.\n"
     ]
    },
    {
     "name": "stderr",
     "output_type": "stream",
     "text": [
      "/Users/nickzhou/opt/anaconda3/envs/py3.11/lib/python3.11/site-packages/torch/nn/modules/rnn.py:83: UserWarning: dropout option adds dropout after all but last recurrent layer, so non-zero dropout expects num_layers greater than 1, but got dropout=0.4663004488103015 and num_layers=1\n",
      "  warnings.warn(\"dropout option adds dropout after all but last \"\n"
     ]
    },
    {
     "name": "stdout",
     "output_type": "stream",
     "text": [
      "[I 2024-03-08 04:48:40,849] Trial 129 pruned. \n"
     ]
    },
    {
     "name": "stderr",
     "output_type": "stream",
     "text": [
      "/Users/nickzhou/opt/anaconda3/envs/py3.11/lib/python3.11/site-packages/torch/nn/modules/rnn.py:83: UserWarning: dropout option adds dropout after all but last recurrent layer, so non-zero dropout expects num_layers greater than 1, but got dropout=0.4833733793889327 and num_layers=1\n",
      "  warnings.warn(\"dropout option adds dropout after all but last \"\n"
     ]
    },
    {
     "name": "stdout",
     "output_type": "stream",
     "text": [
      "[I 2024-03-08 04:50:23,128] Trial 130 finished with value: 0.6035502958579881 and parameters: {'num_cnn_layers': 5, 'cnn_use_bn': True, 'cnn_activation': 'ReLU', 'cnn_dropout': 0.0003421556693784522, 'cnn_kernel_size': 15, 'cnn_out_channels_0': 178, 'cnn_out_channels_1': 133, 'cnn_out_channels_2': 158, 'cnn_out_channels_3': 176, 'cnn_out_channels_4': 169, 'use_fc1': False, 'num_rnn_layers': 1, 'rnn_hidden_size': 68, 'rnn_dropout': 0.4833733793889327, 'num_fc_layers_2': 1, 'fc_use_bn_1': False, 'fc_out_features_1_0': 468, 'fc_dropout_1_0': 0.29390245858436104, 'weight_decay': 2.3617267961984105e-05, 'lr': 6.098310920555789e-05}. Best is trial 63 with value: 0.7071005917159763.\n"
     ]
    },
    {
     "name": "stderr",
     "output_type": "stream",
     "text": [
      "/Users/nickzhou/opt/anaconda3/envs/py3.11/lib/python3.11/site-packages/torch/nn/modules/rnn.py:83: UserWarning: dropout option adds dropout after all but last recurrent layer, so non-zero dropout expects num_layers greater than 1, but got dropout=0.4997176017990562 and num_layers=1\n",
      "  warnings.warn(\"dropout option adds dropout after all but last \"\n"
     ]
    },
    {
     "name": "stdout",
     "output_type": "stream",
     "text": [
      "[I 2024-03-08 04:51:03,046] Trial 131 pruned. \n",
      "[I 2024-03-08 04:52:02,233] Trial 132 pruned. \n"
     ]
    },
    {
     "name": "stderr",
     "output_type": "stream",
     "text": [
      "/Users/nickzhou/opt/anaconda3/envs/py3.11/lib/python3.11/site-packages/torch/nn/modules/rnn.py:83: UserWarning: dropout option adds dropout after all but last recurrent layer, so non-zero dropout expects num_layers greater than 1, but got dropout=0.4743340672122834 and num_layers=1\n",
      "  warnings.warn(\"dropout option adds dropout after all but last \"\n"
     ]
    },
    {
     "name": "stdout",
     "output_type": "stream",
     "text": [
      "[I 2024-03-08 04:54:20,481] Trial 133 finished with value: 0.650887573964497 and parameters: {'num_cnn_layers': 5, 'cnn_use_bn': True, 'cnn_activation': 'ReLU', 'cnn_dropout': 0.1641048894237272, 'cnn_kernel_size': 14, 'cnn_out_channels_0': 191, 'cnn_out_channels_1': 114, 'cnn_out_channels_2': 50, 'cnn_out_channels_3': 181, 'cnn_out_channels_4': 199, 'use_fc1': False, 'num_rnn_layers': 1, 'rnn_hidden_size': 45, 'rnn_dropout': 0.4743340672122834, 'num_fc_layers_2': 1, 'fc_use_bn_1': False, 'fc_out_features_1_0': 505, 'fc_dropout_1_0': 0.2662260603372779, 'weight_decay': 1.6932245371770746e-05, 'lr': 0.00015575234641557062}. Best is trial 63 with value: 0.7071005917159763.\n"
     ]
    },
    {
     "name": "stderr",
     "output_type": "stream",
     "text": [
      "/Users/nickzhou/opt/anaconda3/envs/py3.11/lib/python3.11/site-packages/torch/nn/modules/rnn.py:83: UserWarning: dropout option adds dropout after all but last recurrent layer, so non-zero dropout expects num_layers greater than 1, but got dropout=0.4636719052590645 and num_layers=1\n",
      "  warnings.warn(\"dropout option adds dropout after all but last \"\n"
     ]
    },
    {
     "name": "stdout",
     "output_type": "stream",
     "text": [
      "[I 2024-03-08 04:56:34,449] Trial 134 finished with value: 0.6479289940828402 and parameters: {'num_cnn_layers': 5, 'cnn_use_bn': True, 'cnn_activation': 'ReLU', 'cnn_dropout': 0.15153267924198535, 'cnn_kernel_size': 14, 'cnn_out_channels_0': 174, 'cnn_out_channels_1': 113, 'cnn_out_channels_2': 39, 'cnn_out_channels_3': 180, 'cnn_out_channels_4': 185, 'use_fc1': False, 'num_rnn_layers': 1, 'rnn_hidden_size': 70, 'rnn_dropout': 0.4636719052590645, 'num_fc_layers_2': 1, 'fc_use_bn_1': False, 'fc_out_features_1_0': 501, 'fc_dropout_1_0': 0.2759657916015408, 'weight_decay': 1.6697488615085515e-05, 'lr': 0.0001615462000267038}. Best is trial 63 with value: 0.7071005917159763.\n"
     ]
    },
    {
     "name": "stderr",
     "output_type": "stream",
     "text": [
      "/Users/nickzhou/opt/anaconda3/envs/py3.11/lib/python3.11/site-packages/torch/nn/modules/rnn.py:83: UserWarning: dropout option adds dropout after all but last recurrent layer, so non-zero dropout expects num_layers greater than 1, but got dropout=0.48109983198019923 and num_layers=1\n",
      "  warnings.warn(\"dropout option adds dropout after all but last \"\n"
     ]
    },
    {
     "name": "stdout",
     "output_type": "stream",
     "text": [
      "[I 2024-03-08 04:57:17,257] Trial 135 pruned. \n"
     ]
    },
    {
     "name": "stderr",
     "output_type": "stream",
     "text": [
      "/Users/nickzhou/opt/anaconda3/envs/py3.11/lib/python3.11/site-packages/torch/nn/modules/rnn.py:83: UserWarning: dropout option adds dropout after all but last recurrent layer, so non-zero dropout expects num_layers greater than 1, but got dropout=0.4697356690533919 and num_layers=1\n",
      "  warnings.warn(\"dropout option adds dropout after all but last \"\n"
     ]
    },
    {
     "name": "stdout",
     "output_type": "stream",
     "text": [
      "[I 2024-03-08 04:58:02,860] Trial 136 pruned. \n"
     ]
    },
    {
     "name": "stderr",
     "output_type": "stream",
     "text": [
      "/Users/nickzhou/opt/anaconda3/envs/py3.11/lib/python3.11/site-packages/torch/nn/modules/rnn.py:83: UserWarning: dropout option adds dropout after all but last recurrent layer, so non-zero dropout expects num_layers greater than 1, but got dropout=0.48755002419476623 and num_layers=1\n",
      "  warnings.warn(\"dropout option adds dropout after all but last \"\n"
     ]
    },
    {
     "name": "stdout",
     "output_type": "stream",
     "text": [
      "[I 2024-03-08 05:00:35,523] Trial 137 finished with value: 0.665680473372781 and parameters: {'num_cnn_layers': 5, 'cnn_use_bn': True, 'cnn_activation': 'ReLU', 'cnn_dropout': 0.13459212837569906, 'cnn_kernel_size': 13, 'cnn_out_channels_0': 186, 'cnn_out_channels_1': 115, 'cnn_out_channels_2': 48, 'cnn_out_channels_3': 68, 'cnn_out_channels_4': 187, 'use_fc1': False, 'num_rnn_layers': 1, 'rnn_hidden_size': 93, 'rnn_dropout': 0.48755002419476623, 'num_fc_layers_2': 1, 'fc_use_bn_1': False, 'fc_out_features_1_0': 580, 'fc_dropout_1_0': 0.32891200550053845, 'weight_decay': 2.0257708902534665e-05, 'lr': 9.089030483045857e-05}. Best is trial 63 with value: 0.7071005917159763.\n"
     ]
    },
    {
     "name": "stderr",
     "output_type": "stream",
     "text": [
      "/Users/nickzhou/opt/anaconda3/envs/py3.11/lib/python3.11/site-packages/torch/nn/modules/rnn.py:83: UserWarning: dropout option adds dropout after all but last recurrent layer, so non-zero dropout expects num_layers greater than 1, but got dropout=0.49417428015875214 and num_layers=1\n",
      "  warnings.warn(\"dropout option adds dropout after all but last \"\n"
     ]
    },
    {
     "name": "stdout",
     "output_type": "stream",
     "text": [
      "[I 2024-03-08 05:04:33,503] Trial 138 finished with value: 0.6124260355029586 and parameters: {'num_cnn_layers': 5, 'cnn_use_bn': True, 'cnn_activation': 'ReLU', 'cnn_dropout': 0.0932455486417223, 'cnn_kernel_size': 15, 'cnn_out_channels_0': 188, 'cnn_out_channels_1': 97, 'cnn_out_channels_2': 43, 'cnn_out_channels_3': 72, 'cnn_out_channels_4': 200, 'use_fc1': False, 'num_rnn_layers': 1, 'rnn_hidden_size': 475, 'rnn_dropout': 0.49417428015875214, 'num_fc_layers_2': 1, 'fc_use_bn_1': False, 'fc_out_features_1_0': 583, 'fc_dropout_1_0': 0.33663013682320736, 'weight_decay': 0.0007292502367116362, 'lr': 0.00034501022243051284}. Best is trial 63 with value: 0.7071005917159763.\n"
     ]
    },
    {
     "name": "stderr",
     "output_type": "stream",
     "text": [
      "/Users/nickzhou/opt/anaconda3/envs/py3.11/lib/python3.11/site-packages/torch/nn/modules/rnn.py:83: UserWarning: dropout option adds dropout after all but last recurrent layer, so non-zero dropout expects num_layers greater than 1, but got dropout=0.10661533712784388 and num_layers=1\n",
      "  warnings.warn(\"dropout option adds dropout after all but last \"\n"
     ]
    },
    {
     "name": "stdout",
     "output_type": "stream",
     "text": [
      "[I 2024-03-08 05:06:29,035] Trial 139 finished with value: 0.6686390532544378 and parameters: {'num_cnn_layers': 5, 'cnn_use_bn': True, 'cnn_activation': 'ReLU', 'cnn_dropout': 0.07254862794829961, 'cnn_kernel_size': 12, 'cnn_out_channels_0': 161, 'cnn_out_channels_1': 122, 'cnn_out_channels_2': 48, 'cnn_out_channels_3': 63, 'cnn_out_channels_4': 188, 'use_fc1': False, 'num_rnn_layers': 1, 'rnn_hidden_size': 49, 'rnn_dropout': 0.10661533712784388, 'num_fc_layers_2': 1, 'fc_use_bn_1': False, 'fc_out_features_1_0': 670, 'fc_dropout_1_0': 0.26652825893125315, 'weight_decay': 1.6858774667236964e-05, 'lr': 0.00014763147754684252}. Best is trial 63 with value: 0.7071005917159763.\n"
     ]
    },
    {
     "name": "stderr",
     "output_type": "stream",
     "text": [
      "/Users/nickzhou/opt/anaconda3/envs/py3.11/lib/python3.11/site-packages/torch/nn/modules/rnn.py:83: UserWarning: dropout option adds dropout after all but last recurrent layer, so non-zero dropout expects num_layers greater than 1, but got dropout=0.12300724927453166 and num_layers=1\n",
      "  warnings.warn(\"dropout option adds dropout after all but last \"\n"
     ]
    },
    {
     "name": "stdout",
     "output_type": "stream",
     "text": [
      "[I 2024-03-08 05:07:53,490] Trial 140 finished with value: 0.6124260355029586 and parameters: {'num_cnn_layers': 5, 'cnn_use_bn': True, 'cnn_activation': 'ReLU', 'cnn_dropout': 0.0292405711479745, 'cnn_kernel_size': 12, 'cnn_out_channels_0': 161, 'cnn_out_channels_1': 116, 'cnn_out_channels_2': 34, 'cnn_out_channels_3': 55, 'cnn_out_channels_4': 187, 'use_fc1': False, 'num_rnn_layers': 1, 'rnn_hidden_size': 47, 'rnn_dropout': 0.12300724927453166, 'num_fc_layers_2': 1, 'fc_use_bn_1': False, 'fc_out_features_1_0': 670, 'fc_dropout_1_0': 0.2680971638196454, 'weight_decay': 1.9736853574976717e-05, 'lr': 9.164578270041259e-05}. Best is trial 63 with value: 0.7071005917159763.\n"
     ]
    },
    {
     "name": "stderr",
     "output_type": "stream",
     "text": [
      "/Users/nickzhou/opt/anaconda3/envs/py3.11/lib/python3.11/site-packages/torch/nn/modules/rnn.py:83: UserWarning: dropout option adds dropout after all but last recurrent layer, so non-zero dropout expects num_layers greater than 1, but got dropout=0.09963880557835635 and num_layers=1\n",
      "  warnings.warn(\"dropout option adds dropout after all but last \"\n"
     ]
    },
    {
     "name": "stdout",
     "output_type": "stream",
     "text": [
      "[I 2024-03-08 05:09:41,991] Trial 141 finished with value: 0.606508875739645 and parameters: {'num_cnn_layers': 5, 'cnn_use_bn': True, 'cnn_activation': 'ReLU', 'cnn_dropout': 0.07497707022780559, 'cnn_kernel_size': 11, 'cnn_out_channels_0': 157, 'cnn_out_channels_1': 124, 'cnn_out_channels_2': 46, 'cnn_out_channels_3': 72, 'cnn_out_channels_4': 191, 'use_fc1': False, 'num_rnn_layers': 1, 'rnn_hidden_size': 22, 'rnn_dropout': 0.09963880557835635, 'num_fc_layers_2': 1, 'fc_use_bn_1': False, 'fc_out_features_1_0': 616, 'fc_dropout_1_0': 0.26276799426627373, 'weight_decay': 1.6164099340231323e-05, 'lr': 0.0001430510714840198}. Best is trial 63 with value: 0.7071005917159763.\n"
     ]
    },
    {
     "name": "stderr",
     "output_type": "stream",
     "text": [
      "/Users/nickzhou/opt/anaconda3/envs/py3.11/lib/python3.11/site-packages/torch/nn/modules/rnn.py:83: UserWarning: dropout option adds dropout after all but last recurrent layer, so non-zero dropout expects num_layers greater than 1, but got dropout=0.012549190963612844 and num_layers=1\n",
      "  warnings.warn(\"dropout option adds dropout after all but last \"\n"
     ]
    },
    {
     "name": "stdout",
     "output_type": "stream",
     "text": [
      "[I 2024-03-08 05:10:42,981] Trial 142 pruned. \n"
     ]
    },
    {
     "name": "stderr",
     "output_type": "stream",
     "text": [
      "/Users/nickzhou/opt/anaconda3/envs/py3.11/lib/python3.11/site-packages/torch/nn/modules/rnn.py:83: UserWarning: dropout option adds dropout after all but last recurrent layer, so non-zero dropout expects num_layers greater than 1, but got dropout=0.2955354699513378 and num_layers=1\n",
      "  warnings.warn(\"dropout option adds dropout after all but last \"\n"
     ]
    },
    {
     "name": "stdout",
     "output_type": "stream",
     "text": [
      "[I 2024-03-08 05:13:38,615] Trial 143 finished with value: 0.6715976331360947 and parameters: {'num_cnn_layers': 5, 'cnn_use_bn': True, 'cnn_activation': 'ReLU', 'cnn_dropout': 0.1275470642789009, 'cnn_kernel_size': 12, 'cnn_out_channels_0': 143, 'cnn_out_channels_1': 109, 'cnn_out_channels_2': 57, 'cnn_out_channels_3': 50, 'cnn_out_channels_4': 180, 'use_fc1': False, 'num_rnn_layers': 1, 'rnn_hidden_size': 75, 'rnn_dropout': 0.2955354699513378, 'num_fc_layers_2': 1, 'fc_use_bn_1': False, 'fc_out_features_1_0': 543, 'fc_dropout_1_0': 0.3249223649354884, 'weight_decay': 2.2238260988673208e-05, 'lr': 0.00015516813372993242}. Best is trial 63 with value: 0.7071005917159763.\n"
     ]
    },
    {
     "name": "stderr",
     "output_type": "stream",
     "text": [
      "/Users/nickzhou/opt/anaconda3/envs/py3.11/lib/python3.11/site-packages/torch/nn/modules/rnn.py:83: UserWarning: dropout option adds dropout after all but last recurrent layer, so non-zero dropout expects num_layers greater than 1, but got dropout=0.2705761549780512 and num_layers=1\n",
      "  warnings.warn(\"dropout option adds dropout after all but last \"\n"
     ]
    },
    {
     "name": "stdout",
     "output_type": "stream",
     "text": [
      "[I 2024-03-08 05:15:46,863] Trial 144 finished with value: 0.6952662721893491 and parameters: {'num_cnn_layers': 5, 'cnn_use_bn': True, 'cnn_activation': 'ReLU', 'cnn_dropout': 0.11669707632357323, 'cnn_kernel_size': 12, 'cnn_out_channels_0': 144, 'cnn_out_channels_1': 109, 'cnn_out_channels_2': 58, 'cnn_out_channels_3': 43, 'cnn_out_channels_4': 180, 'use_fc1': False, 'num_rnn_layers': 1, 'rnn_hidden_size': 73, 'rnn_dropout': 0.2705761549780512, 'num_fc_layers_2': 1, 'fc_use_bn_1': False, 'fc_out_features_1_0': 553, 'fc_dropout_1_0': 0.3195558879721017, 'weight_decay': 2.006583688216198e-05, 'lr': 0.0001976172703783212}. Best is trial 63 with value: 0.7071005917159763.\n"
     ]
    },
    {
     "name": "stderr",
     "output_type": "stream",
     "text": [
      "/Users/nickzhou/opt/anaconda3/envs/py3.11/lib/python3.11/site-packages/torch/nn/modules/rnn.py:83: UserWarning: dropout option adds dropout after all but last recurrent layer, so non-zero dropout expects num_layers greater than 1, but got dropout=0.28399698119415845 and num_layers=1\n",
      "  warnings.warn(\"dropout option adds dropout after all but last \"\n"
     ]
    },
    {
     "name": "stdout",
     "output_type": "stream",
     "text": [
      "[I 2024-03-08 05:17:28,378] Trial 145 finished with value: 0.6272189349112426 and parameters: {'num_cnn_layers': 5, 'cnn_use_bn': True, 'cnn_activation': 'ReLU', 'cnn_dropout': 0.12197514079304049, 'cnn_kernel_size': 12, 'cnn_out_channels_0': 137, 'cnn_out_channels_1': 106, 'cnn_out_channels_2': 58, 'cnn_out_channels_3': 40, 'cnn_out_channels_4': 178, 'use_fc1': False, 'num_rnn_layers': 1, 'rnn_hidden_size': 79, 'rnn_dropout': 0.28399698119415845, 'num_fc_layers_2': 1, 'fc_use_bn_1': False, 'fc_out_features_1_0': 652, 'fc_dropout_1_0': 0.3224200801789588, 'weight_decay': 2.1252786331651965e-05, 'lr': 0.00020105697985893284}. Best is trial 63 with value: 0.7071005917159763.\n"
     ]
    },
    {
     "name": "stderr",
     "output_type": "stream",
     "text": [
      "/Users/nickzhou/opt/anaconda3/envs/py3.11/lib/python3.11/site-packages/torch/nn/modules/rnn.py:83: UserWarning: dropout option adds dropout after all but last recurrent layer, so non-zero dropout expects num_layers greater than 1, but got dropout=0.2096616318754192 and num_layers=1\n",
      "  warnings.warn(\"dropout option adds dropout after all but last \"\n"
     ]
    },
    {
     "name": "stdout",
     "output_type": "stream",
     "text": [
      "[I 2024-03-08 05:19:20,108] Trial 146 finished with value: 0.621301775147929 and parameters: {'num_cnn_layers': 6, 'cnn_use_bn': True, 'cnn_activation': 'ReLU', 'cnn_dropout': 0.13088638866304947, 'cnn_kernel_size': 12, 'cnn_out_channels_0': 143, 'cnn_out_channels_1': 120, 'cnn_out_channels_2': 61, 'cnn_out_channels_3': 35, 'cnn_out_channels_4': 154, 'cnn_out_channels_5': 137, 'use_fc1': False, 'num_rnn_layers': 1, 'rnn_hidden_size': 93, 'rnn_dropout': 0.2096616318754192, 'num_fc_layers_2': 1, 'fc_use_bn_1': False, 'fc_out_features_1_0': 564, 'fc_dropout_1_0': 0.35450863954452977, 'weight_decay': 1.1775733495027127e-05, 'lr': 0.00010667343681029048}. Best is trial 63 with value: 0.7071005917159763.\n"
     ]
    },
    {
     "name": "stderr",
     "output_type": "stream",
     "text": [
      "/Users/nickzhou/opt/anaconda3/envs/py3.11/lib/python3.11/site-packages/torch/nn/modules/rnn.py:83: UserWarning: dropout option adds dropout after all but last recurrent layer, so non-zero dropout expects num_layers greater than 1, but got dropout=0.24420778987621988 and num_layers=1\n",
      "  warnings.warn(\"dropout option adds dropout after all but last \"\n"
     ]
    },
    {
     "name": "stdout",
     "output_type": "stream",
     "text": [
      "[I 2024-03-08 05:21:32,629] Trial 147 finished with value: 0.6597633136094675 and parameters: {'num_cnn_layers': 5, 'cnn_use_bn': True, 'cnn_activation': 'ReLU', 'cnn_dropout': 0.11611827790165452, 'cnn_kernel_size': 12, 'cnn_out_channels_0': 150, 'cnn_out_channels_1': 109, 'cnn_out_channels_2': 46, 'cnn_out_channels_3': 53, 'cnn_out_channels_4': 170, 'use_fc1': False, 'num_rnn_layers': 1, 'rnn_hidden_size': 68, 'rnn_dropout': 0.24420778987621988, 'num_fc_layers_2': 1, 'fc_use_bn_1': False, 'fc_out_features_1_0': 532, 'fc_dropout_1_0': 0.3340662456910443, 'weight_decay': 2.7220669454110914e-05, 'lr': 0.000166899097111718}. Best is trial 63 with value: 0.7071005917159763.\n"
     ]
    },
    {
     "name": "stderr",
     "output_type": "stream",
     "text": [
      "/Users/nickzhou/opt/anaconda3/envs/py3.11/lib/python3.11/site-packages/torch/nn/modules/rnn.py:83: UserWarning: dropout option adds dropout after all but last recurrent layer, so non-zero dropout expects num_layers greater than 1, but got dropout=0.25272754740701886 and num_layers=1\n",
      "  warnings.warn(\"dropout option adds dropout after all but last \"\n"
     ]
    },
    {
     "name": "stdout",
     "output_type": "stream",
     "text": [
      "[I 2024-03-08 05:23:21,578] Trial 148 finished with value: 0.6449704142011834 and parameters: {'num_cnn_layers': 5, 'cnn_use_bn': True, 'cnn_activation': 'ReLU', 'cnn_dropout': 0.0734856110893371, 'cnn_kernel_size': 11, 'cnn_out_channels_0': 146, 'cnn_out_channels_1': 109, 'cnn_out_channels_2': 68, 'cnn_out_channels_3': 52, 'cnn_out_channels_4': 171, 'use_fc1': False, 'num_rnn_layers': 1, 'rnn_hidden_size': 71, 'rnn_dropout': 0.25272754740701886, 'num_fc_layers_2': 1, 'fc_use_bn_1': False, 'fc_out_features_1_0': 539, 'fc_dropout_1_0': 0.33197639261734513, 'weight_decay': 2.641190947715813e-05, 'lr': 0.0002517355283818806}. Best is trial 63 with value: 0.7071005917159763.\n"
     ]
    },
    {
     "name": "stderr",
     "output_type": "stream",
     "text": [
      "/Users/nickzhou/opt/anaconda3/envs/py3.11/lib/python3.11/site-packages/torch/nn/modules/rnn.py:83: UserWarning: dropout option adds dropout after all but last recurrent layer, so non-zero dropout expects num_layers greater than 1, but got dropout=0.2651323860681119 and num_layers=1\n",
      "  warnings.warn(\"dropout option adds dropout after all but last \"\n"
     ]
    },
    {
     "name": "stdout",
     "output_type": "stream",
     "text": [
      "[I 2024-03-08 05:25:07,970] Trial 149 finished with value: 0.6242603550295858 and parameters: {'num_cnn_layers': 5, 'cnn_use_bn': True, 'cnn_activation': 'ReLU', 'cnn_dropout': 0.11193058338008458, 'cnn_kernel_size': 11, 'cnn_out_channels_0': 132, 'cnn_out_channels_1': 95, 'cnn_out_channels_2': 60, 'cnn_out_channels_3': 65, 'cnn_out_channels_4': 155, 'use_fc1': False, 'num_rnn_layers': 1, 'rnn_hidden_size': 86, 'rnn_dropout': 0.2651323860681119, 'num_fc_layers_2': 1, 'fc_use_bn_1': False, 'fc_out_features_1_0': 586, 'fc_dropout_1_0': 0.3468187707673324, 'weight_decay': 1.4243836785028237e-05, 'lr': 0.00017646722870005686}. Best is trial 63 with value: 0.7071005917159763.\n"
     ]
    },
    {
     "name": "stderr",
     "output_type": "stream",
     "text": [
      "/Users/nickzhou/opt/anaconda3/envs/py3.11/lib/python3.11/site-packages/torch/nn/modules/rnn.py:83: UserWarning: dropout option adds dropout after all but last recurrent layer, so non-zero dropout expects num_layers greater than 1, but got dropout=0.14532454877755352 and num_layers=1\n",
      "  warnings.warn(\"dropout option adds dropout after all but last \"\n"
     ]
    },
    {
     "name": "stdout",
     "output_type": "stream",
     "text": [
      "[I 2024-03-08 05:27:12,064] Trial 150 finished with value: 0.6627218934911243 and parameters: {'num_cnn_layers': 5, 'cnn_use_bn': True, 'cnn_activation': 'ReLU', 'cnn_dropout': 0.13385068820078247, 'cnn_kernel_size': 12, 'cnn_out_channels_0': 150, 'cnn_out_channels_1': 122, 'cnn_out_channels_2': 54, 'cnn_out_channels_3': 47, 'cnn_out_channels_4': 182, 'use_fc1': False, 'num_rnn_layers': 1, 'rnn_hidden_size': 61, 'rnn_dropout': 0.14532454877755352, 'num_fc_layers_2': 1, 'fc_use_bn_1': False, 'fc_out_features_1_0': 718, 'fc_dropout_1_0': 0.31177365332854035, 'weight_decay': 2.2467342800364236e-05, 'lr': 0.0001491783159893182}. Best is trial 63 with value: 0.7071005917159763.\n"
     ]
    },
    {
     "name": "stderr",
     "output_type": "stream",
     "text": [
      "/Users/nickzhou/opt/anaconda3/envs/py3.11/lib/python3.11/site-packages/torch/nn/modules/rnn.py:83: UserWarning: dropout option adds dropout after all but last recurrent layer, so non-zero dropout expects num_layers greater than 1, but got dropout=0.059765329696597785 and num_layers=1\n",
      "  warnings.warn(\"dropout option adds dropout after all but last \"\n"
     ]
    },
    {
     "name": "stdout",
     "output_type": "stream",
     "text": [
      "[I 2024-03-08 05:28:15,864] Trial 151 pruned. \n"
     ]
    },
    {
     "name": "stderr",
     "output_type": "stream",
     "text": [
      "/Users/nickzhou/opt/anaconda3/envs/py3.11/lib/python3.11/site-packages/torch/nn/modules/rnn.py:83: UserWarning: dropout option adds dropout after all but last recurrent layer, so non-zero dropout expects num_layers greater than 1, but got dropout=0.2945217758081387 and num_layers=1\n",
      "  warnings.warn(\"dropout option adds dropout after all but last \"\n"
     ]
    },
    {
     "name": "stdout",
     "output_type": "stream",
     "text": [
      "[I 2024-03-08 05:29:22,096] Trial 152 pruned. \n"
     ]
    },
    {
     "name": "stderr",
     "output_type": "stream",
     "text": [
      "/Users/nickzhou/opt/anaconda3/envs/py3.11/lib/python3.11/site-packages/torch/nn/modules/rnn.py:83: UserWarning: dropout option adds dropout after all but last recurrent layer, so non-zero dropout expects num_layers greater than 1, but got dropout=0.2279375488908725 and num_layers=1\n",
      "  warnings.warn(\"dropout option adds dropout after all but last \"\n"
     ]
    },
    {
     "name": "stdout",
     "output_type": "stream",
     "text": [
      "[I 2024-03-08 05:31:32,730] Trial 153 finished with value: 0.650887573964497 and parameters: {'num_cnn_layers': 5, 'cnn_use_bn': True, 'cnn_activation': 'ReLU', 'cnn_dropout': 0.11647597240678789, 'cnn_kernel_size': 13, 'cnn_out_channels_0': 154, 'cnn_out_channels_1': 110, 'cnn_out_channels_2': 51, 'cnn_out_channels_3': 44, 'cnn_out_channels_4': 182, 'use_fc1': False, 'num_rnn_layers': 1, 'rnn_hidden_size': 61, 'rnn_dropout': 0.2279375488908725, 'num_fc_layers_2': 1, 'fc_use_bn_1': False, 'fc_out_features_1_0': 620, 'fc_dropout_1_0': 0.3725780897991358, 'weight_decay': 2.872155164456588e-05, 'lr': 0.00016120787440902646}. Best is trial 63 with value: 0.7071005917159763.\n"
     ]
    },
    {
     "name": "stderr",
     "output_type": "stream",
     "text": [
      "/Users/nickzhou/opt/anaconda3/envs/py3.11/lib/python3.11/site-packages/torch/nn/modules/rnn.py:83: UserWarning: dropout option adds dropout after all but last recurrent layer, so non-zero dropout expects num_layers greater than 1, but got dropout=0.10265112818168053 and num_layers=1\n",
      "  warnings.warn(\"dropout option adds dropout after all but last \"\n"
     ]
    },
    {
     "name": "stdout",
     "output_type": "stream",
     "text": [
      "[I 2024-03-08 05:32:41,536] Trial 154 pruned. \n"
     ]
    },
    {
     "name": "stderr",
     "output_type": "stream",
     "text": [
      "/Users/nickzhou/opt/anaconda3/envs/py3.11/lib/python3.11/site-packages/torch/nn/modules/rnn.py:83: UserWarning: dropout option adds dropout after all but last recurrent layer, so non-zero dropout expects num_layers greater than 1, but got dropout=0.27877109088464247 and num_layers=1\n",
      "  warnings.warn(\"dropout option adds dropout after all but last \"\n"
     ]
    },
    {
     "name": "stdout",
     "output_type": "stream",
     "text": [
      "[I 2024-03-08 05:33:57,536] Trial 155 pruned. \n"
     ]
    },
    {
     "name": "stderr",
     "output_type": "stream",
     "text": [
      "/Users/nickzhou/opt/anaconda3/envs/py3.11/lib/python3.11/site-packages/torch/nn/modules/rnn.py:83: UserWarning: dropout option adds dropout after all but last recurrent layer, so non-zero dropout expects num_layers greater than 1, but got dropout=0.31643541979888534 and num_layers=1\n",
      "  warnings.warn(\"dropout option adds dropout after all but last \"\n"
     ]
    },
    {
     "name": "stdout",
     "output_type": "stream",
     "text": [
      "[I 2024-03-08 05:35:59,994] Trial 156 finished with value: 0.6272189349112426 and parameters: {'num_cnn_layers': 5, 'cnn_use_bn': True, 'cnn_activation': 'ReLU', 'cnn_dropout': 0.0987587813839135, 'cnn_kernel_size': 11, 'cnn_out_channels_0': 144, 'cnn_out_channels_1': 100, 'cnn_out_channels_2': 35, 'cnn_out_channels_3': 79, 'cnn_out_channels_4': 160, 'use_fc1': False, 'num_rnn_layers': 1, 'rnn_hidden_size': 397, 'rnn_dropout': 0.31643541979888534, 'num_fc_layers_2': 1, 'fc_use_bn_1': False, 'fc_out_features_1_0': 365, 'fc_dropout_1_0': 0.3510008199962552, 'weight_decay': 0.00030301353802469785, 'lr': 0.00019522263380092127}. Best is trial 63 with value: 0.7071005917159763.\n",
      "[I 2024-03-08 05:36:47,819] Trial 157 pruned. \n"
     ]
    },
    {
     "name": "stderr",
     "output_type": "stream",
     "text": [
      "/Users/nickzhou/opt/anaconda3/envs/py3.11/lib/python3.11/site-packages/torch/nn/modules/rnn.py:83: UserWarning: dropout option adds dropout after all but last recurrent layer, so non-zero dropout expects num_layers greater than 1, but got dropout=0.15183372345748275 and num_layers=1\n",
      "  warnings.warn(\"dropout option adds dropout after all but last \"\n"
     ]
    },
    {
     "name": "stdout",
     "output_type": "stream",
     "text": [
      "[I 2024-03-08 05:38:01,513] Trial 158 pruned. \n",
      "[I 2024-03-08 05:41:02,180] Trial 159 finished with value: 0.6301775147928994 and parameters: {'num_cnn_layers': 5, 'cnn_use_bn': True, 'cnn_activation': 'ReLU', 'cnn_dropout': 0.15414690867224076, 'cnn_kernel_size': 13, 'cnn_out_channels_0': 162, 'cnn_out_channels_1': 116, 'cnn_out_channels_2': 111, 'cnn_out_channels_3': 61, 'cnn_out_channels_4': 171, 'use_fc1': False, 'num_rnn_layers': 2, 'rnn_hidden_size': 253, 'rnn_dropout': 0.19737258284943537, 'num_fc_layers_2': 1, 'fc_use_bn_1': False, 'fc_out_features_1_0': 480, 'fc_dropout_1_0': 0.34136163010357207, 'weight_decay': 0.0001405815855706364, 'lr': 0.00010168171011322092}. Best is trial 63 with value: 0.7071005917159763.\n"
     ]
    },
    {
     "name": "stderr",
     "output_type": "stream",
     "text": [
      "/Users/nickzhou/opt/anaconda3/envs/py3.11/lib/python3.11/site-packages/torch/nn/modules/rnn.py:83: UserWarning: dropout option adds dropout after all but last recurrent layer, so non-zero dropout expects num_layers greater than 1, but got dropout=0.24425692448103353 and num_layers=1\n",
      "  warnings.warn(\"dropout option adds dropout after all but last \"\n"
     ]
    },
    {
     "name": "stdout",
     "output_type": "stream",
     "text": [
      "[I 2024-03-08 05:41:39,886] Trial 160 pruned. \n"
     ]
    },
    {
     "name": "stderr",
     "output_type": "stream",
     "text": [
      "/Users/nickzhou/opt/anaconda3/envs/py3.11/lib/python3.11/site-packages/torch/nn/modules/rnn.py:83: UserWarning: dropout option adds dropout after all but last recurrent layer, so non-zero dropout expects num_layers greater than 1, but got dropout=0.11092291673830385 and num_layers=1\n",
      "  warnings.warn(\"dropout option adds dropout after all but last \"\n"
     ]
    },
    {
     "name": "stdout",
     "output_type": "stream",
     "text": [
      "[I 2024-03-08 05:44:00,794] Trial 161 finished with value: 0.6183431952662722 and parameters: {'num_cnn_layers': 5, 'cnn_use_bn': True, 'cnn_activation': 'ReLU', 'cnn_dropout': 0.13591858992670142, 'cnn_kernel_size': 11, 'cnn_out_channels_0': 169, 'cnn_out_channels_1': 110, 'cnn_out_channels_2': 139, 'cnn_out_channels_3': 27, 'cnn_out_channels_4': 180, 'use_fc1': False, 'num_rnn_layers': 1, 'rnn_hidden_size': 82, 'rnn_dropout': 0.11092291673830385, 'num_fc_layers_2': 1, 'fc_use_bn_1': False, 'fc_out_features_1_0': 689, 'fc_dropout_1_0': 0.2992881576600389, 'weight_decay': 2.0779684020985448e-05, 'lr': 9.316376569744234e-05}. Best is trial 63 with value: 0.7071005917159763.\n"
     ]
    },
    {
     "name": "stderr",
     "output_type": "stream",
     "text": [
      "/Users/nickzhou/opt/anaconda3/envs/py3.11/lib/python3.11/site-packages/torch/nn/modules/rnn.py:83: UserWarning: dropout option adds dropout after all but last recurrent layer, so non-zero dropout expects num_layers greater than 1, but got dropout=0.3371840899695774 and num_layers=1\n",
      "  warnings.warn(\"dropout option adds dropout after all but last \"\n"
     ]
    },
    {
     "name": "stdout",
     "output_type": "stream",
     "text": [
      "[I 2024-03-08 05:44:39,262] Trial 162 pruned. \n",
      "[I 2024-03-08 05:45:25,274] Trial 163 pruned. \n"
     ]
    },
    {
     "name": "stderr",
     "output_type": "stream",
     "text": [
      "/Users/nickzhou/opt/anaconda3/envs/py3.11/lib/python3.11/site-packages/torch/nn/modules/rnn.py:83: UserWarning: dropout option adds dropout after all but last recurrent layer, so non-zero dropout expects num_layers greater than 1, but got dropout=0.043455488145122956 and num_layers=1\n",
      "  warnings.warn(\"dropout option adds dropout after all but last \"\n"
     ]
    },
    {
     "name": "stdout",
     "output_type": "stream",
     "text": [
      "[I 2024-03-08 05:46:30,774] Trial 164 pruned. \n"
     ]
    },
    {
     "name": "stderr",
     "output_type": "stream",
     "text": [
      "/Users/nickzhou/opt/anaconda3/envs/py3.11/lib/python3.11/site-packages/torch/nn/modules/rnn.py:83: UserWarning: dropout option adds dropout after all but last recurrent layer, so non-zero dropout expects num_layers greater than 1, but got dropout=0.15691930392747191 and num_layers=1\n",
      "  warnings.warn(\"dropout option adds dropout after all but last \"\n"
     ]
    },
    {
     "name": "stdout",
     "output_type": "stream",
     "text": [
      "[I 2024-03-08 05:47:09,466] Trial 165 pruned. \n"
     ]
    },
    {
     "name": "stderr",
     "output_type": "stream",
     "text": [
      "/Users/nickzhou/opt/anaconda3/envs/py3.11/lib/python3.11/site-packages/torch/nn/modules/rnn.py:83: UserWarning: dropout option adds dropout after all but last recurrent layer, so non-zero dropout expects num_layers greater than 1, but got dropout=0.08700102190550757 and num_layers=1\n",
      "  warnings.warn(\"dropout option adds dropout after all but last \"\n"
     ]
    },
    {
     "name": "stdout",
     "output_type": "stream",
     "text": [
      "[I 2024-03-08 05:48:59,613] Trial 166 finished with value: 0.6420118343195266 and parameters: {'num_cnn_layers': 4, 'cnn_use_bn': True, 'cnn_activation': 'ReLU', 'cnn_dropout': 0.15522547590927657, 'cnn_kernel_size': 10, 'cnn_out_channels_0': 164, 'cnn_out_channels_1': 115, 'cnn_out_channels_2': 52, 'cnn_out_channels_3': 95, 'use_fc1': False, 'num_rnn_layers': 1, 'rnn_hidden_size': 102, 'rnn_dropout': 0.08700102190550757, 'num_fc_layers_2': 1, 'fc_use_bn_1': False, 'fc_out_features_1_0': 632, 'fc_dropout_1_0': 0.2890765229319733, 'weight_decay': 2.5242036546813725e-05, 'lr': 0.00010542523793722197}. Best is trial 63 with value: 0.7071005917159763.\n",
      "[I 2024-03-08 05:49:45,648] Trial 167 pruned. \n"
     ]
    },
    {
     "name": "stderr",
     "output_type": "stream",
     "text": [
      "/Users/nickzhou/opt/anaconda3/envs/py3.11/lib/python3.11/site-packages/torch/nn/modules/rnn.py:83: UserWarning: dropout option adds dropout after all but last recurrent layer, so non-zero dropout expects num_layers greater than 1, but got dropout=0.21070300570657902 and num_layers=1\n",
      "  warnings.warn(\"dropout option adds dropout after all but last \"\n"
     ]
    },
    {
     "name": "stdout",
     "output_type": "stream",
     "text": [
      "[I 2024-03-08 05:50:32,584] Trial 168 pruned. \n",
      "[I 2024-03-08 05:51:16,705] Trial 169 pruned. \n"
     ]
    },
    {
     "name": "stderr",
     "output_type": "stream",
     "text": [
      "/Users/nickzhou/opt/anaconda3/envs/py3.11/lib/python3.11/site-packages/torch/nn/modules/rnn.py:83: UserWarning: dropout option adds dropout after all but last recurrent layer, so non-zero dropout expects num_layers greater than 1, but got dropout=0.47912392398900516 and num_layers=1\n",
      "  warnings.warn(\"dropout option adds dropout after all but last \"\n"
     ]
    },
    {
     "name": "stdout",
     "output_type": "stream",
     "text": [
      "[I 2024-03-08 05:52:56,725] Trial 170 finished with value: 0.6094674556213018 and parameters: {'num_cnn_layers': 5, 'cnn_use_bn': True, 'cnn_activation': 'ReLU', 'cnn_dropout': 0.16969754200247275, 'cnn_kernel_size': 14, 'cnn_out_channels_0': 181, 'cnn_out_channels_1': 113, 'cnn_out_channels_2': 51, 'cnn_out_channels_3': 163, 'cnn_out_channels_4': 200, 'use_fc1': False, 'num_rnn_layers': 1, 'rnn_hidden_size': 47, 'rnn_dropout': 0.47912392398900516, 'num_fc_layers_2': 1, 'fc_use_bn_1': False, 'fc_out_features_1_0': 507, 'fc_dropout_1_0': 0.25881853977875274, 'weight_decay': 1.63145790087078e-05, 'lr': 0.00014169469343215888}. Best is trial 63 with value: 0.7071005917159763.\n"
     ]
    },
    {
     "name": "stderr",
     "output_type": "stream",
     "text": [
      "/Users/nickzhou/opt/anaconda3/envs/py3.11/lib/python3.11/site-packages/torch/nn/modules/rnn.py:83: UserWarning: dropout option adds dropout after all but last recurrent layer, so non-zero dropout expects num_layers greater than 1, but got dropout=0.1305710138928823 and num_layers=1\n",
      "  warnings.warn(\"dropout option adds dropout after all but last \"\n"
     ]
    },
    {
     "name": "stdout",
     "output_type": "stream",
     "text": [
      "[I 2024-03-08 05:53:41,483] Trial 171 pruned. \n"
     ]
    },
    {
     "name": "stderr",
     "output_type": "stream",
     "text": [
      "/Users/nickzhou/opt/anaconda3/envs/py3.11/lib/python3.11/site-packages/torch/nn/modules/rnn.py:83: UserWarning: dropout option adds dropout after all but last recurrent layer, so non-zero dropout expects num_layers greater than 1, but got dropout=0.4866258363659341 and num_layers=1\n",
      "  warnings.warn(\"dropout option adds dropout after all but last \"\n"
     ]
    },
    {
     "name": "stdout",
     "output_type": "stream",
     "text": [
      "[I 2024-03-08 05:57:17,571] Trial 172 finished with value: 0.6153846153846154 and parameters: {'num_cnn_layers': 5, 'cnn_use_bn': True, 'cnn_activation': 'ReLU', 'cnn_dropout': 0.13164072304905752, 'cnn_kernel_size': 13, 'cnn_out_channels_0': 192, 'cnn_out_channels_1': 117, 'cnn_out_channels_2': 49, 'cnn_out_channels_3': 112, 'cnn_out_channels_4': 182, 'use_fc1': False, 'num_rnn_layers': 1, 'rnn_hidden_size': 444, 'rnn_dropout': 0.4866258363659341, 'num_fc_layers_2': 1, 'fc_use_bn_1': False, 'fc_out_features_1_0': 492, 'fc_dropout_1_0': 0.2820065303979581, 'weight_decay': 2.1517406383641637e-05, 'lr': 0.0002313267097192422}. Best is trial 63 with value: 0.7071005917159763.\n"
     ]
    },
    {
     "name": "stderr",
     "output_type": "stream",
     "text": [
      "/Users/nickzhou/opt/anaconda3/envs/py3.11/lib/python3.11/site-packages/torch/nn/modules/rnn.py:83: UserWarning: dropout option adds dropout after all but last recurrent layer, so non-zero dropout expects num_layers greater than 1, but got dropout=0.30330744227495565 and num_layers=1\n",
      "  warnings.warn(\"dropout option adds dropout after all but last \"\n"
     ]
    },
    {
     "name": "stdout",
     "output_type": "stream",
     "text": [
      "[I 2024-03-08 05:58:00,848] Trial 173 pruned. \n",
      "[I 2024-03-08 05:58:45,364] Trial 174 pruned. \n"
     ]
    },
    {
     "name": "stderr",
     "output_type": "stream",
     "text": [
      "/Users/nickzhou/opt/anaconda3/envs/py3.11/lib/python3.11/site-packages/torch/nn/modules/rnn.py:83: UserWarning: dropout option adds dropout after all but last recurrent layer, so non-zero dropout expects num_layers greater than 1, but got dropout=0.499502498081135 and num_layers=1\n",
      "  warnings.warn(\"dropout option adds dropout after all but last \"\n"
     ]
    },
    {
     "name": "stdout",
     "output_type": "stream",
     "text": [
      "[I 2024-03-08 06:01:01,881] Trial 175 pruned. \n",
      "[I 2024-03-08 06:02:02,543] Trial 176 pruned. \n"
     ]
    },
    {
     "name": "stderr",
     "output_type": "stream",
     "text": [
      "/Users/nickzhou/opt/anaconda3/envs/py3.11/lib/python3.11/site-packages/torch/nn/modules/rnn.py:83: UserWarning: dropout option adds dropout after all but last recurrent layer, so non-zero dropout expects num_layers greater than 1, but got dropout=0.4786488048610501 and num_layers=1\n",
      "  warnings.warn(\"dropout option adds dropout after all but last \"\n"
     ]
    },
    {
     "name": "stdout",
     "output_type": "stream",
     "text": [
      "[I 2024-03-08 06:02:48,915] Trial 177 pruned. \n",
      "[I 2024-03-08 06:03:41,541] Trial 178 pruned. \n"
     ]
    },
    {
     "name": "stderr",
     "output_type": "stream",
     "text": [
      "/Users/nickzhou/opt/anaconda3/envs/py3.11/lib/python3.11/site-packages/torch/nn/modules/rnn.py:83: UserWarning: dropout option adds dropout after all but last recurrent layer, so non-zero dropout expects num_layers greater than 1, but got dropout=0.48384909911574286 and num_layers=1\n",
      "  warnings.warn(\"dropout option adds dropout after all but last \"\n"
     ]
    },
    {
     "name": "stdout",
     "output_type": "stream",
     "text": [
      "[I 2024-03-08 06:04:43,766] Trial 179 pruned. \n"
     ]
    },
    {
     "name": "stderr",
     "output_type": "stream",
     "text": [
      "/Users/nickzhou/opt/anaconda3/envs/py3.11/lib/python3.11/site-packages/torch/nn/modules/rnn.py:83: UserWarning: dropout option adds dropout after all but last recurrent layer, so non-zero dropout expects num_layers greater than 1, but got dropout=0.2302293582998616 and num_layers=1\n",
      "  warnings.warn(\"dropout option adds dropout after all but last \"\n"
     ]
    },
    {
     "name": "stdout",
     "output_type": "stream",
     "text": [
      "[I 2024-03-08 06:06:55,250] Trial 180 pruned. \n"
     ]
    },
    {
     "name": "stderr",
     "output_type": "stream",
     "text": [
      "/Users/nickzhou/opt/anaconda3/envs/py3.11/lib/python3.11/site-packages/torch/nn/modules/rnn.py:83: UserWarning: dropout option adds dropout after all but last recurrent layer, so non-zero dropout expects num_layers greater than 1, but got dropout=0.21897935623264891 and num_layers=1\n",
      "  warnings.warn(\"dropout option adds dropout after all but last \"\n"
     ]
    },
    {
     "name": "stdout",
     "output_type": "stream",
     "text": [
      "[I 2024-03-08 06:08:43,309] Trial 181 finished with value: 0.6331360946745562 and parameters: {'num_cnn_layers': 5, 'cnn_use_bn': True, 'cnn_activation': 'ReLU', 'cnn_dropout': 0.08857360788442074, 'cnn_kernel_size': 13, 'cnn_out_channels_0': 146, 'cnn_out_channels_1': 111, 'cnn_out_channels_2': 61, 'cnn_out_channels_3': 30, 'cnn_out_channels_4': 187, 'use_fc1': False, 'num_rnn_layers': 1, 'rnn_hidden_size': 49, 'rnn_dropout': 0.21897935623264891, 'num_fc_layers_2': 1, 'fc_use_bn_1': False, 'fc_out_features_1_0': 623, 'fc_dropout_1_0': 0.37175315771940715, 'weight_decay': 3.8863173413538165e-05, 'lr': 0.00016772986880802355}. Best is trial 63 with value: 0.7071005917159763.\n"
     ]
    },
    {
     "name": "stderr",
     "output_type": "stream",
     "text": [
      "/Users/nickzhou/opt/anaconda3/envs/py3.11/lib/python3.11/site-packages/torch/nn/modules/rnn.py:83: UserWarning: dropout option adds dropout after all but last recurrent layer, so non-zero dropout expects num_layers greater than 1, but got dropout=0.247509458932563 and num_layers=1\n",
      "  warnings.warn(\"dropout option adds dropout after all but last \"\n"
     ]
    },
    {
     "name": "stdout",
     "output_type": "stream",
     "text": [
      "[I 2024-03-08 06:09:31,071] Trial 182 pruned. \n"
     ]
    },
    {
     "name": "stderr",
     "output_type": "stream",
     "text": [
      "/Users/nickzhou/opt/anaconda3/envs/py3.11/lib/python3.11/site-packages/torch/nn/modules/rnn.py:83: UserWarning: dropout option adds dropout after all but last recurrent layer, so non-zero dropout expects num_layers greater than 1, but got dropout=0.23569848722185893 and num_layers=1\n",
      "  warnings.warn(\"dropout option adds dropout after all but last \"\n"
     ]
    },
    {
     "name": "stdout",
     "output_type": "stream",
     "text": [
      "[I 2024-03-08 06:11:33,751] Trial 183 finished with value: 0.6686390532544378 and parameters: {'num_cnn_layers': 5, 'cnn_use_bn': True, 'cnn_activation': 'ReLU', 'cnn_dropout': 0.12153056484370026, 'cnn_kernel_size': 13, 'cnn_out_channels_0': 153, 'cnn_out_channels_1': 118, 'cnn_out_channels_2': 54, 'cnn_out_channels_3': 45, 'cnn_out_channels_4': 135, 'use_fc1': False, 'num_rnn_layers': 1, 'rnn_hidden_size': 39, 'rnn_dropout': 0.23569848722185893, 'num_fc_layers_2': 1, 'fc_use_bn_1': False, 'fc_out_features_1_0': 645, 'fc_dropout_1_0': 0.34376226643386687, 'weight_decay': 2.3628767374987174e-05, 'lr': 0.00017875941475248964}. Best is trial 63 with value: 0.7071005917159763.\n"
     ]
    },
    {
     "name": "stderr",
     "output_type": "stream",
     "text": [
      "/Users/nickzhou/opt/anaconda3/envs/py3.11/lib/python3.11/site-packages/torch/nn/modules/rnn.py:83: UserWarning: dropout option adds dropout after all but last recurrent layer, so non-zero dropout expects num_layers greater than 1, but got dropout=0.26306563905394104 and num_layers=1\n",
      "  warnings.warn(\"dropout option adds dropout after all but last \"\n"
     ]
    },
    {
     "name": "stdout",
     "output_type": "stream",
     "text": [
      "[I 2024-03-08 06:12:11,338] Trial 184 pruned. \n"
     ]
    },
    {
     "name": "stderr",
     "output_type": "stream",
     "text": [
      "/Users/nickzhou/opt/anaconda3/envs/py3.11/lib/python3.11/site-packages/torch/nn/modules/rnn.py:83: UserWarning: dropout option adds dropout after all but last recurrent layer, so non-zero dropout expects num_layers greater than 1, but got dropout=0.461852029731726 and num_layers=1\n",
      "  warnings.warn(\"dropout option adds dropout after all but last \"\n"
     ]
    },
    {
     "name": "stdout",
     "output_type": "stream",
     "text": [
      "[I 2024-03-08 06:12:55,947] Trial 185 pruned. \n"
     ]
    },
    {
     "name": "stderr",
     "output_type": "stream",
     "text": [
      "/Users/nickzhou/opt/anaconda3/envs/py3.11/lib/python3.11/site-packages/torch/nn/modules/rnn.py:83: UserWarning: dropout option adds dropout after all but last recurrent layer, so non-zero dropout expects num_layers greater than 1, but got dropout=0.2728101586854495 and num_layers=1\n",
      "  warnings.warn(\"dropout option adds dropout after all but last \"\n"
     ]
    },
    {
     "name": "stdout",
     "output_type": "stream",
     "text": [
      "[I 2024-03-08 06:15:18,199] Trial 186 finished with value: 0.6331360946745562 and parameters: {'num_cnn_layers': 5, 'cnn_use_bn': True, 'cnn_activation': 'ReLU', 'cnn_dropout': 0.10617589790654752, 'cnn_kernel_size': 15, 'cnn_out_channels_0': 187, 'cnn_out_channels_1': 115, 'cnn_out_channels_2': 45, 'cnn_out_channels_3': 68, 'cnn_out_channels_4': 192, 'use_fc1': False, 'num_rnn_layers': 1, 'rnn_hidden_size': 77, 'rnn_dropout': 0.2728101586854495, 'num_fc_layers_2': 1, 'fc_use_bn_1': False, 'fc_out_features_1_0': 833, 'fc_dropout_1_0': 0.34037933192248, 'weight_decay': 1.7821951228076644e-05, 'lr': 8.065851481867108e-05}. Best is trial 63 with value: 0.7071005917159763.\n",
      "[I 2024-03-08 06:16:01,539] Trial 187 pruned. \n",
      "[I 2024-03-08 06:17:00,540] Trial 188 pruned. \n"
     ]
    },
    {
     "name": "stderr",
     "output_type": "stream",
     "text": [
      "/Users/nickzhou/opt/anaconda3/envs/py3.11/lib/python3.11/site-packages/torch/nn/modules/rnn.py:83: UserWarning: dropout option adds dropout after all but last recurrent layer, so non-zero dropout expects num_layers greater than 1, but got dropout=0.4722847916752599 and num_layers=1\n",
      "  warnings.warn(\"dropout option adds dropout after all but last \"\n"
     ]
    },
    {
     "name": "stdout",
     "output_type": "stream",
     "text": [
      "[I 2024-03-08 06:17:50,362] Trial 189 pruned. \n"
     ]
    },
    {
     "name": "stderr",
     "output_type": "stream",
     "text": [
      "/Users/nickzhou/opt/anaconda3/envs/py3.11/lib/python3.11/site-packages/torch/nn/modules/rnn.py:83: UserWarning: dropout option adds dropout after all but last recurrent layer, so non-zero dropout expects num_layers greater than 1, but got dropout=0.19880963537375052 and num_layers=1\n",
      "  warnings.warn(\"dropout option adds dropout after all but last \"\n"
     ]
    },
    {
     "name": "stdout",
     "output_type": "stream",
     "text": [
      "[I 2024-03-08 06:19:39,165] Trial 190 finished with value: 0.6479289940828402 and parameters: {'num_cnn_layers': 5, 'cnn_use_bn': True, 'cnn_activation': 'ReLU', 'cnn_dropout': 0.12371350524590416, 'cnn_kernel_size': 13, 'cnn_out_channels_0': 157, 'cnn_out_channels_1': 113, 'cnn_out_channels_2': 52, 'cnn_out_channels_3': 43, 'cnn_out_channels_4': 88, 'use_fc1': False, 'num_rnn_layers': 1, 'rnn_hidden_size': 57, 'rnn_dropout': 0.19880963537375052, 'num_fc_layers_2': 1, 'fc_use_bn_1': False, 'fc_out_features_1_0': 615, 'fc_dropout_1_0': 0.3612645913808336, 'weight_decay': 2.481940320545066e-05, 'lr': 0.00016284750962369652}. Best is trial 63 with value: 0.7071005917159763.\n"
     ]
    },
    {
     "name": "stderr",
     "output_type": "stream",
     "text": [
      "/Users/nickzhou/opt/anaconda3/envs/py3.11/lib/python3.11/site-packages/torch/nn/modules/rnn.py:83: UserWarning: dropout option adds dropout after all but last recurrent layer, so non-zero dropout expects num_layers greater than 1, but got dropout=0.24146258986594488 and num_layers=1\n",
      "  warnings.warn(\"dropout option adds dropout after all but last \"\n"
     ]
    },
    {
     "name": "stdout",
     "output_type": "stream",
     "text": [
      "[I 2024-03-08 06:21:51,688] Trial 191 pruned. \n"
     ]
    },
    {
     "name": "stderr",
     "output_type": "stream",
     "text": [
      "/Users/nickzhou/opt/anaconda3/envs/py3.11/lib/python3.11/site-packages/torch/nn/modules/rnn.py:83: UserWarning: dropout option adds dropout after all but last recurrent layer, so non-zero dropout expects num_layers greater than 1, but got dropout=0.48947210310467143 and num_layers=1\n",
      "  warnings.warn(\"dropout option adds dropout after all but last \"\n"
     ]
    },
    {
     "name": "stdout",
     "output_type": "stream",
     "text": [
      "[I 2024-03-08 06:23:54,151] Trial 192 finished with value: 0.621301775147929 and parameters: {'num_cnn_layers': 5, 'cnn_use_bn': True, 'cnn_activation': 'ReLU', 'cnn_dropout': 0.09336508358484064, 'cnn_kernel_size': 15, 'cnn_out_channels_0': 152, 'cnn_out_channels_1': 101, 'cnn_out_channels_2': 44, 'cnn_out_channels_3': 46, 'cnn_out_channels_4': 173, 'use_fc1': False, 'num_rnn_layers': 1, 'rnn_hidden_size': 51, 'rnn_dropout': 0.48947210310467143, 'num_fc_layers_2': 1, 'fc_use_bn_1': False, 'fc_out_features_1_0': 303, 'fc_dropout_1_0': 0.40281819601316243, 'weight_decay': 4.7440388221572836e-05, 'lr': 0.00012732111454583217}. Best is trial 63 with value: 0.7071005917159763.\n"
     ]
    },
    {
     "name": "stderr",
     "output_type": "stream",
     "text": [
      "/Users/nickzhou/opt/anaconda3/envs/py3.11/lib/python3.11/site-packages/torch/nn/modules/rnn.py:83: UserWarning: dropout option adds dropout after all but last recurrent layer, so non-zero dropout expects num_layers greater than 1, but got dropout=0.22564741501760885 and num_layers=1\n",
      "  warnings.warn(\"dropout option adds dropout after all but last \"\n"
     ]
    },
    {
     "name": "stdout",
     "output_type": "stream",
     "text": [
      "[I 2024-03-08 06:26:10,079] Trial 193 finished with value: 0.6479289940828402 and parameters: {'num_cnn_layers': 5, 'cnn_use_bn': True, 'cnn_activation': 'ReLU', 'cnn_dropout': 0.13687636755192675, 'cnn_kernel_size': 12, 'cnn_out_channels_0': 143, 'cnn_out_channels_1': 118, 'cnn_out_channels_2': 161, 'cnn_out_channels_3': 178, 'cnn_out_channels_4': 195, 'use_fc1': False, 'num_rnn_layers': 1, 'rnn_hidden_size': 94, 'rnn_dropout': 0.22564741501760885, 'num_fc_layers_2': 1, 'fc_use_bn_1': False, 'fc_out_features_1_0': 566, 'fc_dropout_1_0': 0.37343266756490257, 'weight_decay': 1.280006077990928e-05, 'lr': 0.00018342209745427342}. Best is trial 63 with value: 0.7071005917159763.\n"
     ]
    },
    {
     "name": "stderr",
     "output_type": "stream",
     "text": [
      "/Users/nickzhou/opt/anaconda3/envs/py3.11/lib/python3.11/site-packages/torch/nn/modules/rnn.py:83: UserWarning: dropout option adds dropout after all but last recurrent layer, so non-zero dropout expects num_layers greater than 1, but got dropout=0.23414985177185504 and num_layers=1\n",
      "  warnings.warn(\"dropout option adds dropout after all but last \"\n"
     ]
    },
    {
     "name": "stdout",
     "output_type": "stream",
     "text": [
      "[I 2024-03-08 06:27:12,202] Trial 194 pruned. \n"
     ]
    },
    {
     "name": "stderr",
     "output_type": "stream",
     "text": [
      "/Users/nickzhou/opt/anaconda3/envs/py3.11/lib/python3.11/site-packages/torch/nn/modules/rnn.py:83: UserWarning: dropout option adds dropout after all but last recurrent layer, so non-zero dropout expects num_layers greater than 1, but got dropout=0.21793797259385672 and num_layers=1\n",
      "  warnings.warn(\"dropout option adds dropout after all but last \"\n"
     ]
    },
    {
     "name": "stdout",
     "output_type": "stream",
     "text": [
      "[I 2024-03-08 06:28:27,580] Trial 195 finished with value: 0.5946745562130178 and parameters: {'num_cnn_layers': 4, 'cnn_use_bn': True, 'cnn_activation': 'ReLU', 'cnn_dropout': 0.11168467207202117, 'cnn_kernel_size': 11, 'cnn_out_channels_0': 83, 'cnn_out_channels_1': 109, 'cnn_out_channels_2': 53, 'cnn_out_channels_3': 21, 'use_fc1': False, 'num_rnn_layers': 1, 'rnn_hidden_size': 511, 'rnn_dropout': 0.21793797259385672, 'num_fc_layers_2': 1, 'fc_use_bn_1': False, 'fc_out_features_1_0': 79, 'fc_dropout_1_0': 0.2980080788809128, 'weight_decay': 1.6888734119650495e-05, 'lr': 0.0002054428284015485}. Best is trial 63 with value: 0.7071005917159763.\n",
      "[I 2024-03-08 06:30:42,106] Trial 196 finished with value: 0.650887573964497 and parameters: {'num_cnn_layers': 5, 'cnn_use_bn': True, 'cnn_activation': 'ReLU', 'cnn_dropout': 0.12332304347742767, 'cnn_kernel_size': 12, 'cnn_out_channels_0': 147, 'cnn_out_channels_1': 128, 'cnn_out_channels_2': 61, 'cnn_out_channels_3': 167, 'cnn_out_channels_4': 178, 'use_fc1': False, 'num_rnn_layers': 2, 'rnn_hidden_size': 65, 'rnn_dropout': 0.25028861895277243, 'num_fc_layers_2': 1, 'fc_use_bn_1': False, 'fc_out_features_1_0': 524, 'fc_dropout_1_0': 0.3116474592851962, 'weight_decay': 2.5030384993725003e-05, 'lr': 0.00011179417217618556}. Best is trial 63 with value: 0.7071005917159763.\n"
     ]
    },
    {
     "name": "stderr",
     "output_type": "stream",
     "text": [
      "/Users/nickzhou/opt/anaconda3/envs/py3.11/lib/python3.11/site-packages/torch/nn/modules/rnn.py:83: UserWarning: dropout option adds dropout after all but last recurrent layer, so non-zero dropout expects num_layers greater than 1, but got dropout=0.08009254330995708 and num_layers=1\n",
      "  warnings.warn(\"dropout option adds dropout after all but last \"\n"
     ]
    },
    {
     "name": "stdout",
     "output_type": "stream",
     "text": [
      "[I 2024-03-08 06:31:25,066] Trial 197 pruned. \n"
     ]
    },
    {
     "name": "stderr",
     "output_type": "stream",
     "text": [
      "/Users/nickzhou/opt/anaconda3/envs/py3.11/lib/python3.11/site-packages/torch/nn/modules/rnn.py:83: UserWarning: dropout option adds dropout after all but last recurrent layer, so non-zero dropout expects num_layers greater than 1, but got dropout=0.2922172623523275 and num_layers=1\n",
      "  warnings.warn(\"dropout option adds dropout after all but last \"\n"
     ]
    },
    {
     "name": "stdout",
     "output_type": "stream",
     "text": [
      "[I 2024-03-08 06:32:03,706] Trial 198 pruned. \n",
      "[I 2024-03-08 06:32:44,689] Trial 199 pruned. \n",
      "[I 2024-03-08 06:33:30,609] Trial 200 pruned. \n",
      "[I 2024-03-08 06:34:43,020] Trial 201 pruned. \n",
      "[I 2024-03-08 06:35:29,107] Trial 202 pruned. \n",
      "[I 2024-03-08 06:36:06,993] Trial 203 pruned. \n"
     ]
    },
    {
     "name": "stderr",
     "output_type": "stream",
     "text": [
      "/Users/nickzhou/opt/anaconda3/envs/py3.11/lib/python3.11/site-packages/torch/nn/modules/rnn.py:83: UserWarning: dropout option adds dropout after all but last recurrent layer, so non-zero dropout expects num_layers greater than 1, but got dropout=0.4774782055894753 and num_layers=1\n",
      "  warnings.warn(\"dropout option adds dropout after all but last \"\n"
     ]
    },
    {
     "name": "stdout",
     "output_type": "stream",
     "text": [
      "[I 2024-03-08 06:36:53,585] Trial 204 pruned. \n"
     ]
    },
    {
     "name": "stderr",
     "output_type": "stream",
     "text": [
      "/Users/nickzhou/opt/anaconda3/envs/py3.11/lib/python3.11/site-packages/torch/nn/modules/rnn.py:83: UserWarning: dropout option adds dropout after all but last recurrent layer, so non-zero dropout expects num_layers greater than 1, but got dropout=0.2774805877458951 and num_layers=1\n",
      "  warnings.warn(\"dropout option adds dropout after all but last \"\n"
     ]
    },
    {
     "name": "stdout",
     "output_type": "stream",
     "text": [
      "[I 2024-03-08 06:37:37,110] Trial 205 pruned. \n",
      "[I 2024-03-08 06:38:50,669] Trial 206 pruned. \n",
      "[I 2024-03-08 06:40:19,020] Trial 207 pruned. \n"
     ]
    },
    {
     "name": "stderr",
     "output_type": "stream",
     "text": [
      "/Users/nickzhou/opt/anaconda3/envs/py3.11/lib/python3.11/site-packages/torch/nn/modules/rnn.py:83: UserWarning: dropout option adds dropout after all but last recurrent layer, so non-zero dropout expects num_layers greater than 1, but got dropout=0.23612748817056195 and num_layers=1\n",
      "  warnings.warn(\"dropout option adds dropout after all but last \"\n"
     ]
    },
    {
     "name": "stdout",
     "output_type": "stream",
     "text": [
      "[I 2024-03-08 06:41:49,363] Trial 208 pruned. \n"
     ]
    },
    {
     "name": "stderr",
     "output_type": "stream",
     "text": [
      "/Users/nickzhou/opt/anaconda3/envs/py3.11/lib/python3.11/site-packages/torch/nn/modules/rnn.py:83: UserWarning: dropout option adds dropout after all but last recurrent layer, so non-zero dropout expects num_layers greater than 1, but got dropout=0.4873971105661215 and num_layers=1\n",
      "  warnings.warn(\"dropout option adds dropout after all but last \"\n"
     ]
    },
    {
     "name": "stdout",
     "output_type": "stream",
     "text": [
      "[I 2024-03-08 06:43:06,094] Trial 209 pruned. \n",
      "[I 2024-03-08 06:44:34,969] Trial 210 pruned. \n",
      "[I 2024-03-08 06:47:07,092] Trial 211 finished with value: 0.6242603550295858 and parameters: {'num_cnn_layers': 4, 'cnn_use_bn': True, 'cnn_activation': 'ELU', 'cnn_dropout': 0.2621561073546086, 'cnn_kernel_size': 15, 'cnn_out_channels_0': 182, 'cnn_out_channels_1': 104, 'cnn_out_channels_2': 162, 'cnn_out_channels_3': 179, 'use_fc1': False, 'num_rnn_layers': 2, 'rnn_hidden_size': 118, 'rnn_dropout': 0.4357240225220795, 'num_fc_layers_2': 1, 'fc_use_bn_1': True, 'fc_out_features_1_0': 553, 'fc_dropout_1_0': 0.3533019827253488, 'weight_decay': 5.506040626811354e-05, 'lr': 0.0005323401069375949}. Best is trial 63 with value: 0.7071005917159763.\n",
      "[I 2024-03-08 06:49:43,315] Trial 212 finished with value: 0.621301775147929 and parameters: {'num_cnn_layers': 4, 'cnn_use_bn': True, 'cnn_activation': 'ELU', 'cnn_dropout': 0.1505801616305917, 'cnn_kernel_size': 14, 'cnn_out_channels_0': 145, 'cnn_out_channels_1': 111, 'cnn_out_channels_2': 158, 'cnn_out_channels_3': 161, 'use_fc1': False, 'num_rnn_layers': 2, 'rnn_hidden_size': 103, 'rnn_dropout': 0.1677304272295601, 'num_fc_layers_2': 2, 'fc_use_bn_1': True, 'fc_out_features_1_0': 484, 'fc_dropout_1_0': 0.2824234351114881, 'fc_out_features_1_1': 608, 'fc_dropout_1_1': 0.30309126633856437, 'weight_decay': 0.00010570059801988111, 'lr': 5.701639775459023e-05}. Best is trial 63 with value: 0.7071005917159763.\n"
     ]
    },
    {
     "name": "stderr",
     "output_type": "stream",
     "text": [
      "/Users/nickzhou/opt/anaconda3/envs/py3.11/lib/python3.11/site-packages/torch/nn/modules/rnn.py:83: UserWarning: dropout option adds dropout after all but last recurrent layer, so non-zero dropout expects num_layers greater than 1, but got dropout=0.47100418725488374 and num_layers=1\n",
      "  warnings.warn(\"dropout option adds dropout after all but last \"\n"
     ]
    },
    {
     "name": "stdout",
     "output_type": "stream",
     "text": [
      "[I 2024-03-08 06:50:49,094] Trial 213 pruned. \n",
      "[I 2024-03-08 06:54:18,506] Trial 214 finished with value: 0.7041420118343196 and parameters: {'num_cnn_layers': 5, 'cnn_use_bn': True, 'cnn_activation': 'ELU', 'cnn_dropout': 0.24310615247311068, 'cnn_kernel_size': 13, 'cnn_out_channels_0': 192, 'cnn_out_channels_1': 107, 'cnn_out_channels_2': 61, 'cnn_out_channels_3': 181, 'cnn_out_channels_4': 178, 'use_fc1': False, 'num_rnn_layers': 2, 'rnn_hidden_size': 94, 'rnn_dropout': 0.45229303530477194, 'num_fc_layers_2': 1, 'fc_use_bn_1': True, 'fc_out_features_1_0': 333, 'fc_dropout_1_0': 0.2942929282717542, 'weight_decay': 4.942605795179738e-05, 'lr': 7.294806642426646e-05}. Best is trial 63 with value: 0.7071005917159763.\n"
     ]
    },
    {
     "name": "stderr",
     "output_type": "stream",
     "text": [
      "/Users/nickzhou/opt/anaconda3/envs/py3.11/lib/python3.11/site-packages/torch/nn/modules/rnn.py:83: UserWarning: dropout option adds dropout after all but last recurrent layer, so non-zero dropout expects num_layers greater than 1, but got dropout=0.444722065311746 and num_layers=1\n",
      "  warnings.warn(\"dropout option adds dropout after all but last \"\n"
     ]
    },
    {
     "name": "stdout",
     "output_type": "stream",
     "text": [
      "[I 2024-03-08 06:55:10,739] Trial 215 pruned. \n",
      "[I 2024-03-08 06:55:53,412] Trial 216 pruned. \n",
      "[I 2024-03-08 06:57:03,832] Trial 217 pruned. \n",
      "[I 2024-03-08 06:57:53,624] Trial 218 pruned. \n"
     ]
    },
    {
     "name": "stderr",
     "output_type": "stream",
     "text": [
      "/Users/nickzhou/opt/anaconda3/envs/py3.11/lib/python3.11/site-packages/torch/nn/modules/rnn.py:83: UserWarning: dropout option adds dropout after all but last recurrent layer, so non-zero dropout expects num_layers greater than 1, but got dropout=0.45007600360348293 and num_layers=1\n",
      "  warnings.warn(\"dropout option adds dropout after all but last \"\n"
     ]
    },
    {
     "name": "stdout",
     "output_type": "stream",
     "text": [
      "[I 2024-03-08 06:58:39,006] Trial 219 pruned. \n",
      "[I 2024-03-08 06:59:58,148] Trial 220 pruned. \n",
      "[I 2024-03-08 07:04:46,306] Trial 221 finished with value: 0.665680473372781 and parameters: {'num_cnn_layers': 4, 'cnn_use_bn': True, 'cnn_activation': 'ELU', 'cnn_dropout': 0.19952074476308834, 'cnn_kernel_size': 13, 'cnn_out_channels_0': 195, 'cnn_out_channels_1': 115, 'cnn_out_channels_2': 171, 'cnn_out_channels_3': 175, 'use_fc1': False, 'num_rnn_layers': 2, 'rnn_hidden_size': 154, 'rnn_dropout': 0.47334398766637825, 'num_fc_layers_2': 1, 'fc_use_bn_1': True, 'fc_out_features_1_0': 994, 'fc_dropout_1_0': 0.3287881972023914, 'weight_decay': 7.276210925713775e-05, 'lr': 6.66952803311116e-05}. Best is trial 63 with value: 0.7071005917159763.\n",
      "[I 2024-03-08 07:05:40,390] Trial 222 pruned. \n",
      "[I 2024-03-08 07:09:03,432] Trial 223 finished with value: 0.6893491124260355 and parameters: {'num_cnn_layers': 5, 'cnn_use_bn': True, 'cnn_activation': 'ELU', 'cnn_dropout': 0.20413120331104095, 'cnn_kernel_size': 13, 'cnn_out_channels_0': 196, 'cnn_out_channels_1': 121, 'cnn_out_channels_2': 168, 'cnn_out_channels_3': 165, 'cnn_out_channels_4': 184, 'use_fc1': False, 'num_rnn_layers': 2, 'rnn_hidden_size': 154, 'rnn_dropout': 0.49994375000832364, 'num_fc_layers_2': 1, 'fc_use_bn_1': True, 'fc_out_features_1_0': 966, 'fc_dropout_1_0': 0.3155332652992353, 'weight_decay': 6.89312809270714e-05, 'lr': 9.176613233221645e-05}. Best is trial 63 with value: 0.7071005917159763.\n"
     ]
    },
    {
     "name": "stderr",
     "output_type": "stream",
     "text": [
      "/Users/nickzhou/opt/anaconda3/envs/py3.11/lib/python3.11/site-packages/torch/nn/modules/rnn.py:83: UserWarning: dropout option adds dropout after all but last recurrent layer, so non-zero dropout expects num_layers greater than 1, but got dropout=0.4850724380124976 and num_layers=1\n",
      "  warnings.warn(\"dropout option adds dropout after all but last \"\n"
     ]
    },
    {
     "name": "stdout",
     "output_type": "stream",
     "text": [
      "[I 2024-03-08 07:13:24,736] Trial 224 finished with value: 0.6745562130177515 and parameters: {'num_cnn_layers': 5, 'cnn_use_bn': True, 'cnn_activation': 'ELU', 'cnn_dropout': 0.20065868330245673, 'cnn_kernel_size': 13, 'cnn_out_channels_0': 194, 'cnn_out_channels_1': 121, 'cnn_out_channels_2': 167, 'cnn_out_channels_3': 159, 'cnn_out_channels_4': 196, 'use_fc1': False, 'num_rnn_layers': 1, 'rnn_hidden_size': 152, 'rnn_dropout': 0.4850724380124976, 'num_fc_layers_2': 1, 'fc_use_bn_1': True, 'fc_out_features_1_0': 871, 'fc_dropout_1_0': 0.3225525976736468, 'weight_decay': 6.880561928335329e-05, 'lr': 8.102078634720029e-05}. Best is trial 63 with value: 0.7071005917159763.\n",
      "[I 2024-03-08 07:19:03,754] Trial 225 finished with value: 0.7011834319526628 and parameters: {'num_cnn_layers': 5, 'cnn_use_bn': True, 'cnn_activation': 'ELU', 'cnn_dropout': 0.19773589832715083, 'cnn_kernel_size': 13, 'cnn_out_channels_0': 195, 'cnn_out_channels_1': 121, 'cnn_out_channels_2': 169, 'cnn_out_channels_3': 157, 'cnn_out_channels_4': 197, 'use_fc1': False, 'num_rnn_layers': 2, 'rnn_hidden_size': 155, 'rnn_dropout': 0.4967684563464576, 'num_fc_layers_2': 1, 'fc_use_bn_1': True, 'fc_out_features_1_0': 994, 'fc_dropout_1_0': 0.3186160609722857, 'weight_decay': 6.920086023273795e-05, 'lr': 8.311590370768847e-05}. Best is trial 63 with value: 0.7071005917159763.\n",
      "[I 2024-03-08 07:20:27,279] Trial 226 pruned. \n",
      "[I 2024-03-08 07:21:45,363] Trial 227 pruned. \n",
      "[I 2024-03-08 07:23:13,262] Trial 228 pruned. \n",
      "[I 2024-03-08 07:24:05,168] Trial 229 pruned. \n"
     ]
    },
    {
     "name": "stderr",
     "output_type": "stream",
     "text": [
      "/Users/nickzhou/opt/anaconda3/envs/py3.11/lib/python3.11/site-packages/torch/nn/modules/rnn.py:83: UserWarning: dropout option adds dropout after all but last recurrent layer, so non-zero dropout expects num_layers greater than 1, but got dropout=0.474345106948648 and num_layers=1\n",
      "  warnings.warn(\"dropout option adds dropout after all but last \"\n"
     ]
    },
    {
     "name": "stdout",
     "output_type": "stream",
     "text": [
      "[I 2024-03-08 07:27:30,785] Trial 230 pruned. \n",
      "[I 2024-03-08 07:29:33,093] Trial 231 pruned. \n"
     ]
    },
    {
     "name": "stderr",
     "output_type": "stream",
     "text": [
      "/Users/nickzhou/opt/anaconda3/envs/py3.11/lib/python3.11/site-packages/torch/nn/modules/rnn.py:83: UserWarning: dropout option adds dropout after all but last recurrent layer, so non-zero dropout expects num_layers greater than 1, but got dropout=0.46960061002544784 and num_layers=1\n",
      "  warnings.warn(\"dropout option adds dropout after all but last \"\n"
     ]
    },
    {
     "name": "stdout",
     "output_type": "stream",
     "text": [
      "[I 2024-03-08 07:32:50,328] Trial 232 pruned. \n",
      "[I 2024-03-08 07:34:25,227] Trial 233 pruned. \n"
     ]
    },
    {
     "name": "stderr",
     "output_type": "stream",
     "text": [
      "/Users/nickzhou/opt/anaconda3/envs/py3.11/lib/python3.11/site-packages/torch/nn/modules/rnn.py:83: UserWarning: dropout option adds dropout after all but last recurrent layer, so non-zero dropout expects num_layers greater than 1, but got dropout=0.48062071997238626 and num_layers=1\n",
      "  warnings.warn(\"dropout option adds dropout after all but last \"\n"
     ]
    },
    {
     "name": "stdout",
     "output_type": "stream",
     "text": [
      "[I 2024-03-08 07:36:06,428] Trial 234 pruned. \n"
     ]
    },
    {
     "name": "stderr",
     "output_type": "stream",
     "text": [
      "/Users/nickzhou/opt/anaconda3/envs/py3.11/lib/python3.11/site-packages/torch/nn/modules/rnn.py:83: UserWarning: dropout option adds dropout after all but last recurrent layer, so non-zero dropout expects num_layers greater than 1, but got dropout=0.49884306447962073 and num_layers=1\n",
      "  warnings.warn(\"dropout option adds dropout after all but last \"\n"
     ]
    },
    {
     "name": "stdout",
     "output_type": "stream",
     "text": [
      "[I 2024-03-08 07:38:20,837] Trial 235 finished with value: 0.6301775147928994 and parameters: {'num_cnn_layers': 5, 'cnn_use_bn': True, 'cnn_activation': 'ELU', 'cnn_dropout': 0.2257172144072064, 'cnn_kernel_size': 13, 'cnn_out_channels_0': 186, 'cnn_out_channels_1': 127, 'cnn_out_channels_2': 173, 'cnn_out_channels_3': 175, 'cnn_out_channels_4': 190, 'use_fc1': False, 'num_rnn_layers': 1, 'rnn_hidden_size': 174, 'rnn_dropout': 0.49884306447962073, 'num_fc_layers_2': 1, 'fc_use_bn_1': True, 'fc_out_features_1_0': 997, 'fc_dropout_1_0': 0.32491949234693684, 'weight_decay': 5.162976598836241e-05, 'lr': 9.750385410922072e-05}. Best is trial 63 with value: 0.7071005917159763.\n",
      "[I 2024-03-08 07:39:57,997] Trial 236 pruned. \n"
     ]
    },
    {
     "name": "stderr",
     "output_type": "stream",
     "text": [
      "/Users/nickzhou/opt/anaconda3/envs/py3.11/lib/python3.11/site-packages/torch/nn/modules/rnn.py:83: UserWarning: dropout option adds dropout after all but last recurrent layer, so non-zero dropout expects num_layers greater than 1, but got dropout=0.4718745427486299 and num_layers=1\n",
      "  warnings.warn(\"dropout option adds dropout after all but last \"\n"
     ]
    },
    {
     "name": "stdout",
     "output_type": "stream",
     "text": [
      "[I 2024-03-08 07:43:30,028] Trial 237 finished with value: 0.6745562130177515 and parameters: {'num_cnn_layers': 5, 'cnn_use_bn': True, 'cnn_activation': 'ELU', 'cnn_dropout': 0.18580358943471756, 'cnn_kernel_size': 12, 'cnn_out_channels_0': 180, 'cnn_out_channels_1': 111, 'cnn_out_channels_2': 152, 'cnn_out_channels_3': 171, 'cnn_out_channels_4': 187, 'use_fc1': False, 'num_rnn_layers': 1, 'rnn_hidden_size': 122, 'rnn_dropout': 0.4718745427486299, 'num_fc_layers_2': 1, 'fc_use_bn_1': True, 'fc_out_features_1_0': 989, 'fc_dropout_1_0': 0.29334870171690486, 'weight_decay': 0.00023069227643066827, 'lr': 8.208840353385206e-05}. Best is trial 63 with value: 0.7071005917159763.\n",
      "[I 2024-03-08 07:44:20,773] Trial 238 pruned. \n"
     ]
    },
    {
     "name": "stderr",
     "output_type": "stream",
     "text": [
      "/Users/nickzhou/opt/anaconda3/envs/py3.11/lib/python3.11/site-packages/torch/nn/modules/rnn.py:83: UserWarning: dropout option adds dropout after all but last recurrent layer, so non-zero dropout expects num_layers greater than 1, but got dropout=0.46981039606335645 and num_layers=1\n",
      "  warnings.warn(\"dropout option adds dropout after all but last \"\n"
     ]
    },
    {
     "name": "stdout",
     "output_type": "stream",
     "text": [
      "[I 2024-03-08 07:45:49,717] Trial 239 pruned. \n"
     ]
    }
   ],
   "source": [
    "objective = lambda trial: optuna_train(\n",
    "    trial,\n",
    "    gen_model, gen_optimizer, loss_func,\n",
    "    train_loader, valid_loader,\n",
    "    cp_path=CP_PATH,\n",
    "    n_epochs=200,\n",
    "    show_progress_bar=False,\n",
    "    verbose=False,\n",
    ")\n",
    "\n",
    "study.optimize(\n",
    "    objective, \n",
    "    n_trials=200, \n",
    "    callbacks=[get_study_callback(CP_PATH)], \n",
    "    show_progress_bar=True,\n",
    "    catch=(ValueError,),\n",
    "    gc_after_trial=True,\n",
    ")"
   ]
  },
  {
   "cell_type": "code",
   "execution_count": 13,
   "id": "5e0c2de70cb5c6bb",
   "metadata": {
    "ExecuteTime": {
     "end_time": "2024-03-08T15:45:51.368336Z",
     "start_time": "2024-03-08T15:45:51.363776Z"
    },
    "collapsed": false
   },
   "outputs": [],
   "source": []
  }
 ],
 "metadata": {
  "kernelspec": {
   "display_name": "Python 3",
   "language": "python",
   "name": "python3"
  },
  "language_info": {
   "codemirror_mode": {
    "name": "ipython",
    "version": 3
   },
   "file_extension": ".py",
   "mimetype": "text/x-python",
   "name": "python",
   "nbconvert_exporter": "python",
   "pygments_lexer": "ipython3",
   "version": "3.10.13"
  }
 },
 "nbformat": 4,
 "nbformat_minor": 5
}
