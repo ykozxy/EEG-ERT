{
 "cells": [
  {
   "cell_type": "code",
   "execution_count": 68,
   "metadata": {},
   "outputs": [
    {
     "name": "stdout",
     "output_type": "stream",
     "text": [
      "The autoreload extension is already loaded. To reload it, use:\n",
      "  %reload_ext autoreload\n"
     ]
    }
   ],
   "source": [
    "import numpy as np\n",
    "import optuna\n",
    "import torch\n",
    "import torch.nn as nn\n",
    "import matplotlib.pyplot as plt\n",
    "from optuna import Trial, Study\n",
    "from braindecode.models import EEGNetv4, HybridNet, EEGResNet, TCN, EEGInceptionMI\n",
    "from braindecode.augmentation import AugmentedDataLoader, FTSurrogate\n",
    "from torch.utils.data import DataLoader, TensorDataset\n",
    "from tqdm.auto import tqdm\n",
    "from utils.training import train, best_torch_device\n",
    "from torchinfo import summary\n",
    "from copy import copy, deepcopy\n",
    "from prepare_data import get_frequency_dataloader, get_raw_dataloader, get_sub1_dataloader, get_time_series_dataloader\n",
    "\n",
    "%load_ext autoreload\n",
    "%autoreload 2"
   ]
  },
  {
   "cell_type": "code",
   "execution_count": 3,
   "metadata": {},
   "outputs": [],
   "source": [
    "bsz = 32\n",
    "\n",
    "train_loader, val_loader, test_loader = get_raw_dataloader(batch_size=bsz)\n",
    "train_aug_loader, _, _ = get_frequency_dataloader(batch_size=bsz)\n",
    "train_sub_loader, val_sub_loader, test_sub_loader = get_sub1_dataloader(batch_size=bsz)\n"
   ]
  },
  {
   "cell_type": "code",
   "execution_count": 229,
   "metadata": {},
   "outputs": [],
   "source": [
    "class CNN(nn.Module):\n",
    "    \"\"\"\n",
    "    the code here reshapes back to 3D at the last step, \n",
    "    while the report structure reshapes right after\n",
    "    the second Conv2d layer for better report structure.\n",
    "    since the 3rd dimension is always 0 after the second Conv,\n",
    "    the two structures is the same\n",
    "    \n",
    "    \"\"\"\n",
    "    def __init__(self):\n",
    "        super(CNN, self).__init__()\n",
    "\n",
    "        self.filter_nums1 = 40 # 8\n",
    "        self.filter_nums2 = 80 # 40\n",
    "        self.filter_nums3 = 24 # 12\n",
    "        num_groups = 8\n",
    "        b = True\n",
    "        dropout_prob = 0.25\n",
    "\n",
    "        self.conv1 = nn.Sequential(\n",
    "            nn.Conv2d(1, self.filter_nums1, kernel_size=(1, 64), stride=(1, 1), padding=(0, 32), bias=b),\n",
    "            # (n, 8, 22, 1001)\n",
    "            # shortens the time for each channel\n",
    "            nn.BatchNorm2d(self.filter_nums1, eps=0.001, momentum=0.01, affine=True, track_running_stats=True),\n",
    "            nn.Conv2d(self.filter_nums1, self.filter_nums2, kernel_size=(22, 1), stride=(1, 1), groups=num_groups, bias=b),\n",
    "            nn.BatchNorm2d(self.filter_nums2, eps=0.001, momentum=0.01, affine=True, track_running_stats=True),\n",
    "            # (n, 40, 1, 1001)\n",
    "            # squish all 22 channels into one\n",
    "            nn.ELU(),\n",
    "            nn.AvgPool2d(kernel_size=(1, 4), stride=(1, 4), padding=0), # pool over time to shrink time\n",
    "            nn.Dropout(p=dropout_prob)\n",
    "        )\n",
    "\n",
    "        self.conv2 = nn.Sequential(\n",
    "            nn.Conv2d(self.filter_nums2, self.filter_nums3, kernel_size=(1, 16), stride=(1, 1), padding=(0, 8), groups=num_groups, bias=b),\n",
    "            # # (n, 40, 1, 251)\n",
    "            # # further compact time dimension\n",
    "            nn.BatchNorm2d(self.filter_nums3, eps=0.001, momentum=0.01, affine=True, track_running_stats=True),\n",
    "            nn.ELU(),\n",
    "            nn.AvgPool2d(kernel_size=(1, 8), stride=(1, 8), padding=0),\n",
    "            nn.Dropout(p=dropout_prob),\n",
    "            # (n, 12, 1, 31)\n",
    "            nn.Flatten(),\n",
    "            nn.LazyLinear(4) # 4 output classes\n",
    "            # (n, 4, 1, 1)\n",
    "        )\n",
    "        \n",
    "\n",
    "    def forward(self, x):\n",
    "        x = x.to('mps')\n",
    "        # X (batch, ch, t)\n",
    "        x = x.unsqueeze(3)\n",
    "        # (batch, ch, t, 1)\n",
    "        x = x.permute(0, 3, 1, 2)\n",
    "        # (batch, 1, ch, t)\n",
    "        x = self.conv1(x)\n",
    "        x = self.conv2(x)\n",
    "        x = x.squeeze(-1)\n",
    "        x = x.squeeze(-1)\n",
    "        return x"
   ]
  },
  {
   "cell_type": "code",
   "execution_count": 147,
   "metadata": {},
   "outputs": [
    {
     "name": "stderr",
     "output_type": "stream",
     "text": [
      "/Users/yubo/miniforge3/lib/python3.10/site-packages/torch/nn/modules/lazy.py:181: UserWarning: Lazy modules are a new feature under heavy development so changes to the API or functionality can happen at any moment.\n",
      "  warnings.warn('Lazy modules are a new feature under heavy development '\n"
     ]
    },
    {
     "data": {
      "text/plain": [
       "==========================================================================================\n",
       "Layer (type:depth-idx)                   Output Shape              Param #\n",
       "==========================================================================================\n",
       "CNN                                      [2, 4]                    --\n",
       "├─Sequential: 1-1                        [2, 80, 1, 250]           --\n",
       "│    └─Conv2d: 2-1                       [2, 40, 22, 1001]         2,600\n",
       "│    └─BatchNorm2d: 2-2                  [2, 40, 22, 1001]         80\n",
       "│    └─Conv2d: 2-3                       [2, 80, 1, 1001]          8,880\n",
       "│    └─BatchNorm2d: 2-4                  [2, 80, 1, 1001]          160\n",
       "│    └─ELU: 2-5                          [2, 80, 1, 1001]          --\n",
       "│    └─AvgPool2d: 2-6                    [2, 80, 1, 250]           --\n",
       "│    └─Dropout: 2-7                      [2, 80, 1, 250]           --\n",
       "├─Sequential: 1-2                        [2, 4]                    --\n",
       "│    └─Conv2d: 2-8                       [2, 24, 1, 251]           3,864\n",
       "│    └─BatchNorm2d: 2-9                  [2, 24, 1, 251]           48\n",
       "│    └─ELU: 2-10                         [2, 24, 1, 251]           --\n",
       "│    └─AvgPool2d: 2-11                   [2, 24, 1, 31]            --\n",
       "│    └─Dropout: 2-12                     [2, 24, 1, 31]            --\n",
       "│    └─Flatten: 2-13                     [2, 744]                  --\n",
       "│    └─Linear: 2-14                      [2, 4]                    2,980\n",
       "==========================================================================================\n",
       "Total params: 18,612\n",
       "Trainable params: 18,612\n",
       "Non-trainable params: 0\n",
       "Total mult-adds (M): 134.24\n",
       "==========================================================================================\n",
       "Input size (MB): 0.18\n",
       "Forward/backward pass size (MB): 30.94\n",
       "Params size (MB): 0.07\n",
       "Estimated Total Size (MB): 31.19\n",
       "=========================================================================================="
      ]
     },
     "execution_count": 147,
     "metadata": {},
     "output_type": "execute_result"
    }
   ],
   "source": [
    "device = torch.device('mps')\n",
    "\n",
    "model = CNN().to(device)\n",
    "model = model.to(device)\n",
    "# print(model(torch.randn((1, 22, 1000))))\n",
    "summary(model, input_size=(2, 22, 1000), device='mps')"
   ]
  },
  {
   "cell_type": "markdown",
   "metadata": {},
   "source": [
    "## Train with raw data"
   ]
  },
  {
   "cell_type": "code",
   "execution_count": 148,
   "metadata": {},
   "outputs": [
    {
     "name": "stderr",
     "output_type": "stream",
     "text": [
      "/Users/yubo/miniforge3/lib/python3.10/site-packages/torch/optim/lr_scheduler.py:28: UserWarning: The verbose parameter is deprecated. Please use get_last_lr() to access the learning rate.\n",
      "  warnings.warn(\"The verbose parameter is deprecated. Please use get_last_lr() \"\n"
     ]
    },
    {
     "name": "stdout",
     "output_type": "stream",
     "text": [
      "Using device: mps\n"
     ]
    },
    {
     "name": "stderr",
     "output_type": "stream",
     "text": [
      "Epoch 0: 100%|██████████| 56/56 [00:14<00:00,  3.94batch/s, loss=1.2962]\n"
     ]
    },
    {
     "name": "stdout",
     "output_type": "stream",
     "text": [
      "[Epoch 0] val_acc=0.360947 train_acc=0.357907 val_loss=0.042132 train_loss=0.042552\n",
      "Validation loss decreased (inf --> 0.042132).  Saving model ...\n"
     ]
    },
    {
     "name": "stderr",
     "output_type": "stream",
     "text": [
      "Epoch 1: 100%|██████████| 56/56 [00:14<00:00,  3.81batch/s, loss=0.9882]\n"
     ]
    },
    {
     "name": "stdout",
     "output_type": "stream",
     "text": [
      "[Epoch 1] val_acc=0.420118 train_acc=0.475521 val_loss=0.039105 train_loss=0.038648\n",
      "Validation loss decreased (0.042132 --> 0.039105).  Saving model ...\n"
     ]
    },
    {
     "name": "stderr",
     "output_type": "stream",
     "text": [
      "Epoch 2: 100%|██████████| 56/56 [00:14<00:00,  3.90batch/s, loss=1.1228]\n"
     ]
    },
    {
     "name": "stdout",
     "output_type": "stream",
     "text": [
      "[Epoch 2] val_acc=0.511834 train_acc=0.561621 val_loss=0.036476 train_loss=0.035771\n",
      "Validation loss decreased (0.039105 --> 0.036476).  Saving model ...\n"
     ]
    },
    {
     "name": "stderr",
     "output_type": "stream",
     "text": [
      "Epoch 3: 100%|██████████| 56/56 [00:13<00:00,  4.02batch/s, loss=0.9669]\n"
     ]
    },
    {
     "name": "stdout",
     "output_type": "stream",
     "text": [
      "[Epoch 3] val_acc=0.529586 train_acc=0.597074 val_loss=0.034532 train_loss=0.034450\n",
      "Validation loss decreased (0.036476 --> 0.034532).  Saving model ...\n"
     ]
    },
    {
     "name": "stderr",
     "output_type": "stream",
     "text": [
      "Epoch 4: 100%|██████████| 56/56 [00:13<00:00,  4.01batch/s, loss=1.0812]\n"
     ]
    },
    {
     "name": "stdout",
     "output_type": "stream",
     "text": [
      "[Epoch 4] val_acc=0.547337 train_acc=0.630838 val_loss=0.033181 train_loss=0.033126\n",
      "Validation loss decreased (0.034532 --> 0.033181).  Saving model ...\n"
     ]
    },
    {
     "name": "stderr",
     "output_type": "stream",
     "text": [
      "Epoch 5: 100%|██████████| 56/56 [00:14<00:00,  3.99batch/s, loss=1.3010]\n"
     ]
    },
    {
     "name": "stdout",
     "output_type": "stream",
     "text": [
      "[Epoch 5] val_acc=0.547337 train_acc=0.667417 val_loss=0.032551 train_loss=0.031938\n",
      "Validation loss decreased (0.033181 --> 0.032551).  Saving model ...\n"
     ]
    },
    {
     "name": "stderr",
     "output_type": "stream",
     "text": [
      "Epoch 6: 100%|██████████| 56/56 [00:14<00:00,  3.87batch/s, loss=1.0105]\n"
     ]
    },
    {
     "name": "stdout",
     "output_type": "stream",
     "text": [
      "[Epoch 6] val_acc=0.568047 train_acc=0.681486 val_loss=0.033455 train_loss=0.031221\n",
      "EarlyStopping counter: 1 out of 10\n"
     ]
    },
    {
     "name": "stderr",
     "output_type": "stream",
     "text": [
      "Epoch 7: 100%|██████████| 56/56 [00:14<00:00,  3.95batch/s, loss=1.0735]\n"
     ]
    },
    {
     "name": "stdout",
     "output_type": "stream",
     "text": [
      "[Epoch 7] val_acc=0.603550 train_acc=0.665166 val_loss=0.031264 train_loss=0.031057\n",
      "Validation loss decreased (0.032551 --> 0.031264).  Saving model ...\n"
     ]
    },
    {
     "name": "stderr",
     "output_type": "stream",
     "text": [
      "Epoch 8: 100%|██████████| 56/56 [00:13<00:00,  4.02batch/s, loss=1.2291]\n"
     ]
    },
    {
     "name": "stdout",
     "output_type": "stream",
     "text": [
      "[Epoch 8] val_acc=0.585799 train_acc=0.703995 val_loss=0.031026 train_loss=0.029665\n",
      "Validation loss decreased (0.031264 --> 0.031026).  Saving model ...\n"
     ]
    },
    {
     "name": "stderr",
     "output_type": "stream",
     "text": [
      "Epoch 9: 100%|██████████| 56/56 [00:14<00:00,  3.96batch/s, loss=1.0411]\n"
     ]
    },
    {
     "name": "stdout",
     "output_type": "stream",
     "text": [
      "[Epoch 9] val_acc=0.615385 train_acc=0.715813 val_loss=0.030348 train_loss=0.029205\n",
      "Validation loss decreased (0.031026 --> 0.030348).  Saving model ...\n"
     ]
    },
    {
     "name": "stderr",
     "output_type": "stream",
     "text": [
      "Epoch 10: 100%|██████████| 56/56 [00:14<00:00,  3.99batch/s, loss=0.9746]\n"
     ]
    },
    {
     "name": "stdout",
     "output_type": "stream",
     "text": [
      "[Epoch 10] val_acc=0.594675 train_acc=0.725380 val_loss=0.030076 train_loss=0.028974\n",
      "Validation loss decreased (0.030348 --> 0.030076).  Saving model ...\n"
     ]
    },
    {
     "name": "stderr",
     "output_type": "stream",
     "text": [
      "Epoch 11: 100%|██████████| 56/56 [00:13<00:00,  4.09batch/s, loss=0.8250]\n"
     ]
    },
    {
     "name": "stdout",
     "output_type": "stream",
     "text": [
      "[Epoch 11] val_acc=0.609467 train_acc=0.733258 val_loss=0.030033 train_loss=0.028804\n",
      "Validation loss decreased (0.030076 --> 0.030033).  Saving model ...\n"
     ]
    },
    {
     "name": "stderr",
     "output_type": "stream",
     "text": [
      "Epoch 12: 100%|██████████| 56/56 [00:13<00:00,  4.10batch/s, loss=0.8764]\n"
     ]
    },
    {
     "name": "stdout",
     "output_type": "stream",
     "text": [
      "[Epoch 12] val_acc=0.618343 train_acc=0.750141 val_loss=0.029703 train_loss=0.027939\n",
      "Validation loss decreased (0.030033 --> 0.029703).  Saving model ...\n"
     ]
    },
    {
     "name": "stderr",
     "output_type": "stream",
     "text": [
      "Epoch 13: 100%|██████████| 56/56 [00:13<00:00,  4.09batch/s, loss=0.8395]\n"
     ]
    },
    {
     "name": "stdout",
     "output_type": "stream",
     "text": [
      "[Epoch 13] val_acc=0.642012 train_acc=0.738886 val_loss=0.028687 train_loss=0.028094\n",
      "Validation loss decreased (0.029703 --> 0.028687).  Saving model ...\n"
     ]
    },
    {
     "name": "stderr",
     "output_type": "stream",
     "text": [
      "Epoch 14: 100%|██████████| 56/56 [00:13<00:00,  4.09batch/s, loss=0.8783]\n"
     ]
    },
    {
     "name": "stdout",
     "output_type": "stream",
     "text": [
      "[Epoch 14] val_acc=0.644970 train_acc=0.766460 val_loss=0.027294 train_loss=0.027004\n",
      "Validation loss decreased (0.028687 --> 0.027294).  Saving model ...\n"
     ]
    },
    {
     "name": "stderr",
     "output_type": "stream",
     "text": [
      "Epoch 15: 100%|██████████| 56/56 [00:13<00:00,  4.04batch/s, loss=0.9558]\n"
     ]
    },
    {
     "name": "stdout",
     "output_type": "stream",
     "text": [
      "[Epoch 15] val_acc=0.662722 train_acc=0.791784 val_loss=0.027127 train_loss=0.026639\n",
      "Validation loss decreased (0.027294 --> 0.027127).  Saving model ...\n"
     ]
    },
    {
     "name": "stderr",
     "output_type": "stream",
     "text": [
      "Epoch 16: 100%|██████████| 56/56 [00:14<00:00,  3.94batch/s, loss=0.7138]\n"
     ]
    },
    {
     "name": "stdout",
     "output_type": "stream",
     "text": [
      "[Epoch 16] val_acc=0.683432 train_acc=0.783343 val_loss=0.026050 train_loss=0.026158\n",
      "Validation loss decreased (0.027127 --> 0.026050).  Saving model ...\n"
     ]
    },
    {
     "name": "stderr",
     "output_type": "stream",
     "text": [
      "Epoch 17: 100%|██████████| 56/56 [00:13<00:00,  4.07batch/s, loss=0.8305]\n"
     ]
    },
    {
     "name": "stdout",
     "output_type": "stream",
     "text": [
      "[Epoch 17] val_acc=0.665680 train_acc=0.788970 val_loss=0.026947 train_loss=0.026021\n",
      "EarlyStopping counter: 1 out of 10\n"
     ]
    },
    {
     "name": "stderr",
     "output_type": "stream",
     "text": [
      "Epoch 18: 100%|██████████| 56/56 [00:13<00:00,  4.08batch/s, loss=0.8081]\n"
     ]
    },
    {
     "name": "stdout",
     "output_type": "stream",
     "text": [
      "[Epoch 18] val_acc=0.695266 train_acc=0.787845 val_loss=0.025426 train_loss=0.026192\n",
      "Validation loss decreased (0.026050 --> 0.025426).  Saving model ...\n"
     ]
    },
    {
     "name": "stderr",
     "output_type": "stream",
     "text": [
      "Epoch 19: 100%|██████████| 56/56 [00:13<00:00,  4.07batch/s, loss=0.8456]\n"
     ]
    },
    {
     "name": "stdout",
     "output_type": "stream",
     "text": [
      "[Epoch 19] val_acc=0.659763 train_acc=0.790658 val_loss=0.026516 train_loss=0.025599\n",
      "EarlyStopping counter: 1 out of 10\n"
     ]
    },
    {
     "name": "stderr",
     "output_type": "stream",
     "text": [
      "Epoch 20: 100%|██████████| 56/56 [00:13<00:00,  4.07batch/s, loss=0.8213]\n"
     ]
    },
    {
     "name": "stdout",
     "output_type": "stream",
     "text": [
      "[Epoch 20] val_acc=0.656805 train_acc=0.803602 val_loss=0.027512 train_loss=0.025217\n",
      "EarlyStopping counter: 2 out of 10\n"
     ]
    },
    {
     "name": "stderr",
     "output_type": "stream",
     "text": [
      "Epoch 21: 100%|██████████| 56/56 [00:14<00:00,  3.95batch/s, loss=0.7003]\n"
     ]
    },
    {
     "name": "stdout",
     "output_type": "stream",
     "text": [
      "[Epoch 21] val_acc=0.642012 train_acc=0.801351 val_loss=0.026371 train_loss=0.025280\n",
      "EarlyStopping counter: 3 out of 10\n"
     ]
    },
    {
     "name": "stderr",
     "output_type": "stream",
     "text": [
      "Epoch 22: 100%|██████████| 56/56 [00:14<00:00,  3.89batch/s, loss=0.7507]\n"
     ]
    },
    {
     "name": "stdout",
     "output_type": "stream",
     "text": [
      "[Epoch 22] val_acc=0.683432 train_acc=0.797974 val_loss=0.025184 train_loss=0.025199\n",
      "Validation loss decreased (0.025426 --> 0.025184).  Saving model ...\n"
     ]
    },
    {
     "name": "stderr",
     "output_type": "stream",
     "text": [
      "Epoch 23: 100%|██████████| 56/56 [00:15<00:00,  3.69batch/s, loss=0.9045]\n"
     ]
    },
    {
     "name": "stdout",
     "output_type": "stream",
     "text": [
      "[Epoch 23] val_acc=0.695266 train_acc=0.825549 val_loss=0.025556 train_loss=0.024777\n",
      "EarlyStopping counter: 1 out of 10\n"
     ]
    },
    {
     "name": "stderr",
     "output_type": "stream",
     "text": [
      "Epoch 24: 100%|██████████| 56/56 [00:13<00:00,  4.03batch/s, loss=0.8697]\n"
     ]
    },
    {
     "name": "stdout",
     "output_type": "stream",
     "text": [
      "[Epoch 24] val_acc=0.704142 train_acc=0.821047 val_loss=0.024921 train_loss=0.024595\n",
      "Validation loss decreased (0.025184 --> 0.024921).  Saving model ...\n"
     ]
    },
    {
     "name": "stderr",
     "output_type": "stream",
     "text": [
      "Epoch 25: 100%|██████████| 56/56 [00:14<00:00,  3.99batch/s, loss=0.8615]\n"
     ]
    },
    {
     "name": "stdout",
     "output_type": "stream",
     "text": [
      "[Epoch 25] val_acc=0.680473 train_acc=0.839617 val_loss=0.025780 train_loss=0.024190\n",
      "EarlyStopping counter: 1 out of 10\n"
     ]
    },
    {
     "name": "stderr",
     "output_type": "stream",
     "text": [
      "Epoch 26: 100%|██████████| 56/56 [00:14<00:00,  3.98batch/s, loss=0.7174]\n"
     ]
    },
    {
     "name": "stdout",
     "output_type": "stream",
     "text": [
      "[Epoch 26] val_acc=0.713018 train_acc=0.830613 val_loss=0.024461 train_loss=0.023897\n",
      "Validation loss decreased (0.024921 --> 0.024461).  Saving model ...\n"
     ]
    },
    {
     "name": "stderr",
     "output_type": "stream",
     "text": [
      "Epoch 27: 100%|██████████| 56/56 [00:14<00:00,  3.87batch/s, loss=0.7854]\n"
     ]
    },
    {
     "name": "stdout",
     "output_type": "stream",
     "text": [
      "[Epoch 27] val_acc=0.707101 train_acc=0.844119 val_loss=0.024226 train_loss=0.023867\n",
      "Validation loss decreased (0.024461 --> 0.024226).  Saving model ...\n"
     ]
    },
    {
     "name": "stderr",
     "output_type": "stream",
     "text": [
      "Epoch 28: 100%|██████████| 56/56 [00:14<00:00,  3.88batch/s, loss=0.7453]\n"
     ]
    },
    {
     "name": "stdout",
     "output_type": "stream",
     "text": [
      "[Epoch 28] val_acc=0.698225 train_acc=0.836241 val_loss=0.024955 train_loss=0.024015\n",
      "EarlyStopping counter: 1 out of 10\n"
     ]
    },
    {
     "name": "stderr",
     "output_type": "stream",
     "text": [
      "Epoch 29: 100%|██████████| 56/56 [00:13<00:00,  4.02batch/s, loss=0.7577]\n"
     ]
    },
    {
     "name": "stdout",
     "output_type": "stream",
     "text": [
      "[Epoch 29] val_acc=0.686391 train_acc=0.844682 val_loss=0.024586 train_loss=0.023616\n",
      "EarlyStopping counter: 2 out of 10\n"
     ]
    },
    {
     "name": "stderr",
     "output_type": "stream",
     "text": [
      "Epoch 30: 100%|██████████| 56/56 [00:14<00:00,  3.93batch/s, loss=0.6912]\n"
     ]
    },
    {
     "name": "stdout",
     "output_type": "stream",
     "text": [
      "[Epoch 30] val_acc=0.671598 train_acc=0.860439 val_loss=0.025276 train_loss=0.023558\n",
      "EarlyStopping counter: 3 out of 10\n"
     ]
    },
    {
     "name": "stderr",
     "output_type": "stream",
     "text": [
      "Epoch 31: 100%|██████████| 56/56 [00:13<00:00,  4.01batch/s, loss=0.8741]\n"
     ]
    },
    {
     "name": "stdout",
     "output_type": "stream",
     "text": [
      "[Epoch 31] val_acc=0.707101 train_acc=0.846370 val_loss=0.024809 train_loss=0.023546\n",
      "EarlyStopping counter: 4 out of 10\n"
     ]
    },
    {
     "name": "stderr",
     "output_type": "stream",
     "text": [
      "Epoch 32: 100%|██████████| 56/56 [00:13<00:00,  4.03batch/s, loss=0.8259]\n"
     ]
    },
    {
     "name": "stdout",
     "output_type": "stream",
     "text": [
      "[Epoch 32] val_acc=0.707101 train_acc=0.867755 val_loss=0.024444 train_loss=0.023227\n",
      "EarlyStopping counter: 5 out of 10\n"
     ]
    },
    {
     "name": "stderr",
     "output_type": "stream",
     "text": [
      "Epoch 33: 100%|██████████| 56/56 [00:14<00:00,  3.99batch/s, loss=0.7340]\n"
     ]
    },
    {
     "name": "stdout",
     "output_type": "stream",
     "text": [
      "[Epoch 33] val_acc=0.680473 train_acc=0.859876 val_loss=0.024419 train_loss=0.023243\n",
      "EarlyStopping counter: 6 out of 10\n"
     ]
    },
    {
     "name": "stderr",
     "output_type": "stream",
     "text": [
      "Epoch 34: 100%|██████████| 56/56 [00:13<00:00,  4.06batch/s, loss=0.6925]\n"
     ]
    },
    {
     "name": "stdout",
     "output_type": "stream",
     "text": [
      "[Epoch 34] val_acc=0.704142 train_acc=0.861002 val_loss=0.023355 train_loss=0.022776\n",
      "Validation loss decreased (0.024226 --> 0.023355).  Saving model ...\n"
     ]
    },
    {
     "name": "stderr",
     "output_type": "stream",
     "text": [
      "Epoch 35: 100%|██████████| 56/56 [00:13<00:00,  4.07batch/s, loss=0.8117]\n"
     ]
    },
    {
     "name": "stdout",
     "output_type": "stream",
     "text": [
      "[Epoch 35] val_acc=0.730769 train_acc=0.863253 val_loss=0.023187 train_loss=0.022862\n",
      "Validation loss decreased (0.023355 --> 0.023187).  Saving model ...\n"
     ]
    },
    {
     "name": "stderr",
     "output_type": "stream",
     "text": [
      "Epoch 36: 100%|██████████| 56/56 [00:13<00:00,  4.01batch/s, loss=0.8041]\n"
     ]
    },
    {
     "name": "stdout",
     "output_type": "stream",
     "text": [
      "[Epoch 36] val_acc=0.686391 train_acc=0.858751 val_loss=0.024297 train_loss=0.023154\n",
      "EarlyStopping counter: 1 out of 10\n"
     ]
    },
    {
     "name": "stderr",
     "output_type": "stream",
     "text": [
      "Epoch 37: 100%|██████████| 56/56 [00:13<00:00,  4.02batch/s, loss=0.7574]\n"
     ]
    },
    {
     "name": "stdout",
     "output_type": "stream",
     "text": [
      "[Epoch 37] val_acc=0.715976 train_acc=0.864941 val_loss=0.023676 train_loss=0.022844\n",
      "EarlyStopping counter: 2 out of 10\n"
     ]
    },
    {
     "name": "stderr",
     "output_type": "stream",
     "text": [
      "Epoch 38: 100%|██████████| 56/56 [00:13<00:00,  4.02batch/s, loss=0.6120]\n"
     ]
    },
    {
     "name": "stdout",
     "output_type": "stream",
     "text": [
      "[Epoch 38] val_acc=0.713018 train_acc=0.869443 val_loss=0.023844 train_loss=0.022509\n",
      "EarlyStopping counter: 3 out of 10\n"
     ]
    },
    {
     "name": "stderr",
     "output_type": "stream",
     "text": [
      "Epoch 39: 100%|██████████| 56/56 [00:13<00:00,  4.06batch/s, loss=0.8704]\n"
     ]
    },
    {
     "name": "stdout",
     "output_type": "stream",
     "text": [
      "[Epoch 39] val_acc=0.727811 train_acc=0.861564 val_loss=0.023499 train_loss=0.022759\n",
      "EarlyStopping counter: 4 out of 10\n"
     ]
    },
    {
     "name": "stderr",
     "output_type": "stream",
     "text": [
      "Epoch 40: 100%|██████████| 56/56 [00:13<00:00,  4.06batch/s, loss=0.8094]\n"
     ]
    },
    {
     "name": "stdout",
     "output_type": "stream",
     "text": [
      "[Epoch 40] val_acc=0.710059 train_acc=0.861002 val_loss=0.024765 train_loss=0.022813\n",
      "EarlyStopping counter: 5 out of 10\n"
     ]
    },
    {
     "name": "stderr",
     "output_type": "stream",
     "text": [
      "Epoch 41: 100%|██████████| 56/56 [00:13<00:00,  4.05batch/s, loss=0.6864]\n"
     ]
    },
    {
     "name": "stdout",
     "output_type": "stream",
     "text": [
      "[Epoch 41] val_acc=0.686391 train_acc=0.873945 val_loss=0.024490 train_loss=0.022319\n",
      "EarlyStopping counter: 6 out of 10\n"
     ]
    },
    {
     "name": "stderr",
     "output_type": "stream",
     "text": [
      "Epoch 42: 100%|██████████| 56/56 [00:14<00:00,  3.95batch/s, loss=0.6065]\n"
     ]
    },
    {
     "name": "stdout",
     "output_type": "stream",
     "text": [
      "[Epoch 42] val_acc=0.704142 train_acc=0.876196 val_loss=0.024102 train_loss=0.022294\n",
      "EarlyStopping counter: 7 out of 10\n"
     ]
    },
    {
     "name": "stderr",
     "output_type": "stream",
     "text": [
      "Epoch 43: 100%|██████████| 56/56 [00:14<00:00,  3.99batch/s, loss=0.7617]\n"
     ]
    },
    {
     "name": "stdout",
     "output_type": "stream",
     "text": [
      "[Epoch 43] val_acc=0.715976 train_acc=0.861564 val_loss=0.023723 train_loss=0.022810\n",
      "EarlyStopping counter: 8 out of 10\n"
     ]
    },
    {
     "name": "stderr",
     "output_type": "stream",
     "text": [
      "Epoch 44: 100%|██████████| 56/56 [00:14<00:00,  4.00batch/s, loss=0.8461]\n"
     ]
    },
    {
     "name": "stdout",
     "output_type": "stream",
     "text": [
      "[Epoch 44] val_acc=0.677515 train_acc=0.874508 val_loss=0.024730 train_loss=0.022134\n",
      "EarlyStopping counter: 9 out of 10\n"
     ]
    },
    {
     "name": "stderr",
     "output_type": "stream",
     "text": [
      "Epoch 45: 100%|██████████| 56/56 [00:13<00:00,  4.04batch/s, loss=0.6945]\n"
     ]
    },
    {
     "name": "stdout",
     "output_type": "stream",
     "text": [
      "[Epoch 45] val_acc=0.701183 train_acc=0.875070 val_loss=0.023921 train_loss=0.022126\n",
      "EarlyStopping counter: 10 out of 10\n",
      "Early stopping.\n"
     ]
    }
   ],
   "source": [
    "from utils.training import train\n",
    "\n",
    "raw_model = model\n",
    "raw_model.to(device)\n",
    "\n",
    "optimizer = torch.optim.Adam(raw_model.parameters(), lr=0.001, weight_decay=1e-05)\n",
    "scheduler = torch.optim.lr_scheduler.ReduceLROnPlateau(optimizer, mode='min', factor=0.5, patience=5, verbose=True)\n",
    "\n",
    "tr_loader = train_loader\n",
    "\n",
    "train_loss_hist, train_acc_hist, val_loss_hist, val_acc_hist = train(\n",
    "    model=raw_model,\n",
    "    optimizer=optimizer,\n",
    "    loss_func=nn.CrossEntropyLoss(),\n",
    "    train_data=tr_loader,\n",
    "    val_data=val_loader,\n",
    "    early_stopping_patience=10,\n",
    "    scheduler=scheduler,\n",
    "    cp_path=\"models/cnn\",\n",
    "    cp_filename=\"raw.pt\",\n",
    "    n_epochs=150,\n",
    "    show_progress_bar=True,\n",
    ")"
   ]
  },
  {
   "cell_type": "code",
   "execution_count": null,
   "metadata": {},
   "outputs": [
    {
     "data": {
      "image/png": "[encoded data removed]",
      "text/plain": [
       "<Figure size 640x480 with 1 Axes>"
      ]
     },
     "metadata": {},
     "output_type": "display_data"
    }
   ],
   "source": [
    "plt.plot(train_loss_hist, label=\"Train Loss\")\n",
    "plt.plot(val_loss_hist, label=\"Val Loss\")\n",
    "plt.title(\"Raw Data Model Losses\")\n",
    "plt.xlabel(\"Epoch\")\n",
    "plt.ylabel(\"Loss\")\n",
    "plt.legend()\n",
    "plt.show()"
   ]
  },
  {
   "cell_type": "code",
   "execution_count": 150,
   "metadata": {},
   "outputs": [
    {
     "data": {
      "image/png": "[encoded data removed]",
      "text/plain": [
       "<Figure size 640x480 with 1 Axes>"
      ]
     },
     "metadata": {},
     "output_type": "display_data"
    }
   ],
   "source": [
    "plt.plot(train_acc_hist, label=\"Train Acc\")\n",
    "plt.plot(val_acc_hist, label=\"Val Acc\")\n",
    "plt.title(\"Raw Data Model Accuracies\")\n",
    "plt.xlabel(\"Epoch\")\n",
    "plt.ylabel(\"Accuracy\")\n",
    "plt.legend()\n",
    "plt.show()"
   ]
  },
  {
   "cell_type": "code",
   "execution_count": 154,
   "metadata": {},
   "outputs": [
    {
     "data": {
      "text/plain": [
       "==========================================================================================\n",
       "Layer (type:depth-idx)                   Output Shape              Param #\n",
       "==========================================================================================\n",
       "CNN                                      [1, 4]                    --\n",
       "├─Sequential: 1-1                        [1, 80, 1, 250]           --\n",
       "│    └─Conv2d: 2-1                       [1, 40, 22, 1001]         2,600\n",
       "│    └─BatchNorm2d: 2-2                  [1, 40, 22, 1001]         80\n",
       "│    └─Conv2d: 2-3                       [1, 80, 1, 1001]          8,880\n",
       "│    └─BatchNorm2d: 2-4                  [1, 80, 1, 1001]          160\n",
       "│    └─ELU: 2-5                          [1, 80, 1, 1001]          --\n",
       "│    └─AvgPool2d: 2-6                    [1, 80, 1, 250]           --\n",
       "│    └─Dropout: 2-7                      [1, 80, 1, 250]           --\n",
       "├─Sequential: 1-2                        [1, 4]                    --\n",
       "│    └─Conv2d: 2-8                       [1, 24, 1, 251]           3,864\n",
       "│    └─BatchNorm2d: 2-9                  [1, 24, 1, 251]           48\n",
       "│    └─ELU: 2-10                         [1, 24, 1, 251]           --\n",
       "│    └─AvgPool2d: 2-11                   [1, 24, 1, 31]            --\n",
       "│    └─Dropout: 2-12                     [1, 24, 1, 31]            --\n",
       "│    └─Flatten: 2-13                     [1, 744]                  --\n",
       "│    └─Linear: 2-14                      [1, 4]                    2,980\n",
       "==========================================================================================\n",
       "Total params: 18,612\n",
       "Trainable params: 18,612\n",
       "Non-trainable params: 0\n",
       "Total mult-adds (M): 67.12\n",
       "==========================================================================================\n",
       "Input size (MB): 0.09\n",
       "Forward/backward pass size (MB): 15.47\n",
       "Params size (MB): 0.07\n",
       "Estimated Total Size (MB): 15.63\n",
       "=========================================================================================="
      ]
     },
     "execution_count": 154,
     "metadata": {},
     "output_type": "execute_result"
    }
   ],
   "source": [
    "# Load best model and test\n",
    "raw_model = torch.load(\"models/cnn/raw.pt\")\n",
    "raw_model.to(device)\n",
    "raw_model.eval()\n",
    "summary(raw_model, input_size=(1, 22, 1000), device='mps')"
   ]
  },
  {
   "cell_type": "code",
   "execution_count": 155,
   "metadata": {},
   "outputs": [
    {
     "name": "stdout",
     "output_type": "stream",
     "text": [
      "Train on raw data, evaluate on raw data\n",
      "Test Acc: 0.7201\n"
     ]
    }
   ],
   "source": [
    "# Evaluate on raw data\n",
    "test_acc = 0\n",
    "with torch.no_grad():\n",
    "    for X, y in test_loader:\n",
    "        X, y = X.to(device), y.to(device)\n",
    "        y_pred = raw_model(X)\n",
    "        test_acc += (y_pred.argmax(dim=1) == y.argmax(dim=1)).sum().item()\n",
    "test_acc /= len(test_loader.dataset)\n",
    "print(\"Train on raw data, evaluate on raw data\")\n",
    "print(f\"Test Acc: {test_acc:.4f}\")"
   ]
  },
  {
   "cell_type": "code",
   "execution_count": 156,
   "metadata": {},
   "outputs": [
    {
     "name": "stdout",
     "output_type": "stream",
     "text": [
      "Train on raw data, evaluate on sub1 data\n",
      "Test Acc: 0.7200\n"
     ]
    }
   ],
   "source": [
    "# Evaluate on sub1 data\n",
    "test_acc = 0\n",
    "with torch.no_grad():\n",
    "    for X, y in test_sub_loader:\n",
    "        X, y = X.to(device), y.to(device)\n",
    "        y_pred = raw_model(X)\n",
    "        test_acc += (y_pred.argmax(dim=1) == y.argmax(dim=1)).sum().item()\n",
    "test_acc /= len(test_sub_loader.dataset)\n",
    "print(\"Train on raw data, evaluate on sub1 data\")\n",
    "print(f\"Test Acc: {test_acc:.4f}\")"
   ]
  },
  {
   "cell_type": "markdown",
   "metadata": {},
   "source": [
    "## Train with augmented data with FT surrogate"
   ]
  },
  {
   "cell_type": "code",
   "execution_count": 239,
   "metadata": {},
   "outputs": [],
   "source": [
    "class CNN(nn.Module):\n",
    "    def __init__(self):\n",
    "        super(CNN, self).__init__()\n",
    "\n",
    "        self.filter_nums1 = 40 # 8\n",
    "        self.filter_nums2 = 48 # 40\n",
    "        self.filter_nums3 = 64 # 12\n",
    "        self.filter_nums4 = 96\n",
    "        num_groups = 8\n",
    "        b = True\n",
    "        dropout_prob = 0.25\n",
    "\n",
    "        self.conv1 = nn.Sequential(\n",
    "            nn.Conv2d(1, self.filter_nums1, kernel_size=(1, 64), stride=(1, 1), padding=(0, 32), bias=b),\n",
    "            # (n, 8, 22, 1001)\n",
    "            # shortens the time for each channel\n",
    "            nn.BatchNorm2d(self.filter_nums1, eps=0.001, momentum=0.01, affine=True, track_running_stats=True),\n",
    "            nn.Conv2d(self.filter_nums1, self.filter_nums2, kernel_size=(22, 1), stride=(1, 1), groups=num_groups, bias=b),\n",
    "            nn.BatchNorm2d(self.filter_nums2, eps=0.001, momentum=0.01, affine=True, track_running_stats=True),\n",
    "            # (n, 40, 1, 1001)\n",
    "            # squish all 22 channels into one\n",
    "            nn.ELU(),\n",
    "            nn.AvgPool2d(kernel_size=(1, 4), stride=(1, 4), padding=0), # pool over time to shrink time\n",
    "            nn.Dropout(p=dropout_prob)\n",
    "        )\n",
    "\n",
    "        self.conv2 = nn.Sequential(\n",
    "            nn.Conv2d(self.filter_nums2, self.filter_nums3, kernel_size=(1, 12), stride=(1, 1), padding=(0, 8), groups=num_groups, bias=b),\n",
    "            # # (n, 40, 1, 251)\n",
    "            # # further compact time dimension\n",
    "            nn.BatchNorm2d(self.filter_nums3, eps=0.001, momentum=0.01, affine=True, track_running_stats=True),\n",
    "            nn.ELU(),\n",
    "            nn.AvgPool2d(kernel_size=(1, 4), stride=(1, 4), padding=0),\n",
    "            nn.Dropout(p=dropout_prob),\n",
    "            # (n, 12, 1, 31)\n",
    "        )\n",
    "\n",
    "        self.conv3 = nn.Sequential(\n",
    "            nn.Conv2d(self.filter_nums3, self.filter_nums4, kernel_size=(1, 4), stride=(1, 1), padding=(0, 8), groups=num_groups, bias=b),\n",
    "            # # (n, 40, 1, 251)\n",
    "            # # further compact time dimension\n",
    "            nn.BatchNorm2d(self.filter_nums4, eps=0.001, momentum=0.01, affine=True, track_running_stats=True),\n",
    "            nn.ELU(),\n",
    "            nn.AvgPool2d(kernel_size=(1, 4), stride=(1, 4), padding=0),\n",
    "            nn.Dropout(p=dropout_prob),\n",
    "            # (n, 12, 1, 31)\n",
    "            nn.Flatten(),\n",
    "            nn.LazyLinear(4) # 4 output classes\n",
    "            # (n, 4, 1, 1)\n",
    "        )\n",
    "        \n",
    "\n",
    "    def forward(self, x):\n",
    "        x = x.to('mps')\n",
    "        # X (batch, ch, t)\n",
    "        x = x.unsqueeze(3)\n",
    "        # (batch, ch, t, 1)\n",
    "        x = x.permute(0, 3, 1, 2)\n",
    "        # (batch, 1, ch, t)\n",
    "        x = self.conv1(x)\n",
    "        x = self.conv2(x)\n",
    "        x = self.conv3(x)\n",
    "        x = x.squeeze(-1)\n",
    "        x = x.squeeze(-1)\n",
    "        return x"
   ]
  },
  {
   "cell_type": "code",
   "execution_count": 230,
   "metadata": {},
   "outputs": [
    {
     "name": "stdout",
     "output_type": "stream",
     "text": [
      "torch.Size([1, 4])\n"
     ]
    },
    {
     "data": {
      "text/plain": [
       "==========================================================================================\n",
       "Layer (type:depth-idx)                   Output Shape              Param #\n",
       "==========================================================================================\n",
       "CNN                                      [1, 4]                    --\n",
       "├─Sequential: 1-1                        [1, 80, 1, 250]           --\n",
       "│    └─Conv2d: 2-1                       [1, 40, 22, 1001]         2,600\n",
       "│    └─BatchNorm2d: 2-2                  [1, 40, 22, 1001]         80\n",
       "│    └─Conv2d: 2-3                       [1, 80, 1, 1001]          8,880\n",
       "│    └─BatchNorm2d: 2-4                  [1, 80, 1, 1001]          160\n",
       "│    └─ELU: 2-5                          [1, 80, 1, 1001]          --\n",
       "│    └─AvgPool2d: 2-6                    [1, 80, 1, 250]           --\n",
       "│    └─Dropout: 2-7                      [1, 80, 1, 250]           --\n",
       "├─Sequential: 1-2                        [1, 4]                    --\n",
       "│    └─Conv2d: 2-8                       [1, 24, 1, 251]           3,864\n",
       "│    └─BatchNorm2d: 2-9                  [1, 24, 1, 251]           48\n",
       "│    └─ELU: 2-10                         [1, 24, 1, 251]           --\n",
       "│    └─AvgPool2d: 2-11                   [1, 24, 1, 31]            --\n",
       "│    └─Dropout: 2-12                     [1, 24, 1, 31]            --\n",
       "│    └─Flatten: 2-13                     [1, 744]                  --\n",
       "│    └─Linear: 2-14                      [1, 4]                    2,980\n",
       "==========================================================================================\n",
       "Total params: 18,612\n",
       "Trainable params: 18,612\n",
       "Non-trainable params: 0\n",
       "Total mult-adds (M): 67.12\n",
       "==========================================================================================\n",
       "Input size (MB): 0.09\n",
       "Forward/backward pass size (MB): 15.47\n",
       "Params size (MB): 0.07\n",
       "Estimated Total Size (MB): 15.63\n",
       "=========================================================================================="
      ]
     },
     "execution_count": 230,
     "metadata": {},
     "output_type": "execute_result"
    }
   ],
   "source": [
    "device = torch.device('mps')\n",
    "\n",
    "model = CNN().to(device)\n",
    "model = model.to(device)\n",
    "print(model(torch.randn(1, 22, 1000)).shape)\n",
    "summary(model, input_size=(1, 22, 1000), device='mps')"
   ]
  },
  {
   "cell_type": "code",
   "execution_count": 231,
   "metadata": {},
   "outputs": [
    {
     "name": "stdout",
     "output_type": "stream",
     "text": [
      "Using device: mps\n"
     ]
    },
    {
     "name": "stderr",
     "output_type": "stream",
     "text": [
      "Epoch 0: 100%|██████████| 56/56 [00:15<00:00,  3.72batch/s, loss=1.3771]\n"
     ]
    },
    {
     "name": "stdout",
     "output_type": "stream",
     "text": [
      "[Epoch 0] val_acc=0.313609 train_acc=0.278559 val_loss=0.044340 train_loss=0.044342\n",
      "Validation loss decreased (inf --> 0.044340).  Saving model ...\n"
     ]
    },
    {
     "name": "stderr",
     "output_type": "stream",
     "text": [
      "Epoch 1: 100%|██████████| 56/56 [00:14<00:00,  3.92batch/s, loss=1.3883]\n"
     ]
    },
    {
     "name": "stdout",
     "output_type": "stream",
     "text": [
      "[Epoch 1] val_acc=0.357988 train_acc=0.324142 val_loss=0.043982 train_loss=0.043380\n",
      "Validation loss decreased (0.044340 --> 0.043982).  Saving model ...\n"
     ]
    },
    {
     "name": "stderr",
     "output_type": "stream",
     "text": [
      "Epoch 2: 100%|██████████| 56/56 [00:14<00:00,  3.97batch/s, loss=1.2992]\n"
     ]
    },
    {
     "name": "stdout",
     "output_type": "stream",
     "text": [
      "[Epoch 2] val_acc=0.349112 train_acc=0.328644 val_loss=0.043078 train_loss=0.043107\n",
      "Validation loss decreased (0.043982 --> 0.043078).  Saving model ...\n"
     ]
    },
    {
     "name": "stderr",
     "output_type": "stream",
     "text": [
      "Epoch 3: 100%|██████████| 56/56 [00:15<00:00,  3.66batch/s, loss=1.4127]\n"
     ]
    },
    {
     "name": "stdout",
     "output_type": "stream",
     "text": [
      "[Epoch 3] val_acc=0.396450 train_acc=0.375352 val_loss=0.041710 train_loss=0.042390\n",
      "Validation loss decreased (0.043078 --> 0.041710).  Saving model ...\n"
     ]
    },
    {
     "name": "stderr",
     "output_type": "stream",
     "text": [
      "Epoch 4: 100%|██████████| 56/56 [00:15<00:00,  3.59batch/s, loss=1.3219]\n"
     ]
    },
    {
     "name": "stdout",
     "output_type": "stream",
     "text": [
      "[Epoch 4] val_acc=0.387574 train_acc=0.386044 val_loss=0.041243 train_loss=0.042060\n",
      "Validation loss decreased (0.041710 --> 0.041243).  Saving model ...\n"
     ]
    },
    {
     "name": "stderr",
     "output_type": "stream",
     "text": [
      "Epoch 5: 100%|██████████| 56/56 [00:13<00:00,  4.07batch/s, loss=1.2051]\n"
     ]
    },
    {
     "name": "stdout",
     "output_type": "stream",
     "text": [
      "[Epoch 5] val_acc=0.458580 train_acc=0.413618 val_loss=0.038923 train_loss=0.041284\n",
      "Validation loss decreased (0.041243 --> 0.038923).  Saving model ...\n"
     ]
    },
    {
     "name": "stderr",
     "output_type": "stream",
     "text": [
      "Epoch 6: 100%|██████████| 56/56 [00:14<00:00,  3.99batch/s, loss=1.3808]\n"
     ]
    },
    {
     "name": "stdout",
     "output_type": "stream",
     "text": [
      "[Epoch 6] val_acc=0.476331 train_acc=0.440630 val_loss=0.037491 train_loss=0.040571\n",
      "Validation loss decreased (0.038923 --> 0.037491).  Saving model ...\n"
     ]
    },
    {
     "name": "stderr",
     "output_type": "stream",
     "text": [
      "Epoch 7: 100%|██████████| 56/56 [00:13<00:00,  4.08batch/s, loss=1.4242]\n"
     ]
    },
    {
     "name": "stdout",
     "output_type": "stream",
     "text": [
      "[Epoch 7] val_acc=0.497041 train_acc=0.453573 val_loss=0.036359 train_loss=0.039919\n",
      "Validation loss decreased (0.037491 --> 0.036359).  Saving model ...\n"
     ]
    },
    {
     "name": "stderr",
     "output_type": "stream",
     "text": [
      "Epoch 8: 100%|██████████| 56/56 [00:13<00:00,  4.00batch/s, loss=1.3831]\n"
     ]
    },
    {
     "name": "stdout",
     "output_type": "stream",
     "text": [
      "[Epoch 8] val_acc=0.526627 train_acc=0.476646 val_loss=0.035066 train_loss=0.039334\n",
      "Validation loss decreased (0.036359 --> 0.035066).  Saving model ...\n"
     ]
    },
    {
     "name": "stderr",
     "output_type": "stream",
     "text": [
      "Epoch 9: 100%|██████████| 56/56 [00:13<00:00,  4.06batch/s, loss=1.1963]\n"
     ]
    },
    {
     "name": "stdout",
     "output_type": "stream",
     "text": [
      "[Epoch 9] val_acc=0.562130 train_acc=0.486775 val_loss=0.034349 train_loss=0.039103\n",
      "Validation loss decreased (0.035066 --> 0.034349).  Saving model ...\n"
     ]
    },
    {
     "name": "stderr",
     "output_type": "stream",
     "text": [
      "Epoch 10: 100%|██████████| 56/56 [00:14<00:00,  3.86batch/s, loss=1.1562]\n"
     ]
    },
    {
     "name": "stdout",
     "output_type": "stream",
     "text": [
      "[Epoch 10] val_acc=0.568047 train_acc=0.502532 val_loss=0.033844 train_loss=0.038220\n",
      "Validation loss decreased (0.034349 --> 0.033844).  Saving model ...\n"
     ]
    },
    {
     "name": "stderr",
     "output_type": "stream",
     "text": [
      "Epoch 11: 100%|██████████| 56/56 [00:14<00:00,  3.75batch/s, loss=1.2259]\n"
     ]
    },
    {
     "name": "stdout",
     "output_type": "stream",
     "text": [
      "[Epoch 11] val_acc=0.553254 train_acc=0.508160 val_loss=0.033706 train_loss=0.038384\n",
      "Validation loss decreased (0.033844 --> 0.033706).  Saving model ...\n"
     ]
    },
    {
     "name": "stderr",
     "output_type": "stream",
     "text": [
      "Epoch 12: 100%|██████████| 56/56 [00:14<00:00,  3.95batch/s, loss=1.2233]\n"
     ]
    },
    {
     "name": "stdout",
     "output_type": "stream",
     "text": [
      "[Epoch 12] val_acc=0.556213 train_acc=0.514913 val_loss=0.033565 train_loss=0.037693\n",
      "Validation loss decreased (0.033706 --> 0.033565).  Saving model ...\n"
     ]
    },
    {
     "name": "stderr",
     "output_type": "stream",
     "text": [
      "Epoch 13: 100%|██████████| 56/56 [00:14<00:00,  3.89batch/s, loss=1.0532]\n"
     ]
    },
    {
     "name": "stdout",
     "output_type": "stream",
     "text": [
      "[Epoch 13] val_acc=0.594675 train_acc=0.522791 val_loss=0.032243 train_loss=0.037311\n",
      "Validation loss decreased (0.033565 --> 0.032243).  Saving model ...\n"
     ]
    },
    {
     "name": "stderr",
     "output_type": "stream",
     "text": [
      "Epoch 14: 100%|██████████| 56/56 [00:14<00:00,  3.95batch/s, loss=1.1789]\n"
     ]
    },
    {
     "name": "stdout",
     "output_type": "stream",
     "text": [
      "[Epoch 14] val_acc=0.573964 train_acc=0.522791 val_loss=0.032134 train_loss=0.037470\n",
      "Validation loss decreased (0.032243 --> 0.032134).  Saving model ...\n"
     ]
    },
    {
     "name": "stderr",
     "output_type": "stream",
     "text": [
      "Epoch 15: 100%|██████████| 56/56 [00:14<00:00,  3.87batch/s, loss=1.1736]\n"
     ]
    },
    {
     "name": "stdout",
     "output_type": "stream",
     "text": [
      "[Epoch 15] val_acc=0.565089 train_acc=0.536297 val_loss=0.031736 train_loss=0.036976\n",
      "Validation loss decreased (0.032134 --> 0.031736).  Saving model ...\n"
     ]
    },
    {
     "name": "stderr",
     "output_type": "stream",
     "text": [
      "Epoch 16: 100%|██████████| 56/56 [00:14<00:00,  3.93batch/s, loss=0.9269]\n"
     ]
    },
    {
     "name": "stdout",
     "output_type": "stream",
     "text": [
      "[Epoch 16] val_acc=0.579882 train_acc=0.528981 val_loss=0.031869 train_loss=0.037010\n",
      "EarlyStopping counter: 1 out of 30\n"
     ]
    },
    {
     "name": "stderr",
     "output_type": "stream",
     "text": [
      "Epoch 17: 100%|██████████| 56/56 [00:14<00:00,  3.84batch/s, loss=1.3026]\n"
     ]
    },
    {
     "name": "stdout",
     "output_type": "stream",
     "text": [
      "[Epoch 17] val_acc=0.588757 train_acc=0.544176 val_loss=0.032087 train_loss=0.036549\n",
      "EarlyStopping counter: 2 out of 30\n"
     ]
    },
    {
     "name": "stderr",
     "output_type": "stream",
     "text": [
      "Epoch 18: 100%|██████████| 56/56 [00:14<00:00,  3.86batch/s, loss=1.0703]\n"
     ]
    },
    {
     "name": "stdout",
     "output_type": "stream",
     "text": [
      "[Epoch 18] val_acc=0.609467 train_acc=0.554868 val_loss=0.031125 train_loss=0.036601\n",
      "Validation loss decreased (0.031736 --> 0.031125).  Saving model ...\n"
     ]
    },
    {
     "name": "stderr",
     "output_type": "stream",
     "text": [
      "Epoch 19: 100%|██████████| 56/56 [00:14<00:00,  3.81batch/s, loss=1.2854]\n"
     ]
    },
    {
     "name": "stdout",
     "output_type": "stream",
     "text": [
      "[Epoch 19] val_acc=0.677515 train_acc=0.545864 val_loss=0.029973 train_loss=0.036415\n",
      "Validation loss decreased (0.031125 --> 0.029973).  Saving model ...\n"
     ]
    },
    {
     "name": "stderr",
     "output_type": "stream",
     "text": [
      "Epoch 20: 100%|██████████| 56/56 [00:14<00:00,  3.82batch/s, loss=1.2847]\n"
     ]
    },
    {
     "name": "stdout",
     "output_type": "stream",
     "text": [
      "[Epoch 20] val_acc=0.618343 train_acc=0.566123 val_loss=0.031201 train_loss=0.035382\n",
      "EarlyStopping counter: 1 out of 30\n"
     ]
    },
    {
     "name": "stderr",
     "output_type": "stream",
     "text": [
      "Epoch 21: 100%|██████████| 56/56 [00:14<00:00,  3.75batch/s, loss=1.1478]\n"
     ]
    },
    {
     "name": "stdout",
     "output_type": "stream",
     "text": [
      "[Epoch 21] val_acc=0.636095 train_acc=0.567811 val_loss=0.030047 train_loss=0.035634\n",
      "EarlyStopping counter: 2 out of 30\n"
     ]
    },
    {
     "name": "stderr",
     "output_type": "stream",
     "text": [
      "Epoch 22: 100%|██████████| 56/56 [00:16<00:00,  3.32batch/s, loss=1.0662]\n"
     ]
    },
    {
     "name": "stdout",
     "output_type": "stream",
     "text": [
      "[Epoch 22] val_acc=0.642012 train_acc=0.569499 val_loss=0.029667 train_loss=0.035415\n",
      "Validation loss decreased (0.029973 --> 0.029667).  Saving model ...\n"
     ]
    },
    {
     "name": "stderr",
     "output_type": "stream",
     "text": [
      "Epoch 23: 100%|██████████| 56/56 [00:17<00:00,  3.18batch/s, loss=1.0366]\n"
     ]
    },
    {
     "name": "stdout",
     "output_type": "stream",
     "text": [
      "[Epoch 23] val_acc=0.636095 train_acc=0.558244 val_loss=0.029748 train_loss=0.035647\n",
      "EarlyStopping counter: 1 out of 30\n"
     ]
    },
    {
     "name": "stderr",
     "output_type": "stream",
     "text": [
      "Epoch 24: 100%|██████████| 56/56 [00:15<00:00,  3.64batch/s, loss=1.3067]\n"
     ]
    },
    {
     "name": "stdout",
     "output_type": "stream",
     "text": [
      "[Epoch 24] val_acc=0.647929 train_acc=0.572313 val_loss=0.029819 train_loss=0.035568\n",
      "EarlyStopping counter: 2 out of 30\n"
     ]
    },
    {
     "name": "stderr",
     "output_type": "stream",
     "text": [
      "Epoch 25: 100%|██████████| 56/56 [00:14<00:00,  3.76batch/s, loss=0.9825]\n"
     ]
    },
    {
     "name": "stdout",
     "output_type": "stream",
     "text": [
      "[Epoch 25] val_acc=0.665680 train_acc=0.590884 val_loss=0.028893 train_loss=0.034787\n",
      "Validation loss decreased (0.029667 --> 0.028893).  Saving model ...\n"
     ]
    },
    {
     "name": "stderr",
     "output_type": "stream",
     "text": [
      "Epoch 26: 100%|██████████| 56/56 [00:14<00:00,  3.74batch/s, loss=1.0888]\n"
     ]
    },
    {
     "name": "stdout",
     "output_type": "stream",
     "text": [
      "[Epoch 26] val_acc=0.627219 train_acc=0.606640 val_loss=0.029237 train_loss=0.034339\n",
      "EarlyStopping counter: 1 out of 30\n"
     ]
    },
    {
     "name": "stderr",
     "output_type": "stream",
     "text": [
      "Epoch 27: 100%|██████████| 56/56 [00:15<00:00,  3.71batch/s, loss=1.0169]\n"
     ]
    },
    {
     "name": "stdout",
     "output_type": "stream",
     "text": [
      "[Epoch 27] val_acc=0.642012 train_acc=0.584131 val_loss=0.030924 train_loss=0.034854\n",
      "EarlyStopping counter: 2 out of 30\n"
     ]
    },
    {
     "name": "stderr",
     "output_type": "stream",
     "text": [
      "Epoch 28: 100%|██████████| 56/56 [00:15<00:00,  3.63batch/s, loss=1.0823]\n"
     ]
    },
    {
     "name": "stdout",
     "output_type": "stream",
     "text": [
      "[Epoch 28] val_acc=0.662722 train_acc=0.584131 val_loss=0.028517 train_loss=0.034934\n",
      "Validation loss decreased (0.028893 --> 0.028517).  Saving model ...\n"
     ]
    },
    {
     "name": "stderr",
     "output_type": "stream",
     "text": [
      "Epoch 29: 100%|██████████| 56/56 [00:15<00:00,  3.55batch/s, loss=1.2243]\n"
     ]
    },
    {
     "name": "stdout",
     "output_type": "stream",
     "text": [
      "[Epoch 29] val_acc=0.659763 train_acc=0.585256 val_loss=0.028962 train_loss=0.034499\n",
      "EarlyStopping counter: 1 out of 30\n"
     ]
    },
    {
     "name": "stderr",
     "output_type": "stream",
     "text": [
      "Epoch 30: 100%|██████████| 56/56 [00:15<00:00,  3.64batch/s, loss=1.0340]\n"
     ]
    },
    {
     "name": "stdout",
     "output_type": "stream",
     "text": [
      "[Epoch 30] val_acc=0.653846 train_acc=0.601576 val_loss=0.029580 train_loss=0.034388\n",
      "EarlyStopping counter: 2 out of 30\n"
     ]
    },
    {
     "name": "stderr",
     "output_type": "stream",
     "text": [
      "Epoch 31: 100%|██████████| 56/56 [00:15<00:00,  3.61batch/s, loss=0.9344]\n"
     ]
    },
    {
     "name": "stdout",
     "output_type": "stream",
     "text": [
      "[Epoch 31] val_acc=0.636095 train_acc=0.624086 val_loss=0.028583 train_loss=0.033609\n",
      "EarlyStopping counter: 3 out of 30\n"
     ]
    },
    {
     "name": "stderr",
     "output_type": "stream",
     "text": [
      "Epoch 32: 100%|██████████| 56/56 [00:15<00:00,  3.69batch/s, loss=1.1342]\n"
     ]
    },
    {
     "name": "stdout",
     "output_type": "stream",
     "text": [
      "[Epoch 32] val_acc=0.662722 train_acc=0.612831 val_loss=0.028589 train_loss=0.033783\n",
      "EarlyStopping counter: 4 out of 30\n"
     ]
    },
    {
     "name": "stderr",
     "output_type": "stream",
     "text": [
      "Epoch 33: 100%|██████████| 56/56 [00:15<00:00,  3.67batch/s, loss=0.9397]\n"
     ]
    },
    {
     "name": "stdout",
     "output_type": "stream",
     "text": [
      "[Epoch 33] val_acc=0.647929 train_acc=0.607766 val_loss=0.027794 train_loss=0.033900\n",
      "Validation loss decreased (0.028517 --> 0.027794).  Saving model ...\n"
     ]
    },
    {
     "name": "stderr",
     "output_type": "stream",
     "text": [
      "Epoch 34: 100%|██████████| 56/56 [00:15<00:00,  3.67batch/s, loss=1.1241]\n"
     ]
    },
    {
     "name": "stdout",
     "output_type": "stream",
     "text": [
      "[Epoch 34] val_acc=0.680473 train_acc=0.615644 val_loss=0.027564 train_loss=0.033572\n",
      "Validation loss decreased (0.027794 --> 0.027564).  Saving model ...\n"
     ]
    },
    {
     "name": "stderr",
     "output_type": "stream",
     "text": [
      "Epoch 35: 100%|██████████| 56/56 [00:15<00:00,  3.60batch/s, loss=1.1812]\n"
     ]
    },
    {
     "name": "stdout",
     "output_type": "stream",
     "text": [
      "[Epoch 35] val_acc=0.668639 train_acc=0.595948 val_loss=0.027994 train_loss=0.033967\n",
      "EarlyStopping counter: 1 out of 30\n"
     ]
    },
    {
     "name": "stderr",
     "output_type": "stream",
     "text": [
      "Epoch 36: 100%|██████████| 56/56 [00:15<00:00,  3.55batch/s, loss=1.2429]\n"
     ]
    },
    {
     "name": "stdout",
     "output_type": "stream",
     "text": [
      "[Epoch 36] val_acc=0.671598 train_acc=0.608329 val_loss=0.027191 train_loss=0.033565\n",
      "Validation loss decreased (0.027564 --> 0.027191).  Saving model ...\n"
     ]
    },
    {
     "name": "stderr",
     "output_type": "stream",
     "text": [
      "Epoch 37: 100%|██████████| 56/56 [00:16<00:00,  3.43batch/s, loss=1.0744]\n"
     ]
    },
    {
     "name": "stdout",
     "output_type": "stream",
     "text": [
      "[Epoch 37] val_acc=0.647929 train_acc=0.648284 val_loss=0.028403 train_loss=0.032961\n",
      "EarlyStopping counter: 1 out of 30\n"
     ]
    },
    {
     "name": "stderr",
     "output_type": "stream",
     "text": [
      "Epoch 38: 100%|██████████| 56/56 [00:17<00:00,  3.29batch/s, loss=1.1261]\n"
     ]
    },
    {
     "name": "stdout",
     "output_type": "stream",
     "text": [
      "[Epoch 38] val_acc=0.644970 train_acc=0.615082 val_loss=0.029374 train_loss=0.033852\n",
      "EarlyStopping counter: 2 out of 30\n"
     ]
    },
    {
     "name": "stderr",
     "output_type": "stream",
     "text": [
      "Epoch 39: 100%|██████████| 56/56 [00:20<00:00,  2.71batch/s, loss=1.1171]\n"
     ]
    },
    {
     "name": "stdout",
     "output_type": "stream",
     "text": [
      "[Epoch 39] val_acc=0.668639 train_acc=0.624648 val_loss=0.027337 train_loss=0.033366\n",
      "EarlyStopping counter: 3 out of 30\n"
     ]
    },
    {
     "name": "stderr",
     "output_type": "stream",
     "text": [
      "Epoch 40: 100%|██████████| 56/56 [00:17<00:00,  3.18batch/s, loss=1.0793]\n"
     ]
    },
    {
     "name": "stdout",
     "output_type": "stream",
     "text": [
      "[Epoch 40] val_acc=0.674556 train_acc=0.645470 val_loss=0.027765 train_loss=0.032900\n",
      "EarlyStopping counter: 4 out of 30\n"
     ]
    },
    {
     "name": "stderr",
     "output_type": "stream",
     "text": [
      "Epoch 41: 100%|██████████| 56/56 [00:18<00:00,  3.10batch/s, loss=0.9075]\n"
     ]
    },
    {
     "name": "stdout",
     "output_type": "stream",
     "text": [
      "[Epoch 41] val_acc=0.656805 train_acc=0.626337 val_loss=0.028182 train_loss=0.033440\n",
      "EarlyStopping counter: 5 out of 30\n"
     ]
    },
    {
     "name": "stderr",
     "output_type": "stream",
     "text": [
      "Epoch 42: 100%|██████████| 56/56 [00:18<00:00,  3.04batch/s, loss=0.9072]\n"
     ]
    },
    {
     "name": "stdout",
     "output_type": "stream",
     "text": [
      "[Epoch 42] val_acc=0.692308 train_acc=0.628588 val_loss=0.027046 train_loss=0.033180\n",
      "Validation loss decreased (0.027191 --> 0.027046).  Saving model ...\n"
     ]
    },
    {
     "name": "stderr",
     "output_type": "stream",
     "text": [
      "Epoch 43: 100%|██████████| 56/56 [00:17<00:00,  3.12batch/s, loss=0.9289]\n"
     ]
    },
    {
     "name": "stdout",
     "output_type": "stream",
     "text": [
      "[Epoch 43] val_acc=0.710059 train_acc=0.649409 val_loss=0.026559 train_loss=0.032559\n",
      "Validation loss decreased (0.027046 --> 0.026559).  Saving model ...\n"
     ]
    },
    {
     "name": "stderr",
     "output_type": "stream",
     "text": [
      "Epoch 44: 100%|██████████| 56/56 [00:17<00:00,  3.16batch/s, loss=0.7880]\n"
     ]
    },
    {
     "name": "stdout",
     "output_type": "stream",
     "text": [
      "[Epoch 44] val_acc=0.680473 train_acc=0.648846 val_loss=0.027422 train_loss=0.032362\n",
      "EarlyStopping counter: 1 out of 30\n"
     ]
    },
    {
     "name": "stderr",
     "output_type": "stream",
     "text": [
      "Epoch 45: 100%|██████████| 56/56 [00:17<00:00,  3.21batch/s, loss=0.9857]\n"
     ]
    },
    {
     "name": "stdout",
     "output_type": "stream",
     "text": [
      "[Epoch 45] val_acc=0.707101 train_acc=0.629713 val_loss=0.027068 train_loss=0.033220\n",
      "EarlyStopping counter: 2 out of 30\n"
     ]
    },
    {
     "name": "stderr",
     "output_type": "stream",
     "text": [
      "Epoch 46: 100%|██████████| 56/56 [00:17<00:00,  3.24batch/s, loss=0.8029]\n"
     ]
    },
    {
     "name": "stdout",
     "output_type": "stream",
     "text": [
      "[Epoch 46] val_acc=0.692308 train_acc=0.640968 val_loss=0.026721 train_loss=0.032161\n",
      "EarlyStopping counter: 3 out of 30\n"
     ]
    },
    {
     "name": "stderr",
     "output_type": "stream",
     "text": [
      "Epoch 47: 100%|██████████| 56/56 [00:17<00:00,  3.14batch/s, loss=1.0260]\n"
     ]
    },
    {
     "name": "stdout",
     "output_type": "stream",
     "text": [
      "[Epoch 47] val_acc=0.701183 train_acc=0.650535 val_loss=0.026647 train_loss=0.032245\n",
      "EarlyStopping counter: 4 out of 30\n"
     ]
    },
    {
     "name": "stderr",
     "output_type": "stream",
     "text": [
      "Epoch 48: 100%|██████████| 56/56 [00:18<00:00,  3.08batch/s, loss=0.9828]\n"
     ]
    },
    {
     "name": "stdout",
     "output_type": "stream",
     "text": [
      "[Epoch 48] val_acc=0.680473 train_acc=0.647721 val_loss=0.026913 train_loss=0.032564\n",
      "EarlyStopping counter: 5 out of 30\n"
     ]
    },
    {
     "name": "stderr",
     "output_type": "stream",
     "text": [
      "Epoch 49: 100%|██████████| 56/56 [00:17<00:00,  3.19batch/s, loss=0.9266]\n"
     ]
    },
    {
     "name": "stdout",
     "output_type": "stream",
     "text": [
      "[Epoch 49] val_acc=0.650888 train_acc=0.644344 val_loss=0.027568 train_loss=0.032144\n",
      "EarlyStopping counter: 6 out of 30\n"
     ]
    },
    {
     "name": "stderr",
     "output_type": "stream",
     "text": [
      "Epoch 50: 100%|██████████| 56/56 [00:17<00:00,  3.24batch/s, loss=0.9792]\n"
     ]
    },
    {
     "name": "stdout",
     "output_type": "stream",
     "text": [
      "[Epoch 50] val_acc=0.695266 train_acc=0.642093 val_loss=0.026565 train_loss=0.032291\n",
      "EarlyStopping counter: 7 out of 30\n"
     ]
    },
    {
     "name": "stderr",
     "output_type": "stream",
     "text": [
      "Epoch 51: 100%|██████████| 56/56 [00:17<00:00,  3.20batch/s, loss=0.9434]\n"
     ]
    },
    {
     "name": "stdout",
     "output_type": "stream",
     "text": [
      "[Epoch 51] val_acc=0.659763 train_acc=0.643219 val_loss=0.027749 train_loss=0.032590\n",
      "EarlyStopping counter: 8 out of 30\n"
     ]
    },
    {
     "name": "stderr",
     "output_type": "stream",
     "text": [
      "Epoch 52: 100%|██████████| 56/56 [00:17<00:00,  3.18batch/s, loss=0.8666]\n"
     ]
    },
    {
     "name": "stdout",
     "output_type": "stream",
     "text": [
      "[Epoch 52] val_acc=0.704142 train_acc=0.648284 val_loss=0.027311 train_loss=0.032178\n",
      "EarlyStopping counter: 9 out of 30\n"
     ]
    },
    {
     "name": "stderr",
     "output_type": "stream",
     "text": [
      "Epoch 53: 100%|██████████| 56/56 [00:18<00:00,  3.10batch/s, loss=1.0065]\n"
     ]
    },
    {
     "name": "stdout",
     "output_type": "stream",
     "text": [
      "[Epoch 53] val_acc=0.668639 train_acc=0.647721 val_loss=0.027337 train_loss=0.032632\n",
      "EarlyStopping counter: 10 out of 30\n"
     ]
    },
    {
     "name": "stderr",
     "output_type": "stream",
     "text": [
      "Epoch 54: 100%|██████████| 56/56 [00:19<00:00,  2.91batch/s, loss=1.3519]\n"
     ]
    },
    {
     "name": "stdout",
     "output_type": "stream",
     "text": [
      "[Epoch 54] val_acc=0.662722 train_acc=0.657850 val_loss=0.028031 train_loss=0.032071\n",
      "EarlyStopping counter: 11 out of 30\n"
     ]
    },
    {
     "name": "stderr",
     "output_type": "stream",
     "text": [
      "Epoch 55: 100%|██████████| 56/56 [00:17<00:00,  3.21batch/s, loss=1.2372]\n"
     ]
    },
    {
     "name": "stdout",
     "output_type": "stream",
     "text": [
      "[Epoch 55] val_acc=0.695266 train_acc=0.666292 val_loss=0.026505 train_loss=0.031518\n",
      "Validation loss decreased (0.026559 --> 0.026505).  Saving model ...\n"
     ]
    },
    {
     "name": "stderr",
     "output_type": "stream",
     "text": [
      "Epoch 56: 100%|██████████| 56/56 [00:17<00:00,  3.20batch/s, loss=0.8436]\n"
     ]
    },
    {
     "name": "stdout",
     "output_type": "stream",
     "text": [
      "[Epoch 56] val_acc=0.692308 train_acc=0.669105 val_loss=0.026012 train_loss=0.031867\n",
      "Validation loss decreased (0.026505 --> 0.026012).  Saving model ...\n"
     ]
    },
    {
     "name": "stderr",
     "output_type": "stream",
     "text": [
      "Epoch 57: 100%|██████████| 56/56 [00:17<00:00,  3.22batch/s, loss=1.0281]\n"
     ]
    },
    {
     "name": "stdout",
     "output_type": "stream",
     "text": [
      "[Epoch 57] val_acc=0.665680 train_acc=0.654474 val_loss=0.027448 train_loss=0.031911\n",
      "EarlyStopping counter: 1 out of 30\n"
     ]
    },
    {
     "name": "stderr",
     "output_type": "stream",
     "text": [
      "Epoch 58: 100%|██████████| 56/56 [00:18<00:00,  3.11batch/s, loss=1.2233]\n"
     ]
    },
    {
     "name": "stdout",
     "output_type": "stream",
     "text": [
      "[Epoch 58] val_acc=0.701183 train_acc=0.666292 val_loss=0.026378 train_loss=0.031670\n",
      "EarlyStopping counter: 2 out of 30\n"
     ]
    },
    {
     "name": "stderr",
     "output_type": "stream",
     "text": [
      "Epoch 59: 100%|██████████| 56/56 [00:18<00:00,  3.07batch/s, loss=0.8844]\n"
     ]
    },
    {
     "name": "stdout",
     "output_type": "stream",
     "text": [
      "[Epoch 59] val_acc=0.683432 train_acc=0.655599 val_loss=0.026976 train_loss=0.032306\n",
      "EarlyStopping counter: 3 out of 30\n"
     ]
    },
    {
     "name": "stderr",
     "output_type": "stream",
     "text": [
      "Epoch 60: 100%|██████████| 56/56 [00:17<00:00,  3.23batch/s, loss=0.8790]\n"
     ]
    },
    {
     "name": "stdout",
     "output_type": "stream",
     "text": [
      "[Epoch 60] val_acc=0.686391 train_acc=0.671919 val_loss=0.026028 train_loss=0.031610\n",
      "EarlyStopping counter: 4 out of 30\n"
     ]
    },
    {
     "name": "stderr",
     "output_type": "stream",
     "text": [
      "Epoch 61: 100%|██████████| 56/56 [00:17<00:00,  3.22batch/s, loss=1.0681]\n"
     ]
    },
    {
     "name": "stdout",
     "output_type": "stream",
     "text": [
      "[Epoch 61] val_acc=0.692308 train_acc=0.667980 val_loss=0.026194 train_loss=0.031647\n",
      "EarlyStopping counter: 5 out of 30\n"
     ]
    },
    {
     "name": "stderr",
     "output_type": "stream",
     "text": [
      "Epoch 62: 100%|██████████| 56/56 [00:19<00:00,  2.90batch/s, loss=0.9775]\n"
     ]
    },
    {
     "name": "stdout",
     "output_type": "stream",
     "text": [
      "[Epoch 62] val_acc=0.701183 train_acc=0.680923 val_loss=0.026009 train_loss=0.030863\n",
      "Validation loss decreased (0.026012 --> 0.026009).  Saving model ...\n"
     ]
    },
    {
     "name": "stderr",
     "output_type": "stream",
     "text": [
      "Epoch 63: 100%|██████████| 56/56 [00:18<00:00,  3.10batch/s, loss=0.9961]\n"
     ]
    },
    {
     "name": "stdout",
     "output_type": "stream",
     "text": [
      "[Epoch 63] val_acc=0.707101 train_acc=0.687676 val_loss=0.025659 train_loss=0.030935\n",
      "Validation loss decreased (0.026009 --> 0.025659).  Saving model ...\n"
     ]
    },
    {
     "name": "stderr",
     "output_type": "stream",
     "text": [
      "Epoch 64: 100%|██████████| 56/56 [00:18<00:00,  3.06batch/s, loss=0.9939]\n"
     ]
    },
    {
     "name": "stdout",
     "output_type": "stream",
     "text": [
      "[Epoch 64] val_acc=0.710059 train_acc=0.689364 val_loss=0.025585 train_loss=0.031130\n",
      "Validation loss decreased (0.025659 --> 0.025585).  Saving model ...\n"
     ]
    },
    {
     "name": "stderr",
     "output_type": "stream",
     "text": [
      "Epoch 65: 100%|██████████| 56/56 [00:19<00:00,  2.90batch/s, loss=0.8023]\n"
     ]
    },
    {
     "name": "stdout",
     "output_type": "stream",
     "text": [
      "[Epoch 65] val_acc=0.713018 train_acc=0.697805 val_loss=0.025781 train_loss=0.030312\n",
      "EarlyStopping counter: 1 out of 30\n"
     ]
    },
    {
     "name": "stderr",
     "output_type": "stream",
     "text": [
      "Epoch 66: 100%|██████████| 56/56 [00:21<00:00,  2.62batch/s, loss=1.0382]\n"
     ]
    },
    {
     "name": "stdout",
     "output_type": "stream",
     "text": [
      "[Epoch 66] val_acc=0.680473 train_acc=0.709623 val_loss=0.025752 train_loss=0.030169\n",
      "EarlyStopping counter: 2 out of 30\n"
     ]
    },
    {
     "name": "stderr",
     "output_type": "stream",
     "text": [
      "Epoch 67: 100%|██████████| 56/56 [00:21<00:00,  2.66batch/s, loss=1.0534]\n"
     ]
    },
    {
     "name": "stdout",
     "output_type": "stream",
     "text": [
      "[Epoch 67] val_acc=0.671598 train_acc=0.698931 val_loss=0.026123 train_loss=0.030524\n",
      "EarlyStopping counter: 3 out of 30\n"
     ]
    },
    {
     "name": "stderr",
     "output_type": "stream",
     "text": [
      "Epoch 68: 100%|██████████| 56/56 [00:19<00:00,  2.91batch/s, loss=1.2227]\n"
     ]
    },
    {
     "name": "stdout",
     "output_type": "stream",
     "text": [
      "[Epoch 68] val_acc=0.715976 train_acc=0.697805 val_loss=0.026249 train_loss=0.030398\n",
      "EarlyStopping counter: 4 out of 30\n"
     ]
    },
    {
     "name": "stderr",
     "output_type": "stream",
     "text": [
      "Epoch 69: 100%|██████████| 56/56 [00:18<00:00,  3.07batch/s, loss=1.0715]\n"
     ]
    },
    {
     "name": "stdout",
     "output_type": "stream",
     "text": [
      "[Epoch 69] val_acc=0.674556 train_acc=0.706246 val_loss=0.025993 train_loss=0.030121\n",
      "EarlyStopping counter: 5 out of 30\n"
     ]
    },
    {
     "name": "stderr",
     "output_type": "stream",
     "text": [
      "Epoch 70: 100%|██████████| 56/56 [00:18<00:00,  3.06batch/s, loss=1.0162]\n"
     ]
    },
    {
     "name": "stdout",
     "output_type": "stream",
     "text": [
      "[Epoch 70] val_acc=0.704142 train_acc=0.690490 val_loss=0.025243 train_loss=0.030504\n",
      "Validation loss decreased (0.025585 --> 0.025243).  Saving model ...\n"
     ]
    },
    {
     "name": "stderr",
     "output_type": "stream",
     "text": [
      "Epoch 71: 100%|██████████| 56/56 [00:17<00:00,  3.11batch/s, loss=0.8809]\n"
     ]
    },
    {
     "name": "stdout",
     "output_type": "stream",
     "text": [
      "[Epoch 71] val_acc=0.674556 train_acc=0.701182 val_loss=0.026598 train_loss=0.030320\n",
      "EarlyStopping counter: 1 out of 30\n"
     ]
    },
    {
     "name": "stderr",
     "output_type": "stream",
     "text": [
      "Epoch 72: 100%|██████████| 56/56 [00:19<00:00,  2.86batch/s, loss=0.9613]\n"
     ]
    },
    {
     "name": "stdout",
     "output_type": "stream",
     "text": [
      "[Epoch 72] val_acc=0.721893 train_acc=0.696117 val_loss=0.026014 train_loss=0.030503\n",
      "EarlyStopping counter: 2 out of 30\n"
     ]
    },
    {
     "name": "stderr",
     "output_type": "stream",
     "text": [
      "Epoch 73: 100%|██████████| 56/56 [00:17<00:00,  3.12batch/s, loss=1.1039]\n"
     ]
    },
    {
     "name": "stdout",
     "output_type": "stream",
     "text": [
      "[Epoch 73] val_acc=0.674556 train_acc=0.714688 val_loss=0.026056 train_loss=0.030060\n",
      "EarlyStopping counter: 3 out of 30\n"
     ]
    },
    {
     "name": "stderr",
     "output_type": "stream",
     "text": [
      "Epoch 74: 100%|██████████| 56/56 [00:17<00:00,  3.17batch/s, loss=0.9627]\n"
     ]
    },
    {
     "name": "stdout",
     "output_type": "stream",
     "text": [
      "[Epoch 74] val_acc=0.689349 train_acc=0.684299 val_loss=0.025788 train_loss=0.030456\n",
      "EarlyStopping counter: 4 out of 30\n"
     ]
    },
    {
     "name": "stderr",
     "output_type": "stream",
     "text": [
      "Epoch 75: 100%|██████████| 56/56 [00:19<00:00,  2.87batch/s, loss=0.9950]\n"
     ]
    },
    {
     "name": "stdout",
     "output_type": "stream",
     "text": [
      "[Epoch 75] val_acc=0.733728 train_acc=0.698931 val_loss=0.025347 train_loss=0.030604\n",
      "EarlyStopping counter: 5 out of 30\n"
     ]
    },
    {
     "name": "stderr",
     "output_type": "stream",
     "text": [
      "Epoch 76: 100%|██████████| 56/56 [00:18<00:00,  3.05batch/s, loss=0.8156]\n"
     ]
    },
    {
     "name": "stdout",
     "output_type": "stream",
     "text": [
      "[Epoch 76] val_acc=0.707101 train_acc=0.700619 val_loss=0.025415 train_loss=0.030249\n",
      "EarlyStopping counter: 6 out of 30\n"
     ]
    },
    {
     "name": "stderr",
     "output_type": "stream",
     "text": [
      "Epoch 77: 100%|██████████| 56/56 [00:17<00:00,  3.24batch/s, loss=1.0073]\n"
     ]
    },
    {
     "name": "stdout",
     "output_type": "stream",
     "text": [
      "[Epoch 77] val_acc=0.718935 train_acc=0.724254 val_loss=0.025033 train_loss=0.029277\n",
      "Validation loss decreased (0.025243 --> 0.025033).  Saving model ...\n"
     ]
    },
    {
     "name": "stderr",
     "output_type": "stream",
     "text": [
      "Epoch 78: 100%|██████████| 56/56 [00:17<00:00,  3.29batch/s, loss=1.0132]\n"
     ]
    },
    {
     "name": "stdout",
     "output_type": "stream",
     "text": [
      "[Epoch 78] val_acc=0.715976 train_acc=0.696680 val_loss=0.025391 train_loss=0.030067\n",
      "EarlyStopping counter: 1 out of 30\n"
     ]
    },
    {
     "name": "stderr",
     "output_type": "stream",
     "text": [
      "Epoch 79: 100%|██████████| 56/56 [00:17<00:00,  3.11batch/s, loss=0.9484]\n"
     ]
    },
    {
     "name": "stdout",
     "output_type": "stream",
     "text": [
      "[Epoch 79] val_acc=0.710059 train_acc=0.708497 val_loss=0.025265 train_loss=0.029727\n",
      "EarlyStopping counter: 2 out of 30\n"
     ]
    },
    {
     "name": "stderr",
     "output_type": "stream",
     "text": [
      "Epoch 80: 100%|██████████| 56/56 [00:17<00:00,  3.14batch/s, loss=0.9301]\n"
     ]
    },
    {
     "name": "stdout",
     "output_type": "stream",
     "text": [
      "[Epoch 80] val_acc=0.713018 train_acc=0.711874 val_loss=0.025335 train_loss=0.029603\n",
      "EarlyStopping counter: 3 out of 30\n"
     ]
    },
    {
     "name": "stderr",
     "output_type": "stream",
     "text": [
      "Epoch 81: 100%|██████████| 56/56 [00:20<00:00,  2.77batch/s, loss=1.1736]\n"
     ]
    },
    {
     "name": "stdout",
     "output_type": "stream",
     "text": [
      "[Epoch 81] val_acc=0.686391 train_acc=0.711874 val_loss=0.026162 train_loss=0.030037\n",
      "EarlyStopping counter: 4 out of 30\n"
     ]
    },
    {
     "name": "stderr",
     "output_type": "stream",
     "text": [
      "Epoch 82: 100%|██████████| 56/56 [00:20<00:00,  2.71batch/s, loss=1.0676]\n"
     ]
    },
    {
     "name": "stdout",
     "output_type": "stream",
     "text": [
      "[Epoch 82] val_acc=0.713018 train_acc=0.705684 val_loss=0.025087 train_loss=0.029932\n",
      "EarlyStopping counter: 5 out of 30\n"
     ]
    },
    {
     "name": "stderr",
     "output_type": "stream",
     "text": [
      "Epoch 83: 100%|██████████| 56/56 [00:21<00:00,  2.65batch/s, loss=0.8738]\n"
     ]
    },
    {
     "name": "stdout",
     "output_type": "stream",
     "text": [
      "[Epoch 83] val_acc=0.695266 train_acc=0.709060 val_loss=0.025221 train_loss=0.030212\n",
      "EarlyStopping counter: 6 out of 30\n"
     ]
    },
    {
     "name": "stderr",
     "output_type": "stream",
     "text": [
      "Epoch 84: 100%|██████████| 56/56 [00:19<00:00,  2.88batch/s, loss=1.0015]\n"
     ]
    },
    {
     "name": "stdout",
     "output_type": "stream",
     "text": [
      "[Epoch 84] val_acc=0.713018 train_acc=0.719752 val_loss=0.024765 train_loss=0.029106\n",
      "Validation loss decreased (0.025033 --> 0.024765).  Saving model ...\n"
     ]
    },
    {
     "name": "stderr",
     "output_type": "stream",
     "text": [
      "Epoch 85: 100%|██████████| 56/56 [00:17<00:00,  3.16batch/s, loss=0.9944]\n"
     ]
    },
    {
     "name": "stdout",
     "output_type": "stream",
     "text": [
      "[Epoch 85] val_acc=0.710059 train_acc=0.714688 val_loss=0.024935 train_loss=0.029472\n",
      "EarlyStopping counter: 1 out of 30\n"
     ]
    },
    {
     "name": "stderr",
     "output_type": "stream",
     "text": [
      "Epoch 86: 100%|██████████| 56/56 [00:18<00:00,  3.10batch/s, loss=1.0073]\n"
     ]
    },
    {
     "name": "stdout",
     "output_type": "stream",
     "text": [
      "[Epoch 86] val_acc=0.710059 train_acc=0.718627 val_loss=0.024864 train_loss=0.030018\n",
      "EarlyStopping counter: 2 out of 30\n"
     ]
    },
    {
     "name": "stderr",
     "output_type": "stream",
     "text": [
      "Epoch 87: 100%|██████████| 56/56 [00:18<00:00,  3.02batch/s, loss=0.9616]\n"
     ]
    },
    {
     "name": "stdout",
     "output_type": "stream",
     "text": [
      "[Epoch 87] val_acc=0.698225 train_acc=0.716376 val_loss=0.024824 train_loss=0.029398\n",
      "EarlyStopping counter: 3 out of 30\n"
     ]
    },
    {
     "name": "stderr",
     "output_type": "stream",
     "text": [
      "Epoch 88: 100%|██████████| 56/56 [00:22<00:00,  2.46batch/s, loss=1.1505]\n"
     ]
    },
    {
     "name": "stdout",
     "output_type": "stream",
     "text": [
      "[Epoch 88] val_acc=0.707101 train_acc=0.712999 val_loss=0.024692 train_loss=0.029776\n",
      "Validation loss decreased (0.024765 --> 0.024692).  Saving model ...\n"
     ]
    },
    {
     "name": "stderr",
     "output_type": "stream",
     "text": [
      "Epoch 89: 100%|██████████| 56/56 [00:18<00:00,  3.06batch/s, loss=1.0413]\n"
     ]
    },
    {
     "name": "stdout",
     "output_type": "stream",
     "text": [
      "[Epoch 89] val_acc=0.721893 train_acc=0.718064 val_loss=0.024747 train_loss=0.029383\n",
      "EarlyStopping counter: 1 out of 30\n"
     ]
    },
    {
     "name": "stderr",
     "output_type": "stream",
     "text": [
      "Epoch 90: 100%|██████████| 56/56 [00:18<00:00,  3.03batch/s, loss=0.9221]\n"
     ]
    },
    {
     "name": "stdout",
     "output_type": "stream",
     "text": [
      "[Epoch 90] val_acc=0.704142 train_acc=0.726505 val_loss=0.024846 train_loss=0.029209\n",
      "EarlyStopping counter: 2 out of 30\n"
     ]
    },
    {
     "name": "stderr",
     "output_type": "stream",
     "text": [
      "Epoch 91: 100%|██████████| 56/56 [00:17<00:00,  3.21batch/s, loss=1.0288]\n"
     ]
    },
    {
     "name": "stdout",
     "output_type": "stream",
     "text": [
      "[Epoch 91] val_acc=0.713018 train_acc=0.733821 val_loss=0.025004 train_loss=0.028898\n",
      "EarlyStopping counter: 3 out of 30\n"
     ]
    },
    {
     "name": "stderr",
     "output_type": "stream",
     "text": [
      "Epoch 92: 100%|██████████| 56/56 [00:17<00:00,  3.20batch/s, loss=0.9717]\n"
     ]
    },
    {
     "name": "stdout",
     "output_type": "stream",
     "text": [
      "[Epoch 92] val_acc=0.701183 train_acc=0.724254 val_loss=0.024902 train_loss=0.029584\n",
      "EarlyStopping counter: 4 out of 30\n"
     ]
    },
    {
     "name": "stderr",
     "output_type": "stream",
     "text": [
      "Epoch 93: 100%|██████████| 56/56 [00:19<00:00,  2.92batch/s, loss=0.8260]\n"
     ]
    },
    {
     "name": "stdout",
     "output_type": "stream",
     "text": [
      "[Epoch 93] val_acc=0.715976 train_acc=0.731007 val_loss=0.024712 train_loss=0.028876\n",
      "EarlyStopping counter: 5 out of 30\n"
     ]
    },
    {
     "name": "stderr",
     "output_type": "stream",
     "text": [
      "Epoch 94: 100%|██████████| 56/56 [00:18<00:00,  3.07batch/s, loss=0.7920]\n"
     ]
    },
    {
     "name": "stdout",
     "output_type": "stream",
     "text": [
      "[Epoch 94] val_acc=0.724852 train_acc=0.731007 val_loss=0.024524 train_loss=0.029326\n",
      "Validation loss decreased (0.024692 --> 0.024524).  Saving model ...\n"
     ]
    },
    {
     "name": "stderr",
     "output_type": "stream",
     "text": [
      "Epoch 95: 100%|██████████| 56/56 [00:18<00:00,  2.96batch/s, loss=0.7550]\n"
     ]
    },
    {
     "name": "stdout",
     "output_type": "stream",
     "text": [
      "[Epoch 95] val_acc=0.718935 train_acc=0.720315 val_loss=0.024623 train_loss=0.028842\n",
      "EarlyStopping counter: 1 out of 30\n"
     ]
    },
    {
     "name": "stderr",
     "output_type": "stream",
     "text": [
      "Epoch 96: 100%|██████████| 56/56 [00:21<00:00,  2.64batch/s, loss=1.2691]\n"
     ]
    },
    {
     "name": "stdout",
     "output_type": "stream",
     "text": [
      "[Epoch 96] val_acc=0.718935 train_acc=0.733821 val_loss=0.024625 train_loss=0.028455\n",
      "EarlyStopping counter: 2 out of 30\n"
     ]
    },
    {
     "name": "stderr",
     "output_type": "stream",
     "text": [
      "Epoch 97: 100%|██████████| 56/56 [00:22<00:00,  2.54batch/s, loss=0.8013]\n"
     ]
    },
    {
     "name": "stdout",
     "output_type": "stream",
     "text": [
      "[Epoch 97] val_acc=0.710059 train_acc=0.731007 val_loss=0.024578 train_loss=0.029231\n",
      "EarlyStopping counter: 3 out of 30\n"
     ]
    },
    {
     "name": "stderr",
     "output_type": "stream",
     "text": [
      "Epoch 98: 100%|██████████| 56/56 [00:22<00:00,  2.49batch/s, loss=0.9939]\n"
     ]
    },
    {
     "name": "stdout",
     "output_type": "stream",
     "text": [
      "[Epoch 98] val_acc=0.721893 train_acc=0.737198 val_loss=0.024693 train_loss=0.028683\n",
      "EarlyStopping counter: 4 out of 30\n"
     ]
    },
    {
     "name": "stderr",
     "output_type": "stream",
     "text": [
      "Epoch 99: 100%|██████████| 56/56 [00:18<00:00,  3.05batch/s, loss=0.8553]\n"
     ]
    },
    {
     "name": "stdout",
     "output_type": "stream",
     "text": [
      "[Epoch 99] val_acc=0.713018 train_acc=0.743388 val_loss=0.024477 train_loss=0.028414\n",
      "Validation loss decreased (0.024524 --> 0.024477).  Saving model ...\n"
     ]
    },
    {
     "name": "stderr",
     "output_type": "stream",
     "text": [
      "Epoch 100: 100%|██████████| 56/56 [00:20<00:00,  2.73batch/s, loss=0.9465]\n"
     ]
    },
    {
     "name": "stdout",
     "output_type": "stream",
     "text": [
      "[Epoch 100] val_acc=0.713018 train_acc=0.731007 val_loss=0.024381 train_loss=0.028799\n",
      "Validation loss decreased (0.024477 --> 0.024381).  Saving model ...\n"
     ]
    },
    {
     "name": "stderr",
     "output_type": "stream",
     "text": [
      "Epoch 101: 100%|██████████| 56/56 [00:21<00:00,  2.63batch/s, loss=0.8484]\n"
     ]
    },
    {
     "name": "stdout",
     "output_type": "stream",
     "text": [
      "[Epoch 101] val_acc=0.724852 train_acc=0.737198 val_loss=0.024533 train_loss=0.028622\n",
      "EarlyStopping counter: 1 out of 30\n"
     ]
    },
    {
     "name": "stderr",
     "output_type": "stream",
     "text": [
      "Epoch 102: 100%|██████████| 56/56 [00:22<00:00,  2.50batch/s, loss=0.8615]\n"
     ]
    },
    {
     "name": "stdout",
     "output_type": "stream",
     "text": [
      "[Epoch 102] val_acc=0.710059 train_acc=0.756331 val_loss=0.024368 train_loss=0.028599\n",
      "Validation loss decreased (0.024381 --> 0.024368).  Saving model ...\n"
     ]
    },
    {
     "name": "stderr",
     "output_type": "stream",
     "text": [
      "Epoch 103: 100%|██████████| 56/56 [00:18<00:00,  2.97batch/s, loss=0.8469]\n"
     ]
    },
    {
     "name": "stdout",
     "output_type": "stream",
     "text": [
      "[Epoch 103] val_acc=0.721893 train_acc=0.735509 val_loss=0.024616 train_loss=0.029034\n",
      "EarlyStopping counter: 1 out of 30\n"
     ]
    },
    {
     "name": "stderr",
     "output_type": "stream",
     "text": [
      "Epoch 104: 100%|██████████| 56/56 [00:19<00:00,  2.88batch/s, loss=0.9181]\n"
     ]
    },
    {
     "name": "stdout",
     "output_type": "stream",
     "text": [
      "[Epoch 104] val_acc=0.715976 train_acc=0.749015 val_loss=0.024509 train_loss=0.028568\n",
      "EarlyStopping counter: 2 out of 30\n"
     ]
    },
    {
     "name": "stderr",
     "output_type": "stream",
     "text": [
      "Epoch 105: 100%|██████████| 56/56 [00:18<00:00,  3.03batch/s, loss=0.8260]\n"
     ]
    },
    {
     "name": "stdout",
     "output_type": "stream",
     "text": [
      "[Epoch 105] val_acc=0.718935 train_acc=0.726505 val_loss=0.024658 train_loss=0.028749\n",
      "EarlyStopping counter: 3 out of 30\n"
     ]
    },
    {
     "name": "stderr",
     "output_type": "stream",
     "text": [
      "Epoch 106: 100%|██████████| 56/56 [00:18<00:00,  3.04batch/s, loss=1.0885]\n"
     ]
    },
    {
     "name": "stdout",
     "output_type": "stream",
     "text": [
      "[Epoch 106] val_acc=0.715976 train_acc=0.731007 val_loss=0.024390 train_loss=0.028877\n",
      "EarlyStopping counter: 4 out of 30\n"
     ]
    },
    {
     "name": "stderr",
     "output_type": "stream",
     "text": [
      "Epoch 107: 100%|██████████| 56/56 [00:18<00:00,  2.97batch/s, loss=0.9323]\n"
     ]
    },
    {
     "name": "stdout",
     "output_type": "stream",
     "text": [
      "[Epoch 107] val_acc=0.724852 train_acc=0.740011 val_loss=0.024463 train_loss=0.028445\n",
      "EarlyStopping counter: 5 out of 30\n"
     ]
    },
    {
     "name": "stderr",
     "output_type": "stream",
     "text": [
      "Epoch 108: 100%|██████████| 56/56 [00:18<00:00,  3.05batch/s, loss=0.7478]\n"
     ]
    },
    {
     "name": "stdout",
     "output_type": "stream",
     "text": [
      "[Epoch 108] val_acc=0.721893 train_acc=0.745076 val_loss=0.024318 train_loss=0.028714\n",
      "Validation loss decreased (0.024368 --> 0.024318).  Saving model ...\n"
     ]
    },
    {
     "name": "stderr",
     "output_type": "stream",
     "text": [
      "Epoch 109: 100%|██████████| 56/56 [00:18<00:00,  3.08batch/s, loss=0.8514]\n"
     ]
    },
    {
     "name": "stdout",
     "output_type": "stream",
     "text": [
      "[Epoch 109] val_acc=0.724852 train_acc=0.732696 val_loss=0.024429 train_loss=0.028539\n",
      "EarlyStopping counter: 1 out of 30\n"
     ]
    },
    {
     "name": "stderr",
     "output_type": "stream",
     "text": [
      "Epoch 110: 100%|██████████| 56/56 [00:20<00:00,  2.73batch/s, loss=0.8820]\n"
     ]
    },
    {
     "name": "stdout",
     "output_type": "stream",
     "text": [
      "[Epoch 110] val_acc=0.721893 train_acc=0.736072 val_loss=0.024521 train_loss=0.028730\n",
      "EarlyStopping counter: 2 out of 30\n"
     ]
    },
    {
     "name": "stderr",
     "output_type": "stream",
     "text": [
      "Epoch 111: 100%|██████████| 56/56 [00:22<00:00,  2.46batch/s, loss=1.1827]\n"
     ]
    },
    {
     "name": "stdout",
     "output_type": "stream",
     "text": [
      "[Epoch 111] val_acc=0.727811 train_acc=0.735509 val_loss=0.024387 train_loss=0.028577\n",
      "EarlyStopping counter: 3 out of 30\n"
     ]
    },
    {
     "name": "stderr",
     "output_type": "stream",
     "text": [
      "Epoch 112: 100%|██████████| 56/56 [00:20<00:00,  2.76batch/s, loss=0.8077]\n"
     ]
    },
    {
     "name": "stdout",
     "output_type": "stream",
     "text": [
      "[Epoch 112] val_acc=0.721893 train_acc=0.748452 val_loss=0.024392 train_loss=0.028231\n",
      "EarlyStopping counter: 4 out of 30\n"
     ]
    },
    {
     "name": "stderr",
     "output_type": "stream",
     "text": [
      "Epoch 113: 100%|██████████| 56/56 [00:20<00:00,  2.74batch/s, loss=1.0673]\n"
     ]
    },
    {
     "name": "stdout",
     "output_type": "stream",
     "text": [
      "[Epoch 113] val_acc=0.721893 train_acc=0.725943 val_loss=0.024331 train_loss=0.028835\n",
      "EarlyStopping counter: 5 out of 30\n"
     ]
    },
    {
     "name": "stderr",
     "output_type": "stream",
     "text": [
      "Epoch 114: 100%|██████████| 56/56 [00:23<00:00,  2.42batch/s, loss=0.8352]\n"
     ]
    },
    {
     "name": "stdout",
     "output_type": "stream",
     "text": [
      "[Epoch 114] val_acc=0.724852 train_acc=0.747327 val_loss=0.024417 train_loss=0.028233\n",
      "EarlyStopping counter: 6 out of 30\n"
     ]
    },
    {
     "name": "stderr",
     "output_type": "stream",
     "text": [
      "Epoch 115: 100%|██████████| 56/56 [00:22<00:00,  2.53batch/s, loss=0.9763]\n"
     ]
    },
    {
     "name": "stdout",
     "output_type": "stream",
     "text": [
      "[Epoch 115] val_acc=0.710059 train_acc=0.738886 val_loss=0.024414 train_loss=0.028691\n",
      "EarlyStopping counter: 7 out of 30\n"
     ]
    },
    {
     "name": "stderr",
     "output_type": "stream",
     "text": [
      "Epoch 116: 100%|██████████| 56/56 [00:21<00:00,  2.63batch/s, loss=1.0479]\n"
     ]
    },
    {
     "name": "stdout",
     "output_type": "stream",
     "text": [
      "[Epoch 116] val_acc=0.715976 train_acc=0.747890 val_loss=0.024307 train_loss=0.028417\n",
      "Validation loss decreased (0.024318 --> 0.024307).  Saving model ...\n"
     ]
    },
    {
     "name": "stderr",
     "output_type": "stream",
     "text": [
      "Epoch 117: 100%|██████████| 56/56 [00:24<00:00,  2.27batch/s, loss=1.0339]\n"
     ]
    },
    {
     "name": "stdout",
     "output_type": "stream",
     "text": [
      "[Epoch 117] val_acc=0.721893 train_acc=0.733821 val_loss=0.024352 train_loss=0.028746\n",
      "EarlyStopping counter: 1 out of 30\n"
     ]
    },
    {
     "name": "stderr",
     "output_type": "stream",
     "text": [
      "Epoch 118: 100%|██████████| 56/56 [00:19<00:00,  2.91batch/s, loss=1.1367]\n"
     ]
    },
    {
     "name": "stdout",
     "output_type": "stream",
     "text": [
      "[Epoch 118] val_acc=0.713018 train_acc=0.743950 val_loss=0.024365 train_loss=0.028753\n",
      "EarlyStopping counter: 2 out of 30\n"
     ]
    },
    {
     "name": "stderr",
     "output_type": "stream",
     "text": [
      "Epoch 119: 100%|██████████| 56/56 [00:21<00:00,  2.65batch/s, loss=0.9665]\n"
     ]
    },
    {
     "name": "stdout",
     "output_type": "stream",
     "text": [
      "[Epoch 119] val_acc=0.715976 train_acc=0.750703 val_loss=0.024384 train_loss=0.028409\n",
      "EarlyStopping counter: 3 out of 30\n"
     ]
    },
    {
     "name": "stderr",
     "output_type": "stream",
     "text": [
      "Epoch 120: 100%|██████████| 56/56 [00:20<00:00,  2.72batch/s, loss=1.0438]\n"
     ]
    },
    {
     "name": "stdout",
     "output_type": "stream",
     "text": [
      "[Epoch 120] val_acc=0.721893 train_acc=0.739449 val_loss=0.024400 train_loss=0.028496\n",
      "EarlyStopping counter: 4 out of 30\n"
     ]
    },
    {
     "name": "stderr",
     "output_type": "stream",
     "text": [
      "Epoch 121: 100%|██████████| 56/56 [00:18<00:00,  2.96batch/s, loss=0.7664]\n"
     ]
    },
    {
     "name": "stdout",
     "output_type": "stream",
     "text": [
      "[Epoch 121] val_acc=0.724852 train_acc=0.745639 val_loss=0.024406 train_loss=0.028238\n",
      "EarlyStopping counter: 5 out of 30\n"
     ]
    },
    {
     "name": "stderr",
     "output_type": "stream",
     "text": [
      "Epoch 122: 100%|██████████| 56/56 [00:19<00:00,  2.81batch/s, loss=0.8861]\n"
     ]
    },
    {
     "name": "stdout",
     "output_type": "stream",
     "text": [
      "[Epoch 122] val_acc=0.721893 train_acc=0.745076 val_loss=0.024375 train_loss=0.028518\n",
      "EarlyStopping counter: 6 out of 30\n"
     ]
    },
    {
     "name": "stderr",
     "output_type": "stream",
     "text": [
      "Epoch 123: 100%|██████████| 56/56 [00:19<00:00,  2.84batch/s, loss=0.8107]\n"
     ]
    },
    {
     "name": "stdout",
     "output_type": "stream",
     "text": [
      "[Epoch 123] val_acc=0.721893 train_acc=0.743950 val_loss=0.024357 train_loss=0.028624\n",
      "EarlyStopping counter: 7 out of 30\n"
     ]
    },
    {
     "name": "stderr",
     "output_type": "stream",
     "text": [
      "Epoch 124: 100%|██████████| 56/56 [00:20<00:00,  2.67batch/s, loss=1.0084]\n"
     ]
    },
    {
     "name": "stdout",
     "output_type": "stream",
     "text": [
      "[Epoch 124] val_acc=0.718935 train_acc=0.736635 val_loss=0.024326 train_loss=0.028562\n",
      "EarlyStopping counter: 8 out of 30\n"
     ]
    },
    {
     "name": "stderr",
     "output_type": "stream",
     "text": [
      "Epoch 125: 100%|██████████| 56/56 [00:21<00:00,  2.57batch/s, loss=0.9161]\n"
     ]
    },
    {
     "name": "stdout",
     "output_type": "stream",
     "text": [
      "[Epoch 125] val_acc=0.721893 train_acc=0.742262 val_loss=0.024344 train_loss=0.028496\n",
      "EarlyStopping counter: 9 out of 30\n"
     ]
    },
    {
     "name": "stderr",
     "output_type": "stream",
     "text": [
      "Epoch 126: 100%|██████████| 56/56 [00:20<00:00,  2.67batch/s, loss=0.9414]\n"
     ]
    },
    {
     "name": "stdout",
     "output_type": "stream",
     "text": [
      "[Epoch 126] val_acc=0.718935 train_acc=0.746764 val_loss=0.024337 train_loss=0.028414\n",
      "EarlyStopping counter: 10 out of 30\n"
     ]
    },
    {
     "name": "stderr",
     "output_type": "stream",
     "text": [
      "Epoch 127: 100%|██████████| 56/56 [00:20<00:00,  2.78batch/s, loss=0.8738]\n"
     ]
    },
    {
     "name": "stdout",
     "output_type": "stream",
     "text": [
      "[Epoch 127] val_acc=0.721893 train_acc=0.746764 val_loss=0.024331 train_loss=0.028382\n",
      "EarlyStopping counter: 11 out of 30\n"
     ]
    },
    {
     "name": "stderr",
     "output_type": "stream",
     "text": [
      "Epoch 128: 100%|██████████| 56/56 [00:20<00:00,  2.79batch/s, loss=0.8566]\n"
     ]
    },
    {
     "name": "stdout",
     "output_type": "stream",
     "text": [
      "[Epoch 128] val_acc=0.721893 train_acc=0.755205 val_loss=0.024315 train_loss=0.028022\n",
      "EarlyStopping counter: 12 out of 30\n"
     ]
    },
    {
     "name": "stderr",
     "output_type": "stream",
     "text": [
      "Epoch 129: 100%|██████████| 56/56 [00:21<00:00,  2.62batch/s, loss=0.7805]\n"
     ]
    },
    {
     "name": "stdout",
     "output_type": "stream",
     "text": [
      "[Epoch 129] val_acc=0.718935 train_acc=0.729882 val_loss=0.024321 train_loss=0.028989\n",
      "EarlyStopping counter: 13 out of 30\n"
     ]
    },
    {
     "name": "stderr",
     "output_type": "stream",
     "text": [
      "Epoch 130: 100%|██████████| 56/56 [00:21<00:00,  2.58batch/s, loss=1.0677]\n"
     ]
    },
    {
     "name": "stdout",
     "output_type": "stream",
     "text": [
      "[Epoch 130] val_acc=0.718935 train_acc=0.733821 val_loss=0.024314 train_loss=0.028874\n",
      "EarlyStopping counter: 14 out of 30\n"
     ]
    },
    {
     "name": "stderr",
     "output_type": "stream",
     "text": [
      "Epoch 131: 100%|██████████| 56/56 [00:21<00:00,  2.58batch/s, loss=0.7453]\n"
     ]
    },
    {
     "name": "stdout",
     "output_type": "stream",
     "text": [
      "[Epoch 131] val_acc=0.718935 train_acc=0.743950 val_loss=0.024296 train_loss=0.028174\n",
      "Validation loss decreased (0.024307 --> 0.024296).  Saving model ...\n"
     ]
    },
    {
     "name": "stderr",
     "output_type": "stream",
     "text": [
      "Epoch 132: 100%|██████████| 56/56 [00:22<00:00,  2.50batch/s, loss=0.8785]\n"
     ]
    },
    {
     "name": "stdout",
     "output_type": "stream",
     "text": [
      "[Epoch 132] val_acc=0.718935 train_acc=0.738886 val_loss=0.024309 train_loss=0.028586\n",
      "EarlyStopping counter: 1 out of 30\n"
     ]
    },
    {
     "name": "stderr",
     "output_type": "stream",
     "text": [
      "Epoch 133: 100%|██████████| 56/56 [00:21<00:00,  2.64batch/s, loss=0.7457]\n"
     ]
    },
    {
     "name": "stdout",
     "output_type": "stream",
     "text": [
      "[Epoch 133] val_acc=0.718935 train_acc=0.763084 val_loss=0.024304 train_loss=0.027474\n",
      "EarlyStopping counter: 2 out of 30\n"
     ]
    },
    {
     "name": "stderr",
     "output_type": "stream",
     "text": [
      "Epoch 134: 100%|██████████| 56/56 [00:20<00:00,  2.75batch/s, loss=0.8285]\n"
     ]
    },
    {
     "name": "stdout",
     "output_type": "stream",
     "text": [
      "[Epoch 134] val_acc=0.721893 train_acc=0.741137 val_loss=0.024322 train_loss=0.028321\n",
      "EarlyStopping counter: 3 out of 30\n"
     ]
    },
    {
     "name": "stderr",
     "output_type": "stream",
     "text": [
      "Epoch 135: 100%|██████████| 56/56 [00:20<00:00,  2.70batch/s, loss=1.0413]\n"
     ]
    },
    {
     "name": "stdout",
     "output_type": "stream",
     "text": [
      "[Epoch 135] val_acc=0.721893 train_acc=0.732696 val_loss=0.024331 train_loss=0.028568\n",
      "EarlyStopping counter: 4 out of 30\n"
     ]
    },
    {
     "name": "stderr",
     "output_type": "stream",
     "text": [
      "Epoch 136: 100%|██████████| 56/56 [00:19<00:00,  2.82batch/s, loss=0.8850]\n"
     ]
    },
    {
     "name": "stdout",
     "output_type": "stream",
     "text": [
      "[Epoch 136] val_acc=0.718935 train_acc=0.743950 val_loss=0.024310 train_loss=0.028337\n",
      "EarlyStopping counter: 5 out of 30\n"
     ]
    },
    {
     "name": "stderr",
     "output_type": "stream",
     "text": [
      "Epoch 137: 100%|██████████| 56/56 [00:18<00:00,  2.97batch/s, loss=0.8894]\n"
     ]
    },
    {
     "name": "stdout",
     "output_type": "stream",
     "text": [
      "[Epoch 137] val_acc=0.718935 train_acc=0.760270 val_loss=0.024290 train_loss=0.028106\n",
      "Validation loss decreased (0.024296 --> 0.024290).  Saving model ...\n"
     ]
    },
    {
     "name": "stderr",
     "output_type": "stream",
     "text": [
      "Epoch 138: 100%|██████████| 56/56 [00:20<00:00,  2.75batch/s, loss=0.9082]\n"
     ]
    },
    {
     "name": "stdout",
     "output_type": "stream",
     "text": [
      "[Epoch 138] val_acc=0.718935 train_acc=0.733258 val_loss=0.024308 train_loss=0.028442\n",
      "EarlyStopping counter: 1 out of 30\n"
     ]
    },
    {
     "name": "stderr",
     "output_type": "stream",
     "text": [
      "Epoch 139: 100%|██████████| 56/56 [00:20<00:00,  2.71batch/s, loss=0.7221]\n"
     ]
    },
    {
     "name": "stdout",
     "output_type": "stream",
     "text": [
      "[Epoch 139] val_acc=0.718935 train_acc=0.745639 val_loss=0.024305 train_loss=0.027907\n",
      "EarlyStopping counter: 2 out of 30\n"
     ]
    },
    {
     "name": "stderr",
     "output_type": "stream",
     "text": [
      "Epoch 140: 100%|██████████| 56/56 [00:21<00:00,  2.55batch/s, loss=0.8536]\n"
     ]
    },
    {
     "name": "stdout",
     "output_type": "stream",
     "text": [
      "[Epoch 140] val_acc=0.718935 train_acc=0.754080 val_loss=0.024306 train_loss=0.028501\n",
      "EarlyStopping counter: 3 out of 30\n"
     ]
    },
    {
     "name": "stderr",
     "output_type": "stream",
     "text": [
      "Epoch 141: 100%|██████████| 56/56 [00:22<00:00,  2.51batch/s, loss=0.7507]\n"
     ]
    },
    {
     "name": "stdout",
     "output_type": "stream",
     "text": [
      "[Epoch 141] val_acc=0.718935 train_acc=0.731570 val_loss=0.024299 train_loss=0.028238\n",
      "EarlyStopping counter: 4 out of 30\n"
     ]
    },
    {
     "name": "stderr",
     "output_type": "stream",
     "text": [
      "Epoch 142: 100%|██████████| 56/56 [00:21<00:00,  2.56batch/s, loss=0.9825]\n"
     ]
    },
    {
     "name": "stdout",
     "output_type": "stream",
     "text": [
      "[Epoch 142] val_acc=0.718935 train_acc=0.747327 val_loss=0.024291 train_loss=0.028309\n",
      "EarlyStopping counter: 5 out of 30\n"
     ]
    },
    {
     "name": "stderr",
     "output_type": "stream",
     "text": [
      "Epoch 143: 100%|██████████| 56/56 [00:21<00:00,  2.65batch/s, loss=0.8900]\n"
     ]
    },
    {
     "name": "stdout",
     "output_type": "stream",
     "text": [
      "[Epoch 143] val_acc=0.718935 train_acc=0.741137 val_loss=0.024283 train_loss=0.028432\n",
      "Validation loss decreased (0.024290 --> 0.024283).  Saving model ...\n"
     ]
    },
    {
     "name": "stderr",
     "output_type": "stream",
     "text": [
      "Epoch 144: 100%|██████████| 56/56 [00:22<00:00,  2.52batch/s, loss=0.9147]\n"
     ]
    },
    {
     "name": "stdout",
     "output_type": "stream",
     "text": [
      "[Epoch 144] val_acc=0.718935 train_acc=0.738886 val_loss=0.024272 train_loss=0.028756\n",
      "Validation loss decreased (0.024283 --> 0.024272).  Saving model ...\n"
     ]
    },
    {
     "name": "stderr",
     "output_type": "stream",
     "text": [
      "Epoch 145: 100%|██████████| 56/56 [00:21<00:00,  2.60batch/s, loss=1.0904]\n"
     ]
    },
    {
     "name": "stdout",
     "output_type": "stream",
     "text": [
      "[Epoch 145] val_acc=0.718935 train_acc=0.739449 val_loss=0.024266 train_loss=0.028731\n",
      "Validation loss decreased (0.024272 --> 0.024266).  Saving model ...\n"
     ]
    },
    {
     "name": "stderr",
     "output_type": "stream",
     "text": [
      "Epoch 146: 100%|██████████| 56/56 [00:22<00:00,  2.49batch/s, loss=0.9299]\n"
     ]
    },
    {
     "name": "stdout",
     "output_type": "stream",
     "text": [
      "[Epoch 146] val_acc=0.718935 train_acc=0.725943 val_loss=0.024276 train_loss=0.028976\n",
      "EarlyStopping counter: 1 out of 30\n"
     ]
    },
    {
     "name": "stderr",
     "output_type": "stream",
     "text": [
      "Epoch 147: 100%|██████████| 56/56 [00:20<00:00,  2.70batch/s, loss=0.8336]\n"
     ]
    },
    {
     "name": "stdout",
     "output_type": "stream",
     "text": [
      "[Epoch 147] val_acc=0.718935 train_acc=0.743950 val_loss=0.024281 train_loss=0.028616\n",
      "EarlyStopping counter: 2 out of 30\n"
     ]
    },
    {
     "name": "stderr",
     "output_type": "stream",
     "text": [
      "Epoch 148: 100%|██████████| 56/56 [00:19<00:00,  2.91batch/s, loss=0.9542]\n"
     ]
    },
    {
     "name": "stdout",
     "output_type": "stream",
     "text": [
      "[Epoch 148] val_acc=0.718935 train_acc=0.741137 val_loss=0.024272 train_loss=0.028429\n",
      "EarlyStopping counter: 3 out of 30\n"
     ]
    },
    {
     "name": "stderr",
     "output_type": "stream",
     "text": [
      "Epoch 149: 100%|██████████| 56/56 [00:20<00:00,  2.80batch/s, loss=0.9047]\n"
     ]
    },
    {
     "name": "stdout",
     "output_type": "stream",
     "text": [
      "[Epoch 149] val_acc=0.718935 train_acc=0.750141 val_loss=0.024281 train_loss=0.028214\n",
      "EarlyStopping counter: 4 out of 30\n"
     ]
    }
   ],
   "source": [
    "from utils.training import train\n",
    "\n",
    "aug_model = model\n",
    "aug_model.to(device)\n",
    "\n",
    "optimizer = torch.optim.Adam(aug_model.parameters(), lr=0.001,  weight_decay=0.000001)\n",
    "scheduler = torch.optim.lr_scheduler.ReduceLROnPlateau(optimizer, mode='min', factor=0.5, patience=5, verbose=True)\n",
    "\n",
    "tr_loader = train_aug_loader\n",
    "\n",
    "train_loss_hist, train_acc_hist, val_loss_hist, val_acc_hist = train(\n",
    "    model=aug_model,\n",
    "    optimizer=optimizer,\n",
    "    loss_func=nn.CrossEntropyLoss(),\n",
    "    train_data=tr_loader,\n",
    "    val_data=val_loader,\n",
    "    early_stopping_patience=30,\n",
    "    scheduler=scheduler,\n",
    "    cp_path=\"models/cnn\",\n",
    "    cp_filename=\"aug.pt\",\n",
    "    n_epochs=150,\n",
    "    show_progress_bar=True,\n",
    ")"
   ]
  },
  {
   "cell_type": "code",
   "execution_count": 232,
   "metadata": {},
   "outputs": [
    {
     "data": {
      "image/png": "[encoded data removed]",
      "text/plain": [
       "<Figure size 640x480 with 1 Axes>"
      ]
     },
     "metadata": {},
     "output_type": "display_data"
    }
   ],
   "source": [
    "plt.plot(train_loss_hist, label=\"Train Loss\")\n",
    "plt.plot(val_loss_hist, label=\"Val Loss\")\n",
    "plt.title(\"Aug Data Model Losses\")\n",
    "plt.xlabel(\"Epoch\")\n",
    "plt.ylabel(\"Loss\")\n",
    "plt.legend()\n",
    "plt.show()"
   ]
  },
  {
   "cell_type": "code",
   "execution_count": 233,
   "metadata": {},
   "outputs": [
    {
     "data": {
      "image/png": "[encoded data removed]",
      "text/plain": [
       "<Figure size 640x480 with 1 Axes>"
      ]
     },
     "metadata": {},
     "output_type": "display_data"
    }
   ],
   "source": [
    "plt.plot(train_acc_hist, label=\"Train Acc\")\n",
    "plt.plot(val_acc_hist, label=\"Val Acc\")\n",
    "plt.title(\"Aug Data Model Accuracies\")\n",
    "plt.xlabel(\"Epoch\")\n",
    "plt.ylabel(\"Accuracy\")\n",
    "plt.legend()\n",
    "plt.show()"
   ]
  },
  {
   "cell_type": "code",
   "execution_count": 241,
   "metadata": {},
   "outputs": [
    {
     "data": {
      "text/plain": [
       "CNN(\n",
       "  (conv1): Sequential(\n",
       "    (0): Conv2d(1, 40, kernel_size=(1, 64), stride=(1, 1), padding=(0, 32))\n",
       "    (1): BatchNorm2d(40, eps=0.001, momentum=0.01, affine=True, track_running_stats=True)\n",
       "    (2): Conv2d(40, 48, kernel_size=(22, 1), stride=(1, 1), groups=8)\n",
       "    (3): BatchNorm2d(48, eps=0.001, momentum=0.01, affine=True, track_running_stats=True)\n",
       "    (4): ELU(alpha=1.0)\n",
       "    (5): AvgPool2d(kernel_size=(1, 4), stride=(1, 4), padding=0)\n",
       "    (6): Dropout(p=0.25, inplace=False)\n",
       "  )\n",
       "  (conv2): Sequential(\n",
       "    (0): Conv2d(48, 64, kernel_size=(1, 12), stride=(1, 1), padding=(0, 8), groups=8)\n",
       "    (1): BatchNorm2d(64, eps=0.001, momentum=0.01, affine=True, track_running_stats=True)\n",
       "    (2): ELU(alpha=1.0)\n",
       "    (3): AvgPool2d(kernel_size=(1, 4), stride=(1, 4), padding=0)\n",
       "    (4): Dropout(p=0.25, inplace=False)\n",
       "  )\n",
       "  (conv3): Sequential(\n",
       "    (0): Conv2d(64, 96, kernel_size=(1, 4), stride=(1, 1), padding=(0, 8), groups=8)\n",
       "    (1): BatchNorm2d(96, eps=0.001, momentum=0.01, affine=True, track_running_stats=True)\n",
       "    (2): ELU(alpha=1.0)\n",
       "    (3): AvgPool2d(kernel_size=(1, 4), stride=(1, 4), padding=0)\n",
       "    (4): Dropout(p=0.25, inplace=False)\n",
       "    (5): Flatten(start_dim=1, end_dim=-1)\n",
       "    (6): Linear(in_features=1824, out_features=4, bias=True)\n",
       "  )\n",
       ")"
      ]
     },
     "execution_count": 241,
     "metadata": {},
     "output_type": "execute_result"
    }
   ],
   "source": [
    "# Load best model and test\n",
    "aug_model = torch.load(\"models/cnn/aug.pt\")\n",
    "aug_model.to(device)\n",
    "aug_model.eval()"
   ]
  },
  {
   "cell_type": "code",
   "execution_count": 242,
   "metadata": {},
   "outputs": [
    {
     "name": "stdout",
     "output_type": "stream",
     "text": [
      "Train on aug data, evaluate on raw data\n",
      "Test Acc: 0.7111\n"
     ]
    }
   ],
   "source": [
    "# Evaluate on raw data\n",
    "test_acc = 0\n",
    "with torch.no_grad():\n",
    "    for X, y in test_loader:\n",
    "        X, y = X.to(device), y.to(device)\n",
    "        y_pred = aug_model(X)\n",
    "        test_acc += (y_pred.argmax(dim=1) == y.argmax(dim=1)).sum().item()\n",
    "test_acc /= len(test_loader.dataset)\n",
    "print(\"Train on aug data, evaluate on raw data\")\n",
    "print(f\"Test Acc: {test_acc:.4f}\")"
   ]
  },
  {
   "cell_type": "code",
   "execution_count": 243,
   "metadata": {},
   "outputs": [
    {
     "name": "stdout",
     "output_type": "stream",
     "text": [
      "Train on raw data, evaluate on sub1 data\n",
      "Test Acc: 0.6400\n"
     ]
    }
   ],
   "source": [
    "# Evaluate on sub1 data\n",
    "test_acc = 0\n",
    "with torch.no_grad():\n",
    "    for X, y in test_sub_loader:\n",
    "        X, y = X.to(device), y.to(device)\n",
    "        y_pred = aug_model(X)\n",
    "        test_acc += (y_pred.argmax(dim=1) == y.argmax(dim=1)).sum().item()\n",
    "test_acc /= len(test_sub_loader.dataset)\n",
    "print(\"Train on raw data, evaluate on sub1 data\")\n",
    "print(f\"Test Acc: {test_acc:.4f}\")"
   ]
  },
  {
   "cell_type": "markdown",
   "metadata": {},
   "source": [
    "## Train on Sub1 Data"
   ]
  },
  {
   "cell_type": "markdown",
   "metadata": {},
   "source": [
    "#### Model for Sub1"
   ]
  },
  {
   "cell_type": "code",
   "execution_count": 9,
   "metadata": {},
   "outputs": [],
   "source": [
    "class CNN_sub(nn.Module):\n",
    "    def __init__(self):\n",
    "        super(CNN_sub, self).__init__()\n",
    "\n",
    "        self.filter_nums1 = 4 # 8\n",
    "        self.filter_nums2 = 20 # 40\n",
    "        self.filter_nums3 = 8 # 12\n",
    "        num_groups = 4\n",
    "        b = True\n",
    "        dropout_prob = 0.25\n",
    "\n",
    "        self.conv_over_time = nn.Sequential(\n",
    "            nn.Conv2d(1, self.filter_nums1, kernel_size=(1, 64), stride=(1, 1), padding=(0, 32), bias=b),\n",
    "            nn.BatchNorm2d(self.filter_nums1, eps=0.001, momentum=0.01, affine=True, track_running_stats=True)\n",
    "        )\n",
    "        # (n, 8, 22, 1001)\n",
    "\n",
    "        self.conv_over_channels = nn.Sequential(\n",
    "            nn.Conv2d(self.filter_nums1, self.filter_nums2, kernel_size=(22, 1), stride=(1, 1), groups=num_groups, bias=b),\n",
    "            nn.BatchNorm2d(self.filter_nums2, eps=0.001, momentum=0.01, affine=True, track_running_stats=True),\n",
    "            nn.ELU(),\n",
    "            nn.AvgPool2d(kernel_size=(1, 4), stride=(1, 4), padding=0), # pool over time to shrink time\n",
    "            nn.Dropout(p=dropout_prob)\n",
    "        )\n",
    "        # (n, 40, 1, 250)\n",
    "\n",
    "        self.conv_by_channel_and_point = nn.Sequential(\n",
    "            nn.Conv2d(self.filter_nums2, self.filter_nums2, kernel_size=(1, 16), stride=(1, 1), padding=(0, 8), groups=num_groups, bias=b),\n",
    "            # (n, 40, 1, 251)\n",
    "            nn.Conv2d(self.filter_nums2, self.filter_nums3, kernel_size=(1, 1), stride=(1, 1), bias=False),\n",
    "            # (n, 12, 1, 251)\n",
    "            nn.BatchNorm2d(self.filter_nums3, eps=0.001, momentum=0.01, affine=True, track_running_stats=True),\n",
    "            nn.ELU(),\n",
    "            nn.AvgPool2d(kernel_size=(1, 8), stride=(1, 8), padding=0),\n",
    "            nn.Dropout(p=dropout_prob),\n",
    "            # (n, 12, 1, 31)\n",
    "            nn.Conv2d(self.filter_nums3, 4, kernel_size=(1, 31), stride=(1, 1)) # conv to 4 output classes\n",
    "            # (n, 4, 1, 1)\n",
    "        )\n",
    "        \n",
    "\n",
    "    def forward(self, x):\n",
    "        # x = x.to('mps')\n",
    "        # X (batch, ch, t)\n",
    "        x = x.unsqueeze(3)\n",
    "        # (batch, ch, t, 1)\n",
    "        x = x.permute(0, 3, 1, 2)\n",
    "        # (batch, 1, ch, t)\n",
    "        x = self.conv_over_time(x)\n",
    "        x = self.conv_over_channels(x)\n",
    "        x = self.conv_by_channel_and_point(x)\n",
    "        x = x.squeeze(-1)\n",
    "        x = x.squeeze(-1)\n",
    "        return x"
   ]
  },
  {
   "cell_type": "code",
   "execution_count": 10,
   "metadata": {},
   "outputs": [
    {
     "name": "stdout",
     "output_type": "stream",
     "text": [
      "CNN_sub(\n",
      "  (conv_over_time): Sequential(\n",
      "    (0): Conv2d(1, 4, kernel_size=(1, 64), stride=(1, 1), padding=(0, 32))\n",
      "    (1): BatchNorm2d(4, eps=0.001, momentum=0.01, affine=True, track_running_stats=True)\n",
      "  )\n",
      "  (conv_over_channels): Sequential(\n",
      "    (0): Conv2d(4, 20, kernel_size=(22, 1), stride=(1, 1), groups=4)\n",
      "    (1): BatchNorm2d(20, eps=0.001, momentum=0.01, affine=True, track_running_stats=True)\n",
      "    (2): ELU(alpha=1.0)\n",
      "    (3): AvgPool2d(kernel_size=(1, 4), stride=(1, 4), padding=0)\n",
      "    (4): Dropout(p=0.25, inplace=False)\n",
      "  )\n",
      "  (conv_by_channel_and_point): Sequential(\n",
      "    (0): Conv2d(20, 20, kernel_size=(1, 16), stride=(1, 1), padding=(0, 8), groups=4)\n",
      "    (1): Conv2d(20, 8, kernel_size=(1, 1), stride=(1, 1), bias=False)\n",
      "    (2): BatchNorm2d(8, eps=0.001, momentum=0.01, affine=True, track_running_stats=True)\n",
      "    (3): ELU(alpha=1.0)\n",
      "    (4): AvgPool2d(kernel_size=(1, 8), stride=(1, 8), padding=0)\n",
      "    (5): Dropout(p=0.25, inplace=False)\n",
      "    (6): Conv2d(8, 4, kernel_size=(1, 31), stride=(1, 1))\n",
      "  )\n",
      ")\n"
     ]
    },
    {
     "data": {
      "text/plain": [
       "==========================================================================================\n",
       "Layer (type:depth-idx)                   Output Shape              Param #\n",
       "==========================================================================================\n",
       "CNN_sub                                  [1, 4]                    --\n",
       "├─Sequential: 1-1                        [1, 4, 22, 1001]          --\n",
       "│    └─Conv2d: 2-1                       [1, 4, 22, 1001]          260\n",
       "│    └─BatchNorm2d: 2-2                  [1, 4, 22, 1001]          8\n",
       "├─Sequential: 1-2                        [1, 20, 1, 250]           --\n",
       "│    └─Conv2d: 2-3                       [1, 20, 1, 1001]          460\n",
       "│    └─BatchNorm2d: 2-4                  [1, 20, 1, 1001]          40\n",
       "│    └─ELU: 2-5                          [1, 20, 1, 1001]          --\n",
       "│    └─AvgPool2d: 2-6                    [1, 20, 1, 250]           --\n",
       "│    └─Dropout: 2-7                      [1, 20, 1, 250]           --\n",
       "├─Sequential: 1-3                        [1, 4, 1, 1]              --\n",
       "│    └─Conv2d: 2-8                       [1, 20, 1, 251]           1,620\n",
       "│    └─Conv2d: 2-9                       [1, 8, 1, 251]            160\n",
       "│    └─BatchNorm2d: 2-10                 [1, 8, 1, 251]            16\n",
       "│    └─ELU: 2-11                         [1, 8, 1, 251]            --\n",
       "│    └─AvgPool2d: 2-12                   [1, 8, 1, 31]             --\n",
       "│    └─Dropout: 2-13                     [1, 8, 1, 31]             --\n",
       "│    └─Conv2d: 2-14                      [1, 4, 1, 1]              996\n",
       "==========================================================================================\n",
       "Total params: 3,560\n",
       "Trainable params: 3,560\n",
       "Non-trainable params: 0\n",
       "Total mult-adds (M): 6.63\n",
       "==========================================================================================\n",
       "Input size (MB): 0.09\n",
       "Forward/backward pass size (MB): 1.80\n",
       "Params size (MB): 0.01\n",
       "Estimated Total Size (MB): 1.90\n",
       "=========================================================================================="
      ]
     },
     "execution_count": 10,
     "metadata": {},
     "output_type": "execute_result"
    }
   ],
   "source": [
    "device = torch.device('mps')\n",
    "\n",
    "model = CNN_sub()\n",
    "model = model.to(device)\n",
    "print(model)\n",
    "summary(model, input_size=(1, 22, 1000), device='mps')"
   ]
  },
  {
   "cell_type": "code",
   "execution_count": 11,
   "metadata": {},
   "outputs": [
    {
     "name": "stdout",
     "output_type": "stream",
     "text": [
      "Using device: mps\n"
     ]
    },
    {
     "name": "stderr",
     "output_type": "stream",
     "text": [
      "Epoch 0: 100%|██████████| 7/7 [00:01<00:00,  5.29batch/s, loss=1.4083]\n"
     ]
    },
    {
     "name": "stdout",
     "output_type": "stream",
     "text": [
      "[Epoch 0] val_acc=0.281065 train_acc=0.246231 val_loss=0.045613 train_loss=0.049502\n",
      "Validation loss decreased (inf --> 0.045613).  Saving model ...\n"
     ]
    },
    {
     "name": "stderr",
     "output_type": "stream",
     "text": [
      "Epoch 1: 100%|██████████| 7/7 [00:00<00:00, 23.73batch/s, loss=1.3852]\n"
     ]
    },
    {
     "name": "stdout",
     "output_type": "stream",
     "text": [
      "[Epoch 1] val_acc=0.278107 train_acc=0.331658 val_loss=0.045418 train_loss=0.048284\n",
      "Validation loss decreased (0.045613 --> 0.045418).  Saving model ...\n"
     ]
    },
    {
     "name": "stderr",
     "output_type": "stream",
     "text": [
      "Epoch 2: 100%|██████████| 7/7 [00:00<00:00, 11.84batch/s, loss=1.3460]\n"
     ]
    },
    {
     "name": "stdout",
     "output_type": "stream",
     "text": [
      "[Epoch 2] val_acc=0.275148 train_acc=0.326633 val_loss=0.045318 train_loss=0.047998\n",
      "Validation loss decreased (0.045418 --> 0.045318).  Saving model ...\n"
     ]
    },
    {
     "name": "stderr",
     "output_type": "stream",
     "text": [
      "Epoch 3: 100%|██████████| 7/7 [00:00<00:00, 19.39batch/s, loss=1.3695]\n"
     ]
    },
    {
     "name": "stdout",
     "output_type": "stream",
     "text": [
      "[Epoch 3] val_acc=0.278107 train_acc=0.351759 val_loss=0.045225 train_loss=0.047575\n",
      "Validation loss decreased (0.045318 --> 0.045225).  Saving model ...\n"
     ]
    },
    {
     "name": "stderr",
     "output_type": "stream",
     "text": [
      "Epoch 4: 100%|██████████| 7/7 [00:00<00:00, 19.27batch/s, loss=1.3373]\n"
     ]
    },
    {
     "name": "stdout",
     "output_type": "stream",
     "text": [
      "[Epoch 4] val_acc=0.275148 train_acc=0.402010 val_loss=0.045139 train_loss=0.046151\n",
      "Validation loss decreased (0.045225 --> 0.045139).  Saving model ...\n"
     ]
    },
    {
     "name": "stderr",
     "output_type": "stream",
     "text": [
      "Epoch 5: 100%|██████████| 7/7 [00:00<00:00, 19.22batch/s, loss=1.4117]\n"
     ]
    },
    {
     "name": "stdout",
     "output_type": "stream",
     "text": [
      "[Epoch 5] val_acc=0.272189 train_acc=0.432161 val_loss=0.045043 train_loss=0.045850\n",
      "Validation loss decreased (0.045139 --> 0.045043).  Saving model ...\n"
     ]
    },
    {
     "name": "stderr",
     "output_type": "stream",
     "text": [
      "Epoch 6: 100%|██████████| 7/7 [00:00<00:00, 15.56batch/s, loss=1.2988]\n"
     ]
    },
    {
     "name": "stdout",
     "output_type": "stream",
     "text": [
      "[Epoch 6] val_acc=0.286982 train_acc=0.472362 val_loss=0.044949 train_loss=0.044917\n",
      "Validation loss decreased (0.045043 --> 0.044949).  Saving model ...\n"
     ]
    },
    {
     "name": "stderr",
     "output_type": "stream",
     "text": [
      "Epoch 7: 100%|██████████| 7/7 [00:00<00:00, 19.70batch/s, loss=1.1683]\n"
     ]
    },
    {
     "name": "stdout",
     "output_type": "stream",
     "text": [
      "[Epoch 7] val_acc=0.281065 train_acc=0.557789 val_loss=0.044874 train_loss=0.043004\n",
      "Validation loss decreased (0.044949 --> 0.044874).  Saving model ...\n"
     ]
    },
    {
     "name": "stderr",
     "output_type": "stream",
     "text": [
      "Epoch 8: 100%|██████████| 7/7 [00:00<00:00, 19.24batch/s, loss=1.0714]\n"
     ]
    },
    {
     "name": "stdout",
     "output_type": "stream",
     "text": [
      "[Epoch 8] val_acc=0.260355 train_acc=0.467337 val_loss=0.044806 train_loss=0.043409\n",
      "Validation loss decreased (0.044874 --> 0.044806).  Saving model ...\n"
     ]
    },
    {
     "name": "stderr",
     "output_type": "stream",
     "text": [
      "Epoch 9: 100%|██████████| 7/7 [00:00<00:00, 19.95batch/s, loss=1.1766]\n"
     ]
    },
    {
     "name": "stdout",
     "output_type": "stream",
     "text": [
      "[Epoch 9] val_acc=0.272189 train_acc=0.482412 val_loss=0.044726 train_loss=0.042553\n",
      "Validation loss decreased (0.044806 --> 0.044726).  Saving model ...\n"
     ]
    },
    {
     "name": "stderr",
     "output_type": "stream",
     "text": [
      "Epoch 10: 100%|██████████| 7/7 [00:00<00:00, 16.71batch/s, loss=1.2241]\n"
     ]
    },
    {
     "name": "stdout",
     "output_type": "stream",
     "text": [
      "[Epoch 10] val_acc=0.272189 train_acc=0.567839 val_loss=0.044645 train_loss=0.042085\n",
      "Validation loss decreased (0.044726 --> 0.044645).  Saving model ...\n"
     ]
    },
    {
     "name": "stderr",
     "output_type": "stream",
     "text": [
      "Epoch 11: 100%|██████████| 7/7 [00:00<00:00, 16.09batch/s, loss=1.2344]\n"
     ]
    },
    {
     "name": "stdout",
     "output_type": "stream",
     "text": [
      "[Epoch 11] val_acc=0.286982 train_acc=0.532663 val_loss=0.044592 train_loss=0.042348\n",
      "Validation loss decreased (0.044645 --> 0.044592).  Saving model ...\n"
     ]
    },
    {
     "name": "stderr",
     "output_type": "stream",
     "text": [
      "Epoch 12: 100%|██████████| 7/7 [00:00<00:00, 19.80batch/s, loss=1.3981]\n"
     ]
    },
    {
     "name": "stdout",
     "output_type": "stream",
     "text": [
      "[Epoch 12] val_acc=0.298817 train_acc=0.582915 val_loss=0.044538 train_loss=0.042392\n",
      "Validation loss decreased (0.044592 --> 0.044538).  Saving model ...\n"
     ]
    },
    {
     "name": "stderr",
     "output_type": "stream",
     "text": [
      "Epoch 13: 100%|██████████| 7/7 [00:00<00:00, 20.11batch/s, loss=1.2251]\n"
     ]
    },
    {
     "name": "stdout",
     "output_type": "stream",
     "text": [
      "[Epoch 13] val_acc=0.319527 train_acc=0.572864 val_loss=0.044490 train_loss=0.040801\n",
      "Validation loss decreased (0.044538 --> 0.044490).  Saving model ...\n"
     ]
    },
    {
     "name": "stderr",
     "output_type": "stream",
     "text": [
      "Epoch 14: 100%|██████████| 7/7 [00:00<00:00, 16.73batch/s, loss=1.1999]\n"
     ]
    },
    {
     "name": "stdout",
     "output_type": "stream",
     "text": [
      "[Epoch 14] val_acc=0.313609 train_acc=0.628141 val_loss=0.044448 train_loss=0.040270\n",
      "Validation loss decreased (0.044490 --> 0.044448).  Saving model ...\n"
     ]
    },
    {
     "name": "stderr",
     "output_type": "stream",
     "text": [
      "Epoch 15: 100%|██████████| 7/7 [00:00<00:00, 18.01batch/s, loss=1.2675]\n"
     ]
    },
    {
     "name": "stdout",
     "output_type": "stream",
     "text": [
      "[Epoch 15] val_acc=0.325444 train_acc=0.613065 val_loss=0.044406 train_loss=0.040203\n",
      "Validation loss decreased (0.044448 --> 0.044406).  Saving model ...\n"
     ]
    },
    {
     "name": "stderr",
     "output_type": "stream",
     "text": [
      "Epoch 16: 100%|██████████| 7/7 [00:00<00:00, 19.91batch/s, loss=1.1630]\n"
     ]
    },
    {
     "name": "stdout",
     "output_type": "stream",
     "text": [
      "[Epoch 16] val_acc=0.331361 train_acc=0.653266 val_loss=0.044364 train_loss=0.039464\n",
      "Validation loss decreased (0.044406 --> 0.044364).  Saving model ...\n"
     ]
    },
    {
     "name": "stderr",
     "output_type": "stream",
     "text": [
      "Epoch 17: 100%|██████████| 7/7 [00:00<00:00, 18.00batch/s, loss=1.2904]\n"
     ]
    },
    {
     "name": "stdout",
     "output_type": "stream",
     "text": [
      "[Epoch 17] val_acc=0.337278 train_acc=0.648241 val_loss=0.044288 train_loss=0.039446\n",
      "Validation loss decreased (0.044364 --> 0.044288).  Saving model ...\n"
     ]
    },
    {
     "name": "stderr",
     "output_type": "stream",
     "text": [
      "Epoch 18: 100%|██████████| 7/7 [00:00<00:00, 16.01batch/s, loss=1.0228]\n"
     ]
    },
    {
     "name": "stdout",
     "output_type": "stream",
     "text": [
      "[Epoch 18] val_acc=0.343195 train_acc=0.658291 val_loss=0.044223 train_loss=0.037996\n",
      "Validation loss decreased (0.044288 --> 0.044223).  Saving model ...\n"
     ]
    },
    {
     "name": "stderr",
     "output_type": "stream",
     "text": [
      "Epoch 19: 100%|██████████| 7/7 [00:00<00:00, 19.89batch/s, loss=0.9534]\n"
     ]
    },
    {
     "name": "stdout",
     "output_type": "stream",
     "text": [
      "[Epoch 19] val_acc=0.355030 train_acc=0.653266 val_loss=0.044218 train_loss=0.037516\n",
      "Validation loss decreased (0.044223 --> 0.044218).  Saving model ...\n"
     ]
    },
    {
     "name": "stderr",
     "output_type": "stream",
     "text": [
      "Epoch 20: 100%|██████████| 7/7 [00:00<00:00, 20.14batch/s, loss=0.9411]\n"
     ]
    },
    {
     "name": "stdout",
     "output_type": "stream",
     "text": [
      "[Epoch 20] val_acc=0.352071 train_acc=0.623116 val_loss=0.044224 train_loss=0.037459\n",
      "EarlyStopping counter: 1 out of 30\n"
     ]
    },
    {
     "name": "stderr",
     "output_type": "stream",
     "text": [
      "Epoch 21: 100%|██████████| 7/7 [00:00<00:00, 19.16batch/s, loss=1.0939]\n"
     ]
    },
    {
     "name": "stdout",
     "output_type": "stream",
     "text": [
      "[Epoch 21] val_acc=0.349112 train_acc=0.688442 val_loss=0.044191 train_loss=0.036896\n",
      "Validation loss decreased (0.044218 --> 0.044191).  Saving model ...\n"
     ]
    },
    {
     "name": "stderr",
     "output_type": "stream",
     "text": [
      "Epoch 22: 100%|██████████| 7/7 [00:00<00:00, 14.75batch/s, loss=0.8965]\n"
     ]
    },
    {
     "name": "stdout",
     "output_type": "stream",
     "text": [
      "[Epoch 22] val_acc=0.363905 train_acc=0.718593 val_loss=0.044104 train_loss=0.035446\n",
      "Validation loss decreased (0.044191 --> 0.044104).  Saving model ...\n"
     ]
    },
    {
     "name": "stderr",
     "output_type": "stream",
     "text": [
      "Epoch 23: 100%|██████████| 7/7 [00:00<00:00, 12.97batch/s, loss=1.0851]\n"
     ]
    },
    {
     "name": "stdout",
     "output_type": "stream",
     "text": [
      "[Epoch 23] val_acc=0.349112 train_acc=0.733668 val_loss=0.044071 train_loss=0.035730\n",
      "Validation loss decreased (0.044104 --> 0.044071).  Saving model ...\n"
     ]
    },
    {
     "name": "stderr",
     "output_type": "stream",
     "text": [
      "Epoch 24: 100%|██████████| 7/7 [00:00<00:00, 12.57batch/s, loss=0.9909]\n"
     ]
    },
    {
     "name": "stdout",
     "output_type": "stream",
     "text": [
      "[Epoch 24] val_acc=0.346154 train_acc=0.733668 val_loss=0.044079 train_loss=0.035214\n",
      "EarlyStopping counter: 1 out of 30\n"
     ]
    },
    {
     "name": "stderr",
     "output_type": "stream",
     "text": [
      "Epoch 25: 100%|██████████| 7/7 [00:00<00:00, 15.29batch/s, loss=1.1069]\n"
     ]
    },
    {
     "name": "stdout",
     "output_type": "stream",
     "text": [
      "[Epoch 25] val_acc=0.355030 train_acc=0.713568 val_loss=0.044058 train_loss=0.035327\n",
      "Validation loss decreased (0.044071 --> 0.044058).  Saving model ...\n"
     ]
    },
    {
     "name": "stderr",
     "output_type": "stream",
     "text": [
      "Epoch 26: 100%|██████████| 7/7 [00:00<00:00, 17.59batch/s, loss=1.0733]\n"
     ]
    },
    {
     "name": "stdout",
     "output_type": "stream",
     "text": [
      "[Epoch 26] val_acc=0.349112 train_acc=0.723618 val_loss=0.044079 train_loss=0.035357\n",
      "EarlyStopping counter: 1 out of 30\n"
     ]
    },
    {
     "name": "stderr",
     "output_type": "stream",
     "text": [
      "Epoch 27: 100%|██████████| 7/7 [00:00<00:00, 15.27batch/s, loss=0.7917]\n"
     ]
    },
    {
     "name": "stdout",
     "output_type": "stream",
     "text": [
      "[Epoch 27] val_acc=0.349112 train_acc=0.718593 val_loss=0.044003 train_loss=0.033380\n",
      "Validation loss decreased (0.044058 --> 0.044003).  Saving model ...\n"
     ]
    },
    {
     "name": "stderr",
     "output_type": "stream",
     "text": [
      "Epoch 28: 100%|██████████| 7/7 [00:00<00:00, 13.02batch/s, loss=0.9862]\n"
     ]
    },
    {
     "name": "stdout",
     "output_type": "stream",
     "text": [
      "[Epoch 28] val_acc=0.360947 train_acc=0.748744 val_loss=0.043980 train_loss=0.034201\n",
      "Validation loss decreased (0.044003 --> 0.043980).  Saving model ...\n"
     ]
    },
    {
     "name": "stderr",
     "output_type": "stream",
     "text": [
      "Epoch 29: 100%|██████████| 7/7 [00:00<00:00, 11.91batch/s, loss=1.1529]\n"
     ]
    },
    {
     "name": "stdout",
     "output_type": "stream",
     "text": [
      "[Epoch 29] val_acc=0.352071 train_acc=0.768844 val_loss=0.044020 train_loss=0.034201\n",
      "EarlyStopping counter: 1 out of 30\n"
     ]
    },
    {
     "name": "stderr",
     "output_type": "stream",
     "text": [
      "Epoch 30: 100%|██████████| 7/7 [00:00<00:00, 16.03batch/s, loss=0.9796]\n"
     ]
    },
    {
     "name": "stdout",
     "output_type": "stream",
     "text": [
      "[Epoch 30] val_acc=0.346154 train_acc=0.758794 val_loss=0.044170 train_loss=0.032941\n",
      "EarlyStopping counter: 2 out of 30\n"
     ]
    },
    {
     "name": "stderr",
     "output_type": "stream",
     "text": [
      "Epoch 31: 100%|██████████| 7/7 [00:00<00:00, 17.95batch/s, loss=0.9503]\n"
     ]
    },
    {
     "name": "stdout",
     "output_type": "stream",
     "text": [
      "[Epoch 31] val_acc=0.366864 train_acc=0.809045 val_loss=0.044150 train_loss=0.032560\n",
      "EarlyStopping counter: 3 out of 30\n"
     ]
    },
    {
     "name": "stderr",
     "output_type": "stream",
     "text": [
      "Epoch 32: 100%|██████████| 7/7 [00:00<00:00, 15.35batch/s, loss=0.9721]\n"
     ]
    },
    {
     "name": "stdout",
     "output_type": "stream",
     "text": [
      "[Epoch 32] val_acc=0.357988 train_acc=0.748744 val_loss=0.044251 train_loss=0.033496\n",
      "EarlyStopping counter: 4 out of 30\n"
     ]
    },
    {
     "name": "stderr",
     "output_type": "stream",
     "text": [
      "Epoch 33: 100%|██████████| 7/7 [00:00<00:00, 15.82batch/s, loss=0.7568]\n"
     ]
    },
    {
     "name": "stdout",
     "output_type": "stream",
     "text": [
      "[Epoch 33] val_acc=0.355030 train_acc=0.758794 val_loss=0.044176 train_loss=0.031985\n",
      "EarlyStopping counter: 5 out of 30\n"
     ]
    },
    {
     "name": "stderr",
     "output_type": "stream",
     "text": [
      "Epoch 34: 100%|██████████| 7/7 [00:00<00:00, 16.49batch/s, loss=1.0634]\n"
     ]
    },
    {
     "name": "stdout",
     "output_type": "stream",
     "text": [
      "[Epoch 34] val_acc=0.363905 train_acc=0.738693 val_loss=0.044252 train_loss=0.032830\n",
      "EarlyStopping counter: 6 out of 30\n"
     ]
    },
    {
     "name": "stderr",
     "output_type": "stream",
     "text": [
      "Epoch 35: 100%|██████████| 7/7 [00:00<00:00, 20.08batch/s, loss=0.9025]\n"
     ]
    },
    {
     "name": "stdout",
     "output_type": "stream",
     "text": [
      "[Epoch 35] val_acc=0.363905 train_acc=0.839196 val_loss=0.044287 train_loss=0.031374\n",
      "EarlyStopping counter: 7 out of 30\n"
     ]
    },
    {
     "name": "stderr",
     "output_type": "stream",
     "text": [
      "Epoch 36: 100%|██████████| 7/7 [00:00<00:00, 16.81batch/s, loss=0.9100]\n"
     ]
    },
    {
     "name": "stdout",
     "output_type": "stream",
     "text": [
      "[Epoch 36] val_acc=0.366864 train_acc=0.783920 val_loss=0.044454 train_loss=0.031725\n",
      "EarlyStopping counter: 8 out of 30\n"
     ]
    },
    {
     "name": "stderr",
     "output_type": "stream",
     "text": [
      "Epoch 37: 100%|██████████| 7/7 [00:00<00:00, 16.50batch/s, loss=0.9152]\n"
     ]
    },
    {
     "name": "stdout",
     "output_type": "stream",
     "text": [
      "[Epoch 37] val_acc=0.363905 train_acc=0.798995 val_loss=0.044492 train_loss=0.030349\n",
      "EarlyStopping counter: 9 out of 30\n"
     ]
    },
    {
     "name": "stderr",
     "output_type": "stream",
     "text": [
      "Epoch 38: 100%|██████████| 7/7 [00:00<00:00, 18.96batch/s, loss=1.0655]\n"
     ]
    },
    {
     "name": "stdout",
     "output_type": "stream",
     "text": [
      "[Epoch 38] val_acc=0.343195 train_acc=0.814070 val_loss=0.044577 train_loss=0.031641\n",
      "EarlyStopping counter: 10 out of 30\n"
     ]
    },
    {
     "name": "stderr",
     "output_type": "stream",
     "text": [
      "Epoch 39: 100%|██████████| 7/7 [00:00<00:00, 17.35batch/s, loss=1.2282]\n"
     ]
    },
    {
     "name": "stdout",
     "output_type": "stream",
     "text": [
      "[Epoch 39] val_acc=0.343195 train_acc=0.804020 val_loss=0.044763 train_loss=0.031843\n",
      "EarlyStopping counter: 11 out of 30\n"
     ]
    },
    {
     "name": "stderr",
     "output_type": "stream",
     "text": [
      "Epoch 40: 100%|██████████| 7/7 [00:00<00:00, 16.75batch/s, loss=0.9157]\n"
     ]
    },
    {
     "name": "stdout",
     "output_type": "stream",
     "text": [
      "[Epoch 40] val_acc=0.355030 train_acc=0.793970 val_loss=0.044580 train_loss=0.030536\n",
      "EarlyStopping counter: 12 out of 30\n"
     ]
    },
    {
     "name": "stderr",
     "output_type": "stream",
     "text": [
      "Epoch 41: 100%|██████████| 7/7 [00:00<00:00, 16.80batch/s, loss=0.7649]\n"
     ]
    },
    {
     "name": "stdout",
     "output_type": "stream",
     "text": [
      "[Epoch 41] val_acc=0.357988 train_acc=0.844221 val_loss=0.044716 train_loss=0.029134\n",
      "EarlyStopping counter: 13 out of 30\n"
     ]
    },
    {
     "name": "stderr",
     "output_type": "stream",
     "text": [
      "Epoch 42: 100%|██████████| 7/7 [00:00<00:00, 18.91batch/s, loss=0.7608]\n"
     ]
    },
    {
     "name": "stdout",
     "output_type": "stream",
     "text": [
      "[Epoch 42] val_acc=0.355030 train_acc=0.854271 val_loss=0.044937 train_loss=0.028916\n",
      "EarlyStopping counter: 14 out of 30\n"
     ]
    },
    {
     "name": "stderr",
     "output_type": "stream",
     "text": [
      "Epoch 43: 100%|██████████| 7/7 [00:00<00:00, 18.30batch/s, loss=0.8119]\n"
     ]
    },
    {
     "name": "stdout",
     "output_type": "stream",
     "text": [
      "[Epoch 43] val_acc=0.349112 train_acc=0.864322 val_loss=0.045269 train_loss=0.028500\n",
      "EarlyStopping counter: 15 out of 30\n"
     ]
    },
    {
     "name": "stderr",
     "output_type": "stream",
     "text": [
      "Epoch 44: 100%|██████████| 7/7 [00:00<00:00, 17.02batch/s, loss=0.8396]\n"
     ]
    },
    {
     "name": "stdout",
     "output_type": "stream",
     "text": [
      "[Epoch 44] val_acc=0.346154 train_acc=0.859296 val_loss=0.045303 train_loss=0.029137\n",
      "EarlyStopping counter: 16 out of 30\n"
     ]
    },
    {
     "name": "stderr",
     "output_type": "stream",
     "text": [
      "Epoch 45: 100%|██████████| 7/7 [00:00<00:00, 16.16batch/s, loss=1.0851]\n"
     ]
    },
    {
     "name": "stdout",
     "output_type": "stream",
     "text": [
      "[Epoch 45] val_acc=0.352071 train_acc=0.844221 val_loss=0.045517 train_loss=0.029540\n",
      "EarlyStopping counter: 17 out of 30\n"
     ]
    },
    {
     "name": "stderr",
     "output_type": "stream",
     "text": [
      "Epoch 46: 100%|██████████| 7/7 [00:00<00:00, 18.77batch/s, loss=0.9224]\n"
     ]
    },
    {
     "name": "stdout",
     "output_type": "stream",
     "text": [
      "[Epoch 46] val_acc=0.355030 train_acc=0.824121 val_loss=0.045963 train_loss=0.029333\n",
      "EarlyStopping counter: 18 out of 30\n"
     ]
    },
    {
     "name": "stderr",
     "output_type": "stream",
     "text": [
      "Epoch 47: 100%|██████████| 7/7 [00:00<00:00, 19.71batch/s, loss=0.6937]\n"
     ]
    },
    {
     "name": "stdout",
     "output_type": "stream",
     "text": [
      "[Epoch 47] val_acc=0.363905 train_acc=0.879397 val_loss=0.046158 train_loss=0.026981\n",
      "EarlyStopping counter: 19 out of 30\n"
     ]
    },
    {
     "name": "stderr",
     "output_type": "stream",
     "text": [
      "Epoch 48: 100%|██████████| 7/7 [00:00<00:00, 19.88batch/s, loss=0.5772]\n"
     ]
    },
    {
     "name": "stdout",
     "output_type": "stream",
     "text": [
      "[Epoch 48] val_acc=0.355030 train_acc=0.839196 val_loss=0.046182 train_loss=0.028005\n",
      "EarlyStopping counter: 20 out of 30\n"
     ]
    },
    {
     "name": "stderr",
     "output_type": "stream",
     "text": [
      "Epoch 49: 100%|██████████| 7/7 [00:00<00:00, 15.84batch/s, loss=0.7856]\n"
     ]
    },
    {
     "name": "stdout",
     "output_type": "stream",
     "text": [
      "[Epoch 49] val_acc=0.343195 train_acc=0.854271 val_loss=0.046300 train_loss=0.028319\n",
      "EarlyStopping counter: 21 out of 30\n"
     ]
    },
    {
     "name": "stderr",
     "output_type": "stream",
     "text": [
      "Epoch 50: 100%|██████████| 7/7 [00:00<00:00, 19.33batch/s, loss=0.9311]\n"
     ]
    },
    {
     "name": "stdout",
     "output_type": "stream",
     "text": [
      "[Epoch 50] val_acc=0.355030 train_acc=0.849246 val_loss=0.046449 train_loss=0.028193\n",
      "EarlyStopping counter: 22 out of 30\n"
     ]
    },
    {
     "name": "stderr",
     "output_type": "stream",
     "text": [
      "Epoch 51: 100%|██████████| 7/7 [00:00<00:00, 19.53batch/s, loss=0.7972]\n"
     ]
    },
    {
     "name": "stdout",
     "output_type": "stream",
     "text": [
      "[Epoch 51] val_acc=0.355030 train_acc=0.854271 val_loss=0.046585 train_loss=0.027187\n",
      "EarlyStopping counter: 23 out of 30\n"
     ]
    },
    {
     "name": "stderr",
     "output_type": "stream",
     "text": [
      "Epoch 52: 100%|██████████| 7/7 [00:00<00:00, 19.29batch/s, loss=0.7820]\n"
     ]
    },
    {
     "name": "stdout",
     "output_type": "stream",
     "text": [
      "[Epoch 52] val_acc=0.355030 train_acc=0.854271 val_loss=0.046867 train_loss=0.027088\n",
      "EarlyStopping counter: 24 out of 30\n"
     ]
    },
    {
     "name": "stderr",
     "output_type": "stream",
     "text": [
      "Epoch 53: 100%|██████████| 7/7 [00:00<00:00, 14.22batch/s, loss=0.8187]\n"
     ]
    },
    {
     "name": "stdout",
     "output_type": "stream",
     "text": [
      "[Epoch 53] val_acc=0.369822 train_acc=0.864322 val_loss=0.047029 train_loss=0.027675\n",
      "EarlyStopping counter: 25 out of 30\n"
     ]
    },
    {
     "name": "stderr",
     "output_type": "stream",
     "text": [
      "Epoch 54: 100%|██████████| 7/7 [00:00<00:00, 18.71batch/s, loss=0.6325]\n"
     ]
    },
    {
     "name": "stdout",
     "output_type": "stream",
     "text": [
      "[Epoch 54] val_acc=0.360947 train_acc=0.889447 val_loss=0.047204 train_loss=0.025759\n",
      "EarlyStopping counter: 26 out of 30\n"
     ]
    },
    {
     "name": "stderr",
     "output_type": "stream",
     "text": [
      "Epoch 55: 100%|██████████| 7/7 [00:00<00:00, 11.76batch/s, loss=0.8100]\n"
     ]
    },
    {
     "name": "stdout",
     "output_type": "stream",
     "text": [
      "[Epoch 55] val_acc=0.366864 train_acc=0.864322 val_loss=0.047153 train_loss=0.027749\n",
      "EarlyStopping counter: 27 out of 30\n"
     ]
    },
    {
     "name": "stderr",
     "output_type": "stream",
     "text": [
      "Epoch 56: 100%|██████████| 7/7 [00:00<00:00, 12.26batch/s, loss=0.8475]\n"
     ]
    },
    {
     "name": "stdout",
     "output_type": "stream",
     "text": [
      "[Epoch 56] val_acc=0.360947 train_acc=0.864322 val_loss=0.047093 train_loss=0.027267\n",
      "EarlyStopping counter: 28 out of 30\n"
     ]
    },
    {
     "name": "stderr",
     "output_type": "stream",
     "text": [
      "Epoch 57: 100%|██████████| 7/7 [00:00<00:00, 18.54batch/s, loss=0.6390]\n"
     ]
    },
    {
     "name": "stdout",
     "output_type": "stream",
     "text": [
      "[Epoch 57] val_acc=0.381657 train_acc=0.869347 val_loss=0.047296 train_loss=0.026441\n",
      "EarlyStopping counter: 29 out of 30\n"
     ]
    },
    {
     "name": "stderr",
     "output_type": "stream",
     "text": [
      "Epoch 58: 100%|██████████| 7/7 [00:00<00:00, 18.22batch/s, loss=0.6198]\n"
     ]
    },
    {
     "name": "stdout",
     "output_type": "stream",
     "text": [
      "[Epoch 58] val_acc=0.366864 train_acc=0.884422 val_loss=0.047497 train_loss=0.026159\n",
      "EarlyStopping counter: 30 out of 30\n",
      "Early stopping.\n"
     ]
    }
   ],
   "source": [
    "sub_model = model\n",
    "sub_model.to(device)\n",
    "\n",
    "optimizer = torch.optim.Adam(sub_model.parameters(), lr=0.0005,  weight_decay=0.000001)\n",
    "scheduler = torch.optim.lr_scheduler.ReduceLROnPlateau(optimizer, mode='min', factor=0.5, patience=5, verbose=True)\n",
    "\n",
    "tr_loader = train_sub_loader\n",
    "\n",
    "train_loss_hist, train_acc_hist, val_loss_hist, val_acc_hist = train(\n",
    "    model=sub_model,\n",
    "    optimizer=optimizer,\n",
    "    loss_func=nn.CrossEntropyLoss(),\n",
    "    train_data=tr_loader,\n",
    "    val_data=val_loader,\n",
    "    early_stopping_patience=30,\n",
    "    scheduler=scheduler,\n",
    "    cp_path=\"models/cnn\",\n",
    "    cp_filename=\"sub.pt\",\n",
    "    n_epochs=100,\n",
    "    show_progress_bar=True,\n",
    ")"
   ]
  },
  {
   "cell_type": "code",
   "execution_count": 10,
   "metadata": {},
   "outputs": [
    {
     "data": {
      "text/plain": [
       "<matplotlib.legend.Legend at 0x2969e2140>"
      ]
     },
     "execution_count": 10,
     "metadata": {},
     "output_type": "execute_result"
    },
    {
     "data": {
      "image/png": "[encoded data removed]",
      "text/plain": [
       "<Figure size 640x480 with 1 Axes>"
      ]
     },
     "metadata": {},
     "output_type": "display_data"
    }
   ],
   "source": [
    "plt.plot(train_loss_hist, label=\"Train Loss\")\n",
    "plt.plot(val_loss_hist, label=\"Val Loss\")\n",
    "plt.title(\"Sub1 Data Model Losses\")\n",
    "plt.xlabel(\"Epoch\")\n",
    "plt.ylabel(\"Loss\")\n",
    "plt.legend()"
   ]
  },
  {
   "cell_type": "code",
   "execution_count": 11,
   "metadata": {},
   "outputs": [
    {
     "data": {
      "text/plain": [
       "<matplotlib.legend.Legend at 0x29d2c6ec0>"
      ]
     },
     "execution_count": 11,
     "metadata": {},
     "output_type": "execute_result"
    },
    {
     "data": {
      "image/png": "[encoded data removed]",
      "text/plain": [
       "<Figure size 640x480 with 1 Axes>"
      ]
     },
     "metadata": {},
     "output_type": "display_data"
    }
   ],
   "source": [
    "plt.plot(train_acc_hist, label=\"Train Acc\")\n",
    "plt.plot(val_acc_hist, label=\"Val Acc\")\n",
    "plt.title(\"Sub1 Data Model Accuracies\")\n",
    "plt.xlabel(\"Epoch\")\n",
    "plt.ylabel(\"Accuracy\")\n",
    "plt.legend()"
   ]
  },
  {
   "cell_type": "code",
   "execution_count": 13,
   "metadata": {},
   "outputs": [
    {
     "data": {
      "text/plain": [
       "CNN(\n",
       "  (conv_over_time): Sequential(\n",
       "    (0): Conv2d(1, 24, kernel_size=(1, 64), stride=(1, 1), padding=(0, 32))\n",
       "    (1): BatchNorm2d(24, eps=0.001, momentum=0.01, affine=True, track_running_stats=True)\n",
       "  )\n",
       "  (conv_over_channels): Sequential(\n",
       "    (0): Conv2d(24, 120, kernel_size=(22, 1), stride=(1, 1), groups=8)\n",
       "    (1): BatchNorm2d(120, eps=0.001, momentum=0.01, affine=True, track_running_stats=True)\n",
       "    (2): ELU(alpha=1.0)\n",
       "    (3): AvgPool2d(kernel_size=(1, 4), stride=(1, 4), padding=0)\n",
       "    (4): Dropout(p=0.25, inplace=False)\n",
       "  )\n",
       "  (conv_by_channel_and_point): Sequential(\n",
       "    (0): Conv2d(120, 120, kernel_size=(1, 16), stride=(1, 1), padding=(0, 8), groups=8)\n",
       "    (1): Conv2d(120, 32, kernel_size=(1, 1), stride=(1, 1), bias=False)\n",
       "    (2): BatchNorm2d(32, eps=0.001, momentum=0.01, affine=True, track_running_stats=True)\n",
       "    (3): ELU(alpha=1.0)\n",
       "    (4): AvgPool2d(kernel_size=(1, 8), stride=(1, 8), padding=0)\n",
       "    (5): Dropout(p=0.25, inplace=False)\n",
       "    (6): Conv2d(32, 4, kernel_size=(1, 31), stride=(1, 1))\n",
       "  )\n",
       ")"
      ]
     },
     "execution_count": 13,
     "metadata": {},
     "output_type": "execute_result"
    }
   ],
   "source": [
    "# Load best model and test\n",
    "sub1_model = torch.load(\"models/cnn/sub.pt\")\n",
    "sub1_model.to(device)\n",
    "sub1_model.eval()"
   ]
  },
  {
   "cell_type": "code",
   "execution_count": 14,
   "metadata": {},
   "outputs": [
    {
     "name": "stdout",
     "output_type": "stream",
     "text": [
      "Train on sub1 data, evaluate on sub1 data\n",
      "Test Acc: 0.2600\n"
     ]
    }
   ],
   "source": [
    "# Evaluate on sub1 data\n",
    "test_acc = 0\n",
    "with torch.no_grad():\n",
    "    for X, y in test_sub_loader:\n",
    "        X, y = X.to(device), y.to(device)\n",
    "        y_pred = sub1_model(X)\n",
    "        test_acc += (y_pred.argmax(dim=1) == y.argmax(dim=1)).sum().item()\n",
    "test_acc /= len(test_sub_loader.dataset)\n",
    "print(\"Train on sub1 data, evaluate on sub1 data\")\n",
    "print(f\"Test Acc: {test_acc:.4f}\")"
   ]
  },
  {
   "cell_type": "markdown",
   "metadata": {},
   "source": [
    "## Time Series"
   ]
  },
  {
   "cell_type": "code",
   "execution_count": 39,
   "metadata": {},
   "outputs": [],
   "source": [
    "class CNN_ts(nn.Module):\n",
    "    def __init__(self, n_time=1000):\n",
    "        super(CNN_ts, self).__init__()\n",
    "\n",
    "        self.filter_nums1 = 24 # 8\n",
    "        self.filter_nums2 = 120 # 40\n",
    "        self.filter_nums3 = 32 # 12\n",
    "        num_groups = 8\n",
    "        b = True\n",
    "        dropout_prob = 0.25\n",
    "\n",
    "        self.conv_over_time = nn.Sequential(\n",
    "            nn.Conv2d(1, self.filter_nums1, kernel_size=(1, 64), stride=(1, 1), padding=(0, 32), bias=b),\n",
    "            nn.BatchNorm2d(self.filter_nums1, eps=0.001, momentum=0.01, affine=True, track_running_stats=True)\n",
    "        )\n",
    "        # (n, 8, 22, 1001)\n",
    "\n",
    "        self.conv_over_channels = nn.Sequential(\n",
    "            nn.Conv2d(self.filter_nums1, self.filter_nums2, kernel_size=(22, 1), stride=(1, 1), groups=num_groups, bias=b),\n",
    "            nn.BatchNorm2d(self.filter_nums2, eps=0.001, momentum=0.01, affine=True, track_running_stats=True),\n",
    "            nn.ELU(),\n",
    "            nn.AvgPool2d(kernel_size=(1, 4), stride=(1, 4), padding=0), # pool over time to shrink time\n",
    "            nn.Dropout(p=dropout_prob)\n",
    "        )\n",
    "        # (n, 40, 1, 250)\n",
    "\n",
    "        self.conv_by_channel_and_point = nn.Sequential(\n",
    "            nn.Conv2d(self.filter_nums2, self.filter_nums2, kernel_size=(1, 16), stride=(1, 1), padding=(0, 8), groups=num_groups, bias=b),\n",
    "            # (n, 40, 1, 251)\n",
    "            nn.Conv2d(self.filter_nums2, self.filter_nums3, kernel_size=(1, 1), stride=(1, 1), bias=False),\n",
    "            # (n, 12, 1, 251)\n",
    "            nn.BatchNorm2d(self.filter_nums3, eps=0.001, momentum=0.01, affine=True, track_running_stats=True),\n",
    "            nn.ELU(),\n",
    "            nn.AvgPool2d(kernel_size=(1, 8), stride=(1, 8), padding=0),\n",
    "            nn.Dropout(p=dropout_prob),\n",
    "            # (n, 12, 1, 31)\n",
    "            # nn.Conv2d(self.filter_nums3, 4, kernel_size=(1, 31), stride=(1, 1)) # conv to 4 output classes\n",
    "            # (n, 4, 1, 1)\n",
    "        )\n",
    "\n",
    "        self.linear = nn.Sequential(\n",
    "            nn.Flatten(),\n",
    "            nn.LazyLinear(4) # the last convolution is replaced by linear\n",
    "        )\n",
    "        \n",
    "\n",
    "    def forward(self, x):\n",
    "        # x = x.to('mps')\n",
    "        # X (batch, ch, t)\n",
    "        x = x.unsqueeze(3)\n",
    "        # (batch, ch, t, 1)\n",
    "        x = x.permute(0, 3, 1, 2)\n",
    "        # (batch, 1, ch, t)\n",
    "        x = self.conv_over_time(x)\n",
    "        x = self.conv_over_channels(x)\n",
    "        x = self.conv_by_channel_and_point(x)\n",
    "        x = self.linear(x)\n",
    "\n",
    "        return x"
   ]
  },
  {
   "cell_type": "code",
   "execution_count": 44,
   "metadata": {},
   "outputs": [
    {
     "name": "stdout",
     "output_type": "stream",
     "text": [
      "CNN_ts(\n",
      "  (conv_over_time): Sequential(\n",
      "    (0): Conv2d(1, 24, kernel_size=(1, 64), stride=(1, 1), padding=(0, 32))\n",
      "    (1): BatchNorm2d(24, eps=0.001, momentum=0.01, affine=True, track_running_stats=True)\n",
      "  )\n",
      "  (conv_over_channels): Sequential(\n",
      "    (0): Conv2d(24, 120, kernel_size=(22, 1), stride=(1, 1), groups=8)\n",
      "    (1): BatchNorm2d(120, eps=0.001, momentum=0.01, affine=True, track_running_stats=True)\n",
      "    (2): ELU(alpha=1.0)\n",
      "    (3): AvgPool2d(kernel_size=(1, 4), stride=(1, 4), padding=0)\n",
      "    (4): Dropout(p=0.25, inplace=False)\n",
      "  )\n",
      "  (conv_by_channel_and_point): Sequential(\n",
      "    (0): Conv2d(120, 120, kernel_size=(1, 16), stride=(1, 1), padding=(0, 8), groups=8)\n",
      "    (1): Conv2d(120, 32, kernel_size=(1, 1), stride=(1, 1), bias=False)\n",
      "    (2): BatchNorm2d(32, eps=0.001, momentum=0.01, affine=True, track_running_stats=True)\n",
      "    (3): ELU(alpha=1.0)\n",
      "    (4): AvgPool2d(kernel_size=(1, 8), stride=(1, 8), padding=0)\n",
      "    (5): Dropout(p=0.25, inplace=False)\n",
      "  )\n",
      "  (linear): Sequential(\n",
      "    (0): Flatten(start_dim=1, end_dim=-1)\n",
      "    (1): LazyLinear(in_features=0, out_features=4, bias=True)\n",
      "  )\n",
      ")\n"
     ]
    },
    {
     "data": {
      "text/plain": [
       "==========================================================================================\n",
       "Layer (type:depth-idx)                   Output Shape              Param #\n",
       "==========================================================================================\n",
       "CNN_ts                                   [1, 4]                    --\n",
       "├─Sequential: 1-1                        [1, 24, 22, 251]          --\n",
       "│    └─Conv2d: 2-1                       [1, 24, 22, 251]          1,560\n",
       "│    └─BatchNorm2d: 2-2                  [1, 24, 22, 251]          48\n",
       "├─Sequential: 1-2                        [1, 120, 1, 62]           --\n",
       "│    └─Conv2d: 2-3                       [1, 120, 1, 251]          8,040\n",
       "│    └─BatchNorm2d: 2-4                  [1, 120, 1, 251]          240\n",
       "│    └─ELU: 2-5                          [1, 120, 1, 251]          --\n",
       "│    └─AvgPool2d: 2-6                    [1, 120, 1, 62]           --\n",
       "│    └─Dropout: 2-7                      [1, 120, 1, 62]           --\n",
       "├─Sequential: 1-3                        [1, 32, 1, 7]             --\n",
       "│    └─Conv2d: 2-8                       [1, 120, 1, 63]           28,920\n",
       "│    └─Conv2d: 2-9                       [1, 32, 1, 63]            3,840\n",
       "│    └─BatchNorm2d: 2-10                 [1, 32, 1, 63]            64\n",
       "│    └─ELU: 2-11                         [1, 32, 1, 63]            --\n",
       "│    └─AvgPool2d: 2-12                   [1, 32, 1, 7]             --\n",
       "│    └─Dropout: 2-13                     [1, 32, 1, 7]             --\n",
       "├─Sequential: 1-4                        [1, 4]                    --\n",
       "│    └─Flatten: 2-14                     [1, 224]                  --\n",
       "│    └─Linear: 2-15                      [1, 4]                    900\n",
       "==========================================================================================\n",
       "Total params: 43,612\n",
       "Trainable params: 43,612\n",
       "Non-trainable params: 0\n",
       "Total mult-adds (M): 12.70\n",
       "==========================================================================================\n",
       "Input size (MB): 0.02\n",
       "Forward/backward pass size (MB): 2.70\n",
       "Params size (MB): 0.17\n",
       "Estimated Total Size (MB): 2.89\n",
       "=========================================================================================="
      ]
     },
     "execution_count": 44,
     "metadata": {},
     "output_type": "execute_result"
    }
   ],
   "source": [
    "device = torch.device('mps')\n",
    "\n",
    "model = CNN_ts(n_time=250)\n",
    "model = model.to(device)\n",
    "print(model)\n",
    "test_input = torch.randn((1, 22, 250)).to(device)\n",
    "model(test_input).shape\n",
    "summary(model, input_size=(1, 22, 250), device='mps')"
   ]
  },
  {
   "cell_type": "code",
   "execution_count": 45,
   "metadata": {},
   "outputs": [],
   "source": [
    "time_slots = [50, 100, 150, 200, 250, 500, 750, 1000]"
   ]
  },
  {
   "cell_type": "code",
   "execution_count": 46,
   "metadata": {},
   "outputs": [
    {
     "name": "stderr",
     "output_type": "stream",
     "text": [
      "/Users/yubo/miniforge3/lib/python3.10/site-packages/torch/optim/lr_scheduler.py:28: UserWarning: The verbose parameter is deprecated. Please use get_last_lr() to access the learning rate.\n",
      "  warnings.warn(\"The verbose parameter is deprecated. Please use get_last_lr() \"\n"
     ]
    },
    {
     "name": "stdout",
     "output_type": "stream",
     "text": [
      "Using device: mps\n",
      "[Epoch 0] val_acc=0.331361 train_acc=0.328081 val_loss=0.024171 train_loss=0.021733\n",
      "Validation loss decreased (inf --> 0.024171).  Saving model ...\n",
      "[Epoch 1] val_acc=0.328402 train_acc=0.382667 val_loss=0.024043 train_loss=0.020867\n",
      "Validation loss decreased (0.024171 --> 0.024043).  Saving model ...\n",
      "[Epoch 2] val_acc=0.355030 train_acc=0.395611 val_loss=0.023851 train_loss=0.020508\n",
      "Validation loss decreased (0.024043 --> 0.023851).  Saving model ...\n",
      "[Epoch 3] val_acc=0.384615 train_acc=0.416432 val_loss=0.023639 train_loss=0.020364\n",
      "Validation loss decreased (0.023851 --> 0.023639).  Saving model ...\n",
      "[Epoch 4] val_acc=0.402367 train_acc=0.453573 val_loss=0.023616 train_loss=0.020035\n",
      "Validation loss decreased (0.023639 --> 0.023616).  Saving model ...\n",
      "[Epoch 5] val_acc=0.369822 train_acc=0.451322 val_loss=0.023503 train_loss=0.019923\n",
      "Validation loss decreased (0.023616 --> 0.023503).  Saving model ...\n",
      "[Epoch 6] val_acc=0.378698 train_acc=0.450760 val_loss=0.023470 train_loss=0.019786\n",
      "Validation loss decreased (0.023503 --> 0.023470).  Saving model ...\n",
      "[Epoch 7] val_acc=0.420118 train_acc=0.477772 val_loss=0.023170 train_loss=0.019667\n",
      "Validation loss decreased (0.023470 --> 0.023170).  Saving model ...\n",
      "[Epoch 8] val_acc=0.396450 train_acc=0.477772 val_loss=0.023143 train_loss=0.019585\n",
      "Validation loss decreased (0.023170 --> 0.023143).  Saving model ...\n",
      "[Epoch 9] val_acc=0.417160 train_acc=0.498030 val_loss=0.022739 train_loss=0.019362\n",
      "Validation loss decreased (0.023143 --> 0.022739).  Saving model ...\n",
      "[Epoch 10] val_acc=0.440828 train_acc=0.489589 val_loss=0.022306 train_loss=0.019224\n",
      "Validation loss decreased (0.022739 --> 0.022306).  Saving model ...\n",
      "[Epoch 11] val_acc=0.417160 train_acc=0.493528 val_loss=0.022696 train_loss=0.019267\n",
      "EarlyStopping counter: 1 out of 30\n",
      "[Epoch 12] val_acc=0.446746 train_acc=0.499156 val_loss=0.022722 train_loss=0.019023\n",
      "EarlyStopping counter: 2 out of 30\n",
      "[Epoch 13] val_acc=0.405325 train_acc=0.506472 val_loss=0.022958 train_loss=0.019035\n",
      "EarlyStopping counter: 3 out of 30\n",
      "[Epoch 14] val_acc=0.426036 train_acc=0.510411 val_loss=0.022522 train_loss=0.018938\n",
      "EarlyStopping counter: 4 out of 30\n",
      "[Epoch 15] val_acc=0.414201 train_acc=0.497468 val_loss=0.022683 train_loss=0.018855\n",
      "EarlyStopping counter: 5 out of 30\n",
      "[Epoch 16] val_acc=0.411243 train_acc=0.519415 val_loss=0.022715 train_loss=0.018766\n",
      "EarlyStopping counter: 6 out of 30\n",
      "[Epoch 17] val_acc=0.440828 train_acc=0.521666 val_loss=0.022260 train_loss=0.018884\n",
      "Validation loss decreased (0.022306 --> 0.022260).  Saving model ...\n",
      "[Epoch 18] val_acc=0.417160 train_acc=0.526168 val_loss=0.022763 train_loss=0.018892\n",
      "EarlyStopping counter: 1 out of 30\n",
      "[Epoch 19] val_acc=0.402367 train_acc=0.525605 val_loss=0.022939 train_loss=0.018695\n",
      "EarlyStopping counter: 2 out of 30\n",
      "[Epoch 20] val_acc=0.443787 train_acc=0.527293 val_loss=0.023156 train_loss=0.018749\n",
      "EarlyStopping counter: 3 out of 30\n",
      "[Epoch 21] val_acc=0.443787 train_acc=0.527293 val_loss=0.022350 train_loss=0.018581\n",
      "EarlyStopping counter: 4 out of 30\n",
      "[Epoch 22] val_acc=0.423077 train_acc=0.532921 val_loss=0.022465 train_loss=0.018499\n",
      "EarlyStopping counter: 5 out of 30\n",
      "[Epoch 23] val_acc=0.431953 train_acc=0.541925 val_loss=0.022674 train_loss=0.018363\n",
      "EarlyStopping counter: 6 out of 30\n",
      "[Epoch 24] val_acc=0.393491 train_acc=0.539111 val_loss=0.023084 train_loss=0.018543\n",
      "EarlyStopping counter: 7 out of 30\n",
      "[Epoch 25] val_acc=0.411243 train_acc=0.545301 val_loss=0.022375 train_loss=0.018368\n",
      "EarlyStopping counter: 8 out of 30\n",
      "[Epoch 26] val_acc=0.414201 train_acc=0.536297 val_loss=0.022532 train_loss=0.018444\n",
      "EarlyStopping counter: 9 out of 30\n",
      "[Epoch 27] val_acc=0.423077 train_acc=0.534046 val_loss=0.023149 train_loss=0.018298\n",
      "EarlyStopping counter: 10 out of 30\n",
      "[Epoch 28] val_acc=0.387574 train_acc=0.555993 val_loss=0.022903 train_loss=0.018268\n",
      "EarlyStopping counter: 11 out of 30\n",
      "[Epoch 29] val_acc=0.428994 train_acc=0.567248 val_loss=0.022469 train_loss=0.018170\n",
      "EarlyStopping counter: 12 out of 30\n",
      "[Epoch 30] val_acc=0.408284 train_acc=0.537423 val_loss=0.022973 train_loss=0.018170\n",
      "EarlyStopping counter: 13 out of 30\n",
      "[Epoch 31] val_acc=0.420118 train_acc=0.550929 val_loss=0.022722 train_loss=0.018027\n",
      "EarlyStopping counter: 14 out of 30\n",
      "[Epoch 32] val_acc=0.390533 train_acc=0.564434 val_loss=0.023280 train_loss=0.017985\n",
      "EarlyStopping counter: 15 out of 30\n",
      "[Epoch 33] val_acc=0.417160 train_acc=0.558807 val_loss=0.022659 train_loss=0.018068\n",
      "EarlyStopping counter: 16 out of 30\n",
      "[Epoch 34] val_acc=0.417160 train_acc=0.567248 val_loss=0.022669 train_loss=0.017949\n",
      "EarlyStopping counter: 17 out of 30\n",
      "[Epoch 35] val_acc=0.434911 train_acc=0.564434 val_loss=0.022476 train_loss=0.017753\n",
      "EarlyStopping counter: 18 out of 30\n",
      "[Epoch 36] val_acc=0.443787 train_acc=0.571750 val_loss=0.022749 train_loss=0.017761\n",
      "EarlyStopping counter: 19 out of 30\n",
      "[Epoch 37] val_acc=0.461538 train_acc=0.563872 val_loss=0.022482 train_loss=0.017846\n",
      "EarlyStopping counter: 20 out of 30\n",
      "[Epoch 38] val_acc=0.402367 train_acc=0.577940 val_loss=0.022851 train_loss=0.017658\n",
      "EarlyStopping counter: 21 out of 30\n",
      "[Epoch 39] val_acc=0.417160 train_acc=0.577940 val_loss=0.022627 train_loss=0.017507\n",
      "EarlyStopping counter: 22 out of 30\n",
      "[Epoch 40] val_acc=0.411243 train_acc=0.594823 val_loss=0.022807 train_loss=0.017568\n",
      "EarlyStopping counter: 23 out of 30\n",
      "[Epoch 41] val_acc=0.437870 train_acc=0.590321 val_loss=0.022894 train_loss=0.017486\n",
      "EarlyStopping counter: 24 out of 30\n",
      "[Epoch 42] val_acc=0.428994 train_acc=0.585819 val_loss=0.022856 train_loss=0.017573\n",
      "EarlyStopping counter: 25 out of 30\n",
      "[Epoch 43] val_acc=0.426036 train_acc=0.573438 val_loss=0.022561 train_loss=0.017709\n",
      "EarlyStopping counter: 26 out of 30\n",
      "[Epoch 44] val_acc=0.381657 train_acc=0.595385 val_loss=0.023135 train_loss=0.017467\n",
      "EarlyStopping counter: 27 out of 30\n",
      "[Epoch 45] val_acc=0.437870 train_acc=0.599887 val_loss=0.022695 train_loss=0.017438\n",
      "EarlyStopping counter: 28 out of 30\n",
      "[Epoch 46] val_acc=0.378698 train_acc=0.583568 val_loss=0.023658 train_loss=0.017144\n",
      "EarlyStopping counter: 29 out of 30\n",
      "[Epoch 47] val_acc=0.428994 train_acc=0.588633 val_loss=0.023225 train_loss=0.017387\n",
      "EarlyStopping counter: 30 out of 30\n",
      "Early stopping.\n",
      "Using device: mps\n",
      "[Epoch 0] val_acc=0.396450 train_acc=0.337085 val_loss=0.023579 train_loss=0.021555\n",
      "Validation loss decreased (inf --> 0.023579).  Saving model ...\n",
      "[Epoch 1] val_acc=0.372781 train_acc=0.425999 val_loss=0.023423 train_loss=0.020501\n",
      "Validation loss decreased (0.023579 --> 0.023423).  Saving model ...\n",
      "[Epoch 2] val_acc=0.455621 train_acc=0.450760 val_loss=0.022997 train_loss=0.019822\n",
      "Validation loss decreased (0.023423 --> 0.022997).  Saving model ...\n",
      "[Epoch 3] val_acc=0.426036 train_acc=0.490152 val_loss=0.022751 train_loss=0.019403\n",
      "Validation loss decreased (0.022997 --> 0.022751).  Saving model ...\n",
      "[Epoch 4] val_acc=0.464497 train_acc=0.515476 val_loss=0.022271 train_loss=0.018908\n",
      "Validation loss decreased (0.022751 --> 0.022271).  Saving model ...\n",
      "[Epoch 5] val_acc=0.523669 train_acc=0.512662 val_loss=0.021855 train_loss=0.018702\n",
      "Validation loss decreased (0.022271 --> 0.021855).  Saving model ...\n",
      "[Epoch 6] val_acc=0.508876 train_acc=0.536297 val_loss=0.021388 train_loss=0.018188\n",
      "Validation loss decreased (0.021855 --> 0.021388).  Saving model ...\n",
      "[Epoch 7] val_acc=0.550296 train_acc=0.558244 val_loss=0.020771 train_loss=0.018078\n",
      "Validation loss decreased (0.021388 --> 0.020771).  Saving model ...\n",
      "[Epoch 8] val_acc=0.446746 train_acc=0.545301 val_loss=0.020961 train_loss=0.018045\n",
      "EarlyStopping counter: 1 out of 30\n",
      "[Epoch 9] val_acc=0.500000 train_acc=0.570062 val_loss=0.020490 train_loss=0.017817\n",
      "Validation loss decreased (0.020771 --> 0.020490).  Saving model ...\n",
      "[Epoch 10] val_acc=0.494083 train_acc=0.571750 val_loss=0.020758 train_loss=0.017789\n",
      "EarlyStopping counter: 1 out of 30\n",
      "[Epoch 11] val_acc=0.538462 train_acc=0.566685 val_loss=0.020179 train_loss=0.017543\n",
      "Validation loss decreased (0.020490 --> 0.020179).  Saving model ...\n",
      "[Epoch 12] val_acc=0.553254 train_acc=0.583568 val_loss=0.019578 train_loss=0.017436\n",
      "Validation loss decreased (0.020179 --> 0.019578).  Saving model ...\n",
      "[Epoch 13] val_acc=0.526627 train_acc=0.592009 val_loss=0.019809 train_loss=0.017381\n",
      "EarlyStopping counter: 1 out of 30\n",
      "[Epoch 14] val_acc=0.497041 train_acc=0.579629 val_loss=0.019904 train_loss=0.017384\n",
      "EarlyStopping counter: 2 out of 30\n",
      "[Epoch 15] val_acc=0.538462 train_acc=0.610580 val_loss=0.019761 train_loss=0.016785\n",
      "EarlyStopping counter: 3 out of 30\n",
      "[Epoch 16] val_acc=0.520710 train_acc=0.611705 val_loss=0.019848 train_loss=0.017141\n",
      "EarlyStopping counter: 4 out of 30\n",
      "[Epoch 17] val_acc=0.573964 train_acc=0.619021 val_loss=0.019106 train_loss=0.016830\n",
      "Validation loss decreased (0.019578 --> 0.019106).  Saving model ...\n",
      "[Epoch 18] val_acc=0.541420 train_acc=0.623523 val_loss=0.019594 train_loss=0.016842\n",
      "EarlyStopping counter: 1 out of 30\n",
      "[Epoch 19] val_acc=0.520710 train_acc=0.610017 val_loss=0.019236 train_loss=0.016752\n",
      "EarlyStopping counter: 2 out of 30\n",
      "[Epoch 20] val_acc=0.550296 train_acc=0.612268 val_loss=0.019697 train_loss=0.016686\n",
      "EarlyStopping counter: 3 out of 30\n",
      "[Epoch 21] val_acc=0.535503 train_acc=0.611705 val_loss=0.019935 train_loss=0.016796\n",
      "EarlyStopping counter: 4 out of 30\n",
      "[Epoch 22] val_acc=0.550296 train_acc=0.625774 val_loss=0.019644 train_loss=0.016445\n",
      "EarlyStopping counter: 5 out of 30\n",
      "[Epoch 23] val_acc=0.553254 train_acc=0.622960 val_loss=0.019331 train_loss=0.016328\n",
      "EarlyStopping counter: 6 out of 30\n",
      "[Epoch 24] val_acc=0.529586 train_acc=0.651097 val_loss=0.019494 train_loss=0.016214\n",
      "EarlyStopping counter: 7 out of 30\n",
      "[Epoch 25] val_acc=0.568047 train_acc=0.639842 val_loss=0.019716 train_loss=0.016359\n",
      "EarlyStopping counter: 8 out of 30\n",
      "[Epoch 26] val_acc=0.532544 train_acc=0.642093 val_loss=0.020137 train_loss=0.016095\n",
      "EarlyStopping counter: 9 out of 30\n",
      "[Epoch 27] val_acc=0.535503 train_acc=0.640405 val_loss=0.019793 train_loss=0.016188\n",
      "EarlyStopping counter: 10 out of 30\n",
      "[Epoch 28] val_acc=0.535503 train_acc=0.653348 val_loss=0.019469 train_loss=0.015928\n",
      "EarlyStopping counter: 11 out of 30\n",
      "[Epoch 29] val_acc=0.571006 train_acc=0.660664 val_loss=0.019008 train_loss=0.015842\n",
      "Validation loss decreased (0.019106 --> 0.019008).  Saving model ...\n",
      "[Epoch 30] val_acc=0.562130 train_acc=0.658976 val_loss=0.018917 train_loss=0.015816\n",
      "Validation loss decreased (0.019008 --> 0.018917).  Saving model ...\n",
      "[Epoch 31] val_acc=0.523669 train_acc=0.663478 val_loss=0.020194 train_loss=0.015834\n",
      "EarlyStopping counter: 1 out of 30\n",
      "[Epoch 32] val_acc=0.573964 train_acc=0.650535 val_loss=0.019047 train_loss=0.015842\n",
      "EarlyStopping counter: 2 out of 30\n",
      "[Epoch 33] val_acc=0.553254 train_acc=0.649409 val_loss=0.019112 train_loss=0.015752\n",
      "EarlyStopping counter: 3 out of 30\n",
      "[Epoch 34] val_acc=0.538462 train_acc=0.663478 val_loss=0.019481 train_loss=0.015767\n",
      "EarlyStopping counter: 4 out of 30\n",
      "[Epoch 35] val_acc=0.553254 train_acc=0.682048 val_loss=0.019057 train_loss=0.015507\n",
      "EarlyStopping counter: 5 out of 30\n",
      "[Epoch 36] val_acc=0.559172 train_acc=0.682048 val_loss=0.019105 train_loss=0.015394\n",
      "EarlyStopping counter: 6 out of 30\n",
      "[Epoch 37] val_acc=0.538462 train_acc=0.665166 val_loss=0.020126 train_loss=0.015513\n",
      "EarlyStopping counter: 7 out of 30\n",
      "[Epoch 38] val_acc=0.541420 train_acc=0.664041 val_loss=0.019803 train_loss=0.015479\n",
      "EarlyStopping counter: 8 out of 30\n",
      "[Epoch 39] val_acc=0.529586 train_acc=0.673044 val_loss=0.019620 train_loss=0.015359\n",
      "EarlyStopping counter: 9 out of 30\n",
      "[Epoch 40] val_acc=0.547337 train_acc=0.687113 val_loss=0.019895 train_loss=0.015208\n",
      "EarlyStopping counter: 10 out of 30\n",
      "[Epoch 41] val_acc=0.571006 train_acc=0.669668 val_loss=0.019267 train_loss=0.015472\n",
      "EarlyStopping counter: 11 out of 30\n",
      "[Epoch 42] val_acc=0.565089 train_acc=0.700056 val_loss=0.019601 train_loss=0.015156\n",
      "EarlyStopping counter: 12 out of 30\n",
      "[Epoch 43] val_acc=0.582840 train_acc=0.673044 val_loss=0.019584 train_loss=0.015470\n",
      "EarlyStopping counter: 13 out of 30\n",
      "[Epoch 44] val_acc=0.535503 train_acc=0.691052 val_loss=0.020032 train_loss=0.015216\n",
      "EarlyStopping counter: 14 out of 30\n",
      "[Epoch 45] val_acc=0.582840 train_acc=0.691052 val_loss=0.019387 train_loss=0.015083\n",
      "EarlyStopping counter: 15 out of 30\n",
      "[Epoch 46] val_acc=0.585799 train_acc=0.700619 val_loss=0.019698 train_loss=0.014939\n",
      "EarlyStopping counter: 16 out of 30\n",
      "[Epoch 47] val_acc=0.550296 train_acc=0.703995 val_loss=0.019608 train_loss=0.014841\n",
      "EarlyStopping counter: 17 out of 30\n",
      "[Epoch 48] val_acc=0.576923 train_acc=0.703995 val_loss=0.019233 train_loss=0.014904\n",
      "EarlyStopping counter: 18 out of 30\n",
      "[Epoch 49] val_acc=0.538462 train_acc=0.711311 val_loss=0.019606 train_loss=0.014796\n",
      "EarlyStopping counter: 19 out of 30\n",
      "[Epoch 50] val_acc=0.556213 train_acc=0.706246 val_loss=0.019859 train_loss=0.014883\n",
      "EarlyStopping counter: 20 out of 30\n",
      "[Epoch 51] val_acc=0.559172 train_acc=0.710748 val_loss=0.018951 train_loss=0.014671\n",
      "EarlyStopping counter: 21 out of 30\n",
      "[Epoch 52] val_acc=0.553254 train_acc=0.705684 val_loss=0.019367 train_loss=0.014706\n",
      "EarlyStopping counter: 22 out of 30\n",
      "[Epoch 53] val_acc=0.553254 train_acc=0.722566 val_loss=0.019329 train_loss=0.014408\n",
      "EarlyStopping counter: 23 out of 30\n",
      "[Epoch 54] val_acc=0.568047 train_acc=0.713562 val_loss=0.019018 train_loss=0.014503\n",
      "EarlyStopping counter: 24 out of 30\n",
      "[Epoch 55] val_acc=0.538462 train_acc=0.722003 val_loss=0.020100 train_loss=0.014464\n",
      "EarlyStopping counter: 25 out of 30\n",
      "[Epoch 56] val_acc=0.538462 train_acc=0.696680 val_loss=0.019532 train_loss=0.014802\n",
      "EarlyStopping counter: 26 out of 30\n",
      "[Epoch 57] val_acc=0.559172 train_acc=0.722003 val_loss=0.019823 train_loss=0.014585\n",
      "EarlyStopping counter: 27 out of 30\n",
      "[Epoch 58] val_acc=0.585799 train_acc=0.714125 val_loss=0.019009 train_loss=0.014697\n",
      "EarlyStopping counter: 28 out of 30\n",
      "[Epoch 59] val_acc=0.550296 train_acc=0.727068 val_loss=0.019174 train_loss=0.014350\n",
      "EarlyStopping counter: 29 out of 30\n",
      "[Epoch 60] val_acc=0.529586 train_acc=0.723692 val_loss=0.019984 train_loss=0.014491\n",
      "EarlyStopping counter: 30 out of 30\n",
      "Early stopping.\n",
      "Using device: mps\n",
      "[Epoch 0] val_acc=0.319527 train_acc=0.341587 val_loss=0.024007 train_loss=0.021629\n",
      "Validation loss decreased (inf --> 0.024007).  Saving model ...\n",
      "[Epoch 1] val_acc=0.375740 train_acc=0.399550 val_loss=0.023504 train_loss=0.020569\n",
      "Validation loss decreased (0.024007 --> 0.023504).  Saving model ...\n",
      "[Epoch 2] val_acc=0.411243 train_acc=0.468768 val_loss=0.022853 train_loss=0.019706\n",
      "Validation loss decreased (0.023504 --> 0.022853).  Saving model ...\n",
      "[Epoch 3] val_acc=0.449704 train_acc=0.498030 val_loss=0.022541 train_loss=0.019188\n",
      "Validation loss decreased (0.022853 --> 0.022541).  Saving model ...\n",
      "[Epoch 4] val_acc=0.505917 train_acc=0.544738 val_loss=0.022106 train_loss=0.018466\n",
      "Validation loss decreased (0.022541 --> 0.022106).  Saving model ...\n",
      "[Epoch 5] val_acc=0.500000 train_acc=0.550929 val_loss=0.021588 train_loss=0.018015\n",
      "Validation loss decreased (0.022106 --> 0.021588).  Saving model ...\n",
      "[Epoch 6] val_acc=0.491124 train_acc=0.559932 val_loss=0.021183 train_loss=0.017943\n",
      "Validation loss decreased (0.021588 --> 0.021183).  Saving model ...\n",
      "[Epoch 7] val_acc=0.532544 train_acc=0.553742 val_loss=0.020653 train_loss=0.017559\n",
      "Validation loss decreased (0.021183 --> 0.020653).  Saving model ...\n",
      "[Epoch 8] val_acc=0.550296 train_acc=0.595948 val_loss=0.020029 train_loss=0.017407\n",
      "Validation loss decreased (0.020653 --> 0.020029).  Saving model ...\n",
      "[Epoch 9] val_acc=0.571006 train_acc=0.597636 val_loss=0.019543 train_loss=0.016987\n",
      "Validation loss decreased (0.020029 --> 0.019543).  Saving model ...\n",
      "[Epoch 10] val_acc=0.520710 train_acc=0.613393 val_loss=0.019985 train_loss=0.016867\n",
      "EarlyStopping counter: 1 out of 30\n",
      "[Epoch 11] val_acc=0.538462 train_acc=0.618458 val_loss=0.019123 train_loss=0.016847\n",
      "Validation loss decreased (0.019543 --> 0.019123).  Saving model ...\n",
      "[Epoch 12] val_acc=0.529586 train_acc=0.619021 val_loss=0.019502 train_loss=0.016764\n",
      "EarlyStopping counter: 1 out of 30\n",
      "[Epoch 13] val_acc=0.565089 train_acc=0.620146 val_loss=0.019043 train_loss=0.016510\n",
      "Validation loss decreased (0.019123 --> 0.019043).  Saving model ...\n",
      "[Epoch 14] val_acc=0.582840 train_acc=0.651097 val_loss=0.018604 train_loss=0.016098\n",
      "Validation loss decreased (0.019043 --> 0.018604).  Saving model ...\n",
      "[Epoch 15] val_acc=0.579882 train_acc=0.648846 val_loss=0.018718 train_loss=0.016158\n",
      "EarlyStopping counter: 1 out of 30\n",
      "[Epoch 16] val_acc=0.571006 train_acc=0.649972 val_loss=0.018724 train_loss=0.016159\n",
      "EarlyStopping counter: 2 out of 30\n",
      "[Epoch 17] val_acc=0.576923 train_acc=0.653911 val_loss=0.018634 train_loss=0.016032\n",
      "EarlyStopping counter: 3 out of 30\n",
      "[Epoch 18] val_acc=0.588757 train_acc=0.656725 val_loss=0.018722 train_loss=0.015754\n",
      "EarlyStopping counter: 4 out of 30\n",
      "[Epoch 19] val_acc=0.529586 train_acc=0.677546 val_loss=0.019488 train_loss=0.015749\n",
      "EarlyStopping counter: 5 out of 30\n",
      "[Epoch 20] val_acc=0.573964 train_acc=0.670231 val_loss=0.018702 train_loss=0.015835\n",
      "EarlyStopping counter: 6 out of 30\n",
      "[Epoch 21] val_acc=0.597633 train_acc=0.680360 val_loss=0.018311 train_loss=0.015566\n",
      "Validation loss decreased (0.018604 --> 0.018311).  Saving model ...\n",
      "[Epoch 22] val_acc=0.600592 train_acc=0.691052 val_loss=0.018575 train_loss=0.015262\n",
      "EarlyStopping counter: 1 out of 30\n",
      "[Epoch 23] val_acc=0.582840 train_acc=0.685988 val_loss=0.018132 train_loss=0.015296\n",
      "Validation loss decreased (0.018311 --> 0.018132).  Saving model ...\n",
      "[Epoch 24] val_acc=0.594675 train_acc=0.676421 val_loss=0.018101 train_loss=0.015457\n",
      "Validation loss decreased (0.018132 --> 0.018101).  Saving model ...\n",
      "[Epoch 25] val_acc=0.618343 train_acc=0.698931 val_loss=0.018289 train_loss=0.015080\n",
      "EarlyStopping counter: 1 out of 30\n",
      "[Epoch 26] val_acc=0.573964 train_acc=0.696680 val_loss=0.018708 train_loss=0.015145\n",
      "EarlyStopping counter: 2 out of 30\n",
      "[Epoch 27] val_acc=0.582840 train_acc=0.682611 val_loss=0.018198 train_loss=0.015289\n",
      "EarlyStopping counter: 3 out of 30\n",
      "[Epoch 28] val_acc=0.600592 train_acc=0.712437 val_loss=0.017938 train_loss=0.014803\n",
      "Validation loss decreased (0.018101 --> 0.017938).  Saving model ...\n",
      "[Epoch 29] val_acc=0.621302 train_acc=0.718627 val_loss=0.017253 train_loss=0.014696\n",
      "Validation loss decreased (0.017938 --> 0.017253).  Saving model ...\n",
      "[Epoch 30] val_acc=0.594675 train_acc=0.724254 val_loss=0.018305 train_loss=0.014571\n",
      "EarlyStopping counter: 1 out of 30\n",
      "[Epoch 31] val_acc=0.600592 train_acc=0.700056 val_loss=0.017768 train_loss=0.014679\n",
      "EarlyStopping counter: 2 out of 30\n",
      "[Epoch 32] val_acc=0.582840 train_acc=0.719752 val_loss=0.017816 train_loss=0.014636\n",
      "EarlyStopping counter: 3 out of 30\n",
      "[Epoch 33] val_acc=0.585799 train_acc=0.711874 val_loss=0.018034 train_loss=0.014651\n",
      "EarlyStopping counter: 4 out of 30\n",
      "[Epoch 34] val_acc=0.565089 train_acc=0.712999 val_loss=0.018000 train_loss=0.014749\n",
      "EarlyStopping counter: 5 out of 30\n",
      "[Epoch 35] val_acc=0.594675 train_acc=0.725943 val_loss=0.018325 train_loss=0.014360\n",
      "EarlyStopping counter: 6 out of 30\n",
      "[Epoch 36] val_acc=0.600592 train_acc=0.723692 val_loss=0.018014 train_loss=0.014483\n",
      "EarlyStopping counter: 7 out of 30\n",
      "[Epoch 37] val_acc=0.585799 train_acc=0.728194 val_loss=0.018409 train_loss=0.014302\n",
      "EarlyStopping counter: 8 out of 30\n",
      "[Epoch 38] val_acc=0.621302 train_acc=0.723692 val_loss=0.017475 train_loss=0.014543\n",
      "EarlyStopping counter: 9 out of 30\n",
      "[Epoch 39] val_acc=0.612426 train_acc=0.731570 val_loss=0.017736 train_loss=0.014169\n",
      "EarlyStopping counter: 10 out of 30\n",
      "[Epoch 40] val_acc=0.544379 train_acc=0.724254 val_loss=0.018191 train_loss=0.014381\n",
      "EarlyStopping counter: 11 out of 30\n",
      "[Epoch 41] val_acc=0.603550 train_acc=0.738323 val_loss=0.018108 train_loss=0.014196\n",
      "EarlyStopping counter: 12 out of 30\n",
      "[Epoch 42] val_acc=0.618343 train_acc=0.731570 val_loss=0.017426 train_loss=0.014277\n",
      "EarlyStopping counter: 13 out of 30\n",
      "[Epoch 43] val_acc=0.568047 train_acc=0.741699 val_loss=0.017748 train_loss=0.014029\n",
      "EarlyStopping counter: 14 out of 30\n",
      "[Epoch 44] val_acc=0.576923 train_acc=0.738886 val_loss=0.017837 train_loss=0.014052\n",
      "EarlyStopping counter: 15 out of 30\n",
      "[Epoch 45] val_acc=0.627219 train_acc=0.743950 val_loss=0.017240 train_loss=0.013927\n",
      "Validation loss decreased (0.017253 --> 0.017240).  Saving model ...\n",
      "[Epoch 46] val_acc=0.597633 train_acc=0.748452 val_loss=0.017695 train_loss=0.013992\n",
      "EarlyStopping counter: 1 out of 30\n",
      "[Epoch 47] val_acc=0.612426 train_acc=0.755768 val_loss=0.017172 train_loss=0.013824\n",
      "Validation loss decreased (0.017240 --> 0.017172).  Saving model ...\n",
      "[Epoch 48] val_acc=0.588757 train_acc=0.746764 val_loss=0.017716 train_loss=0.013852\n",
      "EarlyStopping counter: 1 out of 30\n",
      "[Epoch 49] val_acc=0.630178 train_acc=0.754080 val_loss=0.017746 train_loss=0.013668\n",
      "EarlyStopping counter: 2 out of 30\n",
      "[Epoch 50] val_acc=0.582840 train_acc=0.753517 val_loss=0.017866 train_loss=0.013580\n",
      "EarlyStopping counter: 3 out of 30\n",
      "[Epoch 51] val_acc=0.594675 train_acc=0.752392 val_loss=0.018391 train_loss=0.013889\n",
      "EarlyStopping counter: 4 out of 30\n",
      "[Epoch 52] val_acc=0.615385 train_acc=0.764209 val_loss=0.017836 train_loss=0.013536\n",
      "EarlyStopping counter: 5 out of 30\n",
      "[Epoch 53] val_acc=0.591716 train_acc=0.774339 val_loss=0.017822 train_loss=0.013507\n",
      "EarlyStopping counter: 6 out of 30\n",
      "[Epoch 54] val_acc=0.565089 train_acc=0.769274 val_loss=0.018565 train_loss=0.013669\n",
      "EarlyStopping counter: 7 out of 30\n",
      "[Epoch 55] val_acc=0.582840 train_acc=0.773776 val_loss=0.018318 train_loss=0.013556\n",
      "EarlyStopping counter: 8 out of 30\n",
      "[Epoch 56] val_acc=0.603550 train_acc=0.776027 val_loss=0.017995 train_loss=0.013337\n",
      "EarlyStopping counter: 9 out of 30\n",
      "[Epoch 57] val_acc=0.579882 train_acc=0.771525 val_loss=0.018447 train_loss=0.013363\n",
      "EarlyStopping counter: 10 out of 30\n",
      "[Epoch 58] val_acc=0.588757 train_acc=0.774902 val_loss=0.017924 train_loss=0.013359\n",
      "EarlyStopping counter: 11 out of 30\n",
      "[Epoch 59] val_acc=0.615385 train_acc=0.786719 val_loss=0.017529 train_loss=0.013191\n",
      "EarlyStopping counter: 12 out of 30\n",
      "[Epoch 60] val_acc=0.594675 train_acc=0.786156 val_loss=0.017415 train_loss=0.013301\n",
      "EarlyStopping counter: 13 out of 30\n",
      "[Epoch 61] val_acc=0.618343 train_acc=0.782217 val_loss=0.018012 train_loss=0.013307\n",
      "EarlyStopping counter: 14 out of 30\n",
      "[Epoch 62] val_acc=0.573964 train_acc=0.761396 val_loss=0.018559 train_loss=0.013489\n",
      "EarlyStopping counter: 15 out of 30\n",
      "[Epoch 63] val_acc=0.612426 train_acc=0.767586 val_loss=0.018141 train_loss=0.013282\n",
      "EarlyStopping counter: 16 out of 30\n",
      "[Epoch 64] val_acc=0.603550 train_acc=0.781092 val_loss=0.017382 train_loss=0.013144\n",
      "EarlyStopping counter: 17 out of 30\n",
      "[Epoch 65] val_acc=0.624260 train_acc=0.785031 val_loss=0.017730 train_loss=0.013131\n",
      "EarlyStopping counter: 18 out of 30\n",
      "[Epoch 66] val_acc=0.609467 train_acc=0.800225 val_loss=0.017732 train_loss=0.012875\n",
      "EarlyStopping counter: 19 out of 30\n",
      "[Epoch 67] val_acc=0.582840 train_acc=0.788970 val_loss=0.017974 train_loss=0.012995\n",
      "EarlyStopping counter: 20 out of 30\n",
      "[Epoch 68] val_acc=0.633136 train_acc=0.802476 val_loss=0.017382 train_loss=0.012797\n",
      "EarlyStopping counter: 21 out of 30\n",
      "[Epoch 69] val_acc=0.621302 train_acc=0.769837 val_loss=0.017924 train_loss=0.013331\n",
      "EarlyStopping counter: 22 out of 30\n",
      "[Epoch 70] val_acc=0.600592 train_acc=0.806978 val_loss=0.017516 train_loss=0.012933\n",
      "EarlyStopping counter: 23 out of 30\n",
      "[Epoch 71] val_acc=0.609467 train_acc=0.801351 val_loss=0.018216 train_loss=0.012669\n",
      "EarlyStopping counter: 24 out of 30\n",
      "[Epoch 72] val_acc=0.582840 train_acc=0.809792 val_loss=0.018251 train_loss=0.012642\n",
      "EarlyStopping counter: 25 out of 30\n",
      "[Epoch 73] val_acc=0.579882 train_acc=0.803602 val_loss=0.018268 train_loss=0.012671\n",
      "EarlyStopping counter: 26 out of 30\n",
      "[Epoch 74] val_acc=0.594675 train_acc=0.801351 val_loss=0.018122 train_loss=0.012744\n",
      "EarlyStopping counter: 27 out of 30\n",
      "[Epoch 75] val_acc=0.603550 train_acc=0.815419 val_loss=0.017928 train_loss=0.012520\n",
      "EarlyStopping counter: 28 out of 30\n",
      "[Epoch 76] val_acc=0.597633 train_acc=0.800788 val_loss=0.018053 train_loss=0.012711\n",
      "EarlyStopping counter: 29 out of 30\n",
      "[Epoch 77] val_acc=0.633136 train_acc=0.812043 val_loss=0.017570 train_loss=0.012491\n",
      "EarlyStopping counter: 30 out of 30\n",
      "Early stopping.\n",
      "Using device: mps\n",
      "[Epoch 0] val_acc=0.387574 train_acc=0.333708 val_loss=0.023647 train_loss=0.021567\n",
      "Validation loss decreased (inf --> 0.023647).  Saving model ...\n",
      "[Epoch 1] val_acc=0.396450 train_acc=0.440068 val_loss=0.023201 train_loss=0.020237\n",
      "Validation loss decreased (0.023647 --> 0.023201).  Saving model ...\n",
      "[Epoch 2] val_acc=0.455621 train_acc=0.491277 val_loss=0.022436 train_loss=0.019242\n",
      "Validation loss decreased (0.023201 --> 0.022436).  Saving model ...\n",
      "[Epoch 3] val_acc=0.461538 train_acc=0.514350 val_loss=0.021946 train_loss=0.018809\n",
      "Validation loss decreased (0.022436 --> 0.021946).  Saving model ...\n",
      "[Epoch 4] val_acc=0.526627 train_acc=0.546427 val_loss=0.021395 train_loss=0.018342\n",
      "Validation loss decreased (0.021946 --> 0.021395).  Saving model ...\n",
      "[Epoch 5] val_acc=0.541420 train_acc=0.563872 val_loss=0.020704 train_loss=0.017702\n",
      "Validation loss decreased (0.021395 --> 0.020704).  Saving model ...\n",
      "[Epoch 6] val_acc=0.538462 train_acc=0.568936 val_loss=0.020216 train_loss=0.017656\n",
      "Validation loss decreased (0.020704 --> 0.020216).  Saving model ...\n",
      "[Epoch 7] val_acc=0.565089 train_acc=0.596511 val_loss=0.019518 train_loss=0.017259\n",
      "Validation loss decreased (0.020216 --> 0.019518).  Saving model ...\n",
      "[Epoch 8] val_acc=0.573964 train_acc=0.609454 val_loss=0.019117 train_loss=0.016791\n",
      "Validation loss decreased (0.019518 --> 0.019117).  Saving model ...\n",
      "[Epoch 9] val_acc=0.565089 train_acc=0.622397 val_loss=0.018680 train_loss=0.016551\n",
      "Validation loss decreased (0.019117 --> 0.018680).  Saving model ...\n",
      "[Epoch 10] val_acc=0.579882 train_acc=0.642656 val_loss=0.018353 train_loss=0.016384\n",
      "Validation loss decreased (0.018680 --> 0.018353).  Saving model ...\n",
      "[Epoch 11] val_acc=0.588757 train_acc=0.656725 val_loss=0.017846 train_loss=0.016240\n",
      "Validation loss decreased (0.018353 --> 0.017846).  Saving model ...\n",
      "[Epoch 12] val_acc=0.618343 train_acc=0.665729 val_loss=0.017658 train_loss=0.015821\n",
      "Validation loss decreased (0.017846 --> 0.017658).  Saving model ...\n",
      "[Epoch 13] val_acc=0.606509 train_acc=0.664041 val_loss=0.016752 train_loss=0.015674\n",
      "Validation loss decreased (0.017658 --> 0.016752).  Saving model ...\n",
      "[Epoch 14] val_acc=0.618343 train_acc=0.677546 val_loss=0.017388 train_loss=0.015602\n",
      "EarlyStopping counter: 1 out of 30\n",
      "[Epoch 15] val_acc=0.630178 train_acc=0.682048 val_loss=0.016593 train_loss=0.015273\n",
      "Validation loss decreased (0.016752 --> 0.016593).  Saving model ...\n",
      "[Epoch 16] val_acc=0.644970 train_acc=0.696680 val_loss=0.016102 train_loss=0.015001\n",
      "Validation loss decreased (0.016593 --> 0.016102).  Saving model ...\n",
      "[Epoch 17] val_acc=0.597633 train_acc=0.689927 val_loss=0.016833 train_loss=0.015125\n",
      "EarlyStopping counter: 1 out of 30\n",
      "[Epoch 18] val_acc=0.636095 train_acc=0.695554 val_loss=0.016630 train_loss=0.014875\n",
      "EarlyStopping counter: 2 out of 30\n",
      "[Epoch 19] val_acc=0.627219 train_acc=0.691615 val_loss=0.016447 train_loss=0.014894\n",
      "EarlyStopping counter: 3 out of 30\n",
      "[Epoch 20] val_acc=0.600592 train_acc=0.706246 val_loss=0.015839 train_loss=0.014763\n",
      "Validation loss decreased (0.016102 --> 0.015839).  Saving model ...\n",
      "[Epoch 21] val_acc=0.656805 train_acc=0.720878 val_loss=0.015970 train_loss=0.014604\n",
      "EarlyStopping counter: 1 out of 30\n",
      "[Epoch 22] val_acc=0.671598 train_acc=0.710186 val_loss=0.015833 train_loss=0.014414\n",
      "Validation loss decreased (0.015839 --> 0.015833).  Saving model ...\n",
      "[Epoch 23] val_acc=0.630178 train_acc=0.705121 val_loss=0.015754 train_loss=0.014505\n",
      "Validation loss decreased (0.015833 --> 0.015754).  Saving model ...\n",
      "[Epoch 24] val_acc=0.630178 train_acc=0.733821 val_loss=0.015745 train_loss=0.014240\n",
      "Validation loss decreased (0.015754 --> 0.015745).  Saving model ...\n",
      "[Epoch 25] val_acc=0.633136 train_acc=0.724254 val_loss=0.016230 train_loss=0.014173\n",
      "EarlyStopping counter: 1 out of 30\n",
      "[Epoch 26] val_acc=0.659763 train_acc=0.723129 val_loss=0.016069 train_loss=0.014403\n",
      "EarlyStopping counter: 2 out of 30\n",
      "[Epoch 27] val_acc=0.665680 train_acc=0.732133 val_loss=0.015791 train_loss=0.014209\n",
      "EarlyStopping counter: 3 out of 30\n",
      "[Epoch 28] val_acc=0.621302 train_acc=0.744513 val_loss=0.015897 train_loss=0.013868\n",
      "EarlyStopping counter: 4 out of 30\n",
      "[Epoch 29] val_acc=0.653846 train_acc=0.750141 val_loss=0.015278 train_loss=0.013901\n",
      "Validation loss decreased (0.015745 --> 0.015278).  Saving model ...\n",
      "[Epoch 30] val_acc=0.650888 train_acc=0.739449 val_loss=0.016145 train_loss=0.013982\n",
      "EarlyStopping counter: 1 out of 30\n",
      "[Epoch 31] val_acc=0.653846 train_acc=0.740011 val_loss=0.015421 train_loss=0.013852\n",
      "EarlyStopping counter: 2 out of 30\n",
      "[Epoch 32] val_acc=0.650888 train_acc=0.754080 val_loss=0.015952 train_loss=0.013650\n",
      "EarlyStopping counter: 3 out of 30\n",
      "[Epoch 33] val_acc=0.689349 train_acc=0.747327 val_loss=0.014577 train_loss=0.013686\n",
      "Validation loss decreased (0.015278 --> 0.014577).  Saving model ...\n",
      "[Epoch 34] val_acc=0.642012 train_acc=0.754643 val_loss=0.015155 train_loss=0.013520\n",
      "EarlyStopping counter: 1 out of 30\n",
      "[Epoch 35] val_acc=0.668639 train_acc=0.772088 val_loss=0.015405 train_loss=0.013555\n",
      "EarlyStopping counter: 2 out of 30\n",
      "[Epoch 36] val_acc=0.642012 train_acc=0.755768 val_loss=0.016447 train_loss=0.013749\n",
      "EarlyStopping counter: 3 out of 30\n",
      "[Epoch 37] val_acc=0.674556 train_acc=0.754080 val_loss=0.014928 train_loss=0.013723\n",
      "EarlyStopping counter: 4 out of 30\n",
      "[Epoch 38] val_acc=0.659763 train_acc=0.764772 val_loss=0.015598 train_loss=0.013547\n",
      "EarlyStopping counter: 5 out of 30\n",
      "[Epoch 39] val_acc=0.650888 train_acc=0.763647 val_loss=0.015244 train_loss=0.013451\n",
      "EarlyStopping counter: 6 out of 30\n",
      "[Epoch 40] val_acc=0.659763 train_acc=0.773213 val_loss=0.015366 train_loss=0.013321\n",
      "EarlyStopping counter: 7 out of 30\n",
      "[Epoch 41] val_acc=0.659763 train_acc=0.775464 val_loss=0.015836 train_loss=0.013301\n",
      "EarlyStopping counter: 8 out of 30\n",
      "[Epoch 42] val_acc=0.680473 train_acc=0.782780 val_loss=0.015319 train_loss=0.013271\n",
      "EarlyStopping counter: 9 out of 30\n",
      "[Epoch 43] val_acc=0.656805 train_acc=0.792347 val_loss=0.014702 train_loss=0.013101\n",
      "EarlyStopping counter: 10 out of 30\n",
      "[Epoch 44] val_acc=0.653846 train_acc=0.788407 val_loss=0.015033 train_loss=0.013040\n",
      "EarlyStopping counter: 11 out of 30\n",
      "[Epoch 45] val_acc=0.680473 train_acc=0.787282 val_loss=0.014654 train_loss=0.013037\n",
      "EarlyStopping counter: 12 out of 30\n",
      "[Epoch 46] val_acc=0.689349 train_acc=0.782780 val_loss=0.015142 train_loss=0.013063\n",
      "EarlyStopping counter: 13 out of 30\n",
      "[Epoch 47] val_acc=0.674556 train_acc=0.799100 val_loss=0.014986 train_loss=0.012846\n",
      "EarlyStopping counter: 14 out of 30\n",
      "[Epoch 48] val_acc=0.630178 train_acc=0.794035 val_loss=0.015556 train_loss=0.012835\n",
      "EarlyStopping counter: 15 out of 30\n",
      "[Epoch 49] val_acc=0.659763 train_acc=0.812606 val_loss=0.014999 train_loss=0.012614\n",
      "EarlyStopping counter: 16 out of 30\n",
      "[Epoch 50] val_acc=0.692308 train_acc=0.804727 val_loss=0.014934 train_loss=0.012778\n",
      "EarlyStopping counter: 17 out of 30\n",
      "[Epoch 51] val_acc=0.668639 train_acc=0.811480 val_loss=0.014974 train_loss=0.012516\n",
      "EarlyStopping counter: 18 out of 30\n",
      "[Epoch 52] val_acc=0.665680 train_acc=0.797974 val_loss=0.015167 train_loss=0.012726\n",
      "EarlyStopping counter: 19 out of 30\n",
      "[Epoch 53] val_acc=0.680473 train_acc=0.786719 val_loss=0.015220 train_loss=0.012724\n",
      "EarlyStopping counter: 20 out of 30\n",
      "[Epoch 54] val_acc=0.630178 train_acc=0.800225 val_loss=0.015324 train_loss=0.012586\n",
      "EarlyStopping counter: 21 out of 30\n",
      "[Epoch 55] val_acc=0.656805 train_acc=0.799662 val_loss=0.014994 train_loss=0.012749\n",
      "EarlyStopping counter: 22 out of 30\n",
      "[Epoch 56] val_acc=0.671598 train_acc=0.814856 val_loss=0.015184 train_loss=0.012667\n",
      "EarlyStopping counter: 23 out of 30\n",
      "[Epoch 57] val_acc=0.671598 train_acc=0.810917 val_loss=0.015068 train_loss=0.012470\n",
      "EarlyStopping counter: 24 out of 30\n",
      "[Epoch 58] val_acc=0.689349 train_acc=0.821047 val_loss=0.014961 train_loss=0.012434\n",
      "EarlyStopping counter: 25 out of 30\n",
      "[Epoch 59] val_acc=0.656805 train_acc=0.830051 val_loss=0.014937 train_loss=0.012257\n",
      "EarlyStopping counter: 26 out of 30\n",
      "[Epoch 60] val_acc=0.677515 train_acc=0.810355 val_loss=0.015130 train_loss=0.012511\n",
      "EarlyStopping counter: 27 out of 30\n",
      "[Epoch 61] val_acc=0.656805 train_acc=0.827237 val_loss=0.015747 train_loss=0.012433\n",
      "EarlyStopping counter: 28 out of 30\n",
      "[Epoch 62] val_acc=0.659763 train_acc=0.820484 val_loss=0.015466 train_loss=0.012377\n",
      "EarlyStopping counter: 29 out of 30\n",
      "[Epoch 63] val_acc=0.665680 train_acc=0.827800 val_loss=0.015147 train_loss=0.012158\n",
      "EarlyStopping counter: 30 out of 30\n",
      "Early stopping.\n",
      "Using device: mps\n",
      "[Epoch 0] val_acc=0.399408 train_acc=0.321891 val_loss=0.023768 train_loss=0.021683\n",
      "Validation loss decreased (inf --> 0.023768).  Saving model ...\n",
      "[Epoch 1] val_acc=0.428994 train_acc=0.436128 val_loss=0.022981 train_loss=0.020031\n",
      "Validation loss decreased (0.023768 --> 0.022981).  Saving model ...\n",
      "[Epoch 2] val_acc=0.485207 train_acc=0.501970 val_loss=0.022212 train_loss=0.019081\n",
      "Validation loss decreased (0.022981 --> 0.022212).  Saving model ...\n",
      "[Epoch 3] val_acc=0.523669 train_acc=0.568936 val_loss=0.021428 train_loss=0.018017\n",
      "Validation loss decreased (0.022212 --> 0.021428).  Saving model ...\n",
      "[Epoch 4] val_acc=0.538462 train_acc=0.592572 val_loss=0.020584 train_loss=0.017290\n",
      "Validation loss decreased (0.021428 --> 0.020584).  Saving model ...\n",
      "[Epoch 5] val_acc=0.541420 train_acc=0.609454 val_loss=0.020286 train_loss=0.016930\n",
      "Validation loss decreased (0.020584 --> 0.020286).  Saving model ...\n",
      "[Epoch 6] val_acc=0.538462 train_acc=0.628588 val_loss=0.019730 train_loss=0.016527\n",
      "Validation loss decreased (0.020286 --> 0.019730).  Saving model ...\n",
      "[Epoch 7] val_acc=0.556213 train_acc=0.640405 val_loss=0.019046 train_loss=0.016170\n",
      "Validation loss decreased (0.019730 --> 0.019046).  Saving model ...\n",
      "[Epoch 8] val_acc=0.594675 train_acc=0.653348 val_loss=0.017867 train_loss=0.015884\n",
      "Validation loss decreased (0.019046 --> 0.017867).  Saving model ...\n",
      "[Epoch 9] val_acc=0.594675 train_acc=0.651097 val_loss=0.018037 train_loss=0.015778\n",
      "EarlyStopping counter: 1 out of 30\n",
      "[Epoch 10] val_acc=0.603550 train_acc=0.674170 val_loss=0.017453 train_loss=0.015451\n",
      "Validation loss decreased (0.017867 --> 0.017453).  Saving model ...\n",
      "[Epoch 11] val_acc=0.615385 train_acc=0.680360 val_loss=0.016662 train_loss=0.015174\n",
      "Validation loss decreased (0.017453 --> 0.016662).  Saving model ...\n",
      "[Epoch 12] val_acc=0.624260 train_acc=0.691052 val_loss=0.016146 train_loss=0.014999\n",
      "Validation loss decreased (0.016662 --> 0.016146).  Saving model ...\n",
      "[Epoch 13] val_acc=0.650888 train_acc=0.716939 val_loss=0.015840 train_loss=0.014701\n",
      "Validation loss decreased (0.016146 --> 0.015840).  Saving model ...\n",
      "[Epoch 14] val_acc=0.650888 train_acc=0.709060 val_loss=0.015358 train_loss=0.014752\n",
      "Validation loss decreased (0.015840 --> 0.015358).  Saving model ...\n",
      "[Epoch 15] val_acc=0.653846 train_acc=0.716376 val_loss=0.015129 train_loss=0.014504\n",
      "Validation loss decreased (0.015358 --> 0.015129).  Saving model ...\n",
      "[Epoch 16] val_acc=0.665680 train_acc=0.725380 val_loss=0.015274 train_loss=0.014389\n",
      "EarlyStopping counter: 1 out of 30\n",
      "[Epoch 17] val_acc=0.642012 train_acc=0.712999 val_loss=0.015646 train_loss=0.014441\n",
      "EarlyStopping counter: 2 out of 30\n",
      "[Epoch 18] val_acc=0.650888 train_acc=0.739449 val_loss=0.015215 train_loss=0.014218\n",
      "EarlyStopping counter: 3 out of 30\n",
      "[Epoch 19] val_acc=0.650888 train_acc=0.729882 val_loss=0.014765 train_loss=0.014240\n",
      "Validation loss decreased (0.015129 --> 0.014765).  Saving model ...\n",
      "[Epoch 20] val_acc=0.665680 train_acc=0.743388 val_loss=0.014100 train_loss=0.013933\n",
      "Validation loss decreased (0.014765 --> 0.014100).  Saving model ...\n",
      "[Epoch 21] val_acc=0.668639 train_acc=0.733821 val_loss=0.014629 train_loss=0.014154\n",
      "EarlyStopping counter: 1 out of 30\n",
      "[Epoch 22] val_acc=0.701183 train_acc=0.758019 val_loss=0.013669 train_loss=0.013592\n",
      "Validation loss decreased (0.014100 --> 0.013669).  Saving model ...\n",
      "[Epoch 23] val_acc=0.686391 train_acc=0.761396 val_loss=0.014635 train_loss=0.013639\n",
      "EarlyStopping counter: 1 out of 30\n",
      "[Epoch 24] val_acc=0.686391 train_acc=0.769837 val_loss=0.014305 train_loss=0.013475\n",
      "EarlyStopping counter: 2 out of 30\n",
      "[Epoch 25] val_acc=0.692308 train_acc=0.751266 val_loss=0.014316 train_loss=0.013737\n",
      "EarlyStopping counter: 3 out of 30\n",
      "[Epoch 26] val_acc=0.668639 train_acc=0.755205 val_loss=0.014496 train_loss=0.013472\n",
      "EarlyStopping counter: 4 out of 30\n",
      "[Epoch 27] val_acc=0.668639 train_acc=0.772088 val_loss=0.014603 train_loss=0.013298\n",
      "EarlyStopping counter: 5 out of 30\n",
      "[Epoch 28] val_acc=0.662722 train_acc=0.780529 val_loss=0.014469 train_loss=0.013133\n",
      "EarlyStopping counter: 6 out of 30\n",
      "[Epoch 29] val_acc=0.713018 train_acc=0.779403 val_loss=0.013722 train_loss=0.012971\n",
      "EarlyStopping counter: 7 out of 30\n",
      "[Epoch 30] val_acc=0.707101 train_acc=0.767023 val_loss=0.014071 train_loss=0.013387\n",
      "EarlyStopping counter: 8 out of 30\n",
      "[Epoch 31] val_acc=0.695266 train_acc=0.776590 val_loss=0.014220 train_loss=0.013279\n",
      "EarlyStopping counter: 9 out of 30\n",
      "[Epoch 32] val_acc=0.680473 train_acc=0.763084 val_loss=0.014616 train_loss=0.013278\n",
      "EarlyStopping counter: 10 out of 30\n",
      "[Epoch 33] val_acc=0.689349 train_acc=0.790096 val_loss=0.013611 train_loss=0.012837\n",
      "Validation loss decreased (0.013669 --> 0.013611).  Saving model ...\n",
      "[Epoch 34] val_acc=0.671598 train_acc=0.790096 val_loss=0.014044 train_loss=0.012951\n",
      "EarlyStopping counter: 1 out of 30\n",
      "[Epoch 35] val_acc=0.683432 train_acc=0.799100 val_loss=0.014344 train_loss=0.012801\n",
      "EarlyStopping counter: 2 out of 30\n",
      "[Epoch 36] val_acc=0.671598 train_acc=0.797411 val_loss=0.014388 train_loss=0.012734\n",
      "EarlyStopping counter: 3 out of 30\n",
      "[Epoch 37] val_acc=0.689349 train_acc=0.785594 val_loss=0.013761 train_loss=0.012844\n",
      "EarlyStopping counter: 4 out of 30\n",
      "[Epoch 38] val_acc=0.683432 train_acc=0.808666 val_loss=0.013813 train_loss=0.012584\n",
      "EarlyStopping counter: 5 out of 30\n",
      "[Epoch 39] val_acc=0.724852 train_acc=0.800225 val_loss=0.013806 train_loss=0.012662\n",
      "EarlyStopping counter: 6 out of 30\n",
      "[Epoch 40] val_acc=0.671598 train_acc=0.800225 val_loss=0.013822 train_loss=0.012744\n",
      "EarlyStopping counter: 7 out of 30\n",
      "[Epoch 41] val_acc=0.707101 train_acc=0.796849 val_loss=0.013650 train_loss=0.012631\n",
      "EarlyStopping counter: 8 out of 30\n",
      "[Epoch 42] val_acc=0.680473 train_acc=0.800788 val_loss=0.014445 train_loss=0.012590\n",
      "EarlyStopping counter: 9 out of 30\n",
      "[Epoch 43] val_acc=0.701183 train_acc=0.821609 val_loss=0.013882 train_loss=0.012213\n",
      "EarlyStopping counter: 10 out of 30\n",
      "[Epoch 44] val_acc=0.701183 train_acc=0.809792 val_loss=0.014206 train_loss=0.012556\n",
      "EarlyStopping counter: 11 out of 30\n",
      "[Epoch 45] val_acc=0.701183 train_acc=0.800225 val_loss=0.013907 train_loss=0.012497\n",
      "EarlyStopping counter: 12 out of 30\n",
      "[Epoch 46] val_acc=0.695266 train_acc=0.806415 val_loss=0.013952 train_loss=0.012473\n",
      "EarlyStopping counter: 13 out of 30\n",
      "[Epoch 47] val_acc=0.698225 train_acc=0.808104 val_loss=0.014127 train_loss=0.012560\n",
      "EarlyStopping counter: 14 out of 30\n",
      "[Epoch 48] val_acc=0.668639 train_acc=0.819358 val_loss=0.014222 train_loss=0.012263\n",
      "EarlyStopping counter: 15 out of 30\n",
      "[Epoch 49] val_acc=0.701183 train_acc=0.835678 val_loss=0.013790 train_loss=0.012145\n",
      "EarlyStopping counter: 16 out of 30\n",
      "[Epoch 50] val_acc=0.692308 train_acc=0.829488 val_loss=0.014563 train_loss=0.012201\n",
      "EarlyStopping counter: 17 out of 30\n",
      "[Epoch 51] val_acc=0.704142 train_acc=0.818796 val_loss=0.013646 train_loss=0.012218\n",
      "EarlyStopping counter: 18 out of 30\n",
      "[Epoch 52] val_acc=0.692308 train_acc=0.841306 val_loss=0.013868 train_loss=0.012035\n",
      "EarlyStopping counter: 19 out of 30\n",
      "[Epoch 53] val_acc=0.701183 train_acc=0.846370 val_loss=0.013737 train_loss=0.011902\n",
      "EarlyStopping counter: 20 out of 30\n",
      "[Epoch 54] val_acc=0.704142 train_acc=0.843557 val_loss=0.014195 train_loss=0.011847\n",
      "EarlyStopping counter: 21 out of 30\n",
      "[Epoch 55] val_acc=0.689349 train_acc=0.840180 val_loss=0.013810 train_loss=0.011944\n",
      "EarlyStopping counter: 22 out of 30\n",
      "[Epoch 56] val_acc=0.698225 train_acc=0.840180 val_loss=0.013690 train_loss=0.011805\n",
      "EarlyStopping counter: 23 out of 30\n",
      "[Epoch 57] val_acc=0.686391 train_acc=0.828925 val_loss=0.013862 train_loss=0.012091\n",
      "EarlyStopping counter: 24 out of 30\n",
      "[Epoch 58] val_acc=0.695266 train_acc=0.841306 val_loss=0.013466 train_loss=0.012021\n",
      "Validation loss decreased (0.013611 --> 0.013466).  Saving model ...\n",
      "[Epoch 59] val_acc=0.680473 train_acc=0.845245 val_loss=0.014088 train_loss=0.011936\n",
      "EarlyStopping counter: 1 out of 30\n",
      "[Epoch 60] val_acc=0.745562 train_acc=0.848621 val_loss=0.013721 train_loss=0.011670\n",
      "EarlyStopping counter: 2 out of 30\n",
      "[Epoch 61] val_acc=0.715976 train_acc=0.856500 val_loss=0.013524 train_loss=0.011711\n",
      "EarlyStopping counter: 3 out of 30\n",
      "[Epoch 62] val_acc=0.715976 train_acc=0.855374 val_loss=0.013343 train_loss=0.011698\n",
      "Validation loss decreased (0.013466 --> 0.013343).  Saving model ...\n",
      "[Epoch 63] val_acc=0.680473 train_acc=0.848059 val_loss=0.014846 train_loss=0.011704\n",
      "EarlyStopping counter: 1 out of 30\n",
      "[Epoch 64] val_acc=0.701183 train_acc=0.858188 val_loss=0.013610 train_loss=0.011502\n",
      "EarlyStopping counter: 2 out of 30\n",
      "[Epoch 65] val_acc=0.695266 train_acc=0.855374 val_loss=0.014142 train_loss=0.011555\n",
      "EarlyStopping counter: 3 out of 30\n",
      "[Epoch 66] val_acc=0.677515 train_acc=0.849184 val_loss=0.014236 train_loss=0.011647\n",
      "EarlyStopping counter: 4 out of 30\n",
      "[Epoch 67] val_acc=0.695266 train_acc=0.840743 val_loss=0.013496 train_loss=0.011743\n",
      "EarlyStopping counter: 5 out of 30\n",
      "[Epoch 68] val_acc=0.724852 train_acc=0.858751 val_loss=0.013344 train_loss=0.011437\n",
      "EarlyStopping counter: 6 out of 30\n",
      "[Epoch 69] val_acc=0.713018 train_acc=0.859313 val_loss=0.013914 train_loss=0.011461\n",
      "EarlyStopping counter: 7 out of 30\n",
      "[Epoch 70] val_acc=0.695266 train_acc=0.858188 val_loss=0.013692 train_loss=0.011510\n",
      "EarlyStopping counter: 8 out of 30\n",
      "[Epoch 71] val_acc=0.713018 train_acc=0.865504 val_loss=0.013518 train_loss=0.011387\n",
      "EarlyStopping counter: 9 out of 30\n",
      "[Epoch 72] val_acc=0.721893 train_acc=0.867192 val_loss=0.013739 train_loss=0.011361\n",
      "EarlyStopping counter: 10 out of 30\n",
      "[Epoch 73] val_acc=0.686391 train_acc=0.857625 val_loss=0.014160 train_loss=0.011425\n",
      "EarlyStopping counter: 11 out of 30\n",
      "[Epoch 74] val_acc=0.707101 train_acc=0.868317 val_loss=0.014200 train_loss=0.011365\n",
      "EarlyStopping counter: 12 out of 30\n",
      "[Epoch 75] val_acc=0.707101 train_acc=0.858751 val_loss=0.014017 train_loss=0.011578\n",
      "EarlyStopping counter: 13 out of 30\n",
      "[Epoch 76] val_acc=0.689349 train_acc=0.878447 val_loss=0.013896 train_loss=0.011305\n",
      "EarlyStopping counter: 14 out of 30\n",
      "[Epoch 77] val_acc=0.721893 train_acc=0.882386 val_loss=0.013571 train_loss=0.011206\n",
      "EarlyStopping counter: 15 out of 30\n",
      "[Epoch 78] val_acc=0.718935 train_acc=0.866629 val_loss=0.013761 train_loss=0.011223\n",
      "EarlyStopping counter: 16 out of 30\n",
      "[Epoch 79] val_acc=0.713018 train_acc=0.862690 val_loss=0.013503 train_loss=0.011398\n",
      "EarlyStopping counter: 17 out of 30\n",
      "[Epoch 80] val_acc=0.689349 train_acc=0.863815 val_loss=0.014552 train_loss=0.011340\n",
      "EarlyStopping counter: 18 out of 30\n",
      "[Epoch 81] val_acc=0.695266 train_acc=0.871694 val_loss=0.013594 train_loss=0.011326\n",
      "EarlyStopping counter: 19 out of 30\n",
      "[Epoch 82] val_acc=0.718935 train_acc=0.875633 val_loss=0.013731 train_loss=0.011167\n",
      "EarlyStopping counter: 20 out of 30\n",
      "[Epoch 83] val_acc=0.701183 train_acc=0.871694 val_loss=0.013973 train_loss=0.011365\n",
      "EarlyStopping counter: 21 out of 30\n",
      "[Epoch 84] val_acc=0.721893 train_acc=0.880698 val_loss=0.013886 train_loss=0.011061\n",
      "EarlyStopping counter: 22 out of 30\n",
      "[Epoch 85] val_acc=0.683432 train_acc=0.889702 val_loss=0.013650 train_loss=0.010946\n",
      "EarlyStopping counter: 23 out of 30\n",
      "[Epoch 86] val_acc=0.701183 train_acc=0.887451 val_loss=0.014487 train_loss=0.011005\n",
      "EarlyStopping counter: 24 out of 30\n",
      "[Epoch 87] val_acc=0.701183 train_acc=0.876759 val_loss=0.013961 train_loss=0.011191\n",
      "EarlyStopping counter: 25 out of 30\n",
      "[Epoch 88] val_acc=0.721893 train_acc=0.888576 val_loss=0.013911 train_loss=0.010891\n",
      "EarlyStopping counter: 26 out of 30\n",
      "[Epoch 89] val_acc=0.724852 train_acc=0.885763 val_loss=0.013650 train_loss=0.010916\n",
      "EarlyStopping counter: 27 out of 30\n",
      "[Epoch 90] val_acc=0.689349 train_acc=0.885200 val_loss=0.013723 train_loss=0.010905\n",
      "EarlyStopping counter: 28 out of 30\n",
      "[Epoch 91] val_acc=0.689349 train_acc=0.893641 val_loss=0.013931 train_loss=0.010850\n",
      "EarlyStopping counter: 29 out of 30\n",
      "[Epoch 92] val_acc=0.707101 train_acc=0.892515 val_loss=0.013713 train_loss=0.010926\n",
      "EarlyStopping counter: 30 out of 30\n",
      "Early stopping.\n",
      "Using device: mps\n",
      "[Epoch 0] val_acc=0.381657 train_acc=0.369724 val_loss=0.023511 train_loss=0.020954\n",
      "Validation loss decreased (inf --> 0.023511).  Saving model ...\n",
      "[Epoch 1] val_acc=0.473373 train_acc=0.520540 val_loss=0.021926 train_loss=0.018890\n",
      "Validation loss decreased (0.023511 --> 0.021926).  Saving model ...\n",
      "[Epoch 2] val_acc=0.535503 train_acc=0.602701 val_loss=0.021147 train_loss=0.017389\n",
      "Validation loss decreased (0.021926 --> 0.021147).  Saving model ...\n",
      "[Epoch 3] val_acc=0.532544 train_acc=0.628588 val_loss=0.020482 train_loss=0.016751\n",
      "Validation loss decreased (0.021147 --> 0.020482).  Saving model ...\n",
      "[Epoch 4] val_acc=0.514793 train_acc=0.656725 val_loss=0.019323 train_loss=0.016237\n",
      "Validation loss decreased (0.020482 --> 0.019323).  Saving model ...\n",
      "[Epoch 5] val_acc=0.523669 train_acc=0.666292 val_loss=0.019189 train_loss=0.015793\n",
      "Validation loss decreased (0.019323 --> 0.019189).  Saving model ...\n",
      "[Epoch 6] val_acc=0.585799 train_acc=0.701745 val_loss=0.018387 train_loss=0.015217\n",
      "Validation loss decreased (0.019189 --> 0.018387).  Saving model ...\n",
      "[Epoch 7] val_acc=0.585799 train_acc=0.725380 val_loss=0.017559 train_loss=0.014603\n",
      "Validation loss decreased (0.018387 --> 0.017559).  Saving model ...\n",
      "[Epoch 8] val_acc=0.585799 train_acc=0.726505 val_loss=0.017635 train_loss=0.014299\n",
      "EarlyStopping counter: 1 out of 30\n",
      "[Epoch 9] val_acc=0.618343 train_acc=0.756331 val_loss=0.016439 train_loss=0.013936\n",
      "Validation loss decreased (0.017559 --> 0.016439).  Saving model ...\n",
      "[Epoch 10] val_acc=0.636095 train_acc=0.759145 val_loss=0.016006 train_loss=0.013545\n",
      "Validation loss decreased (0.016439 --> 0.016006).  Saving model ...\n",
      "[Epoch 11] val_acc=0.650888 train_acc=0.772651 val_loss=0.015138 train_loss=0.013480\n",
      "Validation loss decreased (0.016006 --> 0.015138).  Saving model ...\n",
      "[Epoch 12] val_acc=0.659763 train_acc=0.791784 val_loss=0.015302 train_loss=0.013209\n",
      "EarlyStopping counter: 1 out of 30\n",
      "[Epoch 13] val_acc=0.665680 train_acc=0.771525 val_loss=0.015121 train_loss=0.013215\n",
      "Validation loss decreased (0.015138 --> 0.015121).  Saving model ...\n",
      "[Epoch 14] val_acc=0.674556 train_acc=0.803039 val_loss=0.015080 train_loss=0.012917\n",
      "Validation loss decreased (0.015121 --> 0.015080).  Saving model ...\n",
      "[Epoch 15] val_acc=0.704142 train_acc=0.800225 val_loss=0.014146 train_loss=0.012717\n",
      "Validation loss decreased (0.015080 --> 0.014146).  Saving model ...\n",
      "[Epoch 16] val_acc=0.677515 train_acc=0.810355 val_loss=0.014088 train_loss=0.012541\n",
      "Validation loss decreased (0.014146 --> 0.014088).  Saving model ...\n",
      "[Epoch 17] val_acc=0.680473 train_acc=0.809229 val_loss=0.014100 train_loss=0.012564\n",
      "EarlyStopping counter: 1 out of 30\n",
      "[Epoch 18] val_acc=0.644970 train_acc=0.810355 val_loss=0.015000 train_loss=0.012385\n",
      "EarlyStopping counter: 2 out of 30\n",
      "[Epoch 19] val_acc=0.715976 train_acc=0.809792 val_loss=0.013502 train_loss=0.012421\n",
      "Validation loss decreased (0.014088 --> 0.013502).  Saving model ...\n",
      "[Epoch 20] val_acc=0.689349 train_acc=0.819921 val_loss=0.014035 train_loss=0.012291\n",
      "EarlyStopping counter: 1 out of 30\n",
      "[Epoch 21] val_acc=0.692308 train_acc=0.827237 val_loss=0.013952 train_loss=0.012148\n",
      "EarlyStopping counter: 2 out of 30\n",
      "[Epoch 22] val_acc=0.704142 train_acc=0.839055 val_loss=0.013415 train_loss=0.011894\n",
      "Validation loss decreased (0.013502 --> 0.013415).  Saving model ...\n",
      "[Epoch 23] val_acc=0.683432 train_acc=0.832302 val_loss=0.013757 train_loss=0.011965\n",
      "EarlyStopping counter: 1 out of 30\n",
      "[Epoch 24] val_acc=0.677515 train_acc=0.829488 val_loss=0.013898 train_loss=0.012153\n",
      "EarlyStopping counter: 2 out of 30\n",
      "[Epoch 25] val_acc=0.715976 train_acc=0.840743 val_loss=0.013214 train_loss=0.011916\n",
      "Validation loss decreased (0.013415 --> 0.013214).  Saving model ...\n",
      "[Epoch 26] val_acc=0.680473 train_acc=0.839055 val_loss=0.013334 train_loss=0.011877\n",
      "EarlyStopping counter: 1 out of 30\n",
      "[Epoch 27] val_acc=0.713018 train_acc=0.830613 val_loss=0.013200 train_loss=0.011913\n",
      "Validation loss decreased (0.013214 --> 0.013200).  Saving model ...\n",
      "[Epoch 28] val_acc=0.686391 train_acc=0.856500 val_loss=0.013607 train_loss=0.011626\n",
      "EarlyStopping counter: 1 out of 30\n",
      "[Epoch 29] val_acc=0.695266 train_acc=0.846933 val_loss=0.013669 train_loss=0.011724\n",
      "EarlyStopping counter: 2 out of 30\n",
      "[Epoch 30] val_acc=0.689349 train_acc=0.853686 val_loss=0.013357 train_loss=0.011570\n",
      "EarlyStopping counter: 3 out of 30\n",
      "[Epoch 31] val_acc=0.710059 train_acc=0.852560 val_loss=0.012605 train_loss=0.011572\n",
      "Validation loss decreased (0.013200 --> 0.012605).  Saving model ...\n",
      "[Epoch 32] val_acc=0.721893 train_acc=0.862127 val_loss=0.013392 train_loss=0.011491\n",
      "EarlyStopping counter: 1 out of 30\n",
      "[Epoch 33] val_acc=0.695266 train_acc=0.848059 val_loss=0.013512 train_loss=0.011488\n",
      "EarlyStopping counter: 2 out of 30\n",
      "[Epoch 34] val_acc=0.710059 train_acc=0.870568 val_loss=0.013133 train_loss=0.011273\n",
      "EarlyStopping counter: 3 out of 30\n",
      "[Epoch 35] val_acc=0.715976 train_acc=0.879572 val_loss=0.013054 train_loss=0.011252\n",
      "EarlyStopping counter: 4 out of 30\n",
      "[Epoch 36] val_acc=0.718935 train_acc=0.877884 val_loss=0.012911 train_loss=0.011194\n",
      "EarlyStopping counter: 5 out of 30\n",
      "[Epoch 37] val_acc=0.721893 train_acc=0.870006 val_loss=0.013192 train_loss=0.011242\n",
      "EarlyStopping counter: 6 out of 30\n",
      "[Epoch 38] val_acc=0.730769 train_acc=0.871131 val_loss=0.012799 train_loss=0.011287\n",
      "EarlyStopping counter: 7 out of 30\n",
      "[Epoch 39] val_acc=0.757396 train_acc=0.874508 val_loss=0.012766 train_loss=0.011121\n",
      "EarlyStopping counter: 8 out of 30\n",
      "[Epoch 40] val_acc=0.721893 train_acc=0.885200 val_loss=0.013386 train_loss=0.011002\n",
      "EarlyStopping counter: 9 out of 30\n",
      "[Epoch 41] val_acc=0.698225 train_acc=0.882949 val_loss=0.013308 train_loss=0.010991\n",
      "EarlyStopping counter: 10 out of 30\n",
      "[Epoch 42] val_acc=0.713018 train_acc=0.886325 val_loss=0.013198 train_loss=0.010787\n",
      "EarlyStopping counter: 11 out of 30\n",
      "[Epoch 43] val_acc=0.713018 train_acc=0.873945 val_loss=0.012787 train_loss=0.011147\n",
      "EarlyStopping counter: 12 out of 30\n",
      "[Epoch 44] val_acc=0.727811 train_acc=0.878447 val_loss=0.013126 train_loss=0.010995\n",
      "EarlyStopping counter: 13 out of 30\n",
      "[Epoch 45] val_acc=0.701183 train_acc=0.889702 val_loss=0.013541 train_loss=0.010954\n",
      "EarlyStopping counter: 14 out of 30\n",
      "[Epoch 46] val_acc=0.742604 train_acc=0.884637 val_loss=0.012693 train_loss=0.010774\n",
      "EarlyStopping counter: 15 out of 30\n",
      "[Epoch 47] val_acc=0.715976 train_acc=0.893641 val_loss=0.012744 train_loss=0.010735\n",
      "EarlyStopping counter: 16 out of 30\n",
      "[Epoch 48] val_acc=0.718935 train_acc=0.894766 val_loss=0.012855 train_loss=0.010827\n",
      "EarlyStopping counter: 17 out of 30\n",
      "[Epoch 49] val_acc=0.707101 train_acc=0.891953 val_loss=0.012767 train_loss=0.010672\n",
      "EarlyStopping counter: 18 out of 30\n",
      "[Epoch 50] val_acc=0.727811 train_acc=0.889139 val_loss=0.012906 train_loss=0.010755\n",
      "EarlyStopping counter: 19 out of 30\n",
      "[Epoch 51] val_acc=0.724852 train_acc=0.900394 val_loss=0.013129 train_loss=0.010682\n",
      "EarlyStopping counter: 20 out of 30\n",
      "[Epoch 52] val_acc=0.704142 train_acc=0.898706 val_loss=0.013731 train_loss=0.010765\n",
      "EarlyStopping counter: 21 out of 30\n",
      "[Epoch 53] val_acc=0.742604 train_acc=0.903208 val_loss=0.012698 train_loss=0.010677\n",
      "EarlyStopping counter: 22 out of 30\n",
      "[Epoch 54] val_acc=0.704142 train_acc=0.885200 val_loss=0.013356 train_loss=0.010856\n",
      "EarlyStopping counter: 23 out of 30\n",
      "[Epoch 55] val_acc=0.733728 train_acc=0.904333 val_loss=0.012429 train_loss=0.010634\n",
      "Validation loss decreased (0.012605 --> 0.012429).  Saving model ...\n",
      "[Epoch 56] val_acc=0.721893 train_acc=0.906021 val_loss=0.012656 train_loss=0.010596\n",
      "EarlyStopping counter: 1 out of 30\n",
      "[Epoch 57] val_acc=0.713018 train_acc=0.898143 val_loss=0.012959 train_loss=0.010606\n",
      "EarlyStopping counter: 2 out of 30\n",
      "[Epoch 58] val_acc=0.718935 train_acc=0.909961 val_loss=0.013033 train_loss=0.010533\n",
      "EarlyStopping counter: 3 out of 30\n",
      "[Epoch 59] val_acc=0.733728 train_acc=0.912774 val_loss=0.012761 train_loss=0.010424\n",
      "EarlyStopping counter: 4 out of 30\n",
      "[Epoch 60] val_acc=0.733728 train_acc=0.915025 val_loss=0.012312 train_loss=0.010371\n",
      "Validation loss decreased (0.012429 --> 0.012312).  Saving model ...\n",
      "[Epoch 61] val_acc=0.718935 train_acc=0.922341 val_loss=0.012442 train_loss=0.010255\n",
      "EarlyStopping counter: 1 out of 30\n",
      "[Epoch 62] val_acc=0.727811 train_acc=0.912774 val_loss=0.012872 train_loss=0.010405\n",
      "EarlyStopping counter: 2 out of 30\n",
      "[Epoch 63] val_acc=0.727811 train_acc=0.918965 val_loss=0.012455 train_loss=0.010270\n",
      "EarlyStopping counter: 3 out of 30\n",
      "[Epoch 64] val_acc=0.748521 train_acc=0.909961 val_loss=0.012525 train_loss=0.010318\n",
      "EarlyStopping counter: 4 out of 30\n",
      "[Epoch 65] val_acc=0.736686 train_acc=0.915588 val_loss=0.012664 train_loss=0.010328\n",
      "EarlyStopping counter: 5 out of 30\n",
      "[Epoch 66] val_acc=0.751479 train_acc=0.913337 val_loss=0.012470 train_loss=0.010264\n",
      "EarlyStopping counter: 6 out of 30\n",
      "[Epoch 67] val_acc=0.757396 train_acc=0.926843 val_loss=0.012096 train_loss=0.010174\n",
      "Validation loss decreased (0.012312 --> 0.012096).  Saving model ...\n",
      "[Epoch 68] val_acc=0.730769 train_acc=0.922904 val_loss=0.012620 train_loss=0.010146\n",
      "EarlyStopping counter: 1 out of 30\n",
      "[Epoch 69] val_acc=0.733728 train_acc=0.922904 val_loss=0.012340 train_loss=0.010224\n",
      "EarlyStopping counter: 2 out of 30\n",
      "[Epoch 70] val_acc=0.715976 train_acc=0.923467 val_loss=0.012297 train_loss=0.010246\n",
      "EarlyStopping counter: 3 out of 30\n",
      "[Epoch 71] val_acc=0.724852 train_acc=0.915588 val_loss=0.012967 train_loss=0.010277\n",
      "EarlyStopping counter: 4 out of 30\n",
      "[Epoch 72] val_acc=0.730769 train_acc=0.912774 val_loss=0.012908 train_loss=0.010233\n",
      "EarlyStopping counter: 5 out of 30\n",
      "[Epoch 73] val_acc=0.710059 train_acc=0.927968 val_loss=0.012733 train_loss=0.010107\n",
      "EarlyStopping counter: 6 out of 30\n",
      "[Epoch 74] val_acc=0.733728 train_acc=0.922904 val_loss=0.012720 train_loss=0.010233\n",
      "EarlyStopping counter: 7 out of 30\n",
      "[Epoch 75] val_acc=0.707101 train_acc=0.918965 val_loss=0.012890 train_loss=0.010159\n",
      "EarlyStopping counter: 8 out of 30\n",
      "[Epoch 76] val_acc=0.733728 train_acc=0.929094 val_loss=0.012573 train_loss=0.010024\n",
      "EarlyStopping counter: 9 out of 30\n",
      "[Epoch 77] val_acc=0.718935 train_acc=0.916714 val_loss=0.012732 train_loss=0.010146\n",
      "EarlyStopping counter: 10 out of 30\n",
      "[Epoch 78] val_acc=0.730769 train_acc=0.929657 val_loss=0.012558 train_loss=0.009937\n",
      "EarlyStopping counter: 11 out of 30\n",
      "[Epoch 79] val_acc=0.715976 train_acc=0.926843 val_loss=0.012862 train_loss=0.010151\n",
      "EarlyStopping counter: 12 out of 30\n",
      "[Epoch 80] val_acc=0.721893 train_acc=0.927406 val_loss=0.013105 train_loss=0.010159\n",
      "EarlyStopping counter: 13 out of 30\n",
      "[Epoch 81] val_acc=0.701183 train_acc=0.919527 val_loss=0.012886 train_loss=0.010118\n",
      "EarlyStopping counter: 14 out of 30\n",
      "[Epoch 82] val_acc=0.727811 train_acc=0.939223 val_loss=0.012436 train_loss=0.009954\n",
      "EarlyStopping counter: 15 out of 30\n",
      "[Epoch 83] val_acc=0.715976 train_acc=0.929657 val_loss=0.012712 train_loss=0.009941\n",
      "EarlyStopping counter: 16 out of 30\n",
      "[Epoch 84] val_acc=0.724852 train_acc=0.936410 val_loss=0.012479 train_loss=0.009859\n",
      "EarlyStopping counter: 17 out of 30\n",
      "[Epoch 85] val_acc=0.718935 train_acc=0.930219 val_loss=0.012548 train_loss=0.009928\n",
      "EarlyStopping counter: 18 out of 30\n",
      "[Epoch 86] val_acc=0.727811 train_acc=0.931908 val_loss=0.012703 train_loss=0.009927\n",
      "EarlyStopping counter: 19 out of 30\n",
      "[Epoch 87] val_acc=0.742604 train_acc=0.929094 val_loss=0.012185 train_loss=0.010049\n",
      "EarlyStopping counter: 20 out of 30\n",
      "[Epoch 88] val_acc=0.727811 train_acc=0.943163 val_loss=0.012849 train_loss=0.009835\n",
      "EarlyStopping counter: 21 out of 30\n",
      "[Epoch 89] val_acc=0.724852 train_acc=0.933033 val_loss=0.012750 train_loss=0.009857\n",
      "EarlyStopping counter: 22 out of 30\n",
      "[Epoch 90] val_acc=0.707101 train_acc=0.952167 val_loss=0.012582 train_loss=0.009686\n",
      "EarlyStopping counter: 23 out of 30\n",
      "[Epoch 91] val_acc=0.721893 train_acc=0.930219 val_loss=0.012524 train_loss=0.009925\n",
      "EarlyStopping counter: 24 out of 30\n",
      "[Epoch 92] val_acc=0.718935 train_acc=0.935847 val_loss=0.012689 train_loss=0.009879\n",
      "EarlyStopping counter: 25 out of 30\n",
      "[Epoch 93] val_acc=0.727811 train_acc=0.938098 val_loss=0.012614 train_loss=0.009837\n",
      "EarlyStopping counter: 26 out of 30\n",
      "[Epoch 94] val_acc=0.754438 train_acc=0.936410 val_loss=0.012369 train_loss=0.009703\n",
      "EarlyStopping counter: 27 out of 30\n",
      "[Epoch 95] val_acc=0.760355 train_acc=0.948227 val_loss=0.012172 train_loss=0.009771\n",
      "EarlyStopping counter: 28 out of 30\n",
      "[Epoch 96] val_acc=0.733728 train_acc=0.947102 val_loss=0.012605 train_loss=0.009698\n",
      "EarlyStopping counter: 29 out of 30\n",
      "[Epoch 97] val_acc=0.718935 train_acc=0.948227 val_loss=0.012455 train_loss=0.009474\n",
      "EarlyStopping counter: 30 out of 30\n",
      "Early stopping.\n",
      "Using device: mps\n",
      "[Epoch 0] val_acc=0.428994 train_acc=0.373663 val_loss=0.023132 train_loss=0.021025\n",
      "Validation loss decreased (inf --> 0.023132).  Saving model ...\n",
      "[Epoch 1] val_acc=0.467456 train_acc=0.520540 val_loss=0.021724 train_loss=0.018717\n",
      "Validation loss decreased (0.023132 --> 0.021724).  Saving model ...\n",
      "[Epoch 2] val_acc=0.511834 train_acc=0.610580 val_loss=0.020923 train_loss=0.017267\n",
      "Validation loss decreased (0.021724 --> 0.020923).  Saving model ...\n",
      "[Epoch 3] val_acc=0.541420 train_acc=0.619584 val_loss=0.020368 train_loss=0.016828\n",
      "Validation loss decreased (0.020923 --> 0.020368).  Saving model ...\n",
      "[Epoch 4] val_acc=0.511834 train_acc=0.668542 val_loss=0.019712 train_loss=0.015997\n",
      "Validation loss decreased (0.020368 --> 0.019712).  Saving model ...\n",
      "[Epoch 5] val_acc=0.547337 train_acc=0.691615 val_loss=0.019067 train_loss=0.015467\n",
      "Validation loss decreased (0.019712 --> 0.019067).  Saving model ...\n",
      "[Epoch 6] val_acc=0.562130 train_acc=0.713562 val_loss=0.018244 train_loss=0.014906\n",
      "Validation loss decreased (0.019067 --> 0.018244).  Saving model ...\n",
      "[Epoch 7] val_acc=0.576923 train_acc=0.719752 val_loss=0.017558 train_loss=0.014547\n",
      "Validation loss decreased (0.018244 --> 0.017558).  Saving model ...\n",
      "[Epoch 8] val_acc=0.642012 train_acc=0.761958 val_loss=0.016210 train_loss=0.013985\n",
      "Validation loss decreased (0.017558 --> 0.016210).  Saving model ...\n",
      "[Epoch 9] val_acc=0.633136 train_acc=0.751266 val_loss=0.016086 train_loss=0.013980\n",
      "Validation loss decreased (0.016210 --> 0.016086).  Saving model ...\n",
      "[Epoch 10] val_acc=0.683432 train_acc=0.761396 val_loss=0.014963 train_loss=0.013617\n",
      "Validation loss decreased (0.016086 --> 0.014963).  Saving model ...\n",
      "[Epoch 11] val_acc=0.698225 train_acc=0.796849 val_loss=0.014246 train_loss=0.013109\n",
      "Validation loss decreased (0.014963 --> 0.014246).  Saving model ...\n",
      "[Epoch 12] val_acc=0.695266 train_acc=0.785594 val_loss=0.014417 train_loss=0.012989\n",
      "EarlyStopping counter: 1 out of 30\n",
      "[Epoch 13] val_acc=0.668639 train_acc=0.787845 val_loss=0.014250 train_loss=0.013034\n",
      "EarlyStopping counter: 2 out of 30\n",
      "[Epoch 14] val_acc=0.689349 train_acc=0.794598 val_loss=0.013720 train_loss=0.012874\n",
      "Validation loss decreased (0.014246 --> 0.013720).  Saving model ...\n",
      "[Epoch 15] val_acc=0.683432 train_acc=0.814294 val_loss=0.014298 train_loss=0.012543\n",
      "EarlyStopping counter: 1 out of 30\n",
      "[Epoch 16] val_acc=0.680473 train_acc=0.809229 val_loss=0.013485 train_loss=0.012565\n",
      "Validation loss decreased (0.013720 --> 0.013485).  Saving model ...\n",
      "[Epoch 17] val_acc=0.686391 train_acc=0.821047 val_loss=0.013330 train_loss=0.012152\n",
      "Validation loss decreased (0.013485 --> 0.013330).  Saving model ...\n",
      "[Epoch 18] val_acc=0.724852 train_acc=0.835678 val_loss=0.012942 train_loss=0.012105\n",
      "Validation loss decreased (0.013330 --> 0.012942).  Saving model ...\n",
      "[Epoch 19] val_acc=0.686391 train_acc=0.828362 val_loss=0.013110 train_loss=0.012129\n",
      "EarlyStopping counter: 1 out of 30\n",
      "[Epoch 20] val_acc=0.710059 train_acc=0.850310 val_loss=0.012527 train_loss=0.011840\n",
      "Validation loss decreased (0.012942 --> 0.012527).  Saving model ...\n",
      "[Epoch 21] val_acc=0.727811 train_acc=0.847496 val_loss=0.012956 train_loss=0.011796\n",
      "EarlyStopping counter: 1 out of 30\n",
      "[Epoch 22] val_acc=0.715976 train_acc=0.861564 val_loss=0.012606 train_loss=0.011550\n",
      "EarlyStopping counter: 2 out of 30\n",
      "[Epoch 23] val_acc=0.695266 train_acc=0.856500 val_loss=0.012726 train_loss=0.011566\n",
      "EarlyStopping counter: 3 out of 30\n",
      "[Epoch 24] val_acc=0.724852 train_acc=0.866629 val_loss=0.012603 train_loss=0.011450\n",
      "EarlyStopping counter: 4 out of 30\n",
      "[Epoch 25] val_acc=0.715976 train_acc=0.842431 val_loss=0.012869 train_loss=0.011669\n",
      "EarlyStopping counter: 5 out of 30\n",
      "[Epoch 26] val_acc=0.710059 train_acc=0.865504 val_loss=0.012932 train_loss=0.011358\n",
      "EarlyStopping counter: 6 out of 30\n",
      "[Epoch 27] val_acc=0.677515 train_acc=0.863253 val_loss=0.012877 train_loss=0.011452\n",
      "EarlyStopping counter: 7 out of 30\n",
      "[Epoch 28] val_acc=0.721893 train_acc=0.872819 val_loss=0.011878 train_loss=0.011208\n",
      "Validation loss decreased (0.012527 --> 0.011878).  Saving model ...\n",
      "[Epoch 29] val_acc=0.704142 train_acc=0.874508 val_loss=0.012681 train_loss=0.011213\n",
      "EarlyStopping counter: 1 out of 30\n",
      "[Epoch 30] val_acc=0.704142 train_acc=0.875633 val_loss=0.012527 train_loss=0.011060\n",
      "EarlyStopping counter: 2 out of 30\n",
      "[Epoch 31] val_acc=0.689349 train_acc=0.882386 val_loss=0.012904 train_loss=0.011048\n",
      "EarlyStopping counter: 3 out of 30\n",
      "[Epoch 32] val_acc=0.718935 train_acc=0.887451 val_loss=0.012296 train_loss=0.011016\n",
      "EarlyStopping counter: 4 out of 30\n",
      "[Epoch 33] val_acc=0.680473 train_acc=0.886888 val_loss=0.013171 train_loss=0.011007\n",
      "EarlyStopping counter: 5 out of 30\n",
      "[Epoch 34] val_acc=0.704142 train_acc=0.874508 val_loss=0.013163 train_loss=0.010983\n",
      "EarlyStopping counter: 6 out of 30\n",
      "[Epoch 35] val_acc=0.713018 train_acc=0.896455 val_loss=0.012511 train_loss=0.010800\n",
      "EarlyStopping counter: 7 out of 30\n",
      "[Epoch 36] val_acc=0.713018 train_acc=0.887451 val_loss=0.012383 train_loss=0.010848\n",
      "EarlyStopping counter: 8 out of 30\n",
      "[Epoch 37] val_acc=0.730769 train_acc=0.893078 val_loss=0.012363 train_loss=0.010793\n",
      "EarlyStopping counter: 9 out of 30\n",
      "[Epoch 38] val_acc=0.698225 train_acc=0.906584 val_loss=0.012127 train_loss=0.010556\n",
      "EarlyStopping counter: 10 out of 30\n",
      "[Epoch 39] val_acc=0.707101 train_acc=0.892515 val_loss=0.012397 train_loss=0.010701\n",
      "EarlyStopping counter: 11 out of 30\n",
      "[Epoch 40] val_acc=0.698225 train_acc=0.893078 val_loss=0.012581 train_loss=0.010740\n",
      "EarlyStopping counter: 12 out of 30\n",
      "[Epoch 41] val_acc=0.710059 train_acc=0.919527 val_loss=0.012494 train_loss=0.010445\n",
      "EarlyStopping counter: 13 out of 30\n",
      "[Epoch 42] val_acc=0.730769 train_acc=0.907147 val_loss=0.012018 train_loss=0.010524\n",
      "EarlyStopping counter: 14 out of 30\n",
      "[Epoch 43] val_acc=0.715976 train_acc=0.903208 val_loss=0.012249 train_loss=0.010477\n",
      "EarlyStopping counter: 15 out of 30\n",
      "[Epoch 44] val_acc=0.715976 train_acc=0.899268 val_loss=0.012019 train_loss=0.010599\n",
      "EarlyStopping counter: 16 out of 30\n",
      "[Epoch 45] val_acc=0.710059 train_acc=0.920090 val_loss=0.012109 train_loss=0.010317\n",
      "EarlyStopping counter: 17 out of 30\n",
      "[Epoch 46] val_acc=0.710059 train_acc=0.909398 val_loss=0.012234 train_loss=0.010388\n",
      "EarlyStopping counter: 18 out of 30\n",
      "[Epoch 47] val_acc=0.718935 train_acc=0.923467 val_loss=0.012177 train_loss=0.010208\n",
      "EarlyStopping counter: 19 out of 30\n",
      "[Epoch 48] val_acc=0.739645 train_acc=0.916714 val_loss=0.011806 train_loss=0.010205\n",
      "Validation loss decreased (0.011878 --> 0.011806).  Saving model ...\n",
      "[Epoch 49] val_acc=0.683432 train_acc=0.921216 val_loss=0.012173 train_loss=0.010239\n",
      "EarlyStopping counter: 1 out of 30\n",
      "[Epoch 50] val_acc=0.704142 train_acc=0.918965 val_loss=0.012531 train_loss=0.010322\n",
      "EarlyStopping counter: 2 out of 30\n",
      "[Epoch 51] val_acc=0.724852 train_acc=0.917839 val_loss=0.011714 train_loss=0.010218\n",
      "Validation loss decreased (0.011806 --> 0.011714).  Saving model ...\n",
      "[Epoch 52] val_acc=0.701183 train_acc=0.914463 val_loss=0.012148 train_loss=0.010330\n",
      "EarlyStopping counter: 1 out of 30\n",
      "[Epoch 53] val_acc=0.707101 train_acc=0.929094 val_loss=0.011909 train_loss=0.010102\n",
      "EarlyStopping counter: 2 out of 30\n",
      "[Epoch 54] val_acc=0.692308 train_acc=0.926843 val_loss=0.012102 train_loss=0.010136\n",
      "EarlyStopping counter: 3 out of 30\n",
      "[Epoch 55] val_acc=0.718935 train_acc=0.928531 val_loss=0.011875 train_loss=0.010046\n",
      "EarlyStopping counter: 4 out of 30\n",
      "[Epoch 56] val_acc=0.707101 train_acc=0.918965 val_loss=0.012515 train_loss=0.010193\n",
      "EarlyStopping counter: 5 out of 30\n",
      "[Epoch 57] val_acc=0.689349 train_acc=0.917839 val_loss=0.012785 train_loss=0.010256\n",
      "EarlyStopping counter: 6 out of 30\n",
      "[Epoch 58] val_acc=0.704142 train_acc=0.930219 val_loss=0.012168 train_loss=0.009967\n",
      "EarlyStopping counter: 7 out of 30\n",
      "[Epoch 59] val_acc=0.680473 train_acc=0.925718 val_loss=0.012608 train_loss=0.010074\n",
      "EarlyStopping counter: 8 out of 30\n",
      "[Epoch 60] val_acc=0.704142 train_acc=0.922904 val_loss=0.012468 train_loss=0.010025\n",
      "EarlyStopping counter: 9 out of 30\n",
      "[Epoch 61] val_acc=0.701183 train_acc=0.928531 val_loss=0.012318 train_loss=0.010001\n",
      "EarlyStopping counter: 10 out of 30\n",
      "[Epoch 62] val_acc=0.707101 train_acc=0.934721 val_loss=0.012453 train_loss=0.009847\n",
      "EarlyStopping counter: 11 out of 30\n",
      "[Epoch 63] val_acc=0.704142 train_acc=0.929094 val_loss=0.012389 train_loss=0.010007\n",
      "EarlyStopping counter: 12 out of 30\n",
      "[Epoch 64] val_acc=0.715976 train_acc=0.942600 val_loss=0.011871 train_loss=0.009820\n",
      "EarlyStopping counter: 13 out of 30\n",
      "[Epoch 65] val_acc=0.715976 train_acc=0.925718 val_loss=0.012254 train_loss=0.010060\n",
      "EarlyStopping counter: 14 out of 30\n",
      "[Epoch 66] val_acc=0.704142 train_acc=0.941474 val_loss=0.012451 train_loss=0.009851\n",
      "EarlyStopping counter: 15 out of 30\n",
      "[Epoch 67] val_acc=0.730769 train_acc=0.950478 val_loss=0.012433 train_loss=0.009724\n",
      "EarlyStopping counter: 16 out of 30\n",
      "[Epoch 68] val_acc=0.715976 train_acc=0.930219 val_loss=0.012243 train_loss=0.009878\n",
      "EarlyStopping counter: 17 out of 30\n",
      "[Epoch 69] val_acc=0.721893 train_acc=0.941474 val_loss=0.011612 train_loss=0.009742\n",
      "Validation loss decreased (0.011714 --> 0.011612).  Saving model ...\n",
      "[Epoch 70] val_acc=0.754438 train_acc=0.947665 val_loss=0.011781 train_loss=0.009656\n",
      "EarlyStopping counter: 1 out of 30\n",
      "[Epoch 71] val_acc=0.727811 train_acc=0.939223 val_loss=0.011564 train_loss=0.009794\n",
      "Validation loss decreased (0.011612 --> 0.011564).  Saving model ...\n",
      "[Epoch 72] val_acc=0.727811 train_acc=0.940912 val_loss=0.012438 train_loss=0.009832\n",
      "EarlyStopping counter: 1 out of 30\n",
      "[Epoch 73] val_acc=0.668639 train_acc=0.934721 val_loss=0.012917 train_loss=0.009785\n",
      "EarlyStopping counter: 2 out of 30\n",
      "[Epoch 74] val_acc=0.727811 train_acc=0.939223 val_loss=0.011481 train_loss=0.009781\n",
      "Validation loss decreased (0.011564 --> 0.011481).  Saving model ...\n",
      "[Epoch 75] val_acc=0.715976 train_acc=0.938661 val_loss=0.011973 train_loss=0.009806\n",
      "EarlyStopping counter: 1 out of 30\n",
      "[Epoch 76] val_acc=0.698225 train_acc=0.948790 val_loss=0.012235 train_loss=0.009724\n",
      "EarlyStopping counter: 2 out of 30\n",
      "[Epoch 77] val_acc=0.742604 train_acc=0.949353 val_loss=0.011837 train_loss=0.009431\n",
      "EarlyStopping counter: 3 out of 30\n",
      "[Epoch 78] val_acc=0.721893 train_acc=0.960045 val_loss=0.011862 train_loss=0.009358\n",
      "EarlyStopping counter: 4 out of 30\n",
      "[Epoch 79] val_acc=0.707101 train_acc=0.966235 val_loss=0.011905 train_loss=0.009202\n",
      "EarlyStopping counter: 5 out of 30\n",
      "[Epoch 80] val_acc=0.721893 train_acc=0.960608 val_loss=0.011976 train_loss=0.009311\n",
      "EarlyStopping counter: 6 out of 30\n",
      "[Epoch 81] val_acc=0.713018 train_acc=0.962296 val_loss=0.011937 train_loss=0.009250\n",
      "EarlyStopping counter: 7 out of 30\n",
      "[Epoch 82] val_acc=0.736686 train_acc=0.965672 val_loss=0.011782 train_loss=0.009207\n",
      "EarlyStopping counter: 8 out of 30\n",
      "[Epoch 83] val_acc=0.707101 train_acc=0.962859 val_loss=0.011900 train_loss=0.009206\n",
      "EarlyStopping counter: 9 out of 30\n",
      "[Epoch 84] val_acc=0.715976 train_acc=0.968486 val_loss=0.011942 train_loss=0.009180\n",
      "EarlyStopping counter: 10 out of 30\n",
      "[Epoch 85] val_acc=0.715976 train_acc=0.966798 val_loss=0.012079 train_loss=0.009180\n",
      "EarlyStopping counter: 11 out of 30\n",
      "[Epoch 86] val_acc=0.713018 train_acc=0.968486 val_loss=0.012034 train_loss=0.009119\n",
      "EarlyStopping counter: 12 out of 30\n",
      "[Epoch 87] val_acc=0.727811 train_acc=0.969049 val_loss=0.011841 train_loss=0.009056\n",
      "EarlyStopping counter: 13 out of 30\n",
      "[Epoch 88] val_acc=0.739645 train_acc=0.967923 val_loss=0.011752 train_loss=0.009129\n",
      "EarlyStopping counter: 14 out of 30\n",
      "[Epoch 89] val_acc=0.707101 train_acc=0.972425 val_loss=0.011976 train_loss=0.009185\n",
      "EarlyStopping counter: 15 out of 30\n",
      "[Epoch 90] val_acc=0.721893 train_acc=0.972988 val_loss=0.011749 train_loss=0.009113\n",
      "EarlyStopping counter: 16 out of 30\n",
      "[Epoch 91] val_acc=0.713018 train_acc=0.974676 val_loss=0.012105 train_loss=0.009075\n",
      "EarlyStopping counter: 17 out of 30\n",
      "[Epoch 92] val_acc=0.724852 train_acc=0.964547 val_loss=0.011911 train_loss=0.009179\n",
      "EarlyStopping counter: 18 out of 30\n",
      "[Epoch 93] val_acc=0.710059 train_acc=0.965672 val_loss=0.012087 train_loss=0.009159\n",
      "EarlyStopping counter: 19 out of 30\n",
      "[Epoch 94] val_acc=0.724852 train_acc=0.974676 val_loss=0.011736 train_loss=0.008969\n",
      "EarlyStopping counter: 20 out of 30\n",
      "[Epoch 95] val_acc=0.727811 train_acc=0.975239 val_loss=0.011872 train_loss=0.008977\n",
      "EarlyStopping counter: 21 out of 30\n",
      "[Epoch 96] val_acc=0.736686 train_acc=0.967361 val_loss=0.011715 train_loss=0.008986\n",
      "EarlyStopping counter: 22 out of 30\n",
      "[Epoch 97] val_acc=0.721893 train_acc=0.981429 val_loss=0.012122 train_loss=0.008866\n",
      "EarlyStopping counter: 23 out of 30\n",
      "[Epoch 98] val_acc=0.730769 train_acc=0.980304 val_loss=0.011613 train_loss=0.008805\n",
      "EarlyStopping counter: 24 out of 30\n",
      "[Epoch 99] val_acc=0.718935 train_acc=0.979741 val_loss=0.011762 train_loss=0.008918\n",
      "EarlyStopping counter: 25 out of 30\n",
      "Using device: mps\n",
      "[Epoch 0] val_acc=0.402367 train_acc=0.357907 val_loss=0.023198 train_loss=0.021171\n",
      "Validation loss decreased (inf --> 0.023198).  Saving model ...\n",
      "[Epoch 1] val_acc=0.440828 train_acc=0.530107 val_loss=0.021589 train_loss=0.018575\n",
      "Validation loss decreased (0.023198 --> 0.021589).  Saving model ...\n",
      "[Epoch 2] val_acc=0.497041 train_acc=0.602138 val_loss=0.020919 train_loss=0.017034\n",
      "Validation loss decreased (0.021589 --> 0.020919).  Saving model ...\n",
      "[Epoch 3] val_acc=0.505917 train_acc=0.634215 val_loss=0.020415 train_loss=0.016490\n",
      "Validation loss decreased (0.020919 --> 0.020415).  Saving model ...\n",
      "[Epoch 4] val_acc=0.538462 train_acc=0.657288 val_loss=0.019239 train_loss=0.015647\n",
      "Validation loss decreased (0.020415 --> 0.019239).  Saving model ...\n",
      "[Epoch 5] val_acc=0.550296 train_acc=0.725380 val_loss=0.018940 train_loss=0.014609\n",
      "Validation loss decreased (0.019239 --> 0.018940).  Saving model ...\n",
      "[Epoch 6] val_acc=0.597633 train_acc=0.730445 val_loss=0.018468 train_loss=0.014241\n",
      "Validation loss decreased (0.018940 --> 0.018468).  Saving model ...\n",
      "[Epoch 7] val_acc=0.600592 train_acc=0.742262 val_loss=0.017751 train_loss=0.014112\n",
      "Validation loss decreased (0.018468 --> 0.017751).  Saving model ...\n",
      "[Epoch 8] val_acc=0.600592 train_acc=0.753517 val_loss=0.017498 train_loss=0.013676\n",
      "Validation loss decreased (0.017751 --> 0.017498).  Saving model ...\n",
      "[Epoch 9] val_acc=0.621302 train_acc=0.770400 val_loss=0.016908 train_loss=0.013436\n",
      "Validation loss decreased (0.017498 --> 0.016908).  Saving model ...\n",
      "[Epoch 10] val_acc=0.656805 train_acc=0.782217 val_loss=0.015603 train_loss=0.013051\n",
      "Validation loss decreased (0.016908 --> 0.015603).  Saving model ...\n",
      "[Epoch 11] val_acc=0.683432 train_acc=0.810917 val_loss=0.014979 train_loss=0.012613\n",
      "Validation loss decreased (0.015603 --> 0.014979).  Saving model ...\n",
      "[Epoch 12] val_acc=0.677515 train_acc=0.807541 val_loss=0.014998 train_loss=0.012504\n",
      "EarlyStopping counter: 1 out of 30\n",
      "[Epoch 13] val_acc=0.692308 train_acc=0.812043 val_loss=0.014650 train_loss=0.012396\n",
      "Validation loss decreased (0.014979 --> 0.014650).  Saving model ...\n",
      "[Epoch 14] val_acc=0.695266 train_acc=0.824423 val_loss=0.014141 train_loss=0.012164\n",
      "Validation loss decreased (0.014650 --> 0.014141).  Saving model ...\n",
      "[Epoch 15] val_acc=0.683432 train_acc=0.820484 val_loss=0.014265 train_loss=0.012318\n",
      "EarlyStopping counter: 1 out of 30\n",
      "[Epoch 16] val_acc=0.733728 train_acc=0.833990 val_loss=0.013529 train_loss=0.011993\n",
      "Validation loss decreased (0.014141 --> 0.013529).  Saving model ...\n",
      "[Epoch 17] val_acc=0.692308 train_acc=0.845245 val_loss=0.013746 train_loss=0.011817\n",
      "EarlyStopping counter: 1 out of 30\n",
      "[Epoch 18] val_acc=0.707101 train_acc=0.841868 val_loss=0.013770 train_loss=0.011871\n",
      "EarlyStopping counter: 2 out of 30\n",
      "[Epoch 19] val_acc=0.683432 train_acc=0.863253 val_loss=0.014281 train_loss=0.011498\n",
      "EarlyStopping counter: 3 out of 30\n",
      "[Epoch 20] val_acc=0.704142 train_acc=0.859313 val_loss=0.013164 train_loss=0.011587\n",
      "Validation loss decreased (0.013529 --> 0.013164).  Saving model ...\n",
      "[Epoch 21] val_acc=0.680473 train_acc=0.862127 val_loss=0.013928 train_loss=0.011422\n",
      "EarlyStopping counter: 1 out of 30\n",
      "[Epoch 22] val_acc=0.715976 train_acc=0.858188 val_loss=0.013925 train_loss=0.011438\n",
      "EarlyStopping counter: 2 out of 30\n",
      "[Epoch 23] val_acc=0.707101 train_acc=0.857625 val_loss=0.013437 train_loss=0.011380\n",
      "EarlyStopping counter: 3 out of 30\n",
      "[Epoch 24] val_acc=0.718935 train_acc=0.863253 val_loss=0.013048 train_loss=0.011329\n",
      "Validation loss decreased (0.013164 --> 0.013048).  Saving model ...\n",
      "[Epoch 25] val_acc=0.721893 train_acc=0.879572 val_loss=0.013193 train_loss=0.011230\n",
      "EarlyStopping counter: 1 out of 30\n",
      "[Epoch 26] val_acc=0.692308 train_acc=0.882386 val_loss=0.012937 train_loss=0.011050\n",
      "Validation loss decreased (0.013048 --> 0.012937).  Saving model ...\n",
      "[Epoch 27] val_acc=0.721893 train_acc=0.886325 val_loss=0.013074 train_loss=0.010981\n",
      "EarlyStopping counter: 1 out of 30\n",
      "[Epoch 28] val_acc=0.686391 train_acc=0.882386 val_loss=0.014505 train_loss=0.011096\n",
      "EarlyStopping counter: 2 out of 30\n",
      "[Epoch 29] val_acc=0.718935 train_acc=0.895329 val_loss=0.013310 train_loss=0.010929\n",
      "EarlyStopping counter: 3 out of 30\n",
      "[Epoch 30] val_acc=0.736686 train_acc=0.888576 val_loss=0.013109 train_loss=0.010868\n",
      "EarlyStopping counter: 4 out of 30\n",
      "[Epoch 31] val_acc=0.704142 train_acc=0.891390 val_loss=0.013282 train_loss=0.010840\n",
      "EarlyStopping counter: 5 out of 30\n",
      "[Epoch 32] val_acc=0.715976 train_acc=0.902082 val_loss=0.012892 train_loss=0.010581\n",
      "Validation loss decreased (0.012937 --> 0.012892).  Saving model ...\n",
      "[Epoch 33] val_acc=0.736686 train_acc=0.902645 val_loss=0.013384 train_loss=0.010627\n",
      "EarlyStopping counter: 1 out of 30\n",
      "[Epoch 34] val_acc=0.727811 train_acc=0.890827 val_loss=0.013318 train_loss=0.010843\n",
      "EarlyStopping counter: 2 out of 30\n",
      "[Epoch 35] val_acc=0.721893 train_acc=0.915588 val_loss=0.012898 train_loss=0.010322\n",
      "EarlyStopping counter: 3 out of 30\n",
      "[Epoch 36] val_acc=0.713018 train_acc=0.917839 val_loss=0.012970 train_loss=0.010322\n",
      "EarlyStopping counter: 4 out of 30\n",
      "[Epoch 37] val_acc=0.724852 train_acc=0.915588 val_loss=0.012969 train_loss=0.010415\n",
      "EarlyStopping counter: 5 out of 30\n",
      "[Epoch 38] val_acc=0.724852 train_acc=0.919527 val_loss=0.013155 train_loss=0.010332\n",
      "EarlyStopping counter: 6 out of 30\n",
      "[Epoch 39] val_acc=0.718935 train_acc=0.924592 val_loss=0.012986 train_loss=0.010268\n",
      "EarlyStopping counter: 7 out of 30\n",
      "[Epoch 40] val_acc=0.668639 train_acc=0.915588 val_loss=0.013613 train_loss=0.010274\n",
      "EarlyStopping counter: 8 out of 30\n",
      "[Epoch 41] val_acc=0.724852 train_acc=0.909398 val_loss=0.012965 train_loss=0.010453\n",
      "EarlyStopping counter: 9 out of 30\n",
      "[Epoch 42] val_acc=0.724852 train_acc=0.924592 val_loss=0.012557 train_loss=0.010218\n",
      "Validation loss decreased (0.012892 --> 0.012557).  Saving model ...\n",
      "[Epoch 43] val_acc=0.710059 train_acc=0.923467 val_loss=0.013086 train_loss=0.010168\n",
      "EarlyStopping counter: 1 out of 30\n",
      "[Epoch 44] val_acc=0.718935 train_acc=0.927406 val_loss=0.013430 train_loss=0.010142\n",
      "EarlyStopping counter: 2 out of 30\n",
      "[Epoch 45] val_acc=0.698225 train_acc=0.915025 val_loss=0.013506 train_loss=0.010251\n",
      "EarlyStopping counter: 3 out of 30\n",
      "[Epoch 46] val_acc=0.710059 train_acc=0.920090 val_loss=0.013615 train_loss=0.010236\n",
      "EarlyStopping counter: 4 out of 30\n",
      "[Epoch 47] val_acc=0.715976 train_acc=0.923467 val_loss=0.013358 train_loss=0.010113\n",
      "EarlyStopping counter: 5 out of 30\n",
      "[Epoch 48] val_acc=0.730769 train_acc=0.927968 val_loss=0.013309 train_loss=0.010069\n",
      "EarlyStopping counter: 6 out of 30\n",
      "[Epoch 49] val_acc=0.713018 train_acc=0.940349 val_loss=0.013463 train_loss=0.009949\n",
      "EarlyStopping counter: 7 out of 30\n",
      "[Epoch 50] val_acc=0.692308 train_acc=0.931908 val_loss=0.013642 train_loss=0.010046\n",
      "EarlyStopping counter: 8 out of 30\n",
      "[Epoch 51] val_acc=0.683432 train_acc=0.936410 val_loss=0.014137 train_loss=0.009910\n",
      "EarlyStopping counter: 9 out of 30\n",
      "[Epoch 52] val_acc=0.715976 train_acc=0.936972 val_loss=0.013149 train_loss=0.009871\n",
      "EarlyStopping counter: 10 out of 30\n",
      "[Epoch 53] val_acc=0.689349 train_acc=0.936972 val_loss=0.013391 train_loss=0.009835\n",
      "EarlyStopping counter: 11 out of 30\n",
      "[Epoch 54] val_acc=0.689349 train_acc=0.926843 val_loss=0.013493 train_loss=0.010122\n",
      "EarlyStopping counter: 12 out of 30\n",
      "[Epoch 55] val_acc=0.724852 train_acc=0.936972 val_loss=0.012612 train_loss=0.009880\n",
      "EarlyStopping counter: 13 out of 30\n",
      "[Epoch 56] val_acc=0.692308 train_acc=0.939223 val_loss=0.013614 train_loss=0.009860\n",
      "EarlyStopping counter: 14 out of 30\n",
      "[Epoch 57] val_acc=0.745562 train_acc=0.947102 val_loss=0.012643 train_loss=0.009753\n",
      "EarlyStopping counter: 15 out of 30\n",
      "[Epoch 58] val_acc=0.721893 train_acc=0.944288 val_loss=0.013130 train_loss=0.009656\n",
      "EarlyStopping counter: 16 out of 30\n",
      "[Epoch 59] val_acc=0.695266 train_acc=0.933033 val_loss=0.013224 train_loss=0.009836\n",
      "EarlyStopping counter: 17 out of 30\n",
      "[Epoch 60] val_acc=0.760355 train_acc=0.940912 val_loss=0.012364 train_loss=0.009764\n",
      "Validation loss decreased (0.012557 --> 0.012364).  Saving model ...\n",
      "[Epoch 61] val_acc=0.704142 train_acc=0.947102 val_loss=0.013063 train_loss=0.009710\n",
      "EarlyStopping counter: 1 out of 30\n",
      "[Epoch 62] val_acc=0.701183 train_acc=0.945976 val_loss=0.013428 train_loss=0.009613\n",
      "EarlyStopping counter: 2 out of 30\n",
      "[Epoch 63] val_acc=0.713018 train_acc=0.938098 val_loss=0.013045 train_loss=0.009668\n",
      "EarlyStopping counter: 3 out of 30\n",
      "[Epoch 64] val_acc=0.686391 train_acc=0.947102 val_loss=0.014365 train_loss=0.009728\n",
      "EarlyStopping counter: 4 out of 30\n",
      "[Epoch 65] val_acc=0.704142 train_acc=0.944851 val_loss=0.013030 train_loss=0.009702\n",
      "EarlyStopping counter: 5 out of 30\n",
      "[Epoch 66] val_acc=0.715976 train_acc=0.939786 val_loss=0.013014 train_loss=0.009727\n",
      "EarlyStopping counter: 6 out of 30\n",
      "[Epoch 67] val_acc=0.704142 train_acc=0.938098 val_loss=0.012901 train_loss=0.009808\n",
      "EarlyStopping counter: 7 out of 30\n",
      "[Epoch 68] val_acc=0.742604 train_acc=0.933596 val_loss=0.012579 train_loss=0.009811\n",
      "EarlyStopping counter: 8 out of 30\n",
      "[Epoch 69] val_acc=0.715976 train_acc=0.960045 val_loss=0.012816 train_loss=0.009453\n",
      "EarlyStopping counter: 9 out of 30\n",
      "[Epoch 70] val_acc=0.710059 train_acc=0.957794 val_loss=0.012845 train_loss=0.009337\n",
      "EarlyStopping counter: 10 out of 30\n",
      "[Epoch 71] val_acc=0.721893 train_acc=0.966798 val_loss=0.012626 train_loss=0.009263\n",
      "EarlyStopping counter: 11 out of 30\n",
      "[Epoch 72] val_acc=0.730769 train_acc=0.974676 val_loss=0.012572 train_loss=0.009100\n",
      "EarlyStopping counter: 12 out of 30\n",
      "[Epoch 73] val_acc=0.724852 train_acc=0.969612 val_loss=0.012605 train_loss=0.009064\n",
      "EarlyStopping counter: 13 out of 30\n",
      "[Epoch 74] val_acc=0.713018 train_acc=0.966798 val_loss=0.012723 train_loss=0.009158\n",
      "EarlyStopping counter: 14 out of 30\n",
      "[Epoch 75] val_acc=0.718935 train_acc=0.970174 val_loss=0.012544 train_loss=0.009109\n",
      "EarlyStopping counter: 15 out of 30\n",
      "[Epoch 76] val_acc=0.733728 train_acc=0.967923 val_loss=0.012470 train_loss=0.009154\n",
      "EarlyStopping counter: 16 out of 30\n",
      "[Epoch 77] val_acc=0.710059 train_acc=0.972988 val_loss=0.012648 train_loss=0.009094\n",
      "EarlyStopping counter: 17 out of 30\n",
      "[Epoch 78] val_acc=0.718935 train_acc=0.963984 val_loss=0.012734 train_loss=0.009147\n",
      "EarlyStopping counter: 18 out of 30\n",
      "[Epoch 79] val_acc=0.713018 train_acc=0.967923 val_loss=0.012856 train_loss=0.009053\n",
      "EarlyStopping counter: 19 out of 30\n",
      "[Epoch 80] val_acc=0.724852 train_acc=0.979741 val_loss=0.012518 train_loss=0.009019\n",
      "EarlyStopping counter: 20 out of 30\n",
      "[Epoch 81] val_acc=0.707101 train_acc=0.968486 val_loss=0.013008 train_loss=0.009153\n",
      "EarlyStopping counter: 21 out of 30\n",
      "[Epoch 82] val_acc=0.710059 train_acc=0.969049 val_loss=0.012794 train_loss=0.009121\n",
      "EarlyStopping counter: 22 out of 30\n",
      "[Epoch 83] val_acc=0.715976 train_acc=0.971863 val_loss=0.012939 train_loss=0.009075\n",
      "EarlyStopping counter: 23 out of 30\n",
      "[Epoch 84] val_acc=0.715976 train_acc=0.968486 val_loss=0.013068 train_loss=0.009169\n",
      "EarlyStopping counter: 24 out of 30\n",
      "[Epoch 85] val_acc=0.692308 train_acc=0.969049 val_loss=0.013198 train_loss=0.009075\n",
      "EarlyStopping counter: 25 out of 30\n",
      "[Epoch 86] val_acc=0.715976 train_acc=0.974114 val_loss=0.012719 train_loss=0.009134\n",
      "EarlyStopping counter: 26 out of 30\n",
      "[Epoch 87] val_acc=0.721893 train_acc=0.977490 val_loss=0.012441 train_loss=0.008933\n",
      "EarlyStopping counter: 27 out of 30\n",
      "[Epoch 88] val_acc=0.727811 train_acc=0.981992 val_loss=0.012578 train_loss=0.008830\n",
      "EarlyStopping counter: 28 out of 30\n",
      "[Epoch 89] val_acc=0.721893 train_acc=0.977490 val_loss=0.012648 train_loss=0.008916\n",
      "EarlyStopping counter: 29 out of 30\n",
      "[Epoch 90] val_acc=0.715976 train_acc=0.976927 val_loss=0.012634 train_loss=0.008887\n",
      "EarlyStopping counter: 30 out of 30\n",
      "Early stopping.\n"
     ]
    }
   ],
   "source": [
    "valid_acc = {}\n",
    "test_acc = {}\n",
    "\n",
    "for ts in time_slots:\n",
    "    train_data, valid_data, test_data = get_time_series_dataloader(ts)\n",
    "    \n",
    "    time_model = CNN_ts(n_time=ts)\n",
    "    time_model.to(device)\n",
    "    \n",
    "    optimizer = torch.optim.Adam(time_model.parameters(), lr=0.001, weight_decay=1e-03)\n",
    "    scheduler = torch.optim.lr_scheduler.ReduceLROnPlateau(optimizer, mode='min', factor=0.5, patience=5, verbose=True)\n",
    "    \n",
    "    _ = train(\n",
    "        model=time_model,\n",
    "        optimizer=optimizer,\n",
    "        scheduler=scheduler,\n",
    "        loss_func=nn.CrossEntropyLoss(),\n",
    "        train_data=train_data,\n",
    "        val_data=valid_data,\n",
    "        early_stopping_patience=30,\n",
    "        cp_path=\"models/cnn\",\n",
    "        cp_filename=f\"time_{ts}.pt\",\n",
    "        n_epochs=100,\n",
    "        show_progress_bar=False,\n",
    "    )\n",
    "    \n",
    "    # Load best model and test\n",
    "    time_model = torch.load(f\"models/cnn/time_{ts}.pt\")\n",
    "    time_model.to(device)\n",
    "    time_model.eval()\n",
    "    \n",
    "    # Evaluate validation accuracies\n",
    "    valid_acc[ts] = 0\n",
    "    with torch.no_grad():\n",
    "        for X, y in valid_data:\n",
    "            X, y = X.to(device), y.to(device)\n",
    "            y_pred = time_model(X)\n",
    "            valid_acc[ts] += (y_pred.argmax(dim=1) == y.argmax(dim=1)).sum().item()\n",
    "    valid_acc[ts] /= len(valid_data.dataset)\n",
    "    \n",
    "    # Evaluate test accuracies\n",
    "    test_acc[ts] = 0\n",
    "    with torch.no_grad():\n",
    "        for X, y in test_data:\n",
    "            X, y = X.to(device), y.to(device)\n",
    "            y_pred = time_model(X)\n",
    "            test_acc[ts] += (y_pred.argmax(dim=1) == y.argmax(dim=1)).sum().item()\n",
    "    test_acc[ts] /= len(test_data.dataset)"
   ]
  },
  {
   "cell_type": "code",
   "execution_count": 47,
   "metadata": {},
   "outputs": [
    {
     "data": {
      "image/png": "[encoded data removed]",
      "text/plain": [
       "<Figure size 640x480 with 1 Axes>"
      ]
     },
     "metadata": {},
     "output_type": "display_data"
    }
   ],
   "source": [
    "plt.plot(valid_acc.keys(), valid_acc.values(), label=\"Valid Acc\")\n",
    "plt.plot(test_acc.keys(), test_acc.values(), label=\"Test Acc\")\n",
    "plt.legend()\n",
    "plt.title(\"Time Series Model Accuracies\")\n",
    "plt.xlabel(\"Num Time Slots\")\n",
    "plt.ylabel(\"Accuracy\")\n",
    "plt.show()"
   ]
  }
 ],
 "metadata": {
  "kernelspec": {
   "display_name": "base",
   "language": "python",
   "name": "python3"
  },
  "language_info": {
   "codemirror_mode": {
    "name": "ipython",
    "version": 3
   },
   "file_extension": ".py",
   "mimetype": "text/x-python",
   "name": "python",
   "nbconvert_exporter": "python",
   "pygments_lexer": "ipython3",
   "version": "3.10.13"
  }
 },
 "nbformat": 4,
 "nbformat_minor": 2
}
