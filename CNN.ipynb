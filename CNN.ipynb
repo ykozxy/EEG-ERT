{
 "cells": [
  {
   "cell_type": "code",
   "execution_count": 2,
   "metadata": {},
   "outputs": [],
   "source": [
    "import numpy as np\n",
    "import optuna\n",
    "import torch\n",
    "import torch.nn as nn\n",
    "import matplotlib.pyplot as plt\n",
    "from optuna import Trial, Study\n",
    "from braindecode.models import EEGNetv4, HybridNet, EEGResNet, TCN, EEGInceptionMI\n",
    "from braindecode.augmentation import AugmentedDataLoader\n",
    "from torch.utils.data import DataLoader, TensorDataset\n",
    "from tqdm.auto import tqdm\n",
    "from utils.training import train, best_torch_device\n",
    "from torchinfo import summary\n",
    "from copy import copy, deepcopy\n",
    "from prepare_data import get_frequency_dataloader, get_raw_dataloader, get_sub1_dataloader, get_time_series_dataloader\n",
    "\n",
    "%load_ext autoreload\n",
    "%autoreload 2"
   ]
  },
  {
   "cell_type": "code",
   "execution_count": 3,
   "metadata": {},
   "outputs": [],
   "source": [
    "bsz = 32\n",
    "\n",
    "train_loader, val_loader, test_loader = get_raw_dataloader(batch_size=bsz)\n",
    "train_aug_loader, _, _ = get_frequency_dataloader(batch_size=bsz)\n",
    "train_sub_loader, val_sub_loader, test_sub_loader = get_sub1_dataloader(batch_size=bsz)\n"
   ]
  },
  {
   "cell_type": "code",
   "execution_count": 4,
   "metadata": {},
   "outputs": [],
   "source": [
    "class CNN(nn.Module):\n",
    "    def __init__(self):\n",
    "        super(CNN, self).__init__()\n",
    "\n",
    "        self.filter_nums1 = 24 # 8\n",
    "        self.filter_nums2 = 120 # 40\n",
    "        self.filter_nums3 = 32 # 12\n",
    "        num_groups = 8\n",
    "        b = True\n",
    "        dropout_prob = 0.25\n",
    "\n",
    "        self.conv_over_time = nn.Sequential(\n",
    "            nn.Conv2d(1, self.filter_nums1, kernel_size=(1, 64), stride=(1, 1), padding=(0, 32), bias=b),\n",
    "            nn.BatchNorm2d(self.filter_nums1, eps=0.001, momentum=0.01, affine=True, track_running_stats=True)\n",
    "        )\n",
    "        # (n, 8, 22, 1001)\n",
    "\n",
    "        self.conv_over_channels = nn.Sequential(\n",
    "            nn.Conv2d(self.filter_nums1, self.filter_nums2, kernel_size=(22, 1), stride=(1, 1), groups=num_groups, bias=b),\n",
    "            nn.BatchNorm2d(self.filter_nums2, eps=0.001, momentum=0.01, affine=True, track_running_stats=True),\n",
    "            nn.ELU(),\n",
    "            nn.AvgPool2d(kernel_size=(1, 4), stride=(1, 4), padding=0), # pool over time to shrink time\n",
    "            nn.Dropout(p=dropout_prob)\n",
    "        )\n",
    "        # (n, 40, 1, 250)\n",
    "\n",
    "        self.conv_by_channel_and_point = nn.Sequential(\n",
    "            nn.Conv2d(self.filter_nums2, self.filter_nums2, kernel_size=(1, 16), stride=(1, 1), padding=(0, 8), groups=num_groups, bias=b),\n",
    "            # (n, 40, 1, 251)\n",
    "            nn.Conv2d(self.filter_nums2, self.filter_nums3, kernel_size=(1, 1), stride=(1, 1), bias=False),\n",
    "            # (n, 12, 1, 251)\n",
    "            nn.BatchNorm2d(self.filter_nums3, eps=0.001, momentum=0.01, affine=True, track_running_stats=True),\n",
    "            nn.ELU(),\n",
    "            nn.AvgPool2d(kernel_size=(1, 8), stride=(1, 8), padding=0),\n",
    "            nn.Dropout(p=dropout_prob),\n",
    "            # (n, 12, 1, 31)\n",
    "            nn.Conv2d(self.filter_nums3, 4, kernel_size=(1, 31), stride=(1, 1)) # conv to 4 output classes\n",
    "            # (n, 4, 1, 1)\n",
    "        )\n",
    "        \n",
    "\n",
    "    def forward(self, x):\n",
    "        # x = x.to('mps')\n",
    "        # X (batch, ch, t)\n",
    "        x = x.unsqueeze(3)\n",
    "        # (batch, ch, t, 1)\n",
    "        x = x.permute(0, 3, 1, 2)\n",
    "        # (batch, 1, ch, t)\n",
    "        x = self.conv_over_time(x)\n",
    "        x = self.conv_over_channels(x)\n",
    "        x = self.conv_by_channel_and_point(x)\n",
    "        x = x.squeeze(-1)\n",
    "        x = x.squeeze(-1)\n",
    "        return x"
   ]
  },
  {
   "cell_type": "code",
   "execution_count": 5,
   "metadata": {},
   "outputs": [
    {
     "name": "stdout",
     "output_type": "stream",
     "text": [
      "CNN(\n",
      "  (conv_over_time): Sequential(\n",
      "    (0): Conv2d(1, 24, kernel_size=(1, 64), stride=(1, 1), padding=(0, 32))\n",
      "    (1): BatchNorm2d(24, eps=0.001, momentum=0.01, affine=True, track_running_stats=True)\n",
      "  )\n",
      "  (conv_over_channels): Sequential(\n",
      "    (0): Conv2d(24, 120, kernel_size=(22, 1), stride=(1, 1), groups=8)\n",
      "    (1): BatchNorm2d(120, eps=0.001, momentum=0.01, affine=True, track_running_stats=True)\n",
      "    (2): ELU(alpha=1.0)\n",
      "    (3): AvgPool2d(kernel_size=(1, 4), stride=(1, 4), padding=0)\n",
      "    (4): Dropout(p=0.25, inplace=False)\n",
      "  )\n",
      "  (conv_by_channel_and_point): Sequential(\n",
      "    (0): Conv2d(120, 120, kernel_size=(1, 16), stride=(1, 1), padding=(0, 8), groups=8)\n",
      "    (1): Conv2d(120, 32, kernel_size=(1, 1), stride=(1, 1), bias=False)\n",
      "    (2): BatchNorm2d(32, eps=0.001, momentum=0.01, affine=True, track_running_stats=True)\n",
      "    (3): ELU(alpha=1.0)\n",
      "    (4): AvgPool2d(kernel_size=(1, 8), stride=(1, 8), padding=0)\n",
      "    (5): Dropout(p=0.25, inplace=False)\n",
      "    (6): Conv2d(32, 4, kernel_size=(1, 31), stride=(1, 1))\n",
      "  )\n",
      ")\n"
     ]
    },
    {
     "data": {
      "text/plain": [
       "==========================================================================================\n",
       "Layer (type:depth-idx)                   Output Shape              Param #\n",
       "==========================================================================================\n",
       "CNN                                      [2, 4]                    --\n",
       "├─Sequential: 1-1                        [2, 24, 22, 1001]         --\n",
       "│    └─Conv2d: 2-1                       [2, 24, 22, 1001]         1,560\n",
       "│    └─BatchNorm2d: 2-2                  [2, 24, 22, 1001]         48\n",
       "├─Sequential: 1-2                        [2, 120, 1, 250]          --\n",
       "│    └─Conv2d: 2-3                       [2, 120, 1, 1001]         8,040\n",
       "│    └─BatchNorm2d: 2-4                  [2, 120, 1, 1001]         240\n",
       "│    └─ELU: 2-5                          [2, 120, 1, 1001]         --\n",
       "│    └─AvgPool2d: 2-6                    [2, 120, 1, 250]          --\n",
       "│    └─Dropout: 2-7                      [2, 120, 1, 250]          --\n",
       "├─Sequential: 1-3                        [2, 4, 1, 1]              --\n",
       "│    └─Conv2d: 2-8                       [2, 120, 1, 251]          28,920\n",
       "│    └─Conv2d: 2-9                       [2, 32, 1, 251]           3,840\n",
       "│    └─BatchNorm2d: 2-10                 [2, 32, 1, 251]           64\n",
       "│    └─ELU: 2-11                         [2, 32, 1, 251]           --\n",
       "│    └─AvgPool2d: 2-12                   [2, 32, 1, 31]            --\n",
       "│    └─Dropout: 2-13                     [2, 32, 1, 31]            --\n",
       "│    └─Conv2d: 2-14                      [2, 4, 1, 1]              3,972\n",
       "==========================================================================================\n",
       "Total params: 46,684\n",
       "Trainable params: 46,684\n",
       "Non-trainable params: 0\n",
       "Total mult-adds (M): 101.26\n",
       "==========================================================================================\n",
       "Input size (MB): 0.18\n",
       "Forward/backward pass size (MB): 21.50\n",
       "Params size (MB): 0.19\n",
       "Estimated Total Size (MB): 21.86\n",
       "=========================================================================================="
      ]
     },
     "execution_count": 5,
     "metadata": {},
     "output_type": "execute_result"
    }
   ],
   "source": [
    "device = torch.device('mps')\n",
    "\n",
    "model = CNN()\n",
    "model = model.to(device)\n",
    "print(model)\n",
    "summary(model, input_size=(2, 22, 1000), device='mps')"
   ]
  },
  {
   "cell_type": "markdown",
   "metadata": {},
   "source": [
    "## Train with raw data"
   ]
  },
  {
   "cell_type": "code",
   "execution_count": 70,
   "metadata": {},
   "outputs": [
    {
     "name": "stdout",
     "output_type": "stream",
     "text": [
      "Using device: mps\n"
     ]
    },
    {
     "name": "stderr",
     "output_type": "stream",
     "text": [
      "Epoch 0: 100%|██████████| 28/28 [00:09<00:00,  2.84batch/s, loss=1.3824]\n"
     ]
    },
    {
     "name": "stdout",
     "output_type": "stream",
     "text": [
      "[Epoch 0] val_acc=0.357988 train_acc=0.353405 val_loss=0.023736 train_loss=0.021379\n",
      "Validation loss decreased (inf --> 0.023736).  Saving model ...\n"
     ]
    },
    {
     "name": "stderr",
     "output_type": "stream",
     "text": [
      "Epoch 1: 100%|██████████| 28/28 [00:07<00:00,  3.71batch/s, loss=1.1662]\n"
     ]
    },
    {
     "name": "stdout",
     "output_type": "stream",
     "text": [
      "[Epoch 1] val_acc=0.443787 train_acc=0.459201 val_loss=0.022913 train_loss=0.019640\n",
      "Validation loss decreased (0.023736 --> 0.022913).  Saving model ...\n"
     ]
    },
    {
     "name": "stderr",
     "output_type": "stream",
     "text": [
      "Epoch 2: 100%|██████████| 28/28 [00:07<00:00,  3.58batch/s, loss=1.2602]\n"
     ]
    },
    {
     "name": "stdout",
     "output_type": "stream",
     "text": [
      "[Epoch 2] val_acc=0.434911 train_acc=0.551491 val_loss=0.021676 train_loss=0.018209\n",
      "Validation loss decreased (0.022913 --> 0.021676).  Saving model ...\n"
     ]
    },
    {
     "name": "stderr",
     "output_type": "stream",
     "text": [
      "Epoch 3: 100%|██████████| 28/28 [00:07<00:00,  3.67batch/s, loss=1.0452]\n"
     ]
    },
    {
     "name": "stdout",
     "output_type": "stream",
     "text": [
      "[Epoch 3] val_acc=0.505917 train_acc=0.597636 val_loss=0.020794 train_loss=0.017345\n",
      "Validation loss decreased (0.021676 --> 0.020794).  Saving model ...\n"
     ]
    },
    {
     "name": "stderr",
     "output_type": "stream",
     "text": [
      "Epoch 4: 100%|██████████| 28/28 [00:07<00:00,  3.66batch/s, loss=1.0705]\n"
     ]
    },
    {
     "name": "stdout",
     "output_type": "stream",
     "text": [
      "[Epoch 4] val_acc=0.544379 train_acc=0.625774 val_loss=0.020160 train_loss=0.016579\n",
      "Validation loss decreased (0.020794 --> 0.020160).  Saving model ...\n"
     ]
    },
    {
     "name": "stderr",
     "output_type": "stream",
     "text": [
      "Epoch 5: 100%|██████████| 28/28 [00:07<00:00,  3.64batch/s, loss=0.9699]\n"
     ]
    },
    {
     "name": "stdout",
     "output_type": "stream",
     "text": [
      "[Epoch 5] val_acc=0.565089 train_acc=0.661227 val_loss=0.019387 train_loss=0.015974\n",
      "Validation loss decreased (0.020160 --> 0.019387).  Saving model ...\n"
     ]
    },
    {
     "name": "stderr",
     "output_type": "stream",
     "text": [
      "Epoch 6: 100%|██████████| 28/28 [00:07<00:00,  3.70batch/s, loss=1.0447]\n"
     ]
    },
    {
     "name": "stdout",
     "output_type": "stream",
     "text": [
      "[Epoch 6] val_acc=0.550296 train_acc=0.672482 val_loss=0.019383 train_loss=0.015597\n",
      "Validation loss decreased (0.019387 --> 0.019383).  Saving model ...\n"
     ]
    },
    {
     "name": "stderr",
     "output_type": "stream",
     "text": [
      "Epoch 7: 100%|██████████| 28/28 [00:07<00:00,  3.71batch/s, loss=1.0124]\n"
     ]
    },
    {
     "name": "stdout",
     "output_type": "stream",
     "text": [
      "[Epoch 7] val_acc=0.568047 train_acc=0.676984 val_loss=0.018573 train_loss=0.015461\n",
      "Validation loss decreased (0.019383 --> 0.018573).  Saving model ...\n"
     ]
    },
    {
     "name": "stderr",
     "output_type": "stream",
     "text": [
      "Epoch 8: 100%|██████████| 28/28 [00:07<00:00,  3.64batch/s, loss=0.9403]\n"
     ]
    },
    {
     "name": "stdout",
     "output_type": "stream",
     "text": [
      "[Epoch 8] val_acc=0.573964 train_acc=0.716939 val_loss=0.018322 train_loss=0.014788\n",
      "Validation loss decreased (0.018573 --> 0.018322).  Saving model ...\n"
     ]
    },
    {
     "name": "stderr",
     "output_type": "stream",
     "text": [
      "Epoch 9: 100%|██████████| 28/28 [00:08<00:00,  3.42batch/s, loss=0.9424]\n"
     ]
    },
    {
     "name": "stdout",
     "output_type": "stream",
     "text": [
      "[Epoch 9] val_acc=0.568047 train_acc=0.718627 val_loss=0.017688 train_loss=0.014722\n",
      "Validation loss decreased (0.018322 --> 0.017688).  Saving model ...\n"
     ]
    },
    {
     "name": "stderr",
     "output_type": "stream",
     "text": [
      "Epoch 10: 100%|██████████| 28/28 [00:08<00:00,  3.45batch/s, loss=0.8313]\n"
     ]
    },
    {
     "name": "stdout",
     "output_type": "stream",
     "text": [
      "[Epoch 10] val_acc=0.615385 train_acc=0.732696 val_loss=0.016444 train_loss=0.014354\n",
      "Validation loss decreased (0.017688 --> 0.016444).  Saving model ...\n"
     ]
    },
    {
     "name": "stderr",
     "output_type": "stream",
     "text": [
      "Epoch 11: 100%|██████████| 28/28 [00:08<00:00,  3.48batch/s, loss=0.9121]\n"
     ]
    },
    {
     "name": "stdout",
     "output_type": "stream",
     "text": [
      "[Epoch 11] val_acc=0.639053 train_acc=0.740574 val_loss=0.015971 train_loss=0.013913\n",
      "Validation loss decreased (0.016444 --> 0.015971).  Saving model ...\n"
     ]
    },
    {
     "name": "stderr",
     "output_type": "stream",
     "text": [
      "Epoch 12: 100%|██████████| 28/28 [00:08<00:00,  3.35batch/s, loss=0.8729]\n"
     ]
    },
    {
     "name": "stdout",
     "output_type": "stream",
     "text": [
      "[Epoch 12] val_acc=0.630178 train_acc=0.764209 val_loss=0.016293 train_loss=0.013750\n",
      "EarlyStopping counter: 1 out of 30\n"
     ]
    },
    {
     "name": "stderr",
     "output_type": "stream",
     "text": [
      "Epoch 13: 100%|██████████| 28/28 [00:08<00:00,  3.49batch/s, loss=1.0707]\n"
     ]
    },
    {
     "name": "stdout",
     "output_type": "stream",
     "text": [
      "[Epoch 13] val_acc=0.621302 train_acc=0.756331 val_loss=0.016292 train_loss=0.013756\n",
      "EarlyStopping counter: 2 out of 30\n"
     ]
    },
    {
     "name": "stderr",
     "output_type": "stream",
     "text": [
      "Epoch 14: 100%|██████████| 28/28 [00:08<00:00,  3.38batch/s, loss=0.7368]\n"
     ]
    },
    {
     "name": "stdout",
     "output_type": "stream",
     "text": [
      "[Epoch 14] val_acc=0.650888 train_acc=0.770400 val_loss=0.015350 train_loss=0.013419\n",
      "Validation loss decreased (0.015971 --> 0.015350).  Saving model ...\n"
     ]
    },
    {
     "name": "stderr",
     "output_type": "stream",
     "text": [
      "Epoch 15: 100%|██████████| 28/28 [00:08<00:00,  3.32batch/s, loss=0.8673]\n"
     ]
    },
    {
     "name": "stdout",
     "output_type": "stream",
     "text": [
      "[Epoch 15] val_acc=0.680473 train_acc=0.773213 val_loss=0.014377 train_loss=0.013399\n",
      "Validation loss decreased (0.015350 --> 0.014377).  Saving model ...\n"
     ]
    },
    {
     "name": "stderr",
     "output_type": "stream",
     "text": [
      "Epoch 16: 100%|██████████| 28/28 [00:08<00:00,  3.38batch/s, loss=0.7201]\n"
     ]
    },
    {
     "name": "stdout",
     "output_type": "stream",
     "text": [
      "[Epoch 16] val_acc=0.656805 train_acc=0.790096 val_loss=0.015229 train_loss=0.012981\n",
      "EarlyStopping counter: 1 out of 30\n"
     ]
    },
    {
     "name": "stderr",
     "output_type": "stream",
     "text": [
      "Epoch 17: 100%|██████████| 28/28 [00:08<00:00,  3.43batch/s, loss=0.7063]\n"
     ]
    },
    {
     "name": "stdout",
     "output_type": "stream",
     "text": [
      "[Epoch 17] val_acc=0.707101 train_acc=0.802476 val_loss=0.013987 train_loss=0.012956\n",
      "Validation loss decreased (0.014377 --> 0.013987).  Saving model ...\n"
     ]
    },
    {
     "name": "stderr",
     "output_type": "stream",
     "text": [
      "Epoch 18: 100%|██████████| 28/28 [00:07<00:00,  3.73batch/s, loss=0.7665]\n"
     ]
    },
    {
     "name": "stdout",
     "output_type": "stream",
     "text": [
      "[Epoch 18] val_acc=0.680473 train_acc=0.808666 val_loss=0.014275 train_loss=0.012643\n",
      "EarlyStopping counter: 1 out of 30\n"
     ]
    },
    {
     "name": "stderr",
     "output_type": "stream",
     "text": [
      "Epoch 19: 100%|██████████| 28/28 [00:08<00:00,  3.46batch/s, loss=0.8496]\n"
     ]
    },
    {
     "name": "stdout",
     "output_type": "stream",
     "text": [
      "[Epoch 19] val_acc=0.695266 train_acc=0.815982 val_loss=0.014335 train_loss=0.012564\n",
      "EarlyStopping counter: 2 out of 30\n"
     ]
    },
    {
     "name": "stderr",
     "output_type": "stream",
     "text": [
      "Epoch 20: 100%|██████████| 28/28 [00:08<00:00,  3.45batch/s, loss=0.8162]\n"
     ]
    },
    {
     "name": "stdout",
     "output_type": "stream",
     "text": [
      "[Epoch 20] val_acc=0.707101 train_acc=0.813731 val_loss=0.013410 train_loss=0.012491\n",
      "Validation loss decreased (0.013987 --> 0.013410).  Saving model ...\n"
     ]
    },
    {
     "name": "stderr",
     "output_type": "stream",
     "text": [
      "Epoch 21: 100%|██████████| 28/28 [00:08<00:00,  3.42batch/s, loss=0.7426]\n"
     ]
    },
    {
     "name": "stdout",
     "output_type": "stream",
     "text": [
      "[Epoch 21] val_acc=0.698225 train_acc=0.823860 val_loss=0.013821 train_loss=0.012318\n",
      "EarlyStopping counter: 1 out of 30\n"
     ]
    },
    {
     "name": "stderr",
     "output_type": "stream",
     "text": [
      "Epoch 22: 100%|██████████| 28/28 [00:07<00:00,  3.51batch/s, loss=0.7893]\n"
     ]
    },
    {
     "name": "stdout",
     "output_type": "stream",
     "text": [
      "[Epoch 22] val_acc=0.718935 train_acc=0.828362 val_loss=0.013437 train_loss=0.012255\n",
      "EarlyStopping counter: 2 out of 30\n"
     ]
    },
    {
     "name": "stderr",
     "output_type": "stream",
     "text": [
      "Epoch 23: 100%|██████████| 28/28 [00:08<00:00,  3.49batch/s, loss=0.7095]\n"
     ]
    },
    {
     "name": "stdout",
     "output_type": "stream",
     "text": [
      "[Epoch 23] val_acc=0.698225 train_acc=0.832864 val_loss=0.014214 train_loss=0.012152\n",
      "EarlyStopping counter: 3 out of 30\n"
     ]
    },
    {
     "name": "stderr",
     "output_type": "stream",
     "text": [
      "Epoch 24: 100%|██████████| 28/28 [00:07<00:00,  3.60batch/s, loss=0.7462]\n"
     ]
    },
    {
     "name": "stdout",
     "output_type": "stream",
     "text": [
      "[Epoch 24] val_acc=0.689349 train_acc=0.833990 val_loss=0.014267 train_loss=0.012001\n",
      "EarlyStopping counter: 4 out of 30\n"
     ]
    },
    {
     "name": "stderr",
     "output_type": "stream",
     "text": [
      "Epoch 25: 100%|██████████| 28/28 [00:07<00:00,  3.52batch/s, loss=0.7261]\n"
     ]
    },
    {
     "name": "stdout",
     "output_type": "stream",
     "text": [
      "[Epoch 25] val_acc=0.689349 train_acc=0.832864 val_loss=0.013676 train_loss=0.011950\n",
      "EarlyStopping counter: 5 out of 30\n"
     ]
    },
    {
     "name": "stderr",
     "output_type": "stream",
     "text": [
      "Epoch 26: 100%|██████████| 28/28 [00:07<00:00,  3.64batch/s, loss=0.9240]\n"
     ]
    },
    {
     "name": "stdout",
     "output_type": "stream",
     "text": [
      "[Epoch 26] val_acc=0.671598 train_acc=0.841306 val_loss=0.014374 train_loss=0.011957\n",
      "EarlyStopping counter: 6 out of 30\n"
     ]
    },
    {
     "name": "stderr",
     "output_type": "stream",
     "text": [
      "Epoch 27: 100%|██████████| 28/28 [00:07<00:00,  3.53batch/s, loss=0.6978]\n"
     ]
    },
    {
     "name": "stdout",
     "output_type": "stream",
     "text": [
      "[Epoch 27] val_acc=0.671598 train_acc=0.853123 val_loss=0.013923 train_loss=0.011676\n",
      "EarlyStopping counter: 7 out of 30\n"
     ]
    },
    {
     "name": "stderr",
     "output_type": "stream",
     "text": [
      "Epoch 28: 100%|██████████| 28/28 [00:07<00:00,  3.57batch/s, loss=0.8211]\n"
     ]
    },
    {
     "name": "stdout",
     "output_type": "stream",
     "text": [
      "[Epoch 28] val_acc=0.715976 train_acc=0.859876 val_loss=0.013378 train_loss=0.011660\n",
      "Validation loss decreased (0.013410 --> 0.013378).  Saving model ...\n"
     ]
    },
    {
     "name": "stderr",
     "output_type": "stream",
     "text": [
      "Epoch 29: 100%|██████████| 28/28 [00:08<00:00,  3.40batch/s, loss=0.8633]\n"
     ]
    },
    {
     "name": "stdout",
     "output_type": "stream",
     "text": [
      "[Epoch 29] val_acc=0.724852 train_acc=0.851435 val_loss=0.013158 train_loss=0.011779\n",
      "Validation loss decreased (0.013378 --> 0.013158).  Saving model ...\n"
     ]
    },
    {
     "name": "stderr",
     "output_type": "stream",
     "text": [
      "Epoch 30: 100%|██████████| 28/28 [00:07<00:00,  3.73batch/s, loss=0.7769]\n"
     ]
    },
    {
     "name": "stdout",
     "output_type": "stream",
     "text": [
      "[Epoch 30] val_acc=0.692308 train_acc=0.853123 val_loss=0.013564 train_loss=0.011537\n",
      "EarlyStopping counter: 1 out of 30\n"
     ]
    },
    {
     "name": "stderr",
     "output_type": "stream",
     "text": [
      "Epoch 31: 100%|██████████| 28/28 [00:07<00:00,  3.51batch/s, loss=0.6805]\n"
     ]
    },
    {
     "name": "stdout",
     "output_type": "stream",
     "text": [
      "[Epoch 31] val_acc=0.704142 train_acc=0.858751 val_loss=0.013557 train_loss=0.011488\n",
      "EarlyStopping counter: 2 out of 30\n"
     ]
    },
    {
     "name": "stderr",
     "output_type": "stream",
     "text": [
      "Epoch 32: 100%|██████████| 28/28 [00:08<00:00,  3.38batch/s, loss=0.7070]\n"
     ]
    },
    {
     "name": "stdout",
     "output_type": "stream",
     "text": [
      "[Epoch 32] val_acc=0.683432 train_acc=0.858188 val_loss=0.013527 train_loss=0.011546\n",
      "EarlyStopping counter: 3 out of 30\n"
     ]
    },
    {
     "name": "stderr",
     "output_type": "stream",
     "text": [
      "Epoch 33: 100%|██████████| 28/28 [00:08<00:00,  3.34batch/s, loss=0.7304]\n"
     ]
    },
    {
     "name": "stdout",
     "output_type": "stream",
     "text": [
      "[Epoch 33] val_acc=0.701183 train_acc=0.869443 val_loss=0.013189 train_loss=0.011430\n",
      "EarlyStopping counter: 4 out of 30\n"
     ]
    },
    {
     "name": "stderr",
     "output_type": "stream",
     "text": [
      "Epoch 34: 100%|██████████| 28/28 [00:08<00:00,  3.33batch/s, loss=0.8200]\n"
     ]
    },
    {
     "name": "stdout",
     "output_type": "stream",
     "text": [
      "[Epoch 34] val_acc=0.689349 train_acc=0.873945 val_loss=0.013262 train_loss=0.011269\n",
      "EarlyStopping counter: 5 out of 30\n"
     ]
    },
    {
     "name": "stderr",
     "output_type": "stream",
     "text": [
      "Epoch 35: 100%|██████████| 28/28 [00:08<00:00,  3.35batch/s, loss=0.7652]\n"
     ]
    },
    {
     "name": "stdout",
     "output_type": "stream",
     "text": [
      "[Epoch 35] val_acc=0.704142 train_acc=0.870006 val_loss=0.013103 train_loss=0.011414\n",
      "Validation loss decreased (0.013158 --> 0.013103).  Saving model ...\n"
     ]
    },
    {
     "name": "stderr",
     "output_type": "stream",
     "text": [
      "Epoch 36: 100%|██████████| 28/28 [00:07<00:00,  3.55batch/s, loss=0.7243]\n"
     ]
    },
    {
     "name": "stdout",
     "output_type": "stream",
     "text": [
      "[Epoch 36] val_acc=0.718935 train_acc=0.882386 val_loss=0.013017 train_loss=0.011071\n",
      "Validation loss decreased (0.013103 --> 0.013017).  Saving model ...\n"
     ]
    },
    {
     "name": "stderr",
     "output_type": "stream",
     "text": [
      "Epoch 37: 100%|██████████| 28/28 [00:08<00:00,  3.48batch/s, loss=0.7928]\n"
     ]
    },
    {
     "name": "stdout",
     "output_type": "stream",
     "text": [
      "[Epoch 37] val_acc=0.730769 train_acc=0.877321 val_loss=0.012945 train_loss=0.011126\n",
      "Validation loss decreased (0.013017 --> 0.012945).  Saving model ...\n"
     ]
    },
    {
     "name": "stderr",
     "output_type": "stream",
     "text": [
      "Epoch 38: 100%|██████████| 28/28 [00:08<00:00,  3.35batch/s, loss=0.7915]\n"
     ]
    },
    {
     "name": "stdout",
     "output_type": "stream",
     "text": [
      "[Epoch 38] val_acc=0.698225 train_acc=0.872819 val_loss=0.013419 train_loss=0.011234\n",
      "EarlyStopping counter: 1 out of 30\n"
     ]
    },
    {
     "name": "stderr",
     "output_type": "stream",
     "text": [
      "Epoch 39: 100%|██████████| 28/28 [00:07<00:00,  3.55batch/s, loss=0.7916]\n"
     ]
    },
    {
     "name": "stdout",
     "output_type": "stream",
     "text": [
      "[Epoch 39] val_acc=0.683432 train_acc=0.871131 val_loss=0.013756 train_loss=0.011160\n",
      "EarlyStopping counter: 2 out of 30\n"
     ]
    },
    {
     "name": "stderr",
     "output_type": "stream",
     "text": [
      "Epoch 40: 100%|██████████| 28/28 [00:07<00:00,  3.58batch/s, loss=0.6915]\n"
     ]
    },
    {
     "name": "stdout",
     "output_type": "stream",
     "text": [
      "[Epoch 40] val_acc=0.698225 train_acc=0.879010 val_loss=0.013827 train_loss=0.011064\n",
      "EarlyStopping counter: 3 out of 30\n"
     ]
    },
    {
     "name": "stderr",
     "output_type": "stream",
     "text": [
      "Epoch 41: 100%|██████████| 28/28 [00:07<00:00,  3.56batch/s, loss=0.6851]\n"
     ]
    },
    {
     "name": "stdout",
     "output_type": "stream",
     "text": [
      "[Epoch 41] val_acc=0.715976 train_acc=0.889702 val_loss=0.012930 train_loss=0.010964\n",
      "Validation loss decreased (0.012945 --> 0.012930).  Saving model ...\n"
     ]
    },
    {
     "name": "stderr",
     "output_type": "stream",
     "text": [
      "Epoch 42: 100%|██████████| 28/28 [00:07<00:00,  3.57batch/s, loss=0.7252]\n"
     ]
    },
    {
     "name": "stdout",
     "output_type": "stream",
     "text": [
      "[Epoch 42] val_acc=0.715976 train_acc=0.882386 val_loss=0.013183 train_loss=0.010999\n",
      "EarlyStopping counter: 1 out of 30\n"
     ]
    },
    {
     "name": "stderr",
     "output_type": "stream",
     "text": [
      "Epoch 43: 100%|██████████| 28/28 [00:07<00:00,  3.58batch/s, loss=0.6928]\n"
     ]
    },
    {
     "name": "stdout",
     "output_type": "stream",
     "text": [
      "[Epoch 43] val_acc=0.692308 train_acc=0.889139 val_loss=0.012964 train_loss=0.010779\n",
      "EarlyStopping counter: 2 out of 30\n"
     ]
    },
    {
     "name": "stderr",
     "output_type": "stream",
     "text": [
      "Epoch 44: 100%|██████████| 28/28 [00:08<00:00,  3.42batch/s, loss=0.6752]\n"
     ]
    },
    {
     "name": "stdout",
     "output_type": "stream",
     "text": [
      "[Epoch 44] val_acc=0.713018 train_acc=0.891390 val_loss=0.013204 train_loss=0.010925\n",
      "EarlyStopping counter: 3 out of 30\n"
     ]
    },
    {
     "name": "stderr",
     "output_type": "stream",
     "text": [
      "Epoch 45: 100%|██████████| 28/28 [00:08<00:00,  3.25batch/s, loss=0.6583]\n"
     ]
    },
    {
     "name": "stdout",
     "output_type": "stream",
     "text": [
      "[Epoch 45] val_acc=0.724852 train_acc=0.892515 val_loss=0.012722 train_loss=0.010754\n",
      "Validation loss decreased (0.012930 --> 0.012722).  Saving model ...\n"
     ]
    },
    {
     "name": "stderr",
     "output_type": "stream",
     "text": [
      "Epoch 46: 100%|██████████| 28/28 [00:08<00:00,  3.32batch/s, loss=0.6588]\n"
     ]
    },
    {
     "name": "stdout",
     "output_type": "stream",
     "text": [
      "[Epoch 46] val_acc=0.704142 train_acc=0.900394 val_loss=0.013077 train_loss=0.010632\n",
      "EarlyStopping counter: 1 out of 30\n"
     ]
    },
    {
     "name": "stderr",
     "output_type": "stream",
     "text": [
      "Epoch 47: 100%|██████████| 28/28 [00:08<00:00,  3.25batch/s, loss=0.6617]\n"
     ]
    },
    {
     "name": "stdout",
     "output_type": "stream",
     "text": [
      "[Epoch 47] val_acc=0.707101 train_acc=0.893641 val_loss=0.013109 train_loss=0.010755\n",
      "EarlyStopping counter: 2 out of 30\n"
     ]
    },
    {
     "name": "stderr",
     "output_type": "stream",
     "text": [
      "Epoch 48: 100%|██████████| 28/28 [00:08<00:00,  3.37batch/s, loss=0.6801]\n"
     ]
    },
    {
     "name": "stdout",
     "output_type": "stream",
     "text": [
      "[Epoch 48] val_acc=0.686391 train_acc=0.909398 val_loss=0.013510 train_loss=0.010529\n",
      "EarlyStopping counter: 3 out of 30\n"
     ]
    },
    {
     "name": "stderr",
     "output_type": "stream",
     "text": [
      "Epoch 49: 100%|██████████| 28/28 [00:08<00:00,  3.42batch/s, loss=0.7154]\n"
     ]
    },
    {
     "name": "stdout",
     "output_type": "stream",
     "text": [
      "[Epoch 49] val_acc=0.698225 train_acc=0.903208 val_loss=0.013134 train_loss=0.010586\n",
      "EarlyStopping counter: 4 out of 30\n"
     ]
    },
    {
     "name": "stderr",
     "output_type": "stream",
     "text": [
      "Epoch 50: 100%|██████████| 28/28 [00:08<00:00,  3.27batch/s, loss=0.6738]\n"
     ]
    },
    {
     "name": "stdout",
     "output_type": "stream",
     "text": [
      "[Epoch 50] val_acc=0.707101 train_acc=0.910523 val_loss=0.012807 train_loss=0.010533\n",
      "EarlyStopping counter: 5 out of 30\n"
     ]
    },
    {
     "name": "stderr",
     "output_type": "stream",
     "text": [
      "Epoch 51: 100%|██████████| 28/28 [00:08<00:00,  3.13batch/s, loss=0.6417]\n"
     ]
    },
    {
     "name": "stdout",
     "output_type": "stream",
     "text": [
      "[Epoch 51] val_acc=0.724852 train_acc=0.906584 val_loss=0.012981 train_loss=0.010547\n",
      "EarlyStopping counter: 6 out of 30\n"
     ]
    },
    {
     "name": "stderr",
     "output_type": "stream",
     "text": [
      "Epoch 52: 100%|██████████| 28/28 [00:08<00:00,  3.27batch/s, loss=0.6216]\n"
     ]
    },
    {
     "name": "stdout",
     "output_type": "stream",
     "text": [
      "[Epoch 52] val_acc=0.715976 train_acc=0.891390 val_loss=0.012448 train_loss=0.010824\n",
      "Validation loss decreased (0.012722 --> 0.012448).  Saving model ...\n"
     ]
    },
    {
     "name": "stderr",
     "output_type": "stream",
     "text": [
      "Epoch 53: 100%|██████████| 28/28 [00:08<00:00,  3.16batch/s, loss=0.6715]\n"
     ]
    },
    {
     "name": "stdout",
     "output_type": "stream",
     "text": [
      "[Epoch 53] val_acc=0.680473 train_acc=0.917276 val_loss=0.013793 train_loss=0.010492\n",
      "EarlyStopping counter: 1 out of 30\n"
     ]
    },
    {
     "name": "stderr",
     "output_type": "stream",
     "text": [
      "Epoch 54: 100%|██████████| 28/28 [00:09<00:00,  3.07batch/s, loss=0.6350]\n"
     ]
    },
    {
     "name": "stdout",
     "output_type": "stream",
     "text": [
      "[Epoch 54] val_acc=0.713018 train_acc=0.909961 val_loss=0.013172 train_loss=0.010427\n",
      "EarlyStopping counter: 2 out of 30\n"
     ]
    },
    {
     "name": "stderr",
     "output_type": "stream",
     "text": [
      "Epoch 55: 100%|██████████| 28/28 [00:09<00:00,  2.95batch/s, loss=0.7180]\n"
     ]
    },
    {
     "name": "stdout",
     "output_type": "stream",
     "text": [
      "[Epoch 55] val_acc=0.713018 train_acc=0.913337 val_loss=0.013183 train_loss=0.010414\n",
      "EarlyStopping counter: 3 out of 30\n"
     ]
    },
    {
     "name": "stderr",
     "output_type": "stream",
     "text": [
      "Epoch 56: 100%|██████████| 28/28 [00:11<00:00,  2.46batch/s, loss=0.6755]\n"
     ]
    },
    {
     "name": "stdout",
     "output_type": "stream",
     "text": [
      "[Epoch 56] val_acc=0.742604 train_acc=0.913337 val_loss=0.013214 train_loss=0.010476\n",
      "EarlyStopping counter: 4 out of 30\n"
     ]
    },
    {
     "name": "stderr",
     "output_type": "stream",
     "text": [
      "Epoch 57: 100%|██████████| 28/28 [00:13<00:00,  2.12batch/s, loss=0.6473]\n"
     ]
    },
    {
     "name": "stdout",
     "output_type": "stream",
     "text": [
      "[Epoch 57] val_acc=0.692308 train_acc=0.899268 val_loss=0.013186 train_loss=0.010573\n",
      "EarlyStopping counter: 5 out of 30\n"
     ]
    },
    {
     "name": "stderr",
     "output_type": "stream",
     "text": [
      "Epoch 58: 100%|██████████| 28/28 [00:11<00:00,  2.46batch/s, loss=0.7765]\n"
     ]
    },
    {
     "name": "stdout",
     "output_type": "stream",
     "text": [
      "[Epoch 58] val_acc=0.689349 train_acc=0.907710 val_loss=0.012988 train_loss=0.010481\n",
      "EarlyStopping counter: 6 out of 30\n"
     ]
    },
    {
     "name": "stderr",
     "output_type": "stream",
     "text": [
      "Epoch 59: 100%|██████████| 28/28 [00:12<00:00,  2.25batch/s, loss=0.7132]\n"
     ]
    },
    {
     "name": "stdout",
     "output_type": "stream",
     "text": [
      "[Epoch 59] val_acc=0.701183 train_acc=0.900957 val_loss=0.012635 train_loss=0.010446\n",
      "EarlyStopping counter: 7 out of 30\n"
     ]
    },
    {
     "name": "stderr",
     "output_type": "stream",
     "text": [
      "Epoch 60: 100%|██████████| 28/28 [00:10<00:00,  2.62batch/s, loss=0.6524]\n"
     ]
    },
    {
     "name": "stdout",
     "output_type": "stream",
     "text": [
      "[Epoch 60] val_acc=0.695266 train_acc=0.920653 val_loss=0.012452 train_loss=0.010304\n",
      "EarlyStopping counter: 8 out of 30\n"
     ]
    },
    {
     "name": "stderr",
     "output_type": "stream",
     "text": [
      "Epoch 61: 100%|██████████| 28/28 [00:10<00:00,  2.64batch/s, loss=0.6966]\n"
     ]
    },
    {
     "name": "stdout",
     "output_type": "stream",
     "text": [
      "[Epoch 61] val_acc=0.710059 train_acc=0.913337 val_loss=0.013085 train_loss=0.010414\n",
      "EarlyStopping counter: 9 out of 30\n"
     ]
    },
    {
     "name": "stderr",
     "output_type": "stream",
     "text": [
      "Epoch 62: 100%|██████████| 28/28 [00:11<00:00,  2.39batch/s, loss=0.7116]\n"
     ]
    },
    {
     "name": "stdout",
     "output_type": "stream",
     "text": [
      "[Epoch 62] val_acc=0.695266 train_acc=0.913900 val_loss=0.013038 train_loss=0.010316\n",
      "EarlyStopping counter: 10 out of 30\n"
     ]
    },
    {
     "name": "stderr",
     "output_type": "stream",
     "text": [
      "Epoch 63: 100%|██████████| 28/28 [00:11<00:00,  2.50batch/s, loss=0.5942]\n"
     ]
    },
    {
     "name": "stdout",
     "output_type": "stream",
     "text": [
      "[Epoch 63] val_acc=0.710059 train_acc=0.921778 val_loss=0.012664 train_loss=0.010194\n",
      "EarlyStopping counter: 11 out of 30\n"
     ]
    },
    {
     "name": "stderr",
     "output_type": "stream",
     "text": [
      "Epoch 64: 100%|██████████| 28/28 [00:11<00:00,  2.37batch/s, loss=0.6421]\n"
     ]
    },
    {
     "name": "stdout",
     "output_type": "stream",
     "text": [
      "[Epoch 64] val_acc=0.721893 train_acc=0.926843 val_loss=0.012839 train_loss=0.010182\n",
      "EarlyStopping counter: 12 out of 30\n"
     ]
    },
    {
     "name": "stderr",
     "output_type": "stream",
     "text": [
      "Epoch 65: 100%|██████████| 28/28 [00:11<00:00,  2.41batch/s, loss=0.6743]\n"
     ]
    },
    {
     "name": "stdout",
     "output_type": "stream",
     "text": [
      "[Epoch 65] val_acc=0.718935 train_acc=0.924592 val_loss=0.012677 train_loss=0.010161\n",
      "EarlyStopping counter: 13 out of 30\n"
     ]
    },
    {
     "name": "stderr",
     "output_type": "stream",
     "text": [
      "Epoch 66: 100%|██████████| 28/28 [00:10<00:00,  2.74batch/s, loss=0.6732]\n"
     ]
    },
    {
     "name": "stdout",
     "output_type": "stream",
     "text": [
      "[Epoch 66] val_acc=0.715976 train_acc=0.918965 val_loss=0.012462 train_loss=0.010218\n",
      "EarlyStopping counter: 14 out of 30\n"
     ]
    },
    {
     "name": "stderr",
     "output_type": "stream",
     "text": [
      "Epoch 67: 100%|██████████| 28/28 [00:09<00:00,  2.96batch/s, loss=0.6665]\n"
     ]
    },
    {
     "name": "stdout",
     "output_type": "stream",
     "text": [
      "[Epoch 67] val_acc=0.715976 train_acc=0.919527 val_loss=0.012787 train_loss=0.010255\n",
      "EarlyStopping counter: 15 out of 30\n"
     ]
    },
    {
     "name": "stderr",
     "output_type": "stream",
     "text": [
      "Epoch 68: 100%|██████████| 28/28 [00:09<00:00,  2.92batch/s, loss=0.6470]\n"
     ]
    },
    {
     "name": "stdout",
     "output_type": "stream",
     "text": [
      "[Epoch 68] val_acc=0.704142 train_acc=0.920090 val_loss=0.013260 train_loss=0.010178\n",
      "EarlyStopping counter: 16 out of 30\n"
     ]
    },
    {
     "name": "stderr",
     "output_type": "stream",
     "text": [
      "Epoch 69: 100%|██████████| 28/28 [00:10<00:00,  2.67batch/s, loss=0.6178]\n"
     ]
    },
    {
     "name": "stdout",
     "output_type": "stream",
     "text": [
      "[Epoch 69] val_acc=0.713018 train_acc=0.920653 val_loss=0.013157 train_loss=0.010237\n",
      "EarlyStopping counter: 17 out of 30\n"
     ]
    },
    {
     "name": "stderr",
     "output_type": "stream",
     "text": [
      "Epoch 70: 100%|██████████| 28/28 [00:08<00:00,  3.13batch/s, loss=0.6844]\n"
     ]
    },
    {
     "name": "stdout",
     "output_type": "stream",
     "text": [
      "[Epoch 70] val_acc=0.710059 train_acc=0.920653 val_loss=0.013036 train_loss=0.010163\n",
      "EarlyStopping counter: 18 out of 30\n"
     ]
    },
    {
     "name": "stderr",
     "output_type": "stream",
     "text": [
      "Epoch 71: 100%|██████████| 28/28 [00:08<00:00,  3.16batch/s, loss=0.7044]\n"
     ]
    },
    {
     "name": "stdout",
     "output_type": "stream",
     "text": [
      "[Epoch 71] val_acc=0.707101 train_acc=0.928531 val_loss=0.013127 train_loss=0.010137\n",
      "EarlyStopping counter: 19 out of 30\n"
     ]
    },
    {
     "name": "stderr",
     "output_type": "stream",
     "text": [
      "Epoch 72: 100%|██████████| 28/28 [00:08<00:00,  3.31batch/s, loss=0.6244]\n"
     ]
    },
    {
     "name": "stdout",
     "output_type": "stream",
     "text": [
      "[Epoch 72] val_acc=0.698225 train_acc=0.936410 val_loss=0.013219 train_loss=0.010030\n",
      "EarlyStopping counter: 20 out of 30\n"
     ]
    },
    {
     "name": "stderr",
     "output_type": "stream",
     "text": [
      "Epoch 73: 100%|██████████| 28/28 [00:09<00:00,  2.87batch/s, loss=0.7031]\n"
     ]
    },
    {
     "name": "stdout",
     "output_type": "stream",
     "text": [
      "[Epoch 73] val_acc=0.713018 train_acc=0.925155 val_loss=0.012814 train_loss=0.010070\n",
      "EarlyStopping counter: 21 out of 30\n"
     ]
    },
    {
     "name": "stderr",
     "output_type": "stream",
     "text": [
      "Epoch 74: 100%|██████████| 28/28 [00:10<00:00,  2.74batch/s, loss=0.6117]\n"
     ]
    },
    {
     "name": "stdout",
     "output_type": "stream",
     "text": [
      "[Epoch 74] val_acc=0.736686 train_acc=0.933033 val_loss=0.012408 train_loss=0.009929\n",
      "Validation loss decreased (0.012448 --> 0.012408).  Saving model ...\n"
     ]
    },
    {
     "name": "stderr",
     "output_type": "stream",
     "text": [
      "Epoch 75: 100%|██████████| 28/28 [00:10<00:00,  2.63batch/s, loss=0.6387]\n"
     ]
    },
    {
     "name": "stdout",
     "output_type": "stream",
     "text": [
      "[Epoch 75] val_acc=0.701183 train_acc=0.938661 val_loss=0.012986 train_loss=0.009933\n",
      "EarlyStopping counter: 1 out of 30\n"
     ]
    },
    {
     "name": "stderr",
     "output_type": "stream",
     "text": [
      "Epoch 76: 100%|██████████| 28/28 [00:08<00:00,  3.20batch/s, loss=0.6503]\n"
     ]
    },
    {
     "name": "stdout",
     "output_type": "stream",
     "text": [
      "[Epoch 76] val_acc=0.724852 train_acc=0.926280 val_loss=0.012720 train_loss=0.010058\n",
      "EarlyStopping counter: 2 out of 30\n"
     ]
    },
    {
     "name": "stderr",
     "output_type": "stream",
     "text": [
      "Epoch 77: 100%|██████████| 28/28 [00:09<00:00,  2.86batch/s, loss=0.6352]\n"
     ]
    },
    {
     "name": "stdout",
     "output_type": "stream",
     "text": [
      "[Epoch 77] val_acc=0.695266 train_acc=0.928531 val_loss=0.012692 train_loss=0.009921\n",
      "EarlyStopping counter: 3 out of 30\n"
     ]
    },
    {
     "name": "stderr",
     "output_type": "stream",
     "text": [
      "Epoch 78: 100%|██████████| 28/28 [00:10<00:00,  2.78batch/s, loss=0.5831]\n"
     ]
    },
    {
     "name": "stdout",
     "output_type": "stream",
     "text": [
      "[Epoch 78] val_acc=0.701183 train_acc=0.933033 val_loss=0.013387 train_loss=0.010118\n",
      "EarlyStopping counter: 4 out of 30\n"
     ]
    },
    {
     "name": "stderr",
     "output_type": "stream",
     "text": [
      "Epoch 79: 100%|██████████| 28/28 [00:09<00:00,  2.98batch/s, loss=0.6811]\n"
     ]
    },
    {
     "name": "stdout",
     "output_type": "stream",
     "text": [
      "[Epoch 79] val_acc=0.701183 train_acc=0.931908 val_loss=0.013444 train_loss=0.010023\n",
      "EarlyStopping counter: 5 out of 30\n"
     ]
    },
    {
     "name": "stderr",
     "output_type": "stream",
     "text": [
      "Epoch 80: 100%|██████████| 28/28 [00:09<00:00,  3.05batch/s, loss=0.6541]\n"
     ]
    },
    {
     "name": "stdout",
     "output_type": "stream",
     "text": [
      "[Epoch 80] val_acc=0.692308 train_acc=0.934159 val_loss=0.013381 train_loss=0.010041\n",
      "EarlyStopping counter: 6 out of 30\n"
     ]
    },
    {
     "name": "stderr",
     "output_type": "stream",
     "text": [
      "Epoch 81: 100%|██████████| 28/28 [00:08<00:00,  3.19batch/s, loss=0.6434]\n"
     ]
    },
    {
     "name": "stdout",
     "output_type": "stream",
     "text": [
      "[Epoch 81] val_acc=0.695266 train_acc=0.933033 val_loss=0.012793 train_loss=0.010073\n",
      "EarlyStopping counter: 7 out of 30\n"
     ]
    },
    {
     "name": "stderr",
     "output_type": "stream",
     "text": [
      "Epoch 82: 100%|██████████| 28/28 [00:08<00:00,  3.17batch/s, loss=0.6042]\n"
     ]
    },
    {
     "name": "stdout",
     "output_type": "stream",
     "text": [
      "[Epoch 82] val_acc=0.704142 train_acc=0.920653 val_loss=0.012888 train_loss=0.010104\n",
      "EarlyStopping counter: 8 out of 30\n"
     ]
    },
    {
     "name": "stderr",
     "output_type": "stream",
     "text": [
      "Epoch 83: 100%|██████████| 28/28 [00:08<00:00,  3.48batch/s, loss=0.6701]\n"
     ]
    },
    {
     "name": "stdout",
     "output_type": "stream",
     "text": [
      "[Epoch 83] val_acc=0.715976 train_acc=0.943725 val_loss=0.012754 train_loss=0.009804\n",
      "EarlyStopping counter: 9 out of 30\n"
     ]
    },
    {
     "name": "stderr",
     "output_type": "stream",
     "text": [
      "Epoch 84: 100%|██████████| 28/28 [00:08<00:00,  3.21batch/s, loss=0.6302]\n"
     ]
    },
    {
     "name": "stdout",
     "output_type": "stream",
     "text": [
      "[Epoch 84] val_acc=0.715976 train_acc=0.940912 val_loss=0.013059 train_loss=0.009862\n",
      "EarlyStopping counter: 10 out of 30\n"
     ]
    },
    {
     "name": "stderr",
     "output_type": "stream",
     "text": [
      "Epoch 85: 100%|██████████| 28/28 [00:08<00:00,  3.30batch/s, loss=0.6116]\n"
     ]
    },
    {
     "name": "stdout",
     "output_type": "stream",
     "text": [
      "[Epoch 85] val_acc=0.707101 train_acc=0.935847 val_loss=0.012762 train_loss=0.009925\n",
      "EarlyStopping counter: 11 out of 30\n"
     ]
    },
    {
     "name": "stderr",
     "output_type": "stream",
     "text": [
      "Epoch 86: 100%|██████████| 28/28 [00:09<00:00,  2.98batch/s, loss=0.6276]\n"
     ]
    },
    {
     "name": "stdout",
     "output_type": "stream",
     "text": [
      "[Epoch 86] val_acc=0.692308 train_acc=0.939786 val_loss=0.013372 train_loss=0.009757\n",
      "EarlyStopping counter: 12 out of 30\n"
     ]
    },
    {
     "name": "stderr",
     "output_type": "stream",
     "text": [
      "Epoch 87: 100%|██████████| 28/28 [00:08<00:00,  3.17batch/s, loss=0.6512]\n"
     ]
    },
    {
     "name": "stdout",
     "output_type": "stream",
     "text": [
      "[Epoch 87] val_acc=0.692308 train_acc=0.938661 val_loss=0.012984 train_loss=0.009738\n",
      "EarlyStopping counter: 13 out of 30\n"
     ]
    },
    {
     "name": "stderr",
     "output_type": "stream",
     "text": [
      "Epoch 88: 100%|██████████| 28/28 [00:08<00:00,  3.43batch/s, loss=0.6045]\n"
     ]
    },
    {
     "name": "stdout",
     "output_type": "stream",
     "text": [
      "[Epoch 88] val_acc=0.713018 train_acc=0.936972 val_loss=0.013197 train_loss=0.009830\n",
      "EarlyStopping counter: 14 out of 30\n"
     ]
    },
    {
     "name": "stderr",
     "output_type": "stream",
     "text": [
      "Epoch 89: 100%|██████████| 28/28 [00:08<00:00,  3.40batch/s, loss=0.6511]\n"
     ]
    },
    {
     "name": "stdout",
     "output_type": "stream",
     "text": [
      "[Epoch 89] val_acc=0.704142 train_acc=0.943163 val_loss=0.013207 train_loss=0.009788\n",
      "EarlyStopping counter: 15 out of 30\n"
     ]
    },
    {
     "name": "stderr",
     "output_type": "stream",
     "text": [
      "Epoch 90: 100%|██████████| 28/28 [00:08<00:00,  3.14batch/s, loss=0.6432]\n"
     ]
    },
    {
     "name": "stdout",
     "output_type": "stream",
     "text": [
      "[Epoch 90] val_acc=0.701183 train_acc=0.942037 val_loss=0.013320 train_loss=0.009839\n",
      "EarlyStopping counter: 16 out of 30\n"
     ]
    },
    {
     "name": "stderr",
     "output_type": "stream",
     "text": [
      "Epoch 91: 100%|██████████| 28/28 [00:08<00:00,  3.38batch/s, loss=0.6242]\n"
     ]
    },
    {
     "name": "stdout",
     "output_type": "stream",
     "text": [
      "[Epoch 91] val_acc=0.710059 train_acc=0.933596 val_loss=0.012923 train_loss=0.009745\n",
      "EarlyStopping counter: 17 out of 30\n"
     ]
    },
    {
     "name": "stderr",
     "output_type": "stream",
     "text": [
      "Epoch 92: 100%|██████████| 28/28 [00:08<00:00,  3.34batch/s, loss=0.6782]\n"
     ]
    },
    {
     "name": "stdout",
     "output_type": "stream",
     "text": [
      "[Epoch 92] val_acc=0.727811 train_acc=0.942037 val_loss=0.012888 train_loss=0.009860\n",
      "EarlyStopping counter: 18 out of 30\n"
     ]
    },
    {
     "name": "stderr",
     "output_type": "stream",
     "text": [
      "Epoch 93: 100%|██████████| 28/28 [00:08<00:00,  3.23batch/s, loss=0.6255]\n"
     ]
    },
    {
     "name": "stdout",
     "output_type": "stream",
     "text": [
      "[Epoch 93] val_acc=0.718935 train_acc=0.949353 val_loss=0.012794 train_loss=0.009650\n",
      "EarlyStopping counter: 19 out of 30\n"
     ]
    },
    {
     "name": "stderr",
     "output_type": "stream",
     "text": [
      "Epoch 94: 100%|██████████| 28/28 [00:10<00:00,  2.75batch/s, loss=0.6840]\n"
     ]
    },
    {
     "name": "stdout",
     "output_type": "stream",
     "text": [
      "[Epoch 94] val_acc=0.730769 train_acc=0.944851 val_loss=0.013210 train_loss=0.009760\n",
      "EarlyStopping counter: 20 out of 30\n"
     ]
    },
    {
     "name": "stderr",
     "output_type": "stream",
     "text": [
      "Epoch 95: 100%|██████████| 28/28 [00:09<00:00,  2.95batch/s, loss=0.5924]\n"
     ]
    },
    {
     "name": "stdout",
     "output_type": "stream",
     "text": [
      "[Epoch 95] val_acc=0.733728 train_acc=0.938098 val_loss=0.012835 train_loss=0.009771\n",
      "EarlyStopping counter: 21 out of 30\n"
     ]
    },
    {
     "name": "stderr",
     "output_type": "stream",
     "text": [
      "Epoch 96: 100%|██████████| 28/28 [00:08<00:00,  3.33batch/s, loss=0.6399]\n"
     ]
    },
    {
     "name": "stdout",
     "output_type": "stream",
     "text": [
      "[Epoch 96] val_acc=0.730769 train_acc=0.948227 val_loss=0.012703 train_loss=0.009595\n",
      "EarlyStopping counter: 22 out of 30\n"
     ]
    },
    {
     "name": "stderr",
     "output_type": "stream",
     "text": [
      "Epoch 97: 100%|██████████| 28/28 [00:08<00:00,  3.47batch/s, loss=0.5955]\n"
     ]
    },
    {
     "name": "stdout",
     "output_type": "stream",
     "text": [
      "[Epoch 97] val_acc=0.721893 train_acc=0.947102 val_loss=0.012409 train_loss=0.009614\n",
      "EarlyStopping counter: 23 out of 30\n"
     ]
    },
    {
     "name": "stderr",
     "output_type": "stream",
     "text": [
      "Epoch 98: 100%|██████████| 28/28 [00:09<00:00,  2.90batch/s, loss=0.5913]\n"
     ]
    },
    {
     "name": "stdout",
     "output_type": "stream",
     "text": [
      "[Epoch 98] val_acc=0.710059 train_acc=0.951604 val_loss=0.013081 train_loss=0.009608\n",
      "EarlyStopping counter: 24 out of 30\n"
     ]
    },
    {
     "name": "stderr",
     "output_type": "stream",
     "text": [
      "Epoch 99: 100%|██████████| 28/28 [00:09<00:00,  2.99batch/s, loss=0.6222]\n"
     ]
    },
    {
     "name": "stdout",
     "output_type": "stream",
     "text": [
      "[Epoch 99] val_acc=0.718935 train_acc=0.942600 val_loss=0.012344 train_loss=0.009715\n",
      "Validation loss decreased (0.012408 --> 0.012344).  Saving model ...\n"
     ]
    },
    {
     "name": "stderr",
     "output_type": "stream",
     "text": [
      "Epoch 100: 100%|██████████| 28/28 [00:08<00:00,  3.12batch/s, loss=0.6167]\n"
     ]
    },
    {
     "name": "stdout",
     "output_type": "stream",
     "text": [
      "[Epoch 100] val_acc=0.707101 train_acc=0.948227 val_loss=0.012740 train_loss=0.009588\n",
      "EarlyStopping counter: 1 out of 30\n"
     ]
    },
    {
     "name": "stderr",
     "output_type": "stream",
     "text": [
      "Epoch 101: 100%|██████████| 28/28 [00:08<00:00,  3.21batch/s, loss=0.6197]\n"
     ]
    },
    {
     "name": "stdout",
     "output_type": "stream",
     "text": [
      "[Epoch 101] val_acc=0.713018 train_acc=0.952167 val_loss=0.012931 train_loss=0.009548\n",
      "EarlyStopping counter: 2 out of 30\n"
     ]
    },
    {
     "name": "stderr",
     "output_type": "stream",
     "text": [
      "Epoch 102: 100%|██████████| 28/28 [00:09<00:00,  3.05batch/s, loss=0.6695]\n"
     ]
    },
    {
     "name": "stdout",
     "output_type": "stream",
     "text": [
      "[Epoch 102] val_acc=0.710059 train_acc=0.943725 val_loss=0.012926 train_loss=0.009639\n",
      "EarlyStopping counter: 3 out of 30\n"
     ]
    },
    {
     "name": "stderr",
     "output_type": "stream",
     "text": [
      "Epoch 103: 100%|██████████| 28/28 [00:08<00:00,  3.46batch/s, loss=0.6057]\n"
     ]
    },
    {
     "name": "stdout",
     "output_type": "stream",
     "text": [
      "[Epoch 103] val_acc=0.701183 train_acc=0.942037 val_loss=0.012893 train_loss=0.009671\n",
      "EarlyStopping counter: 4 out of 30\n"
     ]
    },
    {
     "name": "stderr",
     "output_type": "stream",
     "text": [
      "Epoch 104: 100%|██████████| 28/28 [00:08<00:00,  3.42batch/s, loss=0.5528]\n"
     ]
    },
    {
     "name": "stdout",
     "output_type": "stream",
     "text": [
      "[Epoch 104] val_acc=0.724852 train_acc=0.957231 val_loss=0.012415 train_loss=0.009364\n",
      "EarlyStopping counter: 5 out of 30\n"
     ]
    },
    {
     "name": "stderr",
     "output_type": "stream",
     "text": [
      "Epoch 105: 100%|██████████| 28/28 [00:11<00:00,  2.49batch/s, loss=0.6174]\n"
     ]
    },
    {
     "name": "stdout",
     "output_type": "stream",
     "text": [
      "[Epoch 105] val_acc=0.701183 train_acc=0.951041 val_loss=0.012665 train_loss=0.009477\n",
      "EarlyStopping counter: 6 out of 30\n"
     ]
    },
    {
     "name": "stderr",
     "output_type": "stream",
     "text": [
      "Epoch 106: 100%|██████████| 28/28 [00:09<00:00,  2.99batch/s, loss=0.6340]\n"
     ]
    },
    {
     "name": "stdout",
     "output_type": "stream",
     "text": [
      "[Epoch 106] val_acc=0.715976 train_acc=0.949353 val_loss=0.012833 train_loss=0.009527\n",
      "EarlyStopping counter: 7 out of 30\n"
     ]
    },
    {
     "name": "stderr",
     "output_type": "stream",
     "text": [
      "Epoch 107: 100%|██████████| 28/28 [00:08<00:00,  3.15batch/s, loss=0.5928]\n"
     ]
    },
    {
     "name": "stdout",
     "output_type": "stream",
     "text": [
      "[Epoch 107] val_acc=0.704142 train_acc=0.940912 val_loss=0.013019 train_loss=0.009797\n",
      "EarlyStopping counter: 8 out of 30\n"
     ]
    },
    {
     "name": "stderr",
     "output_type": "stream",
     "text": [
      "Epoch 108: 100%|██████████| 28/28 [00:10<00:00,  2.65batch/s, loss=0.5940]\n"
     ]
    },
    {
     "name": "stdout",
     "output_type": "stream",
     "text": [
      "[Epoch 108] val_acc=0.686391 train_acc=0.952167 val_loss=0.013315 train_loss=0.009476\n",
      "EarlyStopping counter: 9 out of 30\n"
     ]
    },
    {
     "name": "stderr",
     "output_type": "stream",
     "text": [
      "Epoch 109: 100%|██████████| 28/28 [00:09<00:00,  3.06batch/s, loss=0.6416]\n"
     ]
    },
    {
     "name": "stdout",
     "output_type": "stream",
     "text": [
      "[Epoch 109] val_acc=0.713018 train_acc=0.944288 val_loss=0.012829 train_loss=0.009625\n",
      "EarlyStopping counter: 10 out of 30\n"
     ]
    },
    {
     "name": "stderr",
     "output_type": "stream",
     "text": [
      "Epoch 110: 100%|██████████| 28/28 [00:09<00:00,  2.81batch/s, loss=0.6111]\n"
     ]
    },
    {
     "name": "stdout",
     "output_type": "stream",
     "text": [
      "[Epoch 110] val_acc=0.736686 train_acc=0.955543 val_loss=0.012487 train_loss=0.009433\n",
      "EarlyStopping counter: 11 out of 30\n"
     ]
    },
    {
     "name": "stderr",
     "output_type": "stream",
     "text": [
      "Epoch 111: 100%|██████████| 28/28 [00:11<00:00,  2.54batch/s, loss=0.6109]\n"
     ]
    },
    {
     "name": "stdout",
     "output_type": "stream",
     "text": [
      "[Epoch 111] val_acc=0.724852 train_acc=0.960608 val_loss=0.012783 train_loss=0.009274\n",
      "EarlyStopping counter: 12 out of 30\n"
     ]
    },
    {
     "name": "stderr",
     "output_type": "stream",
     "text": [
      "Epoch 112: 100%|██████████| 28/28 [00:10<00:00,  2.59batch/s, loss=0.6037]\n"
     ]
    },
    {
     "name": "stdout",
     "output_type": "stream",
     "text": [
      "[Epoch 112] val_acc=0.727811 train_acc=0.970174 val_loss=0.012678 train_loss=0.009177\n",
      "EarlyStopping counter: 13 out of 30\n"
     ]
    },
    {
     "name": "stderr",
     "output_type": "stream",
     "text": [
      "Epoch 113: 100%|██████████| 28/28 [00:09<00:00,  2.92batch/s, loss=0.6085]\n"
     ]
    },
    {
     "name": "stdout",
     "output_type": "stream",
     "text": [
      "[Epoch 113] val_acc=0.736686 train_acc=0.965672 val_loss=0.012632 train_loss=0.009183\n",
      "EarlyStopping counter: 14 out of 30\n"
     ]
    },
    {
     "name": "stderr",
     "output_type": "stream",
     "text": [
      "Epoch 114: 100%|██████████| 28/28 [00:09<00:00,  2.91batch/s, loss=0.6033]\n"
     ]
    },
    {
     "name": "stdout",
     "output_type": "stream",
     "text": [
      "[Epoch 114] val_acc=0.727811 train_acc=0.964547 val_loss=0.012353 train_loss=0.009205\n",
      "EarlyStopping counter: 15 out of 30\n"
     ]
    },
    {
     "name": "stderr",
     "output_type": "stream",
     "text": [
      "Epoch 115: 100%|██████████| 28/28 [00:10<00:00,  2.65batch/s, loss=0.5685]\n"
     ]
    },
    {
     "name": "stdout",
     "output_type": "stream",
     "text": [
      "[Epoch 115] val_acc=0.713018 train_acc=0.963984 val_loss=0.012905 train_loss=0.009259\n",
      "EarlyStopping counter: 16 out of 30\n"
     ]
    },
    {
     "name": "stderr",
     "output_type": "stream",
     "text": [
      "Epoch 116: 100%|██████████| 28/28 [00:09<00:00,  2.95batch/s, loss=0.5950]\n"
     ]
    },
    {
     "name": "stdout",
     "output_type": "stream",
     "text": [
      "[Epoch 116] val_acc=0.724852 train_acc=0.973551 val_loss=0.012747 train_loss=0.009082\n",
      "EarlyStopping counter: 17 out of 30\n"
     ]
    },
    {
     "name": "stderr",
     "output_type": "stream",
     "text": [
      "Epoch 117: 100%|██████████| 28/28 [00:10<00:00,  2.72batch/s, loss=0.6002]\n"
     ]
    },
    {
     "name": "stdout",
     "output_type": "stream",
     "text": [
      "[Epoch 117] val_acc=0.733728 train_acc=0.971300 val_loss=0.012637 train_loss=0.009110\n",
      "EarlyStopping counter: 18 out of 30\n"
     ]
    },
    {
     "name": "stderr",
     "output_type": "stream",
     "text": [
      "Epoch 118: 100%|██████████| 28/28 [00:10<00:00,  2.73batch/s, loss=0.6479]\n"
     ]
    },
    {
     "name": "stdout",
     "output_type": "stream",
     "text": [
      "[Epoch 118] val_acc=0.721893 train_acc=0.972425 val_loss=0.012655 train_loss=0.009214\n",
      "EarlyStopping counter: 19 out of 30\n"
     ]
    },
    {
     "name": "stderr",
     "output_type": "stream",
     "text": [
      "Epoch 119: 100%|██████████| 28/28 [00:10<00:00,  2.61batch/s, loss=0.5834]\n"
     ]
    },
    {
     "name": "stdout",
     "output_type": "stream",
     "text": [
      "[Epoch 119] val_acc=0.727811 train_acc=0.973551 val_loss=0.012559 train_loss=0.009082\n",
      "EarlyStopping counter: 20 out of 30\n"
     ]
    },
    {
     "name": "stderr",
     "output_type": "stream",
     "text": [
      "Epoch 120: 100%|██████████| 28/28 [00:10<00:00,  2.62batch/s, loss=0.6160]\n"
     ]
    },
    {
     "name": "stdout",
     "output_type": "stream",
     "text": [
      "[Epoch 120] val_acc=0.736686 train_acc=0.971863 val_loss=0.012712 train_loss=0.009062\n",
      "EarlyStopping counter: 21 out of 30\n"
     ]
    },
    {
     "name": "stderr",
     "output_type": "stream",
     "text": [
      "Epoch 121: 100%|██████████| 28/28 [00:09<00:00,  3.04batch/s, loss=0.6102]\n"
     ]
    },
    {
     "name": "stdout",
     "output_type": "stream",
     "text": [
      "[Epoch 121] val_acc=0.730769 train_acc=0.974114 val_loss=0.012692 train_loss=0.009073\n",
      "EarlyStopping counter: 22 out of 30\n"
     ]
    },
    {
     "name": "stderr",
     "output_type": "stream",
     "text": [
      "Epoch 122: 100%|██████████| 28/28 [00:08<00:00,  3.38batch/s, loss=0.5966]\n"
     ]
    },
    {
     "name": "stdout",
     "output_type": "stream",
     "text": [
      "[Epoch 122] val_acc=0.736686 train_acc=0.966235 val_loss=0.012530 train_loss=0.009133\n",
      "EarlyStopping counter: 23 out of 30\n"
     ]
    },
    {
     "name": "stderr",
     "output_type": "stream",
     "text": [
      "Epoch 123: 100%|██████████| 28/28 [00:09<00:00,  3.01batch/s, loss=0.5942]\n"
     ]
    },
    {
     "name": "stdout",
     "output_type": "stream",
     "text": [
      "[Epoch 123] val_acc=0.715976 train_acc=0.967923 val_loss=0.012802 train_loss=0.009097\n",
      "EarlyStopping counter: 24 out of 30\n"
     ]
    },
    {
     "name": "stderr",
     "output_type": "stream",
     "text": [
      "Epoch 124: 100%|██████████| 28/28 [00:08<00:00,  3.38batch/s, loss=0.5588]\n"
     ]
    },
    {
     "name": "stdout",
     "output_type": "stream",
     "text": [
      "[Epoch 124] val_acc=0.727811 train_acc=0.980304 val_loss=0.012949 train_loss=0.008948\n",
      "EarlyStopping counter: 25 out of 30\n"
     ]
    },
    {
     "name": "stderr",
     "output_type": "stream",
     "text": [
      "Epoch 125: 100%|██████████| 28/28 [00:08<00:00,  3.13batch/s, loss=0.6124]\n"
     ]
    },
    {
     "name": "stdout",
     "output_type": "stream",
     "text": [
      "[Epoch 125] val_acc=0.739645 train_acc=0.971300 val_loss=0.012890 train_loss=0.009144\n",
      "EarlyStopping counter: 26 out of 30\n"
     ]
    },
    {
     "name": "stderr",
     "output_type": "stream",
     "text": [
      "Epoch 126: 100%|██████████| 28/28 [00:09<00:00,  2.93batch/s, loss=0.5754]\n"
     ]
    },
    {
     "name": "stdout",
     "output_type": "stream",
     "text": [
      "[Epoch 126] val_acc=0.704142 train_acc=0.974676 val_loss=0.013009 train_loss=0.009064\n",
      "EarlyStopping counter: 27 out of 30\n"
     ]
    },
    {
     "name": "stderr",
     "output_type": "stream",
     "text": [
      "Epoch 127: 100%|██████████| 28/28 [00:09<00:00,  2.96batch/s, loss=0.5622]\n"
     ]
    },
    {
     "name": "stdout",
     "output_type": "stream",
     "text": [
      "[Epoch 127] val_acc=0.736686 train_acc=0.969049 val_loss=0.012571 train_loss=0.009071\n",
      "EarlyStopping counter: 28 out of 30\n"
     ]
    },
    {
     "name": "stderr",
     "output_type": "stream",
     "text": [
      "Epoch 128: 100%|██████████| 28/28 [00:08<00:00,  3.44batch/s, loss=0.5727]\n"
     ]
    },
    {
     "name": "stdout",
     "output_type": "stream",
     "text": [
      "[Epoch 128] val_acc=0.724852 train_acc=0.970737 val_loss=0.012558 train_loss=0.009054\n",
      "EarlyStopping counter: 29 out of 30\n"
     ]
    },
    {
     "name": "stderr",
     "output_type": "stream",
     "text": [
      "Epoch 129: 100%|██████████| 28/28 [00:08<00:00,  3.16batch/s, loss=0.5821]\n"
     ]
    },
    {
     "name": "stdout",
     "output_type": "stream",
     "text": [
      "[Epoch 129] val_acc=0.721893 train_acc=0.978053 val_loss=0.013117 train_loss=0.009037\n",
      "EarlyStopping counter: 30 out of 30\n",
      "Early stopping.\n"
     ]
    }
   ],
   "source": [
    "from utils.training import train\n",
    "\n",
    "raw_model = model\n",
    "raw_model.to(device)\n",
    "\n",
    "optimizer = torch.optim.Adam(raw_model.parameters(), lr=0.001, weight_decay=1e-03)\n",
    "scheduler = torch.optim.lr_scheduler.ReduceLROnPlateau(optimizer, mode='min', factor=0.5, patience=5, verbose=True)\n",
    "\n",
    "tr_loader = train_loader\n",
    "\n",
    "train_loss_hist, train_acc_hist, val_loss_hist, val_acc_hist = train(\n",
    "    model=raw_model,\n",
    "    optimizer=optimizer,\n",
    "    loss_func=nn.CrossEntropyLoss(),\n",
    "    train_data=tr_loader,\n",
    "    val_data=val_loader,\n",
    "    early_stopping_patience=10,\n",
    "    scheduler=scheduler,\n",
    "    cp_path=\"models/cnn\",\n",
    "    cp_filename=\"raw.pt\",\n",
    "    n_epochs=150,\n",
    "    show_progress_bar=True,\n",
    ")"
   ]
  },
  {
   "cell_type": "code",
   "execution_count": 130,
   "metadata": {},
   "outputs": [
    {
     "data": {
      "image/png": "[encoded data removed]",
      "text/plain": [
       "<Figure size 640x480 with 1 Axes>"
      ]
     },
     "metadata": {},
     "output_type": "display_data"
    }
   ],
   "source": [
    "plt.plot(train_loss_hist, label=\"Train Loss\")\n",
    "plt.plot(val_loss_hist, label=\"Val Loss\")\n",
    "plt.title(\"Raw Data Model Losses\")\n",
    "plt.xlabel(\"Epoch\")\n",
    "plt.ylabel(\"Loss\")\n",
    "plt.legend()\n",
    "plt.show()"
   ]
  },
  {
   "cell_type": "code",
   "execution_count": 131,
   "metadata": {},
   "outputs": [
    {
     "data": {
      "image/png": "[encoded data removed]",
      "text/plain": [
       "<Figure size 640x480 with 1 Axes>"
      ]
     },
     "metadata": {},
     "output_type": "display_data"
    }
   ],
   "source": [
    "plt.plot(train_acc_hist, label=\"Train Acc\")\n",
    "plt.plot(val_acc_hist, label=\"Val Acc\")\n",
    "plt.title(\"Raw Data Model Accuracies\")\n",
    "plt.xlabel(\"Epoch\")\n",
    "plt.ylabel(\"Accuracy\")\n",
    "plt.legend()\n",
    "plt.show()"
   ]
  },
  {
   "cell_type": "code",
   "execution_count": 138,
   "metadata": {},
   "outputs": [
    {
     "data": {
      "text/plain": [
       "CNN(\n",
       "  (conv_over_time): Sequential(\n",
       "    (0): Conv2d(1, 20, kernel_size=(1, 64), stride=(1, 1), padding=(0, 32), bias=False)\n",
       "    (1): BatchNorm2d(20, eps=0.001, momentum=0.01, affine=True, track_running_stats=True)\n",
       "  )\n",
       "  (conv_over_channels): Sequential(\n",
       "    (0): Conv2d(20, 48, kernel_size=(22, 1), stride=(1, 1), groups=4, bias=False)\n",
       "    (1): BatchNorm2d(48, eps=0.001, momentum=0.01, affine=True, track_running_stats=True)\n",
       "    (2): ELU(alpha=1.0)\n",
       "    (3): AvgPool2d(kernel_size=(1, 4), stride=(1, 4), padding=0)\n",
       "    (4): Dropout(p=0.2, inplace=False)\n",
       "  )\n",
       "  (conv_by_channel_and_point): Sequential(\n",
       "    (0): Conv2d(48, 48, kernel_size=(1, 16), stride=(1, 1), padding=(0, 8), groups=4, bias=False)\n",
       "    (1): Conv2d(48, 24, kernel_size=(1, 1), stride=(1, 1), bias=False)\n",
       "    (2): BatchNorm2d(24, eps=0.001, momentum=0.01, affine=True, track_running_stats=True)\n",
       "    (3): ELU(alpha=1.0)\n",
       "    (4): AvgPool2d(kernel_size=(1, 8), stride=(1, 8), padding=0)\n",
       "    (5): Dropout(p=0.2, inplace=False)\n",
       "    (6): Conv2d(24, 4, kernel_size=(1, 31), stride=(1, 1))\n",
       "  )\n",
       ")"
      ]
     },
     "execution_count": 138,
     "metadata": {},
     "output_type": "execute_result"
    }
   ],
   "source": [
    "# Load best model and test\n",
    "raw_model = torch.load(\"models/cnn/raw.pt\")\n",
    "raw_model.to(device)\n",
    "raw_model.eval()"
   ]
  },
  {
   "cell_type": "code",
   "execution_count": 139,
   "metadata": {},
   "outputs": [
    {
     "name": "stdout",
     "output_type": "stream",
     "text": [
      "Train on raw data, evaluate on raw data\n",
      "Test Acc: 0.6930\n"
     ]
    }
   ],
   "source": [
    "# Evaluate on raw data\n",
    "test_acc = 0\n",
    "with torch.no_grad():\n",
    "    for X, y in test_loader:\n",
    "        X, y = X.to(device), y.to(device)\n",
    "        y_pred = raw_model(X)\n",
    "        test_acc += (y_pred.argmax(dim=1) == y.argmax(dim=1)).sum().item()\n",
    "test_acc /= len(test_loader.dataset)\n",
    "print(\"Train on raw data, evaluate on raw data\")\n",
    "print(f\"Test Acc: {test_acc:.4f}\")"
   ]
  },
  {
   "cell_type": "code",
   "execution_count": 140,
   "metadata": {},
   "outputs": [
    {
     "name": "stdout",
     "output_type": "stream",
     "text": [
      "Train on raw data, evaluate on sub1 data\n",
      "Test Acc: 0.7400\n"
     ]
    }
   ],
   "source": [
    "# Evaluate on sub1 data\n",
    "test_acc = 0\n",
    "with torch.no_grad():\n",
    "    for X, y in test_sub_loader:\n",
    "        X, y = X.to(device), y.to(device)\n",
    "        y_pred = raw_model(X)\n",
    "        test_acc += (y_pred.argmax(dim=1) == y.argmax(dim=1)).sum().item()\n",
    "test_acc /= len(test_sub_loader.dataset)\n",
    "print(\"Train on raw data, evaluate on sub1 data\")\n",
    "print(f\"Test Acc: {test_acc:.4f}\")"
   ]
  },
  {
   "cell_type": "markdown",
   "metadata": {},
   "source": [
    "## Train with augmented data with FT surrogate"
   ]
  },
  {
   "cell_type": "code",
   "execution_count": 51,
   "metadata": {},
   "outputs": [
    {
     "name": "stdout",
     "output_type": "stream",
     "text": [
      "CNN(\n",
      "  (conv_over_time): Sequential(\n",
      "    (0): Conv2d(1, 24, kernel_size=(1, 64), stride=(1, 1), padding=(0, 32))\n",
      "    (1): BatchNorm2d(24, eps=0.001, momentum=0.01, affine=True, track_running_stats=True)\n",
      "  )\n",
      "  (conv_over_channels): Sequential(\n",
      "    (0): Conv2d(24, 120, kernel_size=(22, 1), stride=(1, 1), groups=8)\n",
      "    (1): BatchNorm2d(120, eps=0.001, momentum=0.01, affine=True, track_running_stats=True)\n",
      "    (2): ELU(alpha=1.0)\n",
      "    (3): AvgPool2d(kernel_size=(1, 4), stride=(1, 4), padding=0)\n",
      "    (4): Dropout(p=0.25, inplace=False)\n",
      "  )\n",
      "  (conv_by_channel_and_point): Sequential(\n",
      "    (0): Conv2d(120, 120, kernel_size=(1, 16), stride=(1, 1), padding=(0, 8), groups=8)\n",
      "    (1): Conv2d(120, 32, kernel_size=(1, 1), stride=(1, 1), bias=False)\n",
      "    (2): BatchNorm2d(32, eps=0.001, momentum=0.01, affine=True, track_running_stats=True)\n",
      "    (3): ELU(alpha=1.0)\n",
      "    (4): AvgPool2d(kernel_size=(1, 8), stride=(1, 8), padding=0)\n",
      "    (5): Dropout(p=0.25, inplace=False)\n",
      "    (6): Conv2d(32, 4, kernel_size=(1, 31), stride=(1, 1))\n",
      "  )\n",
      ")\n"
     ]
    },
    {
     "data": {
      "text/plain": [
       "==========================================================================================\n",
       "Layer (type:depth-idx)                   Output Shape              Param #\n",
       "==========================================================================================\n",
       "CNN                                      [1, 4]                    --\n",
       "├─Sequential: 1-1                        [1, 24, 22, 1001]         --\n",
       "│    └─Conv2d: 2-1                       [1, 24, 22, 1001]         1,560\n",
       "│    └─BatchNorm2d: 2-2                  [1, 24, 22, 1001]         48\n",
       "├─Sequential: 1-2                        [1, 120, 1, 250]          --\n",
       "│    └─Conv2d: 2-3                       [1, 120, 1, 1001]         8,040\n",
       "│    └─BatchNorm2d: 2-4                  [1, 120, 1, 1001]         240\n",
       "│    └─ELU: 2-5                          [1, 120, 1, 1001]         --\n",
       "│    └─AvgPool2d: 2-6                    [1, 120, 1, 250]          --\n",
       "│    └─Dropout: 2-7                      [1, 120, 1, 250]          --\n",
       "├─Sequential: 1-3                        [1, 4, 1, 1]              --\n",
       "│    └─Conv2d: 2-8                       [1, 120, 1, 251]          28,920\n",
       "│    └─Conv2d: 2-9                       [1, 32, 1, 251]           3,840\n",
       "│    └─BatchNorm2d: 2-10                 [1, 32, 1, 251]           64\n",
       "│    └─ELU: 2-11                         [1, 32, 1, 251]           --\n",
       "│    └─AvgPool2d: 2-12                   [1, 32, 1, 31]            --\n",
       "│    └─Dropout: 2-13                     [1, 32, 1, 31]            --\n",
       "│    └─Conv2d: 2-14                      [1, 4, 1, 1]              3,972\n",
       "==========================================================================================\n",
       "Total params: 46,684\n",
       "Trainable params: 46,684\n",
       "Non-trainable params: 0\n",
       "Total mult-adds (M): 50.63\n",
       "==========================================================================================\n",
       "Input size (MB): 0.09\n",
       "Forward/backward pass size (MB): 10.75\n",
       "Params size (MB): 0.19\n",
       "Estimated Total Size (MB): 11.02\n",
       "=========================================================================================="
      ]
     },
     "execution_count": 51,
     "metadata": {},
     "output_type": "execute_result"
    }
   ],
   "source": [
    "device = torch.device('mps')\n",
    "\n",
    "model = CNN()\n",
    "model = model.to(device)\n",
    "print(model)\n",
    "summary(model, input_size=(1, 22, 1000), device='mps')"
   ]
  },
  {
   "cell_type": "code",
   "execution_count": 145,
   "metadata": {},
   "outputs": [
    {
     "data": {
      "text/plain": [
       "CNN(\n",
       "  (conv_over_time): Sequential(\n",
       "    (0): Conv2d(1, 16, kernel_size=(1, 64), stride=(1, 1), padding=(0, 32))\n",
       "    (1): BatchNorm2d(16, eps=0.001, momentum=0.01, affine=True, track_running_stats=True)\n",
       "  )\n",
       "  (conv_over_channels): Sequential(\n",
       "    (0): Conv2d(16, 80, kernel_size=(22, 1), stride=(1, 1), groups=8)\n",
       "    (1): BatchNorm2d(80, eps=0.001, momentum=0.01, affine=True, track_running_stats=True)\n",
       "    (2): ELU(alpha=1.0)\n",
       "    (3): AvgPool2d(kernel_size=(1, 4), stride=(1, 4), padding=0)\n",
       "    (4): Dropout(p=0.25, inplace=False)\n",
       "  )\n",
       "  (conv_by_channel_and_point): Sequential(\n",
       "    (0): Conv2d(80, 80, kernel_size=(1, 16), stride=(1, 1), padding=(0, 8), groups=8)\n",
       "    (1): Conv2d(80, 24, kernel_size=(1, 1), stride=(1, 1), bias=False)\n",
       "    (2): BatchNorm2d(24, eps=0.001, momentum=0.01, affine=True, track_running_stats=True)\n",
       "    (3): ELU(alpha=1.0)\n",
       "    (4): AvgPool2d(kernel_size=(1, 8), stride=(1, 8), padding=0)\n",
       "    (5): Dropout(p=0.25, inplace=False)\n",
       "    (6): Conv2d(24, 4, kernel_size=(1, 31), stride=(1, 1))\n",
       "  )\n",
       ")"
      ]
     },
     "execution_count": 145,
     "metadata": {},
     "output_type": "execute_result"
    }
   ],
   "source": [
    "# aug_model = torch.load(\"models/cnn/aug_best.pt\")\n",
    "# aug_model.to(device)"
   ]
  },
  {
   "cell_type": "code",
   "execution_count": 53,
   "metadata": {},
   "outputs": [
    {
     "name": "stdout",
     "output_type": "stream",
     "text": [
      "Using device: mps\n"
     ]
    },
    {
     "name": "stderr",
     "output_type": "stream",
     "text": [
      "Epoch 0: 100%|██████████| 56/56 [00:28<00:00,  1.94batch/s, loss=1.3916]\n"
     ]
    },
    {
     "name": "stdout",
     "output_type": "stream",
     "text": [
      "[Epoch 0] val_acc=0.437870 train_acc=0.449071 val_loss=0.038431 train_loss=0.040566\n",
      "Validation loss decreased (inf --> 0.038431).  Saving model ...\n"
     ]
    },
    {
     "name": "stderr",
     "output_type": "stream",
     "text": [
      "Epoch 1: 100%|██████████| 56/56 [00:26<00:00,  2.14batch/s, loss=1.3716]\n"
     ]
    },
    {
     "name": "stdout",
     "output_type": "stream",
     "text": [
      "[Epoch 1] val_acc=0.479290 train_acc=0.456950 val_loss=0.037438 train_loss=0.039904\n",
      "Validation loss decreased (0.038431 --> 0.037438).  Saving model ...\n"
     ]
    },
    {
     "name": "stderr",
     "output_type": "stream",
     "text": [
      "Epoch 2: 100%|██████████| 56/56 [00:27<00:00,  2.07batch/s, loss=1.2319]\n"
     ]
    },
    {
     "name": "stdout",
     "output_type": "stream",
     "text": [
      "[Epoch 2] val_acc=0.482249 train_acc=0.474395 val_loss=0.036799 train_loss=0.039342\n",
      "Validation loss decreased (0.037438 --> 0.036799).  Saving model ...\n"
     ]
    },
    {
     "name": "stderr",
     "output_type": "stream",
     "text": [
      "Epoch 3: 100%|██████████| 56/56 [00:24<00:00,  2.29batch/s, loss=1.3180]\n"
     ]
    },
    {
     "name": "stdout",
     "output_type": "stream",
     "text": [
      "[Epoch 3] val_acc=0.526627 train_acc=0.484524 val_loss=0.035961 train_loss=0.038611\n",
      "Validation loss decreased (0.036799 --> 0.035961).  Saving model ...\n"
     ]
    },
    {
     "name": "stderr",
     "output_type": "stream",
     "text": [
      "Epoch 4: 100%|██████████| 56/56 [00:24<00:00,  2.29batch/s, loss=1.0618]\n"
     ]
    },
    {
     "name": "stdout",
     "output_type": "stream",
     "text": [
      "[Epoch 4] val_acc=0.526627 train_acc=0.504221 val_loss=0.035263 train_loss=0.038376\n",
      "Validation loss decreased (0.035961 --> 0.035263).  Saving model ...\n"
     ]
    },
    {
     "name": "stderr",
     "output_type": "stream",
     "text": [
      "Epoch 5: 100%|██████████| 56/56 [00:27<00:00,  2.05batch/s, loss=1.2126]\n"
     ]
    },
    {
     "name": "stdout",
     "output_type": "stream",
     "text": [
      "[Epoch 5] val_acc=0.541420 train_acc=0.526730 val_loss=0.034525 train_loss=0.037421\n",
      "Validation loss decreased (0.035263 --> 0.034525).  Saving model ...\n"
     ]
    },
    {
     "name": "stderr",
     "output_type": "stream",
     "text": [
      "Epoch 6: 100%|██████████| 56/56 [00:26<00:00,  2.15batch/s, loss=1.0246]\n"
     ]
    },
    {
     "name": "stdout",
     "output_type": "stream",
     "text": [
      "[Epoch 6] val_acc=0.591716 train_acc=0.530107 val_loss=0.032885 train_loss=0.037392\n",
      "Validation loss decreased (0.034525 --> 0.032885).  Saving model ...\n"
     ]
    },
    {
     "name": "stderr",
     "output_type": "stream",
     "text": [
      "Epoch 7: 100%|██████████| 56/56 [00:23<00:00,  2.42batch/s, loss=1.1243]\n"
     ]
    },
    {
     "name": "stdout",
     "output_type": "stream",
     "text": [
      "[Epoch 7] val_acc=0.600592 train_acc=0.544176 val_loss=0.031815 train_loss=0.037169\n",
      "Validation loss decreased (0.032885 --> 0.031815).  Saving model ...\n"
     ]
    },
    {
     "name": "stderr",
     "output_type": "stream",
     "text": [
      "Epoch 8: 100%|██████████| 56/56 [00:26<00:00,  2.14batch/s, loss=1.2442]\n"
     ]
    },
    {
     "name": "stdout",
     "output_type": "stream",
     "text": [
      "[Epoch 8] val_acc=0.591716 train_acc=0.536860 val_loss=0.032163 train_loss=0.036928\n",
      "EarlyStopping counter: 1 out of 30\n"
     ]
    },
    {
     "name": "stderr",
     "output_type": "stream",
     "text": [
      "Epoch 9: 100%|██████████| 56/56 [00:25<00:00,  2.17batch/s, loss=1.0807]\n"
     ]
    },
    {
     "name": "stdout",
     "output_type": "stream",
     "text": [
      "[Epoch 9] val_acc=0.594675 train_acc=0.551491 val_loss=0.031504 train_loss=0.036356\n",
      "Validation loss decreased (0.031815 --> 0.031504).  Saving model ...\n"
     ]
    },
    {
     "name": "stderr",
     "output_type": "stream",
     "text": [
      "Epoch 10: 100%|██████████| 56/56 [00:25<00:00,  2.21batch/s, loss=1.1950]\n"
     ]
    },
    {
     "name": "stdout",
     "output_type": "stream",
     "text": [
      "[Epoch 10] val_acc=0.603550 train_acc=0.567811 val_loss=0.030663 train_loss=0.035768\n",
      "Validation loss decreased (0.031504 --> 0.030663).  Saving model ...\n"
     ]
    },
    {
     "name": "stderr",
     "output_type": "stream",
     "text": [
      "Epoch 11: 100%|██████████| 56/56 [00:24<00:00,  2.32batch/s, loss=1.0097]\n"
     ]
    },
    {
     "name": "stdout",
     "output_type": "stream",
     "text": [
      "[Epoch 11] val_acc=0.639053 train_acc=0.569499 val_loss=0.030205 train_loss=0.035752\n",
      "Validation loss decreased (0.030663 --> 0.030205).  Saving model ...\n"
     ]
    },
    {
     "name": "stderr",
     "output_type": "stream",
     "text": [
      "Epoch 12: 100%|██████████| 56/56 [00:25<00:00,  2.19batch/s, loss=1.0402]\n"
     ]
    },
    {
     "name": "stdout",
     "output_type": "stream",
     "text": [
      "[Epoch 12] val_acc=0.573964 train_acc=0.571187 val_loss=0.032066 train_loss=0.035241\n",
      "EarlyStopping counter: 1 out of 30\n"
     ]
    },
    {
     "name": "stderr",
     "output_type": "stream",
     "text": [
      "Epoch 13: 100%|██████████| 56/56 [00:25<00:00,  2.16batch/s, loss=1.1584]\n"
     ]
    },
    {
     "name": "stdout",
     "output_type": "stream",
     "text": [
      "[Epoch 13] val_acc=0.633136 train_acc=0.593134 val_loss=0.031948 train_loss=0.034672\n",
      "EarlyStopping counter: 2 out of 30\n"
     ]
    },
    {
     "name": "stderr",
     "output_type": "stream",
     "text": [
      "Epoch 14: 100%|██████████| 56/56 [00:25<00:00,  2.23batch/s, loss=0.9823]\n"
     ]
    },
    {
     "name": "stdout",
     "output_type": "stream",
     "text": [
      "[Epoch 14] val_acc=0.644970 train_acc=0.602138 val_loss=0.028850 train_loss=0.034514\n",
      "Validation loss decreased (0.030205 --> 0.028850).  Saving model ...\n"
     ]
    },
    {
     "name": "stderr",
     "output_type": "stream",
     "text": [
      "Epoch 15: 100%|██████████| 56/56 [00:29<00:00,  1.88batch/s, loss=1.3351]\n"
     ]
    },
    {
     "name": "stdout",
     "output_type": "stream",
     "text": [
      "[Epoch 15] val_acc=0.568047 train_acc=0.589758 val_loss=0.032640 train_loss=0.034873\n",
      "EarlyStopping counter: 1 out of 30\n"
     ]
    },
    {
     "name": "stderr",
     "output_type": "stream",
     "text": [
      "Epoch 16: 100%|██████████| 56/56 [00:27<00:00,  2.05batch/s, loss=1.4334]\n"
     ]
    },
    {
     "name": "stdout",
     "output_type": "stream",
     "text": [
      "[Epoch 16] val_acc=0.630178 train_acc=0.602701 val_loss=0.030998 train_loss=0.034534\n",
      "EarlyStopping counter: 2 out of 30\n"
     ]
    },
    {
     "name": "stderr",
     "output_type": "stream",
     "text": [
      "Epoch 17: 100%|██████████| 56/56 [00:26<00:00,  2.10batch/s, loss=1.0777]\n"
     ]
    },
    {
     "name": "stdout",
     "output_type": "stream",
     "text": [
      "[Epoch 17] val_acc=0.627219 train_acc=0.590321 val_loss=0.029622 train_loss=0.034770\n",
      "EarlyStopping counter: 3 out of 30\n"
     ]
    },
    {
     "name": "stderr",
     "output_type": "stream",
     "text": [
      "Epoch 18: 100%|██████████| 56/56 [00:28<00:00,  1.99batch/s, loss=1.1097]\n"
     ]
    },
    {
     "name": "stdout",
     "output_type": "stream",
     "text": [
      "[Epoch 18] val_acc=0.650888 train_acc=0.608891 val_loss=0.028890 train_loss=0.034399\n",
      "EarlyStopping counter: 4 out of 30\n"
     ]
    },
    {
     "name": "stderr",
     "output_type": "stream",
     "text": [
      "Epoch 19: 100%|██████████| 56/56 [00:28<00:00,  1.99batch/s, loss=1.2690]\n"
     ]
    },
    {
     "name": "stdout",
     "output_type": "stream",
     "text": [
      "[Epoch 19] val_acc=0.639053 train_acc=0.605515 val_loss=0.029160 train_loss=0.033988\n",
      "EarlyStopping counter: 5 out of 30\n"
     ]
    },
    {
     "name": "stderr",
     "output_type": "stream",
     "text": [
      "Epoch 20: 100%|██████████| 56/56 [00:28<00:00,  1.93batch/s, loss=0.9037]\n"
     ]
    },
    {
     "name": "stdout",
     "output_type": "stream",
     "text": [
      "[Epoch 20] val_acc=0.636095 train_acc=0.621272 val_loss=0.029389 train_loss=0.033529\n",
      "EarlyStopping counter: 6 out of 30\n"
     ]
    },
    {
     "name": "stderr",
     "output_type": "stream",
     "text": [
      "Epoch 21: 100%|██████████| 56/56 [00:27<00:00,  2.04batch/s, loss=1.0610]\n"
     ]
    },
    {
     "name": "stdout",
     "output_type": "stream",
     "text": [
      "[Epoch 21] val_acc=0.606509 train_acc=0.616207 val_loss=0.030404 train_loss=0.033641\n",
      "EarlyStopping counter: 7 out of 30\n"
     ]
    },
    {
     "name": "stderr",
     "output_type": "stream",
     "text": [
      "Epoch 22: 100%|██████████| 56/56 [00:26<00:00,  2.11batch/s, loss=0.9056]\n"
     ]
    },
    {
     "name": "stdout",
     "output_type": "stream",
     "text": [
      "[Epoch 22] val_acc=0.582840 train_acc=0.615644 val_loss=0.030183 train_loss=0.033499\n",
      "EarlyStopping counter: 8 out of 30\n"
     ]
    },
    {
     "name": "stderr",
     "output_type": "stream",
     "text": [
      "Epoch 23: 100%|██████████| 56/56 [00:28<00:00,  1.97batch/s, loss=1.2428]\n"
     ]
    },
    {
     "name": "stdout",
     "output_type": "stream",
     "text": [
      "[Epoch 23] val_acc=0.642012 train_acc=0.629150 val_loss=0.028921 train_loss=0.033461\n",
      "EarlyStopping counter: 9 out of 30\n"
     ]
    },
    {
     "name": "stderr",
     "output_type": "stream",
     "text": [
      "Epoch 24: 100%|██████████| 56/56 [00:32<00:00,  1.73batch/s, loss=1.1548]\n"
     ]
    },
    {
     "name": "stdout",
     "output_type": "stream",
     "text": [
      "[Epoch 24] val_acc=0.683432 train_acc=0.637029 val_loss=0.027440 train_loss=0.033083\n",
      "Validation loss decreased (0.028850 --> 0.027440).  Saving model ...\n"
     ]
    },
    {
     "name": "stderr",
     "output_type": "stream",
     "text": [
      "Epoch 25: 100%|██████████| 56/56 [00:28<00:00,  1.99batch/s, loss=0.9946]\n"
     ]
    },
    {
     "name": "stdout",
     "output_type": "stream",
     "text": [
      "[Epoch 25] val_acc=0.698225 train_acc=0.634778 val_loss=0.026961 train_loss=0.032867\n",
      "Validation loss decreased (0.027440 --> 0.026961).  Saving model ...\n"
     ]
    },
    {
     "name": "stderr",
     "output_type": "stream",
     "text": [
      "Epoch 26: 100%|██████████| 56/56 [00:26<00:00,  2.14batch/s, loss=0.9707]\n"
     ]
    },
    {
     "name": "stdout",
     "output_type": "stream",
     "text": [
      "[Epoch 26] val_acc=0.621302 train_acc=0.640405 val_loss=0.030614 train_loss=0.033457\n",
      "EarlyStopping counter: 1 out of 30\n"
     ]
    },
    {
     "name": "stderr",
     "output_type": "stream",
     "text": [
      "Epoch 27: 100%|██████████| 56/56 [00:26<00:00,  2.15batch/s, loss=0.9363]\n"
     ]
    },
    {
     "name": "stdout",
     "output_type": "stream",
     "text": [
      "[Epoch 27] val_acc=0.671598 train_acc=0.649409 val_loss=0.028692 train_loss=0.032584\n",
      "EarlyStopping counter: 2 out of 30\n"
     ]
    },
    {
     "name": "stderr",
     "output_type": "stream",
     "text": [
      "Epoch 28: 100%|██████████| 56/56 [00:24<00:00,  2.31batch/s, loss=0.9765]\n"
     ]
    },
    {
     "name": "stdout",
     "output_type": "stream",
     "text": [
      "[Epoch 28] val_acc=0.612426 train_acc=0.641531 val_loss=0.029674 train_loss=0.032349\n",
      "EarlyStopping counter: 3 out of 30\n"
     ]
    },
    {
     "name": "stderr",
     "output_type": "stream",
     "text": [
      "Epoch 29: 100%|██████████| 56/56 [00:26<00:00,  2.13batch/s, loss=0.9785]\n"
     ]
    },
    {
     "name": "stdout",
     "output_type": "stream",
     "text": [
      "[Epoch 29] val_acc=0.671598 train_acc=0.633652 val_loss=0.027350 train_loss=0.032693\n",
      "EarlyStopping counter: 4 out of 30\n"
     ]
    },
    {
     "name": "stderr",
     "output_type": "stream",
     "text": [
      "Epoch 30: 100%|██████████| 56/56 [00:25<00:00,  2.19batch/s, loss=1.0958]\n"
     ]
    },
    {
     "name": "stdout",
     "output_type": "stream",
     "text": [
      "[Epoch 30] val_acc=0.653846 train_acc=0.646033 val_loss=0.028519 train_loss=0.032401\n",
      "EarlyStopping counter: 5 out of 30\n"
     ]
    },
    {
     "name": "stderr",
     "output_type": "stream",
     "text": [
      "Epoch 31: 100%|██████████| 56/56 [00:27<00:00,  2.00batch/s, loss=0.9004]\n"
     ]
    },
    {
     "name": "stdout",
     "output_type": "stream",
     "text": [
      "[Epoch 31] val_acc=0.650888 train_acc=0.642656 val_loss=0.027855 train_loss=0.032364\n",
      "EarlyStopping counter: 6 out of 30\n"
     ]
    },
    {
     "name": "stderr",
     "output_type": "stream",
     "text": [
      "Epoch 32: 100%|██████████| 56/56 [00:32<00:00,  1.71batch/s, loss=1.1044]\n"
     ]
    },
    {
     "name": "stdout",
     "output_type": "stream",
     "text": [
      "[Epoch 32] val_acc=0.680473 train_acc=0.661790 val_loss=0.027311 train_loss=0.032223\n",
      "EarlyStopping counter: 7 out of 30\n"
     ]
    },
    {
     "name": "stderr",
     "output_type": "stream",
     "text": [
      "Epoch 33: 100%|██████████| 56/56 [00:27<00:00,  2.02batch/s, loss=1.0110]\n"
     ]
    },
    {
     "name": "stdout",
     "output_type": "stream",
     "text": [
      "[Epoch 33] val_acc=0.701183 train_acc=0.671356 val_loss=0.026498 train_loss=0.031900\n",
      "Validation loss decreased (0.026961 --> 0.026498).  Saving model ...\n"
     ]
    },
    {
     "name": "stderr",
     "output_type": "stream",
     "text": [
      "Epoch 34: 100%|██████████| 56/56 [00:27<00:00,  2.01batch/s, loss=1.0567]\n"
     ]
    },
    {
     "name": "stdout",
     "output_type": "stream",
     "text": [
      "[Epoch 34] val_acc=0.644970 train_acc=0.670231 val_loss=0.028194 train_loss=0.031926\n",
      "EarlyStopping counter: 1 out of 30\n"
     ]
    },
    {
     "name": "stderr",
     "output_type": "stream",
     "text": [
      "Epoch 35: 100%|██████████| 56/56 [00:28<00:00,  1.98batch/s, loss=1.0093]\n"
     ]
    },
    {
     "name": "stdout",
     "output_type": "stream",
     "text": [
      "[Epoch 35] val_acc=0.653846 train_acc=0.668542 val_loss=0.028734 train_loss=0.031280\n",
      "EarlyStopping counter: 2 out of 30\n"
     ]
    },
    {
     "name": "stderr",
     "output_type": "stream",
     "text": [
      "Epoch 36: 100%|██████████| 56/56 [00:30<00:00,  1.85batch/s, loss=0.8188]\n"
     ]
    },
    {
     "name": "stdout",
     "output_type": "stream",
     "text": [
      "[Epoch 36] val_acc=0.674556 train_acc=0.682048 val_loss=0.027055 train_loss=0.030965\n",
      "EarlyStopping counter: 3 out of 30\n"
     ]
    },
    {
     "name": "stderr",
     "output_type": "stream",
     "text": [
      "Epoch 37: 100%|██████████| 56/56 [00:26<00:00,  2.11batch/s, loss=1.0426]\n"
     ]
    },
    {
     "name": "stdout",
     "output_type": "stream",
     "text": [
      "[Epoch 37] val_acc=0.665680 train_acc=0.670231 val_loss=0.026960 train_loss=0.031705\n",
      "EarlyStopping counter: 4 out of 30\n"
     ]
    },
    {
     "name": "stderr",
     "output_type": "stream",
     "text": [
      "Epoch 38: 100%|██████████| 56/56 [00:26<00:00,  2.11batch/s, loss=1.0863]\n"
     ]
    },
    {
     "name": "stdout",
     "output_type": "stream",
     "text": [
      "[Epoch 38] val_acc=0.674556 train_acc=0.683737 val_loss=0.026524 train_loss=0.031181\n",
      "EarlyStopping counter: 5 out of 30\n"
     ]
    },
    {
     "name": "stderr",
     "output_type": "stream",
     "text": [
      "Epoch 39: 100%|██████████| 56/56 [00:26<00:00,  2.11batch/s, loss=1.0485]\n"
     ]
    },
    {
     "name": "stdout",
     "output_type": "stream",
     "text": [
      "[Epoch 39] val_acc=0.636095 train_acc=0.686550 val_loss=0.027449 train_loss=0.031134\n",
      "EarlyStopping counter: 6 out of 30\n"
     ]
    },
    {
     "name": "stderr",
     "output_type": "stream",
     "text": [
      "Epoch 40: 100%|██████████| 56/56 [00:26<00:00,  2.10batch/s, loss=0.9512]\n"
     ]
    },
    {
     "name": "stdout",
     "output_type": "stream",
     "text": [
      "[Epoch 40] val_acc=0.636095 train_acc=0.666854 val_loss=0.028535 train_loss=0.031637\n",
      "EarlyStopping counter: 7 out of 30\n"
     ]
    },
    {
     "name": "stderr",
     "output_type": "stream",
     "text": [
      "Epoch 41: 100%|██████████| 56/56 [00:27<00:00,  2.05batch/s, loss=1.0609]\n"
     ]
    },
    {
     "name": "stdout",
     "output_type": "stream",
     "text": [
      "[Epoch 41] val_acc=0.644970 train_acc=0.688239 val_loss=0.027343 train_loss=0.031079\n",
      "EarlyStopping counter: 8 out of 30\n"
     ]
    },
    {
     "name": "stderr",
     "output_type": "stream",
     "text": [
      "Epoch 42: 100%|██████████| 56/56 [00:26<00:00,  2.08batch/s, loss=0.9950]\n"
     ]
    },
    {
     "name": "stdout",
     "output_type": "stream",
     "text": [
      "[Epoch 42] val_acc=0.683432 train_acc=0.690490 val_loss=0.027259 train_loss=0.030884\n",
      "EarlyStopping counter: 9 out of 30\n"
     ]
    },
    {
     "name": "stderr",
     "output_type": "stream",
     "text": [
      "Epoch 43: 100%|██████████| 56/56 [00:28<00:00,  1.96batch/s, loss=0.8756]\n"
     ]
    },
    {
     "name": "stdout",
     "output_type": "stream",
     "text": [
      "[Epoch 43] val_acc=0.677515 train_acc=0.681486 val_loss=0.026735 train_loss=0.030997\n",
      "EarlyStopping counter: 10 out of 30\n"
     ]
    },
    {
     "name": "stderr",
     "output_type": "stream",
     "text": [
      "Epoch 44: 100%|██████████| 56/56 [00:24<00:00,  2.29batch/s, loss=0.9265]\n"
     ]
    },
    {
     "name": "stdout",
     "output_type": "stream",
     "text": [
      "[Epoch 44] val_acc=0.701183 train_acc=0.692741 val_loss=0.026074 train_loss=0.030511\n",
      "Validation loss decreased (0.026498 --> 0.026074).  Saving model ...\n"
     ]
    },
    {
     "name": "stderr",
     "output_type": "stream",
     "text": [
      "Epoch 45: 100%|██████████| 56/56 [00:28<00:00,  1.94batch/s, loss=0.7897]\n"
     ]
    },
    {
     "name": "stdout",
     "output_type": "stream",
     "text": [
      "[Epoch 45] val_acc=0.642012 train_acc=0.688239 val_loss=0.027691 train_loss=0.030643\n",
      "EarlyStopping counter: 1 out of 30\n"
     ]
    },
    {
     "name": "stderr",
     "output_type": "stream",
     "text": [
      "Epoch 46: 100%|██████████| 56/56 [00:28<00:00,  1.94batch/s, loss=0.8853]\n"
     ]
    },
    {
     "name": "stdout",
     "output_type": "stream",
     "text": [
      "[Epoch 46] val_acc=0.659763 train_acc=0.689927 val_loss=0.027994 train_loss=0.030510\n",
      "EarlyStopping counter: 2 out of 30\n"
     ]
    },
    {
     "name": "stderr",
     "output_type": "stream",
     "text": [
      "Epoch 47: 100%|██████████| 56/56 [00:29<00:00,  1.92batch/s, loss=0.9266]\n"
     ]
    },
    {
     "name": "stdout",
     "output_type": "stream",
     "text": [
      "[Epoch 47] val_acc=0.674556 train_acc=0.694429 val_loss=0.027410 train_loss=0.030431\n",
      "EarlyStopping counter: 3 out of 30\n"
     ]
    },
    {
     "name": "stderr",
     "output_type": "stream",
     "text": [
      "Epoch 48: 100%|██████████| 56/56 [00:25<00:00,  2.19batch/s, loss=1.0387]\n"
     ]
    },
    {
     "name": "stdout",
     "output_type": "stream",
     "text": [
      "[Epoch 48] val_acc=0.653846 train_acc=0.686550 val_loss=0.027220 train_loss=0.030294\n",
      "EarlyStopping counter: 4 out of 30\n"
     ]
    },
    {
     "name": "stderr",
     "output_type": "stream",
     "text": [
      "Epoch 49: 100%|██████████| 56/56 [00:26<00:00,  2.12batch/s, loss=0.9350]\n"
     ]
    },
    {
     "name": "stdout",
     "output_type": "stream",
     "text": [
      "[Epoch 49] val_acc=0.674556 train_acc=0.693866 val_loss=0.026217 train_loss=0.030780\n",
      "EarlyStopping counter: 5 out of 30\n"
     ]
    },
    {
     "name": "stderr",
     "output_type": "stream",
     "text": [
      "Epoch 50: 100%|██████████| 56/56 [00:25<00:00,  2.19batch/s, loss=0.9037]\n"
     ]
    },
    {
     "name": "stdout",
     "output_type": "stream",
     "text": [
      "[Epoch 50] val_acc=0.665680 train_acc=0.715813 val_loss=0.026576 train_loss=0.029650\n",
      "EarlyStopping counter: 6 out of 30\n"
     ]
    },
    {
     "name": "stderr",
     "output_type": "stream",
     "text": [
      "Epoch 51: 100%|██████████| 56/56 [00:26<00:00,  2.13batch/s, loss=0.9257]\n"
     ]
    },
    {
     "name": "stdout",
     "output_type": "stream",
     "text": [
      "[Epoch 51] val_acc=0.701183 train_acc=0.700056 val_loss=0.027215 train_loss=0.029900\n",
      "EarlyStopping counter: 7 out of 30\n"
     ]
    },
    {
     "name": "stderr",
     "output_type": "stream",
     "text": [
      "Epoch 52: 100%|██████████| 56/56 [00:25<00:00,  2.20batch/s, loss=1.1788]\n"
     ]
    },
    {
     "name": "stdout",
     "output_type": "stream",
     "text": [
      "[Epoch 52] val_acc=0.639053 train_acc=0.709060 val_loss=0.029119 train_loss=0.029975\n",
      "EarlyStopping counter: 8 out of 30\n"
     ]
    },
    {
     "name": "stderr",
     "output_type": "stream",
     "text": [
      "Epoch 53: 100%|██████████| 56/56 [00:29<00:00,  1.93batch/s, loss=1.0736]\n"
     ]
    },
    {
     "name": "stdout",
     "output_type": "stream",
     "text": [
      "[Epoch 53] val_acc=0.680473 train_acc=0.684862 val_loss=0.027784 train_loss=0.030767\n",
      "EarlyStopping counter: 9 out of 30\n"
     ]
    },
    {
     "name": "stderr",
     "output_type": "stream",
     "text": [
      "Epoch 54: 100%|██████████| 56/56 [00:33<00:00,  1.68batch/s, loss=0.9601]\n"
     ]
    },
    {
     "name": "stdout",
     "output_type": "stream",
     "text": [
      "[Epoch 54] val_acc=0.680473 train_acc=0.713562 val_loss=0.026002 train_loss=0.029869\n",
      "Validation loss decreased (0.026074 --> 0.026002).  Saving model ...\n"
     ]
    },
    {
     "name": "stderr",
     "output_type": "stream",
     "text": [
      "Epoch 55: 100%|██████████| 56/56 [00:30<00:00,  1.86batch/s, loss=1.0724]\n"
     ]
    },
    {
     "name": "stdout",
     "output_type": "stream",
     "text": [
      "[Epoch 55] val_acc=0.686391 train_acc=0.709060 val_loss=0.026167 train_loss=0.030088\n",
      "EarlyStopping counter: 1 out of 30\n"
     ]
    },
    {
     "name": "stderr",
     "output_type": "stream",
     "text": [
      "Epoch 56: 100%|██████████| 56/56 [00:31<00:00,  1.77batch/s, loss=0.9723]\n"
     ]
    },
    {
     "name": "stdout",
     "output_type": "stream",
     "text": [
      "[Epoch 56] val_acc=0.680473 train_acc=0.703995 val_loss=0.026368 train_loss=0.029840\n",
      "EarlyStopping counter: 2 out of 30\n"
     ]
    },
    {
     "name": "stderr",
     "output_type": "stream",
     "text": [
      "Epoch 57: 100%|██████████| 56/56 [00:29<00:00,  1.88batch/s, loss=0.8618]\n"
     ]
    },
    {
     "name": "stdout",
     "output_type": "stream",
     "text": [
      "[Epoch 57] val_acc=0.680473 train_acc=0.736635 val_loss=0.026540 train_loss=0.028747\n",
      "EarlyStopping counter: 3 out of 30\n"
     ]
    },
    {
     "name": "stderr",
     "output_type": "stream",
     "text": [
      "Epoch 58: 100%|██████████| 56/56 [00:27<00:00,  2.00batch/s, loss=0.9685]\n"
     ]
    },
    {
     "name": "stdout",
     "output_type": "stream",
     "text": [
      "[Epoch 58] val_acc=0.689349 train_acc=0.758019 val_loss=0.025864 train_loss=0.028353\n",
      "Validation loss decreased (0.026002 --> 0.025864).  Saving model ...\n"
     ]
    },
    {
     "name": "stderr",
     "output_type": "stream",
     "text": [
      "Epoch 59: 100%|██████████| 56/56 [00:28<00:00,  1.95batch/s, loss=1.1099]\n"
     ]
    },
    {
     "name": "stdout",
     "output_type": "stream",
     "text": [
      "[Epoch 59] val_acc=0.698225 train_acc=0.722566 val_loss=0.026066 train_loss=0.029192\n",
      "EarlyStopping counter: 1 out of 30\n"
     ]
    },
    {
     "name": "stderr",
     "output_type": "stream",
     "text": [
      "Epoch 60: 100%|██████████| 56/56 [00:28<00:00,  1.95batch/s, loss=0.9857]\n"
     ]
    },
    {
     "name": "stdout",
     "output_type": "stream",
     "text": [
      "[Epoch 60] val_acc=0.715976 train_acc=0.740011 val_loss=0.024895 train_loss=0.028433\n",
      "Validation loss decreased (0.025864 --> 0.024895).  Saving model ...\n"
     ]
    },
    {
     "name": "stderr",
     "output_type": "stream",
     "text": [
      "Epoch 61: 100%|██████████| 56/56 [00:28<00:00,  1.95batch/s, loss=0.8221]\n"
     ]
    },
    {
     "name": "stdout",
     "output_type": "stream",
     "text": [
      "[Epoch 61] val_acc=0.710059 train_acc=0.748452 val_loss=0.025085 train_loss=0.028618\n",
      "EarlyStopping counter: 1 out of 30\n"
     ]
    },
    {
     "name": "stderr",
     "output_type": "stream",
     "text": [
      "Epoch 62: 100%|██████████| 56/56 [00:28<00:00,  1.94batch/s, loss=0.9498]\n"
     ]
    },
    {
     "name": "stdout",
     "output_type": "stream",
     "text": [
      "[Epoch 62] val_acc=0.713018 train_acc=0.732696 val_loss=0.025873 train_loss=0.028296\n",
      "EarlyStopping counter: 2 out of 30\n"
     ]
    },
    {
     "name": "stderr",
     "output_type": "stream",
     "text": [
      "Epoch 63: 100%|██████████| 56/56 [00:30<00:00,  1.84batch/s, loss=0.8558]\n"
     ]
    },
    {
     "name": "stdout",
     "output_type": "stream",
     "text": [
      "[Epoch 63] val_acc=0.698225 train_acc=0.748452 val_loss=0.026015 train_loss=0.027976\n",
      "EarlyStopping counter: 3 out of 30\n"
     ]
    },
    {
     "name": "stderr",
     "output_type": "stream",
     "text": [
      "Epoch 64: 100%|██████████| 56/56 [00:28<00:00,  1.97batch/s, loss=1.1648]\n"
     ]
    },
    {
     "name": "stdout",
     "output_type": "stream",
     "text": [
      "[Epoch 64] val_acc=0.718935 train_acc=0.732133 val_loss=0.025385 train_loss=0.028794\n",
      "EarlyStopping counter: 4 out of 30\n"
     ]
    },
    {
     "name": "stderr",
     "output_type": "stream",
     "text": [
      "Epoch 65: 100%|██████████| 56/56 [00:30<00:00,  1.82batch/s, loss=0.8084]\n"
     ]
    },
    {
     "name": "stdout",
     "output_type": "stream",
     "text": [
      "[Epoch 65] val_acc=0.695266 train_acc=0.751266 val_loss=0.025725 train_loss=0.028200\n",
      "EarlyStopping counter: 5 out of 30\n"
     ]
    },
    {
     "name": "stderr",
     "output_type": "stream",
     "text": [
      "Epoch 66: 100%|██████████| 56/56 [00:28<00:00,  1.94batch/s, loss=1.0045]\n"
     ]
    },
    {
     "name": "stdout",
     "output_type": "stream",
     "text": [
      "[Epoch 66] val_acc=0.695266 train_acc=0.742825 val_loss=0.025640 train_loss=0.027705\n",
      "EarlyStopping counter: 6 out of 30\n"
     ]
    },
    {
     "name": "stderr",
     "output_type": "stream",
     "text": [
      "Epoch 67: 100%|██████████| 56/56 [00:28<00:00,  1.95batch/s, loss=0.8910]\n"
     ]
    },
    {
     "name": "stdout",
     "output_type": "stream",
     "text": [
      "[Epoch 67] val_acc=0.707101 train_acc=0.736072 val_loss=0.024878 train_loss=0.028549\n",
      "Validation loss decreased (0.024895 --> 0.024878).  Saving model ...\n"
     ]
    },
    {
     "name": "stderr",
     "output_type": "stream",
     "text": [
      "Epoch 68: 100%|██████████| 56/56 [00:27<00:00,  2.03batch/s, loss=0.9461]\n"
     ]
    },
    {
     "name": "stdout",
     "output_type": "stream",
     "text": [
      "[Epoch 68] val_acc=0.704142 train_acc=0.760833 val_loss=0.024818 train_loss=0.027756\n",
      "Validation loss decreased (0.024878 --> 0.024818).  Saving model ...\n"
     ]
    },
    {
     "name": "stderr",
     "output_type": "stream",
     "text": [
      "Epoch 69: 100%|██████████| 56/56 [00:27<00:00,  2.03batch/s, loss=1.1088]\n"
     ]
    },
    {
     "name": "stdout",
     "output_type": "stream",
     "text": [
      "[Epoch 69] val_acc=0.713018 train_acc=0.746764 val_loss=0.025336 train_loss=0.027855\n",
      "EarlyStopping counter: 1 out of 30\n"
     ]
    },
    {
     "name": "stderr",
     "output_type": "stream",
     "text": [
      "Epoch 70: 100%|██████████| 56/56 [00:26<00:00,  2.12batch/s, loss=0.8690]\n"
     ]
    },
    {
     "name": "stdout",
     "output_type": "stream",
     "text": [
      "[Epoch 70] val_acc=0.650888 train_acc=0.774902 val_loss=0.027223 train_loss=0.027459\n",
      "EarlyStopping counter: 2 out of 30\n"
     ]
    },
    {
     "name": "stderr",
     "output_type": "stream",
     "text": [
      "Epoch 71: 100%|██████████| 56/56 [00:27<00:00,  2.03batch/s, loss=0.7659]\n"
     ]
    },
    {
     "name": "stdout",
     "output_type": "stream",
     "text": [
      "[Epoch 71] val_acc=0.739645 train_acc=0.761396 val_loss=0.024317 train_loss=0.027630\n",
      "Validation loss decreased (0.024818 --> 0.024317).  Saving model ...\n"
     ]
    },
    {
     "name": "stderr",
     "output_type": "stream",
     "text": [
      "Epoch 72: 100%|██████████| 56/56 [00:28<00:00,  1.98batch/s, loss=0.7704]\n"
     ]
    },
    {
     "name": "stdout",
     "output_type": "stream",
     "text": [
      "[Epoch 72] val_acc=0.718935 train_acc=0.754643 val_loss=0.024606 train_loss=0.027532\n",
      "EarlyStopping counter: 1 out of 30\n"
     ]
    },
    {
     "name": "stderr",
     "output_type": "stream",
     "text": [
      "Epoch 73: 100%|██████████| 56/56 [00:28<00:00,  2.00batch/s, loss=0.8249]\n"
     ]
    },
    {
     "name": "stdout",
     "output_type": "stream",
     "text": [
      "[Epoch 73] val_acc=0.724852 train_acc=0.759707 val_loss=0.024434 train_loss=0.027615\n",
      "EarlyStopping counter: 2 out of 30\n"
     ]
    },
    {
     "name": "stderr",
     "output_type": "stream",
     "text": [
      "Epoch 74: 100%|██████████| 56/56 [00:30<00:00,  1.81batch/s, loss=0.9994]\n"
     ]
    },
    {
     "name": "stdout",
     "output_type": "stream",
     "text": [
      "[Epoch 74] val_acc=0.704142 train_acc=0.751266 val_loss=0.025314 train_loss=0.027899\n",
      "EarlyStopping counter: 3 out of 30\n"
     ]
    },
    {
     "name": "stderr",
     "output_type": "stream",
     "text": [
      "Epoch 75: 100%|██████████| 56/56 [00:28<00:00,  1.96batch/s, loss=1.0547]\n"
     ]
    },
    {
     "name": "stdout",
     "output_type": "stream",
     "text": [
      "[Epoch 75] val_acc=0.718935 train_acc=0.735509 val_loss=0.024933 train_loss=0.028638\n",
      "EarlyStopping counter: 4 out of 30\n"
     ]
    },
    {
     "name": "stderr",
     "output_type": "stream",
     "text": [
      "Epoch 76: 100%|██████████| 56/56 [00:28<00:00,  1.99batch/s, loss=0.8242]\n"
     ]
    },
    {
     "name": "stdout",
     "output_type": "stream",
     "text": [
      "[Epoch 76] val_acc=0.692308 train_acc=0.768149 val_loss=0.026233 train_loss=0.027843\n",
      "EarlyStopping counter: 5 out of 30\n"
     ]
    },
    {
     "name": "stderr",
     "output_type": "stream",
     "text": [
      "Epoch 77: 100%|██████████| 56/56 [00:28<00:00,  2.00batch/s, loss=0.9593]\n"
     ]
    },
    {
     "name": "stdout",
     "output_type": "stream",
     "text": [
      "[Epoch 77] val_acc=0.730769 train_acc=0.769837 val_loss=0.024789 train_loss=0.027181\n",
      "EarlyStopping counter: 6 out of 30\n"
     ]
    },
    {
     "name": "stderr",
     "output_type": "stream",
     "text": [
      "Epoch 78: 100%|██████████| 56/56 [00:28<00:00,  1.98batch/s, loss=0.7910]\n"
     ]
    },
    {
     "name": "stdout",
     "output_type": "stream",
     "text": [
      "[Epoch 78] val_acc=0.707101 train_acc=0.770400 val_loss=0.025187 train_loss=0.026905\n",
      "EarlyStopping counter: 7 out of 30\n"
     ]
    },
    {
     "name": "stderr",
     "output_type": "stream",
     "text": [
      "Epoch 79: 100%|██████████| 56/56 [00:27<00:00,  2.02batch/s, loss=0.9559]\n"
     ]
    },
    {
     "name": "stdout",
     "output_type": "stream",
     "text": [
      "[Epoch 79] val_acc=0.724852 train_acc=0.772088 val_loss=0.024536 train_loss=0.026806\n",
      "EarlyStopping counter: 8 out of 30\n"
     ]
    },
    {
     "name": "stderr",
     "output_type": "stream",
     "text": [
      "Epoch 80: 100%|██████████| 56/56 [00:28<00:00,  1.94batch/s, loss=0.8513]\n"
     ]
    },
    {
     "name": "stdout",
     "output_type": "stream",
     "text": [
      "[Epoch 80] val_acc=0.718935 train_acc=0.771525 val_loss=0.024529 train_loss=0.027033\n",
      "EarlyStopping counter: 9 out of 30\n"
     ]
    },
    {
     "name": "stderr",
     "output_type": "stream",
     "text": [
      "Epoch 81: 100%|██████████| 56/56 [00:29<00:00,  1.88batch/s, loss=1.0416]\n"
     ]
    },
    {
     "name": "stdout",
     "output_type": "stream",
     "text": [
      "[Epoch 81] val_acc=0.727811 train_acc=0.785031 val_loss=0.024388 train_loss=0.026783\n",
      "EarlyStopping counter: 10 out of 30\n"
     ]
    },
    {
     "name": "stderr",
     "output_type": "stream",
     "text": [
      "Epoch 82: 100%|██████████| 56/56 [00:29<00:00,  1.87batch/s, loss=0.9523]\n"
     ]
    },
    {
     "name": "stdout",
     "output_type": "stream",
     "text": [
      "[Epoch 82] val_acc=0.721893 train_acc=0.777715 val_loss=0.024470 train_loss=0.027005\n",
      "EarlyStopping counter: 11 out of 30\n"
     ]
    },
    {
     "name": "stderr",
     "output_type": "stream",
     "text": [
      "Epoch 83: 100%|██████████| 56/56 [00:32<00:00,  1.72batch/s, loss=0.7327]\n"
     ]
    },
    {
     "name": "stdout",
     "output_type": "stream",
     "text": [
      "[Epoch 83] val_acc=0.727811 train_acc=0.779966 val_loss=0.024561 train_loss=0.026629\n",
      "EarlyStopping counter: 12 out of 30\n"
     ]
    },
    {
     "name": "stderr",
     "output_type": "stream",
     "text": [
      "Epoch 84: 100%|██████████| 56/56 [00:29<00:00,  1.87batch/s, loss=0.8045]\n"
     ]
    },
    {
     "name": "stdout",
     "output_type": "stream",
     "text": [
      "[Epoch 84] val_acc=0.727811 train_acc=0.764209 val_loss=0.023924 train_loss=0.026929\n",
      "Validation loss decreased (0.024317 --> 0.023924).  Saving model ...\n"
     ]
    },
    {
     "name": "stderr",
     "output_type": "stream",
     "text": [
      "Epoch 85: 100%|██████████| 56/56 [00:31<00:00,  1.80batch/s, loss=0.8661]\n"
     ]
    },
    {
     "name": "stdout",
     "output_type": "stream",
     "text": [
      "[Epoch 85] val_acc=0.721893 train_acc=0.782780 val_loss=0.024446 train_loss=0.027140\n",
      "EarlyStopping counter: 1 out of 30\n"
     ]
    },
    {
     "name": "stderr",
     "output_type": "stream",
     "text": [
      "Epoch 86: 100%|██████████| 56/56 [00:29<00:00,  1.88batch/s, loss=1.0283]\n"
     ]
    },
    {
     "name": "stdout",
     "output_type": "stream",
     "text": [
      "[Epoch 86] val_acc=0.710059 train_acc=0.785594 val_loss=0.024800 train_loss=0.026307\n",
      "EarlyStopping counter: 2 out of 30\n"
     ]
    },
    {
     "name": "stderr",
     "output_type": "stream",
     "text": [
      "Epoch 87: 100%|██████████| 56/56 [00:28<00:00,  1.96batch/s, loss=0.9520]\n"
     ]
    },
    {
     "name": "stdout",
     "output_type": "stream",
     "text": [
      "[Epoch 87] val_acc=0.736686 train_acc=0.776590 val_loss=0.024327 train_loss=0.027182\n",
      "EarlyStopping counter: 3 out of 30\n"
     ]
    },
    {
     "name": "stderr",
     "output_type": "stream",
     "text": [
      "Epoch 88: 100%|██████████| 56/56 [00:28<00:00,  1.99batch/s, loss=0.9207]\n"
     ]
    },
    {
     "name": "stdout",
     "output_type": "stream",
     "text": [
      "[Epoch 88] val_acc=0.727811 train_acc=0.776027 val_loss=0.024126 train_loss=0.026476\n",
      "EarlyStopping counter: 4 out of 30\n"
     ]
    },
    {
     "name": "stderr",
     "output_type": "stream",
     "text": [
      "Epoch 89: 100%|██████████| 56/56 [00:29<00:00,  1.91batch/s, loss=0.9855]\n"
     ]
    },
    {
     "name": "stdout",
     "output_type": "stream",
     "text": [
      "[Epoch 89] val_acc=0.704142 train_acc=0.783343 val_loss=0.024254 train_loss=0.026592\n",
      "EarlyStopping counter: 5 out of 30\n"
     ]
    },
    {
     "name": "stderr",
     "output_type": "stream",
     "text": [
      "Epoch 90: 100%|██████████| 56/56 [00:28<00:00,  1.99batch/s, loss=0.7502]\n"
     ]
    },
    {
     "name": "stdout",
     "output_type": "stream",
     "text": [
      "[Epoch 90] val_acc=0.724852 train_acc=0.796849 val_loss=0.024092 train_loss=0.026166\n",
      "EarlyStopping counter: 6 out of 30\n"
     ]
    },
    {
     "name": "stderr",
     "output_type": "stream",
     "text": [
      "Epoch 91: 100%|██████████| 56/56 [00:32<00:00,  1.71batch/s, loss=0.8613]\n"
     ]
    },
    {
     "name": "stdout",
     "output_type": "stream",
     "text": [
      "[Epoch 91] val_acc=0.736686 train_acc=0.783905 val_loss=0.023784 train_loss=0.026642\n",
      "Validation loss decreased (0.023924 --> 0.023784).  Saving model ...\n"
     ]
    },
    {
     "name": "stderr",
     "output_type": "stream",
     "text": [
      "Epoch 92: 100%|██████████| 56/56 [00:36<00:00,  1.55batch/s, loss=0.8144]\n"
     ]
    },
    {
     "name": "stdout",
     "output_type": "stream",
     "text": [
      "[Epoch 92] val_acc=0.713018 train_acc=0.795723 val_loss=0.024075 train_loss=0.026391\n",
      "EarlyStopping counter: 1 out of 30\n"
     ]
    },
    {
     "name": "stderr",
     "output_type": "stream",
     "text": [
      "Epoch 93: 100%|██████████| 56/56 [00:29<00:00,  1.87batch/s, loss=1.0452]\n"
     ]
    },
    {
     "name": "stdout",
     "output_type": "stream",
     "text": [
      "[Epoch 93] val_acc=0.724852 train_acc=0.792909 val_loss=0.023767 train_loss=0.026718\n",
      "Validation loss decreased (0.023784 --> 0.023767).  Saving model ...\n"
     ]
    },
    {
     "name": "stderr",
     "output_type": "stream",
     "text": [
      "Epoch 94: 100%|██████████| 56/56 [00:33<00:00,  1.68batch/s, loss=0.8253]\n"
     ]
    },
    {
     "name": "stdout",
     "output_type": "stream",
     "text": [
      "[Epoch 94] val_acc=0.727811 train_acc=0.786156 val_loss=0.024121 train_loss=0.026744\n",
      "EarlyStopping counter: 1 out of 30\n"
     ]
    },
    {
     "name": "stderr",
     "output_type": "stream",
     "text": [
      "Epoch 95: 100%|██████████| 56/56 [00:29<00:00,  1.87batch/s, loss=0.7725]\n"
     ]
    },
    {
     "name": "stdout",
     "output_type": "stream",
     "text": [
      "[Epoch 95] val_acc=0.727811 train_acc=0.775464 val_loss=0.023749 train_loss=0.027022\n",
      "Validation loss decreased (0.023767 --> 0.023749).  Saving model ...\n"
     ]
    },
    {
     "name": "stderr",
     "output_type": "stream",
     "text": [
      "Epoch 96: 100%|██████████| 56/56 [00:31<00:00,  1.78batch/s, loss=0.7323]\n"
     ]
    },
    {
     "name": "stdout",
     "output_type": "stream",
     "text": [
      "[Epoch 96] val_acc=0.689349 train_acc=0.775464 val_loss=0.024371 train_loss=0.026654\n",
      "EarlyStopping counter: 1 out of 30\n"
     ]
    },
    {
     "name": "stderr",
     "output_type": "stream",
     "text": [
      "Epoch 97: 100%|██████████| 56/56 [00:29<00:00,  1.89batch/s, loss=0.8044]\n"
     ]
    },
    {
     "name": "stdout",
     "output_type": "stream",
     "text": [
      "[Epoch 97] val_acc=0.748521 train_acc=0.790658 val_loss=0.024023 train_loss=0.026244\n",
      "EarlyStopping counter: 2 out of 30\n"
     ]
    },
    {
     "name": "stderr",
     "output_type": "stream",
     "text": [
      "Epoch 98: 100%|██████████| 56/56 [00:30<00:00,  1.85batch/s, loss=0.8638]\n"
     ]
    },
    {
     "name": "stdout",
     "output_type": "stream",
     "text": [
      "[Epoch 98] val_acc=0.745562 train_acc=0.788407 val_loss=0.023864 train_loss=0.026242\n",
      "EarlyStopping counter: 3 out of 30\n"
     ]
    },
    {
     "name": "stderr",
     "output_type": "stream",
     "text": [
      "Epoch 99: 100%|██████████| 56/56 [00:31<00:00,  1.76batch/s, loss=0.8130]\n"
     ]
    },
    {
     "name": "stdout",
     "output_type": "stream",
     "text": [
      "[Epoch 99] val_acc=0.733728 train_acc=0.796849 val_loss=0.024000 train_loss=0.026192\n",
      "EarlyStopping counter: 4 out of 30\n"
     ]
    },
    {
     "name": "stderr",
     "output_type": "stream",
     "text": [
      "Epoch 100: 100%|██████████| 56/56 [00:29<00:00,  1.91batch/s, loss=0.8264]\n"
     ]
    },
    {
     "name": "stdout",
     "output_type": "stream",
     "text": [
      "[Epoch 100] val_acc=0.745562 train_acc=0.798537 val_loss=0.023762 train_loss=0.026482\n",
      "EarlyStopping counter: 5 out of 30\n"
     ]
    },
    {
     "name": "stderr",
     "output_type": "stream",
     "text": [
      "Epoch 101: 100%|██████████| 56/56 [00:30<00:00,  1.86batch/s, loss=0.7427]\n"
     ]
    },
    {
     "name": "stdout",
     "output_type": "stream",
     "text": [
      "[Epoch 101] val_acc=0.742604 train_acc=0.776590 val_loss=0.023864 train_loss=0.026515\n",
      "EarlyStopping counter: 6 out of 30\n"
     ]
    },
    {
     "name": "stderr",
     "output_type": "stream",
     "text": [
      "Epoch 102: 100%|██████████| 56/56 [00:31<00:00,  1.77batch/s, loss=0.9124]\n"
     ]
    },
    {
     "name": "stdout",
     "output_type": "stream",
     "text": [
      "[Epoch 102] val_acc=0.724852 train_acc=0.797411 val_loss=0.023935 train_loss=0.025987\n",
      "EarlyStopping counter: 7 out of 30\n"
     ]
    },
    {
     "name": "stderr",
     "output_type": "stream",
     "text": [
      "Epoch 103: 100%|██████████| 56/56 [00:33<00:00,  1.67batch/s, loss=0.9159]\n"
     ]
    },
    {
     "name": "stdout",
     "output_type": "stream",
     "text": [
      "[Epoch 103] val_acc=0.748521 train_acc=0.796286 val_loss=0.023695 train_loss=0.025769\n",
      "Validation loss decreased (0.023749 --> 0.023695).  Saving model ...\n"
     ]
    },
    {
     "name": "stderr",
     "output_type": "stream",
     "text": [
      "Epoch 104: 100%|██████████| 56/56 [00:29<00:00,  1.88batch/s, loss=0.8368]\n"
     ]
    },
    {
     "name": "stdout",
     "output_type": "stream",
     "text": [
      "[Epoch 104] val_acc=0.742604 train_acc=0.791784 val_loss=0.023575 train_loss=0.026285\n",
      "Validation loss decreased (0.023695 --> 0.023575).  Saving model ...\n"
     ]
    },
    {
     "name": "stderr",
     "output_type": "stream",
     "text": [
      "Epoch 105: 100%|██████████| 56/56 [00:29<00:00,  1.87batch/s, loss=0.8744]\n"
     ]
    },
    {
     "name": "stdout",
     "output_type": "stream",
     "text": [
      "[Epoch 105] val_acc=0.748521 train_acc=0.805853 val_loss=0.023849 train_loss=0.025982\n",
      "EarlyStopping counter: 1 out of 30\n"
     ]
    },
    {
     "name": "stderr",
     "output_type": "stream",
     "text": [
      "Epoch 106: 100%|██████████| 56/56 [00:28<00:00,  1.94batch/s, loss=0.7973]\n"
     ]
    },
    {
     "name": "stdout",
     "output_type": "stream",
     "text": [
      "[Epoch 106] val_acc=0.742604 train_acc=0.798537 val_loss=0.023725 train_loss=0.025918\n",
      "EarlyStopping counter: 2 out of 30\n"
     ]
    },
    {
     "name": "stderr",
     "output_type": "stream",
     "text": [
      "Epoch 107: 100%|██████████| 56/56 [00:33<00:00,  1.68batch/s, loss=0.7223]\n"
     ]
    },
    {
     "name": "stdout",
     "output_type": "stream",
     "text": [
      "[Epoch 107] val_acc=0.736686 train_acc=0.806415 val_loss=0.023617 train_loss=0.025300\n",
      "EarlyStopping counter: 3 out of 30\n"
     ]
    },
    {
     "name": "stderr",
     "output_type": "stream",
     "text": [
      "Epoch 108: 100%|██████████| 56/56 [00:29<00:00,  1.92batch/s, loss=0.8036]\n"
     ]
    },
    {
     "name": "stdout",
     "output_type": "stream",
     "text": [
      "[Epoch 108] val_acc=0.739645 train_acc=0.787282 val_loss=0.023698 train_loss=0.026135\n",
      "EarlyStopping counter: 4 out of 30\n"
     ]
    },
    {
     "name": "stderr",
     "output_type": "stream",
     "text": [
      "Epoch 109: 100%|██████████| 56/56 [00:35<00:00,  1.59batch/s, loss=0.9262]\n"
     ]
    },
    {
     "name": "stdout",
     "output_type": "stream",
     "text": [
      "[Epoch 109] val_acc=0.754438 train_acc=0.795723 val_loss=0.023385 train_loss=0.025911\n",
      "Validation loss decreased (0.023575 --> 0.023385).  Saving model ...\n"
     ]
    },
    {
     "name": "stderr",
     "output_type": "stream",
     "text": [
      "Epoch 110: 100%|██████████| 56/56 [00:34<00:00,  1.65batch/s, loss=0.6383]\n"
     ]
    },
    {
     "name": "stdout",
     "output_type": "stream",
     "text": [
      "[Epoch 110] val_acc=0.745562 train_acc=0.811480 val_loss=0.023425 train_loss=0.025491\n",
      "EarlyStopping counter: 1 out of 30\n"
     ]
    },
    {
     "name": "stderr",
     "output_type": "stream",
     "text": [
      "Epoch 111: 100%|██████████| 56/56 [00:30<00:00,  1.84batch/s, loss=0.8081]\n"
     ]
    },
    {
     "name": "stdout",
     "output_type": "stream",
     "text": [
      "[Epoch 111] val_acc=0.742604 train_acc=0.788970 val_loss=0.023580 train_loss=0.025878\n",
      "EarlyStopping counter: 2 out of 30\n"
     ]
    },
    {
     "name": "stderr",
     "output_type": "stream",
     "text": [
      "Epoch 112: 100%|██████████| 56/56 [00:29<00:00,  1.89batch/s, loss=0.9466]\n"
     ]
    },
    {
     "name": "stdout",
     "output_type": "stream",
     "text": [
      "[Epoch 112] val_acc=0.754438 train_acc=0.791221 val_loss=0.023472 train_loss=0.026040\n",
      "EarlyStopping counter: 3 out of 30\n"
     ]
    },
    {
     "name": "stderr",
     "output_type": "stream",
     "text": [
      "Epoch 113: 100%|██████████| 56/56 [00:29<00:00,  1.87batch/s, loss=0.8031]\n"
     ]
    },
    {
     "name": "stdout",
     "output_type": "stream",
     "text": [
      "[Epoch 113] val_acc=0.757396 train_acc=0.791784 val_loss=0.023604 train_loss=0.026001\n",
      "EarlyStopping counter: 4 out of 30\n"
     ]
    },
    {
     "name": "stderr",
     "output_type": "stream",
     "text": [
      "Epoch 114: 100%|██████████| 56/56 [00:31<00:00,  1.80batch/s, loss=0.8114]\n"
     ]
    },
    {
     "name": "stdout",
     "output_type": "stream",
     "text": [
      "[Epoch 114] val_acc=0.748521 train_acc=0.779403 val_loss=0.023736 train_loss=0.026296\n",
      "EarlyStopping counter: 5 out of 30\n"
     ]
    },
    {
     "name": "stderr",
     "output_type": "stream",
     "text": [
      "Epoch 115: 100%|██████████| 56/56 [00:30<00:00,  1.83batch/s, loss=0.7879]\n"
     ]
    },
    {
     "name": "stdout",
     "output_type": "stream",
     "text": [
      "[Epoch 115] val_acc=0.739645 train_acc=0.814856 val_loss=0.023544 train_loss=0.025427\n",
      "EarlyStopping counter: 6 out of 30\n"
     ]
    },
    {
     "name": "stderr",
     "output_type": "stream",
     "text": [
      "Epoch 116: 100%|██████████| 56/56 [00:30<00:00,  1.83batch/s, loss=0.8233]\n"
     ]
    },
    {
     "name": "stdout",
     "output_type": "stream",
     "text": [
      "[Epoch 116] val_acc=0.739645 train_acc=0.792909 val_loss=0.023539 train_loss=0.025839\n",
      "EarlyStopping counter: 7 out of 30\n"
     ]
    },
    {
     "name": "stderr",
     "output_type": "stream",
     "text": [
      "Epoch 117: 100%|██████████| 56/56 [00:31<00:00,  1.77batch/s, loss=0.8146]\n"
     ]
    },
    {
     "name": "stdout",
     "output_type": "stream",
     "text": [
      "[Epoch 117] val_acc=0.736686 train_acc=0.806415 val_loss=0.023405 train_loss=0.025771\n",
      "EarlyStopping counter: 8 out of 30\n"
     ]
    },
    {
     "name": "stderr",
     "output_type": "stream",
     "text": [
      "Epoch 118: 100%|██████████| 56/56 [00:34<00:00,  1.60batch/s, loss=0.7674]\n"
     ]
    },
    {
     "name": "stdout",
     "output_type": "stream",
     "text": [
      "[Epoch 118] val_acc=0.742604 train_acc=0.801351 val_loss=0.023425 train_loss=0.025827\n",
      "EarlyStopping counter: 9 out of 30\n"
     ]
    },
    {
     "name": "stderr",
     "output_type": "stream",
     "text": [
      "Epoch 119: 100%|██████████| 56/56 [00:35<00:00,  1.59batch/s, loss=0.7528]\n"
     ]
    },
    {
     "name": "stdout",
     "output_type": "stream",
     "text": [
      "[Epoch 119] val_acc=0.745562 train_acc=0.805290 val_loss=0.023348 train_loss=0.025643\n",
      "Validation loss decreased (0.023385 --> 0.023348).  Saving model ...\n"
     ]
    },
    {
     "name": "stderr",
     "output_type": "stream",
     "text": [
      "Epoch 120: 100%|██████████| 56/56 [00:30<00:00,  1.85batch/s, loss=0.8321]\n"
     ]
    },
    {
     "name": "stdout",
     "output_type": "stream",
     "text": [
      "[Epoch 120] val_acc=0.742604 train_acc=0.807541 val_loss=0.023417 train_loss=0.025436\n",
      "EarlyStopping counter: 1 out of 30\n"
     ]
    },
    {
     "name": "stderr",
     "output_type": "stream",
     "text": [
      "Epoch 121: 100%|██████████| 56/56 [00:29<00:00,  1.90batch/s, loss=0.6184]\n"
     ]
    },
    {
     "name": "stdout",
     "output_type": "stream",
     "text": [
      "[Epoch 121] val_acc=0.745562 train_acc=0.817670 val_loss=0.023434 train_loss=0.025565\n",
      "EarlyStopping counter: 2 out of 30\n"
     ]
    },
    {
     "name": "stderr",
     "output_type": "stream",
     "text": [
      "Epoch 122: 100%|██████████| 56/56 [00:29<00:00,  1.91batch/s, loss=0.6832]\n"
     ]
    },
    {
     "name": "stdout",
     "output_type": "stream",
     "text": [
      "[Epoch 122] val_acc=0.742604 train_acc=0.794035 val_loss=0.023462 train_loss=0.025975\n",
      "EarlyStopping counter: 3 out of 30\n"
     ]
    },
    {
     "name": "stderr",
     "output_type": "stream",
     "text": [
      "Epoch 123: 100%|██████████| 56/56 [00:28<00:00,  1.97batch/s, loss=0.7715]\n"
     ]
    },
    {
     "name": "stdout",
     "output_type": "stream",
     "text": [
      "[Epoch 123] val_acc=0.736686 train_acc=0.794035 val_loss=0.023368 train_loss=0.025706\n",
      "EarlyStopping counter: 4 out of 30\n"
     ]
    },
    {
     "name": "stderr",
     "output_type": "stream",
     "text": [
      "Epoch 124: 100%|██████████| 56/56 [00:29<00:00,  1.87batch/s, loss=0.7569]\n"
     ]
    },
    {
     "name": "stdout",
     "output_type": "stream",
     "text": [
      "[Epoch 124] val_acc=0.739645 train_acc=0.812043 val_loss=0.023392 train_loss=0.025154\n",
      "EarlyStopping counter: 5 out of 30\n"
     ]
    },
    {
     "name": "stderr",
     "output_type": "stream",
     "text": [
      "Epoch 125: 100%|██████████| 56/56 [00:33<00:00,  1.70batch/s, loss=0.7841]\n"
     ]
    },
    {
     "name": "stdout",
     "output_type": "stream",
     "text": [
      "[Epoch 125] val_acc=0.739645 train_acc=0.802476 val_loss=0.023373 train_loss=0.025692\n",
      "EarlyStopping counter: 6 out of 30\n"
     ]
    },
    {
     "name": "stderr",
     "output_type": "stream",
     "text": [
      "Epoch 126: 100%|██████████| 56/56 [00:29<00:00,  1.91batch/s, loss=0.8603]\n"
     ]
    },
    {
     "name": "stdout",
     "output_type": "stream",
     "text": [
      "[Epoch 126] val_acc=0.754438 train_acc=0.813168 val_loss=0.023457 train_loss=0.025542\n",
      "EarlyStopping counter: 7 out of 30\n"
     ]
    },
    {
     "name": "stderr",
     "output_type": "stream",
     "text": [
      "Epoch 127: 100%|██████████| 56/56 [00:29<00:00,  1.93batch/s, loss=0.7475]\n"
     ]
    },
    {
     "name": "stdout",
     "output_type": "stream",
     "text": [
      "[Epoch 127] val_acc=0.751479 train_acc=0.812606 val_loss=0.023405 train_loss=0.025454\n",
      "EarlyStopping counter: 8 out of 30\n"
     ]
    },
    {
     "name": "stderr",
     "output_type": "stream",
     "text": [
      "Epoch 128: 100%|██████████| 56/56 [00:28<00:00,  1.93batch/s, loss=1.1341]\n"
     ]
    },
    {
     "name": "stdout",
     "output_type": "stream",
     "text": [
      "[Epoch 128] val_acc=0.745562 train_acc=0.804164 val_loss=0.023404 train_loss=0.025696\n",
      "EarlyStopping counter: 9 out of 30\n"
     ]
    },
    {
     "name": "stderr",
     "output_type": "stream",
     "text": [
      "Epoch 129: 100%|██████████| 56/56 [00:29<00:00,  1.91batch/s, loss=1.0016]\n"
     ]
    },
    {
     "name": "stdout",
     "output_type": "stream",
     "text": [
      "[Epoch 129] val_acc=0.742604 train_acc=0.814294 val_loss=0.023396 train_loss=0.025795\n",
      "EarlyStopping counter: 10 out of 30\n"
     ]
    },
    {
     "name": "stderr",
     "output_type": "stream",
     "text": [
      "Epoch 130: 100%|██████████| 56/56 [00:29<00:00,  1.92batch/s, loss=0.7974]\n"
     ]
    },
    {
     "name": "stdout",
     "output_type": "stream",
     "text": [
      "[Epoch 130] val_acc=0.745562 train_acc=0.805290 val_loss=0.023397 train_loss=0.025616\n",
      "EarlyStopping counter: 11 out of 30\n"
     ]
    },
    {
     "name": "stderr",
     "output_type": "stream",
     "text": [
      "Epoch 131: 100%|██████████| 56/56 [00:32<00:00,  1.72batch/s, loss=1.0307]\n"
     ]
    },
    {
     "name": "stdout",
     "output_type": "stream",
     "text": [
      "[Epoch 131] val_acc=0.739645 train_acc=0.807541 val_loss=0.023315 train_loss=0.025604\n",
      "Validation loss decreased (0.023348 --> 0.023315).  Saving model ...\n"
     ]
    },
    {
     "name": "stderr",
     "output_type": "stream",
     "text": [
      "Epoch 132: 100%|██████████| 56/56 [00:31<00:00,  1.80batch/s, loss=0.8317]\n"
     ]
    },
    {
     "name": "stdout",
     "output_type": "stream",
     "text": [
      "[Epoch 132] val_acc=0.745562 train_acc=0.806415 val_loss=0.023347 train_loss=0.025311\n",
      "EarlyStopping counter: 1 out of 30\n"
     ]
    },
    {
     "name": "stderr",
     "output_type": "stream",
     "text": [
      "Epoch 133: 100%|██████████| 56/56 [00:26<00:00,  2.08batch/s, loss=0.8080]\n"
     ]
    },
    {
     "name": "stdout",
     "output_type": "stream",
     "text": [
      "[Epoch 133] val_acc=0.745562 train_acc=0.792347 val_loss=0.023314 train_loss=0.025681\n",
      "EarlyStopping counter: 2 out of 30\n"
     ]
    },
    {
     "name": "stderr",
     "output_type": "stream",
     "text": [
      "Epoch 134: 100%|██████████| 56/56 [00:25<00:00,  2.20batch/s, loss=0.7548]\n"
     ]
    },
    {
     "name": "stdout",
     "output_type": "stream",
     "text": [
      "[Epoch 134] val_acc=0.742604 train_acc=0.801913 val_loss=0.023305 train_loss=0.025574\n",
      "Validation loss decreased (0.023315 --> 0.023305).  Saving model ...\n"
     ]
    },
    {
     "name": "stderr",
     "output_type": "stream",
     "text": [
      "Epoch 135: 100%|██████████| 56/56 [00:25<00:00,  2.18batch/s, loss=0.9912]\n"
     ]
    },
    {
     "name": "stdout",
     "output_type": "stream",
     "text": [
      "[Epoch 135] val_acc=0.745562 train_acc=0.794598 val_loss=0.023371 train_loss=0.026097\n",
      "EarlyStopping counter: 1 out of 30\n"
     ]
    },
    {
     "name": "stderr",
     "output_type": "stream",
     "text": [
      "Epoch 136: 100%|██████████| 56/56 [00:25<00:00,  2.19batch/s, loss=0.6962]\n"
     ]
    },
    {
     "name": "stdout",
     "output_type": "stream",
     "text": [
      "[Epoch 136] val_acc=0.745562 train_acc=0.815982 val_loss=0.023350 train_loss=0.025739\n",
      "EarlyStopping counter: 2 out of 30\n"
     ]
    },
    {
     "name": "stderr",
     "output_type": "stream",
     "text": [
      "Epoch 137: 100%|██████████| 56/56 [00:25<00:00,  2.20batch/s, loss=0.8718]\n"
     ]
    },
    {
     "name": "stdout",
     "output_type": "stream",
     "text": [
      "[Epoch 137] val_acc=0.745562 train_acc=0.818796 val_loss=0.023354 train_loss=0.025470\n",
      "EarlyStopping counter: 3 out of 30\n"
     ]
    },
    {
     "name": "stderr",
     "output_type": "stream",
     "text": [
      "Epoch 138: 100%|██████████| 56/56 [00:25<00:00,  2.20batch/s, loss=0.8261]\n"
     ]
    },
    {
     "name": "stdout",
     "output_type": "stream",
     "text": [
      "[Epoch 138] val_acc=0.745562 train_acc=0.803039 val_loss=0.023404 train_loss=0.025751\n",
      "EarlyStopping counter: 4 out of 30\n"
     ]
    },
    {
     "name": "stderr",
     "output_type": "stream",
     "text": [
      "Epoch 139: 100%|██████████| 56/56 [00:25<00:00,  2.19batch/s, loss=0.7627]\n"
     ]
    },
    {
     "name": "stdout",
     "output_type": "stream",
     "text": [
      "[Epoch 139] val_acc=0.745562 train_acc=0.804164 val_loss=0.023377 train_loss=0.025752\n",
      "EarlyStopping counter: 5 out of 30\n"
     ]
    },
    {
     "name": "stderr",
     "output_type": "stream",
     "text": [
      "Epoch 140: 100%|██████████| 56/56 [00:25<00:00,  2.19batch/s, loss=0.8961]\n"
     ]
    },
    {
     "name": "stdout",
     "output_type": "stream",
     "text": [
      "[Epoch 140] val_acc=0.745562 train_acc=0.800788 val_loss=0.023379 train_loss=0.025622\n",
      "EarlyStopping counter: 6 out of 30\n"
     ]
    },
    {
     "name": "stderr",
     "output_type": "stream",
     "text": [
      "Epoch 141: 100%|██████████| 56/56 [00:27<00:00,  2.01batch/s, loss=0.8400]\n"
     ]
    },
    {
     "name": "stdout",
     "output_type": "stream",
     "text": [
      "[Epoch 141] val_acc=0.745562 train_acc=0.796286 val_loss=0.023377 train_loss=0.025959\n",
      "EarlyStopping counter: 7 out of 30\n"
     ]
    },
    {
     "name": "stderr",
     "output_type": "stream",
     "text": [
      "Epoch 142: 100%|██████████| 56/56 [00:25<00:00,  2.21batch/s, loss=0.8214]\n"
     ]
    },
    {
     "name": "stdout",
     "output_type": "stream",
     "text": [
      "[Epoch 142] val_acc=0.745562 train_acc=0.805290 val_loss=0.023383 train_loss=0.025299\n",
      "EarlyStopping counter: 8 out of 30\n"
     ]
    },
    {
     "name": "stderr",
     "output_type": "stream",
     "text": [
      "Epoch 143: 100%|██████████| 56/56 [00:25<00:00,  2.16batch/s, loss=0.9316]\n"
     ]
    },
    {
     "name": "stdout",
     "output_type": "stream",
     "text": [
      "[Epoch 143] val_acc=0.745562 train_acc=0.803039 val_loss=0.023364 train_loss=0.025810\n",
      "EarlyStopping counter: 9 out of 30\n"
     ]
    },
    {
     "name": "stderr",
     "output_type": "stream",
     "text": [
      "Epoch 144: 100%|██████████| 56/56 [00:26<00:00,  2.12batch/s, loss=0.7585]\n"
     ]
    },
    {
     "name": "stdout",
     "output_type": "stream",
     "text": [
      "[Epoch 144] val_acc=0.745562 train_acc=0.811480 val_loss=0.023372 train_loss=0.025766\n",
      "EarlyStopping counter: 10 out of 30\n"
     ]
    },
    {
     "name": "stderr",
     "output_type": "stream",
     "text": [
      "Epoch 145: 100%|██████████| 56/56 [00:26<00:00,  2.13batch/s, loss=0.6456]\n"
     ]
    },
    {
     "name": "stdout",
     "output_type": "stream",
     "text": [
      "[Epoch 145] val_acc=0.742604 train_acc=0.790658 val_loss=0.023388 train_loss=0.025676\n",
      "EarlyStopping counter: 11 out of 30\n"
     ]
    },
    {
     "name": "stderr",
     "output_type": "stream",
     "text": [
      "Epoch 146: 100%|██████████| 56/56 [00:28<00:00,  1.93batch/s, loss=0.7477]\n"
     ]
    },
    {
     "name": "stdout",
     "output_type": "stream",
     "text": [
      "[Epoch 146] val_acc=0.745562 train_acc=0.805290 val_loss=0.023358 train_loss=0.025732\n",
      "EarlyStopping counter: 12 out of 30\n"
     ]
    },
    {
     "name": "stderr",
     "output_type": "stream",
     "text": [
      "Epoch 147: 100%|██████████| 56/56 [00:25<00:00,  2.17batch/s, loss=0.7838]\n"
     ]
    },
    {
     "name": "stdout",
     "output_type": "stream",
     "text": [
      "[Epoch 147] val_acc=0.742604 train_acc=0.795160 val_loss=0.023363 train_loss=0.025771\n",
      "EarlyStopping counter: 13 out of 30\n"
     ]
    },
    {
     "name": "stderr",
     "output_type": "stream",
     "text": [
      "Epoch 148: 100%|██████████| 56/56 [00:28<00:00,  1.94batch/s, loss=0.7514]\n"
     ]
    },
    {
     "name": "stdout",
     "output_type": "stream",
     "text": [
      "[Epoch 148] val_acc=0.742604 train_acc=0.797411 val_loss=0.023353 train_loss=0.026122\n",
      "EarlyStopping counter: 14 out of 30\n"
     ]
    },
    {
     "name": "stderr",
     "output_type": "stream",
     "text": [
      "Epoch 149: 100%|██████████| 56/56 [00:27<00:00,  2.06batch/s, loss=1.2975]\n"
     ]
    },
    {
     "name": "stdout",
     "output_type": "stream",
     "text": [
      "[Epoch 149] val_acc=0.742604 train_acc=0.795160 val_loss=0.023335 train_loss=0.026046\n",
      "EarlyStopping counter: 15 out of 30\n"
     ]
    }
   ],
   "source": [
    "from utils.training import train\n",
    "\n",
    "aug_model = model\n",
    "aug_model.to(device)\n",
    "\n",
    "optimizer = torch.optim.Adam(aug_model.parameters(), lr=0.001,  weight_decay=0.000001)\n",
    "scheduler = torch.optim.lr_scheduler.ReduceLROnPlateau(optimizer, mode='min', factor=0.5, patience=5, verbose=True)\n",
    "\n",
    "tr_loader = train_aug_loader\n",
    "\n",
    "train_loss_hist, train_acc_hist, val_loss_hist, val_acc_hist = train(\n",
    "    model=aug_model,\n",
    "    optimizer=optimizer,\n",
    "    loss_func=nn.CrossEntropyLoss(),\n",
    "    train_data=tr_loader,\n",
    "    val_data=val_loader,\n",
    "    early_stopping_patience=30,\n",
    "    scheduler=scheduler,\n",
    "    cp_path=\"models/cnn\",\n",
    "    cp_filename=\"aug.pt\",\n",
    "    n_epochs=150,\n",
    "    show_progress_bar=True,\n",
    ")"
   ]
  },
  {
   "cell_type": "code",
   "execution_count": 54,
   "metadata": {},
   "outputs": [
    {
     "data": {
      "image/png": "[encoded data removed]",
      "text/plain": [
       "<Figure size 640x480 with 1 Axes>"
      ]
     },
     "metadata": {},
     "output_type": "display_data"
    }
   ],
   "source": [
    "plt.plot(train_loss_hist, label=\"Train Loss\")\n",
    "plt.plot(val_loss_hist, label=\"Val Loss\")\n",
    "plt.title(\"Aug Data Model Losses\")\n",
    "plt.xlabel(\"Epoch\")\n",
    "plt.ylabel(\"Loss\")\n",
    "plt.legend()\n",
    "plt.show()"
   ]
  },
  {
   "cell_type": "code",
   "execution_count": 55,
   "metadata": {},
   "outputs": [
    {
     "data": {
      "image/png": "[encoded data removed]",
      "text/plain": [
       "<Figure size 640x480 with 1 Axes>"
      ]
     },
     "metadata": {},
     "output_type": "display_data"
    }
   ],
   "source": [
    "plt.plot(train_acc_hist, label=\"Train Acc\")\n",
    "plt.plot(val_acc_hist, label=\"Val Acc\")\n",
    "plt.title(\"Aug Data Model Accuracies\")\n",
    "plt.xlabel(\"Epoch\")\n",
    "plt.ylabel(\"Accuracy\")\n",
    "plt.legend()\n",
    "plt.show()"
   ]
  },
  {
   "cell_type": "code",
   "execution_count": 69,
   "metadata": {},
   "outputs": [
    {
     "data": {
      "text/plain": [
       "CNN(\n",
       "  (conv_over_time): Sequential(\n",
       "    (0): Conv2d(1, 24, kernel_size=(1, 64), stride=(1, 1), padding=(0, 32))\n",
       "    (1): BatchNorm2d(24, eps=0.001, momentum=0.01, affine=True, track_running_stats=True)\n",
       "  )\n",
       "  (conv_over_channels): Sequential(\n",
       "    (0): Conv2d(24, 120, kernel_size=(22, 1), stride=(1, 1), groups=8)\n",
       "    (1): BatchNorm2d(120, eps=0.001, momentum=0.01, affine=True, track_running_stats=True)\n",
       "    (2): ELU(alpha=1.0)\n",
       "    (3): AvgPool2d(kernel_size=(1, 4), stride=(1, 4), padding=0)\n",
       "    (4): Dropout(p=0.25, inplace=False)\n",
       "  )\n",
       "  (conv_by_channel_and_point): Sequential(\n",
       "    (0): Conv2d(120, 120, kernel_size=(1, 16), stride=(1, 1), padding=(0, 8), groups=8)\n",
       "    (1): Conv2d(120, 32, kernel_size=(1, 1), stride=(1, 1), bias=False)\n",
       "    (2): BatchNorm2d(32, eps=0.001, momentum=0.01, affine=True, track_running_stats=True)\n",
       "    (3): ELU(alpha=1.0)\n",
       "    (4): AvgPool2d(kernel_size=(1, 8), stride=(1, 8), padding=0)\n",
       "    (5): Dropout(p=0.25, inplace=False)\n",
       "    (6): Conv2d(32, 4, kernel_size=(1, 31), stride=(1, 1))\n",
       "  )\n",
       ")"
      ]
     },
     "execution_count": 69,
     "metadata": {},
     "output_type": "execute_result"
    }
   ],
   "source": [
    "# Load best model and test\n",
    "aug_model = torch.load(\"models/cnn/aug_7201.pt\")\n",
    "aug_model.to(device)\n",
    "aug_model.eval()"
   ]
  },
  {
   "cell_type": "code",
   "execution_count": 70,
   "metadata": {},
   "outputs": [
    {
     "name": "stdout",
     "output_type": "stream",
     "text": [
      "Train on aug data, evaluate on raw data\n",
      "Test Acc: 0.7201\n"
     ]
    }
   ],
   "source": [
    "# Evaluate on raw data\n",
    "test_acc = 0\n",
    "with torch.no_grad():\n",
    "    for X, y in test_loader:\n",
    "        X, y = X.to(device), y.to(device)\n",
    "        y_pred = aug_model(X)\n",
    "        test_acc += (y_pred.argmax(dim=1) == y.argmax(dim=1)).sum().item()\n",
    "test_acc /= len(test_loader.dataset)\n",
    "print(\"Train on aug data, evaluate on raw data\")\n",
    "print(f\"Test Acc: {test_acc:.4f}\")"
   ]
  },
  {
   "cell_type": "code",
   "execution_count": 71,
   "metadata": {},
   "outputs": [
    {
     "name": "stdout",
     "output_type": "stream",
     "text": [
      "Train on raw data, evaluate on sub1 data\n",
      "Test Acc: 0.7200\n"
     ]
    }
   ],
   "source": [
    "# Evaluate on sub1 data\n",
    "test_acc = 0\n",
    "with torch.no_grad():\n",
    "    for X, y in test_sub_loader:\n",
    "        X, y = X.to(device), y.to(device)\n",
    "        y_pred = aug_model(X)\n",
    "        test_acc += (y_pred.argmax(dim=1) == y.argmax(dim=1)).sum().item()\n",
    "test_acc /= len(test_sub_loader.dataset)\n",
    "print(\"Train on raw data, evaluate on sub1 data\")\n",
    "print(f\"Test Acc: {test_acc:.4f}\")"
   ]
  },
  {
   "cell_type": "markdown",
   "metadata": {},
   "source": [
    "## Train on FT Surrogate and Smooth Time Mask"
   ]
  },
  {
   "cell_type": "code",
   "execution_count": 25,
   "metadata": {},
   "outputs": [
    {
     "data": {
      "image/png": "[encoded data removed]",
      "text/plain": [
       "<Figure size 640x480 with 1 Axes>"
      ]
     },
     "metadata": {},
     "output_type": "display_data"
    }
   ],
   "source": [
    "plt.plot(train_loss_hist, label=\"Train Loss\")\n",
    "plt.plot(val_loss_hist, label=\"Val Loss\")\n",
    "plt.title(\"Raw Data Model Losses\")\n",
    "plt.xlabel(\"Epoch\")\n",
    "plt.ylabel(\"Loss\")\n",
    "plt.legend()\n",
    "plt.show()"
   ]
  },
  {
   "cell_type": "code",
   "execution_count": 24,
   "metadata": {},
   "outputs": [
    {
     "data": {
      "image/png": "[encoded data removed]",
      "text/plain": [
       "<Figure size 640x480 with 1 Axes>"
      ]
     },
     "metadata": {},
     "output_type": "display_data"
    }
   ],
   "source": [
    "plt.plot(train_acc_hist, label=\"Train Acc\")\n",
    "plt.plot(val_acc_hist, label=\"Val Acc\")\n",
    "plt.title(\"Aug Data Model Accuracies\")\n",
    "plt.xlabel(\"Epoch\")\n",
    "plt.ylabel(\"Accuracy\")\n",
    "plt.legend()\n",
    "plt.show()"
   ]
  },
  {
   "cell_type": "markdown",
   "metadata": {},
   "source": [
    "## Train on Sub1 Data"
   ]
  },
  {
   "cell_type": "code",
   "execution_count": 15,
   "metadata": {},
   "outputs": [
    {
     "name": "stdout",
     "output_type": "stream",
     "text": [
      "CNN(\n",
      "  (conv_over_time): Sequential(\n",
      "    (0): Conv2d(1, 24, kernel_size=(1, 64), stride=(1, 1), padding=(0, 32))\n",
      "    (1): BatchNorm2d(24, eps=0.001, momentum=0.01, affine=True, track_running_stats=True)\n",
      "  )\n",
      "  (conv_over_channels): Sequential(\n",
      "    (0): Conv2d(24, 120, kernel_size=(22, 1), stride=(1, 1), groups=8)\n",
      "    (1): BatchNorm2d(120, eps=0.001, momentum=0.01, affine=True, track_running_stats=True)\n",
      "    (2): ELU(alpha=1.0)\n",
      "    (3): AvgPool2d(kernel_size=(1, 4), stride=(1, 4), padding=0)\n",
      "    (4): Dropout(p=0.25, inplace=False)\n",
      "  )\n",
      "  (conv_by_channel_and_point): Sequential(\n",
      "    (0): Conv2d(120, 120, kernel_size=(1, 16), stride=(1, 1), padding=(0, 8), groups=8)\n",
      "    (1): Conv2d(120, 32, kernel_size=(1, 1), stride=(1, 1), bias=False)\n",
      "    (2): BatchNorm2d(32, eps=0.001, momentum=0.01, affine=True, track_running_stats=True)\n",
      "    (3): ELU(alpha=1.0)\n",
      "    (4): AvgPool2d(kernel_size=(1, 8), stride=(1, 8), padding=0)\n",
      "    (5): Dropout(p=0.25, inplace=False)\n",
      "    (6): Conv2d(32, 4, kernel_size=(1, 31), stride=(1, 1))\n",
      "  )\n",
      ")\n"
     ]
    },
    {
     "data": {
      "text/plain": [
       "==========================================================================================\n",
       "Layer (type:depth-idx)                   Output Shape              Param #\n",
       "==========================================================================================\n",
       "CNN                                      [1, 4]                    --\n",
       "├─Sequential: 1-1                        [1, 24, 22, 1001]         --\n",
       "│    └─Conv2d: 2-1                       [1, 24, 22, 1001]         1,560\n",
       "│    └─BatchNorm2d: 2-2                  [1, 24, 22, 1001]         48\n",
       "├─Sequential: 1-2                        [1, 120, 1, 250]          --\n",
       "│    └─Conv2d: 2-3                       [1, 120, 1, 1001]         8,040\n",
       "│    └─BatchNorm2d: 2-4                  [1, 120, 1, 1001]         240\n",
       "│    └─ELU: 2-5                          [1, 120, 1, 1001]         --\n",
       "│    └─AvgPool2d: 2-6                    [1, 120, 1, 250]          --\n",
       "│    └─Dropout: 2-7                      [1, 120, 1, 250]          --\n",
       "├─Sequential: 1-3                        [1, 4, 1, 1]              --\n",
       "│    └─Conv2d: 2-8                       [1, 120, 1, 251]          28,920\n",
       "│    └─Conv2d: 2-9                       [1, 32, 1, 251]           3,840\n",
       "│    └─BatchNorm2d: 2-10                 [1, 32, 1, 251]           64\n",
       "│    └─ELU: 2-11                         [1, 32, 1, 251]           --\n",
       "│    └─AvgPool2d: 2-12                   [1, 32, 1, 31]            --\n",
       "│    └─Dropout: 2-13                     [1, 32, 1, 31]            --\n",
       "│    └─Conv2d: 2-14                      [1, 4, 1, 1]              3,972\n",
       "==========================================================================================\n",
       "Total params: 46,684\n",
       "Trainable params: 46,684\n",
       "Non-trainable params: 0\n",
       "Total mult-adds (M): 50.63\n",
       "==========================================================================================\n",
       "Input size (MB): 0.09\n",
       "Forward/backward pass size (MB): 10.75\n",
       "Params size (MB): 0.19\n",
       "Estimated Total Size (MB): 11.02\n",
       "=========================================================================================="
      ]
     },
     "execution_count": 15,
     "metadata": {},
     "output_type": "execute_result"
    }
   ],
   "source": [
    "device = torch.device('mps')\n",
    "\n",
    "model = CNN()\n",
    "model = model.to(device)\n",
    "print(model)\n",
    "summary(model, input_size=(1, 22, 1000), device='mps')"
   ]
  },
  {
   "cell_type": "code",
   "execution_count": 9,
   "metadata": {},
   "outputs": [
    {
     "name": "stderr",
     "output_type": "stream",
     "text": [
      "/Users/yubo/miniforge3/lib/python3.10/site-packages/torch/optim/lr_scheduler.py:28: UserWarning: The verbose parameter is deprecated. Please use get_last_lr() to access the learning rate.\n",
      "  warnings.warn(\"The verbose parameter is deprecated. Please use get_last_lr() \"\n"
     ]
    },
    {
     "name": "stdout",
     "output_type": "stream",
     "text": [
      "Using device: mps\n"
     ]
    },
    {
     "name": "stderr",
     "output_type": "stream",
     "text": [
      "Epoch 0: 100%|██████████| 7/7 [00:03<00:00,  2.21batch/s, loss=1.2316]\n"
     ]
    },
    {
     "name": "stdout",
     "output_type": "stream",
     "text": [
      "[Epoch 0] val_acc=0.292899 train_acc=0.306533 val_loss=0.044933 train_loss=0.048766\n",
      "Validation loss decreased (inf --> 0.044933).  Saving model ...\n"
     ]
    },
    {
     "name": "stderr",
     "output_type": "stream",
     "text": [
      "Epoch 1: 100%|██████████| 7/7 [00:01<00:00,  4.60batch/s, loss=1.0382]\n"
     ]
    },
    {
     "name": "stdout",
     "output_type": "stream",
     "text": [
      "[Epoch 1] val_acc=0.286982 train_acc=0.507538 val_loss=0.045607 train_loss=0.041697\n",
      "EarlyStopping counter: 1 out of 30\n"
     ]
    },
    {
     "name": "stderr",
     "output_type": "stream",
     "text": [
      "Epoch 2: 100%|██████████| 7/7 [00:01<00:00,  4.61batch/s, loss=1.1930]\n"
     ]
    },
    {
     "name": "stdout",
     "output_type": "stream",
     "text": [
      "[Epoch 2] val_acc=0.304734 train_acc=0.582915 val_loss=0.045905 train_loss=0.040063\n",
      "EarlyStopping counter: 2 out of 30\n"
     ]
    },
    {
     "name": "stderr",
     "output_type": "stream",
     "text": [
      "Epoch 3: 100%|██████████| 7/7 [00:01<00:00,  4.60batch/s, loss=0.8736]\n"
     ]
    },
    {
     "name": "stdout",
     "output_type": "stream",
     "text": [
      "[Epoch 3] val_acc=0.310651 train_acc=0.668342 val_loss=0.046625 train_loss=0.036324\n",
      "EarlyStopping counter: 3 out of 30\n"
     ]
    },
    {
     "name": "stderr",
     "output_type": "stream",
     "text": [
      "Epoch 4: 100%|██████████| 7/7 [00:01<00:00,  4.59batch/s, loss=0.8063]\n"
     ]
    },
    {
     "name": "stdout",
     "output_type": "stream",
     "text": [
      "[Epoch 4] val_acc=0.304734 train_acc=0.753769 val_loss=0.047013 train_loss=0.033599\n",
      "EarlyStopping counter: 4 out of 30\n"
     ]
    },
    {
     "name": "stderr",
     "output_type": "stream",
     "text": [
      "Epoch 5: 100%|██████████| 7/7 [00:01<00:00,  4.58batch/s, loss=0.8525]\n"
     ]
    },
    {
     "name": "stdout",
     "output_type": "stream",
     "text": [
      "[Epoch 5] val_acc=0.313609 train_acc=0.793970 val_loss=0.046889 train_loss=0.030705\n",
      "EarlyStopping counter: 5 out of 30\n"
     ]
    },
    {
     "name": "stderr",
     "output_type": "stream",
     "text": [
      "Epoch 6: 100%|██████████| 7/7 [00:01<00:00,  4.61batch/s, loss=0.7851]\n"
     ]
    },
    {
     "name": "stdout",
     "output_type": "stream",
     "text": [
      "[Epoch 6] val_acc=0.325444 train_acc=0.864322 val_loss=0.047203 train_loss=0.027801\n",
      "EarlyStopping counter: 6 out of 30\n"
     ]
    },
    {
     "name": "stderr",
     "output_type": "stream",
     "text": [
      "Epoch 7: 100%|██████████| 7/7 [00:01<00:00,  4.57batch/s, loss=0.9978]\n"
     ]
    },
    {
     "name": "stdout",
     "output_type": "stream",
     "text": [
      "[Epoch 7] val_acc=0.301775 train_acc=0.869347 val_loss=0.048934 train_loss=0.026993\n",
      "EarlyStopping counter: 7 out of 30\n"
     ]
    },
    {
     "name": "stderr",
     "output_type": "stream",
     "text": [
      "Epoch 8: 100%|██████████| 7/7 [00:01<00:00,  4.53batch/s, loss=0.5564]\n"
     ]
    },
    {
     "name": "stdout",
     "output_type": "stream",
     "text": [
      "[Epoch 8] val_acc=0.322485 train_acc=0.924623 val_loss=0.048645 train_loss=0.023731\n",
      "EarlyStopping counter: 8 out of 30\n"
     ]
    },
    {
     "name": "stderr",
     "output_type": "stream",
     "text": [
      "Epoch 9: 100%|██████████| 7/7 [00:01<00:00,  4.47batch/s, loss=0.5768]\n"
     ]
    },
    {
     "name": "stdout",
     "output_type": "stream",
     "text": [
      "[Epoch 9] val_acc=0.301775 train_acc=0.934673 val_loss=0.048448 train_loss=0.022722\n",
      "EarlyStopping counter: 9 out of 30\n"
     ]
    },
    {
     "name": "stderr",
     "output_type": "stream",
     "text": [
      "Epoch 10: 100%|██████████| 7/7 [00:01<00:00,  4.22batch/s, loss=0.6986]\n"
     ]
    },
    {
     "name": "stdout",
     "output_type": "stream",
     "text": [
      "[Epoch 10] val_acc=0.325444 train_acc=0.984925 val_loss=0.047112 train_loss=0.022114\n",
      "EarlyStopping counter: 10 out of 30\n"
     ]
    },
    {
     "name": "stderr",
     "output_type": "stream",
     "text": [
      "Epoch 11: 100%|██████████| 7/7 [00:01<00:00,  4.31batch/s, loss=0.5507]\n"
     ]
    },
    {
     "name": "stdout",
     "output_type": "stream",
     "text": [
      "[Epoch 11] val_acc=0.343195 train_acc=0.964824 val_loss=0.046439 train_loss=0.020697\n",
      "EarlyStopping counter: 11 out of 30\n"
     ]
    },
    {
     "name": "stderr",
     "output_type": "stream",
     "text": [
      "Epoch 12: 100%|██████████| 7/7 [00:01<00:00,  4.45batch/s, loss=0.5834]\n"
     ]
    },
    {
     "name": "stdout",
     "output_type": "stream",
     "text": [
      "[Epoch 12] val_acc=0.340237 train_acc=0.974874 val_loss=0.046256 train_loss=0.020592\n",
      "EarlyStopping counter: 12 out of 30\n"
     ]
    },
    {
     "name": "stderr",
     "output_type": "stream",
     "text": [
      "Epoch 13: 100%|██████████| 7/7 [00:01<00:00,  4.45batch/s, loss=0.4968]\n"
     ]
    },
    {
     "name": "stdout",
     "output_type": "stream",
     "text": [
      "[Epoch 13] val_acc=0.349112 train_acc=0.984925 val_loss=0.046102 train_loss=0.019536\n",
      "EarlyStopping counter: 13 out of 30\n"
     ]
    },
    {
     "name": "stderr",
     "output_type": "stream",
     "text": [
      "Epoch 14: 100%|██████████| 7/7 [00:01<00:00,  4.45batch/s, loss=0.5112]\n"
     ]
    },
    {
     "name": "stdout",
     "output_type": "stream",
     "text": [
      "[Epoch 14] val_acc=0.355030 train_acc=0.994975 val_loss=0.046456 train_loss=0.019013\n",
      "EarlyStopping counter: 14 out of 30\n"
     ]
    },
    {
     "name": "stderr",
     "output_type": "stream",
     "text": [
      "Epoch 15: 100%|██████████| 7/7 [00:01<00:00,  4.42batch/s, loss=0.5248]\n"
     ]
    },
    {
     "name": "stdout",
     "output_type": "stream",
     "text": [
      "[Epoch 15] val_acc=0.363905 train_acc=0.989950 val_loss=0.046690 train_loss=0.018892\n",
      "EarlyStopping counter: 15 out of 30\n"
     ]
    },
    {
     "name": "stderr",
     "output_type": "stream",
     "text": [
      "Epoch 16: 100%|██████████| 7/7 [00:01<00:00,  4.40batch/s, loss=0.5538]\n"
     ]
    },
    {
     "name": "stdout",
     "output_type": "stream",
     "text": [
      "[Epoch 16] val_acc=0.360947 train_acc=0.994975 val_loss=0.047416 train_loss=0.018887\n",
      "EarlyStopping counter: 16 out of 30\n"
     ]
    },
    {
     "name": "stderr",
     "output_type": "stream",
     "text": [
      "Epoch 17: 100%|██████████| 7/7 [00:01<00:00,  4.45batch/s, loss=0.4851]\n"
     ]
    },
    {
     "name": "stdout",
     "output_type": "stream",
     "text": [
      "[Epoch 17] val_acc=0.360947 train_acc=0.994975 val_loss=0.047351 train_loss=0.018290\n",
      "EarlyStopping counter: 17 out of 30\n"
     ]
    },
    {
     "name": "stderr",
     "output_type": "stream",
     "text": [
      "Epoch 18: 100%|██████████| 7/7 [00:01<00:00,  4.47batch/s, loss=0.5216]\n"
     ]
    },
    {
     "name": "stdout",
     "output_type": "stream",
     "text": [
      "[Epoch 18] val_acc=0.369822 train_acc=0.994975 val_loss=0.047481 train_loss=0.018121\n",
      "EarlyStopping counter: 18 out of 30\n"
     ]
    },
    {
     "name": "stderr",
     "output_type": "stream",
     "text": [
      "Epoch 19: 100%|██████████| 7/7 [00:01<00:00,  4.48batch/s, loss=0.5135]\n"
     ]
    },
    {
     "name": "stdout",
     "output_type": "stream",
     "text": [
      "[Epoch 19] val_acc=0.357988 train_acc=1.000000 val_loss=0.048947 train_loss=0.018044\n",
      "EarlyStopping counter: 19 out of 30\n"
     ]
    },
    {
     "name": "stderr",
     "output_type": "stream",
     "text": [
      "Epoch 20: 100%|██████████| 7/7 [00:01<00:00,  4.46batch/s, loss=0.4991]\n"
     ]
    },
    {
     "name": "stdout",
     "output_type": "stream",
     "text": [
      "[Epoch 20] val_acc=0.378698 train_acc=0.989950 val_loss=0.049365 train_loss=0.017795\n",
      "EarlyStopping counter: 20 out of 30\n"
     ]
    },
    {
     "name": "stderr",
     "output_type": "stream",
     "text": [
      "Epoch 21: 100%|██████████| 7/7 [00:01<00:00,  4.43batch/s, loss=0.5293]\n"
     ]
    },
    {
     "name": "stdout",
     "output_type": "stream",
     "text": [
      "[Epoch 21] val_acc=0.366864 train_acc=1.000000 val_loss=0.049982 train_loss=0.017805\n",
      "EarlyStopping counter: 21 out of 30\n"
     ]
    },
    {
     "name": "stderr",
     "output_type": "stream",
     "text": [
      "Epoch 22: 100%|██████████| 7/7 [00:01<00:00,  4.44batch/s, loss=0.4992]\n"
     ]
    },
    {
     "name": "stdout",
     "output_type": "stream",
     "text": [
      "[Epoch 22] val_acc=0.352071 train_acc=1.000000 val_loss=0.050181 train_loss=0.017504\n",
      "EarlyStopping counter: 22 out of 30\n"
     ]
    },
    {
     "name": "stderr",
     "output_type": "stream",
     "text": [
      "Epoch 23: 100%|██████████| 7/7 [00:01<00:00,  4.45batch/s, loss=0.5350]\n"
     ]
    },
    {
     "name": "stdout",
     "output_type": "stream",
     "text": [
      "[Epoch 23] val_acc=0.357988 train_acc=1.000000 val_loss=0.049840 train_loss=0.017564\n",
      "EarlyStopping counter: 23 out of 30\n"
     ]
    },
    {
     "name": "stderr",
     "output_type": "stream",
     "text": [
      "Epoch 24: 100%|██████████| 7/7 [00:01<00:00,  4.48batch/s, loss=0.4678]\n"
     ]
    },
    {
     "name": "stdout",
     "output_type": "stream",
     "text": [
      "[Epoch 24] val_acc=0.369822 train_acc=0.989950 val_loss=0.050179 train_loss=0.017524\n",
      "EarlyStopping counter: 24 out of 30\n"
     ]
    },
    {
     "name": "stderr",
     "output_type": "stream",
     "text": [
      "Epoch 25: 100%|██████████| 7/7 [00:01<00:00,  4.49batch/s, loss=0.4682]\n"
     ]
    },
    {
     "name": "stdout",
     "output_type": "stream",
     "text": [
      "[Epoch 25] val_acc=0.352071 train_acc=1.000000 val_loss=0.050696 train_loss=0.017231\n",
      "EarlyStopping counter: 25 out of 30\n"
     ]
    },
    {
     "name": "stderr",
     "output_type": "stream",
     "text": [
      "Epoch 26: 100%|██████████| 7/7 [00:01<00:00,  4.45batch/s, loss=0.4670]\n"
     ]
    },
    {
     "name": "stdout",
     "output_type": "stream",
     "text": [
      "[Epoch 26] val_acc=0.372781 train_acc=1.000000 val_loss=0.049912 train_loss=0.017274\n",
      "EarlyStopping counter: 26 out of 30\n"
     ]
    },
    {
     "name": "stderr",
     "output_type": "stream",
     "text": [
      "Epoch 27: 100%|██████████| 7/7 [00:01<00:00,  4.46batch/s, loss=0.4837]\n"
     ]
    },
    {
     "name": "stdout",
     "output_type": "stream",
     "text": [
      "[Epoch 27] val_acc=0.360947 train_acc=1.000000 val_loss=0.050912 train_loss=0.017117\n",
      "EarlyStopping counter: 27 out of 30\n"
     ]
    },
    {
     "name": "stderr",
     "output_type": "stream",
     "text": [
      "Epoch 28: 100%|██████████| 7/7 [00:01<00:00,  4.48batch/s, loss=0.4811]\n"
     ]
    },
    {
     "name": "stdout",
     "output_type": "stream",
     "text": [
      "[Epoch 28] val_acc=0.381657 train_acc=1.000000 val_loss=0.050220 train_loss=0.017051\n",
      "EarlyStopping counter: 28 out of 30\n"
     ]
    },
    {
     "name": "stderr",
     "output_type": "stream",
     "text": [
      "Epoch 29: 100%|██████████| 7/7 [00:01<00:00,  4.43batch/s, loss=0.4648]\n"
     ]
    },
    {
     "name": "stdout",
     "output_type": "stream",
     "text": [
      "[Epoch 29] val_acc=0.375740 train_acc=1.000000 val_loss=0.049600 train_loss=0.016802\n",
      "EarlyStopping counter: 29 out of 30\n"
     ]
    },
    {
     "name": "stderr",
     "output_type": "stream",
     "text": [
      "Epoch 30: 100%|██████████| 7/7 [00:01<00:00,  4.47batch/s, loss=0.4642]\n"
     ]
    },
    {
     "name": "stdout",
     "output_type": "stream",
     "text": [
      "[Epoch 30] val_acc=0.390533 train_acc=1.000000 val_loss=0.049785 train_loss=0.016659\n",
      "EarlyStopping counter: 30 out of 30\n",
      "Early stopping.\n"
     ]
    }
   ],
   "source": [
    "sub_model = model\n",
    "sub_model.to(device)\n",
    "\n",
    "optimizer = torch.optim.Adam(sub_model.parameters(), lr=0.001,  weight_decay=0.000001)\n",
    "scheduler = torch.optim.lr_scheduler.ReduceLROnPlateau(optimizer, mode='min', factor=0.5, patience=5, verbose=True)\n",
    "\n",
    "tr_loader = train_sub_loader\n",
    "\n",
    "train_loss_hist, train_acc_hist, val_loss_hist, val_acc_hist = train(\n",
    "    model=sub_model,\n",
    "    optimizer=optimizer,\n",
    "    loss_func=nn.CrossEntropyLoss(),\n",
    "    train_data=tr_loader,\n",
    "    val_data=val_loader,\n",
    "    early_stopping_patience=30,\n",
    "    scheduler=scheduler,\n",
    "    cp_path=\"models/cnn\",\n",
    "    cp_filename=\"sub.pt\",\n",
    "    n_epochs=100,\n",
    "    show_progress_bar=True,\n",
    ")"
   ]
  },
  {
   "cell_type": "code",
   "execution_count": 10,
   "metadata": {},
   "outputs": [
    {
     "data": {
      "text/plain": [
       "<matplotlib.legend.Legend at 0x2969e2140>"
      ]
     },
     "execution_count": 10,
     "metadata": {},
     "output_type": "execute_result"
    },
    {
     "data": {
      "image/png": "[encoded data removed]",
      "text/plain": [
       "<Figure size 640x480 with 1 Axes>"
      ]
     },
     "metadata": {},
     "output_type": "display_data"
    }
   ],
   "source": [
    "plt.plot(train_loss_hist, label=\"Train Loss\")\n",
    "plt.plot(val_loss_hist, label=\"Val Loss\")\n",
    "plt.title(\"Sub1 Data Model Losses\")\n",
    "plt.xlabel(\"Epoch\")\n",
    "plt.ylabel(\"Loss\")\n",
    "plt.legend()"
   ]
  },
  {
   "cell_type": "code",
   "execution_count": 11,
   "metadata": {},
   "outputs": [
    {
     "data": {
      "text/plain": [
       "<matplotlib.legend.Legend at 0x29d2c6ec0>"
      ]
     },
     "execution_count": 11,
     "metadata": {},
     "output_type": "execute_result"
    },
    {
     "data": {
      "image/png": "[encoded data removed]",
      "text/plain": [
       "<Figure size 640x480 with 1 Axes>"
      ]
     },
     "metadata": {},
     "output_type": "display_data"
    }
   ],
   "source": [
    "plt.plot(train_acc_hist, label=\"Train Acc\")\n",
    "plt.plot(val_acc_hist, label=\"Val Acc\")\n",
    "plt.title(\"Sub1 Data Model Accuracies\")\n",
    "plt.xlabel(\"Epoch\")\n",
    "plt.ylabel(\"Accuracy\")\n",
    "plt.legend()"
   ]
  },
  {
   "cell_type": "code",
   "execution_count": 13,
   "metadata": {},
   "outputs": [
    {
     "data": {
      "text/plain": [
       "CNN(\n",
       "  (conv_over_time): Sequential(\n",
       "    (0): Conv2d(1, 24, kernel_size=(1, 64), stride=(1, 1), padding=(0, 32))\n",
       "    (1): BatchNorm2d(24, eps=0.001, momentum=0.01, affine=True, track_running_stats=True)\n",
       "  )\n",
       "  (conv_over_channels): Sequential(\n",
       "    (0): Conv2d(24, 120, kernel_size=(22, 1), stride=(1, 1), groups=8)\n",
       "    (1): BatchNorm2d(120, eps=0.001, momentum=0.01, affine=True, track_running_stats=True)\n",
       "    (2): ELU(alpha=1.0)\n",
       "    (3): AvgPool2d(kernel_size=(1, 4), stride=(1, 4), padding=0)\n",
       "    (4): Dropout(p=0.25, inplace=False)\n",
       "  )\n",
       "  (conv_by_channel_and_point): Sequential(\n",
       "    (0): Conv2d(120, 120, kernel_size=(1, 16), stride=(1, 1), padding=(0, 8), groups=8)\n",
       "    (1): Conv2d(120, 32, kernel_size=(1, 1), stride=(1, 1), bias=False)\n",
       "    (2): BatchNorm2d(32, eps=0.001, momentum=0.01, affine=True, track_running_stats=True)\n",
       "    (3): ELU(alpha=1.0)\n",
       "    (4): AvgPool2d(kernel_size=(1, 8), stride=(1, 8), padding=0)\n",
       "    (5): Dropout(p=0.25, inplace=False)\n",
       "    (6): Conv2d(32, 4, kernel_size=(1, 31), stride=(1, 1))\n",
       "  )\n",
       ")"
      ]
     },
     "execution_count": 13,
     "metadata": {},
     "output_type": "execute_result"
    }
   ],
   "source": [
    "# Load best model and test\n",
    "sub1_model = torch.load(\"models/cnn/sub.pt\")\n",
    "sub1_model.to(device)\n",
    "sub1_model.eval()"
   ]
  },
  {
   "cell_type": "code",
   "execution_count": 14,
   "metadata": {},
   "outputs": [
    {
     "name": "stdout",
     "output_type": "stream",
     "text": [
      "Train on sub1 data, evaluate on sub1 data\n",
      "Test Acc: 0.2600\n"
     ]
    }
   ],
   "source": [
    "# Evaluate on sub1 data\n",
    "test_acc = 0\n",
    "with torch.no_grad():\n",
    "    for X, y in test_sub_loader:\n",
    "        X, y = X.to(device), y.to(device)\n",
    "        y_pred = sub1_model(X)\n",
    "        test_acc += (y_pred.argmax(dim=1) == y.argmax(dim=1)).sum().item()\n",
    "test_acc /= len(test_sub_loader.dataset)\n",
    "print(\"Train on sub1 data, evaluate on sub1 data\")\n",
    "print(f\"Test Acc: {test_acc:.4f}\")"
   ]
  },
  {
   "cell_type": "markdown",
   "metadata": {},
   "source": [
    "## Time Series"
   ]
  },
  {
   "cell_type": "code",
   "execution_count": 39,
   "metadata": {},
   "outputs": [],
   "source": [
    "class CNN_ts(nn.Module):\n",
    "    def __init__(self, n_time=1000):\n",
    "        super(CNN_ts, self).__init__()\n",
    "\n",
    "        self.filter_nums1 = 24 # 8\n",
    "        self.filter_nums2 = 120 # 40\n",
    "        self.filter_nums3 = 32 # 12\n",
    "        num_groups = 8\n",
    "        b = True\n",
    "        dropout_prob = 0.25\n",
    "\n",
    "        self.conv_over_time = nn.Sequential(\n",
    "            nn.Conv2d(1, self.filter_nums1, kernel_size=(1, 64), stride=(1, 1), padding=(0, 32), bias=b),\n",
    "            nn.BatchNorm2d(self.filter_nums1, eps=0.001, momentum=0.01, affine=True, track_running_stats=True)\n",
    "        )\n",
    "        # (n, 8, 22, 1001)\n",
    "\n",
    "        self.conv_over_channels = nn.Sequential(\n",
    "            nn.Conv2d(self.filter_nums1, self.filter_nums2, kernel_size=(22, 1), stride=(1, 1), groups=num_groups, bias=b),\n",
    "            nn.BatchNorm2d(self.filter_nums2, eps=0.001, momentum=0.01, affine=True, track_running_stats=True),\n",
    "            nn.ELU(),\n",
    "            nn.AvgPool2d(kernel_size=(1, 4), stride=(1, 4), padding=0), # pool over time to shrink time\n",
    "            nn.Dropout(p=dropout_prob)\n",
    "        )\n",
    "        # (n, 40, 1, 250)\n",
    "\n",
    "        self.conv_by_channel_and_point = nn.Sequential(\n",
    "            nn.Conv2d(self.filter_nums2, self.filter_nums2, kernel_size=(1, 16), stride=(1, 1), padding=(0, 8), groups=num_groups, bias=b),\n",
    "            # (n, 40, 1, 251)\n",
    "            nn.Conv2d(self.filter_nums2, self.filter_nums3, kernel_size=(1, 1), stride=(1, 1), bias=False),\n",
    "            # (n, 12, 1, 251)\n",
    "            nn.BatchNorm2d(self.filter_nums3, eps=0.001, momentum=0.01, affine=True, track_running_stats=True),\n",
    "            nn.ELU(),\n",
    "            nn.AvgPool2d(kernel_size=(1, 8), stride=(1, 8), padding=0),\n",
    "            nn.Dropout(p=dropout_prob),\n",
    "            # (n, 12, 1, 31)\n",
    "            # nn.Conv2d(self.filter_nums3, 4, kernel_size=(1, 31), stride=(1, 1)) # conv to 4 output classes\n",
    "            # (n, 4, 1, 1)\n",
    "        )\n",
    "\n",
    "        self.linear = nn.Sequential(\n",
    "            nn.Flatten(),\n",
    "            nn.LazyLinear(4) # the last convolution is replaced by linear\n",
    "        )\n",
    "        \n",
    "\n",
    "    def forward(self, x):\n",
    "        # x = x.to('mps')\n",
    "        # X (batch, ch, t)\n",
    "        x = x.unsqueeze(3)\n",
    "        # (batch, ch, t, 1)\n",
    "        x = x.permute(0, 3, 1, 2)\n",
    "        # (batch, 1, ch, t)\n",
    "        x = self.conv_over_time(x)\n",
    "        x = self.conv_over_channels(x)\n",
    "        x = self.conv_by_channel_and_point(x)\n",
    "        x = self.linear(x)\n",
    "\n",
    "        return x"
   ]
  },
  {
   "cell_type": "code",
   "execution_count": 44,
   "metadata": {},
   "outputs": [
    {
     "name": "stdout",
     "output_type": "stream",
     "text": [
      "CNN_ts(\n",
      "  (conv_over_time): Sequential(\n",
      "    (0): Conv2d(1, 24, kernel_size=(1, 64), stride=(1, 1), padding=(0, 32))\n",
      "    (1): BatchNorm2d(24, eps=0.001, momentum=0.01, affine=True, track_running_stats=True)\n",
      "  )\n",
      "  (conv_over_channels): Sequential(\n",
      "    (0): Conv2d(24, 120, kernel_size=(22, 1), stride=(1, 1), groups=8)\n",
      "    (1): BatchNorm2d(120, eps=0.001, momentum=0.01, affine=True, track_running_stats=True)\n",
      "    (2): ELU(alpha=1.0)\n",
      "    (3): AvgPool2d(kernel_size=(1, 4), stride=(1, 4), padding=0)\n",
      "    (4): Dropout(p=0.25, inplace=False)\n",
      "  )\n",
      "  (conv_by_channel_and_point): Sequential(\n",
      "    (0): Conv2d(120, 120, kernel_size=(1, 16), stride=(1, 1), padding=(0, 8), groups=8)\n",
      "    (1): Conv2d(120, 32, kernel_size=(1, 1), stride=(1, 1), bias=False)\n",
      "    (2): BatchNorm2d(32, eps=0.001, momentum=0.01, affine=True, track_running_stats=True)\n",
      "    (3): ELU(alpha=1.0)\n",
      "    (4): AvgPool2d(kernel_size=(1, 8), stride=(1, 8), padding=0)\n",
      "    (5): Dropout(p=0.25, inplace=False)\n",
      "  )\n",
      "  (linear): Sequential(\n",
      "    (0): Flatten(start_dim=1, end_dim=-1)\n",
      "    (1): LazyLinear(in_features=0, out_features=4, bias=True)\n",
      "  )\n",
      ")\n"
     ]
    },
    {
     "data": {
      "text/plain": [
       "==========================================================================================\n",
       "Layer (type:depth-idx)                   Output Shape              Param #\n",
       "==========================================================================================\n",
       "CNN_ts                                   [1, 4]                    --\n",
       "├─Sequential: 1-1                        [1, 24, 22, 251]          --\n",
       "│    └─Conv2d: 2-1                       [1, 24, 22, 251]          1,560\n",
       "│    └─BatchNorm2d: 2-2                  [1, 24, 22, 251]          48\n",
       "├─Sequential: 1-2                        [1, 120, 1, 62]           --\n",
       "│    └─Conv2d: 2-3                       [1, 120, 1, 251]          8,040\n",
       "│    └─BatchNorm2d: 2-4                  [1, 120, 1, 251]          240\n",
       "│    └─ELU: 2-5                          [1, 120, 1, 251]          --\n",
       "│    └─AvgPool2d: 2-6                    [1, 120, 1, 62]           --\n",
       "│    └─Dropout: 2-7                      [1, 120, 1, 62]           --\n",
       "├─Sequential: 1-3                        [1, 32, 1, 7]             --\n",
       "│    └─Conv2d: 2-8                       [1, 120, 1, 63]           28,920\n",
       "│    └─Conv2d: 2-9                       [1, 32, 1, 63]            3,840\n",
       "│    └─BatchNorm2d: 2-10                 [1, 32, 1, 63]            64\n",
       "│    └─ELU: 2-11                         [1, 32, 1, 63]            --\n",
       "│    └─AvgPool2d: 2-12                   [1, 32, 1, 7]             --\n",
       "│    └─Dropout: 2-13                     [1, 32, 1, 7]             --\n",
       "├─Sequential: 1-4                        [1, 4]                    --\n",
       "│    └─Flatten: 2-14                     [1, 224]                  --\n",
       "│    └─Linear: 2-15                      [1, 4]                    900\n",
       "==========================================================================================\n",
       "Total params: 43,612\n",
       "Trainable params: 43,612\n",
       "Non-trainable params: 0\n",
       "Total mult-adds (M): 12.70\n",
       "==========================================================================================\n",
       "Input size (MB): 0.02\n",
       "Forward/backward pass size (MB): 2.70\n",
       "Params size (MB): 0.17\n",
       "Estimated Total Size (MB): 2.89\n",
       "=========================================================================================="
      ]
     },
     "execution_count": 44,
     "metadata": {},
     "output_type": "execute_result"
    }
   ],
   "source": [
    "device = torch.device('mps')\n",
    "\n",
    "model = CNN_ts(n_time=250)\n",
    "model = model.to(device)\n",
    "print(model)\n",
    "test_input = torch.randn((1, 22, 250)).to(device)\n",
    "model(test_input).shape\n",
    "summary(model, input_size=(1, 22, 250), device='mps')"
   ]
  },
  {
   "cell_type": "code",
   "execution_count": 45,
   "metadata": {},
   "outputs": [],
   "source": [
    "time_slots = [50, 100, 150, 200, 250, 500, 750, 1000]"
   ]
  },
  {
   "cell_type": "code",
   "execution_count": 46,
   "metadata": {},
   "outputs": [
    {
     "name": "stderr",
     "output_type": "stream",
     "text": [
      "/Users/yubo/miniforge3/lib/python3.10/site-packages/torch/optim/lr_scheduler.py:28: UserWarning: The verbose parameter is deprecated. Please use get_last_lr() to access the learning rate.\n",
      "  warnings.warn(\"The verbose parameter is deprecated. Please use get_last_lr() \"\n"
     ]
    },
    {
     "name": "stdout",
     "output_type": "stream",
     "text": [
      "Using device: mps\n",
      "[Epoch 0] val_acc=0.331361 train_acc=0.328081 val_loss=0.024171 train_loss=0.021733\n",
      "Validation loss decreased (inf --> 0.024171).  Saving model ...\n",
      "[Epoch 1] val_acc=0.328402 train_acc=0.382667 val_loss=0.024043 train_loss=0.020867\n",
      "Validation loss decreased (0.024171 --> 0.024043).  Saving model ...\n",
      "[Epoch 2] val_acc=0.355030 train_acc=0.395611 val_loss=0.023851 train_loss=0.020508\n",
      "Validation loss decreased (0.024043 --> 0.023851).  Saving model ...\n",
      "[Epoch 3] val_acc=0.384615 train_acc=0.416432 val_loss=0.023639 train_loss=0.020364\n",
      "Validation loss decreased (0.023851 --> 0.023639).  Saving model ...\n",
      "[Epoch 4] val_acc=0.402367 train_acc=0.453573 val_loss=0.023616 train_loss=0.020035\n",
      "Validation loss decreased (0.023639 --> 0.023616).  Saving model ...\n",
      "[Epoch 5] val_acc=0.369822 train_acc=0.451322 val_loss=0.023503 train_loss=0.019923\n",
      "Validation loss decreased (0.023616 --> 0.023503).  Saving model ...\n",
      "[Epoch 6] val_acc=0.378698 train_acc=0.450760 val_loss=0.023470 train_loss=0.019786\n",
      "Validation loss decreased (0.023503 --> 0.023470).  Saving model ...\n",
      "[Epoch 7] val_acc=0.420118 train_acc=0.477772 val_loss=0.023170 train_loss=0.019667\n",
      "Validation loss decreased (0.023470 --> 0.023170).  Saving model ...\n",
      "[Epoch 8] val_acc=0.396450 train_acc=0.477772 val_loss=0.023143 train_loss=0.019585\n",
      "Validation loss decreased (0.023170 --> 0.023143).  Saving model ...\n",
      "[Epoch 9] val_acc=0.417160 train_acc=0.498030 val_loss=0.022739 train_loss=0.019362\n",
      "Validation loss decreased (0.023143 --> 0.022739).  Saving model ...\n",
      "[Epoch 10] val_acc=0.440828 train_acc=0.489589 val_loss=0.022306 train_loss=0.019224\n",
      "Validation loss decreased (0.022739 --> 0.022306).  Saving model ...\n",
      "[Epoch 11] val_acc=0.417160 train_acc=0.493528 val_loss=0.022696 train_loss=0.019267\n",
      "EarlyStopping counter: 1 out of 30\n",
      "[Epoch 12] val_acc=0.446746 train_acc=0.499156 val_loss=0.022722 train_loss=0.019023\n",
      "EarlyStopping counter: 2 out of 30\n",
      "[Epoch 13] val_acc=0.405325 train_acc=0.506472 val_loss=0.022958 train_loss=0.019035\n",
      "EarlyStopping counter: 3 out of 30\n",
      "[Epoch 14] val_acc=0.426036 train_acc=0.510411 val_loss=0.022522 train_loss=0.018938\n",
      "EarlyStopping counter: 4 out of 30\n",
      "[Epoch 15] val_acc=0.414201 train_acc=0.497468 val_loss=0.022683 train_loss=0.018855\n",
      "EarlyStopping counter: 5 out of 30\n",
      "[Epoch 16] val_acc=0.411243 train_acc=0.519415 val_loss=0.022715 train_loss=0.018766\n",
      "EarlyStopping counter: 6 out of 30\n",
      "[Epoch 17] val_acc=0.440828 train_acc=0.521666 val_loss=0.022260 train_loss=0.018884\n",
      "Validation loss decreased (0.022306 --> 0.022260).  Saving model ...\n",
      "[Epoch 18] val_acc=0.417160 train_acc=0.526168 val_loss=0.022763 train_loss=0.018892\n",
      "EarlyStopping counter: 1 out of 30\n",
      "[Epoch 19] val_acc=0.402367 train_acc=0.525605 val_loss=0.022939 train_loss=0.018695\n",
      "EarlyStopping counter: 2 out of 30\n",
      "[Epoch 20] val_acc=0.443787 train_acc=0.527293 val_loss=0.023156 train_loss=0.018749\n",
      "EarlyStopping counter: 3 out of 30\n",
      "[Epoch 21] val_acc=0.443787 train_acc=0.527293 val_loss=0.022350 train_loss=0.018581\n",
      "EarlyStopping counter: 4 out of 30\n",
      "[Epoch 22] val_acc=0.423077 train_acc=0.532921 val_loss=0.022465 train_loss=0.018499\n",
      "EarlyStopping counter: 5 out of 30\n",
      "[Epoch 23] val_acc=0.431953 train_acc=0.541925 val_loss=0.022674 train_loss=0.018363\n",
      "EarlyStopping counter: 6 out of 30\n",
      "[Epoch 24] val_acc=0.393491 train_acc=0.539111 val_loss=0.023084 train_loss=0.018543\n",
      "EarlyStopping counter: 7 out of 30\n",
      "[Epoch 25] val_acc=0.411243 train_acc=0.545301 val_loss=0.022375 train_loss=0.018368\n",
      "EarlyStopping counter: 8 out of 30\n",
      "[Epoch 26] val_acc=0.414201 train_acc=0.536297 val_loss=0.022532 train_loss=0.018444\n",
      "EarlyStopping counter: 9 out of 30\n",
      "[Epoch 27] val_acc=0.423077 train_acc=0.534046 val_loss=0.023149 train_loss=0.018298\n",
      "EarlyStopping counter: 10 out of 30\n",
      "[Epoch 28] val_acc=0.387574 train_acc=0.555993 val_loss=0.022903 train_loss=0.018268\n",
      "EarlyStopping counter: 11 out of 30\n",
      "[Epoch 29] val_acc=0.428994 train_acc=0.567248 val_loss=0.022469 train_loss=0.018170\n",
      "EarlyStopping counter: 12 out of 30\n",
      "[Epoch 30] val_acc=0.408284 train_acc=0.537423 val_loss=0.022973 train_loss=0.018170\n",
      "EarlyStopping counter: 13 out of 30\n",
      "[Epoch 31] val_acc=0.420118 train_acc=0.550929 val_loss=0.022722 train_loss=0.018027\n",
      "EarlyStopping counter: 14 out of 30\n",
      "[Epoch 32] val_acc=0.390533 train_acc=0.564434 val_loss=0.023280 train_loss=0.017985\n",
      "EarlyStopping counter: 15 out of 30\n",
      "[Epoch 33] val_acc=0.417160 train_acc=0.558807 val_loss=0.022659 train_loss=0.018068\n",
      "EarlyStopping counter: 16 out of 30\n",
      "[Epoch 34] val_acc=0.417160 train_acc=0.567248 val_loss=0.022669 train_loss=0.017949\n",
      "EarlyStopping counter: 17 out of 30\n",
      "[Epoch 35] val_acc=0.434911 train_acc=0.564434 val_loss=0.022476 train_loss=0.017753\n",
      "EarlyStopping counter: 18 out of 30\n",
      "[Epoch 36] val_acc=0.443787 train_acc=0.571750 val_loss=0.022749 train_loss=0.017761\n",
      "EarlyStopping counter: 19 out of 30\n",
      "[Epoch 37] val_acc=0.461538 train_acc=0.563872 val_loss=0.022482 train_loss=0.017846\n",
      "EarlyStopping counter: 20 out of 30\n",
      "[Epoch 38] val_acc=0.402367 train_acc=0.577940 val_loss=0.022851 train_loss=0.017658\n",
      "EarlyStopping counter: 21 out of 30\n",
      "[Epoch 39] val_acc=0.417160 train_acc=0.577940 val_loss=0.022627 train_loss=0.017507\n",
      "EarlyStopping counter: 22 out of 30\n",
      "[Epoch 40] val_acc=0.411243 train_acc=0.594823 val_loss=0.022807 train_loss=0.017568\n",
      "EarlyStopping counter: 23 out of 30\n",
      "[Epoch 41] val_acc=0.437870 train_acc=0.590321 val_loss=0.022894 train_loss=0.017486\n",
      "EarlyStopping counter: 24 out of 30\n",
      "[Epoch 42] val_acc=0.428994 train_acc=0.585819 val_loss=0.022856 train_loss=0.017573\n",
      "EarlyStopping counter: 25 out of 30\n",
      "[Epoch 43] val_acc=0.426036 train_acc=0.573438 val_loss=0.022561 train_loss=0.017709\n",
      "EarlyStopping counter: 26 out of 30\n",
      "[Epoch 44] val_acc=0.381657 train_acc=0.595385 val_loss=0.023135 train_loss=0.017467\n",
      "EarlyStopping counter: 27 out of 30\n",
      "[Epoch 45] val_acc=0.437870 train_acc=0.599887 val_loss=0.022695 train_loss=0.017438\n",
      "EarlyStopping counter: 28 out of 30\n",
      "[Epoch 46] val_acc=0.378698 train_acc=0.583568 val_loss=0.023658 train_loss=0.017144\n",
      "EarlyStopping counter: 29 out of 30\n",
      "[Epoch 47] val_acc=0.428994 train_acc=0.588633 val_loss=0.023225 train_loss=0.017387\n",
      "EarlyStopping counter: 30 out of 30\n",
      "Early stopping.\n",
      "Using device: mps\n",
      "[Epoch 0] val_acc=0.396450 train_acc=0.337085 val_loss=0.023579 train_loss=0.021555\n",
      "Validation loss decreased (inf --> 0.023579).  Saving model ...\n",
      "[Epoch 1] val_acc=0.372781 train_acc=0.425999 val_loss=0.023423 train_loss=0.020501\n",
      "Validation loss decreased (0.023579 --> 0.023423).  Saving model ...\n",
      "[Epoch 2] val_acc=0.455621 train_acc=0.450760 val_loss=0.022997 train_loss=0.019822\n",
      "Validation loss decreased (0.023423 --> 0.022997).  Saving model ...\n",
      "[Epoch 3] val_acc=0.426036 train_acc=0.490152 val_loss=0.022751 train_loss=0.019403\n",
      "Validation loss decreased (0.022997 --> 0.022751).  Saving model ...\n",
      "[Epoch 4] val_acc=0.464497 train_acc=0.515476 val_loss=0.022271 train_loss=0.018908\n",
      "Validation loss decreased (0.022751 --> 0.022271).  Saving model ...\n",
      "[Epoch 5] val_acc=0.523669 train_acc=0.512662 val_loss=0.021855 train_loss=0.018702\n",
      "Validation loss decreased (0.022271 --> 0.021855).  Saving model ...\n",
      "[Epoch 6] val_acc=0.508876 train_acc=0.536297 val_loss=0.021388 train_loss=0.018188\n",
      "Validation loss decreased (0.021855 --> 0.021388).  Saving model ...\n",
      "[Epoch 7] val_acc=0.550296 train_acc=0.558244 val_loss=0.020771 train_loss=0.018078\n",
      "Validation loss decreased (0.021388 --> 0.020771).  Saving model ...\n",
      "[Epoch 8] val_acc=0.446746 train_acc=0.545301 val_loss=0.020961 train_loss=0.018045\n",
      "EarlyStopping counter: 1 out of 30\n",
      "[Epoch 9] val_acc=0.500000 train_acc=0.570062 val_loss=0.020490 train_loss=0.017817\n",
      "Validation loss decreased (0.020771 --> 0.020490).  Saving model ...\n",
      "[Epoch 10] val_acc=0.494083 train_acc=0.571750 val_loss=0.020758 train_loss=0.017789\n",
      "EarlyStopping counter: 1 out of 30\n",
      "[Epoch 11] val_acc=0.538462 train_acc=0.566685 val_loss=0.020179 train_loss=0.017543\n",
      "Validation loss decreased (0.020490 --> 0.020179).  Saving model ...\n",
      "[Epoch 12] val_acc=0.553254 train_acc=0.583568 val_loss=0.019578 train_loss=0.017436\n",
      "Validation loss decreased (0.020179 --> 0.019578).  Saving model ...\n",
      "[Epoch 13] val_acc=0.526627 train_acc=0.592009 val_loss=0.019809 train_loss=0.017381\n",
      "EarlyStopping counter: 1 out of 30\n",
      "[Epoch 14] val_acc=0.497041 train_acc=0.579629 val_loss=0.019904 train_loss=0.017384\n",
      "EarlyStopping counter: 2 out of 30\n",
      "[Epoch 15] val_acc=0.538462 train_acc=0.610580 val_loss=0.019761 train_loss=0.016785\n",
      "EarlyStopping counter: 3 out of 30\n",
      "[Epoch 16] val_acc=0.520710 train_acc=0.611705 val_loss=0.019848 train_loss=0.017141\n",
      "EarlyStopping counter: 4 out of 30\n",
      "[Epoch 17] val_acc=0.573964 train_acc=0.619021 val_loss=0.019106 train_loss=0.016830\n",
      "Validation loss decreased (0.019578 --> 0.019106).  Saving model ...\n",
      "[Epoch 18] val_acc=0.541420 train_acc=0.623523 val_loss=0.019594 train_loss=0.016842\n",
      "EarlyStopping counter: 1 out of 30\n",
      "[Epoch 19] val_acc=0.520710 train_acc=0.610017 val_loss=0.019236 train_loss=0.016752\n",
      "EarlyStopping counter: 2 out of 30\n",
      "[Epoch 20] val_acc=0.550296 train_acc=0.612268 val_loss=0.019697 train_loss=0.016686\n",
      "EarlyStopping counter: 3 out of 30\n",
      "[Epoch 21] val_acc=0.535503 train_acc=0.611705 val_loss=0.019935 train_loss=0.016796\n",
      "EarlyStopping counter: 4 out of 30\n",
      "[Epoch 22] val_acc=0.550296 train_acc=0.625774 val_loss=0.019644 train_loss=0.016445\n",
      "EarlyStopping counter: 5 out of 30\n",
      "[Epoch 23] val_acc=0.553254 train_acc=0.622960 val_loss=0.019331 train_loss=0.016328\n",
      "EarlyStopping counter: 6 out of 30\n",
      "[Epoch 24] val_acc=0.529586 train_acc=0.651097 val_loss=0.019494 train_loss=0.016214\n",
      "EarlyStopping counter: 7 out of 30\n",
      "[Epoch 25] val_acc=0.568047 train_acc=0.639842 val_loss=0.019716 train_loss=0.016359\n",
      "EarlyStopping counter: 8 out of 30\n",
      "[Epoch 26] val_acc=0.532544 train_acc=0.642093 val_loss=0.020137 train_loss=0.016095\n",
      "EarlyStopping counter: 9 out of 30\n",
      "[Epoch 27] val_acc=0.535503 train_acc=0.640405 val_loss=0.019793 train_loss=0.016188\n",
      "EarlyStopping counter: 10 out of 30\n",
      "[Epoch 28] val_acc=0.535503 train_acc=0.653348 val_loss=0.019469 train_loss=0.015928\n",
      "EarlyStopping counter: 11 out of 30\n",
      "[Epoch 29] val_acc=0.571006 train_acc=0.660664 val_loss=0.019008 train_loss=0.015842\n",
      "Validation loss decreased (0.019106 --> 0.019008).  Saving model ...\n",
      "[Epoch 30] val_acc=0.562130 train_acc=0.658976 val_loss=0.018917 train_loss=0.015816\n",
      "Validation loss decreased (0.019008 --> 0.018917).  Saving model ...\n",
      "[Epoch 31] val_acc=0.523669 train_acc=0.663478 val_loss=0.020194 train_loss=0.015834\n",
      "EarlyStopping counter: 1 out of 30\n",
      "[Epoch 32] val_acc=0.573964 train_acc=0.650535 val_loss=0.019047 train_loss=0.015842\n",
      "EarlyStopping counter: 2 out of 30\n",
      "[Epoch 33] val_acc=0.553254 train_acc=0.649409 val_loss=0.019112 train_loss=0.015752\n",
      "EarlyStopping counter: 3 out of 30\n",
      "[Epoch 34] val_acc=0.538462 train_acc=0.663478 val_loss=0.019481 train_loss=0.015767\n",
      "EarlyStopping counter: 4 out of 30\n",
      "[Epoch 35] val_acc=0.553254 train_acc=0.682048 val_loss=0.019057 train_loss=0.015507\n",
      "EarlyStopping counter: 5 out of 30\n",
      "[Epoch 36] val_acc=0.559172 train_acc=0.682048 val_loss=0.019105 train_loss=0.015394\n",
      "EarlyStopping counter: 6 out of 30\n",
      "[Epoch 37] val_acc=0.538462 train_acc=0.665166 val_loss=0.020126 train_loss=0.015513\n",
      "EarlyStopping counter: 7 out of 30\n",
      "[Epoch 38] val_acc=0.541420 train_acc=0.664041 val_loss=0.019803 train_loss=0.015479\n",
      "EarlyStopping counter: 8 out of 30\n",
      "[Epoch 39] val_acc=0.529586 train_acc=0.673044 val_loss=0.019620 train_loss=0.015359\n",
      "EarlyStopping counter: 9 out of 30\n",
      "[Epoch 40] val_acc=0.547337 train_acc=0.687113 val_loss=0.019895 train_loss=0.015208\n",
      "EarlyStopping counter: 10 out of 30\n",
      "[Epoch 41] val_acc=0.571006 train_acc=0.669668 val_loss=0.019267 train_loss=0.015472\n",
      "EarlyStopping counter: 11 out of 30\n",
      "[Epoch 42] val_acc=0.565089 train_acc=0.700056 val_loss=0.019601 train_loss=0.015156\n",
      "EarlyStopping counter: 12 out of 30\n",
      "[Epoch 43] val_acc=0.582840 train_acc=0.673044 val_loss=0.019584 train_loss=0.015470\n",
      "EarlyStopping counter: 13 out of 30\n",
      "[Epoch 44] val_acc=0.535503 train_acc=0.691052 val_loss=0.020032 train_loss=0.015216\n",
      "EarlyStopping counter: 14 out of 30\n",
      "[Epoch 45] val_acc=0.582840 train_acc=0.691052 val_loss=0.019387 train_loss=0.015083\n",
      "EarlyStopping counter: 15 out of 30\n",
      "[Epoch 46] val_acc=0.585799 train_acc=0.700619 val_loss=0.019698 train_loss=0.014939\n",
      "EarlyStopping counter: 16 out of 30\n",
      "[Epoch 47] val_acc=0.550296 train_acc=0.703995 val_loss=0.019608 train_loss=0.014841\n",
      "EarlyStopping counter: 17 out of 30\n",
      "[Epoch 48] val_acc=0.576923 train_acc=0.703995 val_loss=0.019233 train_loss=0.014904\n",
      "EarlyStopping counter: 18 out of 30\n",
      "[Epoch 49] val_acc=0.538462 train_acc=0.711311 val_loss=0.019606 train_loss=0.014796\n",
      "EarlyStopping counter: 19 out of 30\n",
      "[Epoch 50] val_acc=0.556213 train_acc=0.706246 val_loss=0.019859 train_loss=0.014883\n",
      "EarlyStopping counter: 20 out of 30\n",
      "[Epoch 51] val_acc=0.559172 train_acc=0.710748 val_loss=0.018951 train_loss=0.014671\n",
      "EarlyStopping counter: 21 out of 30\n",
      "[Epoch 52] val_acc=0.553254 train_acc=0.705684 val_loss=0.019367 train_loss=0.014706\n",
      "EarlyStopping counter: 22 out of 30\n",
      "[Epoch 53] val_acc=0.553254 train_acc=0.722566 val_loss=0.019329 train_loss=0.014408\n",
      "EarlyStopping counter: 23 out of 30\n",
      "[Epoch 54] val_acc=0.568047 train_acc=0.713562 val_loss=0.019018 train_loss=0.014503\n",
      "EarlyStopping counter: 24 out of 30\n",
      "[Epoch 55] val_acc=0.538462 train_acc=0.722003 val_loss=0.020100 train_loss=0.014464\n",
      "EarlyStopping counter: 25 out of 30\n",
      "[Epoch 56] val_acc=0.538462 train_acc=0.696680 val_loss=0.019532 train_loss=0.014802\n",
      "EarlyStopping counter: 26 out of 30\n",
      "[Epoch 57] val_acc=0.559172 train_acc=0.722003 val_loss=0.019823 train_loss=0.014585\n",
      "EarlyStopping counter: 27 out of 30\n",
      "[Epoch 58] val_acc=0.585799 train_acc=0.714125 val_loss=0.019009 train_loss=0.014697\n",
      "EarlyStopping counter: 28 out of 30\n",
      "[Epoch 59] val_acc=0.550296 train_acc=0.727068 val_loss=0.019174 train_loss=0.014350\n",
      "EarlyStopping counter: 29 out of 30\n",
      "[Epoch 60] val_acc=0.529586 train_acc=0.723692 val_loss=0.019984 train_loss=0.014491\n",
      "EarlyStopping counter: 30 out of 30\n",
      "Early stopping.\n",
      "Using device: mps\n",
      "[Epoch 0] val_acc=0.319527 train_acc=0.341587 val_loss=0.024007 train_loss=0.021629\n",
      "Validation loss decreased (inf --> 0.024007).  Saving model ...\n",
      "[Epoch 1] val_acc=0.375740 train_acc=0.399550 val_loss=0.023504 train_loss=0.020569\n",
      "Validation loss decreased (0.024007 --> 0.023504).  Saving model ...\n",
      "[Epoch 2] val_acc=0.411243 train_acc=0.468768 val_loss=0.022853 train_loss=0.019706\n",
      "Validation loss decreased (0.023504 --> 0.022853).  Saving model ...\n",
      "[Epoch 3] val_acc=0.449704 train_acc=0.498030 val_loss=0.022541 train_loss=0.019188\n",
      "Validation loss decreased (0.022853 --> 0.022541).  Saving model ...\n",
      "[Epoch 4] val_acc=0.505917 train_acc=0.544738 val_loss=0.022106 train_loss=0.018466\n",
      "Validation loss decreased (0.022541 --> 0.022106).  Saving model ...\n",
      "[Epoch 5] val_acc=0.500000 train_acc=0.550929 val_loss=0.021588 train_loss=0.018015\n",
      "Validation loss decreased (0.022106 --> 0.021588).  Saving model ...\n",
      "[Epoch 6] val_acc=0.491124 train_acc=0.559932 val_loss=0.021183 train_loss=0.017943\n",
      "Validation loss decreased (0.021588 --> 0.021183).  Saving model ...\n",
      "[Epoch 7] val_acc=0.532544 train_acc=0.553742 val_loss=0.020653 train_loss=0.017559\n",
      "Validation loss decreased (0.021183 --> 0.020653).  Saving model ...\n",
      "[Epoch 8] val_acc=0.550296 train_acc=0.595948 val_loss=0.020029 train_loss=0.017407\n",
      "Validation loss decreased (0.020653 --> 0.020029).  Saving model ...\n",
      "[Epoch 9] val_acc=0.571006 train_acc=0.597636 val_loss=0.019543 train_loss=0.016987\n",
      "Validation loss decreased (0.020029 --> 0.019543).  Saving model ...\n",
      "[Epoch 10] val_acc=0.520710 train_acc=0.613393 val_loss=0.019985 train_loss=0.016867\n",
      "EarlyStopping counter: 1 out of 30\n",
      "[Epoch 11] val_acc=0.538462 train_acc=0.618458 val_loss=0.019123 train_loss=0.016847\n",
      "Validation loss decreased (0.019543 --> 0.019123).  Saving model ...\n",
      "[Epoch 12] val_acc=0.529586 train_acc=0.619021 val_loss=0.019502 train_loss=0.016764\n",
      "EarlyStopping counter: 1 out of 30\n",
      "[Epoch 13] val_acc=0.565089 train_acc=0.620146 val_loss=0.019043 train_loss=0.016510\n",
      "Validation loss decreased (0.019123 --> 0.019043).  Saving model ...\n",
      "[Epoch 14] val_acc=0.582840 train_acc=0.651097 val_loss=0.018604 train_loss=0.016098\n",
      "Validation loss decreased (0.019043 --> 0.018604).  Saving model ...\n",
      "[Epoch 15] val_acc=0.579882 train_acc=0.648846 val_loss=0.018718 train_loss=0.016158\n",
      "EarlyStopping counter: 1 out of 30\n",
      "[Epoch 16] val_acc=0.571006 train_acc=0.649972 val_loss=0.018724 train_loss=0.016159\n",
      "EarlyStopping counter: 2 out of 30\n",
      "[Epoch 17] val_acc=0.576923 train_acc=0.653911 val_loss=0.018634 train_loss=0.016032\n",
      "EarlyStopping counter: 3 out of 30\n",
      "[Epoch 18] val_acc=0.588757 train_acc=0.656725 val_loss=0.018722 train_loss=0.015754\n",
      "EarlyStopping counter: 4 out of 30\n",
      "[Epoch 19] val_acc=0.529586 train_acc=0.677546 val_loss=0.019488 train_loss=0.015749\n",
      "EarlyStopping counter: 5 out of 30\n",
      "[Epoch 20] val_acc=0.573964 train_acc=0.670231 val_loss=0.018702 train_loss=0.015835\n",
      "EarlyStopping counter: 6 out of 30\n",
      "[Epoch 21] val_acc=0.597633 train_acc=0.680360 val_loss=0.018311 train_loss=0.015566\n",
      "Validation loss decreased (0.018604 --> 0.018311).  Saving model ...\n",
      "[Epoch 22] val_acc=0.600592 train_acc=0.691052 val_loss=0.018575 train_loss=0.015262\n",
      "EarlyStopping counter: 1 out of 30\n",
      "[Epoch 23] val_acc=0.582840 train_acc=0.685988 val_loss=0.018132 train_loss=0.015296\n",
      "Validation loss decreased (0.018311 --> 0.018132).  Saving model ...\n",
      "[Epoch 24] val_acc=0.594675 train_acc=0.676421 val_loss=0.018101 train_loss=0.015457\n",
      "Validation loss decreased (0.018132 --> 0.018101).  Saving model ...\n",
      "[Epoch 25] val_acc=0.618343 train_acc=0.698931 val_loss=0.018289 train_loss=0.015080\n",
      "EarlyStopping counter: 1 out of 30\n",
      "[Epoch 26] val_acc=0.573964 train_acc=0.696680 val_loss=0.018708 train_loss=0.015145\n",
      "EarlyStopping counter: 2 out of 30\n",
      "[Epoch 27] val_acc=0.582840 train_acc=0.682611 val_loss=0.018198 train_loss=0.015289\n",
      "EarlyStopping counter: 3 out of 30\n",
      "[Epoch 28] val_acc=0.600592 train_acc=0.712437 val_loss=0.017938 train_loss=0.014803\n",
      "Validation loss decreased (0.018101 --> 0.017938).  Saving model ...\n",
      "[Epoch 29] val_acc=0.621302 train_acc=0.718627 val_loss=0.017253 train_loss=0.014696\n",
      "Validation loss decreased (0.017938 --> 0.017253).  Saving model ...\n",
      "[Epoch 30] val_acc=0.594675 train_acc=0.724254 val_loss=0.018305 train_loss=0.014571\n",
      "EarlyStopping counter: 1 out of 30\n",
      "[Epoch 31] val_acc=0.600592 train_acc=0.700056 val_loss=0.017768 train_loss=0.014679\n",
      "EarlyStopping counter: 2 out of 30\n",
      "[Epoch 32] val_acc=0.582840 train_acc=0.719752 val_loss=0.017816 train_loss=0.014636\n",
      "EarlyStopping counter: 3 out of 30\n",
      "[Epoch 33] val_acc=0.585799 train_acc=0.711874 val_loss=0.018034 train_loss=0.014651\n",
      "EarlyStopping counter: 4 out of 30\n",
      "[Epoch 34] val_acc=0.565089 train_acc=0.712999 val_loss=0.018000 train_loss=0.014749\n",
      "EarlyStopping counter: 5 out of 30\n",
      "[Epoch 35] val_acc=0.594675 train_acc=0.725943 val_loss=0.018325 train_loss=0.014360\n",
      "EarlyStopping counter: 6 out of 30\n",
      "[Epoch 36] val_acc=0.600592 train_acc=0.723692 val_loss=0.018014 train_loss=0.014483\n",
      "EarlyStopping counter: 7 out of 30\n",
      "[Epoch 37] val_acc=0.585799 train_acc=0.728194 val_loss=0.018409 train_loss=0.014302\n",
      "EarlyStopping counter: 8 out of 30\n",
      "[Epoch 38] val_acc=0.621302 train_acc=0.723692 val_loss=0.017475 train_loss=0.014543\n",
      "EarlyStopping counter: 9 out of 30\n",
      "[Epoch 39] val_acc=0.612426 train_acc=0.731570 val_loss=0.017736 train_loss=0.014169\n",
      "EarlyStopping counter: 10 out of 30\n",
      "[Epoch 40] val_acc=0.544379 train_acc=0.724254 val_loss=0.018191 train_loss=0.014381\n",
      "EarlyStopping counter: 11 out of 30\n",
      "[Epoch 41] val_acc=0.603550 train_acc=0.738323 val_loss=0.018108 train_loss=0.014196\n",
      "EarlyStopping counter: 12 out of 30\n",
      "[Epoch 42] val_acc=0.618343 train_acc=0.731570 val_loss=0.017426 train_loss=0.014277\n",
      "EarlyStopping counter: 13 out of 30\n",
      "[Epoch 43] val_acc=0.568047 train_acc=0.741699 val_loss=0.017748 train_loss=0.014029\n",
      "EarlyStopping counter: 14 out of 30\n",
      "[Epoch 44] val_acc=0.576923 train_acc=0.738886 val_loss=0.017837 train_loss=0.014052\n",
      "EarlyStopping counter: 15 out of 30\n",
      "[Epoch 45] val_acc=0.627219 train_acc=0.743950 val_loss=0.017240 train_loss=0.013927\n",
      "Validation loss decreased (0.017253 --> 0.017240).  Saving model ...\n",
      "[Epoch 46] val_acc=0.597633 train_acc=0.748452 val_loss=0.017695 train_loss=0.013992\n",
      "EarlyStopping counter: 1 out of 30\n",
      "[Epoch 47] val_acc=0.612426 train_acc=0.755768 val_loss=0.017172 train_loss=0.013824\n",
      "Validation loss decreased (0.017240 --> 0.017172).  Saving model ...\n",
      "[Epoch 48] val_acc=0.588757 train_acc=0.746764 val_loss=0.017716 train_loss=0.013852\n",
      "EarlyStopping counter: 1 out of 30\n",
      "[Epoch 49] val_acc=0.630178 train_acc=0.754080 val_loss=0.017746 train_loss=0.013668\n",
      "EarlyStopping counter: 2 out of 30\n",
      "[Epoch 50] val_acc=0.582840 train_acc=0.753517 val_loss=0.017866 train_loss=0.013580\n",
      "EarlyStopping counter: 3 out of 30\n",
      "[Epoch 51] val_acc=0.594675 train_acc=0.752392 val_loss=0.018391 train_loss=0.013889\n",
      "EarlyStopping counter: 4 out of 30\n",
      "[Epoch 52] val_acc=0.615385 train_acc=0.764209 val_loss=0.017836 train_loss=0.013536\n",
      "EarlyStopping counter: 5 out of 30\n",
      "[Epoch 53] val_acc=0.591716 train_acc=0.774339 val_loss=0.017822 train_loss=0.013507\n",
      "EarlyStopping counter: 6 out of 30\n",
      "[Epoch 54] val_acc=0.565089 train_acc=0.769274 val_loss=0.018565 train_loss=0.013669\n",
      "EarlyStopping counter: 7 out of 30\n",
      "[Epoch 55] val_acc=0.582840 train_acc=0.773776 val_loss=0.018318 train_loss=0.013556\n",
      "EarlyStopping counter: 8 out of 30\n",
      "[Epoch 56] val_acc=0.603550 train_acc=0.776027 val_loss=0.017995 train_loss=0.013337\n",
      "EarlyStopping counter: 9 out of 30\n",
      "[Epoch 57] val_acc=0.579882 train_acc=0.771525 val_loss=0.018447 train_loss=0.013363\n",
      "EarlyStopping counter: 10 out of 30\n",
      "[Epoch 58] val_acc=0.588757 train_acc=0.774902 val_loss=0.017924 train_loss=0.013359\n",
      "EarlyStopping counter: 11 out of 30\n",
      "[Epoch 59] val_acc=0.615385 train_acc=0.786719 val_loss=0.017529 train_loss=0.013191\n",
      "EarlyStopping counter: 12 out of 30\n",
      "[Epoch 60] val_acc=0.594675 train_acc=0.786156 val_loss=0.017415 train_loss=0.013301\n",
      "EarlyStopping counter: 13 out of 30\n",
      "[Epoch 61] val_acc=0.618343 train_acc=0.782217 val_loss=0.018012 train_loss=0.013307\n",
      "EarlyStopping counter: 14 out of 30\n",
      "[Epoch 62] val_acc=0.573964 train_acc=0.761396 val_loss=0.018559 train_loss=0.013489\n",
      "EarlyStopping counter: 15 out of 30\n",
      "[Epoch 63] val_acc=0.612426 train_acc=0.767586 val_loss=0.018141 train_loss=0.013282\n",
      "EarlyStopping counter: 16 out of 30\n",
      "[Epoch 64] val_acc=0.603550 train_acc=0.781092 val_loss=0.017382 train_loss=0.013144\n",
      "EarlyStopping counter: 17 out of 30\n",
      "[Epoch 65] val_acc=0.624260 train_acc=0.785031 val_loss=0.017730 train_loss=0.013131\n",
      "EarlyStopping counter: 18 out of 30\n",
      "[Epoch 66] val_acc=0.609467 train_acc=0.800225 val_loss=0.017732 train_loss=0.012875\n",
      "EarlyStopping counter: 19 out of 30\n",
      "[Epoch 67] val_acc=0.582840 train_acc=0.788970 val_loss=0.017974 train_loss=0.012995\n",
      "EarlyStopping counter: 20 out of 30\n",
      "[Epoch 68] val_acc=0.633136 train_acc=0.802476 val_loss=0.017382 train_loss=0.012797\n",
      "EarlyStopping counter: 21 out of 30\n",
      "[Epoch 69] val_acc=0.621302 train_acc=0.769837 val_loss=0.017924 train_loss=0.013331\n",
      "EarlyStopping counter: 22 out of 30\n",
      "[Epoch 70] val_acc=0.600592 train_acc=0.806978 val_loss=0.017516 train_loss=0.012933\n",
      "EarlyStopping counter: 23 out of 30\n",
      "[Epoch 71] val_acc=0.609467 train_acc=0.801351 val_loss=0.018216 train_loss=0.012669\n",
      "EarlyStopping counter: 24 out of 30\n",
      "[Epoch 72] val_acc=0.582840 train_acc=0.809792 val_loss=0.018251 train_loss=0.012642\n",
      "EarlyStopping counter: 25 out of 30\n",
      "[Epoch 73] val_acc=0.579882 train_acc=0.803602 val_loss=0.018268 train_loss=0.012671\n",
      "EarlyStopping counter: 26 out of 30\n",
      "[Epoch 74] val_acc=0.594675 train_acc=0.801351 val_loss=0.018122 train_loss=0.012744\n",
      "EarlyStopping counter: 27 out of 30\n",
      "[Epoch 75] val_acc=0.603550 train_acc=0.815419 val_loss=0.017928 train_loss=0.012520\n",
      "EarlyStopping counter: 28 out of 30\n",
      "[Epoch 76] val_acc=0.597633 train_acc=0.800788 val_loss=0.018053 train_loss=0.012711\n",
      "EarlyStopping counter: 29 out of 30\n",
      "[Epoch 77] val_acc=0.633136 train_acc=0.812043 val_loss=0.017570 train_loss=0.012491\n",
      "EarlyStopping counter: 30 out of 30\n",
      "Early stopping.\n",
      "Using device: mps\n",
      "[Epoch 0] val_acc=0.387574 train_acc=0.333708 val_loss=0.023647 train_loss=0.021567\n",
      "Validation loss decreased (inf --> 0.023647).  Saving model ...\n",
      "[Epoch 1] val_acc=0.396450 train_acc=0.440068 val_loss=0.023201 train_loss=0.020237\n",
      "Validation loss decreased (0.023647 --> 0.023201).  Saving model ...\n",
      "[Epoch 2] val_acc=0.455621 train_acc=0.491277 val_loss=0.022436 train_loss=0.019242\n",
      "Validation loss decreased (0.023201 --> 0.022436).  Saving model ...\n",
      "[Epoch 3] val_acc=0.461538 train_acc=0.514350 val_loss=0.021946 train_loss=0.018809\n",
      "Validation loss decreased (0.022436 --> 0.021946).  Saving model ...\n",
      "[Epoch 4] val_acc=0.526627 train_acc=0.546427 val_loss=0.021395 train_loss=0.018342\n",
      "Validation loss decreased (0.021946 --> 0.021395).  Saving model ...\n",
      "[Epoch 5] val_acc=0.541420 train_acc=0.563872 val_loss=0.020704 train_loss=0.017702\n",
      "Validation loss decreased (0.021395 --> 0.020704).  Saving model ...\n",
      "[Epoch 6] val_acc=0.538462 train_acc=0.568936 val_loss=0.020216 train_loss=0.017656\n",
      "Validation loss decreased (0.020704 --> 0.020216).  Saving model ...\n",
      "[Epoch 7] val_acc=0.565089 train_acc=0.596511 val_loss=0.019518 train_loss=0.017259\n",
      "Validation loss decreased (0.020216 --> 0.019518).  Saving model ...\n",
      "[Epoch 8] val_acc=0.573964 train_acc=0.609454 val_loss=0.019117 train_loss=0.016791\n",
      "Validation loss decreased (0.019518 --> 0.019117).  Saving model ...\n",
      "[Epoch 9] val_acc=0.565089 train_acc=0.622397 val_loss=0.018680 train_loss=0.016551\n",
      "Validation loss decreased (0.019117 --> 0.018680).  Saving model ...\n",
      "[Epoch 10] val_acc=0.579882 train_acc=0.642656 val_loss=0.018353 train_loss=0.016384\n",
      "Validation loss decreased (0.018680 --> 0.018353).  Saving model ...\n",
      "[Epoch 11] val_acc=0.588757 train_acc=0.656725 val_loss=0.017846 train_loss=0.016240\n",
      "Validation loss decreased (0.018353 --> 0.017846).  Saving model ...\n",
      "[Epoch 12] val_acc=0.618343 train_acc=0.665729 val_loss=0.017658 train_loss=0.015821\n",
      "Validation loss decreased (0.017846 --> 0.017658).  Saving model ...\n",
      "[Epoch 13] val_acc=0.606509 train_acc=0.664041 val_loss=0.016752 train_loss=0.015674\n",
      "Validation loss decreased (0.017658 --> 0.016752).  Saving model ...\n",
      "[Epoch 14] val_acc=0.618343 train_acc=0.677546 val_loss=0.017388 train_loss=0.015602\n",
      "EarlyStopping counter: 1 out of 30\n",
      "[Epoch 15] val_acc=0.630178 train_acc=0.682048 val_loss=0.016593 train_loss=0.015273\n",
      "Validation loss decreased (0.016752 --> 0.016593).  Saving model ...\n",
      "[Epoch 16] val_acc=0.644970 train_acc=0.696680 val_loss=0.016102 train_loss=0.015001\n",
      "Validation loss decreased (0.016593 --> 0.016102).  Saving model ...\n",
      "[Epoch 17] val_acc=0.597633 train_acc=0.689927 val_loss=0.016833 train_loss=0.015125\n",
      "EarlyStopping counter: 1 out of 30\n",
      "[Epoch 18] val_acc=0.636095 train_acc=0.695554 val_loss=0.016630 train_loss=0.014875\n",
      "EarlyStopping counter: 2 out of 30\n",
      "[Epoch 19] val_acc=0.627219 train_acc=0.691615 val_loss=0.016447 train_loss=0.014894\n",
      "EarlyStopping counter: 3 out of 30\n",
      "[Epoch 20] val_acc=0.600592 train_acc=0.706246 val_loss=0.015839 train_loss=0.014763\n",
      "Validation loss decreased (0.016102 --> 0.015839).  Saving model ...\n",
      "[Epoch 21] val_acc=0.656805 train_acc=0.720878 val_loss=0.015970 train_loss=0.014604\n",
      "EarlyStopping counter: 1 out of 30\n",
      "[Epoch 22] val_acc=0.671598 train_acc=0.710186 val_loss=0.015833 train_loss=0.014414\n",
      "Validation loss decreased (0.015839 --> 0.015833).  Saving model ...\n",
      "[Epoch 23] val_acc=0.630178 train_acc=0.705121 val_loss=0.015754 train_loss=0.014505\n",
      "Validation loss decreased (0.015833 --> 0.015754).  Saving model ...\n",
      "[Epoch 24] val_acc=0.630178 train_acc=0.733821 val_loss=0.015745 train_loss=0.014240\n",
      "Validation loss decreased (0.015754 --> 0.015745).  Saving model ...\n",
      "[Epoch 25] val_acc=0.633136 train_acc=0.724254 val_loss=0.016230 train_loss=0.014173\n",
      "EarlyStopping counter: 1 out of 30\n",
      "[Epoch 26] val_acc=0.659763 train_acc=0.723129 val_loss=0.016069 train_loss=0.014403\n",
      "EarlyStopping counter: 2 out of 30\n",
      "[Epoch 27] val_acc=0.665680 train_acc=0.732133 val_loss=0.015791 train_loss=0.014209\n",
      "EarlyStopping counter: 3 out of 30\n",
      "[Epoch 28] val_acc=0.621302 train_acc=0.744513 val_loss=0.015897 train_loss=0.013868\n",
      "EarlyStopping counter: 4 out of 30\n",
      "[Epoch 29] val_acc=0.653846 train_acc=0.750141 val_loss=0.015278 train_loss=0.013901\n",
      "Validation loss decreased (0.015745 --> 0.015278).  Saving model ...\n",
      "[Epoch 30] val_acc=0.650888 train_acc=0.739449 val_loss=0.016145 train_loss=0.013982\n",
      "EarlyStopping counter: 1 out of 30\n",
      "[Epoch 31] val_acc=0.653846 train_acc=0.740011 val_loss=0.015421 train_loss=0.013852\n",
      "EarlyStopping counter: 2 out of 30\n",
      "[Epoch 32] val_acc=0.650888 train_acc=0.754080 val_loss=0.015952 train_loss=0.013650\n",
      "EarlyStopping counter: 3 out of 30\n",
      "[Epoch 33] val_acc=0.689349 train_acc=0.747327 val_loss=0.014577 train_loss=0.013686\n",
      "Validation loss decreased (0.015278 --> 0.014577).  Saving model ...\n",
      "[Epoch 34] val_acc=0.642012 train_acc=0.754643 val_loss=0.015155 train_loss=0.013520\n",
      "EarlyStopping counter: 1 out of 30\n",
      "[Epoch 35] val_acc=0.668639 train_acc=0.772088 val_loss=0.015405 train_loss=0.013555\n",
      "EarlyStopping counter: 2 out of 30\n",
      "[Epoch 36] val_acc=0.642012 train_acc=0.755768 val_loss=0.016447 train_loss=0.013749\n",
      "EarlyStopping counter: 3 out of 30\n",
      "[Epoch 37] val_acc=0.674556 train_acc=0.754080 val_loss=0.014928 train_loss=0.013723\n",
      "EarlyStopping counter: 4 out of 30\n",
      "[Epoch 38] val_acc=0.659763 train_acc=0.764772 val_loss=0.015598 train_loss=0.013547\n",
      "EarlyStopping counter: 5 out of 30\n",
      "[Epoch 39] val_acc=0.650888 train_acc=0.763647 val_loss=0.015244 train_loss=0.013451\n",
      "EarlyStopping counter: 6 out of 30\n",
      "[Epoch 40] val_acc=0.659763 train_acc=0.773213 val_loss=0.015366 train_loss=0.013321\n",
      "EarlyStopping counter: 7 out of 30\n",
      "[Epoch 41] val_acc=0.659763 train_acc=0.775464 val_loss=0.015836 train_loss=0.013301\n",
      "EarlyStopping counter: 8 out of 30\n",
      "[Epoch 42] val_acc=0.680473 train_acc=0.782780 val_loss=0.015319 train_loss=0.013271\n",
      "EarlyStopping counter: 9 out of 30\n",
      "[Epoch 43] val_acc=0.656805 train_acc=0.792347 val_loss=0.014702 train_loss=0.013101\n",
      "EarlyStopping counter: 10 out of 30\n",
      "[Epoch 44] val_acc=0.653846 train_acc=0.788407 val_loss=0.015033 train_loss=0.013040\n",
      "EarlyStopping counter: 11 out of 30\n",
      "[Epoch 45] val_acc=0.680473 train_acc=0.787282 val_loss=0.014654 train_loss=0.013037\n",
      "EarlyStopping counter: 12 out of 30\n",
      "[Epoch 46] val_acc=0.689349 train_acc=0.782780 val_loss=0.015142 train_loss=0.013063\n",
      "EarlyStopping counter: 13 out of 30\n",
      "[Epoch 47] val_acc=0.674556 train_acc=0.799100 val_loss=0.014986 train_loss=0.012846\n",
      "EarlyStopping counter: 14 out of 30\n",
      "[Epoch 48] val_acc=0.630178 train_acc=0.794035 val_loss=0.015556 train_loss=0.012835\n",
      "EarlyStopping counter: 15 out of 30\n",
      "[Epoch 49] val_acc=0.659763 train_acc=0.812606 val_loss=0.014999 train_loss=0.012614\n",
      "EarlyStopping counter: 16 out of 30\n",
      "[Epoch 50] val_acc=0.692308 train_acc=0.804727 val_loss=0.014934 train_loss=0.012778\n",
      "EarlyStopping counter: 17 out of 30\n",
      "[Epoch 51] val_acc=0.668639 train_acc=0.811480 val_loss=0.014974 train_loss=0.012516\n",
      "EarlyStopping counter: 18 out of 30\n",
      "[Epoch 52] val_acc=0.665680 train_acc=0.797974 val_loss=0.015167 train_loss=0.012726\n",
      "EarlyStopping counter: 19 out of 30\n",
      "[Epoch 53] val_acc=0.680473 train_acc=0.786719 val_loss=0.015220 train_loss=0.012724\n",
      "EarlyStopping counter: 20 out of 30\n",
      "[Epoch 54] val_acc=0.630178 train_acc=0.800225 val_loss=0.015324 train_loss=0.012586\n",
      "EarlyStopping counter: 21 out of 30\n",
      "[Epoch 55] val_acc=0.656805 train_acc=0.799662 val_loss=0.014994 train_loss=0.012749\n",
      "EarlyStopping counter: 22 out of 30\n",
      "[Epoch 56] val_acc=0.671598 train_acc=0.814856 val_loss=0.015184 train_loss=0.012667\n",
      "EarlyStopping counter: 23 out of 30\n",
      "[Epoch 57] val_acc=0.671598 train_acc=0.810917 val_loss=0.015068 train_loss=0.012470\n",
      "EarlyStopping counter: 24 out of 30\n",
      "[Epoch 58] val_acc=0.689349 train_acc=0.821047 val_loss=0.014961 train_loss=0.012434\n",
      "EarlyStopping counter: 25 out of 30\n",
      "[Epoch 59] val_acc=0.656805 train_acc=0.830051 val_loss=0.014937 train_loss=0.012257\n",
      "EarlyStopping counter: 26 out of 30\n",
      "[Epoch 60] val_acc=0.677515 train_acc=0.810355 val_loss=0.015130 train_loss=0.012511\n",
      "EarlyStopping counter: 27 out of 30\n",
      "[Epoch 61] val_acc=0.656805 train_acc=0.827237 val_loss=0.015747 train_loss=0.012433\n",
      "EarlyStopping counter: 28 out of 30\n",
      "[Epoch 62] val_acc=0.659763 train_acc=0.820484 val_loss=0.015466 train_loss=0.012377\n",
      "EarlyStopping counter: 29 out of 30\n",
      "[Epoch 63] val_acc=0.665680 train_acc=0.827800 val_loss=0.015147 train_loss=0.012158\n",
      "EarlyStopping counter: 30 out of 30\n",
      "Early stopping.\n",
      "Using device: mps\n",
      "[Epoch 0] val_acc=0.399408 train_acc=0.321891 val_loss=0.023768 train_loss=0.021683\n",
      "Validation loss decreased (inf --> 0.023768).  Saving model ...\n",
      "[Epoch 1] val_acc=0.428994 train_acc=0.436128 val_loss=0.022981 train_loss=0.020031\n",
      "Validation loss decreased (0.023768 --> 0.022981).  Saving model ...\n",
      "[Epoch 2] val_acc=0.485207 train_acc=0.501970 val_loss=0.022212 train_loss=0.019081\n",
      "Validation loss decreased (0.022981 --> 0.022212).  Saving model ...\n",
      "[Epoch 3] val_acc=0.523669 train_acc=0.568936 val_loss=0.021428 train_loss=0.018017\n",
      "Validation loss decreased (0.022212 --> 0.021428).  Saving model ...\n",
      "[Epoch 4] val_acc=0.538462 train_acc=0.592572 val_loss=0.020584 train_loss=0.017290\n",
      "Validation loss decreased (0.021428 --> 0.020584).  Saving model ...\n",
      "[Epoch 5] val_acc=0.541420 train_acc=0.609454 val_loss=0.020286 train_loss=0.016930\n",
      "Validation loss decreased (0.020584 --> 0.020286).  Saving model ...\n",
      "[Epoch 6] val_acc=0.538462 train_acc=0.628588 val_loss=0.019730 train_loss=0.016527\n",
      "Validation loss decreased (0.020286 --> 0.019730).  Saving model ...\n",
      "[Epoch 7] val_acc=0.556213 train_acc=0.640405 val_loss=0.019046 train_loss=0.016170\n",
      "Validation loss decreased (0.019730 --> 0.019046).  Saving model ...\n",
      "[Epoch 8] val_acc=0.594675 train_acc=0.653348 val_loss=0.017867 train_loss=0.015884\n",
      "Validation loss decreased (0.019046 --> 0.017867).  Saving model ...\n",
      "[Epoch 9] val_acc=0.594675 train_acc=0.651097 val_loss=0.018037 train_loss=0.015778\n",
      "EarlyStopping counter: 1 out of 30\n",
      "[Epoch 10] val_acc=0.603550 train_acc=0.674170 val_loss=0.017453 train_loss=0.015451\n",
      "Validation loss decreased (0.017867 --> 0.017453).  Saving model ...\n",
      "[Epoch 11] val_acc=0.615385 train_acc=0.680360 val_loss=0.016662 train_loss=0.015174\n",
      "Validation loss decreased (0.017453 --> 0.016662).  Saving model ...\n",
      "[Epoch 12] val_acc=0.624260 train_acc=0.691052 val_loss=0.016146 train_loss=0.014999\n",
      "Validation loss decreased (0.016662 --> 0.016146).  Saving model ...\n",
      "[Epoch 13] val_acc=0.650888 train_acc=0.716939 val_loss=0.015840 train_loss=0.014701\n",
      "Validation loss decreased (0.016146 --> 0.015840).  Saving model ...\n",
      "[Epoch 14] val_acc=0.650888 train_acc=0.709060 val_loss=0.015358 train_loss=0.014752\n",
      "Validation loss decreased (0.015840 --> 0.015358).  Saving model ...\n",
      "[Epoch 15] val_acc=0.653846 train_acc=0.716376 val_loss=0.015129 train_loss=0.014504\n",
      "Validation loss decreased (0.015358 --> 0.015129).  Saving model ...\n",
      "[Epoch 16] val_acc=0.665680 train_acc=0.725380 val_loss=0.015274 train_loss=0.014389\n",
      "EarlyStopping counter: 1 out of 30\n",
      "[Epoch 17] val_acc=0.642012 train_acc=0.712999 val_loss=0.015646 train_loss=0.014441\n",
      "EarlyStopping counter: 2 out of 30\n",
      "[Epoch 18] val_acc=0.650888 train_acc=0.739449 val_loss=0.015215 train_loss=0.014218\n",
      "EarlyStopping counter: 3 out of 30\n",
      "[Epoch 19] val_acc=0.650888 train_acc=0.729882 val_loss=0.014765 train_loss=0.014240\n",
      "Validation loss decreased (0.015129 --> 0.014765).  Saving model ...\n",
      "[Epoch 20] val_acc=0.665680 train_acc=0.743388 val_loss=0.014100 train_loss=0.013933\n",
      "Validation loss decreased (0.014765 --> 0.014100).  Saving model ...\n",
      "[Epoch 21] val_acc=0.668639 train_acc=0.733821 val_loss=0.014629 train_loss=0.014154\n",
      "EarlyStopping counter: 1 out of 30\n",
      "[Epoch 22] val_acc=0.701183 train_acc=0.758019 val_loss=0.013669 train_loss=0.013592\n",
      "Validation loss decreased (0.014100 --> 0.013669).  Saving model ...\n",
      "[Epoch 23] val_acc=0.686391 train_acc=0.761396 val_loss=0.014635 train_loss=0.013639\n",
      "EarlyStopping counter: 1 out of 30\n",
      "[Epoch 24] val_acc=0.686391 train_acc=0.769837 val_loss=0.014305 train_loss=0.013475\n",
      "EarlyStopping counter: 2 out of 30\n",
      "[Epoch 25] val_acc=0.692308 train_acc=0.751266 val_loss=0.014316 train_loss=0.013737\n",
      "EarlyStopping counter: 3 out of 30\n",
      "[Epoch 26] val_acc=0.668639 train_acc=0.755205 val_loss=0.014496 train_loss=0.013472\n",
      "EarlyStopping counter: 4 out of 30\n",
      "[Epoch 27] val_acc=0.668639 train_acc=0.772088 val_loss=0.014603 train_loss=0.013298\n",
      "EarlyStopping counter: 5 out of 30\n",
      "[Epoch 28] val_acc=0.662722 train_acc=0.780529 val_loss=0.014469 train_loss=0.013133\n",
      "EarlyStopping counter: 6 out of 30\n",
      "[Epoch 29] val_acc=0.713018 train_acc=0.779403 val_loss=0.013722 train_loss=0.012971\n",
      "EarlyStopping counter: 7 out of 30\n",
      "[Epoch 30] val_acc=0.707101 train_acc=0.767023 val_loss=0.014071 train_loss=0.013387\n",
      "EarlyStopping counter: 8 out of 30\n",
      "[Epoch 31] val_acc=0.695266 train_acc=0.776590 val_loss=0.014220 train_loss=0.013279\n",
      "EarlyStopping counter: 9 out of 30\n",
      "[Epoch 32] val_acc=0.680473 train_acc=0.763084 val_loss=0.014616 train_loss=0.013278\n",
      "EarlyStopping counter: 10 out of 30\n",
      "[Epoch 33] val_acc=0.689349 train_acc=0.790096 val_loss=0.013611 train_loss=0.012837\n",
      "Validation loss decreased (0.013669 --> 0.013611).  Saving model ...\n",
      "[Epoch 34] val_acc=0.671598 train_acc=0.790096 val_loss=0.014044 train_loss=0.012951\n",
      "EarlyStopping counter: 1 out of 30\n",
      "[Epoch 35] val_acc=0.683432 train_acc=0.799100 val_loss=0.014344 train_loss=0.012801\n",
      "EarlyStopping counter: 2 out of 30\n",
      "[Epoch 36] val_acc=0.671598 train_acc=0.797411 val_loss=0.014388 train_loss=0.012734\n",
      "EarlyStopping counter: 3 out of 30\n",
      "[Epoch 37] val_acc=0.689349 train_acc=0.785594 val_loss=0.013761 train_loss=0.012844\n",
      "EarlyStopping counter: 4 out of 30\n",
      "[Epoch 38] val_acc=0.683432 train_acc=0.808666 val_loss=0.013813 train_loss=0.012584\n",
      "EarlyStopping counter: 5 out of 30\n",
      "[Epoch 39] val_acc=0.724852 train_acc=0.800225 val_loss=0.013806 train_loss=0.012662\n",
      "EarlyStopping counter: 6 out of 30\n",
      "[Epoch 40] val_acc=0.671598 train_acc=0.800225 val_loss=0.013822 train_loss=0.012744\n",
      "EarlyStopping counter: 7 out of 30\n",
      "[Epoch 41] val_acc=0.707101 train_acc=0.796849 val_loss=0.013650 train_loss=0.012631\n",
      "EarlyStopping counter: 8 out of 30\n",
      "[Epoch 42] val_acc=0.680473 train_acc=0.800788 val_loss=0.014445 train_loss=0.012590\n",
      "EarlyStopping counter: 9 out of 30\n",
      "[Epoch 43] val_acc=0.701183 train_acc=0.821609 val_loss=0.013882 train_loss=0.012213\n",
      "EarlyStopping counter: 10 out of 30\n",
      "[Epoch 44] val_acc=0.701183 train_acc=0.809792 val_loss=0.014206 train_loss=0.012556\n",
      "EarlyStopping counter: 11 out of 30\n",
      "[Epoch 45] val_acc=0.701183 train_acc=0.800225 val_loss=0.013907 train_loss=0.012497\n",
      "EarlyStopping counter: 12 out of 30\n",
      "[Epoch 46] val_acc=0.695266 train_acc=0.806415 val_loss=0.013952 train_loss=0.012473\n",
      "EarlyStopping counter: 13 out of 30\n",
      "[Epoch 47] val_acc=0.698225 train_acc=0.808104 val_loss=0.014127 train_loss=0.012560\n",
      "EarlyStopping counter: 14 out of 30\n",
      "[Epoch 48] val_acc=0.668639 train_acc=0.819358 val_loss=0.014222 train_loss=0.012263\n",
      "EarlyStopping counter: 15 out of 30\n",
      "[Epoch 49] val_acc=0.701183 train_acc=0.835678 val_loss=0.013790 train_loss=0.012145\n",
      "EarlyStopping counter: 16 out of 30\n",
      "[Epoch 50] val_acc=0.692308 train_acc=0.829488 val_loss=0.014563 train_loss=0.012201\n",
      "EarlyStopping counter: 17 out of 30\n",
      "[Epoch 51] val_acc=0.704142 train_acc=0.818796 val_loss=0.013646 train_loss=0.012218\n",
      "EarlyStopping counter: 18 out of 30\n",
      "[Epoch 52] val_acc=0.692308 train_acc=0.841306 val_loss=0.013868 train_loss=0.012035\n",
      "EarlyStopping counter: 19 out of 30\n",
      "[Epoch 53] val_acc=0.701183 train_acc=0.846370 val_loss=0.013737 train_loss=0.011902\n",
      "EarlyStopping counter: 20 out of 30\n",
      "[Epoch 54] val_acc=0.704142 train_acc=0.843557 val_loss=0.014195 train_loss=0.011847\n",
      "EarlyStopping counter: 21 out of 30\n",
      "[Epoch 55] val_acc=0.689349 train_acc=0.840180 val_loss=0.013810 train_loss=0.011944\n",
      "EarlyStopping counter: 22 out of 30\n",
      "[Epoch 56] val_acc=0.698225 train_acc=0.840180 val_loss=0.013690 train_loss=0.011805\n",
      "EarlyStopping counter: 23 out of 30\n",
      "[Epoch 57] val_acc=0.686391 train_acc=0.828925 val_loss=0.013862 train_loss=0.012091\n",
      "EarlyStopping counter: 24 out of 30\n",
      "[Epoch 58] val_acc=0.695266 train_acc=0.841306 val_loss=0.013466 train_loss=0.012021\n",
      "Validation loss decreased (0.013611 --> 0.013466).  Saving model ...\n",
      "[Epoch 59] val_acc=0.680473 train_acc=0.845245 val_loss=0.014088 train_loss=0.011936\n",
      "EarlyStopping counter: 1 out of 30\n",
      "[Epoch 60] val_acc=0.745562 train_acc=0.848621 val_loss=0.013721 train_loss=0.011670\n",
      "EarlyStopping counter: 2 out of 30\n",
      "[Epoch 61] val_acc=0.715976 train_acc=0.856500 val_loss=0.013524 train_loss=0.011711\n",
      "EarlyStopping counter: 3 out of 30\n",
      "[Epoch 62] val_acc=0.715976 train_acc=0.855374 val_loss=0.013343 train_loss=0.011698\n",
      "Validation loss decreased (0.013466 --> 0.013343).  Saving model ...\n",
      "[Epoch 63] val_acc=0.680473 train_acc=0.848059 val_loss=0.014846 train_loss=0.011704\n",
      "EarlyStopping counter: 1 out of 30\n",
      "[Epoch 64] val_acc=0.701183 train_acc=0.858188 val_loss=0.013610 train_loss=0.011502\n",
      "EarlyStopping counter: 2 out of 30\n",
      "[Epoch 65] val_acc=0.695266 train_acc=0.855374 val_loss=0.014142 train_loss=0.011555\n",
      "EarlyStopping counter: 3 out of 30\n",
      "[Epoch 66] val_acc=0.677515 train_acc=0.849184 val_loss=0.014236 train_loss=0.011647\n",
      "EarlyStopping counter: 4 out of 30\n",
      "[Epoch 67] val_acc=0.695266 train_acc=0.840743 val_loss=0.013496 train_loss=0.011743\n",
      "EarlyStopping counter: 5 out of 30\n",
      "[Epoch 68] val_acc=0.724852 train_acc=0.858751 val_loss=0.013344 train_loss=0.011437\n",
      "EarlyStopping counter: 6 out of 30\n",
      "[Epoch 69] val_acc=0.713018 train_acc=0.859313 val_loss=0.013914 train_loss=0.011461\n",
      "EarlyStopping counter: 7 out of 30\n",
      "[Epoch 70] val_acc=0.695266 train_acc=0.858188 val_loss=0.013692 train_loss=0.011510\n",
      "EarlyStopping counter: 8 out of 30\n",
      "[Epoch 71] val_acc=0.713018 train_acc=0.865504 val_loss=0.013518 train_loss=0.011387\n",
      "EarlyStopping counter: 9 out of 30\n",
      "[Epoch 72] val_acc=0.721893 train_acc=0.867192 val_loss=0.013739 train_loss=0.011361\n",
      "EarlyStopping counter: 10 out of 30\n",
      "[Epoch 73] val_acc=0.686391 train_acc=0.857625 val_loss=0.014160 train_loss=0.011425\n",
      "EarlyStopping counter: 11 out of 30\n",
      "[Epoch 74] val_acc=0.707101 train_acc=0.868317 val_loss=0.014200 train_loss=0.011365\n",
      "EarlyStopping counter: 12 out of 30\n",
      "[Epoch 75] val_acc=0.707101 train_acc=0.858751 val_loss=0.014017 train_loss=0.011578\n",
      "EarlyStopping counter: 13 out of 30\n",
      "[Epoch 76] val_acc=0.689349 train_acc=0.878447 val_loss=0.013896 train_loss=0.011305\n",
      "EarlyStopping counter: 14 out of 30\n",
      "[Epoch 77] val_acc=0.721893 train_acc=0.882386 val_loss=0.013571 train_loss=0.011206\n",
      "EarlyStopping counter: 15 out of 30\n",
      "[Epoch 78] val_acc=0.718935 train_acc=0.866629 val_loss=0.013761 train_loss=0.011223\n",
      "EarlyStopping counter: 16 out of 30\n",
      "[Epoch 79] val_acc=0.713018 train_acc=0.862690 val_loss=0.013503 train_loss=0.011398\n",
      "EarlyStopping counter: 17 out of 30\n",
      "[Epoch 80] val_acc=0.689349 train_acc=0.863815 val_loss=0.014552 train_loss=0.011340\n",
      "EarlyStopping counter: 18 out of 30\n",
      "[Epoch 81] val_acc=0.695266 train_acc=0.871694 val_loss=0.013594 train_loss=0.011326\n",
      "EarlyStopping counter: 19 out of 30\n",
      "[Epoch 82] val_acc=0.718935 train_acc=0.875633 val_loss=0.013731 train_loss=0.011167\n",
      "EarlyStopping counter: 20 out of 30\n",
      "[Epoch 83] val_acc=0.701183 train_acc=0.871694 val_loss=0.013973 train_loss=0.011365\n",
      "EarlyStopping counter: 21 out of 30\n",
      "[Epoch 84] val_acc=0.721893 train_acc=0.880698 val_loss=0.013886 train_loss=0.011061\n",
      "EarlyStopping counter: 22 out of 30\n",
      "[Epoch 85] val_acc=0.683432 train_acc=0.889702 val_loss=0.013650 train_loss=0.010946\n",
      "EarlyStopping counter: 23 out of 30\n",
      "[Epoch 86] val_acc=0.701183 train_acc=0.887451 val_loss=0.014487 train_loss=0.011005\n",
      "EarlyStopping counter: 24 out of 30\n",
      "[Epoch 87] val_acc=0.701183 train_acc=0.876759 val_loss=0.013961 train_loss=0.011191\n",
      "EarlyStopping counter: 25 out of 30\n",
      "[Epoch 88] val_acc=0.721893 train_acc=0.888576 val_loss=0.013911 train_loss=0.010891\n",
      "EarlyStopping counter: 26 out of 30\n",
      "[Epoch 89] val_acc=0.724852 train_acc=0.885763 val_loss=0.013650 train_loss=0.010916\n",
      "EarlyStopping counter: 27 out of 30\n",
      "[Epoch 90] val_acc=0.689349 train_acc=0.885200 val_loss=0.013723 train_loss=0.010905\n",
      "EarlyStopping counter: 28 out of 30\n",
      "[Epoch 91] val_acc=0.689349 train_acc=0.893641 val_loss=0.013931 train_loss=0.010850\n",
      "EarlyStopping counter: 29 out of 30\n",
      "[Epoch 92] val_acc=0.707101 train_acc=0.892515 val_loss=0.013713 train_loss=0.010926\n",
      "EarlyStopping counter: 30 out of 30\n",
      "Early stopping.\n",
      "Using device: mps\n",
      "[Epoch 0] val_acc=0.381657 train_acc=0.369724 val_loss=0.023511 train_loss=0.020954\n",
      "Validation loss decreased (inf --> 0.023511).  Saving model ...\n",
      "[Epoch 1] val_acc=0.473373 train_acc=0.520540 val_loss=0.021926 train_loss=0.018890\n",
      "Validation loss decreased (0.023511 --> 0.021926).  Saving model ...\n",
      "[Epoch 2] val_acc=0.535503 train_acc=0.602701 val_loss=0.021147 train_loss=0.017389\n",
      "Validation loss decreased (0.021926 --> 0.021147).  Saving model ...\n",
      "[Epoch 3] val_acc=0.532544 train_acc=0.628588 val_loss=0.020482 train_loss=0.016751\n",
      "Validation loss decreased (0.021147 --> 0.020482).  Saving model ...\n",
      "[Epoch 4] val_acc=0.514793 train_acc=0.656725 val_loss=0.019323 train_loss=0.016237\n",
      "Validation loss decreased (0.020482 --> 0.019323).  Saving model ...\n",
      "[Epoch 5] val_acc=0.523669 train_acc=0.666292 val_loss=0.019189 train_loss=0.015793\n",
      "Validation loss decreased (0.019323 --> 0.019189).  Saving model ...\n",
      "[Epoch 6] val_acc=0.585799 train_acc=0.701745 val_loss=0.018387 train_loss=0.015217\n",
      "Validation loss decreased (0.019189 --> 0.018387).  Saving model ...\n",
      "[Epoch 7] val_acc=0.585799 train_acc=0.725380 val_loss=0.017559 train_loss=0.014603\n",
      "Validation loss decreased (0.018387 --> 0.017559).  Saving model ...\n",
      "[Epoch 8] val_acc=0.585799 train_acc=0.726505 val_loss=0.017635 train_loss=0.014299\n",
      "EarlyStopping counter: 1 out of 30\n",
      "[Epoch 9] val_acc=0.618343 train_acc=0.756331 val_loss=0.016439 train_loss=0.013936\n",
      "Validation loss decreased (0.017559 --> 0.016439).  Saving model ...\n",
      "[Epoch 10] val_acc=0.636095 train_acc=0.759145 val_loss=0.016006 train_loss=0.013545\n",
      "Validation loss decreased (0.016439 --> 0.016006).  Saving model ...\n",
      "[Epoch 11] val_acc=0.650888 train_acc=0.772651 val_loss=0.015138 train_loss=0.013480\n",
      "Validation loss decreased (0.016006 --> 0.015138).  Saving model ...\n",
      "[Epoch 12] val_acc=0.659763 train_acc=0.791784 val_loss=0.015302 train_loss=0.013209\n",
      "EarlyStopping counter: 1 out of 30\n",
      "[Epoch 13] val_acc=0.665680 train_acc=0.771525 val_loss=0.015121 train_loss=0.013215\n",
      "Validation loss decreased (0.015138 --> 0.015121).  Saving model ...\n",
      "[Epoch 14] val_acc=0.674556 train_acc=0.803039 val_loss=0.015080 train_loss=0.012917\n",
      "Validation loss decreased (0.015121 --> 0.015080).  Saving model ...\n",
      "[Epoch 15] val_acc=0.704142 train_acc=0.800225 val_loss=0.014146 train_loss=0.012717\n",
      "Validation loss decreased (0.015080 --> 0.014146).  Saving model ...\n",
      "[Epoch 16] val_acc=0.677515 train_acc=0.810355 val_loss=0.014088 train_loss=0.012541\n",
      "Validation loss decreased (0.014146 --> 0.014088).  Saving model ...\n",
      "[Epoch 17] val_acc=0.680473 train_acc=0.809229 val_loss=0.014100 train_loss=0.012564\n",
      "EarlyStopping counter: 1 out of 30\n",
      "[Epoch 18] val_acc=0.644970 train_acc=0.810355 val_loss=0.015000 train_loss=0.012385\n",
      "EarlyStopping counter: 2 out of 30\n",
      "[Epoch 19] val_acc=0.715976 train_acc=0.809792 val_loss=0.013502 train_loss=0.012421\n",
      "Validation loss decreased (0.014088 --> 0.013502).  Saving model ...\n",
      "[Epoch 20] val_acc=0.689349 train_acc=0.819921 val_loss=0.014035 train_loss=0.012291\n",
      "EarlyStopping counter: 1 out of 30\n",
      "[Epoch 21] val_acc=0.692308 train_acc=0.827237 val_loss=0.013952 train_loss=0.012148\n",
      "EarlyStopping counter: 2 out of 30\n",
      "[Epoch 22] val_acc=0.704142 train_acc=0.839055 val_loss=0.013415 train_loss=0.011894\n",
      "Validation loss decreased (0.013502 --> 0.013415).  Saving model ...\n",
      "[Epoch 23] val_acc=0.683432 train_acc=0.832302 val_loss=0.013757 train_loss=0.011965\n",
      "EarlyStopping counter: 1 out of 30\n",
      "[Epoch 24] val_acc=0.677515 train_acc=0.829488 val_loss=0.013898 train_loss=0.012153\n",
      "EarlyStopping counter: 2 out of 30\n",
      "[Epoch 25] val_acc=0.715976 train_acc=0.840743 val_loss=0.013214 train_loss=0.011916\n",
      "Validation loss decreased (0.013415 --> 0.013214).  Saving model ...\n",
      "[Epoch 26] val_acc=0.680473 train_acc=0.839055 val_loss=0.013334 train_loss=0.011877\n",
      "EarlyStopping counter: 1 out of 30\n",
      "[Epoch 27] val_acc=0.713018 train_acc=0.830613 val_loss=0.013200 train_loss=0.011913\n",
      "Validation loss decreased (0.013214 --> 0.013200).  Saving model ...\n",
      "[Epoch 28] val_acc=0.686391 train_acc=0.856500 val_loss=0.013607 train_loss=0.011626\n",
      "EarlyStopping counter: 1 out of 30\n",
      "[Epoch 29] val_acc=0.695266 train_acc=0.846933 val_loss=0.013669 train_loss=0.011724\n",
      "EarlyStopping counter: 2 out of 30\n",
      "[Epoch 30] val_acc=0.689349 train_acc=0.853686 val_loss=0.013357 train_loss=0.011570\n",
      "EarlyStopping counter: 3 out of 30\n",
      "[Epoch 31] val_acc=0.710059 train_acc=0.852560 val_loss=0.012605 train_loss=0.011572\n",
      "Validation loss decreased (0.013200 --> 0.012605).  Saving model ...\n",
      "[Epoch 32] val_acc=0.721893 train_acc=0.862127 val_loss=0.013392 train_loss=0.011491\n",
      "EarlyStopping counter: 1 out of 30\n",
      "[Epoch 33] val_acc=0.695266 train_acc=0.848059 val_loss=0.013512 train_loss=0.011488\n",
      "EarlyStopping counter: 2 out of 30\n",
      "[Epoch 34] val_acc=0.710059 train_acc=0.870568 val_loss=0.013133 train_loss=0.011273\n",
      "EarlyStopping counter: 3 out of 30\n",
      "[Epoch 35] val_acc=0.715976 train_acc=0.879572 val_loss=0.013054 train_loss=0.011252\n",
      "EarlyStopping counter: 4 out of 30\n",
      "[Epoch 36] val_acc=0.718935 train_acc=0.877884 val_loss=0.012911 train_loss=0.011194\n",
      "EarlyStopping counter: 5 out of 30\n",
      "[Epoch 37] val_acc=0.721893 train_acc=0.870006 val_loss=0.013192 train_loss=0.011242\n",
      "EarlyStopping counter: 6 out of 30\n",
      "[Epoch 38] val_acc=0.730769 train_acc=0.871131 val_loss=0.012799 train_loss=0.011287\n",
      "EarlyStopping counter: 7 out of 30\n",
      "[Epoch 39] val_acc=0.757396 train_acc=0.874508 val_loss=0.012766 train_loss=0.011121\n",
      "EarlyStopping counter: 8 out of 30\n",
      "[Epoch 40] val_acc=0.721893 train_acc=0.885200 val_loss=0.013386 train_loss=0.011002\n",
      "EarlyStopping counter: 9 out of 30\n",
      "[Epoch 41] val_acc=0.698225 train_acc=0.882949 val_loss=0.013308 train_loss=0.010991\n",
      "EarlyStopping counter: 10 out of 30\n",
      "[Epoch 42] val_acc=0.713018 train_acc=0.886325 val_loss=0.013198 train_loss=0.010787\n",
      "EarlyStopping counter: 11 out of 30\n",
      "[Epoch 43] val_acc=0.713018 train_acc=0.873945 val_loss=0.012787 train_loss=0.011147\n",
      "EarlyStopping counter: 12 out of 30\n",
      "[Epoch 44] val_acc=0.727811 train_acc=0.878447 val_loss=0.013126 train_loss=0.010995\n",
      "EarlyStopping counter: 13 out of 30\n",
      "[Epoch 45] val_acc=0.701183 train_acc=0.889702 val_loss=0.013541 train_loss=0.010954\n",
      "EarlyStopping counter: 14 out of 30\n",
      "[Epoch 46] val_acc=0.742604 train_acc=0.884637 val_loss=0.012693 train_loss=0.010774\n",
      "EarlyStopping counter: 15 out of 30\n",
      "[Epoch 47] val_acc=0.715976 train_acc=0.893641 val_loss=0.012744 train_loss=0.010735\n",
      "EarlyStopping counter: 16 out of 30\n",
      "[Epoch 48] val_acc=0.718935 train_acc=0.894766 val_loss=0.012855 train_loss=0.010827\n",
      "EarlyStopping counter: 17 out of 30\n",
      "[Epoch 49] val_acc=0.707101 train_acc=0.891953 val_loss=0.012767 train_loss=0.010672\n",
      "EarlyStopping counter: 18 out of 30\n",
      "[Epoch 50] val_acc=0.727811 train_acc=0.889139 val_loss=0.012906 train_loss=0.010755\n",
      "EarlyStopping counter: 19 out of 30\n",
      "[Epoch 51] val_acc=0.724852 train_acc=0.900394 val_loss=0.013129 train_loss=0.010682\n",
      "EarlyStopping counter: 20 out of 30\n",
      "[Epoch 52] val_acc=0.704142 train_acc=0.898706 val_loss=0.013731 train_loss=0.010765\n",
      "EarlyStopping counter: 21 out of 30\n",
      "[Epoch 53] val_acc=0.742604 train_acc=0.903208 val_loss=0.012698 train_loss=0.010677\n",
      "EarlyStopping counter: 22 out of 30\n",
      "[Epoch 54] val_acc=0.704142 train_acc=0.885200 val_loss=0.013356 train_loss=0.010856\n",
      "EarlyStopping counter: 23 out of 30\n",
      "[Epoch 55] val_acc=0.733728 train_acc=0.904333 val_loss=0.012429 train_loss=0.010634\n",
      "Validation loss decreased (0.012605 --> 0.012429).  Saving model ...\n",
      "[Epoch 56] val_acc=0.721893 train_acc=0.906021 val_loss=0.012656 train_loss=0.010596\n",
      "EarlyStopping counter: 1 out of 30\n",
      "[Epoch 57] val_acc=0.713018 train_acc=0.898143 val_loss=0.012959 train_loss=0.010606\n",
      "EarlyStopping counter: 2 out of 30\n",
      "[Epoch 58] val_acc=0.718935 train_acc=0.909961 val_loss=0.013033 train_loss=0.010533\n",
      "EarlyStopping counter: 3 out of 30\n",
      "[Epoch 59] val_acc=0.733728 train_acc=0.912774 val_loss=0.012761 train_loss=0.010424\n",
      "EarlyStopping counter: 4 out of 30\n",
      "[Epoch 60] val_acc=0.733728 train_acc=0.915025 val_loss=0.012312 train_loss=0.010371\n",
      "Validation loss decreased (0.012429 --> 0.012312).  Saving model ...\n",
      "[Epoch 61] val_acc=0.718935 train_acc=0.922341 val_loss=0.012442 train_loss=0.010255\n",
      "EarlyStopping counter: 1 out of 30\n",
      "[Epoch 62] val_acc=0.727811 train_acc=0.912774 val_loss=0.012872 train_loss=0.010405\n",
      "EarlyStopping counter: 2 out of 30\n",
      "[Epoch 63] val_acc=0.727811 train_acc=0.918965 val_loss=0.012455 train_loss=0.010270\n",
      "EarlyStopping counter: 3 out of 30\n",
      "[Epoch 64] val_acc=0.748521 train_acc=0.909961 val_loss=0.012525 train_loss=0.010318\n",
      "EarlyStopping counter: 4 out of 30\n",
      "[Epoch 65] val_acc=0.736686 train_acc=0.915588 val_loss=0.012664 train_loss=0.010328\n",
      "EarlyStopping counter: 5 out of 30\n",
      "[Epoch 66] val_acc=0.751479 train_acc=0.913337 val_loss=0.012470 train_loss=0.010264\n",
      "EarlyStopping counter: 6 out of 30\n",
      "[Epoch 67] val_acc=0.757396 train_acc=0.926843 val_loss=0.012096 train_loss=0.010174\n",
      "Validation loss decreased (0.012312 --> 0.012096).  Saving model ...\n",
      "[Epoch 68] val_acc=0.730769 train_acc=0.922904 val_loss=0.012620 train_loss=0.010146\n",
      "EarlyStopping counter: 1 out of 30\n",
      "[Epoch 69] val_acc=0.733728 train_acc=0.922904 val_loss=0.012340 train_loss=0.010224\n",
      "EarlyStopping counter: 2 out of 30\n",
      "[Epoch 70] val_acc=0.715976 train_acc=0.923467 val_loss=0.012297 train_loss=0.010246\n",
      "EarlyStopping counter: 3 out of 30\n",
      "[Epoch 71] val_acc=0.724852 train_acc=0.915588 val_loss=0.012967 train_loss=0.010277\n",
      "EarlyStopping counter: 4 out of 30\n",
      "[Epoch 72] val_acc=0.730769 train_acc=0.912774 val_loss=0.012908 train_loss=0.010233\n",
      "EarlyStopping counter: 5 out of 30\n",
      "[Epoch 73] val_acc=0.710059 train_acc=0.927968 val_loss=0.012733 train_loss=0.010107\n",
      "EarlyStopping counter: 6 out of 30\n",
      "[Epoch 74] val_acc=0.733728 train_acc=0.922904 val_loss=0.012720 train_loss=0.010233\n",
      "EarlyStopping counter: 7 out of 30\n",
      "[Epoch 75] val_acc=0.707101 train_acc=0.918965 val_loss=0.012890 train_loss=0.010159\n",
      "EarlyStopping counter: 8 out of 30\n",
      "[Epoch 76] val_acc=0.733728 train_acc=0.929094 val_loss=0.012573 train_loss=0.010024\n",
      "EarlyStopping counter: 9 out of 30\n",
      "[Epoch 77] val_acc=0.718935 train_acc=0.916714 val_loss=0.012732 train_loss=0.010146\n",
      "EarlyStopping counter: 10 out of 30\n",
      "[Epoch 78] val_acc=0.730769 train_acc=0.929657 val_loss=0.012558 train_loss=0.009937\n",
      "EarlyStopping counter: 11 out of 30\n",
      "[Epoch 79] val_acc=0.715976 train_acc=0.926843 val_loss=0.012862 train_loss=0.010151\n",
      "EarlyStopping counter: 12 out of 30\n",
      "[Epoch 80] val_acc=0.721893 train_acc=0.927406 val_loss=0.013105 train_loss=0.010159\n",
      "EarlyStopping counter: 13 out of 30\n",
      "[Epoch 81] val_acc=0.701183 train_acc=0.919527 val_loss=0.012886 train_loss=0.010118\n",
      "EarlyStopping counter: 14 out of 30\n",
      "[Epoch 82] val_acc=0.727811 train_acc=0.939223 val_loss=0.012436 train_loss=0.009954\n",
      "EarlyStopping counter: 15 out of 30\n",
      "[Epoch 83] val_acc=0.715976 train_acc=0.929657 val_loss=0.012712 train_loss=0.009941\n",
      "EarlyStopping counter: 16 out of 30\n",
      "[Epoch 84] val_acc=0.724852 train_acc=0.936410 val_loss=0.012479 train_loss=0.009859\n",
      "EarlyStopping counter: 17 out of 30\n",
      "[Epoch 85] val_acc=0.718935 train_acc=0.930219 val_loss=0.012548 train_loss=0.009928\n",
      "EarlyStopping counter: 18 out of 30\n",
      "[Epoch 86] val_acc=0.727811 train_acc=0.931908 val_loss=0.012703 train_loss=0.009927\n",
      "EarlyStopping counter: 19 out of 30\n",
      "[Epoch 87] val_acc=0.742604 train_acc=0.929094 val_loss=0.012185 train_loss=0.010049\n",
      "EarlyStopping counter: 20 out of 30\n",
      "[Epoch 88] val_acc=0.727811 train_acc=0.943163 val_loss=0.012849 train_loss=0.009835\n",
      "EarlyStopping counter: 21 out of 30\n",
      "[Epoch 89] val_acc=0.724852 train_acc=0.933033 val_loss=0.012750 train_loss=0.009857\n",
      "EarlyStopping counter: 22 out of 30\n",
      "[Epoch 90] val_acc=0.707101 train_acc=0.952167 val_loss=0.012582 train_loss=0.009686\n",
      "EarlyStopping counter: 23 out of 30\n",
      "[Epoch 91] val_acc=0.721893 train_acc=0.930219 val_loss=0.012524 train_loss=0.009925\n",
      "EarlyStopping counter: 24 out of 30\n",
      "[Epoch 92] val_acc=0.718935 train_acc=0.935847 val_loss=0.012689 train_loss=0.009879\n",
      "EarlyStopping counter: 25 out of 30\n",
      "[Epoch 93] val_acc=0.727811 train_acc=0.938098 val_loss=0.012614 train_loss=0.009837\n",
      "EarlyStopping counter: 26 out of 30\n",
      "[Epoch 94] val_acc=0.754438 train_acc=0.936410 val_loss=0.012369 train_loss=0.009703\n",
      "EarlyStopping counter: 27 out of 30\n",
      "[Epoch 95] val_acc=0.760355 train_acc=0.948227 val_loss=0.012172 train_loss=0.009771\n",
      "EarlyStopping counter: 28 out of 30\n",
      "[Epoch 96] val_acc=0.733728 train_acc=0.947102 val_loss=0.012605 train_loss=0.009698\n",
      "EarlyStopping counter: 29 out of 30\n",
      "[Epoch 97] val_acc=0.718935 train_acc=0.948227 val_loss=0.012455 train_loss=0.009474\n",
      "EarlyStopping counter: 30 out of 30\n",
      "Early stopping.\n",
      "Using device: mps\n",
      "[Epoch 0] val_acc=0.428994 train_acc=0.373663 val_loss=0.023132 train_loss=0.021025\n",
      "Validation loss decreased (inf --> 0.023132).  Saving model ...\n",
      "[Epoch 1] val_acc=0.467456 train_acc=0.520540 val_loss=0.021724 train_loss=0.018717\n",
      "Validation loss decreased (0.023132 --> 0.021724).  Saving model ...\n",
      "[Epoch 2] val_acc=0.511834 train_acc=0.610580 val_loss=0.020923 train_loss=0.017267\n",
      "Validation loss decreased (0.021724 --> 0.020923).  Saving model ...\n",
      "[Epoch 3] val_acc=0.541420 train_acc=0.619584 val_loss=0.020368 train_loss=0.016828\n",
      "Validation loss decreased (0.020923 --> 0.020368).  Saving model ...\n",
      "[Epoch 4] val_acc=0.511834 train_acc=0.668542 val_loss=0.019712 train_loss=0.015997\n",
      "Validation loss decreased (0.020368 --> 0.019712).  Saving model ...\n",
      "[Epoch 5] val_acc=0.547337 train_acc=0.691615 val_loss=0.019067 train_loss=0.015467\n",
      "Validation loss decreased (0.019712 --> 0.019067).  Saving model ...\n",
      "[Epoch 6] val_acc=0.562130 train_acc=0.713562 val_loss=0.018244 train_loss=0.014906\n",
      "Validation loss decreased (0.019067 --> 0.018244).  Saving model ...\n",
      "[Epoch 7] val_acc=0.576923 train_acc=0.719752 val_loss=0.017558 train_loss=0.014547\n",
      "Validation loss decreased (0.018244 --> 0.017558).  Saving model ...\n",
      "[Epoch 8] val_acc=0.642012 train_acc=0.761958 val_loss=0.016210 train_loss=0.013985\n",
      "Validation loss decreased (0.017558 --> 0.016210).  Saving model ...\n",
      "[Epoch 9] val_acc=0.633136 train_acc=0.751266 val_loss=0.016086 train_loss=0.013980\n",
      "Validation loss decreased (0.016210 --> 0.016086).  Saving model ...\n",
      "[Epoch 10] val_acc=0.683432 train_acc=0.761396 val_loss=0.014963 train_loss=0.013617\n",
      "Validation loss decreased (0.016086 --> 0.014963).  Saving model ...\n",
      "[Epoch 11] val_acc=0.698225 train_acc=0.796849 val_loss=0.014246 train_loss=0.013109\n",
      "Validation loss decreased (0.014963 --> 0.014246).  Saving model ...\n",
      "[Epoch 12] val_acc=0.695266 train_acc=0.785594 val_loss=0.014417 train_loss=0.012989\n",
      "EarlyStopping counter: 1 out of 30\n",
      "[Epoch 13] val_acc=0.668639 train_acc=0.787845 val_loss=0.014250 train_loss=0.013034\n",
      "EarlyStopping counter: 2 out of 30\n",
      "[Epoch 14] val_acc=0.689349 train_acc=0.794598 val_loss=0.013720 train_loss=0.012874\n",
      "Validation loss decreased (0.014246 --> 0.013720).  Saving model ...\n",
      "[Epoch 15] val_acc=0.683432 train_acc=0.814294 val_loss=0.014298 train_loss=0.012543\n",
      "EarlyStopping counter: 1 out of 30\n",
      "[Epoch 16] val_acc=0.680473 train_acc=0.809229 val_loss=0.013485 train_loss=0.012565\n",
      "Validation loss decreased (0.013720 --> 0.013485).  Saving model ...\n",
      "[Epoch 17] val_acc=0.686391 train_acc=0.821047 val_loss=0.013330 train_loss=0.012152\n",
      "Validation loss decreased (0.013485 --> 0.013330).  Saving model ...\n",
      "[Epoch 18] val_acc=0.724852 train_acc=0.835678 val_loss=0.012942 train_loss=0.012105\n",
      "Validation loss decreased (0.013330 --> 0.012942).  Saving model ...\n",
      "[Epoch 19] val_acc=0.686391 train_acc=0.828362 val_loss=0.013110 train_loss=0.012129\n",
      "EarlyStopping counter: 1 out of 30\n",
      "[Epoch 20] val_acc=0.710059 train_acc=0.850310 val_loss=0.012527 train_loss=0.011840\n",
      "Validation loss decreased (0.012942 --> 0.012527).  Saving model ...\n",
      "[Epoch 21] val_acc=0.727811 train_acc=0.847496 val_loss=0.012956 train_loss=0.011796\n",
      "EarlyStopping counter: 1 out of 30\n",
      "[Epoch 22] val_acc=0.715976 train_acc=0.861564 val_loss=0.012606 train_loss=0.011550\n",
      "EarlyStopping counter: 2 out of 30\n",
      "[Epoch 23] val_acc=0.695266 train_acc=0.856500 val_loss=0.012726 train_loss=0.011566\n",
      "EarlyStopping counter: 3 out of 30\n",
      "[Epoch 24] val_acc=0.724852 train_acc=0.866629 val_loss=0.012603 train_loss=0.011450\n",
      "EarlyStopping counter: 4 out of 30\n",
      "[Epoch 25] val_acc=0.715976 train_acc=0.842431 val_loss=0.012869 train_loss=0.011669\n",
      "EarlyStopping counter: 5 out of 30\n",
      "[Epoch 26] val_acc=0.710059 train_acc=0.865504 val_loss=0.012932 train_loss=0.011358\n",
      "EarlyStopping counter: 6 out of 30\n",
      "[Epoch 27] val_acc=0.677515 train_acc=0.863253 val_loss=0.012877 train_loss=0.011452\n",
      "EarlyStopping counter: 7 out of 30\n",
      "[Epoch 28] val_acc=0.721893 train_acc=0.872819 val_loss=0.011878 train_loss=0.011208\n",
      "Validation loss decreased (0.012527 --> 0.011878).  Saving model ...\n",
      "[Epoch 29] val_acc=0.704142 train_acc=0.874508 val_loss=0.012681 train_loss=0.011213\n",
      "EarlyStopping counter: 1 out of 30\n",
      "[Epoch 30] val_acc=0.704142 train_acc=0.875633 val_loss=0.012527 train_loss=0.011060\n",
      "EarlyStopping counter: 2 out of 30\n",
      "[Epoch 31] val_acc=0.689349 train_acc=0.882386 val_loss=0.012904 train_loss=0.011048\n",
      "EarlyStopping counter: 3 out of 30\n",
      "[Epoch 32] val_acc=0.718935 train_acc=0.887451 val_loss=0.012296 train_loss=0.011016\n",
      "EarlyStopping counter: 4 out of 30\n",
      "[Epoch 33] val_acc=0.680473 train_acc=0.886888 val_loss=0.013171 train_loss=0.011007\n",
      "EarlyStopping counter: 5 out of 30\n",
      "[Epoch 34] val_acc=0.704142 train_acc=0.874508 val_loss=0.013163 train_loss=0.010983\n",
      "EarlyStopping counter: 6 out of 30\n",
      "[Epoch 35] val_acc=0.713018 train_acc=0.896455 val_loss=0.012511 train_loss=0.010800\n",
      "EarlyStopping counter: 7 out of 30\n",
      "[Epoch 36] val_acc=0.713018 train_acc=0.887451 val_loss=0.012383 train_loss=0.010848\n",
      "EarlyStopping counter: 8 out of 30\n",
      "[Epoch 37] val_acc=0.730769 train_acc=0.893078 val_loss=0.012363 train_loss=0.010793\n",
      "EarlyStopping counter: 9 out of 30\n",
      "[Epoch 38] val_acc=0.698225 train_acc=0.906584 val_loss=0.012127 train_loss=0.010556\n",
      "EarlyStopping counter: 10 out of 30\n",
      "[Epoch 39] val_acc=0.707101 train_acc=0.892515 val_loss=0.012397 train_loss=0.010701\n",
      "EarlyStopping counter: 11 out of 30\n",
      "[Epoch 40] val_acc=0.698225 train_acc=0.893078 val_loss=0.012581 train_loss=0.010740\n",
      "EarlyStopping counter: 12 out of 30\n",
      "[Epoch 41] val_acc=0.710059 train_acc=0.919527 val_loss=0.012494 train_loss=0.010445\n",
      "EarlyStopping counter: 13 out of 30\n",
      "[Epoch 42] val_acc=0.730769 train_acc=0.907147 val_loss=0.012018 train_loss=0.010524\n",
      "EarlyStopping counter: 14 out of 30\n",
      "[Epoch 43] val_acc=0.715976 train_acc=0.903208 val_loss=0.012249 train_loss=0.010477\n",
      "EarlyStopping counter: 15 out of 30\n",
      "[Epoch 44] val_acc=0.715976 train_acc=0.899268 val_loss=0.012019 train_loss=0.010599\n",
      "EarlyStopping counter: 16 out of 30\n",
      "[Epoch 45] val_acc=0.710059 train_acc=0.920090 val_loss=0.012109 train_loss=0.010317\n",
      "EarlyStopping counter: 17 out of 30\n",
      "[Epoch 46] val_acc=0.710059 train_acc=0.909398 val_loss=0.012234 train_loss=0.010388\n",
      "EarlyStopping counter: 18 out of 30\n",
      "[Epoch 47] val_acc=0.718935 train_acc=0.923467 val_loss=0.012177 train_loss=0.010208\n",
      "EarlyStopping counter: 19 out of 30\n",
      "[Epoch 48] val_acc=0.739645 train_acc=0.916714 val_loss=0.011806 train_loss=0.010205\n",
      "Validation loss decreased (0.011878 --> 0.011806).  Saving model ...\n",
      "[Epoch 49] val_acc=0.683432 train_acc=0.921216 val_loss=0.012173 train_loss=0.010239\n",
      "EarlyStopping counter: 1 out of 30\n",
      "[Epoch 50] val_acc=0.704142 train_acc=0.918965 val_loss=0.012531 train_loss=0.010322\n",
      "EarlyStopping counter: 2 out of 30\n",
      "[Epoch 51] val_acc=0.724852 train_acc=0.917839 val_loss=0.011714 train_loss=0.010218\n",
      "Validation loss decreased (0.011806 --> 0.011714).  Saving model ...\n",
      "[Epoch 52] val_acc=0.701183 train_acc=0.914463 val_loss=0.012148 train_loss=0.010330\n",
      "EarlyStopping counter: 1 out of 30\n",
      "[Epoch 53] val_acc=0.707101 train_acc=0.929094 val_loss=0.011909 train_loss=0.010102\n",
      "EarlyStopping counter: 2 out of 30\n",
      "[Epoch 54] val_acc=0.692308 train_acc=0.926843 val_loss=0.012102 train_loss=0.010136\n",
      "EarlyStopping counter: 3 out of 30\n",
      "[Epoch 55] val_acc=0.718935 train_acc=0.928531 val_loss=0.011875 train_loss=0.010046\n",
      "EarlyStopping counter: 4 out of 30\n",
      "[Epoch 56] val_acc=0.707101 train_acc=0.918965 val_loss=0.012515 train_loss=0.010193\n",
      "EarlyStopping counter: 5 out of 30\n",
      "[Epoch 57] val_acc=0.689349 train_acc=0.917839 val_loss=0.012785 train_loss=0.010256\n",
      "EarlyStopping counter: 6 out of 30\n",
      "[Epoch 58] val_acc=0.704142 train_acc=0.930219 val_loss=0.012168 train_loss=0.009967\n",
      "EarlyStopping counter: 7 out of 30\n",
      "[Epoch 59] val_acc=0.680473 train_acc=0.925718 val_loss=0.012608 train_loss=0.010074\n",
      "EarlyStopping counter: 8 out of 30\n",
      "[Epoch 60] val_acc=0.704142 train_acc=0.922904 val_loss=0.012468 train_loss=0.010025\n",
      "EarlyStopping counter: 9 out of 30\n",
      "[Epoch 61] val_acc=0.701183 train_acc=0.928531 val_loss=0.012318 train_loss=0.010001\n",
      "EarlyStopping counter: 10 out of 30\n",
      "[Epoch 62] val_acc=0.707101 train_acc=0.934721 val_loss=0.012453 train_loss=0.009847\n",
      "EarlyStopping counter: 11 out of 30\n",
      "[Epoch 63] val_acc=0.704142 train_acc=0.929094 val_loss=0.012389 train_loss=0.010007\n",
      "EarlyStopping counter: 12 out of 30\n",
      "[Epoch 64] val_acc=0.715976 train_acc=0.942600 val_loss=0.011871 train_loss=0.009820\n",
      "EarlyStopping counter: 13 out of 30\n",
      "[Epoch 65] val_acc=0.715976 train_acc=0.925718 val_loss=0.012254 train_loss=0.010060\n",
      "EarlyStopping counter: 14 out of 30\n",
      "[Epoch 66] val_acc=0.704142 train_acc=0.941474 val_loss=0.012451 train_loss=0.009851\n",
      "EarlyStopping counter: 15 out of 30\n",
      "[Epoch 67] val_acc=0.730769 train_acc=0.950478 val_loss=0.012433 train_loss=0.009724\n",
      "EarlyStopping counter: 16 out of 30\n",
      "[Epoch 68] val_acc=0.715976 train_acc=0.930219 val_loss=0.012243 train_loss=0.009878\n",
      "EarlyStopping counter: 17 out of 30\n",
      "[Epoch 69] val_acc=0.721893 train_acc=0.941474 val_loss=0.011612 train_loss=0.009742\n",
      "Validation loss decreased (0.011714 --> 0.011612).  Saving model ...\n",
      "[Epoch 70] val_acc=0.754438 train_acc=0.947665 val_loss=0.011781 train_loss=0.009656\n",
      "EarlyStopping counter: 1 out of 30\n",
      "[Epoch 71] val_acc=0.727811 train_acc=0.939223 val_loss=0.011564 train_loss=0.009794\n",
      "Validation loss decreased (0.011612 --> 0.011564).  Saving model ...\n",
      "[Epoch 72] val_acc=0.727811 train_acc=0.940912 val_loss=0.012438 train_loss=0.009832\n",
      "EarlyStopping counter: 1 out of 30\n",
      "[Epoch 73] val_acc=0.668639 train_acc=0.934721 val_loss=0.012917 train_loss=0.009785\n",
      "EarlyStopping counter: 2 out of 30\n",
      "[Epoch 74] val_acc=0.727811 train_acc=0.939223 val_loss=0.011481 train_loss=0.009781\n",
      "Validation loss decreased (0.011564 --> 0.011481).  Saving model ...\n",
      "[Epoch 75] val_acc=0.715976 train_acc=0.938661 val_loss=0.011973 train_loss=0.009806\n",
      "EarlyStopping counter: 1 out of 30\n",
      "[Epoch 76] val_acc=0.698225 train_acc=0.948790 val_loss=0.012235 train_loss=0.009724\n",
      "EarlyStopping counter: 2 out of 30\n",
      "[Epoch 77] val_acc=0.742604 train_acc=0.949353 val_loss=0.011837 train_loss=0.009431\n",
      "EarlyStopping counter: 3 out of 30\n",
      "[Epoch 78] val_acc=0.721893 train_acc=0.960045 val_loss=0.011862 train_loss=0.009358\n",
      "EarlyStopping counter: 4 out of 30\n",
      "[Epoch 79] val_acc=0.707101 train_acc=0.966235 val_loss=0.011905 train_loss=0.009202\n",
      "EarlyStopping counter: 5 out of 30\n",
      "[Epoch 80] val_acc=0.721893 train_acc=0.960608 val_loss=0.011976 train_loss=0.009311\n",
      "EarlyStopping counter: 6 out of 30\n",
      "[Epoch 81] val_acc=0.713018 train_acc=0.962296 val_loss=0.011937 train_loss=0.009250\n",
      "EarlyStopping counter: 7 out of 30\n",
      "[Epoch 82] val_acc=0.736686 train_acc=0.965672 val_loss=0.011782 train_loss=0.009207\n",
      "EarlyStopping counter: 8 out of 30\n",
      "[Epoch 83] val_acc=0.707101 train_acc=0.962859 val_loss=0.011900 train_loss=0.009206\n",
      "EarlyStopping counter: 9 out of 30\n",
      "[Epoch 84] val_acc=0.715976 train_acc=0.968486 val_loss=0.011942 train_loss=0.009180\n",
      "EarlyStopping counter: 10 out of 30\n",
      "[Epoch 85] val_acc=0.715976 train_acc=0.966798 val_loss=0.012079 train_loss=0.009180\n",
      "EarlyStopping counter: 11 out of 30\n",
      "[Epoch 86] val_acc=0.713018 train_acc=0.968486 val_loss=0.012034 train_loss=0.009119\n",
      "EarlyStopping counter: 12 out of 30\n",
      "[Epoch 87] val_acc=0.727811 train_acc=0.969049 val_loss=0.011841 train_loss=0.009056\n",
      "EarlyStopping counter: 13 out of 30\n",
      "[Epoch 88] val_acc=0.739645 train_acc=0.967923 val_loss=0.011752 train_loss=0.009129\n",
      "EarlyStopping counter: 14 out of 30\n",
      "[Epoch 89] val_acc=0.707101 train_acc=0.972425 val_loss=0.011976 train_loss=0.009185\n",
      "EarlyStopping counter: 15 out of 30\n",
      "[Epoch 90] val_acc=0.721893 train_acc=0.972988 val_loss=0.011749 train_loss=0.009113\n",
      "EarlyStopping counter: 16 out of 30\n",
      "[Epoch 91] val_acc=0.713018 train_acc=0.974676 val_loss=0.012105 train_loss=0.009075\n",
      "EarlyStopping counter: 17 out of 30\n",
      "[Epoch 92] val_acc=0.724852 train_acc=0.964547 val_loss=0.011911 train_loss=0.009179\n",
      "EarlyStopping counter: 18 out of 30\n",
      "[Epoch 93] val_acc=0.710059 train_acc=0.965672 val_loss=0.012087 train_loss=0.009159\n",
      "EarlyStopping counter: 19 out of 30\n",
      "[Epoch 94] val_acc=0.724852 train_acc=0.974676 val_loss=0.011736 train_loss=0.008969\n",
      "EarlyStopping counter: 20 out of 30\n",
      "[Epoch 95] val_acc=0.727811 train_acc=0.975239 val_loss=0.011872 train_loss=0.008977\n",
      "EarlyStopping counter: 21 out of 30\n",
      "[Epoch 96] val_acc=0.736686 train_acc=0.967361 val_loss=0.011715 train_loss=0.008986\n",
      "EarlyStopping counter: 22 out of 30\n",
      "[Epoch 97] val_acc=0.721893 train_acc=0.981429 val_loss=0.012122 train_loss=0.008866\n",
      "EarlyStopping counter: 23 out of 30\n",
      "[Epoch 98] val_acc=0.730769 train_acc=0.980304 val_loss=0.011613 train_loss=0.008805\n",
      "EarlyStopping counter: 24 out of 30\n",
      "[Epoch 99] val_acc=0.718935 train_acc=0.979741 val_loss=0.011762 train_loss=0.008918\n",
      "EarlyStopping counter: 25 out of 30\n",
      "Using device: mps\n",
      "[Epoch 0] val_acc=0.402367 train_acc=0.357907 val_loss=0.023198 train_loss=0.021171\n",
      "Validation loss decreased (inf --> 0.023198).  Saving model ...\n",
      "[Epoch 1] val_acc=0.440828 train_acc=0.530107 val_loss=0.021589 train_loss=0.018575\n",
      "Validation loss decreased (0.023198 --> 0.021589).  Saving model ...\n",
      "[Epoch 2] val_acc=0.497041 train_acc=0.602138 val_loss=0.020919 train_loss=0.017034\n",
      "Validation loss decreased (0.021589 --> 0.020919).  Saving model ...\n",
      "[Epoch 3] val_acc=0.505917 train_acc=0.634215 val_loss=0.020415 train_loss=0.016490\n",
      "Validation loss decreased (0.020919 --> 0.020415).  Saving model ...\n",
      "[Epoch 4] val_acc=0.538462 train_acc=0.657288 val_loss=0.019239 train_loss=0.015647\n",
      "Validation loss decreased (0.020415 --> 0.019239).  Saving model ...\n",
      "[Epoch 5] val_acc=0.550296 train_acc=0.725380 val_loss=0.018940 train_loss=0.014609\n",
      "Validation loss decreased (0.019239 --> 0.018940).  Saving model ...\n",
      "[Epoch 6] val_acc=0.597633 train_acc=0.730445 val_loss=0.018468 train_loss=0.014241\n",
      "Validation loss decreased (0.018940 --> 0.018468).  Saving model ...\n",
      "[Epoch 7] val_acc=0.600592 train_acc=0.742262 val_loss=0.017751 train_loss=0.014112\n",
      "Validation loss decreased (0.018468 --> 0.017751).  Saving model ...\n",
      "[Epoch 8] val_acc=0.600592 train_acc=0.753517 val_loss=0.017498 train_loss=0.013676\n",
      "Validation loss decreased (0.017751 --> 0.017498).  Saving model ...\n",
      "[Epoch 9] val_acc=0.621302 train_acc=0.770400 val_loss=0.016908 train_loss=0.013436\n",
      "Validation loss decreased (0.017498 --> 0.016908).  Saving model ...\n",
      "[Epoch 10] val_acc=0.656805 train_acc=0.782217 val_loss=0.015603 train_loss=0.013051\n",
      "Validation loss decreased (0.016908 --> 0.015603).  Saving model ...\n",
      "[Epoch 11] val_acc=0.683432 train_acc=0.810917 val_loss=0.014979 train_loss=0.012613\n",
      "Validation loss decreased (0.015603 --> 0.014979).  Saving model ...\n",
      "[Epoch 12] val_acc=0.677515 train_acc=0.807541 val_loss=0.014998 train_loss=0.012504\n",
      "EarlyStopping counter: 1 out of 30\n",
      "[Epoch 13] val_acc=0.692308 train_acc=0.812043 val_loss=0.014650 train_loss=0.012396\n",
      "Validation loss decreased (0.014979 --> 0.014650).  Saving model ...\n",
      "[Epoch 14] val_acc=0.695266 train_acc=0.824423 val_loss=0.014141 train_loss=0.012164\n",
      "Validation loss decreased (0.014650 --> 0.014141).  Saving model ...\n",
      "[Epoch 15] val_acc=0.683432 train_acc=0.820484 val_loss=0.014265 train_loss=0.012318\n",
      "EarlyStopping counter: 1 out of 30\n",
      "[Epoch 16] val_acc=0.733728 train_acc=0.833990 val_loss=0.013529 train_loss=0.011993\n",
      "Validation loss decreased (0.014141 --> 0.013529).  Saving model ...\n",
      "[Epoch 17] val_acc=0.692308 train_acc=0.845245 val_loss=0.013746 train_loss=0.011817\n",
      "EarlyStopping counter: 1 out of 30\n",
      "[Epoch 18] val_acc=0.707101 train_acc=0.841868 val_loss=0.013770 train_loss=0.011871\n",
      "EarlyStopping counter: 2 out of 30\n",
      "[Epoch 19] val_acc=0.683432 train_acc=0.863253 val_loss=0.014281 train_loss=0.011498\n",
      "EarlyStopping counter: 3 out of 30\n",
      "[Epoch 20] val_acc=0.704142 train_acc=0.859313 val_loss=0.013164 train_loss=0.011587\n",
      "Validation loss decreased (0.013529 --> 0.013164).  Saving model ...\n",
      "[Epoch 21] val_acc=0.680473 train_acc=0.862127 val_loss=0.013928 train_loss=0.011422\n",
      "EarlyStopping counter: 1 out of 30\n",
      "[Epoch 22] val_acc=0.715976 train_acc=0.858188 val_loss=0.013925 train_loss=0.011438\n",
      "EarlyStopping counter: 2 out of 30\n",
      "[Epoch 23] val_acc=0.707101 train_acc=0.857625 val_loss=0.013437 train_loss=0.011380\n",
      "EarlyStopping counter: 3 out of 30\n",
      "[Epoch 24] val_acc=0.718935 train_acc=0.863253 val_loss=0.013048 train_loss=0.011329\n",
      "Validation loss decreased (0.013164 --> 0.013048).  Saving model ...\n",
      "[Epoch 25] val_acc=0.721893 train_acc=0.879572 val_loss=0.013193 train_loss=0.011230\n",
      "EarlyStopping counter: 1 out of 30\n",
      "[Epoch 26] val_acc=0.692308 train_acc=0.882386 val_loss=0.012937 train_loss=0.011050\n",
      "Validation loss decreased (0.013048 --> 0.012937).  Saving model ...\n",
      "[Epoch 27] val_acc=0.721893 train_acc=0.886325 val_loss=0.013074 train_loss=0.010981\n",
      "EarlyStopping counter: 1 out of 30\n",
      "[Epoch 28] val_acc=0.686391 train_acc=0.882386 val_loss=0.014505 train_loss=0.011096\n",
      "EarlyStopping counter: 2 out of 30\n",
      "[Epoch 29] val_acc=0.718935 train_acc=0.895329 val_loss=0.013310 train_loss=0.010929\n",
      "EarlyStopping counter: 3 out of 30\n",
      "[Epoch 30] val_acc=0.736686 train_acc=0.888576 val_loss=0.013109 train_loss=0.010868\n",
      "EarlyStopping counter: 4 out of 30\n",
      "[Epoch 31] val_acc=0.704142 train_acc=0.891390 val_loss=0.013282 train_loss=0.010840\n",
      "EarlyStopping counter: 5 out of 30\n",
      "[Epoch 32] val_acc=0.715976 train_acc=0.902082 val_loss=0.012892 train_loss=0.010581\n",
      "Validation loss decreased (0.012937 --> 0.012892).  Saving model ...\n",
      "[Epoch 33] val_acc=0.736686 train_acc=0.902645 val_loss=0.013384 train_loss=0.010627\n",
      "EarlyStopping counter: 1 out of 30\n",
      "[Epoch 34] val_acc=0.727811 train_acc=0.890827 val_loss=0.013318 train_loss=0.010843\n",
      "EarlyStopping counter: 2 out of 30\n",
      "[Epoch 35] val_acc=0.721893 train_acc=0.915588 val_loss=0.012898 train_loss=0.010322\n",
      "EarlyStopping counter: 3 out of 30\n",
      "[Epoch 36] val_acc=0.713018 train_acc=0.917839 val_loss=0.012970 train_loss=0.010322\n",
      "EarlyStopping counter: 4 out of 30\n",
      "[Epoch 37] val_acc=0.724852 train_acc=0.915588 val_loss=0.012969 train_loss=0.010415\n",
      "EarlyStopping counter: 5 out of 30\n",
      "[Epoch 38] val_acc=0.724852 train_acc=0.919527 val_loss=0.013155 train_loss=0.010332\n",
      "EarlyStopping counter: 6 out of 30\n",
      "[Epoch 39] val_acc=0.718935 train_acc=0.924592 val_loss=0.012986 train_loss=0.010268\n",
      "EarlyStopping counter: 7 out of 30\n",
      "[Epoch 40] val_acc=0.668639 train_acc=0.915588 val_loss=0.013613 train_loss=0.010274\n",
      "EarlyStopping counter: 8 out of 30\n",
      "[Epoch 41] val_acc=0.724852 train_acc=0.909398 val_loss=0.012965 train_loss=0.010453\n",
      "EarlyStopping counter: 9 out of 30\n",
      "[Epoch 42] val_acc=0.724852 train_acc=0.924592 val_loss=0.012557 train_loss=0.010218\n",
      "Validation loss decreased (0.012892 --> 0.012557).  Saving model ...\n",
      "[Epoch 43] val_acc=0.710059 train_acc=0.923467 val_loss=0.013086 train_loss=0.010168\n",
      "EarlyStopping counter: 1 out of 30\n",
      "[Epoch 44] val_acc=0.718935 train_acc=0.927406 val_loss=0.013430 train_loss=0.010142\n",
      "EarlyStopping counter: 2 out of 30\n",
      "[Epoch 45] val_acc=0.698225 train_acc=0.915025 val_loss=0.013506 train_loss=0.010251\n",
      "EarlyStopping counter: 3 out of 30\n",
      "[Epoch 46] val_acc=0.710059 train_acc=0.920090 val_loss=0.013615 train_loss=0.010236\n",
      "EarlyStopping counter: 4 out of 30\n",
      "[Epoch 47] val_acc=0.715976 train_acc=0.923467 val_loss=0.013358 train_loss=0.010113\n",
      "EarlyStopping counter: 5 out of 30\n",
      "[Epoch 48] val_acc=0.730769 train_acc=0.927968 val_loss=0.013309 train_loss=0.010069\n",
      "EarlyStopping counter: 6 out of 30\n",
      "[Epoch 49] val_acc=0.713018 train_acc=0.940349 val_loss=0.013463 train_loss=0.009949\n",
      "EarlyStopping counter: 7 out of 30\n",
      "[Epoch 50] val_acc=0.692308 train_acc=0.931908 val_loss=0.013642 train_loss=0.010046\n",
      "EarlyStopping counter: 8 out of 30\n",
      "[Epoch 51] val_acc=0.683432 train_acc=0.936410 val_loss=0.014137 train_loss=0.009910\n",
      "EarlyStopping counter: 9 out of 30\n",
      "[Epoch 52] val_acc=0.715976 train_acc=0.936972 val_loss=0.013149 train_loss=0.009871\n",
      "EarlyStopping counter: 10 out of 30\n",
      "[Epoch 53] val_acc=0.689349 train_acc=0.936972 val_loss=0.013391 train_loss=0.009835\n",
      "EarlyStopping counter: 11 out of 30\n",
      "[Epoch 54] val_acc=0.689349 train_acc=0.926843 val_loss=0.013493 train_loss=0.010122\n",
      "EarlyStopping counter: 12 out of 30\n",
      "[Epoch 55] val_acc=0.724852 train_acc=0.936972 val_loss=0.012612 train_loss=0.009880\n",
      "EarlyStopping counter: 13 out of 30\n",
      "[Epoch 56] val_acc=0.692308 train_acc=0.939223 val_loss=0.013614 train_loss=0.009860\n",
      "EarlyStopping counter: 14 out of 30\n",
      "[Epoch 57] val_acc=0.745562 train_acc=0.947102 val_loss=0.012643 train_loss=0.009753\n",
      "EarlyStopping counter: 15 out of 30\n",
      "[Epoch 58] val_acc=0.721893 train_acc=0.944288 val_loss=0.013130 train_loss=0.009656\n",
      "EarlyStopping counter: 16 out of 30\n",
      "[Epoch 59] val_acc=0.695266 train_acc=0.933033 val_loss=0.013224 train_loss=0.009836\n",
      "EarlyStopping counter: 17 out of 30\n",
      "[Epoch 60] val_acc=0.760355 train_acc=0.940912 val_loss=0.012364 train_loss=0.009764\n",
      "Validation loss decreased (0.012557 --> 0.012364).  Saving model ...\n",
      "[Epoch 61] val_acc=0.704142 train_acc=0.947102 val_loss=0.013063 train_loss=0.009710\n",
      "EarlyStopping counter: 1 out of 30\n",
      "[Epoch 62] val_acc=0.701183 train_acc=0.945976 val_loss=0.013428 train_loss=0.009613\n",
      "EarlyStopping counter: 2 out of 30\n",
      "[Epoch 63] val_acc=0.713018 train_acc=0.938098 val_loss=0.013045 train_loss=0.009668\n",
      "EarlyStopping counter: 3 out of 30\n",
      "[Epoch 64] val_acc=0.686391 train_acc=0.947102 val_loss=0.014365 train_loss=0.009728\n",
      "EarlyStopping counter: 4 out of 30\n",
      "[Epoch 65] val_acc=0.704142 train_acc=0.944851 val_loss=0.013030 train_loss=0.009702\n",
      "EarlyStopping counter: 5 out of 30\n",
      "[Epoch 66] val_acc=0.715976 train_acc=0.939786 val_loss=0.013014 train_loss=0.009727\n",
      "EarlyStopping counter: 6 out of 30\n",
      "[Epoch 67] val_acc=0.704142 train_acc=0.938098 val_loss=0.012901 train_loss=0.009808\n",
      "EarlyStopping counter: 7 out of 30\n",
      "[Epoch 68] val_acc=0.742604 train_acc=0.933596 val_loss=0.012579 train_loss=0.009811\n",
      "EarlyStopping counter: 8 out of 30\n",
      "[Epoch 69] val_acc=0.715976 train_acc=0.960045 val_loss=0.012816 train_loss=0.009453\n",
      "EarlyStopping counter: 9 out of 30\n",
      "[Epoch 70] val_acc=0.710059 train_acc=0.957794 val_loss=0.012845 train_loss=0.009337\n",
      "EarlyStopping counter: 10 out of 30\n",
      "[Epoch 71] val_acc=0.721893 train_acc=0.966798 val_loss=0.012626 train_loss=0.009263\n",
      "EarlyStopping counter: 11 out of 30\n",
      "[Epoch 72] val_acc=0.730769 train_acc=0.974676 val_loss=0.012572 train_loss=0.009100\n",
      "EarlyStopping counter: 12 out of 30\n",
      "[Epoch 73] val_acc=0.724852 train_acc=0.969612 val_loss=0.012605 train_loss=0.009064\n",
      "EarlyStopping counter: 13 out of 30\n",
      "[Epoch 74] val_acc=0.713018 train_acc=0.966798 val_loss=0.012723 train_loss=0.009158\n",
      "EarlyStopping counter: 14 out of 30\n",
      "[Epoch 75] val_acc=0.718935 train_acc=0.970174 val_loss=0.012544 train_loss=0.009109\n",
      "EarlyStopping counter: 15 out of 30\n",
      "[Epoch 76] val_acc=0.733728 train_acc=0.967923 val_loss=0.012470 train_loss=0.009154\n",
      "EarlyStopping counter: 16 out of 30\n",
      "[Epoch 77] val_acc=0.710059 train_acc=0.972988 val_loss=0.012648 train_loss=0.009094\n",
      "EarlyStopping counter: 17 out of 30\n",
      "[Epoch 78] val_acc=0.718935 train_acc=0.963984 val_loss=0.012734 train_loss=0.009147\n",
      "EarlyStopping counter: 18 out of 30\n",
      "[Epoch 79] val_acc=0.713018 train_acc=0.967923 val_loss=0.012856 train_loss=0.009053\n",
      "EarlyStopping counter: 19 out of 30\n",
      "[Epoch 80] val_acc=0.724852 train_acc=0.979741 val_loss=0.012518 train_loss=0.009019\n",
      "EarlyStopping counter: 20 out of 30\n",
      "[Epoch 81] val_acc=0.707101 train_acc=0.968486 val_loss=0.013008 train_loss=0.009153\n",
      "EarlyStopping counter: 21 out of 30\n",
      "[Epoch 82] val_acc=0.710059 train_acc=0.969049 val_loss=0.012794 train_loss=0.009121\n",
      "EarlyStopping counter: 22 out of 30\n",
      "[Epoch 83] val_acc=0.715976 train_acc=0.971863 val_loss=0.012939 train_loss=0.009075\n",
      "EarlyStopping counter: 23 out of 30\n",
      "[Epoch 84] val_acc=0.715976 train_acc=0.968486 val_loss=0.013068 train_loss=0.009169\n",
      "EarlyStopping counter: 24 out of 30\n",
      "[Epoch 85] val_acc=0.692308 train_acc=0.969049 val_loss=0.013198 train_loss=0.009075\n",
      "EarlyStopping counter: 25 out of 30\n",
      "[Epoch 86] val_acc=0.715976 train_acc=0.974114 val_loss=0.012719 train_loss=0.009134\n",
      "EarlyStopping counter: 26 out of 30\n",
      "[Epoch 87] val_acc=0.721893 train_acc=0.977490 val_loss=0.012441 train_loss=0.008933\n",
      "EarlyStopping counter: 27 out of 30\n",
      "[Epoch 88] val_acc=0.727811 train_acc=0.981992 val_loss=0.012578 train_loss=0.008830\n",
      "EarlyStopping counter: 28 out of 30\n",
      "[Epoch 89] val_acc=0.721893 train_acc=0.977490 val_loss=0.012648 train_loss=0.008916\n",
      "EarlyStopping counter: 29 out of 30\n",
      "[Epoch 90] val_acc=0.715976 train_acc=0.976927 val_loss=0.012634 train_loss=0.008887\n",
      "EarlyStopping counter: 30 out of 30\n",
      "Early stopping.\n"
     ]
    }
   ],
   "source": [
    "valid_acc = {}\n",
    "test_acc = {}\n",
    "\n",
    "for ts in time_slots:\n",
    "    train_data, valid_data, test_data = get_time_series_dataloader(ts)\n",
    "    \n",
    "    time_model = CNN_ts(n_time=ts)\n",
    "    time_model.to(device)\n",
    "    \n",
    "    optimizer = torch.optim.Adam(time_model.parameters(), lr=0.001, weight_decay=1e-03)\n",
    "    scheduler = torch.optim.lr_scheduler.ReduceLROnPlateau(optimizer, mode='min', factor=0.5, patience=5, verbose=True)\n",
    "    \n",
    "    _ = train(\n",
    "        model=time_model,\n",
    "        optimizer=optimizer,\n",
    "        scheduler=scheduler,\n",
    "        loss_func=nn.CrossEntropyLoss(),\n",
    "        train_data=train_data,\n",
    "        val_data=valid_data,\n",
    "        early_stopping_patience=30,\n",
    "        cp_path=\"models/cnn\",\n",
    "        cp_filename=f\"time_{ts}.pt\",\n",
    "        n_epochs=100,\n",
    "        show_progress_bar=False,\n",
    "    )\n",
    "    \n",
    "    # Load best model and test\n",
    "    time_model = torch.load(f\"models/cnn/time_{ts}.pt\")\n",
    "    time_model.to(device)\n",
    "    time_model.eval()\n",
    "    \n",
    "    # Evaluate validation accuracies\n",
    "    valid_acc[ts] = 0\n",
    "    with torch.no_grad():\n",
    "        for X, y in valid_data:\n",
    "            X, y = X.to(device), y.to(device)\n",
    "            y_pred = time_model(X)\n",
    "            valid_acc[ts] += (y_pred.argmax(dim=1) == y.argmax(dim=1)).sum().item()\n",
    "    valid_acc[ts] /= len(valid_data.dataset)\n",
    "    \n",
    "    # Evaluate test accuracies\n",
    "    test_acc[ts] = 0\n",
    "    with torch.no_grad():\n",
    "        for X, y in test_data:\n",
    "            X, y = X.to(device), y.to(device)\n",
    "            y_pred = time_model(X)\n",
    "            test_acc[ts] += (y_pred.argmax(dim=1) == y.argmax(dim=1)).sum().item()\n",
    "    test_acc[ts] /= len(test_data.dataset)"
   ]
  },
  {
   "cell_type": "code",
   "execution_count": 47,
   "metadata": {},
   "outputs": [
    {
     "data": {
      "image/png": "[encoded data removed]",
      "text/plain": [
       "<Figure size 640x480 with 1 Axes>"
      ]
     },
     "metadata": {},
     "output_type": "display_data"
    }
   ],
   "source": [
    "plt.plot(valid_acc.keys(), valid_acc.values(), label=\"Valid Acc\")\n",
    "plt.plot(test_acc.keys(), test_acc.values(), label=\"Test Acc\")\n",
    "plt.legend()\n",
    "plt.title(\"Time Series Model Accuracies\")\n",
    "plt.xlabel(\"Num Time Slots\")\n",
    "plt.ylabel(\"Accuracy\")\n",
    "plt.show()"
   ]
  }
 ],
 "metadata": {
  "kernelspec": {
   "display_name": "base",
   "language": "python",
   "name": "python3"
  },
  "language_info": {
   "codemirror_mode": {
    "name": "ipython",
    "version": 3
   },
   "file_extension": ".py",
   "mimetype": "text/x-python",
   "name": "python",
   "nbconvert_exporter": "python",
   "pygments_lexer": "ipython3",
   "version": "3.10.13"
  }
 },
 "nbformat": 4,
 "nbformat_minor": 2
}
