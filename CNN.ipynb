{
 "cells": [
  {
   "cell_type": "code",
   "execution_count": 45,
   "metadata": {},
   "outputs": [
    {
     "name": "stdout",
     "output_type": "stream",
     "text": [
      "The autoreload extension is already loaded. To reload it, use:\n",
      "  %reload_ext autoreload\n"
     ]
    }
   ],
   "source": [
    "import numpy as np\n",
    "import optuna\n",
    "import torch\n",
    "import torch.nn as nn\n",
    "import matplotlib.pyplot as plt\n",
    "from optuna import Trial, Study\n",
    "from braindecode.models import EEGNetv4, HybridNet, EEGResNet, TCN, EEGInceptionMI\n",
    "from braindecode.augmentation import AugmentedDataLoader\n",
    "from torch.utils.data import DataLoader, TensorDataset\n",
    "from tqdm.auto import tqdm\n",
    "from utils.training import train, best_torch_device\n",
    "from torchinfo import summary\n",
    "from copy import copy, deepcopy\n",
    "from prepare_data import get_frequency_dataloader, get_raw_dataloader, get_sub1_dataloader, get_time_series_dataloader\n",
    "\n",
    "%load_ext autoreload\n",
    "%autoreload 2"
   ]
  },
  {
   "cell_type": "code",
   "execution_count": 83,
   "metadata": {},
   "outputs": [],
   "source": [
    "bsz = 32\n",
    "\n",
    "train_loader, val_loader, test_loader = get_raw_dataloader(batch_size=bsz)\n",
    "train_aug_loader, _, _ = get_frequency_dataloader(batch_size=bsz)\n",
    "train_sub_loader, val_sub_loader, test_sub_loader = get_sub1_dataloader(batch_size=bsz)\n"
   ]
  },
  {
   "cell_type": "code",
   "execution_count": 127,
   "metadata": {},
   "outputs": [],
   "source": [
    "class CNN(nn.Module):\n",
    "    def __init__(self):\n",
    "        super(CNN, self).__init__()\n",
    "\n",
    "        self.filter_nums1 = 16 # 8\n",
    "        self.filter_nums2 = 80 # 40\n",
    "        self.filter_nums3 = 24 # 12\n",
    "        num_groups = 8\n",
    "        b = True\n",
    "        dropout_prob = 0.25\n",
    "\n",
    "        self.conv_over_time = nn.Sequential(\n",
    "            nn.Conv2d(1, self.filter_nums1, kernel_size=(1, 64), stride=(1, 1), padding=(0, 32), bias=b),\n",
    "            nn.BatchNorm2d(self.filter_nums1, eps=0.001, momentum=0.01, affine=True, track_running_stats=True)\n",
    "        )\n",
    "        # (n, 8, 22, 1001)\n",
    "\n",
    "        self.conv_over_channels = nn.Sequential(\n",
    "            nn.Conv2d(self.filter_nums1, self.filter_nums2, kernel_size=(22, 1), stride=(1, 1), groups=num_groups, bias=b),\n",
    "            nn.BatchNorm2d(self.filter_nums2, eps=0.001, momentum=0.01, affine=True, track_running_stats=True),\n",
    "            nn.ELU(),\n",
    "            nn.AvgPool2d(kernel_size=(1, 4), stride=(1, 4), padding=0), # pool over time to shrink time\n",
    "            nn.Dropout(p=dropout_prob)\n",
    "        )\n",
    "        # (n, 40, 1, 250)\n",
    "\n",
    "        self.conv_by_channel_and_point = nn.Sequential(\n",
    "            nn.Conv2d(self.filter_nums2, self.filter_nums2, kernel_size=(1, 16), stride=(1, 1), padding=(0, 8), groups=num_groups, bias=b),\n",
    "            # (n, 40, 1, 251)\n",
    "            nn.Conv2d(self.filter_nums2, self.filter_nums3, kernel_size=(1, 1), stride=(1, 1), bias=False),\n",
    "            # (n, 12, 1, 251)\n",
    "            nn.BatchNorm2d(self.filter_nums3, eps=0.001, momentum=0.01, affine=True, track_running_stats=True),\n",
    "            nn.ELU(),\n",
    "            nn.AvgPool2d(kernel_size=(1, 8), stride=(1, 8), padding=0),\n",
    "            nn.Dropout(p=dropout_prob),\n",
    "            # (n, 12, 1, 31)\n",
    "            nn.Conv2d(self.filter_nums3, 4, kernel_size=(1, 31), stride=(1, 1)) # conv to 4 output classes\n",
    "            # (n, 4, 1, 1)\n",
    "        )\n",
    "        \n",
    "\n",
    "    def forward(self, x):\n",
    "        # x = x.to('mps')\n",
    "        # X (batch, ch, t)\n",
    "        x = x.unsqueeze(3)\n",
    "        # (batch, ch, t, 1)\n",
    "        x = x.permute(0, 3, 1, 2)\n",
    "        # (batch, 1, ch, t)\n",
    "        x = self.conv_over_time(x)\n",
    "        x = self.conv_over_channels(x)\n",
    "        x = self.conv_by_channel_and_point(x)\n",
    "        x = x.squeeze(-1)\n",
    "        x = x.squeeze(-1)\n",
    "        return x"
   ]
  },
  {
   "cell_type": "code",
   "execution_count": 121,
   "metadata": {},
   "outputs": [
    {
     "name": "stdout",
     "output_type": "stream",
     "text": [
      "CNN(\n",
      "  (conv_over_time): Sequential(\n",
      "    (0): Conv2d(1, 16, kernel_size=(1, 64), stride=(1, 1), padding=(0, 32))\n",
      "    (1): BatchNorm2d(16, eps=0.001, momentum=0.01, affine=True, track_running_stats=True)\n",
      "  )\n",
      "  (conv_over_channels): Sequential(\n",
      "    (0): Conv2d(16, 80, kernel_size=(22, 1), stride=(1, 1), groups=4)\n",
      "    (1): BatchNorm2d(80, eps=0.001, momentum=0.01, affine=True, track_running_stats=True)\n",
      "    (2): ELU(alpha=1.0)\n",
      "    (3): AvgPool2d(kernel_size=(1, 4), stride=(1, 4), padding=0)\n",
      "    (4): Dropout(p=0.05, inplace=False)\n",
      "  )\n",
      "  (conv_by_channel_and_point): Sequential(\n",
      "    (0): Conv2d(80, 80, kernel_size=(1, 16), stride=(1, 1), padding=(0, 8), groups=4)\n",
      "    (1): Conv2d(80, 24, kernel_size=(1, 1), stride=(1, 1), bias=False)\n",
      "    (2): BatchNorm2d(24, eps=0.001, momentum=0.01, affine=True, track_running_stats=True)\n",
      "    (3): ELU(alpha=1.0)\n",
      "    (4): AvgPool2d(kernel_size=(1, 8), stride=(1, 8), padding=0)\n",
      "    (5): Dropout(p=0.05, inplace=False)\n",
      "    (6): Conv2d(24, 4, kernel_size=(1, 31), stride=(1, 1))\n",
      "  )\n",
      ")\n"
     ]
    },
    {
     "data": {
      "text/plain": [
       "==========================================================================================\n",
       "Layer (type:depth-idx)                   Output Shape              Param #\n",
       "==========================================================================================\n",
       "CNN                                      [2, 4]                    --\n",
       "├─Sequential: 1-1                        [2, 16, 22, 1001]         --\n",
       "│    └─Conv2d: 2-1                       [2, 16, 22, 1001]         1,040\n",
       "│    └─BatchNorm2d: 2-2                  [2, 16, 22, 1001]         32\n",
       "├─Sequential: 1-2                        [2, 80, 1, 250]           --\n",
       "│    └─Conv2d: 2-3                       [2, 80, 1, 1001]          7,120\n",
       "│    └─BatchNorm2d: 2-4                  [2, 80, 1, 1001]          160\n",
       "│    └─ELU: 2-5                          [2, 80, 1, 1001]          --\n",
       "│    └─AvgPool2d: 2-6                    [2, 80, 1, 250]           --\n",
       "│    └─Dropout: 2-7                      [2, 80, 1, 250]           --\n",
       "├─Sequential: 1-3                        [2, 4, 1, 1]              --\n",
       "│    └─Conv2d: 2-8                       [2, 80, 1, 251]           25,680\n",
       "│    └─Conv2d: 2-9                       [2, 24, 1, 251]           1,920\n",
       "│    └─BatchNorm2d: 2-10                 [2, 24, 1, 251]           48\n",
       "│    └─ELU: 2-11                         [2, 24, 1, 251]           --\n",
       "│    └─AvgPool2d: 2-12                   [2, 24, 1, 31]            --\n",
       "│    └─Dropout: 2-13                     [2, 24, 1, 31]            --\n",
       "│    └─Conv2d: 2-14                      [2, 4, 1, 1]              2,980\n",
       "==========================================================================================\n",
       "Total params: 38,980\n",
       "Trainable params: 38,980\n",
       "Non-trainable params: 0\n",
       "Total mult-adds (M): 73.92\n",
       "==========================================================================================\n",
       "Input size (MB): 0.18\n",
       "Forward/backward pass size (MB): 14.35\n",
       "Params size (MB): 0.16\n",
       "Estimated Total Size (MB): 14.68\n",
       "=========================================================================================="
      ]
     },
     "execution_count": 121,
     "metadata": {},
     "output_type": "execute_result"
    }
   ],
   "source": [
    "device = torch.device('mps')\n",
    "\n",
    "model = CNN()\n",
    "model = model.to(device)\n",
    "print(model)\n",
    "summary(model, input_size=(2, 22, 1000), device='mps')"
   ]
  },
  {
   "cell_type": "markdown",
   "metadata": {},
   "source": [
    "## Train with raw data"
   ]
  },
  {
   "cell_type": "code",
   "execution_count": 70,
   "metadata": {},
   "outputs": [
    {
     "name": "stdout",
     "output_type": "stream",
     "text": [
      "Using device: mps\n"
     ]
    },
    {
     "name": "stderr",
     "output_type": "stream",
     "text": [
      "Epoch 0: 100%|██████████| 28/28 [00:09<00:00,  2.84batch/s, loss=1.3824]\n"
     ]
    },
    {
     "name": "stdout",
     "output_type": "stream",
     "text": [
      "[Epoch 0] val_acc=0.357988 train_acc=0.353405 val_loss=0.023736 train_loss=0.021379\n",
      "Validation loss decreased (inf --> 0.023736).  Saving model ...\n"
     ]
    },
    {
     "name": "stderr",
     "output_type": "stream",
     "text": [
      "Epoch 1: 100%|██████████| 28/28 [00:07<00:00,  3.71batch/s, loss=1.1662]\n"
     ]
    },
    {
     "name": "stdout",
     "output_type": "stream",
     "text": [
      "[Epoch 1] val_acc=0.443787 train_acc=0.459201 val_loss=0.022913 train_loss=0.019640\n",
      "Validation loss decreased (0.023736 --> 0.022913).  Saving model ...\n"
     ]
    },
    {
     "name": "stderr",
     "output_type": "stream",
     "text": [
      "Epoch 2: 100%|██████████| 28/28 [00:07<00:00,  3.58batch/s, loss=1.2602]\n"
     ]
    },
    {
     "name": "stdout",
     "output_type": "stream",
     "text": [
      "[Epoch 2] val_acc=0.434911 train_acc=0.551491 val_loss=0.021676 train_loss=0.018209\n",
      "Validation loss decreased (0.022913 --> 0.021676).  Saving model ...\n"
     ]
    },
    {
     "name": "stderr",
     "output_type": "stream",
     "text": [
      "Epoch 3: 100%|██████████| 28/28 [00:07<00:00,  3.67batch/s, loss=1.0452]\n"
     ]
    },
    {
     "name": "stdout",
     "output_type": "stream",
     "text": [
      "[Epoch 3] val_acc=0.505917 train_acc=0.597636 val_loss=0.020794 train_loss=0.017345\n",
      "Validation loss decreased (0.021676 --> 0.020794).  Saving model ...\n"
     ]
    },
    {
     "name": "stderr",
     "output_type": "stream",
     "text": [
      "Epoch 4: 100%|██████████| 28/28 [00:07<00:00,  3.66batch/s, loss=1.0705]\n"
     ]
    },
    {
     "name": "stdout",
     "output_type": "stream",
     "text": [
      "[Epoch 4] val_acc=0.544379 train_acc=0.625774 val_loss=0.020160 train_loss=0.016579\n",
      "Validation loss decreased (0.020794 --> 0.020160).  Saving model ...\n"
     ]
    },
    {
     "name": "stderr",
     "output_type": "stream",
     "text": [
      "Epoch 5: 100%|██████████| 28/28 [00:07<00:00,  3.64batch/s, loss=0.9699]\n"
     ]
    },
    {
     "name": "stdout",
     "output_type": "stream",
     "text": [
      "[Epoch 5] val_acc=0.565089 train_acc=0.661227 val_loss=0.019387 train_loss=0.015974\n",
      "Validation loss decreased (0.020160 --> 0.019387).  Saving model ...\n"
     ]
    },
    {
     "name": "stderr",
     "output_type": "stream",
     "text": [
      "Epoch 6: 100%|██████████| 28/28 [00:07<00:00,  3.70batch/s, loss=1.0447]\n"
     ]
    },
    {
     "name": "stdout",
     "output_type": "stream",
     "text": [
      "[Epoch 6] val_acc=0.550296 train_acc=0.672482 val_loss=0.019383 train_loss=0.015597\n",
      "Validation loss decreased (0.019387 --> 0.019383).  Saving model ...\n"
     ]
    },
    {
     "name": "stderr",
     "output_type": "stream",
     "text": [
      "Epoch 7: 100%|██████████| 28/28 [00:07<00:00,  3.71batch/s, loss=1.0124]\n"
     ]
    },
    {
     "name": "stdout",
     "output_type": "stream",
     "text": [
      "[Epoch 7] val_acc=0.568047 train_acc=0.676984 val_loss=0.018573 train_loss=0.015461\n",
      "Validation loss decreased (0.019383 --> 0.018573).  Saving model ...\n"
     ]
    },
    {
     "name": "stderr",
     "output_type": "stream",
     "text": [
      "Epoch 8: 100%|██████████| 28/28 [00:07<00:00,  3.64batch/s, loss=0.9403]\n"
     ]
    },
    {
     "name": "stdout",
     "output_type": "stream",
     "text": [
      "[Epoch 8] val_acc=0.573964 train_acc=0.716939 val_loss=0.018322 train_loss=0.014788\n",
      "Validation loss decreased (0.018573 --> 0.018322).  Saving model ...\n"
     ]
    },
    {
     "name": "stderr",
     "output_type": "stream",
     "text": [
      "Epoch 9: 100%|██████████| 28/28 [00:08<00:00,  3.42batch/s, loss=0.9424]\n"
     ]
    },
    {
     "name": "stdout",
     "output_type": "stream",
     "text": [
      "[Epoch 9] val_acc=0.568047 train_acc=0.718627 val_loss=0.017688 train_loss=0.014722\n",
      "Validation loss decreased (0.018322 --> 0.017688).  Saving model ...\n"
     ]
    },
    {
     "name": "stderr",
     "output_type": "stream",
     "text": [
      "Epoch 10: 100%|██████████| 28/28 [00:08<00:00,  3.45batch/s, loss=0.8313]\n"
     ]
    },
    {
     "name": "stdout",
     "output_type": "stream",
     "text": [
      "[Epoch 10] val_acc=0.615385 train_acc=0.732696 val_loss=0.016444 train_loss=0.014354\n",
      "Validation loss decreased (0.017688 --> 0.016444).  Saving model ...\n"
     ]
    },
    {
     "name": "stderr",
     "output_type": "stream",
     "text": [
      "Epoch 11: 100%|██████████| 28/28 [00:08<00:00,  3.48batch/s, loss=0.9121]\n"
     ]
    },
    {
     "name": "stdout",
     "output_type": "stream",
     "text": [
      "[Epoch 11] val_acc=0.639053 train_acc=0.740574 val_loss=0.015971 train_loss=0.013913\n",
      "Validation loss decreased (0.016444 --> 0.015971).  Saving model ...\n"
     ]
    },
    {
     "name": "stderr",
     "output_type": "stream",
     "text": [
      "Epoch 12: 100%|██████████| 28/28 [00:08<00:00,  3.35batch/s, loss=0.8729]\n"
     ]
    },
    {
     "name": "stdout",
     "output_type": "stream",
     "text": [
      "[Epoch 12] val_acc=0.630178 train_acc=0.764209 val_loss=0.016293 train_loss=0.013750\n",
      "EarlyStopping counter: 1 out of 30\n"
     ]
    },
    {
     "name": "stderr",
     "output_type": "stream",
     "text": [
      "Epoch 13: 100%|██████████| 28/28 [00:08<00:00,  3.49batch/s, loss=1.0707]\n"
     ]
    },
    {
     "name": "stdout",
     "output_type": "stream",
     "text": [
      "[Epoch 13] val_acc=0.621302 train_acc=0.756331 val_loss=0.016292 train_loss=0.013756\n",
      "EarlyStopping counter: 2 out of 30\n"
     ]
    },
    {
     "name": "stderr",
     "output_type": "stream",
     "text": [
      "Epoch 14: 100%|██████████| 28/28 [00:08<00:00,  3.38batch/s, loss=0.7368]\n"
     ]
    },
    {
     "name": "stdout",
     "output_type": "stream",
     "text": [
      "[Epoch 14] val_acc=0.650888 train_acc=0.770400 val_loss=0.015350 train_loss=0.013419\n",
      "Validation loss decreased (0.015971 --> 0.015350).  Saving model ...\n"
     ]
    },
    {
     "name": "stderr",
     "output_type": "stream",
     "text": [
      "Epoch 15: 100%|██████████| 28/28 [00:08<00:00,  3.32batch/s, loss=0.8673]\n"
     ]
    },
    {
     "name": "stdout",
     "output_type": "stream",
     "text": [
      "[Epoch 15] val_acc=0.680473 train_acc=0.773213 val_loss=0.014377 train_loss=0.013399\n",
      "Validation loss decreased (0.015350 --> 0.014377).  Saving model ...\n"
     ]
    },
    {
     "name": "stderr",
     "output_type": "stream",
     "text": [
      "Epoch 16: 100%|██████████| 28/28 [00:08<00:00,  3.38batch/s, loss=0.7201]\n"
     ]
    },
    {
     "name": "stdout",
     "output_type": "stream",
     "text": [
      "[Epoch 16] val_acc=0.656805 train_acc=0.790096 val_loss=0.015229 train_loss=0.012981\n",
      "EarlyStopping counter: 1 out of 30\n"
     ]
    },
    {
     "name": "stderr",
     "output_type": "stream",
     "text": [
      "Epoch 17: 100%|██████████| 28/28 [00:08<00:00,  3.43batch/s, loss=0.7063]\n"
     ]
    },
    {
     "name": "stdout",
     "output_type": "stream",
     "text": [
      "[Epoch 17] val_acc=0.707101 train_acc=0.802476 val_loss=0.013987 train_loss=0.012956\n",
      "Validation loss decreased (0.014377 --> 0.013987).  Saving model ...\n"
     ]
    },
    {
     "name": "stderr",
     "output_type": "stream",
     "text": [
      "Epoch 18: 100%|██████████| 28/28 [00:07<00:00,  3.73batch/s, loss=0.7665]\n"
     ]
    },
    {
     "name": "stdout",
     "output_type": "stream",
     "text": [
      "[Epoch 18] val_acc=0.680473 train_acc=0.808666 val_loss=0.014275 train_loss=0.012643\n",
      "EarlyStopping counter: 1 out of 30\n"
     ]
    },
    {
     "name": "stderr",
     "output_type": "stream",
     "text": [
      "Epoch 19: 100%|██████████| 28/28 [00:08<00:00,  3.46batch/s, loss=0.8496]\n"
     ]
    },
    {
     "name": "stdout",
     "output_type": "stream",
     "text": [
      "[Epoch 19] val_acc=0.695266 train_acc=0.815982 val_loss=0.014335 train_loss=0.012564\n",
      "EarlyStopping counter: 2 out of 30\n"
     ]
    },
    {
     "name": "stderr",
     "output_type": "stream",
     "text": [
      "Epoch 20: 100%|██████████| 28/28 [00:08<00:00,  3.45batch/s, loss=0.8162]\n"
     ]
    },
    {
     "name": "stdout",
     "output_type": "stream",
     "text": [
      "[Epoch 20] val_acc=0.707101 train_acc=0.813731 val_loss=0.013410 train_loss=0.012491\n",
      "Validation loss decreased (0.013987 --> 0.013410).  Saving model ...\n"
     ]
    },
    {
     "name": "stderr",
     "output_type": "stream",
     "text": [
      "Epoch 21: 100%|██████████| 28/28 [00:08<00:00,  3.42batch/s, loss=0.7426]\n"
     ]
    },
    {
     "name": "stdout",
     "output_type": "stream",
     "text": [
      "[Epoch 21] val_acc=0.698225 train_acc=0.823860 val_loss=0.013821 train_loss=0.012318\n",
      "EarlyStopping counter: 1 out of 30\n"
     ]
    },
    {
     "name": "stderr",
     "output_type": "stream",
     "text": [
      "Epoch 22: 100%|██████████| 28/28 [00:07<00:00,  3.51batch/s, loss=0.7893]\n"
     ]
    },
    {
     "name": "stdout",
     "output_type": "stream",
     "text": [
      "[Epoch 22] val_acc=0.718935 train_acc=0.828362 val_loss=0.013437 train_loss=0.012255\n",
      "EarlyStopping counter: 2 out of 30\n"
     ]
    },
    {
     "name": "stderr",
     "output_type": "stream",
     "text": [
      "Epoch 23: 100%|██████████| 28/28 [00:08<00:00,  3.49batch/s, loss=0.7095]\n"
     ]
    },
    {
     "name": "stdout",
     "output_type": "stream",
     "text": [
      "[Epoch 23] val_acc=0.698225 train_acc=0.832864 val_loss=0.014214 train_loss=0.012152\n",
      "EarlyStopping counter: 3 out of 30\n"
     ]
    },
    {
     "name": "stderr",
     "output_type": "stream",
     "text": [
      "Epoch 24: 100%|██████████| 28/28 [00:07<00:00,  3.60batch/s, loss=0.7462]\n"
     ]
    },
    {
     "name": "stdout",
     "output_type": "stream",
     "text": [
      "[Epoch 24] val_acc=0.689349 train_acc=0.833990 val_loss=0.014267 train_loss=0.012001\n",
      "EarlyStopping counter: 4 out of 30\n"
     ]
    },
    {
     "name": "stderr",
     "output_type": "stream",
     "text": [
      "Epoch 25: 100%|██████████| 28/28 [00:07<00:00,  3.52batch/s, loss=0.7261]\n"
     ]
    },
    {
     "name": "stdout",
     "output_type": "stream",
     "text": [
      "[Epoch 25] val_acc=0.689349 train_acc=0.832864 val_loss=0.013676 train_loss=0.011950\n",
      "EarlyStopping counter: 5 out of 30\n"
     ]
    },
    {
     "name": "stderr",
     "output_type": "stream",
     "text": [
      "Epoch 26: 100%|██████████| 28/28 [00:07<00:00,  3.64batch/s, loss=0.9240]\n"
     ]
    },
    {
     "name": "stdout",
     "output_type": "stream",
     "text": [
      "[Epoch 26] val_acc=0.671598 train_acc=0.841306 val_loss=0.014374 train_loss=0.011957\n",
      "EarlyStopping counter: 6 out of 30\n"
     ]
    },
    {
     "name": "stderr",
     "output_type": "stream",
     "text": [
      "Epoch 27: 100%|██████████| 28/28 [00:07<00:00,  3.53batch/s, loss=0.6978]\n"
     ]
    },
    {
     "name": "stdout",
     "output_type": "stream",
     "text": [
      "[Epoch 27] val_acc=0.671598 train_acc=0.853123 val_loss=0.013923 train_loss=0.011676\n",
      "EarlyStopping counter: 7 out of 30\n"
     ]
    },
    {
     "name": "stderr",
     "output_type": "stream",
     "text": [
      "Epoch 28: 100%|██████████| 28/28 [00:07<00:00,  3.57batch/s, loss=0.8211]\n"
     ]
    },
    {
     "name": "stdout",
     "output_type": "stream",
     "text": [
      "[Epoch 28] val_acc=0.715976 train_acc=0.859876 val_loss=0.013378 train_loss=0.011660\n",
      "Validation loss decreased (0.013410 --> 0.013378).  Saving model ...\n"
     ]
    },
    {
     "name": "stderr",
     "output_type": "stream",
     "text": [
      "Epoch 29: 100%|██████████| 28/28 [00:08<00:00,  3.40batch/s, loss=0.8633]\n"
     ]
    },
    {
     "name": "stdout",
     "output_type": "stream",
     "text": [
      "[Epoch 29] val_acc=0.724852 train_acc=0.851435 val_loss=0.013158 train_loss=0.011779\n",
      "Validation loss decreased (0.013378 --> 0.013158).  Saving model ...\n"
     ]
    },
    {
     "name": "stderr",
     "output_type": "stream",
     "text": [
      "Epoch 30: 100%|██████████| 28/28 [00:07<00:00,  3.73batch/s, loss=0.7769]\n"
     ]
    },
    {
     "name": "stdout",
     "output_type": "stream",
     "text": [
      "[Epoch 30] val_acc=0.692308 train_acc=0.853123 val_loss=0.013564 train_loss=0.011537\n",
      "EarlyStopping counter: 1 out of 30\n"
     ]
    },
    {
     "name": "stderr",
     "output_type": "stream",
     "text": [
      "Epoch 31: 100%|██████████| 28/28 [00:07<00:00,  3.51batch/s, loss=0.6805]\n"
     ]
    },
    {
     "name": "stdout",
     "output_type": "stream",
     "text": [
      "[Epoch 31] val_acc=0.704142 train_acc=0.858751 val_loss=0.013557 train_loss=0.011488\n",
      "EarlyStopping counter: 2 out of 30\n"
     ]
    },
    {
     "name": "stderr",
     "output_type": "stream",
     "text": [
      "Epoch 32: 100%|██████████| 28/28 [00:08<00:00,  3.38batch/s, loss=0.7070]\n"
     ]
    },
    {
     "name": "stdout",
     "output_type": "stream",
     "text": [
      "[Epoch 32] val_acc=0.683432 train_acc=0.858188 val_loss=0.013527 train_loss=0.011546\n",
      "EarlyStopping counter: 3 out of 30\n"
     ]
    },
    {
     "name": "stderr",
     "output_type": "stream",
     "text": [
      "Epoch 33: 100%|██████████| 28/28 [00:08<00:00,  3.34batch/s, loss=0.7304]\n"
     ]
    },
    {
     "name": "stdout",
     "output_type": "stream",
     "text": [
      "[Epoch 33] val_acc=0.701183 train_acc=0.869443 val_loss=0.013189 train_loss=0.011430\n",
      "EarlyStopping counter: 4 out of 30\n"
     ]
    },
    {
     "name": "stderr",
     "output_type": "stream",
     "text": [
      "Epoch 34: 100%|██████████| 28/28 [00:08<00:00,  3.33batch/s, loss=0.8200]\n"
     ]
    },
    {
     "name": "stdout",
     "output_type": "stream",
     "text": [
      "[Epoch 34] val_acc=0.689349 train_acc=0.873945 val_loss=0.013262 train_loss=0.011269\n",
      "EarlyStopping counter: 5 out of 30\n"
     ]
    },
    {
     "name": "stderr",
     "output_type": "stream",
     "text": [
      "Epoch 35: 100%|██████████| 28/28 [00:08<00:00,  3.35batch/s, loss=0.7652]\n"
     ]
    },
    {
     "name": "stdout",
     "output_type": "stream",
     "text": [
      "[Epoch 35] val_acc=0.704142 train_acc=0.870006 val_loss=0.013103 train_loss=0.011414\n",
      "Validation loss decreased (0.013158 --> 0.013103).  Saving model ...\n"
     ]
    },
    {
     "name": "stderr",
     "output_type": "stream",
     "text": [
      "Epoch 36: 100%|██████████| 28/28 [00:07<00:00,  3.55batch/s, loss=0.7243]\n"
     ]
    },
    {
     "name": "stdout",
     "output_type": "stream",
     "text": [
      "[Epoch 36] val_acc=0.718935 train_acc=0.882386 val_loss=0.013017 train_loss=0.011071\n",
      "Validation loss decreased (0.013103 --> 0.013017).  Saving model ...\n"
     ]
    },
    {
     "name": "stderr",
     "output_type": "stream",
     "text": [
      "Epoch 37: 100%|██████████| 28/28 [00:08<00:00,  3.48batch/s, loss=0.7928]\n"
     ]
    },
    {
     "name": "stdout",
     "output_type": "stream",
     "text": [
      "[Epoch 37] val_acc=0.730769 train_acc=0.877321 val_loss=0.012945 train_loss=0.011126\n",
      "Validation loss decreased (0.013017 --> 0.012945).  Saving model ...\n"
     ]
    },
    {
     "name": "stderr",
     "output_type": "stream",
     "text": [
      "Epoch 38: 100%|██████████| 28/28 [00:08<00:00,  3.35batch/s, loss=0.7915]\n"
     ]
    },
    {
     "name": "stdout",
     "output_type": "stream",
     "text": [
      "[Epoch 38] val_acc=0.698225 train_acc=0.872819 val_loss=0.013419 train_loss=0.011234\n",
      "EarlyStopping counter: 1 out of 30\n"
     ]
    },
    {
     "name": "stderr",
     "output_type": "stream",
     "text": [
      "Epoch 39: 100%|██████████| 28/28 [00:07<00:00,  3.55batch/s, loss=0.7916]\n"
     ]
    },
    {
     "name": "stdout",
     "output_type": "stream",
     "text": [
      "[Epoch 39] val_acc=0.683432 train_acc=0.871131 val_loss=0.013756 train_loss=0.011160\n",
      "EarlyStopping counter: 2 out of 30\n"
     ]
    },
    {
     "name": "stderr",
     "output_type": "stream",
     "text": [
      "Epoch 40: 100%|██████████| 28/28 [00:07<00:00,  3.58batch/s, loss=0.6915]\n"
     ]
    },
    {
     "name": "stdout",
     "output_type": "stream",
     "text": [
      "[Epoch 40] val_acc=0.698225 train_acc=0.879010 val_loss=0.013827 train_loss=0.011064\n",
      "EarlyStopping counter: 3 out of 30\n"
     ]
    },
    {
     "name": "stderr",
     "output_type": "stream",
     "text": [
      "Epoch 41: 100%|██████████| 28/28 [00:07<00:00,  3.56batch/s, loss=0.6851]\n"
     ]
    },
    {
     "name": "stdout",
     "output_type": "stream",
     "text": [
      "[Epoch 41] val_acc=0.715976 train_acc=0.889702 val_loss=0.012930 train_loss=0.010964\n",
      "Validation loss decreased (0.012945 --> 0.012930).  Saving model ...\n"
     ]
    },
    {
     "name": "stderr",
     "output_type": "stream",
     "text": [
      "Epoch 42: 100%|██████████| 28/28 [00:07<00:00,  3.57batch/s, loss=0.7252]\n"
     ]
    },
    {
     "name": "stdout",
     "output_type": "stream",
     "text": [
      "[Epoch 42] val_acc=0.715976 train_acc=0.882386 val_loss=0.013183 train_loss=0.010999\n",
      "EarlyStopping counter: 1 out of 30\n"
     ]
    },
    {
     "name": "stderr",
     "output_type": "stream",
     "text": [
      "Epoch 43: 100%|██████████| 28/28 [00:07<00:00,  3.58batch/s, loss=0.6928]\n"
     ]
    },
    {
     "name": "stdout",
     "output_type": "stream",
     "text": [
      "[Epoch 43] val_acc=0.692308 train_acc=0.889139 val_loss=0.012964 train_loss=0.010779\n",
      "EarlyStopping counter: 2 out of 30\n"
     ]
    },
    {
     "name": "stderr",
     "output_type": "stream",
     "text": [
      "Epoch 44: 100%|██████████| 28/28 [00:08<00:00,  3.42batch/s, loss=0.6752]\n"
     ]
    },
    {
     "name": "stdout",
     "output_type": "stream",
     "text": [
      "[Epoch 44] val_acc=0.713018 train_acc=0.891390 val_loss=0.013204 train_loss=0.010925\n",
      "EarlyStopping counter: 3 out of 30\n"
     ]
    },
    {
     "name": "stderr",
     "output_type": "stream",
     "text": [
      "Epoch 45: 100%|██████████| 28/28 [00:08<00:00,  3.25batch/s, loss=0.6583]\n"
     ]
    },
    {
     "name": "stdout",
     "output_type": "stream",
     "text": [
      "[Epoch 45] val_acc=0.724852 train_acc=0.892515 val_loss=0.012722 train_loss=0.010754\n",
      "Validation loss decreased (0.012930 --> 0.012722).  Saving model ...\n"
     ]
    },
    {
     "name": "stderr",
     "output_type": "stream",
     "text": [
      "Epoch 46: 100%|██████████| 28/28 [00:08<00:00,  3.32batch/s, loss=0.6588]\n"
     ]
    },
    {
     "name": "stdout",
     "output_type": "stream",
     "text": [
      "[Epoch 46] val_acc=0.704142 train_acc=0.900394 val_loss=0.013077 train_loss=0.010632\n",
      "EarlyStopping counter: 1 out of 30\n"
     ]
    },
    {
     "name": "stderr",
     "output_type": "stream",
     "text": [
      "Epoch 47: 100%|██████████| 28/28 [00:08<00:00,  3.25batch/s, loss=0.6617]\n"
     ]
    },
    {
     "name": "stdout",
     "output_type": "stream",
     "text": [
      "[Epoch 47] val_acc=0.707101 train_acc=0.893641 val_loss=0.013109 train_loss=0.010755\n",
      "EarlyStopping counter: 2 out of 30\n"
     ]
    },
    {
     "name": "stderr",
     "output_type": "stream",
     "text": [
      "Epoch 48: 100%|██████████| 28/28 [00:08<00:00,  3.37batch/s, loss=0.6801]\n"
     ]
    },
    {
     "name": "stdout",
     "output_type": "stream",
     "text": [
      "[Epoch 48] val_acc=0.686391 train_acc=0.909398 val_loss=0.013510 train_loss=0.010529\n",
      "EarlyStopping counter: 3 out of 30\n"
     ]
    },
    {
     "name": "stderr",
     "output_type": "stream",
     "text": [
      "Epoch 49: 100%|██████████| 28/28 [00:08<00:00,  3.42batch/s, loss=0.7154]\n"
     ]
    },
    {
     "name": "stdout",
     "output_type": "stream",
     "text": [
      "[Epoch 49] val_acc=0.698225 train_acc=0.903208 val_loss=0.013134 train_loss=0.010586\n",
      "EarlyStopping counter: 4 out of 30\n"
     ]
    },
    {
     "name": "stderr",
     "output_type": "stream",
     "text": [
      "Epoch 50: 100%|██████████| 28/28 [00:08<00:00,  3.27batch/s, loss=0.6738]\n"
     ]
    },
    {
     "name": "stdout",
     "output_type": "stream",
     "text": [
      "[Epoch 50] val_acc=0.707101 train_acc=0.910523 val_loss=0.012807 train_loss=0.010533\n",
      "EarlyStopping counter: 5 out of 30\n"
     ]
    },
    {
     "name": "stderr",
     "output_type": "stream",
     "text": [
      "Epoch 51: 100%|██████████| 28/28 [00:08<00:00,  3.13batch/s, loss=0.6417]\n"
     ]
    },
    {
     "name": "stdout",
     "output_type": "stream",
     "text": [
      "[Epoch 51] val_acc=0.724852 train_acc=0.906584 val_loss=0.012981 train_loss=0.010547\n",
      "EarlyStopping counter: 6 out of 30\n"
     ]
    },
    {
     "name": "stderr",
     "output_type": "stream",
     "text": [
      "Epoch 52: 100%|██████████| 28/28 [00:08<00:00,  3.27batch/s, loss=0.6216]\n"
     ]
    },
    {
     "name": "stdout",
     "output_type": "stream",
     "text": [
      "[Epoch 52] val_acc=0.715976 train_acc=0.891390 val_loss=0.012448 train_loss=0.010824\n",
      "Validation loss decreased (0.012722 --> 0.012448).  Saving model ...\n"
     ]
    },
    {
     "name": "stderr",
     "output_type": "stream",
     "text": [
      "Epoch 53: 100%|██████████| 28/28 [00:08<00:00,  3.16batch/s, loss=0.6715]\n"
     ]
    },
    {
     "name": "stdout",
     "output_type": "stream",
     "text": [
      "[Epoch 53] val_acc=0.680473 train_acc=0.917276 val_loss=0.013793 train_loss=0.010492\n",
      "EarlyStopping counter: 1 out of 30\n"
     ]
    },
    {
     "name": "stderr",
     "output_type": "stream",
     "text": [
      "Epoch 54: 100%|██████████| 28/28 [00:09<00:00,  3.07batch/s, loss=0.6350]\n"
     ]
    },
    {
     "name": "stdout",
     "output_type": "stream",
     "text": [
      "[Epoch 54] val_acc=0.713018 train_acc=0.909961 val_loss=0.013172 train_loss=0.010427\n",
      "EarlyStopping counter: 2 out of 30\n"
     ]
    },
    {
     "name": "stderr",
     "output_type": "stream",
     "text": [
      "Epoch 55: 100%|██████████| 28/28 [00:09<00:00,  2.95batch/s, loss=0.7180]\n"
     ]
    },
    {
     "name": "stdout",
     "output_type": "stream",
     "text": [
      "[Epoch 55] val_acc=0.713018 train_acc=0.913337 val_loss=0.013183 train_loss=0.010414\n",
      "EarlyStopping counter: 3 out of 30\n"
     ]
    },
    {
     "name": "stderr",
     "output_type": "stream",
     "text": [
      "Epoch 56: 100%|██████████| 28/28 [00:11<00:00,  2.46batch/s, loss=0.6755]\n"
     ]
    },
    {
     "name": "stdout",
     "output_type": "stream",
     "text": [
      "[Epoch 56] val_acc=0.742604 train_acc=0.913337 val_loss=0.013214 train_loss=0.010476\n",
      "EarlyStopping counter: 4 out of 30\n"
     ]
    },
    {
     "name": "stderr",
     "output_type": "stream",
     "text": [
      "Epoch 57: 100%|██████████| 28/28 [00:13<00:00,  2.12batch/s, loss=0.6473]\n"
     ]
    },
    {
     "name": "stdout",
     "output_type": "stream",
     "text": [
      "[Epoch 57] val_acc=0.692308 train_acc=0.899268 val_loss=0.013186 train_loss=0.010573\n",
      "EarlyStopping counter: 5 out of 30\n"
     ]
    },
    {
     "name": "stderr",
     "output_type": "stream",
     "text": [
      "Epoch 58: 100%|██████████| 28/28 [00:11<00:00,  2.46batch/s, loss=0.7765]\n"
     ]
    },
    {
     "name": "stdout",
     "output_type": "stream",
     "text": [
      "[Epoch 58] val_acc=0.689349 train_acc=0.907710 val_loss=0.012988 train_loss=0.010481\n",
      "EarlyStopping counter: 6 out of 30\n"
     ]
    },
    {
     "name": "stderr",
     "output_type": "stream",
     "text": [
      "Epoch 59: 100%|██████████| 28/28 [00:12<00:00,  2.25batch/s, loss=0.7132]\n"
     ]
    },
    {
     "name": "stdout",
     "output_type": "stream",
     "text": [
      "[Epoch 59] val_acc=0.701183 train_acc=0.900957 val_loss=0.012635 train_loss=0.010446\n",
      "EarlyStopping counter: 7 out of 30\n"
     ]
    },
    {
     "name": "stderr",
     "output_type": "stream",
     "text": [
      "Epoch 60: 100%|██████████| 28/28 [00:10<00:00,  2.62batch/s, loss=0.6524]\n"
     ]
    },
    {
     "name": "stdout",
     "output_type": "stream",
     "text": [
      "[Epoch 60] val_acc=0.695266 train_acc=0.920653 val_loss=0.012452 train_loss=0.010304\n",
      "EarlyStopping counter: 8 out of 30\n"
     ]
    },
    {
     "name": "stderr",
     "output_type": "stream",
     "text": [
      "Epoch 61: 100%|██████████| 28/28 [00:10<00:00,  2.64batch/s, loss=0.6966]\n"
     ]
    },
    {
     "name": "stdout",
     "output_type": "stream",
     "text": [
      "[Epoch 61] val_acc=0.710059 train_acc=0.913337 val_loss=0.013085 train_loss=0.010414\n",
      "EarlyStopping counter: 9 out of 30\n"
     ]
    },
    {
     "name": "stderr",
     "output_type": "stream",
     "text": [
      "Epoch 62: 100%|██████████| 28/28 [00:11<00:00,  2.39batch/s, loss=0.7116]\n"
     ]
    },
    {
     "name": "stdout",
     "output_type": "stream",
     "text": [
      "[Epoch 62] val_acc=0.695266 train_acc=0.913900 val_loss=0.013038 train_loss=0.010316\n",
      "EarlyStopping counter: 10 out of 30\n"
     ]
    },
    {
     "name": "stderr",
     "output_type": "stream",
     "text": [
      "Epoch 63: 100%|██████████| 28/28 [00:11<00:00,  2.50batch/s, loss=0.5942]\n"
     ]
    },
    {
     "name": "stdout",
     "output_type": "stream",
     "text": [
      "[Epoch 63] val_acc=0.710059 train_acc=0.921778 val_loss=0.012664 train_loss=0.010194\n",
      "EarlyStopping counter: 11 out of 30\n"
     ]
    },
    {
     "name": "stderr",
     "output_type": "stream",
     "text": [
      "Epoch 64: 100%|██████████| 28/28 [00:11<00:00,  2.37batch/s, loss=0.6421]\n"
     ]
    },
    {
     "name": "stdout",
     "output_type": "stream",
     "text": [
      "[Epoch 64] val_acc=0.721893 train_acc=0.926843 val_loss=0.012839 train_loss=0.010182\n",
      "EarlyStopping counter: 12 out of 30\n"
     ]
    },
    {
     "name": "stderr",
     "output_type": "stream",
     "text": [
      "Epoch 65: 100%|██████████| 28/28 [00:11<00:00,  2.41batch/s, loss=0.6743]\n"
     ]
    },
    {
     "name": "stdout",
     "output_type": "stream",
     "text": [
      "[Epoch 65] val_acc=0.718935 train_acc=0.924592 val_loss=0.012677 train_loss=0.010161\n",
      "EarlyStopping counter: 13 out of 30\n"
     ]
    },
    {
     "name": "stderr",
     "output_type": "stream",
     "text": [
      "Epoch 66: 100%|██████████| 28/28 [00:10<00:00,  2.74batch/s, loss=0.6732]\n"
     ]
    },
    {
     "name": "stdout",
     "output_type": "stream",
     "text": [
      "[Epoch 66] val_acc=0.715976 train_acc=0.918965 val_loss=0.012462 train_loss=0.010218\n",
      "EarlyStopping counter: 14 out of 30\n"
     ]
    },
    {
     "name": "stderr",
     "output_type": "stream",
     "text": [
      "Epoch 67: 100%|██████████| 28/28 [00:09<00:00,  2.96batch/s, loss=0.6665]\n"
     ]
    },
    {
     "name": "stdout",
     "output_type": "stream",
     "text": [
      "[Epoch 67] val_acc=0.715976 train_acc=0.919527 val_loss=0.012787 train_loss=0.010255\n",
      "EarlyStopping counter: 15 out of 30\n"
     ]
    },
    {
     "name": "stderr",
     "output_type": "stream",
     "text": [
      "Epoch 68: 100%|██████████| 28/28 [00:09<00:00,  2.92batch/s, loss=0.6470]\n"
     ]
    },
    {
     "name": "stdout",
     "output_type": "stream",
     "text": [
      "[Epoch 68] val_acc=0.704142 train_acc=0.920090 val_loss=0.013260 train_loss=0.010178\n",
      "EarlyStopping counter: 16 out of 30\n"
     ]
    },
    {
     "name": "stderr",
     "output_type": "stream",
     "text": [
      "Epoch 69: 100%|██████████| 28/28 [00:10<00:00,  2.67batch/s, loss=0.6178]\n"
     ]
    },
    {
     "name": "stdout",
     "output_type": "stream",
     "text": [
      "[Epoch 69] val_acc=0.713018 train_acc=0.920653 val_loss=0.013157 train_loss=0.010237\n",
      "EarlyStopping counter: 17 out of 30\n"
     ]
    },
    {
     "name": "stderr",
     "output_type": "stream",
     "text": [
      "Epoch 70: 100%|██████████| 28/28 [00:08<00:00,  3.13batch/s, loss=0.6844]\n"
     ]
    },
    {
     "name": "stdout",
     "output_type": "stream",
     "text": [
      "[Epoch 70] val_acc=0.710059 train_acc=0.920653 val_loss=0.013036 train_loss=0.010163\n",
      "EarlyStopping counter: 18 out of 30\n"
     ]
    },
    {
     "name": "stderr",
     "output_type": "stream",
     "text": [
      "Epoch 71: 100%|██████████| 28/28 [00:08<00:00,  3.16batch/s, loss=0.7044]\n"
     ]
    },
    {
     "name": "stdout",
     "output_type": "stream",
     "text": [
      "[Epoch 71] val_acc=0.707101 train_acc=0.928531 val_loss=0.013127 train_loss=0.010137\n",
      "EarlyStopping counter: 19 out of 30\n"
     ]
    },
    {
     "name": "stderr",
     "output_type": "stream",
     "text": [
      "Epoch 72: 100%|██████████| 28/28 [00:08<00:00,  3.31batch/s, loss=0.6244]\n"
     ]
    },
    {
     "name": "stdout",
     "output_type": "stream",
     "text": [
      "[Epoch 72] val_acc=0.698225 train_acc=0.936410 val_loss=0.013219 train_loss=0.010030\n",
      "EarlyStopping counter: 20 out of 30\n"
     ]
    },
    {
     "name": "stderr",
     "output_type": "stream",
     "text": [
      "Epoch 73: 100%|██████████| 28/28 [00:09<00:00,  2.87batch/s, loss=0.7031]\n"
     ]
    },
    {
     "name": "stdout",
     "output_type": "stream",
     "text": [
      "[Epoch 73] val_acc=0.713018 train_acc=0.925155 val_loss=0.012814 train_loss=0.010070\n",
      "EarlyStopping counter: 21 out of 30\n"
     ]
    },
    {
     "name": "stderr",
     "output_type": "stream",
     "text": [
      "Epoch 74: 100%|██████████| 28/28 [00:10<00:00,  2.74batch/s, loss=0.6117]\n"
     ]
    },
    {
     "name": "stdout",
     "output_type": "stream",
     "text": [
      "[Epoch 74] val_acc=0.736686 train_acc=0.933033 val_loss=0.012408 train_loss=0.009929\n",
      "Validation loss decreased (0.012448 --> 0.012408).  Saving model ...\n"
     ]
    },
    {
     "name": "stderr",
     "output_type": "stream",
     "text": [
      "Epoch 75: 100%|██████████| 28/28 [00:10<00:00,  2.63batch/s, loss=0.6387]\n"
     ]
    },
    {
     "name": "stdout",
     "output_type": "stream",
     "text": [
      "[Epoch 75] val_acc=0.701183 train_acc=0.938661 val_loss=0.012986 train_loss=0.009933\n",
      "EarlyStopping counter: 1 out of 30\n"
     ]
    },
    {
     "name": "stderr",
     "output_type": "stream",
     "text": [
      "Epoch 76: 100%|██████████| 28/28 [00:08<00:00,  3.20batch/s, loss=0.6503]\n"
     ]
    },
    {
     "name": "stdout",
     "output_type": "stream",
     "text": [
      "[Epoch 76] val_acc=0.724852 train_acc=0.926280 val_loss=0.012720 train_loss=0.010058\n",
      "EarlyStopping counter: 2 out of 30\n"
     ]
    },
    {
     "name": "stderr",
     "output_type": "stream",
     "text": [
      "Epoch 77: 100%|██████████| 28/28 [00:09<00:00,  2.86batch/s, loss=0.6352]\n"
     ]
    },
    {
     "name": "stdout",
     "output_type": "stream",
     "text": [
      "[Epoch 77] val_acc=0.695266 train_acc=0.928531 val_loss=0.012692 train_loss=0.009921\n",
      "EarlyStopping counter: 3 out of 30\n"
     ]
    },
    {
     "name": "stderr",
     "output_type": "stream",
     "text": [
      "Epoch 78: 100%|██████████| 28/28 [00:10<00:00,  2.78batch/s, loss=0.5831]\n"
     ]
    },
    {
     "name": "stdout",
     "output_type": "stream",
     "text": [
      "[Epoch 78] val_acc=0.701183 train_acc=0.933033 val_loss=0.013387 train_loss=0.010118\n",
      "EarlyStopping counter: 4 out of 30\n"
     ]
    },
    {
     "name": "stderr",
     "output_type": "stream",
     "text": [
      "Epoch 79: 100%|██████████| 28/28 [00:09<00:00,  2.98batch/s, loss=0.6811]\n"
     ]
    },
    {
     "name": "stdout",
     "output_type": "stream",
     "text": [
      "[Epoch 79] val_acc=0.701183 train_acc=0.931908 val_loss=0.013444 train_loss=0.010023\n",
      "EarlyStopping counter: 5 out of 30\n"
     ]
    },
    {
     "name": "stderr",
     "output_type": "stream",
     "text": [
      "Epoch 80: 100%|██████████| 28/28 [00:09<00:00,  3.05batch/s, loss=0.6541]\n"
     ]
    },
    {
     "name": "stdout",
     "output_type": "stream",
     "text": [
      "[Epoch 80] val_acc=0.692308 train_acc=0.934159 val_loss=0.013381 train_loss=0.010041\n",
      "EarlyStopping counter: 6 out of 30\n"
     ]
    },
    {
     "name": "stderr",
     "output_type": "stream",
     "text": [
      "Epoch 81: 100%|██████████| 28/28 [00:08<00:00,  3.19batch/s, loss=0.6434]\n"
     ]
    },
    {
     "name": "stdout",
     "output_type": "stream",
     "text": [
      "[Epoch 81] val_acc=0.695266 train_acc=0.933033 val_loss=0.012793 train_loss=0.010073\n",
      "EarlyStopping counter: 7 out of 30\n"
     ]
    },
    {
     "name": "stderr",
     "output_type": "stream",
     "text": [
      "Epoch 82: 100%|██████████| 28/28 [00:08<00:00,  3.17batch/s, loss=0.6042]\n"
     ]
    },
    {
     "name": "stdout",
     "output_type": "stream",
     "text": [
      "[Epoch 82] val_acc=0.704142 train_acc=0.920653 val_loss=0.012888 train_loss=0.010104\n",
      "EarlyStopping counter: 8 out of 30\n"
     ]
    },
    {
     "name": "stderr",
     "output_type": "stream",
     "text": [
      "Epoch 83: 100%|██████████| 28/28 [00:08<00:00,  3.48batch/s, loss=0.6701]\n"
     ]
    },
    {
     "name": "stdout",
     "output_type": "stream",
     "text": [
      "[Epoch 83] val_acc=0.715976 train_acc=0.943725 val_loss=0.012754 train_loss=0.009804\n",
      "EarlyStopping counter: 9 out of 30\n"
     ]
    },
    {
     "name": "stderr",
     "output_type": "stream",
     "text": [
      "Epoch 84: 100%|██████████| 28/28 [00:08<00:00,  3.21batch/s, loss=0.6302]\n"
     ]
    },
    {
     "name": "stdout",
     "output_type": "stream",
     "text": [
      "[Epoch 84] val_acc=0.715976 train_acc=0.940912 val_loss=0.013059 train_loss=0.009862\n",
      "EarlyStopping counter: 10 out of 30\n"
     ]
    },
    {
     "name": "stderr",
     "output_type": "stream",
     "text": [
      "Epoch 85: 100%|██████████| 28/28 [00:08<00:00,  3.30batch/s, loss=0.6116]\n"
     ]
    },
    {
     "name": "stdout",
     "output_type": "stream",
     "text": [
      "[Epoch 85] val_acc=0.707101 train_acc=0.935847 val_loss=0.012762 train_loss=0.009925\n",
      "EarlyStopping counter: 11 out of 30\n"
     ]
    },
    {
     "name": "stderr",
     "output_type": "stream",
     "text": [
      "Epoch 86: 100%|██████████| 28/28 [00:09<00:00,  2.98batch/s, loss=0.6276]\n"
     ]
    },
    {
     "name": "stdout",
     "output_type": "stream",
     "text": [
      "[Epoch 86] val_acc=0.692308 train_acc=0.939786 val_loss=0.013372 train_loss=0.009757\n",
      "EarlyStopping counter: 12 out of 30\n"
     ]
    },
    {
     "name": "stderr",
     "output_type": "stream",
     "text": [
      "Epoch 87: 100%|██████████| 28/28 [00:08<00:00,  3.17batch/s, loss=0.6512]\n"
     ]
    },
    {
     "name": "stdout",
     "output_type": "stream",
     "text": [
      "[Epoch 87] val_acc=0.692308 train_acc=0.938661 val_loss=0.012984 train_loss=0.009738\n",
      "EarlyStopping counter: 13 out of 30\n"
     ]
    },
    {
     "name": "stderr",
     "output_type": "stream",
     "text": [
      "Epoch 88: 100%|██████████| 28/28 [00:08<00:00,  3.43batch/s, loss=0.6045]\n"
     ]
    },
    {
     "name": "stdout",
     "output_type": "stream",
     "text": [
      "[Epoch 88] val_acc=0.713018 train_acc=0.936972 val_loss=0.013197 train_loss=0.009830\n",
      "EarlyStopping counter: 14 out of 30\n"
     ]
    },
    {
     "name": "stderr",
     "output_type": "stream",
     "text": [
      "Epoch 89: 100%|██████████| 28/28 [00:08<00:00,  3.40batch/s, loss=0.6511]\n"
     ]
    },
    {
     "name": "stdout",
     "output_type": "stream",
     "text": [
      "[Epoch 89] val_acc=0.704142 train_acc=0.943163 val_loss=0.013207 train_loss=0.009788\n",
      "EarlyStopping counter: 15 out of 30\n"
     ]
    },
    {
     "name": "stderr",
     "output_type": "stream",
     "text": [
      "Epoch 90: 100%|██████████| 28/28 [00:08<00:00,  3.14batch/s, loss=0.6432]\n"
     ]
    },
    {
     "name": "stdout",
     "output_type": "stream",
     "text": [
      "[Epoch 90] val_acc=0.701183 train_acc=0.942037 val_loss=0.013320 train_loss=0.009839\n",
      "EarlyStopping counter: 16 out of 30\n"
     ]
    },
    {
     "name": "stderr",
     "output_type": "stream",
     "text": [
      "Epoch 91: 100%|██████████| 28/28 [00:08<00:00,  3.38batch/s, loss=0.6242]\n"
     ]
    },
    {
     "name": "stdout",
     "output_type": "stream",
     "text": [
      "[Epoch 91] val_acc=0.710059 train_acc=0.933596 val_loss=0.012923 train_loss=0.009745\n",
      "EarlyStopping counter: 17 out of 30\n"
     ]
    },
    {
     "name": "stderr",
     "output_type": "stream",
     "text": [
      "Epoch 92: 100%|██████████| 28/28 [00:08<00:00,  3.34batch/s, loss=0.6782]\n"
     ]
    },
    {
     "name": "stdout",
     "output_type": "stream",
     "text": [
      "[Epoch 92] val_acc=0.727811 train_acc=0.942037 val_loss=0.012888 train_loss=0.009860\n",
      "EarlyStopping counter: 18 out of 30\n"
     ]
    },
    {
     "name": "stderr",
     "output_type": "stream",
     "text": [
      "Epoch 93: 100%|██████████| 28/28 [00:08<00:00,  3.23batch/s, loss=0.6255]\n"
     ]
    },
    {
     "name": "stdout",
     "output_type": "stream",
     "text": [
      "[Epoch 93] val_acc=0.718935 train_acc=0.949353 val_loss=0.012794 train_loss=0.009650\n",
      "EarlyStopping counter: 19 out of 30\n"
     ]
    },
    {
     "name": "stderr",
     "output_type": "stream",
     "text": [
      "Epoch 94: 100%|██████████| 28/28 [00:10<00:00,  2.75batch/s, loss=0.6840]\n"
     ]
    },
    {
     "name": "stdout",
     "output_type": "stream",
     "text": [
      "[Epoch 94] val_acc=0.730769 train_acc=0.944851 val_loss=0.013210 train_loss=0.009760\n",
      "EarlyStopping counter: 20 out of 30\n"
     ]
    },
    {
     "name": "stderr",
     "output_type": "stream",
     "text": [
      "Epoch 95: 100%|██████████| 28/28 [00:09<00:00,  2.95batch/s, loss=0.5924]\n"
     ]
    },
    {
     "name": "stdout",
     "output_type": "stream",
     "text": [
      "[Epoch 95] val_acc=0.733728 train_acc=0.938098 val_loss=0.012835 train_loss=0.009771\n",
      "EarlyStopping counter: 21 out of 30\n"
     ]
    },
    {
     "name": "stderr",
     "output_type": "stream",
     "text": [
      "Epoch 96: 100%|██████████| 28/28 [00:08<00:00,  3.33batch/s, loss=0.6399]\n"
     ]
    },
    {
     "name": "stdout",
     "output_type": "stream",
     "text": [
      "[Epoch 96] val_acc=0.730769 train_acc=0.948227 val_loss=0.012703 train_loss=0.009595\n",
      "EarlyStopping counter: 22 out of 30\n"
     ]
    },
    {
     "name": "stderr",
     "output_type": "stream",
     "text": [
      "Epoch 97: 100%|██████████| 28/28 [00:08<00:00,  3.47batch/s, loss=0.5955]\n"
     ]
    },
    {
     "name": "stdout",
     "output_type": "stream",
     "text": [
      "[Epoch 97] val_acc=0.721893 train_acc=0.947102 val_loss=0.012409 train_loss=0.009614\n",
      "EarlyStopping counter: 23 out of 30\n"
     ]
    },
    {
     "name": "stderr",
     "output_type": "stream",
     "text": [
      "Epoch 98: 100%|██████████| 28/28 [00:09<00:00,  2.90batch/s, loss=0.5913]\n"
     ]
    },
    {
     "name": "stdout",
     "output_type": "stream",
     "text": [
      "[Epoch 98] val_acc=0.710059 train_acc=0.951604 val_loss=0.013081 train_loss=0.009608\n",
      "EarlyStopping counter: 24 out of 30\n"
     ]
    },
    {
     "name": "stderr",
     "output_type": "stream",
     "text": [
      "Epoch 99: 100%|██████████| 28/28 [00:09<00:00,  2.99batch/s, loss=0.6222]\n"
     ]
    },
    {
     "name": "stdout",
     "output_type": "stream",
     "text": [
      "[Epoch 99] val_acc=0.718935 train_acc=0.942600 val_loss=0.012344 train_loss=0.009715\n",
      "Validation loss decreased (0.012408 --> 0.012344).  Saving model ...\n"
     ]
    },
    {
     "name": "stderr",
     "output_type": "stream",
     "text": [
      "Epoch 100: 100%|██████████| 28/28 [00:08<00:00,  3.12batch/s, loss=0.6167]\n"
     ]
    },
    {
     "name": "stdout",
     "output_type": "stream",
     "text": [
      "[Epoch 100] val_acc=0.707101 train_acc=0.948227 val_loss=0.012740 train_loss=0.009588\n",
      "EarlyStopping counter: 1 out of 30\n"
     ]
    },
    {
     "name": "stderr",
     "output_type": "stream",
     "text": [
      "Epoch 101: 100%|██████████| 28/28 [00:08<00:00,  3.21batch/s, loss=0.6197]\n"
     ]
    },
    {
     "name": "stdout",
     "output_type": "stream",
     "text": [
      "[Epoch 101] val_acc=0.713018 train_acc=0.952167 val_loss=0.012931 train_loss=0.009548\n",
      "EarlyStopping counter: 2 out of 30\n"
     ]
    },
    {
     "name": "stderr",
     "output_type": "stream",
     "text": [
      "Epoch 102: 100%|██████████| 28/28 [00:09<00:00,  3.05batch/s, loss=0.6695]\n"
     ]
    },
    {
     "name": "stdout",
     "output_type": "stream",
     "text": [
      "[Epoch 102] val_acc=0.710059 train_acc=0.943725 val_loss=0.012926 train_loss=0.009639\n",
      "EarlyStopping counter: 3 out of 30\n"
     ]
    },
    {
     "name": "stderr",
     "output_type": "stream",
     "text": [
      "Epoch 103: 100%|██████████| 28/28 [00:08<00:00,  3.46batch/s, loss=0.6057]\n"
     ]
    },
    {
     "name": "stdout",
     "output_type": "stream",
     "text": [
      "[Epoch 103] val_acc=0.701183 train_acc=0.942037 val_loss=0.012893 train_loss=0.009671\n",
      "EarlyStopping counter: 4 out of 30\n"
     ]
    },
    {
     "name": "stderr",
     "output_type": "stream",
     "text": [
      "Epoch 104: 100%|██████████| 28/28 [00:08<00:00,  3.42batch/s, loss=0.5528]\n"
     ]
    },
    {
     "name": "stdout",
     "output_type": "stream",
     "text": [
      "[Epoch 104] val_acc=0.724852 train_acc=0.957231 val_loss=0.012415 train_loss=0.009364\n",
      "EarlyStopping counter: 5 out of 30\n"
     ]
    },
    {
     "name": "stderr",
     "output_type": "stream",
     "text": [
      "Epoch 105: 100%|██████████| 28/28 [00:11<00:00,  2.49batch/s, loss=0.6174]\n"
     ]
    },
    {
     "name": "stdout",
     "output_type": "stream",
     "text": [
      "[Epoch 105] val_acc=0.701183 train_acc=0.951041 val_loss=0.012665 train_loss=0.009477\n",
      "EarlyStopping counter: 6 out of 30\n"
     ]
    },
    {
     "name": "stderr",
     "output_type": "stream",
     "text": [
      "Epoch 106: 100%|██████████| 28/28 [00:09<00:00,  2.99batch/s, loss=0.6340]\n"
     ]
    },
    {
     "name": "stdout",
     "output_type": "stream",
     "text": [
      "[Epoch 106] val_acc=0.715976 train_acc=0.949353 val_loss=0.012833 train_loss=0.009527\n",
      "EarlyStopping counter: 7 out of 30\n"
     ]
    },
    {
     "name": "stderr",
     "output_type": "stream",
     "text": [
      "Epoch 107: 100%|██████████| 28/28 [00:08<00:00,  3.15batch/s, loss=0.5928]\n"
     ]
    },
    {
     "name": "stdout",
     "output_type": "stream",
     "text": [
      "[Epoch 107] val_acc=0.704142 train_acc=0.940912 val_loss=0.013019 train_loss=0.009797\n",
      "EarlyStopping counter: 8 out of 30\n"
     ]
    },
    {
     "name": "stderr",
     "output_type": "stream",
     "text": [
      "Epoch 108: 100%|██████████| 28/28 [00:10<00:00,  2.65batch/s, loss=0.5940]\n"
     ]
    },
    {
     "name": "stdout",
     "output_type": "stream",
     "text": [
      "[Epoch 108] val_acc=0.686391 train_acc=0.952167 val_loss=0.013315 train_loss=0.009476\n",
      "EarlyStopping counter: 9 out of 30\n"
     ]
    },
    {
     "name": "stderr",
     "output_type": "stream",
     "text": [
      "Epoch 109: 100%|██████████| 28/28 [00:09<00:00,  3.06batch/s, loss=0.6416]\n"
     ]
    },
    {
     "name": "stdout",
     "output_type": "stream",
     "text": [
      "[Epoch 109] val_acc=0.713018 train_acc=0.944288 val_loss=0.012829 train_loss=0.009625\n",
      "EarlyStopping counter: 10 out of 30\n"
     ]
    },
    {
     "name": "stderr",
     "output_type": "stream",
     "text": [
      "Epoch 110: 100%|██████████| 28/28 [00:09<00:00,  2.81batch/s, loss=0.6111]\n"
     ]
    },
    {
     "name": "stdout",
     "output_type": "stream",
     "text": [
      "[Epoch 110] val_acc=0.736686 train_acc=0.955543 val_loss=0.012487 train_loss=0.009433\n",
      "EarlyStopping counter: 11 out of 30\n"
     ]
    },
    {
     "name": "stderr",
     "output_type": "stream",
     "text": [
      "Epoch 111: 100%|██████████| 28/28 [00:11<00:00,  2.54batch/s, loss=0.6109]\n"
     ]
    },
    {
     "name": "stdout",
     "output_type": "stream",
     "text": [
      "[Epoch 111] val_acc=0.724852 train_acc=0.960608 val_loss=0.012783 train_loss=0.009274\n",
      "EarlyStopping counter: 12 out of 30\n"
     ]
    },
    {
     "name": "stderr",
     "output_type": "stream",
     "text": [
      "Epoch 112: 100%|██████████| 28/28 [00:10<00:00,  2.59batch/s, loss=0.6037]\n"
     ]
    },
    {
     "name": "stdout",
     "output_type": "stream",
     "text": [
      "[Epoch 112] val_acc=0.727811 train_acc=0.970174 val_loss=0.012678 train_loss=0.009177\n",
      "EarlyStopping counter: 13 out of 30\n"
     ]
    },
    {
     "name": "stderr",
     "output_type": "stream",
     "text": [
      "Epoch 113: 100%|██████████| 28/28 [00:09<00:00,  2.92batch/s, loss=0.6085]\n"
     ]
    },
    {
     "name": "stdout",
     "output_type": "stream",
     "text": [
      "[Epoch 113] val_acc=0.736686 train_acc=0.965672 val_loss=0.012632 train_loss=0.009183\n",
      "EarlyStopping counter: 14 out of 30\n"
     ]
    },
    {
     "name": "stderr",
     "output_type": "stream",
     "text": [
      "Epoch 114: 100%|██████████| 28/28 [00:09<00:00,  2.91batch/s, loss=0.6033]\n"
     ]
    },
    {
     "name": "stdout",
     "output_type": "stream",
     "text": [
      "[Epoch 114] val_acc=0.727811 train_acc=0.964547 val_loss=0.012353 train_loss=0.009205\n",
      "EarlyStopping counter: 15 out of 30\n"
     ]
    },
    {
     "name": "stderr",
     "output_type": "stream",
     "text": [
      "Epoch 115: 100%|██████████| 28/28 [00:10<00:00,  2.65batch/s, loss=0.5685]\n"
     ]
    },
    {
     "name": "stdout",
     "output_type": "stream",
     "text": [
      "[Epoch 115] val_acc=0.713018 train_acc=0.963984 val_loss=0.012905 train_loss=0.009259\n",
      "EarlyStopping counter: 16 out of 30\n"
     ]
    },
    {
     "name": "stderr",
     "output_type": "stream",
     "text": [
      "Epoch 116: 100%|██████████| 28/28 [00:09<00:00,  2.95batch/s, loss=0.5950]\n"
     ]
    },
    {
     "name": "stdout",
     "output_type": "stream",
     "text": [
      "[Epoch 116] val_acc=0.724852 train_acc=0.973551 val_loss=0.012747 train_loss=0.009082\n",
      "EarlyStopping counter: 17 out of 30\n"
     ]
    },
    {
     "name": "stderr",
     "output_type": "stream",
     "text": [
      "Epoch 117: 100%|██████████| 28/28 [00:10<00:00,  2.72batch/s, loss=0.6002]\n"
     ]
    },
    {
     "name": "stdout",
     "output_type": "stream",
     "text": [
      "[Epoch 117] val_acc=0.733728 train_acc=0.971300 val_loss=0.012637 train_loss=0.009110\n",
      "EarlyStopping counter: 18 out of 30\n"
     ]
    },
    {
     "name": "stderr",
     "output_type": "stream",
     "text": [
      "Epoch 118: 100%|██████████| 28/28 [00:10<00:00,  2.73batch/s, loss=0.6479]\n"
     ]
    },
    {
     "name": "stdout",
     "output_type": "stream",
     "text": [
      "[Epoch 118] val_acc=0.721893 train_acc=0.972425 val_loss=0.012655 train_loss=0.009214\n",
      "EarlyStopping counter: 19 out of 30\n"
     ]
    },
    {
     "name": "stderr",
     "output_type": "stream",
     "text": [
      "Epoch 119: 100%|██████████| 28/28 [00:10<00:00,  2.61batch/s, loss=0.5834]\n"
     ]
    },
    {
     "name": "stdout",
     "output_type": "stream",
     "text": [
      "[Epoch 119] val_acc=0.727811 train_acc=0.973551 val_loss=0.012559 train_loss=0.009082\n",
      "EarlyStopping counter: 20 out of 30\n"
     ]
    },
    {
     "name": "stderr",
     "output_type": "stream",
     "text": [
      "Epoch 120: 100%|██████████| 28/28 [00:10<00:00,  2.62batch/s, loss=0.6160]\n"
     ]
    },
    {
     "name": "stdout",
     "output_type": "stream",
     "text": [
      "[Epoch 120] val_acc=0.736686 train_acc=0.971863 val_loss=0.012712 train_loss=0.009062\n",
      "EarlyStopping counter: 21 out of 30\n"
     ]
    },
    {
     "name": "stderr",
     "output_type": "stream",
     "text": [
      "Epoch 121: 100%|██████████| 28/28 [00:09<00:00,  3.04batch/s, loss=0.6102]\n"
     ]
    },
    {
     "name": "stdout",
     "output_type": "stream",
     "text": [
      "[Epoch 121] val_acc=0.730769 train_acc=0.974114 val_loss=0.012692 train_loss=0.009073\n",
      "EarlyStopping counter: 22 out of 30\n"
     ]
    },
    {
     "name": "stderr",
     "output_type": "stream",
     "text": [
      "Epoch 122: 100%|██████████| 28/28 [00:08<00:00,  3.38batch/s, loss=0.5966]\n"
     ]
    },
    {
     "name": "stdout",
     "output_type": "stream",
     "text": [
      "[Epoch 122] val_acc=0.736686 train_acc=0.966235 val_loss=0.012530 train_loss=0.009133\n",
      "EarlyStopping counter: 23 out of 30\n"
     ]
    },
    {
     "name": "stderr",
     "output_type": "stream",
     "text": [
      "Epoch 123: 100%|██████████| 28/28 [00:09<00:00,  3.01batch/s, loss=0.5942]\n"
     ]
    },
    {
     "name": "stdout",
     "output_type": "stream",
     "text": [
      "[Epoch 123] val_acc=0.715976 train_acc=0.967923 val_loss=0.012802 train_loss=0.009097\n",
      "EarlyStopping counter: 24 out of 30\n"
     ]
    },
    {
     "name": "stderr",
     "output_type": "stream",
     "text": [
      "Epoch 124: 100%|██████████| 28/28 [00:08<00:00,  3.38batch/s, loss=0.5588]\n"
     ]
    },
    {
     "name": "stdout",
     "output_type": "stream",
     "text": [
      "[Epoch 124] val_acc=0.727811 train_acc=0.980304 val_loss=0.012949 train_loss=0.008948\n",
      "EarlyStopping counter: 25 out of 30\n"
     ]
    },
    {
     "name": "stderr",
     "output_type": "stream",
     "text": [
      "Epoch 125: 100%|██████████| 28/28 [00:08<00:00,  3.13batch/s, loss=0.6124]\n"
     ]
    },
    {
     "name": "stdout",
     "output_type": "stream",
     "text": [
      "[Epoch 125] val_acc=0.739645 train_acc=0.971300 val_loss=0.012890 train_loss=0.009144\n",
      "EarlyStopping counter: 26 out of 30\n"
     ]
    },
    {
     "name": "stderr",
     "output_type": "stream",
     "text": [
      "Epoch 126: 100%|██████████| 28/28 [00:09<00:00,  2.93batch/s, loss=0.5754]\n"
     ]
    },
    {
     "name": "stdout",
     "output_type": "stream",
     "text": [
      "[Epoch 126] val_acc=0.704142 train_acc=0.974676 val_loss=0.013009 train_loss=0.009064\n",
      "EarlyStopping counter: 27 out of 30\n"
     ]
    },
    {
     "name": "stderr",
     "output_type": "stream",
     "text": [
      "Epoch 127: 100%|██████████| 28/28 [00:09<00:00,  2.96batch/s, loss=0.5622]\n"
     ]
    },
    {
     "name": "stdout",
     "output_type": "stream",
     "text": [
      "[Epoch 127] val_acc=0.736686 train_acc=0.969049 val_loss=0.012571 train_loss=0.009071\n",
      "EarlyStopping counter: 28 out of 30\n"
     ]
    },
    {
     "name": "stderr",
     "output_type": "stream",
     "text": [
      "Epoch 128: 100%|██████████| 28/28 [00:08<00:00,  3.44batch/s, loss=0.5727]\n"
     ]
    },
    {
     "name": "stdout",
     "output_type": "stream",
     "text": [
      "[Epoch 128] val_acc=0.724852 train_acc=0.970737 val_loss=0.012558 train_loss=0.009054\n",
      "EarlyStopping counter: 29 out of 30\n"
     ]
    },
    {
     "name": "stderr",
     "output_type": "stream",
     "text": [
      "Epoch 129: 100%|██████████| 28/28 [00:08<00:00,  3.16batch/s, loss=0.5821]\n"
     ]
    },
    {
     "name": "stdout",
     "output_type": "stream",
     "text": [
      "[Epoch 129] val_acc=0.721893 train_acc=0.978053 val_loss=0.013117 train_loss=0.009037\n",
      "EarlyStopping counter: 30 out of 30\n",
      "Early stopping.\n"
     ]
    }
   ],
   "source": [
    "from utils.training import train\n",
    "\n",
    "raw_model = model\n",
    "raw_model.to(device)\n",
    "\n",
    "optimizer = torch.optim.Adam(raw_model.parameters(), lr=0.001, weight_decay=1e-03)\n",
    "scheduler = torch.optim.lr_scheduler.ReduceLROnPlateau(optimizer, mode='min', factor=0.5, patience=5, verbose=True)\n",
    "\n",
    "tr_loader = train_loader\n",
    "\n",
    "train_loss_hist, train_acc_hist, val_loss_hist, val_acc_hist = train(\n",
    "    model=raw_model,\n",
    "    optimizer=optimizer,\n",
    "    loss_func=nn.CrossEntropyLoss(),\n",
    "    train_data=tr_loader,\n",
    "    val_data=val_loader,\n",
    "    early_stopping_patience=10,\n",
    "    scheduler=scheduler,\n",
    "    cp_path=\"models/cnn\",\n",
    "    cp_filename=\"raw.pt\",\n",
    "    n_epochs=150,\n",
    "    show_progress_bar=True,\n",
    ")"
   ]
  },
  {
   "cell_type": "code",
   "execution_count": 130,
   "metadata": {},
   "outputs": [
    {
     "data": {
      "image/png": "[encoded data removed]",
      "text/plain": [
       "<Figure size 640x480 with 1 Axes>"
      ]
     },
     "metadata": {},
     "output_type": "display_data"
    }
   ],
   "source": [
    "plt.plot(train_loss_hist, label=\"Train Loss\")\n",
    "plt.plot(val_loss_hist, label=\"Val Loss\")\n",
    "plt.title(\"Raw Data Model Losses\")\n",
    "plt.xlabel(\"Epoch\")\n",
    "plt.ylabel(\"Loss\")\n",
    "plt.legend()\n",
    "plt.show()"
   ]
  },
  {
   "cell_type": "code",
   "execution_count": 131,
   "metadata": {},
   "outputs": [
    {
     "data": {
      "image/png": "[encoded data removed]",
      "text/plain": [
       "<Figure size 640x480 with 1 Axes>"
      ]
     },
     "metadata": {},
     "output_type": "display_data"
    }
   ],
   "source": [
    "plt.plot(train_acc_hist, label=\"Train Acc\")\n",
    "plt.plot(val_acc_hist, label=\"Val Acc\")\n",
    "plt.title(\"Raw Data Model Accuracies\")\n",
    "plt.xlabel(\"Epoch\")\n",
    "plt.ylabel(\"Accuracy\")\n",
    "plt.legend()\n",
    "plt.show()"
   ]
  },
  {
   "cell_type": "code",
   "execution_count": 138,
   "metadata": {},
   "outputs": [
    {
     "data": {
      "text/plain": [
       "CNN(\n",
       "  (conv_over_time): Sequential(\n",
       "    (0): Conv2d(1, 20, kernel_size=(1, 64), stride=(1, 1), padding=(0, 32), bias=False)\n",
       "    (1): BatchNorm2d(20, eps=0.001, momentum=0.01, affine=True, track_running_stats=True)\n",
       "  )\n",
       "  (conv_over_channels): Sequential(\n",
       "    (0): Conv2d(20, 48, kernel_size=(22, 1), stride=(1, 1), groups=4, bias=False)\n",
       "    (1): BatchNorm2d(48, eps=0.001, momentum=0.01, affine=True, track_running_stats=True)\n",
       "    (2): ELU(alpha=1.0)\n",
       "    (3): AvgPool2d(kernel_size=(1, 4), stride=(1, 4), padding=0)\n",
       "    (4): Dropout(p=0.2, inplace=False)\n",
       "  )\n",
       "  (conv_by_channel_and_point): Sequential(\n",
       "    (0): Conv2d(48, 48, kernel_size=(1, 16), stride=(1, 1), padding=(0, 8), groups=4, bias=False)\n",
       "    (1): Conv2d(48, 24, kernel_size=(1, 1), stride=(1, 1), bias=False)\n",
       "    (2): BatchNorm2d(24, eps=0.001, momentum=0.01, affine=True, track_running_stats=True)\n",
       "    (3): ELU(alpha=1.0)\n",
       "    (4): AvgPool2d(kernel_size=(1, 8), stride=(1, 8), padding=0)\n",
       "    (5): Dropout(p=0.2, inplace=False)\n",
       "    (6): Conv2d(24, 4, kernel_size=(1, 31), stride=(1, 1))\n",
       "  )\n",
       ")"
      ]
     },
     "execution_count": 138,
     "metadata": {},
     "output_type": "execute_result"
    }
   ],
   "source": [
    "# Load best model and test\n",
    "raw_model = torch.load(\"models/cnn/raw.pt\")\n",
    "raw_model.to(device)\n",
    "raw_model.eval()"
   ]
  },
  {
   "cell_type": "code",
   "execution_count": 139,
   "metadata": {},
   "outputs": [
    {
     "name": "stdout",
     "output_type": "stream",
     "text": [
      "Train on raw data, evaluate on raw data\n",
      "Test Acc: 0.6930\n"
     ]
    }
   ],
   "source": [
    "# Evaluate on raw data\n",
    "test_acc = 0\n",
    "with torch.no_grad():\n",
    "    for X, y in test_loader:\n",
    "        X, y = X.to(device), y.to(device)\n",
    "        y_pred = raw_model(X)\n",
    "        test_acc += (y_pred.argmax(dim=1) == y.argmax(dim=1)).sum().item()\n",
    "test_acc /= len(test_loader.dataset)\n",
    "print(\"Train on raw data, evaluate on raw data\")\n",
    "print(f\"Test Acc: {test_acc:.4f}\")"
   ]
  },
  {
   "cell_type": "code",
   "execution_count": 140,
   "metadata": {},
   "outputs": [
    {
     "name": "stdout",
     "output_type": "stream",
     "text": [
      "Train on raw data, evaluate on sub1 data\n",
      "Test Acc: 0.7400\n"
     ]
    }
   ],
   "source": [
    "# Evaluate on sub1 data\n",
    "test_acc = 0\n",
    "with torch.no_grad():\n",
    "    for X, y in test_sub_loader:\n",
    "        X, y = X.to(device), y.to(device)\n",
    "        y_pred = raw_model(X)\n",
    "        test_acc += (y_pred.argmax(dim=1) == y.argmax(dim=1)).sum().item()\n",
    "test_acc /= len(test_sub_loader.dataset)\n",
    "print(\"Train on raw data, evaluate on sub1 data\")\n",
    "print(f\"Test Acc: {test_acc:.4f}\")"
   ]
  },
  {
   "cell_type": "markdown",
   "metadata": {},
   "source": [
    "## Train with augmented data with FT surrogate"
   ]
  },
  {
   "cell_type": "code",
   "execution_count": 128,
   "metadata": {},
   "outputs": [
    {
     "name": "stdout",
     "output_type": "stream",
     "text": [
      "CNN(\n",
      "  (conv_over_time): Sequential(\n",
      "    (0): Conv2d(1, 16, kernel_size=(1, 64), stride=(1, 1), padding=(0, 32))\n",
      "    (1): BatchNorm2d(16, eps=0.001, momentum=0.01, affine=True, track_running_stats=True)\n",
      "  )\n",
      "  (conv_over_channels): Sequential(\n",
      "    (0): Conv2d(16, 80, kernel_size=(22, 1), stride=(1, 1), groups=8)\n",
      "    (1): BatchNorm2d(80, eps=0.001, momentum=0.01, affine=True, track_running_stats=True)\n",
      "    (2): ELU(alpha=1.0)\n",
      "    (3): AvgPool2d(kernel_size=(1, 4), stride=(1, 4), padding=0)\n",
      "    (4): Dropout(p=0.25, inplace=False)\n",
      "  )\n",
      "  (conv_by_channel_and_point): Sequential(\n",
      "    (0): Conv2d(80, 80, kernel_size=(1, 16), stride=(1, 1), padding=(0, 8), groups=8)\n",
      "    (1): Conv2d(80, 24, kernel_size=(1, 1), stride=(1, 1), bias=False)\n",
      "    (2): BatchNorm2d(24, eps=0.001, momentum=0.01, affine=True, track_running_stats=True)\n",
      "    (3): ELU(alpha=1.0)\n",
      "    (4): AvgPool2d(kernel_size=(1, 8), stride=(1, 8), padding=0)\n",
      "    (5): Dropout(p=0.25, inplace=False)\n",
      "    (6): Conv2d(24, 4, kernel_size=(1, 31), stride=(1, 1))\n",
      "  )\n",
      ")\n"
     ]
    },
    {
     "data": {
      "text/plain": [
       "==========================================================================================\n",
       "Layer (type:depth-idx)                   Output Shape              Param #\n",
       "==========================================================================================\n",
       "CNN                                      [1, 4]                    --\n",
       "├─Sequential: 1-1                        [1, 16, 22, 1001]         --\n",
       "│    └─Conv2d: 2-1                       [1, 16, 22, 1001]         1,040\n",
       "│    └─BatchNorm2d: 2-2                  [1, 16, 22, 1001]         32\n",
       "├─Sequential: 1-2                        [1, 80, 1, 250]           --\n",
       "│    └─Conv2d: 2-3                       [1, 80, 1, 1001]          3,600\n",
       "│    └─BatchNorm2d: 2-4                  [1, 80, 1, 1001]          160\n",
       "│    └─ELU: 2-5                          [1, 80, 1, 1001]          --\n",
       "│    └─AvgPool2d: 2-6                    [1, 80, 1, 250]           --\n",
       "│    └─Dropout: 2-7                      [1, 80, 1, 250]           --\n",
       "├─Sequential: 1-3                        [1, 4, 1, 1]              --\n",
       "│    └─Conv2d: 2-8                       [1, 80, 1, 251]           12,880\n",
       "│    └─Conv2d: 2-9                       [1, 24, 1, 251]           1,920\n",
       "│    └─BatchNorm2d: 2-10                 [1, 24, 1, 251]           48\n",
       "│    └─ELU: 2-11                         [1, 24, 1, 251]           --\n",
       "│    └─AvgPool2d: 2-12                   [1, 24, 1, 31]            --\n",
       "│    └─Dropout: 2-13                     [1, 24, 1, 31]            --\n",
       "│    └─Conv2d: 2-14                      [1, 4, 1, 1]              2,980\n",
       "==========================================================================================\n",
       "Total params: 22,660\n",
       "Trainable params: 22,660\n",
       "Non-trainable params: 0\n",
       "Total mult-adds (M): 30.22\n",
       "==========================================================================================\n",
       "Input size (MB): 0.09\n",
       "Forward/backward pass size (MB): 7.18\n",
       "Params size (MB): 0.09\n",
       "Estimated Total Size (MB): 7.35\n",
       "=========================================================================================="
      ]
     },
     "execution_count": 128,
     "metadata": {},
     "output_type": "execute_result"
    }
   ],
   "source": [
    "device = torch.device('mps')\n",
    "\n",
    "model = CNN()\n",
    "model = model.to(device)\n",
    "print(model)\n",
    "summary(model, input_size=(1, 22, 1000), device='mps')"
   ]
  },
  {
   "cell_type": "code",
   "execution_count": 145,
   "metadata": {},
   "outputs": [
    {
     "data": {
      "text/plain": [
       "CNN(\n",
       "  (conv_over_time): Sequential(\n",
       "    (0): Conv2d(1, 16, kernel_size=(1, 64), stride=(1, 1), padding=(0, 32))\n",
       "    (1): BatchNorm2d(16, eps=0.001, momentum=0.01, affine=True, track_running_stats=True)\n",
       "  )\n",
       "  (conv_over_channels): Sequential(\n",
       "    (0): Conv2d(16, 80, kernel_size=(22, 1), stride=(1, 1), groups=8)\n",
       "    (1): BatchNorm2d(80, eps=0.001, momentum=0.01, affine=True, track_running_stats=True)\n",
       "    (2): ELU(alpha=1.0)\n",
       "    (3): AvgPool2d(kernel_size=(1, 4), stride=(1, 4), padding=0)\n",
       "    (4): Dropout(p=0.25, inplace=False)\n",
       "  )\n",
       "  (conv_by_channel_and_point): Sequential(\n",
       "    (0): Conv2d(80, 80, kernel_size=(1, 16), stride=(1, 1), padding=(0, 8), groups=8)\n",
       "    (1): Conv2d(80, 24, kernel_size=(1, 1), stride=(1, 1), bias=False)\n",
       "    (2): BatchNorm2d(24, eps=0.001, momentum=0.01, affine=True, track_running_stats=True)\n",
       "    (3): ELU(alpha=1.0)\n",
       "    (4): AvgPool2d(kernel_size=(1, 8), stride=(1, 8), padding=0)\n",
       "    (5): Dropout(p=0.25, inplace=False)\n",
       "    (6): Conv2d(24, 4, kernel_size=(1, 31), stride=(1, 1))\n",
       "  )\n",
       ")"
      ]
     },
     "execution_count": 145,
     "metadata": {},
     "output_type": "execute_result"
    }
   ],
   "source": [
    "aug_model = torch.load(\"models/cnn/aug_best.pt\")\n",
    "aug_model.to(device)"
   ]
  },
  {
   "cell_type": "code",
   "execution_count": 146,
   "metadata": {},
   "outputs": [
    {
     "name": "stderr",
     "output_type": "stream",
     "text": [
      "/Users/yubo/miniforge3/lib/python3.10/site-packages/torch/optim/lr_scheduler.py:28: UserWarning: The verbose parameter is deprecated. Please use get_last_lr() to access the learning rate.\n",
      "  warnings.warn(\"The verbose parameter is deprecated. Please use get_last_lr() \"\n"
     ]
    },
    {
     "name": "stdout",
     "output_type": "stream",
     "text": [
      "Using device: mps\n"
     ]
    },
    {
     "name": "stderr",
     "output_type": "stream",
     "text": [
      "Epoch 0: 100%|██████████| 56/56 [00:10<00:00,  5.52batch/s, loss=0.8138]\n"
     ]
    },
    {
     "name": "stdout",
     "output_type": "stream",
     "text": [
      "[Epoch 0] val_acc=0.748521 train_acc=0.777715 val_loss=0.023728 train_loss=0.027127\n",
      "Validation loss decreased (inf --> 0.023728).  Saving model ...\n"
     ]
    },
    {
     "name": "stderr",
     "output_type": "stream",
     "text": [
      "Epoch 1: 100%|██████████| 56/56 [00:09<00:00,  6.04batch/s, loss=0.9587]\n"
     ]
    },
    {
     "name": "stdout",
     "output_type": "stream",
     "text": [
      "[Epoch 1] val_acc=0.748521 train_acc=0.770400 val_loss=0.023711 train_loss=0.027209\n",
      "Validation loss decreased (0.023728 --> 0.023711).  Saving model ...\n"
     ]
    },
    {
     "name": "stderr",
     "output_type": "stream",
     "text": [
      "Epoch 2: 100%|██████████| 56/56 [00:09<00:00,  6.10batch/s, loss=0.7194]\n"
     ]
    },
    {
     "name": "stdout",
     "output_type": "stream",
     "text": [
      "[Epoch 2] val_acc=0.745562 train_acc=0.779966 val_loss=0.023715 train_loss=0.026605\n",
      "EarlyStopping counter: 1 out of 30\n"
     ]
    },
    {
     "name": "stderr",
     "output_type": "stream",
     "text": [
      "Epoch 3: 100%|██████████| 56/56 [00:09<00:00,  6.07batch/s, loss=0.8748]\n"
     ]
    },
    {
     "name": "stdout",
     "output_type": "stream",
     "text": [
      "[Epoch 3] val_acc=0.742604 train_acc=0.773213 val_loss=0.023735 train_loss=0.027156\n",
      "EarlyStopping counter: 2 out of 30\n"
     ]
    },
    {
     "name": "stderr",
     "output_type": "stream",
     "text": [
      "Epoch 4: 100%|██████████| 56/56 [00:09<00:00,  6.05batch/s, loss=0.8081]\n"
     ]
    },
    {
     "name": "stdout",
     "output_type": "stream",
     "text": [
      "[Epoch 4] val_acc=0.742604 train_acc=0.766460 val_loss=0.023722 train_loss=0.027013\n",
      "EarlyStopping counter: 3 out of 30\n"
     ]
    },
    {
     "name": "stderr",
     "output_type": "stream",
     "text": [
      "Epoch 5: 100%|██████████| 56/56 [00:10<00:00,  5.37batch/s, loss=0.9267]\n"
     ]
    },
    {
     "name": "stdout",
     "output_type": "stream",
     "text": [
      "[Epoch 5] val_acc=0.739645 train_acc=0.760833 val_loss=0.023726 train_loss=0.027278\n",
      "EarlyStopping counter: 4 out of 30\n"
     ]
    },
    {
     "name": "stderr",
     "output_type": "stream",
     "text": [
      "Epoch 6: 100%|██████████| 56/56 [00:11<00:00,  5.07batch/s, loss=0.8309]\n"
     ]
    },
    {
     "name": "stdout",
     "output_type": "stream",
     "text": [
      "[Epoch 6] val_acc=0.742604 train_acc=0.776027 val_loss=0.023736 train_loss=0.027021\n",
      "EarlyStopping counter: 5 out of 30\n"
     ]
    },
    {
     "name": "stderr",
     "output_type": "stream",
     "text": [
      "Epoch 7: 100%|██████████| 56/56 [00:10<00:00,  5.41batch/s, loss=0.8544]\n"
     ]
    },
    {
     "name": "stdout",
     "output_type": "stream",
     "text": [
      "[Epoch 7] val_acc=0.748521 train_acc=0.769837 val_loss=0.023739 train_loss=0.027185\n",
      "EarlyStopping counter: 6 out of 30\n"
     ]
    },
    {
     "name": "stderr",
     "output_type": "stream",
     "text": [
      "Epoch 8: 100%|██████████| 56/56 [00:10<00:00,  5.35batch/s, loss=0.8168]\n"
     ]
    },
    {
     "name": "stdout",
     "output_type": "stream",
     "text": [
      "[Epoch 8] val_acc=0.754438 train_acc=0.799662 val_loss=0.023784 train_loss=0.026190\n",
      "EarlyStopping counter: 7 out of 30\n"
     ]
    },
    {
     "name": "stderr",
     "output_type": "stream",
     "text": [
      "Epoch 9: 100%|██████████| 56/56 [00:10<00:00,  5.40batch/s, loss=0.9101]\n"
     ]
    },
    {
     "name": "stdout",
     "output_type": "stream",
     "text": [
      "[Epoch 9] val_acc=0.748521 train_acc=0.771525 val_loss=0.023764 train_loss=0.026876\n",
      "EarlyStopping counter: 8 out of 30\n"
     ]
    },
    {
     "name": "stderr",
     "output_type": "stream",
     "text": [
      "Epoch 10: 100%|██████████| 56/56 [00:10<00:00,  5.59batch/s, loss=1.0871]\n"
     ]
    },
    {
     "name": "stdout",
     "output_type": "stream",
     "text": [
      "[Epoch 10] val_acc=0.748521 train_acc=0.779966 val_loss=0.023741 train_loss=0.026781\n",
      "EarlyStopping counter: 9 out of 30\n"
     ]
    },
    {
     "name": "stderr",
     "output_type": "stream",
     "text": [
      "Epoch 11: 100%|██████████| 56/56 [00:09<00:00,  5.73batch/s, loss=0.9063]\n"
     ]
    },
    {
     "name": "stdout",
     "output_type": "stream",
     "text": [
      "[Epoch 11] val_acc=0.748521 train_acc=0.776590 val_loss=0.023741 train_loss=0.026785\n",
      "EarlyStopping counter: 10 out of 30\n"
     ]
    },
    {
     "name": "stderr",
     "output_type": "stream",
     "text": [
      "Epoch 12: 100%|██████████| 56/56 [00:09<00:00,  5.94batch/s, loss=0.8552]\n"
     ]
    },
    {
     "name": "stdout",
     "output_type": "stream",
     "text": [
      "[Epoch 12] val_acc=0.751479 train_acc=0.769837 val_loss=0.023706 train_loss=0.027073\n",
      "Validation loss decreased (0.023711 --> 0.023706).  Saving model ...\n"
     ]
    },
    {
     "name": "stderr",
     "output_type": "stream",
     "text": [
      "Epoch 13: 100%|██████████| 56/56 [00:09<00:00,  5.98batch/s, loss=0.6485]\n"
     ]
    },
    {
     "name": "stdout",
     "output_type": "stream",
     "text": [
      "[Epoch 13] val_acc=0.748521 train_acc=0.769274 val_loss=0.023696 train_loss=0.026735\n",
      "Validation loss decreased (0.023706 --> 0.023696).  Saving model ...\n"
     ]
    },
    {
     "name": "stderr",
     "output_type": "stream",
     "text": [
      "Epoch 14: 100%|██████████| 56/56 [00:09<00:00,  5.97batch/s, loss=0.8048]\n"
     ]
    },
    {
     "name": "stdout",
     "output_type": "stream",
     "text": [
      "[Epoch 14] val_acc=0.748521 train_acc=0.767023 val_loss=0.023684 train_loss=0.027019\n",
      "Validation loss decreased (0.023696 --> 0.023684).  Saving model ...\n"
     ]
    },
    {
     "name": "stderr",
     "output_type": "stream",
     "text": [
      "Epoch 15: 100%|██████████| 56/56 [00:10<00:00,  5.48batch/s, loss=0.8121]\n"
     ]
    },
    {
     "name": "stdout",
     "output_type": "stream",
     "text": [
      "[Epoch 15] val_acc=0.745562 train_acc=0.761396 val_loss=0.023689 train_loss=0.027328\n",
      "EarlyStopping counter: 1 out of 30\n"
     ]
    },
    {
     "name": "stderr",
     "output_type": "stream",
     "text": [
      "Epoch 16: 100%|██████████| 56/56 [00:09<00:00,  6.02batch/s, loss=0.7657]\n"
     ]
    },
    {
     "name": "stdout",
     "output_type": "stream",
     "text": [
      "[Epoch 16] val_acc=0.745562 train_acc=0.752392 val_loss=0.023684 train_loss=0.027270\n",
      "EarlyStopping counter: 2 out of 30\n"
     ]
    },
    {
     "name": "stderr",
     "output_type": "stream",
     "text": [
      "Epoch 17: 100%|██████████| 56/56 [00:09<00:00,  6.02batch/s, loss=0.8395]\n"
     ]
    },
    {
     "name": "stdout",
     "output_type": "stream",
     "text": [
      "[Epoch 17] val_acc=0.748521 train_acc=0.781654 val_loss=0.023686 train_loss=0.026878\n",
      "EarlyStopping counter: 3 out of 30\n"
     ]
    },
    {
     "name": "stderr",
     "output_type": "stream",
     "text": [
      "Epoch 18: 100%|██████████| 56/56 [00:09<00:00,  6.03batch/s, loss=0.8413]\n"
     ]
    },
    {
     "name": "stdout",
     "output_type": "stream",
     "text": [
      "[Epoch 18] val_acc=0.751479 train_acc=0.757456 val_loss=0.023686 train_loss=0.027648\n",
      "EarlyStopping counter: 4 out of 30\n"
     ]
    },
    {
     "name": "stderr",
     "output_type": "stream",
     "text": [
      "Epoch 19: 100%|██████████| 56/56 [00:10<00:00,  5.55batch/s, loss=0.7391]\n"
     ]
    },
    {
     "name": "stdout",
     "output_type": "stream",
     "text": [
      "[Epoch 19] val_acc=0.748521 train_acc=0.778841 val_loss=0.023686 train_loss=0.026851\n",
      "EarlyStopping counter: 5 out of 30\n"
     ]
    },
    {
     "name": "stderr",
     "output_type": "stream",
     "text": [
      "Epoch 20: 100%|██████████| 56/56 [00:10<00:00,  5.58batch/s, loss=1.0236]\n"
     ]
    },
    {
     "name": "stdout",
     "output_type": "stream",
     "text": [
      "[Epoch 20] val_acc=0.748521 train_acc=0.763084 val_loss=0.023686 train_loss=0.027029\n",
      "EarlyStopping counter: 6 out of 30\n"
     ]
    },
    {
     "name": "stderr",
     "output_type": "stream",
     "text": [
      "Epoch 21: 100%|██████████| 56/56 [00:09<00:00,  5.73batch/s, loss=0.8379]\n"
     ]
    },
    {
     "name": "stdout",
     "output_type": "stream",
     "text": [
      "[Epoch 21] val_acc=0.751479 train_acc=0.776027 val_loss=0.023690 train_loss=0.026677\n",
      "EarlyStopping counter: 7 out of 30\n"
     ]
    },
    {
     "name": "stderr",
     "output_type": "stream",
     "text": [
      "Epoch 22: 100%|██████████| 56/56 [00:10<00:00,  5.28batch/s, loss=0.6887]\n"
     ]
    },
    {
     "name": "stdout",
     "output_type": "stream",
     "text": [
      "[Epoch 22] val_acc=0.751479 train_acc=0.772651 val_loss=0.023696 train_loss=0.026765\n",
      "EarlyStopping counter: 8 out of 30\n"
     ]
    },
    {
     "name": "stderr",
     "output_type": "stream",
     "text": [
      "Epoch 23: 100%|██████████| 56/56 [00:10<00:00,  5.59batch/s, loss=0.7054]\n"
     ]
    },
    {
     "name": "stdout",
     "output_type": "stream",
     "text": [
      "[Epoch 23] val_acc=0.751479 train_acc=0.767586 val_loss=0.023699 train_loss=0.027245\n",
      "EarlyStopping counter: 9 out of 30\n"
     ]
    },
    {
     "name": "stderr",
     "output_type": "stream",
     "text": [
      "Epoch 24: 100%|██████████| 56/56 [00:10<00:00,  5.14batch/s, loss=1.1054]\n"
     ]
    },
    {
     "name": "stdout",
     "output_type": "stream",
     "text": [
      "[Epoch 24] val_acc=0.751479 train_acc=0.780529 val_loss=0.023681 train_loss=0.026660\n",
      "Validation loss decreased (0.023684 --> 0.023681).  Saving model ...\n"
     ]
    },
    {
     "name": "stderr",
     "output_type": "stream",
     "text": [
      "Epoch 25: 100%|██████████| 56/56 [00:10<00:00,  5.32batch/s, loss=0.7669]\n"
     ]
    },
    {
     "name": "stdout",
     "output_type": "stream",
     "text": [
      "[Epoch 25] val_acc=0.751479 train_acc=0.780529 val_loss=0.023680 train_loss=0.026678\n",
      "Validation loss decreased (0.023681 --> 0.023680).  Saving model ...\n"
     ]
    },
    {
     "name": "stderr",
     "output_type": "stream",
     "text": [
      "Epoch 26: 100%|██████████| 56/56 [00:09<00:00,  5.89batch/s, loss=0.9740]\n"
     ]
    },
    {
     "name": "stdout",
     "output_type": "stream",
     "text": [
      "[Epoch 26] val_acc=0.751479 train_acc=0.779403 val_loss=0.023687 train_loss=0.026758\n",
      "EarlyStopping counter: 1 out of 30\n"
     ]
    },
    {
     "name": "stderr",
     "output_type": "stream",
     "text": [
      "Epoch 27: 100%|██████████| 56/56 [00:09<00:00,  5.87batch/s, loss=1.1913]\n"
     ]
    },
    {
     "name": "stdout",
     "output_type": "stream",
     "text": [
      "[Epoch 27] val_acc=0.748521 train_acc=0.781654 val_loss=0.023696 train_loss=0.026738\n",
      "EarlyStopping counter: 2 out of 30\n"
     ]
    },
    {
     "name": "stderr",
     "output_type": "stream",
     "text": [
      "Epoch 28: 100%|██████████| 56/56 [00:09<00:00,  5.87batch/s, loss=0.9325]\n"
     ]
    },
    {
     "name": "stdout",
     "output_type": "stream",
     "text": [
      "[Epoch 28] val_acc=0.751479 train_acc=0.776590 val_loss=0.023696 train_loss=0.026982\n",
      "EarlyStopping counter: 3 out of 30\n"
     ]
    },
    {
     "name": "stderr",
     "output_type": "stream",
     "text": [
      "Epoch 29: 100%|██████████| 56/56 [00:09<00:00,  5.88batch/s, loss=0.9544]\n"
     ]
    },
    {
     "name": "stdout",
     "output_type": "stream",
     "text": [
      "[Epoch 29] val_acc=0.748521 train_acc=0.768711 val_loss=0.023691 train_loss=0.027118\n",
      "EarlyStopping counter: 4 out of 30\n"
     ]
    },
    {
     "name": "stderr",
     "output_type": "stream",
     "text": [
      "Epoch 30: 100%|██████████| 56/56 [00:09<00:00,  5.89batch/s, loss=0.7251]\n"
     ]
    },
    {
     "name": "stdout",
     "output_type": "stream",
     "text": [
      "[Epoch 30] val_acc=0.748521 train_acc=0.790096 val_loss=0.023690 train_loss=0.026393\n",
      "EarlyStopping counter: 5 out of 30\n"
     ]
    },
    {
     "name": "stderr",
     "output_type": "stream",
     "text": [
      "Epoch 31: 100%|██████████| 56/56 [00:10<00:00,  5.37batch/s, loss=0.9091]\n"
     ]
    },
    {
     "name": "stdout",
     "output_type": "stream",
     "text": [
      "[Epoch 31] val_acc=0.748521 train_acc=0.783905 val_loss=0.023693 train_loss=0.026453\n",
      "EarlyStopping counter: 6 out of 30\n"
     ]
    },
    {
     "name": "stderr",
     "output_type": "stream",
     "text": [
      "Epoch 32: 100%|██████████| 56/56 [00:09<00:00,  5.81batch/s, loss=0.7091]\n"
     ]
    },
    {
     "name": "stdout",
     "output_type": "stream",
     "text": [
      "[Epoch 32] val_acc=0.751479 train_acc=0.773213 val_loss=0.023685 train_loss=0.027239\n",
      "EarlyStopping counter: 7 out of 30\n"
     ]
    },
    {
     "name": "stderr",
     "output_type": "stream",
     "text": [
      "Epoch 33: 100%|██████████| 56/56 [00:09<00:00,  5.85batch/s, loss=0.8987]\n"
     ]
    },
    {
     "name": "stdout",
     "output_type": "stream",
     "text": [
      "[Epoch 33] val_acc=0.751479 train_acc=0.773776 val_loss=0.023706 train_loss=0.027369\n",
      "EarlyStopping counter: 8 out of 30\n"
     ]
    },
    {
     "name": "stderr",
     "output_type": "stream",
     "text": [
      "Epoch 34: 100%|██████████| 56/56 [00:09<00:00,  5.82batch/s, loss=0.8926]\n"
     ]
    },
    {
     "name": "stdout",
     "output_type": "stream",
     "text": [
      "[Epoch 34] val_acc=0.748521 train_acc=0.772651 val_loss=0.023701 train_loss=0.026891\n",
      "EarlyStopping counter: 9 out of 30\n"
     ]
    },
    {
     "name": "stderr",
     "output_type": "stream",
     "text": [
      "Epoch 35: 100%|██████████| 56/56 [00:09<00:00,  5.78batch/s, loss=0.9891]\n"
     ]
    },
    {
     "name": "stdout",
     "output_type": "stream",
     "text": [
      "[Epoch 35] val_acc=0.751479 train_acc=0.788970 val_loss=0.023691 train_loss=0.026667\n",
      "EarlyStopping counter: 10 out of 30\n"
     ]
    },
    {
     "name": "stderr",
     "output_type": "stream",
     "text": [
      "Epoch 36: 100%|██████████| 56/56 [00:09<00:00,  5.74batch/s, loss=0.7658]\n"
     ]
    },
    {
     "name": "stdout",
     "output_type": "stream",
     "text": [
      "[Epoch 36] val_acc=0.751479 train_acc=0.768149 val_loss=0.023700 train_loss=0.026861\n",
      "EarlyStopping counter: 11 out of 30\n"
     ]
    },
    {
     "name": "stderr",
     "output_type": "stream",
     "text": [
      "Epoch 37: 100%|██████████| 56/56 [00:09<00:00,  5.88batch/s, loss=0.9333]\n"
     ]
    },
    {
     "name": "stdout",
     "output_type": "stream",
     "text": [
      "[Epoch 37] val_acc=0.751479 train_acc=0.781654 val_loss=0.023692 train_loss=0.026961\n",
      "EarlyStopping counter: 12 out of 30\n"
     ]
    },
    {
     "name": "stderr",
     "output_type": "stream",
     "text": [
      "Epoch 38: 100%|██████████| 56/56 [00:09<00:00,  5.79batch/s, loss=0.8243]\n"
     ]
    },
    {
     "name": "stdout",
     "output_type": "stream",
     "text": [
      "[Epoch 38] val_acc=0.751479 train_acc=0.781654 val_loss=0.023691 train_loss=0.026899\n",
      "EarlyStopping counter: 13 out of 30\n"
     ]
    },
    {
     "name": "stderr",
     "output_type": "stream",
     "text": [
      "Epoch 39: 100%|██████████| 56/56 [00:09<00:00,  5.82batch/s, loss=0.9145]\n"
     ]
    },
    {
     "name": "stdout",
     "output_type": "stream",
     "text": [
      "[Epoch 39] val_acc=0.751479 train_acc=0.774339 val_loss=0.023690 train_loss=0.026975\n",
      "EarlyStopping counter: 14 out of 30\n"
     ]
    },
    {
     "name": "stderr",
     "output_type": "stream",
     "text": [
      "Epoch 40: 100%|██████████| 56/56 [00:09<00:00,  5.69batch/s, loss=1.0311]\n"
     ]
    },
    {
     "name": "stdout",
     "output_type": "stream",
     "text": [
      "[Epoch 40] val_acc=0.751479 train_acc=0.771525 val_loss=0.023694 train_loss=0.027378\n",
      "EarlyStopping counter: 15 out of 30\n"
     ]
    },
    {
     "name": "stderr",
     "output_type": "stream",
     "text": [
      "Epoch 41: 100%|██████████| 56/56 [00:09<00:00,  5.67batch/s, loss=0.8432]\n"
     ]
    },
    {
     "name": "stdout",
     "output_type": "stream",
     "text": [
      "[Epoch 41] val_acc=0.751479 train_acc=0.779966 val_loss=0.023708 train_loss=0.027090\n",
      "EarlyStopping counter: 16 out of 30\n"
     ]
    },
    {
     "name": "stderr",
     "output_type": "stream",
     "text": [
      "Epoch 42: 100%|██████████| 56/56 [00:09<00:00,  5.71batch/s, loss=0.7748]\n"
     ]
    },
    {
     "name": "stdout",
     "output_type": "stream",
     "text": [
      "[Epoch 42] val_acc=0.751479 train_acc=0.784468 val_loss=0.023705 train_loss=0.026608\n",
      "EarlyStopping counter: 17 out of 30\n"
     ]
    },
    {
     "name": "stderr",
     "output_type": "stream",
     "text": [
      "Epoch 43: 100%|██████████| 56/56 [00:09<00:00,  5.62batch/s, loss=0.8079]\n"
     ]
    },
    {
     "name": "stdout",
     "output_type": "stream",
     "text": [
      "[Epoch 43] val_acc=0.748521 train_acc=0.767023 val_loss=0.023723 train_loss=0.026924\n",
      "EarlyStopping counter: 18 out of 30\n"
     ]
    },
    {
     "name": "stderr",
     "output_type": "stream",
     "text": [
      "Epoch 44: 100%|██████████| 56/56 [00:09<00:00,  5.62batch/s, loss=0.8062]\n"
     ]
    },
    {
     "name": "stdout",
     "output_type": "stream",
     "text": [
      "[Epoch 44] val_acc=0.751479 train_acc=0.769274 val_loss=0.023710 train_loss=0.026925\n",
      "EarlyStopping counter: 19 out of 30\n"
     ]
    },
    {
     "name": "stderr",
     "output_type": "stream",
     "text": [
      "Epoch 45: 100%|██████████| 56/56 [00:10<00:00,  5.34batch/s, loss=1.0731]\n"
     ]
    },
    {
     "name": "stdout",
     "output_type": "stream",
     "text": [
      "[Epoch 45] val_acc=0.751479 train_acc=0.770962 val_loss=0.023703 train_loss=0.027078\n",
      "EarlyStopping counter: 20 out of 30\n"
     ]
    },
    {
     "name": "stderr",
     "output_type": "stream",
     "text": [
      "Epoch 46: 100%|██████████| 56/56 [00:10<00:00,  5.46batch/s, loss=0.8360]\n"
     ]
    },
    {
     "name": "stdout",
     "output_type": "stream",
     "text": [
      "[Epoch 46] val_acc=0.751479 train_acc=0.781092 val_loss=0.023702 train_loss=0.026741\n",
      "EarlyStopping counter: 21 out of 30\n"
     ]
    },
    {
     "name": "stderr",
     "output_type": "stream",
     "text": [
      "Epoch 47: 100%|██████████| 56/56 [00:10<00:00,  5.48batch/s, loss=0.8162]\n"
     ]
    },
    {
     "name": "stdout",
     "output_type": "stream",
     "text": [
      "[Epoch 47] val_acc=0.751479 train_acc=0.767586 val_loss=0.023707 train_loss=0.026774\n",
      "EarlyStopping counter: 22 out of 30\n"
     ]
    },
    {
     "name": "stderr",
     "output_type": "stream",
     "text": [
      "Epoch 48: 100%|██████████| 56/56 [00:10<00:00,  5.45batch/s, loss=1.0226]\n"
     ]
    },
    {
     "name": "stdout",
     "output_type": "stream",
     "text": [
      "[Epoch 48] val_acc=0.751479 train_acc=0.763647 val_loss=0.023707 train_loss=0.026867\n",
      "EarlyStopping counter: 23 out of 30\n"
     ]
    },
    {
     "name": "stderr",
     "output_type": "stream",
     "text": [
      "Epoch 49: 100%|██████████| 56/56 [00:10<00:00,  5.55batch/s, loss=0.7607]\n"
     ]
    },
    {
     "name": "stdout",
     "output_type": "stream",
     "text": [
      "[Epoch 49] val_acc=0.751479 train_acc=0.759707 val_loss=0.023709 train_loss=0.026803\n",
      "EarlyStopping counter: 24 out of 30\n"
     ]
    },
    {
     "name": "stderr",
     "output_type": "stream",
     "text": [
      "Epoch 50: 100%|██████████| 56/56 [00:10<00:00,  5.38batch/s, loss=0.9647]\n"
     ]
    },
    {
     "name": "stdout",
     "output_type": "stream",
     "text": [
      "[Epoch 50] val_acc=0.751479 train_acc=0.785031 val_loss=0.023708 train_loss=0.026671\n",
      "EarlyStopping counter: 25 out of 30\n"
     ]
    },
    {
     "name": "stderr",
     "output_type": "stream",
     "text": [
      "Epoch 51: 100%|██████████| 56/56 [00:10<00:00,  5.42batch/s, loss=0.7403]\n"
     ]
    },
    {
     "name": "stdout",
     "output_type": "stream",
     "text": [
      "[Epoch 51] val_acc=0.751479 train_acc=0.769837 val_loss=0.023703 train_loss=0.026919\n",
      "EarlyStopping counter: 26 out of 30\n"
     ]
    },
    {
     "name": "stderr",
     "output_type": "stream",
     "text": [
      "Epoch 52: 100%|██████████| 56/56 [00:10<00:00,  5.28batch/s, loss=0.9539]\n"
     ]
    },
    {
     "name": "stdout",
     "output_type": "stream",
     "text": [
      "[Epoch 52] val_acc=0.751479 train_acc=0.790658 val_loss=0.023708 train_loss=0.026683\n",
      "EarlyStopping counter: 27 out of 30\n"
     ]
    },
    {
     "name": "stderr",
     "output_type": "stream",
     "text": [
      "Epoch 53: 100%|██████████| 56/56 [00:11<00:00,  4.91batch/s, loss=0.8273]\n"
     ]
    },
    {
     "name": "stdout",
     "output_type": "stream",
     "text": [
      "[Epoch 53] val_acc=0.748521 train_acc=0.774339 val_loss=0.023710 train_loss=0.026828\n",
      "EarlyStopping counter: 28 out of 30\n"
     ]
    },
    {
     "name": "stderr",
     "output_type": "stream",
     "text": [
      "Epoch 54: 100%|██████████| 56/56 [00:10<00:00,  5.24batch/s, loss=0.9179]\n"
     ]
    },
    {
     "name": "stdout",
     "output_type": "stream",
     "text": [
      "[Epoch 54] val_acc=0.748521 train_acc=0.790658 val_loss=0.023709 train_loss=0.026598\n",
      "EarlyStopping counter: 29 out of 30\n"
     ]
    },
    {
     "name": "stderr",
     "output_type": "stream",
     "text": [
      "Epoch 55: 100%|██████████| 56/56 [00:10<00:00,  5.40batch/s, loss=0.7617]\n"
     ]
    },
    {
     "name": "stdout",
     "output_type": "stream",
     "text": [
      "[Epoch 55] val_acc=0.748521 train_acc=0.778278 val_loss=0.023703 train_loss=0.026792\n",
      "EarlyStopping counter: 30 out of 30\n",
      "Early stopping.\n"
     ]
    }
   ],
   "source": [
    "from utils.training import train\n",
    "\n",
    "aug_model = model\n",
    "aug_model.to(device)\n",
    "\n",
    "optimizer = torch.optim.Adam(aug_model.parameters(), lr=0.00001,  weight_decay=0.000001)\n",
    "scheduler = torch.optim.lr_scheduler.ReduceLROnPlateau(optimizer, mode='min', factor=0.5, patience=5, verbose=True)\n",
    "\n",
    "tr_loader = train_aug_loader\n",
    "\n",
    "train_loss_hist, train_acc_hist, val_loss_hist, val_acc_hist = train(\n",
    "    model=aug_model,\n",
    "    optimizer=optimizer,\n",
    "    loss_func=nn.CrossEntropyLoss(),\n",
    "    train_data=tr_loader,\n",
    "    val_data=val_loader,\n",
    "    early_stopping_patience=30,\n",
    "    scheduler=scheduler,\n",
    "    cp_path=\"models/cnn\",\n",
    "    cp_filename=\"aug.pt\",\n",
    "    n_epochs=150,\n",
    "    show_progress_bar=True,\n",
    ")"
   ]
  },
  {
   "cell_type": "code",
   "execution_count": 147,
   "metadata": {},
   "outputs": [
    {
     "data": {
      "image/png": "[encoded data removed]",
      "text/plain": [
       "<Figure size 640x480 with 1 Axes>"
      ]
     },
     "metadata": {},
     "output_type": "display_data"
    }
   ],
   "source": [
    "plt.plot(train_loss_hist, label=\"Train Loss\")\n",
    "plt.plot(val_loss_hist, label=\"Val Loss\")\n",
    "plt.title(\"Raw Data Model Losses\")\n",
    "plt.xlabel(\"Epoch\")\n",
    "plt.ylabel(\"Loss\")\n",
    "plt.legend()\n",
    "plt.show()"
   ]
  },
  {
   "cell_type": "code",
   "execution_count": 148,
   "metadata": {},
   "outputs": [
    {
     "data": {
      "image/png": "[encoded data removed]",
      "text/plain": [
       "<Figure size 640x480 with 1 Axes>"
      ]
     },
     "metadata": {},
     "output_type": "display_data"
    }
   ],
   "source": [
    "plt.plot(train_acc_hist, label=\"Train Acc\")\n",
    "plt.plot(val_acc_hist, label=\"Val Acc\")\n",
    "plt.title(\"Aug Data Model Accuracies\")\n",
    "plt.xlabel(\"Epoch\")\n",
    "plt.ylabel(\"Accuracy\")\n",
    "plt.legend()\n",
    "plt.show()"
   ]
  },
  {
   "cell_type": "code",
   "execution_count": 149,
   "metadata": {},
   "outputs": [
    {
     "data": {
      "text/plain": [
       "CNN(\n",
       "  (conv_over_time): Sequential(\n",
       "    (0): Conv2d(1, 16, kernel_size=(1, 64), stride=(1, 1), padding=(0, 32))\n",
       "    (1): BatchNorm2d(16, eps=0.001, momentum=0.01, affine=True, track_running_stats=True)\n",
       "  )\n",
       "  (conv_over_channels): Sequential(\n",
       "    (0): Conv2d(16, 80, kernel_size=(22, 1), stride=(1, 1), groups=8)\n",
       "    (1): BatchNorm2d(80, eps=0.001, momentum=0.01, affine=True, track_running_stats=True)\n",
       "    (2): ELU(alpha=1.0)\n",
       "    (3): AvgPool2d(kernel_size=(1, 4), stride=(1, 4), padding=0)\n",
       "    (4): Dropout(p=0.25, inplace=False)\n",
       "  )\n",
       "  (conv_by_channel_and_point): Sequential(\n",
       "    (0): Conv2d(80, 80, kernel_size=(1, 16), stride=(1, 1), padding=(0, 8), groups=8)\n",
       "    (1): Conv2d(80, 24, kernel_size=(1, 1), stride=(1, 1), bias=False)\n",
       "    (2): BatchNorm2d(24, eps=0.001, momentum=0.01, affine=True, track_running_stats=True)\n",
       "    (3): ELU(alpha=1.0)\n",
       "    (4): AvgPool2d(kernel_size=(1, 8), stride=(1, 8), padding=0)\n",
       "    (5): Dropout(p=0.25, inplace=False)\n",
       "    (6): Conv2d(24, 4, kernel_size=(1, 31), stride=(1, 1))\n",
       "  )\n",
       ")"
      ]
     },
     "execution_count": 149,
     "metadata": {},
     "output_type": "execute_result"
    }
   ],
   "source": [
    "# Load best model and test\n",
    "aug_model = torch.load(\"models/cnn/aug.pt\")\n",
    "aug_model.to(device)\n",
    "aug_model.eval()"
   ]
  },
  {
   "cell_type": "code",
   "execution_count": 150,
   "metadata": {},
   "outputs": [
    {
     "name": "stdout",
     "output_type": "stream",
     "text": [
      "Train on aug data, evaluate on raw data\n",
      "Test Acc: 0.7156\n"
     ]
    }
   ],
   "source": [
    "# Evaluate on raw data\n",
    "test_acc = 0\n",
    "with torch.no_grad():\n",
    "    for X, y in test_loader:\n",
    "        X, y = X.to(device), y.to(device)\n",
    "        y_pred = aug_model(X)\n",
    "        test_acc += (y_pred.argmax(dim=1) == y.argmax(dim=1)).sum().item()\n",
    "test_acc /= len(test_loader.dataset)\n",
    "print(\"Train on aug data, evaluate on raw data\")\n",
    "print(f\"Test Acc: {test_acc:.4f}\")"
   ]
  }
 ],
 "metadata": {
  "kernelspec": {
   "display_name": "base",
   "language": "python",
   "name": "python3"
  },
  "language_info": {
   "codemirror_mode": {
    "name": "ipython",
    "version": 3
   },
   "file_extension": ".py",
   "mimetype": "text/x-python",
   "name": "python",
   "nbconvert_exporter": "python",
   "pygments_lexer": "ipython3",
   "version": "3.10.13"
  }
 },
 "nbformat": 4,
 "nbformat_minor": 2
}
