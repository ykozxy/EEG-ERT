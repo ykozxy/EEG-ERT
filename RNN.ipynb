{
 "cells": [
  {
   "cell_type": "code",
   "execution_count": 2,
   "metadata": {},
   "outputs": [],
   "source": [
    "import numpy as np\n",
    "import optuna\n",
    "import torch\n",
    "import torch.nn as nn\n",
    "import matplotlib.pyplot as plt\n",
    "from optuna import Trial, Study\n",
    "from braindecode.models import EEGNetv4, HybridNet, EEGResNet, TCN, EEGInceptionMI\n",
    "from torch.utils.data import DataLoader, TensorDataset\n",
    "from tqdm.auto import tqdm\n",
    "from utils.training import train, best_torch_device\n",
    "from torchinfo import summary\n",
    "from copy import copy, deepcopy\n",
    "from prepare_data import get_frequency_dataloader, get_raw_dataloader, get_sub1_dataloader, get_time_series_dataloader\n",
    "from torch_optimizer import Adahessian\n",
    "\n",
    "%load_ext autoreload\n",
    "%autoreload 2"
   ]
  },
  {
   "cell_type": "code",
   "execution_count": 32,
   "metadata": {},
   "outputs": [],
   "source": [
    "bsz = 64\n",
    "\n",
    "train_loader, val_loader, test_loader = get_raw_dataloader(batch_size=bsz)\n",
    "train_aug_loader, _, _ = get_frequency_dataloader(batch_size=bsz)\n",
    "train_sub_loader, val_sub_loader, test_sub_loader = get_sub1_dataloader(batch_size=bsz)\n"
   ]
  },
  {
   "cell_type": "code",
   "execution_count": 4,
   "metadata": {},
   "outputs": [],
   "source": [
    "class RNN(nn.Module):\n",
    "\n",
    "    def __init__(self):\n",
    "        super(RNN, self).__init__()\n",
    "\n",
    "        self.tdd = nn.Sequential(\n",
    "            nn.Linear(22, 40),\n",
    "            nn.ELU(),\n",
    "            # nn.BatchNorm1d(1000),\n",
    "            nn.Dropout(0.5),\n",
    "        )\n",
    "        \n",
    "        self.chnnelwise_linear = nn.Sequential(\n",
    "            nn.Linear(1000, 500),\n",
    "            nn.ELU(),\n",
    "            nn.Dropout(0.5),\n",
    "        )\n",
    "\n",
    "        self.bn = nn.BatchNorm1d(40)\n",
    "\n",
    "\n",
    "        self.num_layers = 5 # 3, 4\n",
    "        self.hidden_size = 50 # 20\n",
    "        self.lstm = nn.LSTM(\n",
    "            input_size=40,\n",
    "            hidden_size=self.hidden_size,\n",
    "            dropout=0.3,\n",
    "            num_layers=self.num_layers,\n",
    "            batch_first=True,\n",
    "        )\n",
    "\n",
    "        self.linear2 = nn.Sequential(\n",
    "            nn.Flatten(),\n",
    "            # nn.LazyLinear(100),\n",
    "            # nn.ELU(),\n",
    "            # nn.BatchNorm1d(100),\n",
    "            nn.LazyLinear(10),\n",
    "            nn.ELU(),\n",
    "            nn.BatchNorm1d(10),\n",
    "            nn.Dropout(0.3),\n",
    "            nn.LazyLinear(out_features=4),\n",
    "        )\n",
    "\n",
    "        self.softmax = nn.Softmax(dim=1)  # the dim corresponds to num_output_classes=4\n",
    "\n",
    "    def forward(self, x):\n",
    "        \"\"\"\n",
    "        x should have shape (N, H, L) = (N, 22, 1000), where\n",
    "            L = sequence length\n",
    "            N = batch size\n",
    "            H = input size\n",
    "        \"\"\"\n",
    "        x = x.permute(0, 2, 1) # (N, 1000, 22)\n",
    "        x = self.tdd(x) # (N, 1000, 40)\n",
    "\n",
    "        x = x.permute(0, 2, 1) # (N, 40, 1000)\n",
    "        # x = self.chnnelwise_linear(x)\n",
    "        x = self.bn(x)\n",
    "        x = x.permute(0, 2, 1)\n",
    "\n",
    "        # device = torch.device('mps')\n",
    "        # h0 = torch.randn(self.num_layers, self.hidden_size).to(device)\n",
    "        # c0 = torch.randn(self.num_layers, self.hidden_size).to(device)\n",
    "        x, _ = self.lstm(x)\n",
    "\n",
    "        x = self.linear2(x)\n",
    "\n",
    "        x = self.softmax(x)\n",
    "        return x"
   ]
  },
  {
   "cell_type": "code",
   "execution_count": 65,
   "metadata": {},
   "outputs": [
    {
     "name": "stdout",
     "output_type": "stream",
     "text": [
      "RNN(\n",
      "  (tdd): Sequential(\n",
      "    (0): Linear(in_features=22, out_features=40, bias=True)\n",
      "    (1): ELU(alpha=1.0)\n",
      "    (2): Dropout(p=0.5, inplace=False)\n",
      "  )\n",
      "  (chnnelwise_linear): Sequential(\n",
      "    (0): Linear(in_features=1000, out_features=500, bias=True)\n",
      "    (1): ELU(alpha=1.0)\n",
      "    (2): Dropout(p=0.5, inplace=False)\n",
      "  )\n",
      "  (bn): BatchNorm1d(40, eps=1e-05, momentum=0.1, affine=True, track_running_stats=True)\n",
      "  (lstm): LSTM(40, 50, num_layers=5, batch_first=True, dropout=0.3)\n",
      "  (linear2): Sequential(\n",
      "    (0): Flatten(start_dim=1, end_dim=-1)\n",
      "    (1): LazyLinear(in_features=0, out_features=10, bias=True)\n",
      "    (2): ELU(alpha=1.0)\n",
      "    (3): BatchNorm1d(10, eps=1e-05, momentum=0.1, affine=True, track_running_stats=True)\n",
      "    (4): Dropout(p=0.3, inplace=False)\n",
      "    (5): LazyLinear(in_features=0, out_features=4, bias=True)\n",
      "  )\n",
      "  (softmax): Softmax(dim=1)\n",
      ")\n"
     ]
    },
    {
     "data": {
      "text/plain": [
       "==========================================================================================\n",
       "Layer (type:depth-idx)                   Output Shape              Param #\n",
       "==========================================================================================\n",
       "RNN                                      [2, 4]                    500,500\n",
       "├─Sequential: 1-1                        [2, 1000, 40]             --\n",
       "│    └─Linear: 2-1                       [2, 1000, 40]             920\n",
       "│    └─ELU: 2-2                          [2, 1000, 40]             --\n",
       "│    └─Dropout: 2-3                      [2, 1000, 40]             --\n",
       "├─BatchNorm1d: 1-2                       [2, 40, 1000]             80\n",
       "├─LSTM: 1-3                              [2, 1000, 50]             100,000\n",
       "├─Sequential: 1-4                        [2, 4]                    --\n",
       "│    └─Flatten: 2-4                      [2, 50000]                --\n",
       "│    └─Linear: 2-5                       [2, 10]                   500,010\n",
       "│    └─ELU: 2-6                          [2, 10]                   --\n",
       "│    └─BatchNorm1d: 2-7                  [2, 10]                   20\n",
       "│    └─Dropout: 2-8                      [2, 10]                   --\n",
       "│    └─Linear: 2-9                       [2, 4]                    44\n",
       "├─Softmax: 1-5                           [2, 4]                    --\n",
       "==========================================================================================\n",
       "Total params: 1,101,574\n",
       "Trainable params: 1,101,574\n",
       "Non-trainable params: 0\n",
       "Total mult-adds (M): 201.00\n",
       "==========================================================================================\n",
       "Input size (MB): 0.18\n",
       "Forward/backward pass size (MB): 2.08\n",
       "Params size (MB): 2.40\n",
       "Estimated Total Size (MB): 4.66\n",
       "=========================================================================================="
      ]
     },
     "execution_count": 65,
     "metadata": {},
     "output_type": "execute_result"
    }
   ],
   "source": [
    "device = torch.device('mps')\n",
    "\n",
    "model = RNN()\n",
    "model = model.to(device)\n",
    "print(model)\n",
    "summary(model, input_size=(2, 22, 1000), device='mps')"
   ]
  },
  {
   "cell_type": "code",
   "execution_count": 10,
   "metadata": {},
   "outputs": [
    {
     "name": "stdout",
     "output_type": "stream",
     "text": [
      "Using device: mps\n"
     ]
    },
    {
     "name": "stderr",
     "output_type": "stream",
     "text": [
      "Epoch 0: 100%|██████████| 28/28 [00:10<00:00,  2.61batch/s, loss=1.3742]\n"
     ]
    },
    {
     "name": "stdout",
     "output_type": "stream",
     "text": [
      "[Epoch 0] val_acc=0.242604 train_acc=0.261114 val_loss=0.024859 train_loss=0.021977\n",
      "Validation loss decreased (inf --> 0.024859).  Saving model ...\n"
     ]
    },
    {
     "name": "stderr",
     "output_type": "stream",
     "text": [
      "Epoch 1: 100%|██████████| 28/28 [00:10<00:00,  2.71batch/s, loss=1.3216]\n"
     ]
    },
    {
     "name": "stdout",
     "output_type": "stream",
     "text": [
      "[Epoch 1] val_acc=0.349112 train_acc=0.335397 val_loss=0.024281 train_loss=0.021482\n",
      "Validation loss decreased (0.024859 --> 0.024281).  Saving model ...\n"
     ]
    },
    {
     "name": "stderr",
     "output_type": "stream",
     "text": [
      "Epoch 2: 100%|██████████| 28/28 [00:10<00:00,  2.70batch/s, loss=1.2952]\n"
     ]
    },
    {
     "name": "stdout",
     "output_type": "stream",
     "text": [
      "[Epoch 2] val_acc=0.384615 train_acc=0.401801 val_loss=0.023678 train_loss=0.020895\n",
      "Validation loss decreased (0.024281 --> 0.023678).  Saving model ...\n"
     ]
    },
    {
     "name": "stderr",
     "output_type": "stream",
     "text": [
      "Epoch 3: 100%|██████████| 28/28 [00:10<00:00,  2.70batch/s, loss=1.3587]\n"
     ]
    },
    {
     "name": "stdout",
     "output_type": "stream",
     "text": [
      "[Epoch 3] val_acc=0.399408 train_acc=0.458075 val_loss=0.023580 train_loss=0.020517\n",
      "Validation loss decreased (0.023678 --> 0.023580).  Saving model ...\n"
     ]
    },
    {
     "name": "stderr",
     "output_type": "stream",
     "text": [
      "Epoch 4: 100%|██████████| 28/28 [00:10<00:00,  2.70batch/s, loss=1.2307]\n"
     ]
    },
    {
     "name": "stdout",
     "output_type": "stream",
     "text": [
      "[Epoch 4] val_acc=0.414201 train_acc=0.465954 val_loss=0.023296 train_loss=0.020221\n",
      "Validation loss decreased (0.023580 --> 0.023296).  Saving model ...\n"
     ]
    },
    {
     "name": "stderr",
     "output_type": "stream",
     "text": [
      "Epoch 5: 100%|██████████| 28/28 [00:10<00:00,  2.56batch/s, loss=1.2498]\n"
     ]
    },
    {
     "name": "stdout",
     "output_type": "stream",
     "text": [
      "[Epoch 5] val_acc=0.405325 train_acc=0.514913 val_loss=0.022816 train_loss=0.019881\n",
      "Validation loss decreased (0.023296 --> 0.022816).  Saving model ...\n"
     ]
    },
    {
     "name": "stderr",
     "output_type": "stream",
     "text": [
      "Epoch 6: 100%|██████████| 28/28 [00:10<00:00,  2.60batch/s, loss=1.2388]\n"
     ]
    },
    {
     "name": "stdout",
     "output_type": "stream",
     "text": [
      "[Epoch 6] val_acc=0.426036 train_acc=0.541925 val_loss=0.022815 train_loss=0.019552\n",
      "Validation loss decreased (0.022816 --> 0.022815).  Saving model ...\n"
     ]
    },
    {
     "name": "stderr",
     "output_type": "stream",
     "text": [
      "Epoch 7: 100%|██████████| 28/28 [00:10<00:00,  2.64batch/s, loss=1.2436]\n"
     ]
    },
    {
     "name": "stdout",
     "output_type": "stream",
     "text": [
      "[Epoch 7] val_acc=0.434911 train_acc=0.556556 val_loss=0.022844 train_loss=0.019384\n",
      "EarlyStopping counter: 1 out of 30\n"
     ]
    },
    {
     "name": "stderr",
     "output_type": "stream",
     "text": [
      "Epoch 8: 100%|██████████| 28/28 [00:10<00:00,  2.64batch/s, loss=1.2427]\n"
     ]
    },
    {
     "name": "stdout",
     "output_type": "stream",
     "text": [
      "[Epoch 8] val_acc=0.387574 train_acc=0.585256 val_loss=0.023844 train_loss=0.019043\n",
      "EarlyStopping counter: 2 out of 30\n"
     ]
    },
    {
     "name": "stderr",
     "output_type": "stream",
     "text": [
      "Epoch 9: 100%|██████████| 28/28 [00:10<00:00,  2.62batch/s, loss=1.2591]\n"
     ]
    },
    {
     "name": "stdout",
     "output_type": "stream",
     "text": [
      "[Epoch 9] val_acc=0.420118 train_acc=0.601576 val_loss=0.022845 train_loss=0.018876\n",
      "EarlyStopping counter: 3 out of 30\n"
     ]
    },
    {
     "name": "stderr",
     "output_type": "stream",
     "text": [
      "Epoch 10: 100%|██████████| 28/28 [00:10<00:00,  2.62batch/s, loss=1.1957]\n"
     ]
    },
    {
     "name": "stdout",
     "output_type": "stream",
     "text": [
      "[Epoch 10] val_acc=0.428994 train_acc=0.593134 val_loss=0.022911 train_loss=0.018871\n",
      "EarlyStopping counter: 4 out of 30\n"
     ]
    },
    {
     "name": "stderr",
     "output_type": "stream",
     "text": [
      "Epoch 11: 100%|██████████| 28/28 [00:10<00:00,  2.63batch/s, loss=1.2326]\n"
     ]
    },
    {
     "name": "stdout",
     "output_type": "stream",
     "text": [
      "[Epoch 11] val_acc=0.417160 train_acc=0.635903 val_loss=0.023289 train_loss=0.018507\n",
      "EarlyStopping counter: 5 out of 30\n"
     ]
    },
    {
     "name": "stderr",
     "output_type": "stream",
     "text": [
      "Epoch 12: 100%|██████████| 28/28 [00:10<00:00,  2.64batch/s, loss=1.0954]\n"
     ]
    },
    {
     "name": "stdout",
     "output_type": "stream",
     "text": [
      "[Epoch 12] val_acc=0.423077 train_acc=0.669105 val_loss=0.023040 train_loss=0.018059\n",
      "EarlyStopping counter: 6 out of 30\n"
     ]
    },
    {
     "name": "stderr",
     "output_type": "stream",
     "text": [
      "Epoch 13: 100%|██████████| 28/28 [00:10<00:00,  2.65batch/s, loss=1.2111]\n"
     ]
    },
    {
     "name": "stdout",
     "output_type": "stream",
     "text": [
      "[Epoch 13] val_acc=0.390533 train_acc=0.674733 val_loss=0.023736 train_loss=0.017847\n",
      "EarlyStopping counter: 7 out of 30\n"
     ]
    },
    {
     "name": "stderr",
     "output_type": "stream",
     "text": [
      "Epoch 14: 100%|██████████| 28/28 [00:10<00:00,  2.64batch/s, loss=1.1442]\n"
     ]
    },
    {
     "name": "stdout",
     "output_type": "stream",
     "text": [
      "[Epoch 14] val_acc=0.426036 train_acc=0.694429 val_loss=0.022911 train_loss=0.017718\n",
      "EarlyStopping counter: 8 out of 30\n"
     ]
    },
    {
     "name": "stderr",
     "output_type": "stream",
     "text": [
      "Epoch 15: 100%|██████████| 28/28 [00:10<00:00,  2.63batch/s, loss=1.1277]\n"
     ]
    },
    {
     "name": "stdout",
     "output_type": "stream",
     "text": [
      "[Epoch 15] val_acc=0.411243 train_acc=0.693303 val_loss=0.023369 train_loss=0.017608\n",
      "EarlyStopping counter: 9 out of 30\n"
     ]
    },
    {
     "name": "stderr",
     "output_type": "stream",
     "text": [
      "Epoch 16: 100%|██████████| 28/28 [00:10<00:00,  2.63batch/s, loss=1.0612]\n"
     ]
    },
    {
     "name": "stdout",
     "output_type": "stream",
     "text": [
      "[Epoch 16] val_acc=0.393491 train_acc=0.732696 val_loss=0.023275 train_loss=0.017113\n",
      "EarlyStopping counter: 10 out of 30\n"
     ]
    },
    {
     "name": "stderr",
     "output_type": "stream",
     "text": [
      "Epoch 17: 100%|██████████| 28/28 [00:10<00:00,  2.64batch/s, loss=1.0814]\n"
     ]
    },
    {
     "name": "stdout",
     "output_type": "stream",
     "text": [
      "[Epoch 17] val_acc=0.381657 train_acc=0.773776 val_loss=0.023683 train_loss=0.016714\n",
      "EarlyStopping counter: 11 out of 30\n"
     ]
    },
    {
     "name": "stderr",
     "output_type": "stream",
     "text": [
      "Epoch 18: 100%|██████████| 28/28 [00:10<00:00,  2.63batch/s, loss=1.1027]\n"
     ]
    },
    {
     "name": "stdout",
     "output_type": "stream",
     "text": [
      "[Epoch 18] val_acc=0.366864 train_acc=0.804727 val_loss=0.023957 train_loss=0.016216\n",
      "EarlyStopping counter: 12 out of 30\n"
     ]
    },
    {
     "name": "stderr",
     "output_type": "stream",
     "text": [
      "Epoch 19: 100%|██████████| 28/28 [00:10<00:00,  2.64batch/s, loss=0.9658]\n"
     ]
    },
    {
     "name": "stdout",
     "output_type": "stream",
     "text": [
      "[Epoch 19] val_acc=0.378698 train_acc=0.803602 val_loss=0.023437 train_loss=0.016302\n",
      "EarlyStopping counter: 13 out of 30\n"
     ]
    },
    {
     "name": "stderr",
     "output_type": "stream",
     "text": [
      "Epoch 20: 100%|██████████| 28/28 [00:10<00:00,  2.62batch/s, loss=1.0266]\n"
     ]
    },
    {
     "name": "stdout",
     "output_type": "stream",
     "text": [
      "[Epoch 20] val_acc=0.375740 train_acc=0.833990 val_loss=0.023824 train_loss=0.015850\n",
      "EarlyStopping counter: 14 out of 30\n"
     ]
    },
    {
     "name": "stderr",
     "output_type": "stream",
     "text": [
      "Epoch 21: 100%|██████████| 28/28 [00:10<00:00,  2.65batch/s, loss=1.0158]\n"
     ]
    },
    {
     "name": "stdout",
     "output_type": "stream",
     "text": [
      "[Epoch 21] val_acc=0.381657 train_acc=0.870006 val_loss=0.023734 train_loss=0.015460\n",
      "EarlyStopping counter: 15 out of 30\n"
     ]
    },
    {
     "name": "stderr",
     "output_type": "stream",
     "text": [
      "Epoch 22: 100%|██████████| 28/28 [00:10<00:00,  2.64batch/s, loss=1.0223]\n"
     ]
    },
    {
     "name": "stdout",
     "output_type": "stream",
     "text": [
      "[Epoch 22] val_acc=0.366864 train_acc=0.870568 val_loss=0.023853 train_loss=0.015398\n",
      "EarlyStopping counter: 16 out of 30\n"
     ]
    },
    {
     "name": "stderr",
     "output_type": "stream",
     "text": [
      "Epoch 23: 100%|██████████| 28/28 [00:10<00:00,  2.63batch/s, loss=0.9789]\n"
     ]
    },
    {
     "name": "stdout",
     "output_type": "stream",
     "text": [
      "[Epoch 23] val_acc=0.313609 train_acc=0.877884 val_loss=0.024736 train_loss=0.015240\n",
      "EarlyStopping counter: 17 out of 30\n"
     ]
    },
    {
     "name": "stderr",
     "output_type": "stream",
     "text": [
      "Epoch 24: 100%|██████████| 28/28 [00:10<00:00,  2.63batch/s, loss=0.9667]\n"
     ]
    },
    {
     "name": "stdout",
     "output_type": "stream",
     "text": [
      "[Epoch 24] val_acc=0.375740 train_acc=0.889702 val_loss=0.023899 train_loss=0.015051\n",
      "EarlyStopping counter: 18 out of 30\n"
     ]
    },
    {
     "name": "stderr",
     "output_type": "stream",
     "text": [
      "Epoch 25: 100%|██████████| 28/28 [00:10<00:00,  2.64batch/s, loss=0.9899]\n"
     ]
    },
    {
     "name": "stdout",
     "output_type": "stream",
     "text": [
      "[Epoch 25] val_acc=0.363905 train_acc=0.904896 val_loss=0.024109 train_loss=0.014824\n",
      "EarlyStopping counter: 19 out of 30\n"
     ]
    },
    {
     "name": "stderr",
     "output_type": "stream",
     "text": [
      "Epoch 26: 100%|██████████| 28/28 [00:10<00:00,  2.64batch/s, loss=0.9350]\n"
     ]
    },
    {
     "name": "stdout",
     "output_type": "stream",
     "text": [
      "[Epoch 26] val_acc=0.355030 train_acc=0.926843 val_loss=0.024230 train_loss=0.014567\n",
      "EarlyStopping counter: 20 out of 30\n"
     ]
    },
    {
     "name": "stderr",
     "output_type": "stream",
     "text": [
      "Epoch 27: 100%|██████████| 28/28 [00:10<00:00,  2.63batch/s, loss=0.9436]\n"
     ]
    },
    {
     "name": "stdout",
     "output_type": "stream",
     "text": [
      "[Epoch 27] val_acc=0.381657 train_acc=0.934159 val_loss=0.023819 train_loss=0.014442\n",
      "EarlyStopping counter: 21 out of 30\n"
     ]
    },
    {
     "name": "stderr",
     "output_type": "stream",
     "text": [
      "Epoch 28: 100%|██████████| 28/28 [00:10<00:00,  2.64batch/s, loss=0.8947]\n"
     ]
    },
    {
     "name": "stdout",
     "output_type": "stream",
     "text": [
      "[Epoch 28] val_acc=0.340237 train_acc=0.912212 val_loss=0.024420 train_loss=0.014681\n",
      "EarlyStopping counter: 22 out of 30\n"
     ]
    },
    {
     "name": "stderr",
     "output_type": "stream",
     "text": [
      "Epoch 29: 100%|██████████| 28/28 [00:10<00:00,  2.65batch/s, loss=0.9284]\n"
     ]
    },
    {
     "name": "stdout",
     "output_type": "stream",
     "text": [
      "[Epoch 29] val_acc=0.355030 train_acc=0.947102 val_loss=0.023998 train_loss=0.014224\n",
      "EarlyStopping counter: 23 out of 30\n"
     ]
    },
    {
     "name": "stderr",
     "output_type": "stream",
     "text": [
      "Epoch 30: 100%|██████████| 28/28 [00:10<00:00,  2.62batch/s, loss=0.8988]\n"
     ]
    },
    {
     "name": "stdout",
     "output_type": "stream",
     "text": [
      "[Epoch 30] val_acc=0.334320 train_acc=0.960608 val_loss=0.024268 train_loss=0.014127\n",
      "EarlyStopping counter: 24 out of 30\n"
     ]
    },
    {
     "name": "stderr",
     "output_type": "stream",
     "text": [
      "Epoch 31: 100%|██████████| 28/28 [00:10<00:00,  2.71batch/s, loss=0.8740]\n"
     ]
    },
    {
     "name": "stdout",
     "output_type": "stream",
     "text": [
      "[Epoch 31] val_acc=0.363905 train_acc=0.960608 val_loss=0.024066 train_loss=0.014040\n",
      "EarlyStopping counter: 25 out of 30\n"
     ]
    },
    {
     "name": "stderr",
     "output_type": "stream",
     "text": [
      "Epoch 32: 100%|██████████| 28/28 [00:10<00:00,  2.68batch/s, loss=0.8953]\n"
     ]
    },
    {
     "name": "stdout",
     "output_type": "stream",
     "text": [
      "[Epoch 32] val_acc=0.393491 train_acc=0.969049 val_loss=0.023974 train_loss=0.013915\n",
      "EarlyStopping counter: 26 out of 30\n"
     ]
    },
    {
     "name": "stderr",
     "output_type": "stream",
     "text": [
      "Epoch 33: 100%|██████████| 28/28 [00:10<00:00,  2.64batch/s, loss=0.9128]\n"
     ]
    },
    {
     "name": "stdout",
     "output_type": "stream",
     "text": [
      "[Epoch 33] val_acc=0.343195 train_acc=0.972425 val_loss=0.024449 train_loss=0.013849\n",
      "EarlyStopping counter: 27 out of 30\n"
     ]
    },
    {
     "name": "stderr",
     "output_type": "stream",
     "text": [
      "Epoch 34: 100%|██████████| 28/28 [00:10<00:00,  2.60batch/s, loss=0.8832]\n"
     ]
    },
    {
     "name": "stdout",
     "output_type": "stream",
     "text": [
      "[Epoch 34] val_acc=0.360947 train_acc=0.971300 val_loss=0.024123 train_loss=0.013874\n",
      "EarlyStopping counter: 28 out of 30\n"
     ]
    },
    {
     "name": "stderr",
     "output_type": "stream",
     "text": [
      "Epoch 35: 100%|██████████| 28/28 [00:10<00:00,  2.68batch/s, loss=0.8856]\n"
     ]
    },
    {
     "name": "stdout",
     "output_type": "stream",
     "text": [
      "[Epoch 35] val_acc=0.349112 train_acc=0.977490 val_loss=0.024284 train_loss=0.013790\n",
      "EarlyStopping counter: 29 out of 30\n"
     ]
    },
    {
     "name": "stderr",
     "output_type": "stream",
     "text": [
      "Epoch 36: 100%|██████████| 28/28 [00:11<00:00,  2.54batch/s, loss=0.8900]\n"
     ]
    },
    {
     "name": "stdout",
     "output_type": "stream",
     "text": [
      "[Epoch 36] val_acc=0.387574 train_acc=0.947665 val_loss=0.023812 train_loss=0.014195\n",
      "EarlyStopping counter: 30 out of 30\n",
      "Early stopping.\n"
     ]
    }
   ],
   "source": [
    "from utils.training import train\n",
    "\n",
    "raw_model = model\n",
    "raw_model.to(device)\n",
    "\n",
    "optimizer = torch.optim.Adam(raw_model.parameters(), lr=0.001, weight_decay=1e-05)\n",
    "scheduler = torch.optim.lr_scheduler.ReduceLROnPlateau(optimizer, mode='min', factor=0.5, patience=5, verbose=True)\n",
    "\n",
    "tr_loader = train_loader\n",
    "\n",
    "train_loss_hist, train_acc_hist, val_loss_hist, val_acc_hist = train(\n",
    "    model=raw_model,\n",
    "    optimizer=optimizer,\n",
    "    loss_func=nn.CrossEntropyLoss(),\n",
    "    train_data=tr_loader,\n",
    "    val_data=val_loader,\n",
    "    early_stopping_patience=30,\n",
    "    scheduler=scheduler,\n",
    "    cp_path=\"models/rnn\",\n",
    "    cp_filename=\"raw.pt\",\n",
    "    n_epochs=100,\n",
    "    show_progress_bar=True,\n",
    ")"
   ]
  },
  {
   "cell_type": "code",
   "execution_count": 11,
   "metadata": {},
   "outputs": [
    {
     "data": {
      "image/png": "[encoded data removed]",
      "text/plain": [
       "<Figure size 640x480 with 1 Axes>"
      ]
     },
     "metadata": {},
     "output_type": "display_data"
    }
   ],
   "source": [
    "plt.plot(train_loss_hist, label=\"Train Loss\")\n",
    "plt.plot(val_loss_hist, label=\"Val Loss\")\n",
    "plt.title(\"Raw Data Model Losses\")\n",
    "plt.xlabel(\"Epoch\")\n",
    "plt.ylabel(\"Loss\")\n",
    "plt.legend()\n",
    "plt.show()"
   ]
  },
  {
   "cell_type": "code",
   "execution_count": 12,
   "metadata": {},
   "outputs": [
    {
     "data": {
      "image/png": "[encoded data removed]",
      "text/plain": [
       "<Figure size 640x480 with 1 Axes>"
      ]
     },
     "metadata": {},
     "output_type": "display_data"
    }
   ],
   "source": [
    "plt.plot(train_acc_hist, label=\"Train Acc\")\n",
    "plt.plot(val_acc_hist, label=\"Val Acc\")\n",
    "plt.title(\"Raw Data Model Accuracies\")\n",
    "plt.xlabel(\"Epoch\")\n",
    "plt.ylabel(\"Accuracy\")\n",
    "plt.legend()\n",
    "plt.show()"
   ]
  },
  {
   "cell_type": "code",
   "execution_count": 13,
   "metadata": {},
   "outputs": [
    {
     "data": {
      "text/plain": [
       "RNN(\n",
       "  (tdd): Sequential(\n",
       "    (0): Linear(in_features=22, out_features=40, bias=True)\n",
       "    (1): ReLU()\n",
       "    (2): BatchNorm1d(1000, eps=1e-05, momentum=0.1, affine=True, track_running_stats=True)\n",
       "    (3): Dropout(p=0.5, inplace=False)\n",
       "  )\n",
       "  (chnnelwise_linear): Sequential(\n",
       "    (0): Linear(in_features=1000, out_features=500, bias=True)\n",
       "    (1): ReLU()\n",
       "    (2): Dropout(p=0.5, inplace=False)\n",
       "  )\n",
       "  (bn): BatchNorm1d(40, eps=1e-05, momentum=0.1, affine=True, track_running_stats=True)\n",
       "  (lstm): LSTM(40, 50, num_layers=4, batch_first=True, dropout=0.5)\n",
       "  (linear2): Sequential(\n",
       "    (0): Flatten(start_dim=1, end_dim=-1)\n",
       "    (1): Linear(in_features=10000, out_features=200, bias=True)\n",
       "    (2): ReLU()\n",
       "    (3): BatchNorm1d(200, eps=1e-05, momentum=0.1, affine=True, track_running_stats=True)\n",
       "    (4): Linear(in_features=200, out_features=20, bias=True)\n",
       "    (5): ReLU()\n",
       "    (6): BatchNorm1d(20, eps=1e-05, momentum=0.1, affine=True, track_running_stats=True)\n",
       "    (7): Dropout(p=0.5, inplace=False)\n",
       "    (8): Linear(in_features=20, out_features=4, bias=True)\n",
       "  )\n",
       "  (softmax): Softmax(dim=1)\n",
       ")"
      ]
     },
     "execution_count": 13,
     "metadata": {},
     "output_type": "execute_result"
    }
   ],
   "source": [
    "# Load best model and test\n",
    "raw_model = torch.load(\"models/rnn/raw.pt\")\n",
    "raw_model.to(device)\n",
    "raw_model.eval()"
   ]
  },
  {
   "cell_type": "code",
   "execution_count": 14,
   "metadata": {},
   "outputs": [
    {
     "name": "stdout",
     "output_type": "stream",
     "text": [
      "Train on raw data, evaluate on raw data\n",
      "Test Acc: 0.4221\n"
     ]
    }
   ],
   "source": [
    "# Evaluate on raw data\n",
    "test_acc = 0\n",
    "with torch.no_grad():\n",
    "    for X, y in test_loader:\n",
    "        X, y = X.to(device), y.to(device)\n",
    "        y_pred = raw_model(X)\n",
    "        test_acc += (y_pred.argmax(dim=1) == y.argmax(dim=1)).sum().item()\n",
    "test_acc /= len(test_loader.dataset)\n",
    "print(\"Train on raw data, evaluate on raw data\")\n",
    "print(f\"Test Acc: {test_acc:.4f}\")"
   ]
  },
  {
   "cell_type": "code",
   "execution_count": 15,
   "metadata": {},
   "outputs": [
    {
     "name": "stdout",
     "output_type": "stream",
     "text": [
      "Train on raw data, evaluate on sub1 data\n",
      "Test Acc: 0.4200\n"
     ]
    }
   ],
   "source": [
    "# Evaluate on sub1 data\n",
    "test_acc = 0\n",
    "with torch.no_grad():\n",
    "    for X, y in test_sub_loader:\n",
    "        X, y = X.to(device), y.to(device)\n",
    "        y_pred = raw_model(X)\n",
    "        test_acc += (y_pred.argmax(dim=1) == y.argmax(dim=1)).sum().item()\n",
    "test_acc /= len(test_sub_loader.dataset)\n",
    "print(\"Train on raw data, evaluate on sub1 data\")\n",
    "print(f\"Test Acc: {test_acc:.4f}\")"
   ]
  },
  {
   "cell_type": "markdown",
   "metadata": {},
   "source": [
    "## Train on Data Augmented with FT Surrogate"
   ]
  },
  {
   "cell_type": "code",
   "execution_count": 66,
   "metadata": {},
   "outputs": [
    {
     "data": {
      "text/plain": [
       "RNN(\n",
       "  (tdd): Sequential(\n",
       "    (0): Linear(in_features=22, out_features=40, bias=True)\n",
       "    (1): ELU(alpha=1.0)\n",
       "    (2): Dropout(p=0.5, inplace=False)\n",
       "  )\n",
       "  (chnnelwise_linear): Sequential(\n",
       "    (0): Linear(in_features=1000, out_features=500, bias=True)\n",
       "    (1): ELU(alpha=1.0)\n",
       "    (2): Dropout(p=0.5, inplace=False)\n",
       "  )\n",
       "  (bn): BatchNorm1d(40, eps=1e-05, momentum=0.1, affine=True, track_running_stats=True)\n",
       "  (lstm): LSTM(40, 50, num_layers=5, batch_first=True, dropout=0.3)\n",
       "  (linear2): Sequential(\n",
       "    (0): Flatten(start_dim=1, end_dim=-1)\n",
       "    (1): LazyLinear(in_features=0, out_features=10, bias=True)\n",
       "    (2): ELU(alpha=1.0)\n",
       "    (3): BatchNorm1d(10, eps=1e-05, momentum=0.1, affine=True, track_running_stats=True)\n",
       "    (4): Dropout(p=0.3, inplace=False)\n",
       "    (5): LazyLinear(in_features=0, out_features=4, bias=True)\n",
       "  )\n",
       "  (softmax): Softmax(dim=1)\n",
       ")"
      ]
     },
     "execution_count": 66,
     "metadata": {},
     "output_type": "execute_result"
    }
   ],
   "source": [
    "aug_model = RNN()\n",
    "aug_model.to(device)"
   ]
  },
  {
   "cell_type": "code",
   "execution_count": 67,
   "metadata": {},
   "outputs": [
    {
     "name": "stdout",
     "output_type": "stream",
     "text": [
      "Using device: mps\n"
     ]
    },
    {
     "name": "stderr",
     "output_type": "stream",
     "text": [
      "Epoch 0: 100%|██████████| 28/28 [00:17<00:00,  1.56batch/s, loss=1.3797]\n"
     ]
    },
    {
     "name": "stdout",
     "output_type": "stream",
     "text": [
      "[Epoch 0] val_acc=0.254438 train_acc=0.250985 val_loss=0.024751 train_loss=0.022161\n",
      "Validation loss decreased (inf --> 0.024751).  Saving model ...\n"
     ]
    },
    {
     "name": "stderr",
     "output_type": "stream",
     "text": [
      "Epoch 1: 100%|██████████| 28/28 [00:17<00:00,  1.62batch/s, loss=1.4043]\n"
     ]
    },
    {
     "name": "stdout",
     "output_type": "stream",
     "text": [
      "[Epoch 1] val_acc=0.266272 train_acc=0.316263 val_loss=0.024795 train_loss=0.021629\n",
      "EarlyStopping counter: 1 out of 30\n"
     ]
    },
    {
     "name": "stderr",
     "output_type": "stream",
     "text": [
      "Epoch 2: 100%|██████████| 28/28 [00:16<00:00,  1.67batch/s, loss=1.3621]\n"
     ]
    },
    {
     "name": "stdout",
     "output_type": "stream",
     "text": [
      "[Epoch 2] val_acc=0.316568 train_acc=0.310636 val_loss=0.024454 train_loss=0.021635\n",
      "Validation loss decreased (0.024751 --> 0.024454).  Saving model ...\n"
     ]
    },
    {
     "name": "stderr",
     "output_type": "stream",
     "text": [
      "Epoch 3: 100%|██████████| 28/28 [00:17<00:00,  1.64batch/s, loss=1.3381]\n"
     ]
    },
    {
     "name": "stdout",
     "output_type": "stream",
     "text": [
      "[Epoch 3] val_acc=0.304734 train_acc=0.335959 val_loss=0.024366 train_loss=0.021526\n",
      "Validation loss decreased (0.024454 --> 0.024366).  Saving model ...\n"
     ]
    },
    {
     "name": "stderr",
     "output_type": "stream",
     "text": [
      "Epoch 4: 100%|██████████| 28/28 [00:17<00:00,  1.60batch/s, loss=1.3146]\n"
     ]
    },
    {
     "name": "stdout",
     "output_type": "stream",
     "text": [
      "[Epoch 4] val_acc=0.319527 train_acc=0.344401 val_loss=0.024341 train_loss=0.021375\n",
      "Validation loss decreased (0.024366 --> 0.024341).  Saving model ...\n"
     ]
    },
    {
     "name": "stderr",
     "output_type": "stream",
     "text": [
      "Epoch 5: 100%|██████████| 28/28 [00:16<00:00,  1.70batch/s, loss=1.3587]\n"
     ]
    },
    {
     "name": "stdout",
     "output_type": "stream",
     "text": [
      "[Epoch 5] val_acc=0.328402 train_acc=0.364660 val_loss=0.024242 train_loss=0.021223\n",
      "Validation loss decreased (0.024341 --> 0.024242).  Saving model ...\n"
     ]
    },
    {
     "name": "stderr",
     "output_type": "stream",
     "text": [
      "Epoch 6: 100%|██████████| 28/28 [00:16<00:00,  1.73batch/s, loss=1.3728]\n"
     ]
    },
    {
     "name": "stdout",
     "output_type": "stream",
     "text": [
      "[Epoch 6] val_acc=0.372781 train_acc=0.362971 val_loss=0.024013 train_loss=0.021298\n",
      "Validation loss decreased (0.024242 --> 0.024013).  Saving model ...\n"
     ]
    },
    {
     "name": "stderr",
     "output_type": "stream",
     "text": [
      "Epoch 7: 100%|██████████| 28/28 [00:15<00:00,  1.75batch/s, loss=1.3818]\n"
     ]
    },
    {
     "name": "stdout",
     "output_type": "stream",
     "text": [
      "[Epoch 7] val_acc=0.337278 train_acc=0.351154 val_loss=0.024201 train_loss=0.021331\n",
      "EarlyStopping counter: 1 out of 30\n"
     ]
    },
    {
     "name": "stderr",
     "output_type": "stream",
     "text": [
      "Epoch 8: 100%|██████████| 28/28 [00:16<00:00,  1.72batch/s, loss=1.3154]\n"
     ]
    },
    {
     "name": "stdout",
     "output_type": "stream",
     "text": [
      "[Epoch 8] val_acc=0.363905 train_acc=0.379854 val_loss=0.023694 train_loss=0.021116\n",
      "Validation loss decreased (0.024013 --> 0.023694).  Saving model ...\n"
     ]
    },
    {
     "name": "stderr",
     "output_type": "stream",
     "text": [
      "Epoch 9: 100%|██████████| 28/28 [00:17<00:00,  1.63batch/s, loss=1.2907]\n"
     ]
    },
    {
     "name": "stdout",
     "output_type": "stream",
     "text": [
      "[Epoch 9] val_acc=0.313609 train_acc=0.393922 val_loss=0.024228 train_loss=0.021012\n",
      "EarlyStopping counter: 1 out of 30\n"
     ]
    },
    {
     "name": "stderr",
     "output_type": "stream",
     "text": [
      "Epoch 10: 100%|██████████| 28/28 [00:19<00:00,  1.40batch/s, loss=1.3523]\n"
     ]
    },
    {
     "name": "stdout",
     "output_type": "stream",
     "text": [
      "[Epoch 10] val_acc=0.363905 train_acc=0.392797 val_loss=0.023873 train_loss=0.021040\n",
      "EarlyStopping counter: 2 out of 30\n"
     ]
    },
    {
     "name": "stderr",
     "output_type": "stream",
     "text": [
      "Epoch 11: 100%|██████████| 28/28 [00:20<00:00,  1.38batch/s, loss=1.3051]\n"
     ]
    },
    {
     "name": "stdout",
     "output_type": "stream",
     "text": [
      "[Epoch 11] val_acc=0.372781 train_acc=0.393922 val_loss=0.023727 train_loss=0.020972\n",
      "EarlyStopping counter: 3 out of 30\n"
     ]
    },
    {
     "name": "stderr",
     "output_type": "stream",
     "text": [
      "Epoch 12: 100%|██████████| 28/28 [00:19<00:00,  1.44batch/s, loss=1.3868]\n"
     ]
    },
    {
     "name": "stdout",
     "output_type": "stream",
     "text": [
      "[Epoch 12] val_acc=0.355030 train_acc=0.398987 val_loss=0.023951 train_loss=0.020915\n",
      "EarlyStopping counter: 4 out of 30\n"
     ]
    },
    {
     "name": "stderr",
     "output_type": "stream",
     "text": [
      "Epoch 13: 100%|██████████| 28/28 [00:20<00:00,  1.33batch/s, loss=1.3322]\n"
     ]
    },
    {
     "name": "stdout",
     "output_type": "stream",
     "text": [
      "[Epoch 13] val_acc=0.355030 train_acc=0.415307 val_loss=0.023826 train_loss=0.020837\n",
      "EarlyStopping counter: 5 out of 30\n"
     ]
    },
    {
     "name": "stderr",
     "output_type": "stream",
     "text": [
      "Epoch 14: 100%|██████████| 28/28 [00:17<00:00,  1.56batch/s, loss=1.2738]\n"
     ]
    },
    {
     "name": "stdout",
     "output_type": "stream",
     "text": [
      "[Epoch 14] val_acc=0.378698 train_acc=0.414744 val_loss=0.023728 train_loss=0.020747\n",
      "EarlyStopping counter: 6 out of 30\n"
     ]
    },
    {
     "name": "stderr",
     "output_type": "stream",
     "text": [
      "Epoch 15: 100%|██████████| 28/28 [00:16<00:00,  1.68batch/s, loss=1.2856]\n"
     ]
    },
    {
     "name": "stdout",
     "output_type": "stream",
     "text": [
      "[Epoch 15] val_acc=0.387574 train_acc=0.443444 val_loss=0.023706 train_loss=0.020543\n",
      "EarlyStopping counter: 7 out of 30\n"
     ]
    },
    {
     "name": "stderr",
     "output_type": "stream",
     "text": [
      "Epoch 16: 100%|██████████| 28/28 [00:18<00:00,  1.54batch/s, loss=1.2973]\n"
     ]
    },
    {
     "name": "stdout",
     "output_type": "stream",
     "text": [
      "[Epoch 16] val_acc=0.372781 train_acc=0.419809 val_loss=0.023781 train_loss=0.020744\n",
      "EarlyStopping counter: 8 out of 30\n"
     ]
    },
    {
     "name": "stderr",
     "output_type": "stream",
     "text": [
      "Epoch 17: 100%|██████████| 28/28 [00:19<00:00,  1.45batch/s, loss=1.2778]\n"
     ]
    },
    {
     "name": "stdout",
     "output_type": "stream",
     "text": [
      "[Epoch 17] val_acc=0.381657 train_acc=0.433315 val_loss=0.023627 train_loss=0.020569\n",
      "Validation loss decreased (0.023694 --> 0.023627).  Saving model ...\n"
     ]
    },
    {
     "name": "stderr",
     "output_type": "stream",
     "text": [
      "Epoch 18: 100%|██████████| 28/28 [00:18<00:00,  1.55batch/s, loss=1.4123]\n"
     ]
    },
    {
     "name": "stdout",
     "output_type": "stream",
     "text": [
      "[Epoch 18] val_acc=0.313609 train_acc=0.405740 val_loss=0.024641 train_loss=0.020752\n",
      "EarlyStopping counter: 1 out of 30\n"
     ]
    },
    {
     "name": "stderr",
     "output_type": "stream",
     "text": [
      "Epoch 19: 100%|██████████| 28/28 [00:16<00:00,  1.67batch/s, loss=1.2733]\n"
     ]
    },
    {
     "name": "stdout",
     "output_type": "stream",
     "text": [
      "[Epoch 19] val_acc=0.337278 train_acc=0.435003 val_loss=0.024086 train_loss=0.020646\n",
      "EarlyStopping counter: 2 out of 30\n"
     ]
    },
    {
     "name": "stderr",
     "output_type": "stream",
     "text": [
      "Epoch 20: 100%|██████████| 28/28 [00:17<00:00,  1.63batch/s, loss=1.3275]\n"
     ]
    },
    {
     "name": "stdout",
     "output_type": "stream",
     "text": [
      "[Epoch 20] val_acc=0.387574 train_acc=0.446820 val_loss=0.023431 train_loss=0.020492\n",
      "Validation loss decreased (0.023627 --> 0.023431).  Saving model ...\n"
     ]
    },
    {
     "name": "stderr",
     "output_type": "stream",
     "text": [
      "Epoch 21: 100%|██████████| 28/28 [00:24<00:00,  1.13batch/s, loss=1.3398]\n"
     ]
    },
    {
     "name": "stdout",
     "output_type": "stream",
     "text": [
      "[Epoch 21] val_acc=0.402367 train_acc=0.456950 val_loss=0.023560 train_loss=0.020336\n",
      "EarlyStopping counter: 1 out of 30\n"
     ]
    },
    {
     "name": "stderr",
     "output_type": "stream",
     "text": [
      "Epoch 22: 100%|██████████| 28/28 [00:21<00:00,  1.28batch/s, loss=1.2956]\n"
     ]
    },
    {
     "name": "stdout",
     "output_type": "stream",
     "text": [
      "[Epoch 22] val_acc=0.423077 train_acc=0.437817 val_loss=0.023271 train_loss=0.020462\n",
      "Validation loss decreased (0.023431 --> 0.023271).  Saving model ...\n"
     ]
    },
    {
     "name": "stderr",
     "output_type": "stream",
     "text": [
      "Epoch 23: 100%|██████████| 28/28 [00:20<00:00,  1.34batch/s, loss=1.3593]\n"
     ]
    },
    {
     "name": "stdout",
     "output_type": "stream",
     "text": [
      "[Epoch 23] val_acc=0.408284 train_acc=0.468205 val_loss=0.023240 train_loss=0.020244\n",
      "Validation loss decreased (0.023271 --> 0.023240).  Saving model ...\n"
     ]
    },
    {
     "name": "stderr",
     "output_type": "stream",
     "text": [
      "Epoch 24: 100%|██████████| 28/28 [00:19<00:00,  1.42batch/s, loss=1.2469]\n"
     ]
    },
    {
     "name": "stdout",
     "output_type": "stream",
     "text": [
      "[Epoch 24] val_acc=0.375740 train_acc=0.467642 val_loss=0.023694 train_loss=0.020183\n",
      "EarlyStopping counter: 1 out of 30\n"
     ]
    },
    {
     "name": "stderr",
     "output_type": "stream",
     "text": [
      "Epoch 25: 100%|██████████| 28/28 [00:18<00:00,  1.49batch/s, loss=1.3225]\n"
     ]
    },
    {
     "name": "stdout",
     "output_type": "stream",
     "text": [
      "[Epoch 25] val_acc=0.390533 train_acc=0.446258 val_loss=0.023591 train_loss=0.020352\n",
      "EarlyStopping counter: 2 out of 30\n"
     ]
    },
    {
     "name": "stderr",
     "output_type": "stream",
     "text": [
      "Epoch 26: 100%|██████████| 28/28 [00:18<00:00,  1.55batch/s, loss=1.3167]\n"
     ]
    },
    {
     "name": "stdout",
     "output_type": "stream",
     "text": [
      "[Epoch 26] val_acc=0.405325 train_acc=0.455262 val_loss=0.023420 train_loss=0.020237\n",
      "EarlyStopping counter: 3 out of 30\n"
     ]
    },
    {
     "name": "stderr",
     "output_type": "stream",
     "text": [
      "Epoch 27: 100%|██████████| 28/28 [00:18<00:00,  1.48batch/s, loss=1.2739]\n"
     ]
    },
    {
     "name": "stdout",
     "output_type": "stream",
     "text": [
      "[Epoch 27] val_acc=0.331361 train_acc=0.446820 val_loss=0.024219 train_loss=0.020305\n",
      "EarlyStopping counter: 4 out of 30\n"
     ]
    },
    {
     "name": "stderr",
     "output_type": "stream",
     "text": [
      "Epoch 28: 100%|██████████| 28/28 [00:19<00:00,  1.44batch/s, loss=1.2526]\n"
     ]
    },
    {
     "name": "stdout",
     "output_type": "stream",
     "text": [
      "[Epoch 28] val_acc=0.369822 train_acc=0.479460 val_loss=0.023649 train_loss=0.020082\n",
      "EarlyStopping counter: 5 out of 30\n"
     ]
    },
    {
     "name": "stderr",
     "output_type": "stream",
     "text": [
      "Epoch 29: 100%|██████████| 28/28 [00:17<00:00,  1.57batch/s, loss=1.2694]\n"
     ]
    },
    {
     "name": "stdout",
     "output_type": "stream",
     "text": [
      "[Epoch 29] val_acc=0.355030 train_acc=0.459201 val_loss=0.023964 train_loss=0.020199\n",
      "EarlyStopping counter: 6 out of 30\n"
     ]
    },
    {
     "name": "stderr",
     "output_type": "stream",
     "text": [
      "Epoch 30: 100%|██████████| 28/28 [00:17<00:00,  1.57batch/s, loss=1.2740]\n"
     ]
    },
    {
     "name": "stdout",
     "output_type": "stream",
     "text": [
      "[Epoch 30] val_acc=0.363905 train_acc=0.461452 val_loss=0.023955 train_loss=0.020135\n",
      "EarlyStopping counter: 7 out of 30\n"
     ]
    },
    {
     "name": "stderr",
     "output_type": "stream",
     "text": [
      "Epoch 31: 100%|██████████| 28/28 [00:20<00:00,  1.39batch/s, loss=1.2452]\n"
     ]
    },
    {
     "name": "stdout",
     "output_type": "stream",
     "text": [
      "[Epoch 31] val_acc=0.366864 train_acc=0.495217 val_loss=0.023710 train_loss=0.019881\n",
      "EarlyStopping counter: 8 out of 30\n"
     ]
    },
    {
     "name": "stderr",
     "output_type": "stream",
     "text": [
      "Epoch 32: 100%|██████████| 28/28 [00:17<00:00,  1.57batch/s, loss=1.2469]\n"
     ]
    },
    {
     "name": "stdout",
     "output_type": "stream",
     "text": [
      "[Epoch 32] val_acc=0.322485 train_acc=0.480023 val_loss=0.024126 train_loss=0.020035\n",
      "EarlyStopping counter: 9 out of 30\n"
     ]
    },
    {
     "name": "stderr",
     "output_type": "stream",
     "text": [
      "Epoch 33: 100%|██████████| 28/28 [00:18<00:00,  1.53batch/s, loss=1.2642]\n"
     ]
    },
    {
     "name": "stdout",
     "output_type": "stream",
     "text": [
      "[Epoch 33] val_acc=0.355030 train_acc=0.464828 val_loss=0.023758 train_loss=0.020183\n",
      "EarlyStopping counter: 10 out of 30\n"
     ]
    },
    {
     "name": "stderr",
     "output_type": "stream",
     "text": [
      "Epoch 34: 100%|██████████| 28/28 [00:21<00:00,  1.29batch/s, loss=1.2968]\n"
     ]
    },
    {
     "name": "stdout",
     "output_type": "stream",
     "text": [
      "[Epoch 34] val_acc=0.399408 train_acc=0.484524 val_loss=0.023456 train_loss=0.019949\n",
      "EarlyStopping counter: 11 out of 30\n"
     ]
    },
    {
     "name": "stderr",
     "output_type": "stream",
     "text": [
      "Epoch 35: 100%|██████████| 28/28 [00:22<00:00,  1.25batch/s, loss=1.2141]\n"
     ]
    },
    {
     "name": "stdout",
     "output_type": "stream",
     "text": [
      "[Epoch 35] val_acc=0.349112 train_acc=0.473270 val_loss=0.023954 train_loss=0.020038\n",
      "EarlyStopping counter: 12 out of 30\n"
     ]
    },
    {
     "name": "stderr",
     "output_type": "stream",
     "text": [
      "Epoch 36: 100%|██████████| 28/28 [00:19<00:00,  1.42batch/s, loss=1.2574]\n"
     ]
    },
    {
     "name": "stdout",
     "output_type": "stream",
     "text": [
      "[Epoch 36] val_acc=0.375740 train_acc=0.494091 val_loss=0.023730 train_loss=0.019950\n",
      "EarlyStopping counter: 13 out of 30\n"
     ]
    },
    {
     "name": "stderr",
     "output_type": "stream",
     "text": [
      "Epoch 37: 100%|██████████| 28/28 [00:16<00:00,  1.71batch/s, loss=1.2305]\n"
     ]
    },
    {
     "name": "stdout",
     "output_type": "stream",
     "text": [
      "[Epoch 37] val_acc=0.346154 train_acc=0.496905 val_loss=0.023977 train_loss=0.019802\n",
      "EarlyStopping counter: 14 out of 30\n"
     ]
    },
    {
     "name": "stderr",
     "output_type": "stream",
     "text": [
      "Epoch 38: 100%|██████████| 28/28 [00:16<00:00,  1.69batch/s, loss=1.1992]\n"
     ]
    },
    {
     "name": "stdout",
     "output_type": "stream",
     "text": [
      "[Epoch 38] val_acc=0.355030 train_acc=0.487338 val_loss=0.023859 train_loss=0.019827\n",
      "EarlyStopping counter: 15 out of 30\n"
     ]
    },
    {
     "name": "stderr",
     "output_type": "stream",
     "text": [
      "Epoch 39: 100%|██████████| 28/28 [00:16<00:00,  1.73batch/s, loss=1.3021]\n"
     ]
    },
    {
     "name": "stdout",
     "output_type": "stream",
     "text": [
      "[Epoch 39] val_acc=0.378698 train_acc=0.481148 val_loss=0.023809 train_loss=0.019934\n",
      "EarlyStopping counter: 16 out of 30\n"
     ]
    },
    {
     "name": "stderr",
     "output_type": "stream",
     "text": [
      "Epoch 40: 100%|██████████| 28/28 [00:16<00:00,  1.69batch/s, loss=1.2721]\n"
     ]
    },
    {
     "name": "stdout",
     "output_type": "stream",
     "text": [
      "[Epoch 40] val_acc=0.366864 train_acc=0.457513 val_loss=0.024096 train_loss=0.020196\n",
      "EarlyStopping counter: 17 out of 30\n"
     ]
    },
    {
     "name": "stderr",
     "output_type": "stream",
     "text": [
      "Epoch 41: 100%|██████████| 28/28 [00:16<00:00,  1.67batch/s, loss=1.2506]\n"
     ]
    },
    {
     "name": "stdout",
     "output_type": "stream",
     "text": [
      "[Epoch 41] val_acc=0.313609 train_acc=0.477209 val_loss=0.024677 train_loss=0.019931\n",
      "EarlyStopping counter: 18 out of 30\n"
     ]
    },
    {
     "name": "stderr",
     "output_type": "stream",
     "text": [
      "Epoch 42: 100%|██████████| 28/28 [00:16<00:00,  1.70batch/s, loss=1.2783]\n"
     ]
    },
    {
     "name": "stdout",
     "output_type": "stream",
     "text": [
      "[Epoch 42] val_acc=0.366864 train_acc=0.467079 val_loss=0.023633 train_loss=0.020041\n",
      "EarlyStopping counter: 19 out of 30\n"
     ]
    },
    {
     "name": "stderr",
     "output_type": "stream",
     "text": [
      "Epoch 43: 100%|██████████| 28/28 [00:16<00:00,  1.71batch/s, loss=1.2049]\n"
     ]
    },
    {
     "name": "stdout",
     "output_type": "stream",
     "text": [
      "[Epoch 43] val_acc=0.355030 train_acc=0.469893 val_loss=0.023839 train_loss=0.019958\n",
      "EarlyStopping counter: 20 out of 30\n"
     ]
    },
    {
     "name": "stderr",
     "output_type": "stream",
     "text": [
      "Epoch 44: 100%|██████████| 28/28 [00:18<00:00,  1.55batch/s, loss=1.2824]\n"
     ]
    },
    {
     "name": "stdout",
     "output_type": "stream",
     "text": [
      "[Epoch 44] val_acc=0.390533 train_acc=0.523354 val_loss=0.023337 train_loss=0.019485\n",
      "EarlyStopping counter: 21 out of 30\n"
     ]
    },
    {
     "name": "stderr",
     "output_type": "stream",
     "text": [
      "Epoch 45: 100%|██████████| 28/28 [00:16<00:00,  1.71batch/s, loss=1.2130]\n"
     ]
    },
    {
     "name": "stdout",
     "output_type": "stream",
     "text": [
      "[Epoch 45] val_acc=0.363905 train_acc=0.514350 val_loss=0.023597 train_loss=0.019602\n",
      "EarlyStopping counter: 22 out of 30\n"
     ]
    },
    {
     "name": "stderr",
     "output_type": "stream",
     "text": [
      "Epoch 46: 100%|██████████| 28/28 [00:16<00:00,  1.73batch/s, loss=1.1841]\n"
     ]
    },
    {
     "name": "stdout",
     "output_type": "stream",
     "text": [
      "[Epoch 46] val_acc=0.360947 train_acc=0.510974 val_loss=0.023621 train_loss=0.019608\n",
      "EarlyStopping counter: 23 out of 30\n"
     ]
    },
    {
     "name": "stderr",
     "output_type": "stream",
     "text": [
      "Epoch 47: 100%|██████████| 28/28 [00:18<00:00,  1.49batch/s, loss=1.2194]\n"
     ]
    },
    {
     "name": "stdout",
     "output_type": "stream",
     "text": [
      "[Epoch 47] val_acc=0.357988 train_acc=0.531795 val_loss=0.023525 train_loss=0.019465\n",
      "EarlyStopping counter: 24 out of 30\n"
     ]
    },
    {
     "name": "stderr",
     "output_type": "stream",
     "text": [
      "Epoch 48: 100%|██████████| 28/28 [00:17<00:00,  1.62batch/s, loss=1.2669]\n"
     ]
    },
    {
     "name": "stdout",
     "output_type": "stream",
     "text": [
      "[Epoch 48] val_acc=0.369822 train_acc=0.515476 val_loss=0.023656 train_loss=0.019562\n",
      "EarlyStopping counter: 25 out of 30\n"
     ]
    },
    {
     "name": "stderr",
     "output_type": "stream",
     "text": [
      "Epoch 49: 100%|██████████| 28/28 [00:16<00:00,  1.67batch/s, loss=1.2541]\n"
     ]
    },
    {
     "name": "stdout",
     "output_type": "stream",
     "text": [
      "[Epoch 49] val_acc=0.396450 train_acc=0.508160 val_loss=0.023534 train_loss=0.019648\n",
      "EarlyStopping counter: 26 out of 30\n"
     ]
    },
    {
     "name": "stderr",
     "output_type": "stream",
     "text": [
      "Epoch 50: 100%|██████████| 28/28 [00:16<00:00,  1.69batch/s, loss=1.2531]\n"
     ]
    },
    {
     "name": "stdout",
     "output_type": "stream",
     "text": [
      "[Epoch 50] val_acc=0.402367 train_acc=0.517727 val_loss=0.023602 train_loss=0.019478\n",
      "EarlyStopping counter: 27 out of 30\n"
     ]
    },
    {
     "name": "stderr",
     "output_type": "stream",
     "text": [
      "Epoch 51: 100%|██████████| 28/28 [00:16<00:00,  1.72batch/s, loss=1.1720]\n"
     ]
    },
    {
     "name": "stdout",
     "output_type": "stream",
     "text": [
      "[Epoch 51] val_acc=0.393491 train_acc=0.532921 val_loss=0.023475 train_loss=0.019408\n",
      "EarlyStopping counter: 28 out of 30\n"
     ]
    },
    {
     "name": "stderr",
     "output_type": "stream",
     "text": [
      "Epoch 52: 100%|██████████| 28/28 [00:17<00:00,  1.60batch/s, loss=1.2503]\n"
     ]
    },
    {
     "name": "stdout",
     "output_type": "stream",
     "text": [
      "[Epoch 52] val_acc=0.378698 train_acc=0.511536 val_loss=0.023508 train_loss=0.019562\n",
      "EarlyStopping counter: 29 out of 30\n"
     ]
    },
    {
     "name": "stderr",
     "output_type": "stream",
     "text": [
      "Epoch 53: 100%|██████████| 28/28 [00:20<00:00,  1.36batch/s, loss=1.1737]\n"
     ]
    },
    {
     "name": "stdout",
     "output_type": "stream",
     "text": [
      "[Epoch 53] val_acc=0.384615 train_acc=0.530107 val_loss=0.023491 train_loss=0.019277\n",
      "EarlyStopping counter: 30 out of 30\n",
      "Early stopping.\n"
     ]
    }
   ],
   "source": [
    "optimizer = torch.optim.Adam(aug_model.parameters(), lr=0.001, weight_decay=1e-10)\n",
    "# optimizer = Adahessian(aug_model.parameters(), lr=0.01, weight_decay=1e-10)\n",
    "scheduler = torch.optim.lr_scheduler.ReduceLROnPlateau(optimizer, mode='min', factor=0.5, patience=5, verbose=True)\n",
    "\n",
    "tr_loader = train_aug_loader\n",
    "\n",
    "train_loss_hist, train_acc_hist, val_loss_hist, val_acc_hist = train(\n",
    "    model=aug_model,\n",
    "    optimizer=optimizer,\n",
    "    loss_func=nn.CrossEntropyLoss(),\n",
    "    train_data=tr_loader,\n",
    "    val_data=val_loader,\n",
    "    early_stopping_patience=30,\n",
    "    scheduler=scheduler,\n",
    "    cp_path=\"models/rnn\",\n",
    "    cp_filename=\"aug.pt\",\n",
    "    n_epochs=100,\n",
    "    show_progress_bar=True,\n",
    ")"
   ]
  },
  {
   "cell_type": "code",
   "execution_count": 69,
   "metadata": {},
   "outputs": [
    {
     "data": {
      "image/png": "[encoded data removed]",
      "text/plain": [
       "<Figure size 640x480 with 1 Axes>"
      ]
     },
     "metadata": {},
     "output_type": "display_data"
    }
   ],
   "source": [
    "plt.plot(train_loss_hist, label=\"Train Loss\")\n",
    "plt.plot(val_loss_hist, label=\"Val Loss\")\n",
    "plt.title(\"Aug Data Model Losses\")\n",
    "plt.xlabel(\"Epoch\")\n",
    "plt.ylabel(\"Loss\")\n",
    "plt.legend()\n",
    "plt.show()"
   ]
  },
  {
   "cell_type": "code",
   "execution_count": 68,
   "metadata": {},
   "outputs": [
    {
     "data": {
      "image/png": "[encoded data removed]",
      "text/plain": [
       "<Figure size 640x480 with 1 Axes>"
      ]
     },
     "metadata": {},
     "output_type": "display_data"
    }
   ],
   "source": [
    "plt.plot(train_acc_hist, label=\"Train Acc\")\n",
    "plt.plot(val_acc_hist, label=\"Val Acc\")\n",
    "plt.title(\"Aug Data Model Accuracies\")\n",
    "plt.xlabel(\"Epoch\")\n",
    "plt.ylabel(\"Accuracy\")\n",
    "plt.legend()\n",
    "plt.show()"
   ]
  },
  {
   "cell_type": "code",
   "execution_count": 37,
   "metadata": {},
   "outputs": [
    {
     "data": {
      "text/plain": [
       "RNN(\n",
       "  (tdd): Sequential(\n",
       "    (0): Linear(in_features=22, out_features=40, bias=True)\n",
       "    (1): ELU(alpha=1.0)\n",
       "    (2): Dropout(p=0.5, inplace=False)\n",
       "  )\n",
       "  (chnnelwise_linear): Sequential(\n",
       "    (0): Linear(in_features=1000, out_features=500, bias=True)\n",
       "    (1): ELU(alpha=1.0)\n",
       "    (2): Dropout(p=0.5, inplace=False)\n",
       "  )\n",
       "  (bn): BatchNorm1d(40, eps=1e-05, momentum=0.1, affine=True, track_running_stats=True)\n",
       "  (lstm): LSTM(40, 50, num_layers=5, batch_first=True, dropout=0.3)\n",
       "  (linear2): Sequential(\n",
       "    (0): Flatten(start_dim=1, end_dim=-1)\n",
       "    (1): Linear(in_features=50000, out_features=10, bias=True)\n",
       "    (2): ELU(alpha=1.0)\n",
       "    (3): BatchNorm1d(10, eps=1e-05, momentum=0.1, affine=True, track_running_stats=True)\n",
       "    (4): Dropout(p=0.3, inplace=False)\n",
       "    (5): Linear(in_features=10, out_features=4, bias=True)\n",
       "  )\n",
       "  (softmax): Softmax(dim=1)\n",
       ")"
      ]
     },
     "execution_count": 37,
     "metadata": {},
     "output_type": "execute_result"
    }
   ],
   "source": [
    "# Load best model and test\n",
    "aug_model = torch.load(\"models/rnn/aug_41.pt\")\n",
    "aug_model.to(device)\n",
    "aug_model.eval()"
   ]
  },
  {
   "cell_type": "code",
   "execution_count": 38,
   "metadata": {},
   "outputs": [
    {
     "name": "stdout",
     "output_type": "stream",
     "text": [
      "Train on aug data, evaluate on raw data\n",
      "Test Acc: 0.4108\n"
     ]
    }
   ],
   "source": [
    "# Evaluate on aug data\n",
    "test_acc = 0\n",
    "with torch.no_grad():\n",
    "    for X, y in test_loader:\n",
    "        X, y = X.to(device), y.to(device)\n",
    "        y_pred = aug_model(X)\n",
    "        test_acc += (y_pred.argmax(dim=1) == y.argmax(dim=1)).sum().item()\n",
    "test_acc /= len(test_loader.dataset)\n",
    "print(\"Train on aug data, evaluate on raw data\")\n",
    "print(f\"Test Acc: {test_acc:.4f}\")"
   ]
  },
  {
   "cell_type": "code",
   "execution_count": 39,
   "metadata": {},
   "outputs": [
    {
     "name": "stdout",
     "output_type": "stream",
     "text": [
      "Train on aug data, evaluate on sub1 data\n",
      "Test Acc: 0.3600\n"
     ]
    }
   ],
   "source": [
    "# Evaluate on sub1 data\n",
    "test_acc = 0\n",
    "with torch.no_grad():\n",
    "    for X, y in test_sub_loader:\n",
    "        X, y = X.to(device), y.to(device)\n",
    "        y_pred = aug_model(X)\n",
    "        test_acc += (y_pred.argmax(dim=1) == y.argmax(dim=1)).sum().item()\n",
    "test_acc /= len(test_sub_loader.dataset)\n",
    "print(\"Train on aug data, evaluate on sub1 data\")\n",
    "print(f\"Test Acc: {test_acc:.4f}\")"
   ]
  },
  {
   "cell_type": "markdown",
   "metadata": {},
   "source": [
    "# Train on Sub 1 Data"
   ]
  },
  {
   "cell_type": "code",
   "execution_count": 6,
   "metadata": {},
   "outputs": [
    {
     "name": "stderr",
     "output_type": "stream",
     "text": [
      "/Users/yubo/miniforge3/lib/python3.10/site-packages/torch/nn/modules/lazy.py:181: UserWarning: Lazy modules are a new feature under heavy development so changes to the API or functionality can happen at any moment.\n",
      "  warnings.warn('Lazy modules are a new feature under heavy development '\n"
     ]
    },
    {
     "name": "stdout",
     "output_type": "stream",
     "text": [
      "RNN(\n",
      "  (tdd): Sequential(\n",
      "    (0): Linear(in_features=22, out_features=40, bias=True)\n",
      "    (1): ELU(alpha=1.0)\n",
      "    (2): Dropout(p=0.5, inplace=False)\n",
      "  )\n",
      "  (chnnelwise_linear): Sequential(\n",
      "    (0): Linear(in_features=1000, out_features=500, bias=True)\n",
      "    (1): ELU(alpha=1.0)\n",
      "    (2): Dropout(p=0.5, inplace=False)\n",
      "  )\n",
      "  (bn): BatchNorm1d(40, eps=1e-05, momentum=0.1, affine=True, track_running_stats=True)\n",
      "  (lstm): LSTM(40, 50, num_layers=5, batch_first=True, dropout=0.3)\n",
      "  (linear2): Sequential(\n",
      "    (0): Flatten(start_dim=1, end_dim=-1)\n",
      "    (1): LazyLinear(in_features=0, out_features=10, bias=True)\n",
      "    (2): ELU(alpha=1.0)\n",
      "    (3): BatchNorm1d(10, eps=1e-05, momentum=0.1, affine=True, track_running_stats=True)\n",
      "    (4): Dropout(p=0.3, inplace=False)\n",
      "    (5): LazyLinear(in_features=0, out_features=4, bias=True)\n",
      "  )\n",
      "  (softmax): Softmax(dim=1)\n",
      ")\n"
     ]
    },
    {
     "data": {
      "text/plain": [
       "==========================================================================================\n",
       "Layer (type:depth-idx)                   Output Shape              Param #\n",
       "==========================================================================================\n",
       "RNN                                      [1, 4]                    500,500\n",
       "├─Sequential: 1-1                        [1, 1000, 40]             --\n",
       "│    └─Linear: 2-1                       [1, 1000, 40]             920\n",
       "│    └─ELU: 2-2                          [1, 1000, 40]             --\n",
       "│    └─Dropout: 2-3                      [1, 1000, 40]             --\n",
       "├─BatchNorm1d: 1-2                       [1, 40, 1000]             80\n",
       "├─LSTM: 1-3                              [1, 1000, 50]             100,000\n",
       "├─Sequential: 1-4                        [1, 4]                    --\n",
       "│    └─Flatten: 2-4                      [1, 50000]                --\n",
       "│    └─Linear: 2-5                       [1, 10]                   500,010\n",
       "│    └─ELU: 2-6                          [1, 10]                   --\n",
       "│    └─BatchNorm1d: 2-7                  [1, 10]                   20\n",
       "│    └─Dropout: 2-8                      [1, 10]                   --\n",
       "│    └─Linear: 2-9                       [1, 4]                    44\n",
       "├─Softmax: 1-5                           [1, 4]                    --\n",
       "==========================================================================================\n",
       "Total params: 1,101,574\n",
       "Trainable params: 1,101,574\n",
       "Non-trainable params: 0\n",
       "Total mult-adds (M): 100.50\n",
       "==========================================================================================\n",
       "Input size (MB): 0.09\n",
       "Forward/backward pass size (MB): 1.04\n",
       "Params size (MB): 2.40\n",
       "Estimated Total Size (MB): 3.53\n",
       "=========================================================================================="
      ]
     },
     "execution_count": 6,
     "metadata": {},
     "output_type": "execute_result"
    }
   ],
   "source": [
    "device = torch.device('mps')\n",
    "\n",
    "model = RNN()\n",
    "model = model.to(device)\n",
    "print(model)\n",
    "summary(model, input_size=(1, 22, 1000), device='mps')"
   ]
  },
  {
   "cell_type": "code",
   "execution_count": 8,
   "metadata": {},
   "outputs": [
    {
     "name": "stdout",
     "output_type": "stream",
     "text": [
      "Using device: mps\n"
     ]
    },
    {
     "name": "stderr",
     "output_type": "stream",
     "text": [
      "Epoch 0: 100%|██████████| 4/4 [00:01<00:00,  2.27batch/s, loss=1.3319]\n"
     ]
    },
    {
     "name": "stdout",
     "output_type": "stream",
     "text": [
      "[Epoch 0] val_acc=0.301775 train_acc=0.949749 val_loss=0.024255 train_loss=0.022517\n",
      "Validation loss decreased (inf --> 0.024255).  Saving model ...\n"
     ]
    },
    {
     "name": "stderr",
     "output_type": "stream",
     "text": [
      "Epoch 1: 100%|██████████| 4/4 [00:01<00:00,  2.33batch/s, loss=1.1258]\n"
     ]
    },
    {
     "name": "stdout",
     "output_type": "stream",
     "text": [
      "[Epoch 1] val_acc=0.310651 train_acc=0.939698 val_loss=0.024127 train_loss=0.021632\n",
      "Validation loss decreased (0.024255 --> 0.024127).  Saving model ...\n"
     ]
    },
    {
     "name": "stderr",
     "output_type": "stream",
     "text": [
      "Epoch 2: 100%|██████████| 4/4 [00:01<00:00,  2.42batch/s, loss=1.3655]\n"
     ]
    },
    {
     "name": "stdout",
     "output_type": "stream",
     "text": [
      "[Epoch 2] val_acc=0.331361 train_acc=0.924623 val_loss=0.024061 train_loss=0.022659\n",
      "Validation loss decreased (0.024127 --> 0.024061).  Saving model ...\n"
     ]
    },
    {
     "name": "stderr",
     "output_type": "stream",
     "text": [
      "Epoch 3: 100%|██████████| 4/4 [00:01<00:00,  2.36batch/s, loss=1.1257]\n"
     ]
    },
    {
     "name": "stdout",
     "output_type": "stream",
     "text": [
      "[Epoch 3] val_acc=0.349112 train_acc=0.944724 val_loss=0.024005 train_loss=0.021622\n",
      "Validation loss decreased (0.024061 --> 0.024005).  Saving model ...\n"
     ]
    },
    {
     "name": "stderr",
     "output_type": "stream",
     "text": [
      "Epoch 4: 100%|██████████| 4/4 [00:01<00:00,  2.39batch/s, loss=1.0674]\n"
     ]
    },
    {
     "name": "stdout",
     "output_type": "stream",
     "text": [
      "[Epoch 4] val_acc=0.322485 train_acc=0.954774 val_loss=0.024104 train_loss=0.021120\n",
      "EarlyStopping counter: 1 out of 30\n"
     ]
    },
    {
     "name": "stderr",
     "output_type": "stream",
     "text": [
      "Epoch 5: 100%|██████████| 4/4 [00:01<00:00,  2.37batch/s, loss=0.9880]\n"
     ]
    },
    {
     "name": "stdout",
     "output_type": "stream",
     "text": [
      "[Epoch 5] val_acc=0.301775 train_acc=0.979899 val_loss=0.024261 train_loss=0.020357\n",
      "EarlyStopping counter: 2 out of 30\n"
     ]
    },
    {
     "name": "stderr",
     "output_type": "stream",
     "text": [
      "Epoch 6: 100%|██████████| 4/4 [00:01<00:00,  2.37batch/s, loss=1.0300]\n"
     ]
    },
    {
     "name": "stdout",
     "output_type": "stream",
     "text": [
      "[Epoch 6] val_acc=0.307692 train_acc=0.979899 val_loss=0.024257 train_loss=0.020443\n",
      "EarlyStopping counter: 3 out of 30\n"
     ]
    },
    {
     "name": "stderr",
     "output_type": "stream",
     "text": [
      "Epoch 7: 100%|██████████| 4/4 [00:01<00:00,  2.38batch/s, loss=0.9669]\n"
     ]
    },
    {
     "name": "stdout",
     "output_type": "stream",
     "text": [
      "[Epoch 7] val_acc=0.322485 train_acc=0.974874 val_loss=0.024173 train_loss=0.020101\n",
      "EarlyStopping counter: 4 out of 30\n"
     ]
    },
    {
     "name": "stderr",
     "output_type": "stream",
     "text": [
      "Epoch 8: 100%|██████████| 4/4 [00:01<00:00,  2.39batch/s, loss=1.0451]\n"
     ]
    },
    {
     "name": "stdout",
     "output_type": "stream",
     "text": [
      "[Epoch 8] val_acc=0.319527 train_acc=0.974874 val_loss=0.024199 train_loss=0.020509\n",
      "EarlyStopping counter: 5 out of 30\n"
     ]
    },
    {
     "name": "stderr",
     "output_type": "stream",
     "text": [
      "Epoch 9: 100%|██████████| 4/4 [00:01<00:00,  2.31batch/s, loss=1.0401]\n"
     ]
    },
    {
     "name": "stdout",
     "output_type": "stream",
     "text": [
      "[Epoch 9] val_acc=0.310651 train_acc=0.974874 val_loss=0.024295 train_loss=0.020381\n",
      "EarlyStopping counter: 6 out of 30\n"
     ]
    },
    {
     "name": "stderr",
     "output_type": "stream",
     "text": [
      "Epoch 10: 100%|██████████| 4/4 [00:01<00:00,  2.38batch/s, loss=1.0453]\n"
     ]
    },
    {
     "name": "stdout",
     "output_type": "stream",
     "text": [
      "[Epoch 10] val_acc=0.307692 train_acc=0.974874 val_loss=0.024303 train_loss=0.020301\n",
      "EarlyStopping counter: 7 out of 30\n"
     ]
    },
    {
     "name": "stderr",
     "output_type": "stream",
     "text": [
      "Epoch 11: 100%|██████████| 4/4 [00:01<00:00,  2.32batch/s, loss=0.9829]\n"
     ]
    },
    {
     "name": "stdout",
     "output_type": "stream",
     "text": [
      "[Epoch 11] val_acc=0.307692 train_acc=0.974874 val_loss=0.024311 train_loss=0.019995\n",
      "EarlyStopping counter: 8 out of 30\n"
     ]
    },
    {
     "name": "stderr",
     "output_type": "stream",
     "text": [
      "Epoch 12: 100%|██████████| 4/4 [00:01<00:00,  2.32batch/s, loss=1.0125]\n"
     ]
    },
    {
     "name": "stdout",
     "output_type": "stream",
     "text": [
      "[Epoch 12] val_acc=0.298817 train_acc=0.989950 val_loss=0.024494 train_loss=0.020045\n",
      "EarlyStopping counter: 9 out of 30\n"
     ]
    },
    {
     "name": "stderr",
     "output_type": "stream",
     "text": [
      "Epoch 13: 100%|██████████| 4/4 [00:01<00:00,  2.39batch/s, loss=1.0231]\n"
     ]
    },
    {
     "name": "stdout",
     "output_type": "stream",
     "text": [
      "[Epoch 13] val_acc=0.292899 train_acc=0.984925 val_loss=0.024495 train_loss=0.020044\n",
      "EarlyStopping counter: 10 out of 30\n"
     ]
    },
    {
     "name": "stderr",
     "output_type": "stream",
     "text": [
      "Epoch 14: 100%|██████████| 4/4 [00:01<00:00,  2.36batch/s, loss=1.0312]\n"
     ]
    },
    {
     "name": "stdout",
     "output_type": "stream",
     "text": [
      "[Epoch 14] val_acc=0.295858 train_acc=0.979899 val_loss=0.024418 train_loss=0.019911\n",
      "EarlyStopping counter: 11 out of 30\n"
     ]
    },
    {
     "name": "stderr",
     "output_type": "stream",
     "text": [
      "Epoch 15: 100%|██████████| 4/4 [00:01<00:00,  2.30batch/s, loss=0.9680]\n"
     ]
    },
    {
     "name": "stdout",
     "output_type": "stream",
     "text": [
      "[Epoch 15] val_acc=0.331361 train_acc=0.969849 val_loss=0.024306 train_loss=0.019839\n",
      "EarlyStopping counter: 12 out of 30\n"
     ]
    },
    {
     "name": "stderr",
     "output_type": "stream",
     "text": [
      "Epoch 16: 100%|██████████| 4/4 [00:01<00:00,  2.36batch/s, loss=1.0021]\n"
     ]
    },
    {
     "name": "stdout",
     "output_type": "stream",
     "text": [
      "[Epoch 16] val_acc=0.331361 train_acc=0.989950 val_loss=0.024275 train_loss=0.019758\n",
      "EarlyStopping counter: 13 out of 30\n"
     ]
    },
    {
     "name": "stderr",
     "output_type": "stream",
     "text": [
      "Epoch 17: 100%|██████████| 4/4 [00:01<00:00,  2.43batch/s, loss=1.0338]\n"
     ]
    },
    {
     "name": "stdout",
     "output_type": "stream",
     "text": [
      "[Epoch 17] val_acc=0.313609 train_acc=0.984925 val_loss=0.024243 train_loss=0.020020\n",
      "EarlyStopping counter: 14 out of 30\n"
     ]
    },
    {
     "name": "stderr",
     "output_type": "stream",
     "text": [
      "Epoch 18: 100%|██████████| 4/4 [00:01<00:00,  2.40batch/s, loss=1.2437]\n"
     ]
    },
    {
     "name": "stdout",
     "output_type": "stream",
     "text": [
      "[Epoch 18] val_acc=0.319527 train_acc=0.979899 val_loss=0.024294 train_loss=0.020822\n",
      "EarlyStopping counter: 15 out of 30\n"
     ]
    },
    {
     "name": "stderr",
     "output_type": "stream",
     "text": [
      "Epoch 19: 100%|██████████| 4/4 [00:01<00:00,  2.41batch/s, loss=1.0295]\n"
     ]
    },
    {
     "name": "stdout",
     "output_type": "stream",
     "text": [
      "[Epoch 19] val_acc=0.316568 train_acc=0.979899 val_loss=0.024366 train_loss=0.019671\n",
      "EarlyStopping counter: 16 out of 30\n"
     ]
    },
    {
     "name": "stderr",
     "output_type": "stream",
     "text": [
      "Epoch 20: 100%|██████████| 4/4 [00:01<00:00,  2.38batch/s, loss=1.1110]\n"
     ]
    },
    {
     "name": "stdout",
     "output_type": "stream",
     "text": [
      "[Epoch 20] val_acc=0.316568 train_acc=0.979899 val_loss=0.024285 train_loss=0.020407\n",
      "EarlyStopping counter: 17 out of 30\n"
     ]
    },
    {
     "name": "stderr",
     "output_type": "stream",
     "text": [
      "Epoch 21: 100%|██████████| 4/4 [00:01<00:00,  2.32batch/s, loss=0.9406]\n"
     ]
    },
    {
     "name": "stdout",
     "output_type": "stream",
     "text": [
      "[Epoch 21] val_acc=0.322485 train_acc=0.989950 val_loss=0.024203 train_loss=0.019304\n",
      "EarlyStopping counter: 18 out of 30\n"
     ]
    },
    {
     "name": "stderr",
     "output_type": "stream",
     "text": [
      "Epoch 22: 100%|██████████| 4/4 [00:01<00:00,  2.33batch/s, loss=0.9571]\n"
     ]
    },
    {
     "name": "stdout",
     "output_type": "stream",
     "text": [
      "[Epoch 22] val_acc=0.301775 train_acc=0.979899 val_loss=0.024207 train_loss=0.019327\n",
      "EarlyStopping counter: 19 out of 30\n"
     ]
    },
    {
     "name": "stderr",
     "output_type": "stream",
     "text": [
      "Epoch 23: 100%|██████████| 4/4 [00:01<00:00,  2.26batch/s, loss=0.9504]\n"
     ]
    },
    {
     "name": "stdout",
     "output_type": "stream",
     "text": [
      "[Epoch 23] val_acc=0.289941 train_acc=0.974874 val_loss=0.024377 train_loss=0.019191\n",
      "EarlyStopping counter: 20 out of 30\n"
     ]
    },
    {
     "name": "stderr",
     "output_type": "stream",
     "text": [
      "Epoch 24: 100%|██████████| 4/4 [00:01<00:00,  2.34batch/s, loss=1.0416]\n"
     ]
    },
    {
     "name": "stdout",
     "output_type": "stream",
     "text": [
      "[Epoch 24] val_acc=0.307692 train_acc=0.989950 val_loss=0.024329 train_loss=0.019648\n",
      "EarlyStopping counter: 21 out of 30\n"
     ]
    },
    {
     "name": "stderr",
     "output_type": "stream",
     "text": [
      "Epoch 25: 100%|██████████| 4/4 [00:01<00:00,  2.41batch/s, loss=1.0410]\n"
     ]
    },
    {
     "name": "stdout",
     "output_type": "stream",
     "text": [
      "[Epoch 25] val_acc=0.313609 train_acc=0.989950 val_loss=0.024189 train_loss=0.019489\n",
      "EarlyStopping counter: 22 out of 30\n"
     ]
    },
    {
     "name": "stderr",
     "output_type": "stream",
     "text": [
      "Epoch 26: 100%|██████████| 4/4 [00:01<00:00,  2.38batch/s, loss=0.9625]\n"
     ]
    },
    {
     "name": "stdout",
     "output_type": "stream",
     "text": [
      "[Epoch 26] val_acc=0.316568 train_acc=0.979899 val_loss=0.024215 train_loss=0.019137\n",
      "EarlyStopping counter: 23 out of 30\n"
     ]
    },
    {
     "name": "stderr",
     "output_type": "stream",
     "text": [
      "Epoch 27: 100%|██████████| 4/4 [00:01<00:00,  2.36batch/s, loss=1.0093]\n"
     ]
    },
    {
     "name": "stdout",
     "output_type": "stream",
     "text": [
      "[Epoch 27] val_acc=0.292899 train_acc=0.984925 val_loss=0.024342 train_loss=0.019412\n",
      "EarlyStopping counter: 24 out of 30\n"
     ]
    },
    {
     "name": "stderr",
     "output_type": "stream",
     "text": [
      "Epoch 28: 100%|██████████| 4/4 [00:01<00:00,  2.40batch/s, loss=0.9453]\n"
     ]
    },
    {
     "name": "stdout",
     "output_type": "stream",
     "text": [
      "[Epoch 28] val_acc=0.278107 train_acc=0.984925 val_loss=0.024492 train_loss=0.018996\n",
      "EarlyStopping counter: 25 out of 30\n"
     ]
    },
    {
     "name": "stderr",
     "output_type": "stream",
     "text": [
      "Epoch 29: 100%|██████████| 4/4 [00:01<00:00,  2.37batch/s, loss=0.9183]\n"
     ]
    },
    {
     "name": "stdout",
     "output_type": "stream",
     "text": [
      "[Epoch 29] val_acc=0.316568 train_acc=0.994975 val_loss=0.024344 train_loss=0.018849\n",
      "EarlyStopping counter: 26 out of 30\n"
     ]
    },
    {
     "name": "stderr",
     "output_type": "stream",
     "text": [
      "Epoch 30: 100%|██████████| 4/4 [00:01<00:00,  2.37batch/s, loss=0.9483]\n"
     ]
    },
    {
     "name": "stdout",
     "output_type": "stream",
     "text": [
      "[Epoch 30] val_acc=0.328402 train_acc=0.994975 val_loss=0.024237 train_loss=0.018974\n",
      "EarlyStopping counter: 27 out of 30\n"
     ]
    },
    {
     "name": "stderr",
     "output_type": "stream",
     "text": [
      "Epoch 31: 100%|██████████| 4/4 [00:01<00:00,  2.39batch/s, loss=0.9719]\n"
     ]
    },
    {
     "name": "stdout",
     "output_type": "stream",
     "text": [
      "[Epoch 31] val_acc=0.328402 train_acc=0.994975 val_loss=0.024190 train_loss=0.019008\n",
      "EarlyStopping counter: 28 out of 30\n"
     ]
    },
    {
     "name": "stderr",
     "output_type": "stream",
     "text": [
      "Epoch 32: 100%|██████████| 4/4 [00:01<00:00,  2.38batch/s, loss=1.0327]\n"
     ]
    },
    {
     "name": "stdout",
     "output_type": "stream",
     "text": [
      "[Epoch 32] val_acc=0.319527 train_acc=0.994975 val_loss=0.024168 train_loss=0.019179\n",
      "EarlyStopping counter: 29 out of 30\n"
     ]
    },
    {
     "name": "stderr",
     "output_type": "stream",
     "text": [
      "Epoch 33: 100%|██████████| 4/4 [00:01<00:00,  2.39batch/s, loss=0.9711]\n"
     ]
    },
    {
     "name": "stdout",
     "output_type": "stream",
     "text": [
      "[Epoch 33] val_acc=0.322485 train_acc=1.000000 val_loss=0.024206 train_loss=0.018961\n",
      "EarlyStopping counter: 30 out of 30\n",
      "Early stopping.\n"
     ]
    }
   ],
   "source": [
    "sub_model = model\n",
    "sub_model.to(device)\n",
    "\n",
    "optimizer = torch.optim.Adam(sub_model.parameters(), lr=0.001,  weight_decay=0.000001)\n",
    "scheduler = torch.optim.lr_scheduler.ReduceLROnPlateau(optimizer, mode='min', factor=0.5, patience=5, verbose=True)\n",
    "\n",
    "tr_loader = train_sub_loader\n",
    "\n",
    "train_loss_hist, train_acc_hist, val_loss_hist, val_acc_hist = train(\n",
    "    model=sub_model,\n",
    "    optimizer=optimizer,\n",
    "    loss_func=nn.CrossEntropyLoss(),\n",
    "    train_data=tr_loader,\n",
    "    val_data=val_loader,\n",
    "    early_stopping_patience=30,\n",
    "    scheduler=scheduler,\n",
    "    cp_path=\"models/rnn\",\n",
    "    cp_filename=\"sub.pt\",\n",
    "    n_epochs=100,\n",
    "    show_progress_bar=True,\n",
    ")"
   ]
  },
  {
   "cell_type": "code",
   "execution_count": 9,
   "metadata": {},
   "outputs": [
    {
     "data": {
      "text/plain": [
       "<matplotlib.legend.Legend at 0x29e26ae60>"
      ]
     },
     "execution_count": 9,
     "metadata": {},
     "output_type": "execute_result"
    },
    {
     "data": {
      "image/png": "[encoded data removed]",
      "text/plain": [
       "<Figure size 640x480 with 1 Axes>"
      ]
     },
     "metadata": {},
     "output_type": "display_data"
    }
   ],
   "source": [
    "plt.plot(train_loss_hist, label=\"Train Loss\")\n",
    "plt.plot(val_loss_hist, label=\"Val Loss\")\n",
    "plt.title(\"Sub1 Data Model Losses\")\n",
    "plt.xlabel(\"Epoch\")\n",
    "plt.ylabel(\"Loss\")\n",
    "plt.legend()"
   ]
  },
  {
   "cell_type": "code",
   "execution_count": 10,
   "metadata": {},
   "outputs": [
    {
     "data": {
      "text/plain": [
       "<matplotlib.legend.Legend at 0x29e311840>"
      ]
     },
     "execution_count": 10,
     "metadata": {},
     "output_type": "execute_result"
    },
    {
     "data": {
      "image/png": "[encoded data removed]",
      "text/plain": [
       "<Figure size 640x480 with 1 Axes>"
      ]
     },
     "metadata": {},
     "output_type": "display_data"
    }
   ],
   "source": [
    "plt.plot(train_acc_hist, label=\"Train Acc\")\n",
    "plt.plot(val_acc_hist, label=\"Val Acc\")\n",
    "plt.title(\"Sub1 Data Model Accuracies\")\n",
    "plt.xlabel(\"Epoch\")\n",
    "plt.ylabel(\"Accuracy\")\n",
    "plt.legend()"
   ]
  },
  {
   "cell_type": "code",
   "execution_count": 11,
   "metadata": {},
   "outputs": [
    {
     "data": {
      "text/plain": [
       "RNN(\n",
       "  (tdd): Sequential(\n",
       "    (0): Linear(in_features=22, out_features=40, bias=True)\n",
       "    (1): ELU(alpha=1.0)\n",
       "    (2): Dropout(p=0.5, inplace=False)\n",
       "  )\n",
       "  (chnnelwise_linear): Sequential(\n",
       "    (0): Linear(in_features=1000, out_features=500, bias=True)\n",
       "    (1): ELU(alpha=1.0)\n",
       "    (2): Dropout(p=0.5, inplace=False)\n",
       "  )\n",
       "  (bn): BatchNorm1d(40, eps=1e-05, momentum=0.1, affine=True, track_running_stats=True)\n",
       "  (lstm): LSTM(40, 50, num_layers=5, batch_first=True, dropout=0.3)\n",
       "  (linear2): Sequential(\n",
       "    (0): Flatten(start_dim=1, end_dim=-1)\n",
       "    (1): Linear(in_features=50000, out_features=10, bias=True)\n",
       "    (2): ELU(alpha=1.0)\n",
       "    (3): BatchNorm1d(10, eps=1e-05, momentum=0.1, affine=True, track_running_stats=True)\n",
       "    (4): Dropout(p=0.3, inplace=False)\n",
       "    (5): Linear(in_features=10, out_features=4, bias=True)\n",
       "  )\n",
       "  (softmax): Softmax(dim=1)\n",
       ")"
      ]
     },
     "execution_count": 11,
     "metadata": {},
     "output_type": "execute_result"
    }
   ],
   "source": [
    "# Load best model and test\n",
    "sub1_model = torch.load(\"models/rnn/sub.pt\")\n",
    "sub1_model.to(device)\n",
    "sub1_model.eval()"
   ]
  },
  {
   "cell_type": "code",
   "execution_count": 12,
   "metadata": {},
   "outputs": [
    {
     "name": "stdout",
     "output_type": "stream",
     "text": [
      "Train on sub1 data, evaluate on sub1 data\n",
      "Test Acc: 0.2400\n"
     ]
    }
   ],
   "source": [
    "# Evaluate on sub1 data\n",
    "test_acc = 0\n",
    "with torch.no_grad():\n",
    "    for X, y in test_sub_loader:\n",
    "        X, y = X.to(device), y.to(device)\n",
    "        y_pred = sub1_model(X)\n",
    "        test_acc += (y_pred.argmax(dim=1) == y.argmax(dim=1)).sum().item()\n",
    "test_acc /= len(test_sub_loader.dataset)\n",
    "print(\"Train on sub1 data, evaluate on sub1 data\")\n",
    "print(f\"Test Acc: {test_acc:.4f}\")"
   ]
  },
  {
   "cell_type": "markdown",
   "metadata": {},
   "source": [
    "## Time Series"
   ]
  },
  {
   "cell_type": "code",
   "execution_count": 13,
   "metadata": {},
   "outputs": [],
   "source": [
    "time_slots = [50, 100, 150, 200, 250, 500, 750, 1000]"
   ]
  },
  {
   "cell_type": "code",
   "execution_count": 15,
   "metadata": {},
   "outputs": [
    {
     "name": "stderr",
     "output_type": "stream",
     "text": [
      "/Users/yubo/miniforge3/lib/python3.10/site-packages/torch/nn/modules/lazy.py:181: UserWarning: Lazy modules are a new feature under heavy development so changes to the API or functionality can happen at any moment.\n",
      "  warnings.warn('Lazy modules are a new feature under heavy development '\n",
      "/Users/yubo/miniforge3/lib/python3.10/site-packages/torch/optim/lr_scheduler.py:28: UserWarning: The verbose parameter is deprecated. Please use get_last_lr() to access the learning rate.\n",
      "  warnings.warn(\"The verbose parameter is deprecated. Please use get_last_lr() \"\n"
     ]
    },
    {
     "name": "stdout",
     "output_type": "stream",
     "text": [
      "Using device: mps\n",
      "[Epoch 0] val_acc=0.316568 train_acc=0.293754 val_loss=0.024374 train_loss=0.021795\n",
      "Validation loss decreased (inf --> 0.024374).  Saving model ...\n",
      "[Epoch 1] val_acc=0.337278 train_acc=0.344963 val_loss=0.024070 train_loss=0.021408\n",
      "Validation loss decreased (0.024374 --> 0.024070).  Saving model ...\n",
      "[Epoch 2] val_acc=0.381657 train_acc=0.370287 val_loss=0.023973 train_loss=0.021223\n",
      "Validation loss decreased (0.024070 --> 0.023973).  Saving model ...\n",
      "[Epoch 3] val_acc=0.357988 train_acc=0.360720 val_loss=0.023903 train_loss=0.021260\n",
      "Validation loss decreased (0.023973 --> 0.023903).  Saving model ...\n",
      "[Epoch 4] val_acc=0.384615 train_acc=0.384918 val_loss=0.023858 train_loss=0.021124\n",
      "Validation loss decreased (0.023903 --> 0.023858).  Saving model ...\n",
      "[Epoch 5] val_acc=0.349112 train_acc=0.384356 val_loss=0.023924 train_loss=0.021157\n",
      "EarlyStopping counter: 1 out of 30\n",
      "[Epoch 6] val_acc=0.331361 train_acc=0.371412 val_loss=0.024082 train_loss=0.021119\n",
      "EarlyStopping counter: 2 out of 30\n",
      "[Epoch 7] val_acc=0.387574 train_acc=0.380416 val_loss=0.023856 train_loss=0.021095\n",
      "Validation loss decreased (0.023858 --> 0.023856).  Saving model ...\n",
      "[Epoch 8] val_acc=0.331361 train_acc=0.393360 val_loss=0.023992 train_loss=0.020965\n",
      "EarlyStopping counter: 1 out of 30\n",
      "[Epoch 9] val_acc=0.355030 train_acc=0.379291 val_loss=0.023975 train_loss=0.021019\n",
      "EarlyStopping counter: 2 out of 30\n",
      "[Epoch 10] val_acc=0.346154 train_acc=0.389983 val_loss=0.023953 train_loss=0.021087\n",
      "EarlyStopping counter: 3 out of 30\n",
      "[Epoch 11] val_acc=0.375740 train_acc=0.382667 val_loss=0.023764 train_loss=0.021084\n",
      "Validation loss decreased (0.023856 --> 0.023764).  Saving model ...\n",
      "[Epoch 12] val_acc=0.331361 train_acc=0.393922 val_loss=0.024019 train_loss=0.020957\n",
      "EarlyStopping counter: 1 out of 30\n",
      "[Epoch 13] val_acc=0.334320 train_acc=0.382667 val_loss=0.024250 train_loss=0.021035\n",
      "EarlyStopping counter: 2 out of 30\n",
      "[Epoch 14] val_acc=0.343195 train_acc=0.369724 val_loss=0.024101 train_loss=0.021181\n",
      "EarlyStopping counter: 3 out of 30\n",
      "[Epoch 15] val_acc=0.357988 train_acc=0.364660 val_loss=0.024029 train_loss=0.021216\n",
      "EarlyStopping counter: 4 out of 30\n",
      "[Epoch 16] val_acc=0.325444 train_acc=0.381542 val_loss=0.024286 train_loss=0.021073\n",
      "EarlyStopping counter: 5 out of 30\n",
      "[Epoch 17] val_acc=0.286982 train_acc=0.387169 val_loss=0.024729 train_loss=0.021078\n",
      "EarlyStopping counter: 6 out of 30\n",
      "[Epoch 18] val_acc=0.316568 train_acc=0.365222 val_loss=0.023956 train_loss=0.021191\n",
      "EarlyStopping counter: 7 out of 30\n",
      "[Epoch 19] val_acc=0.369822 train_acc=0.380416 val_loss=0.023869 train_loss=0.021056\n",
      "EarlyStopping counter: 8 out of 30\n",
      "[Epoch 20] val_acc=0.357988 train_acc=0.385481 val_loss=0.023779 train_loss=0.021042\n",
      "EarlyStopping counter: 9 out of 30\n",
      "[Epoch 21] val_acc=0.360947 train_acc=0.382105 val_loss=0.023770 train_loss=0.021111\n",
      "EarlyStopping counter: 10 out of 30\n",
      "[Epoch 22] val_acc=0.375740 train_acc=0.391109 val_loss=0.023835 train_loss=0.020992\n",
      "EarlyStopping counter: 11 out of 30\n",
      "[Epoch 23] val_acc=0.369822 train_acc=0.368599 val_loss=0.023903 train_loss=0.021076\n",
      "EarlyStopping counter: 12 out of 30\n",
      "[Epoch 24] val_acc=0.334320 train_acc=0.396736 val_loss=0.024136 train_loss=0.020999\n",
      "EarlyStopping counter: 13 out of 30\n",
      "[Epoch 25] val_acc=0.366864 train_acc=0.387169 val_loss=0.023758 train_loss=0.021015\n",
      "Validation loss decreased (0.023764 --> 0.023758).  Saving model ...\n",
      "[Epoch 26] val_acc=0.372781 train_acc=0.371412 val_loss=0.023897 train_loss=0.021085\n",
      "EarlyStopping counter: 1 out of 30\n",
      "[Epoch 27] val_acc=0.378698 train_acc=0.395611 val_loss=0.023727 train_loss=0.021003\n",
      "Validation loss decreased (0.023758 --> 0.023727).  Saving model ...\n",
      "[Epoch 28] val_acc=0.390533 train_acc=0.373663 val_loss=0.023682 train_loss=0.021041\n",
      "Validation loss decreased (0.023727 --> 0.023682).  Saving model ...\n",
      "[Epoch 29] val_acc=0.402367 train_acc=0.367473 val_loss=0.023728 train_loss=0.021048\n",
      "EarlyStopping counter: 1 out of 30\n",
      "[Epoch 30] val_acc=0.384615 train_acc=0.403489 val_loss=0.023760 train_loss=0.020949\n",
      "EarlyStopping counter: 2 out of 30\n",
      "[Epoch 31] val_acc=0.384615 train_acc=0.389420 val_loss=0.023696 train_loss=0.020993\n",
      "EarlyStopping counter: 3 out of 30\n",
      "[Epoch 32] val_acc=0.384615 train_acc=0.411930 val_loss=0.023658 train_loss=0.020908\n",
      "Validation loss decreased (0.023682 --> 0.023658).  Saving model ...\n",
      "[Epoch 33] val_acc=0.363905 train_acc=0.405177 val_loss=0.023754 train_loss=0.020918\n",
      "EarlyStopping counter: 1 out of 30\n",
      "[Epoch 34] val_acc=0.372781 train_acc=0.391671 val_loss=0.023733 train_loss=0.020997\n",
      "EarlyStopping counter: 2 out of 30\n",
      "[Epoch 35] val_acc=0.411243 train_acc=0.372538 val_loss=0.023611 train_loss=0.021042\n",
      "Validation loss decreased (0.023658 --> 0.023611).  Saving model ...\n",
      "[Epoch 36] val_acc=0.369822 train_acc=0.397299 val_loss=0.023759 train_loss=0.020934\n",
      "EarlyStopping counter: 1 out of 30\n",
      "[Epoch 37] val_acc=0.387574 train_acc=0.389420 val_loss=0.023679 train_loss=0.021011\n",
      "EarlyStopping counter: 2 out of 30\n",
      "[Epoch 38] val_acc=0.378698 train_acc=0.391109 val_loss=0.023625 train_loss=0.020982\n",
      "EarlyStopping counter: 3 out of 30\n",
      "[Epoch 39] val_acc=0.375740 train_acc=0.390546 val_loss=0.023638 train_loss=0.021017\n",
      "EarlyStopping counter: 4 out of 30\n",
      "[Epoch 40] val_acc=0.387574 train_acc=0.393922 val_loss=0.023663 train_loss=0.021022\n",
      "EarlyStopping counter: 5 out of 30\n",
      "[Epoch 41] val_acc=0.393491 train_acc=0.378728 val_loss=0.023676 train_loss=0.021021\n",
      "EarlyStopping counter: 6 out of 30\n",
      "[Epoch 42] val_acc=0.381657 train_acc=0.388295 val_loss=0.023601 train_loss=0.020928\n",
      "Validation loss decreased (0.023611 --> 0.023601).  Saving model ...\n",
      "[Epoch 43] val_acc=0.387574 train_acc=0.410805 val_loss=0.023644 train_loss=0.020929\n",
      "EarlyStopping counter: 1 out of 30\n",
      "[Epoch 44] val_acc=0.408284 train_acc=0.400113 val_loss=0.023659 train_loss=0.020916\n",
      "EarlyStopping counter: 2 out of 30\n",
      "[Epoch 45] val_acc=0.396450 train_acc=0.384918 val_loss=0.023678 train_loss=0.021006\n",
      "EarlyStopping counter: 3 out of 30\n",
      "[Epoch 46] val_acc=0.396450 train_acc=0.389983 val_loss=0.023702 train_loss=0.020986\n",
      "EarlyStopping counter: 4 out of 30\n",
      "[Epoch 47] val_acc=0.384615 train_acc=0.393922 val_loss=0.023687 train_loss=0.020933\n",
      "EarlyStopping counter: 5 out of 30\n",
      "[Epoch 48] val_acc=0.411243 train_acc=0.415307 val_loss=0.023678 train_loss=0.020859\n",
      "EarlyStopping counter: 6 out of 30\n",
      "[Epoch 49] val_acc=0.387574 train_acc=0.404052 val_loss=0.023675 train_loss=0.020912\n",
      "EarlyStopping counter: 7 out of 30\n",
      "[Epoch 50] val_acc=0.375740 train_acc=0.396173 val_loss=0.023710 train_loss=0.020949\n",
      "EarlyStopping counter: 8 out of 30\n",
      "[Epoch 51] val_acc=0.405325 train_acc=0.405177 val_loss=0.023708 train_loss=0.020864\n",
      "EarlyStopping counter: 9 out of 30\n",
      "[Epoch 52] val_acc=0.381657 train_acc=0.401801 val_loss=0.023691 train_loss=0.020937\n",
      "EarlyStopping counter: 10 out of 30\n",
      "[Epoch 53] val_acc=0.369822 train_acc=0.381542 val_loss=0.023706 train_loss=0.021030\n",
      "EarlyStopping counter: 11 out of 30\n",
      "[Epoch 54] val_acc=0.369822 train_acc=0.411367 val_loss=0.023690 train_loss=0.020842\n",
      "EarlyStopping counter: 12 out of 30\n",
      "[Epoch 55] val_acc=0.390533 train_acc=0.405740 val_loss=0.023684 train_loss=0.020881\n",
      "EarlyStopping counter: 13 out of 30\n",
      "[Epoch 56] val_acc=0.378698 train_acc=0.396173 val_loss=0.023740 train_loss=0.020955\n",
      "EarlyStopping counter: 14 out of 30\n",
      "[Epoch 57] val_acc=0.390533 train_acc=0.384356 val_loss=0.023704 train_loss=0.021039\n",
      "EarlyStopping counter: 15 out of 30\n",
      "[Epoch 58] val_acc=0.402367 train_acc=0.391671 val_loss=0.023664 train_loss=0.020937\n",
      "EarlyStopping counter: 16 out of 30\n",
      "[Epoch 59] val_acc=0.399408 train_acc=0.389983 val_loss=0.023640 train_loss=0.020966\n",
      "EarlyStopping counter: 17 out of 30\n",
      "[Epoch 60] val_acc=0.402367 train_acc=0.391671 val_loss=0.023682 train_loss=0.020906\n",
      "EarlyStopping counter: 18 out of 30\n",
      "[Epoch 61] val_acc=0.399408 train_acc=0.405740 val_loss=0.023699 train_loss=0.020912\n",
      "EarlyStopping counter: 19 out of 30\n",
      "[Epoch 62] val_acc=0.396450 train_acc=0.403489 val_loss=0.023706 train_loss=0.020883\n",
      "EarlyStopping counter: 20 out of 30\n",
      "[Epoch 63] val_acc=0.396450 train_acc=0.385481 val_loss=0.023695 train_loss=0.021002\n",
      "EarlyStopping counter: 21 out of 30\n",
      "[Epoch 64] val_acc=0.408284 train_acc=0.398987 val_loss=0.023701 train_loss=0.021023\n",
      "EarlyStopping counter: 22 out of 30\n",
      "[Epoch 65] val_acc=0.399408 train_acc=0.399550 val_loss=0.023700 train_loss=0.020993\n",
      "EarlyStopping counter: 23 out of 30\n",
      "[Epoch 66] val_acc=0.399408 train_acc=0.395611 val_loss=0.023675 train_loss=0.020896\n",
      "EarlyStopping counter: 24 out of 30\n",
      "[Epoch 67] val_acc=0.396450 train_acc=0.403489 val_loss=0.023683 train_loss=0.020930\n",
      "EarlyStopping counter: 25 out of 30\n",
      "[Epoch 68] val_acc=0.390533 train_acc=0.411930 val_loss=0.023668 train_loss=0.020923\n",
      "EarlyStopping counter: 26 out of 30\n",
      "[Epoch 69] val_acc=0.393491 train_acc=0.404615 val_loss=0.023679 train_loss=0.020921\n",
      "EarlyStopping counter: 27 out of 30\n",
      "[Epoch 70] val_acc=0.396450 train_acc=0.394485 val_loss=0.023682 train_loss=0.020914\n",
      "EarlyStopping counter: 28 out of 30\n",
      "[Epoch 71] val_acc=0.393491 train_acc=0.380416 val_loss=0.023673 train_loss=0.021017\n",
      "EarlyStopping counter: 29 out of 30\n",
      "[Epoch 72] val_acc=0.393491 train_acc=0.403489 val_loss=0.023687 train_loss=0.020931\n",
      "EarlyStopping counter: 30 out of 30\n",
      "Early stopping.\n",
      "Using device: mps\n",
      "[Epoch 0] val_acc=0.349112 train_acc=0.290940 val_loss=0.024254 train_loss=0.021767\n",
      "Validation loss decreased (inf --> 0.024254).  Saving model ...\n",
      "[Epoch 1] val_acc=0.366864 train_acc=0.380979 val_loss=0.024031 train_loss=0.021242\n",
      "Validation loss decreased (0.024254 --> 0.024031).  Saving model ...\n",
      "[Epoch 2] val_acc=0.375740 train_acc=0.396173 val_loss=0.023788 train_loss=0.021093\n",
      "Validation loss decreased (0.024031 --> 0.023788).  Saving model ...\n",
      "[Epoch 3] val_acc=0.343195 train_acc=0.403489 val_loss=0.023948 train_loss=0.021003\n",
      "EarlyStopping counter: 1 out of 30\n",
      "[Epoch 4] val_acc=0.352071 train_acc=0.411367 val_loss=0.024036 train_loss=0.020930\n",
      "EarlyStopping counter: 2 out of 30\n",
      "[Epoch 5] val_acc=0.355030 train_acc=0.428813 val_loss=0.023834 train_loss=0.020860\n",
      "EarlyStopping counter: 3 out of 30\n",
      "[Epoch 6] val_acc=0.381657 train_acc=0.416432 val_loss=0.023804 train_loss=0.020787\n",
      "EarlyStopping counter: 4 out of 30\n",
      "[Epoch 7] val_acc=0.340237 train_acc=0.413618 val_loss=0.024009 train_loss=0.020856\n",
      "EarlyStopping counter: 5 out of 30\n",
      "[Epoch 8] val_acc=0.363905 train_acc=0.405740 val_loss=0.023844 train_loss=0.020958\n",
      "EarlyStopping counter: 6 out of 30\n",
      "[Epoch 9] val_acc=0.340237 train_acc=0.385481 val_loss=0.024103 train_loss=0.021034\n",
      "EarlyStopping counter: 7 out of 30\n",
      "[Epoch 10] val_acc=0.316568 train_acc=0.389983 val_loss=0.024102 train_loss=0.021060\n",
      "EarlyStopping counter: 8 out of 30\n",
      "[Epoch 11] val_acc=0.319527 train_acc=0.370287 val_loss=0.024141 train_loss=0.021181\n",
      "EarlyStopping counter: 9 out of 30\n",
      "[Epoch 12] val_acc=0.366864 train_acc=0.382105 val_loss=0.023725 train_loss=0.021131\n",
      "Validation loss decreased (0.023788 --> 0.023725).  Saving model ...\n",
      "[Epoch 13] val_acc=0.375740 train_acc=0.396736 val_loss=0.023733 train_loss=0.021028\n",
      "EarlyStopping counter: 1 out of 30\n",
      "[Epoch 14] val_acc=0.363905 train_acc=0.400113 val_loss=0.023638 train_loss=0.020978\n",
      "Validation loss decreased (0.023725 --> 0.023638).  Saving model ...\n",
      "[Epoch 15] val_acc=0.387574 train_acc=0.401801 val_loss=0.023760 train_loss=0.021041\n",
      "EarlyStopping counter: 1 out of 30\n",
      "[Epoch 16] val_acc=0.372781 train_acc=0.395048 val_loss=0.023729 train_loss=0.020990\n",
      "EarlyStopping counter: 2 out of 30\n",
      "[Epoch 17] val_acc=0.355030 train_acc=0.410805 val_loss=0.023697 train_loss=0.020880\n",
      "EarlyStopping counter: 3 out of 30\n",
      "[Epoch 18] val_acc=0.387574 train_acc=0.398424 val_loss=0.023761 train_loss=0.020957\n",
      "EarlyStopping counter: 4 out of 30\n",
      "[Epoch 19] val_acc=0.390533 train_acc=0.390546 val_loss=0.023721 train_loss=0.020922\n",
      "EarlyStopping counter: 5 out of 30\n",
      "[Epoch 20] val_acc=0.372781 train_acc=0.414181 val_loss=0.023734 train_loss=0.020893\n",
      "EarlyStopping counter: 6 out of 30\n",
      "[Epoch 21] val_acc=0.369822 train_acc=0.422060 val_loss=0.023641 train_loss=0.020780\n",
      "EarlyStopping counter: 7 out of 30\n",
      "[Epoch 22] val_acc=0.352071 train_acc=0.406866 val_loss=0.023748 train_loss=0.020938\n",
      "EarlyStopping counter: 8 out of 30\n",
      "[Epoch 23] val_acc=0.384615 train_acc=0.410805 val_loss=0.023685 train_loss=0.020830\n",
      "EarlyStopping counter: 9 out of 30\n",
      "[Epoch 24] val_acc=0.366864 train_acc=0.407991 val_loss=0.023689 train_loss=0.020916\n",
      "EarlyStopping counter: 10 out of 30\n",
      "[Epoch 25] val_acc=0.390533 train_acc=0.418683 val_loss=0.023606 train_loss=0.020784\n",
      "Validation loss decreased (0.023638 --> 0.023606).  Saving model ...\n",
      "[Epoch 26] val_acc=0.375740 train_acc=0.422622 val_loss=0.023586 train_loss=0.020741\n",
      "Validation loss decreased (0.023606 --> 0.023586).  Saving model ...\n",
      "[Epoch 27] val_acc=0.352071 train_acc=0.416432 val_loss=0.023658 train_loss=0.020842\n",
      "EarlyStopping counter: 1 out of 30\n",
      "[Epoch 28] val_acc=0.396450 train_acc=0.410805 val_loss=0.023563 train_loss=0.020841\n",
      "Validation loss decreased (0.023586 --> 0.023563).  Saving model ...\n",
      "[Epoch 29] val_acc=0.366864 train_acc=0.397299 val_loss=0.023648 train_loss=0.020935\n",
      "EarlyStopping counter: 1 out of 30\n",
      "[Epoch 30] val_acc=0.384615 train_acc=0.406303 val_loss=0.023530 train_loss=0.020895\n",
      "Validation loss decreased (0.023563 --> 0.023530).  Saving model ...\n",
      "[Epoch 31] val_acc=0.384615 train_acc=0.406303 val_loss=0.023594 train_loss=0.020884\n",
      "EarlyStopping counter: 1 out of 30\n",
      "[Epoch 32] val_acc=0.390533 train_acc=0.415307 val_loss=0.023602 train_loss=0.020851\n",
      "EarlyStopping counter: 2 out of 30\n",
      "[Epoch 33] val_acc=0.387574 train_acc=0.402926 val_loss=0.023624 train_loss=0.020904\n",
      "EarlyStopping counter: 3 out of 30\n",
      "[Epoch 34] val_acc=0.381657 train_acc=0.414744 val_loss=0.023512 train_loss=0.020819\n",
      "Validation loss decreased (0.023530 --> 0.023512).  Saving model ...\n",
      "[Epoch 35] val_acc=0.390533 train_acc=0.407428 val_loss=0.023601 train_loss=0.020946\n",
      "EarlyStopping counter: 1 out of 30\n",
      "[Epoch 36] val_acc=0.411243 train_acc=0.402926 val_loss=0.023578 train_loss=0.020954\n",
      "EarlyStopping counter: 2 out of 30\n",
      "[Epoch 37] val_acc=0.420118 train_acc=0.411367 val_loss=0.023516 train_loss=0.020860\n",
      "EarlyStopping counter: 3 out of 30\n",
      "[Epoch 38] val_acc=0.375740 train_acc=0.404052 val_loss=0.023575 train_loss=0.020879\n",
      "EarlyStopping counter: 4 out of 30\n",
      "[Epoch 39] val_acc=0.417160 train_acc=0.408554 val_loss=0.023604 train_loss=0.020870\n",
      "EarlyStopping counter: 5 out of 30\n",
      "[Epoch 40] val_acc=0.396450 train_acc=0.423185 val_loss=0.023489 train_loss=0.020711\n",
      "Validation loss decreased (0.023512 --> 0.023489).  Saving model ...\n",
      "[Epoch 41] val_acc=0.378698 train_acc=0.420371 val_loss=0.023537 train_loss=0.020750\n",
      "EarlyStopping counter: 1 out of 30\n",
      "[Epoch 42] val_acc=0.384615 train_acc=0.408554 val_loss=0.023494 train_loss=0.020815\n",
      "EarlyStopping counter: 2 out of 30\n",
      "[Epoch 43] val_acc=0.405325 train_acc=0.414181 val_loss=0.023453 train_loss=0.020770\n",
      "Validation loss decreased (0.023489 --> 0.023453).  Saving model ...\n",
      "[Epoch 44] val_acc=0.405325 train_acc=0.416995 val_loss=0.023408 train_loss=0.020822\n",
      "Validation loss decreased (0.023453 --> 0.023408).  Saving model ...\n",
      "[Epoch 45] val_acc=0.396450 train_acc=0.420371 val_loss=0.023500 train_loss=0.020776\n",
      "EarlyStopping counter: 1 out of 30\n",
      "[Epoch 46] val_acc=0.396450 train_acc=0.425436 val_loss=0.023486 train_loss=0.020751\n",
      "EarlyStopping counter: 2 out of 30\n",
      "[Epoch 47] val_acc=0.399408 train_acc=0.427687 val_loss=0.023486 train_loss=0.020774\n",
      "EarlyStopping counter: 3 out of 30\n",
      "[Epoch 48] val_acc=0.405325 train_acc=0.431626 val_loss=0.023473 train_loss=0.020716\n",
      "EarlyStopping counter: 4 out of 30\n",
      "[Epoch 49] val_acc=0.402367 train_acc=0.419809 val_loss=0.023469 train_loss=0.020784\n",
      "EarlyStopping counter: 5 out of 30\n",
      "[Epoch 50] val_acc=0.414201 train_acc=0.421497 val_loss=0.023481 train_loss=0.020774\n",
      "EarlyStopping counter: 6 out of 30\n",
      "[Epoch 51] val_acc=0.399408 train_acc=0.417558 val_loss=0.023485 train_loss=0.020779\n",
      "EarlyStopping counter: 7 out of 30\n",
      "[Epoch 52] val_acc=0.405325 train_acc=0.430501 val_loss=0.023439 train_loss=0.020719\n",
      "EarlyStopping counter: 8 out of 30\n",
      "[Epoch 53] val_acc=0.399408 train_acc=0.416432 val_loss=0.023465 train_loss=0.020799\n",
      "EarlyStopping counter: 9 out of 30\n",
      "[Epoch 54] val_acc=0.390533 train_acc=0.414181 val_loss=0.023453 train_loss=0.020806\n",
      "EarlyStopping counter: 10 out of 30\n",
      "[Epoch 55] val_acc=0.390533 train_acc=0.420934 val_loss=0.023466 train_loss=0.020764\n",
      "EarlyStopping counter: 11 out of 30\n",
      "[Epoch 56] val_acc=0.387574 train_acc=0.420934 val_loss=0.023469 train_loss=0.020815\n",
      "EarlyStopping counter: 12 out of 30\n",
      "[Epoch 57] val_acc=0.402367 train_acc=0.415869 val_loss=0.023481 train_loss=0.020755\n",
      "EarlyStopping counter: 13 out of 30\n",
      "[Epoch 58] val_acc=0.393491 train_acc=0.434440 val_loss=0.023471 train_loss=0.020715\n",
      "EarlyStopping counter: 14 out of 30\n",
      "[Epoch 59] val_acc=0.399408 train_acc=0.425999 val_loss=0.023478 train_loss=0.020784\n",
      "EarlyStopping counter: 15 out of 30\n",
      "[Epoch 60] val_acc=0.384615 train_acc=0.418120 val_loss=0.023477 train_loss=0.020810\n",
      "EarlyStopping counter: 16 out of 30\n",
      "[Epoch 61] val_acc=0.399408 train_acc=0.416432 val_loss=0.023479 train_loss=0.020821\n",
      "EarlyStopping counter: 17 out of 30\n",
      "[Epoch 62] val_acc=0.402367 train_acc=0.432189 val_loss=0.023487 train_loss=0.020782\n",
      "EarlyStopping counter: 18 out of 30\n",
      "[Epoch 63] val_acc=0.399408 train_acc=0.419246 val_loss=0.023474 train_loss=0.020756\n",
      "EarlyStopping counter: 19 out of 30\n",
      "[Epoch 64] val_acc=0.393491 train_acc=0.429938 val_loss=0.023464 train_loss=0.020757\n",
      "EarlyStopping counter: 20 out of 30\n",
      "[Epoch 65] val_acc=0.393491 train_acc=0.417558 val_loss=0.023467 train_loss=0.020750\n",
      "EarlyStopping counter: 21 out of 30\n",
      "[Epoch 66] val_acc=0.390533 train_acc=0.426562 val_loss=0.023456 train_loss=0.020690\n",
      "EarlyStopping counter: 22 out of 30\n",
      "[Epoch 67] val_acc=0.396450 train_acc=0.416995 val_loss=0.023468 train_loss=0.020727\n",
      "EarlyStopping counter: 23 out of 30\n",
      "[Epoch 68] val_acc=0.399408 train_acc=0.425999 val_loss=0.023461 train_loss=0.020743\n",
      "EarlyStopping counter: 24 out of 30\n",
      "[Epoch 69] val_acc=0.399408 train_acc=0.415307 val_loss=0.023474 train_loss=0.020841\n",
      "EarlyStopping counter: 25 out of 30\n",
      "[Epoch 70] val_acc=0.399408 train_acc=0.426562 val_loss=0.023469 train_loss=0.020731\n",
      "EarlyStopping counter: 26 out of 30\n",
      "[Epoch 71] val_acc=0.393491 train_acc=0.430501 val_loss=0.023466 train_loss=0.020723\n",
      "EarlyStopping counter: 27 out of 30\n",
      "[Epoch 72] val_acc=0.402367 train_acc=0.415869 val_loss=0.023465 train_loss=0.020800\n",
      "EarlyStopping counter: 28 out of 30\n",
      "[Epoch 73] val_acc=0.399408 train_acc=0.424873 val_loss=0.023463 train_loss=0.020711\n",
      "EarlyStopping counter: 29 out of 30\n",
      "[Epoch 74] val_acc=0.396450 train_acc=0.429375 val_loss=0.023466 train_loss=0.020750\n",
      "EarlyStopping counter: 30 out of 30\n",
      "Early stopping.\n",
      "Using device: mps\n",
      "[Epoch 0] val_acc=0.346154 train_acc=0.311761 val_loss=0.024215 train_loss=0.021559\n",
      "Validation loss decreased (inf --> 0.024215).  Saving model ...\n",
      "[Epoch 1] val_acc=0.340237 train_acc=0.379854 val_loss=0.023865 train_loss=0.021198\n",
      "Validation loss decreased (0.024215 --> 0.023865).  Saving model ...\n",
      "[Epoch 2] val_acc=0.357988 train_acc=0.383230 val_loss=0.024068 train_loss=0.021109\n",
      "EarlyStopping counter: 1 out of 30\n",
      "[Epoch 3] val_acc=0.346154 train_acc=0.397299 val_loss=0.024036 train_loss=0.021010\n",
      "EarlyStopping counter: 2 out of 30\n",
      "[Epoch 4] val_acc=0.352071 train_acc=0.398424 val_loss=0.023859 train_loss=0.020980\n",
      "Validation loss decreased (0.023865 --> 0.023859).  Saving model ...\n",
      "[Epoch 5] val_acc=0.331361 train_acc=0.389983 val_loss=0.023984 train_loss=0.021094\n",
      "EarlyStopping counter: 1 out of 30\n",
      "[Epoch 6] val_acc=0.352071 train_acc=0.384356 val_loss=0.023812 train_loss=0.021151\n",
      "Validation loss decreased (0.023859 --> 0.023812).  Saving model ...\n",
      "[Epoch 7] val_acc=0.372781 train_acc=0.378728 val_loss=0.023473 train_loss=0.021097\n",
      "Validation loss decreased (0.023812 --> 0.023473).  Saving model ...\n",
      "[Epoch 8] val_acc=0.378698 train_acc=0.403489 val_loss=0.023465 train_loss=0.020963\n",
      "Validation loss decreased (0.023473 --> 0.023465).  Saving model ...\n",
      "[Epoch 9] val_acc=0.355030 train_acc=0.397862 val_loss=0.023820 train_loss=0.020994\n",
      "EarlyStopping counter: 1 out of 30\n",
      "[Epoch 10] val_acc=0.346154 train_acc=0.390546 val_loss=0.023635 train_loss=0.021035\n",
      "EarlyStopping counter: 2 out of 30\n",
      "[Epoch 11] val_acc=0.337278 train_acc=0.386607 val_loss=0.023724 train_loss=0.020991\n",
      "EarlyStopping counter: 3 out of 30\n",
      "[Epoch 12] val_acc=0.337278 train_acc=0.393360 val_loss=0.023676 train_loss=0.021027\n",
      "EarlyStopping counter: 4 out of 30\n",
      "[Epoch 13] val_acc=0.372781 train_acc=0.393360 val_loss=0.023530 train_loss=0.021023\n",
      "EarlyStopping counter: 5 out of 30\n",
      "[Epoch 14] val_acc=0.319527 train_acc=0.402364 val_loss=0.023784 train_loss=0.021047\n",
      "EarlyStopping counter: 6 out of 30\n",
      "[Epoch 15] val_acc=0.375740 train_acc=0.393360 val_loss=0.023307 train_loss=0.020985\n",
      "Validation loss decreased (0.023465 --> 0.023307).  Saving model ...\n",
      "[Epoch 16] val_acc=0.369822 train_acc=0.404615 val_loss=0.023326 train_loss=0.020929\n",
      "EarlyStopping counter: 1 out of 30\n",
      "[Epoch 17] val_acc=0.378698 train_acc=0.404052 val_loss=0.023326 train_loss=0.020831\n",
      "EarlyStopping counter: 2 out of 30\n",
      "[Epoch 18] val_acc=0.363905 train_acc=0.411930 val_loss=0.023360 train_loss=0.020841\n",
      "EarlyStopping counter: 3 out of 30\n",
      "[Epoch 19] val_acc=0.360947 train_acc=0.400113 val_loss=0.023355 train_loss=0.020918\n",
      "EarlyStopping counter: 4 out of 30\n",
      "[Epoch 20] val_acc=0.363905 train_acc=0.396736 val_loss=0.023412 train_loss=0.020948\n",
      "EarlyStopping counter: 5 out of 30\n",
      "[Epoch 21] val_acc=0.381657 train_acc=0.407991 val_loss=0.023494 train_loss=0.020906\n",
      "EarlyStopping counter: 6 out of 30\n",
      "[Epoch 22] val_acc=0.366864 train_acc=0.410805 val_loss=0.023333 train_loss=0.020843\n",
      "EarlyStopping counter: 7 out of 30\n",
      "[Epoch 23] val_acc=0.363905 train_acc=0.415869 val_loss=0.023398 train_loss=0.020861\n",
      "EarlyStopping counter: 8 out of 30\n",
      "[Epoch 24] val_acc=0.384615 train_acc=0.411930 val_loss=0.023363 train_loss=0.020865\n",
      "EarlyStopping counter: 9 out of 30\n",
      "[Epoch 25] val_acc=0.384615 train_acc=0.400675 val_loss=0.023410 train_loss=0.020896\n",
      "EarlyStopping counter: 10 out of 30\n",
      "[Epoch 26] val_acc=0.384615 train_acc=0.400113 val_loss=0.023521 train_loss=0.020875\n",
      "EarlyStopping counter: 11 out of 30\n",
      "[Epoch 27] val_acc=0.375740 train_acc=0.410242 val_loss=0.023562 train_loss=0.020866\n",
      "EarlyStopping counter: 12 out of 30\n",
      "[Epoch 28] val_acc=0.360947 train_acc=0.407428 val_loss=0.023479 train_loss=0.020905\n",
      "EarlyStopping counter: 13 out of 30\n",
      "[Epoch 29] val_acc=0.381657 train_acc=0.410242 val_loss=0.023425 train_loss=0.020805\n",
      "EarlyStopping counter: 14 out of 30\n",
      "[Epoch 30] val_acc=0.378698 train_acc=0.409116 val_loss=0.023447 train_loss=0.020846\n",
      "EarlyStopping counter: 15 out of 30\n",
      "[Epoch 31] val_acc=0.390533 train_acc=0.413618 val_loss=0.023466 train_loss=0.020844\n",
      "EarlyStopping counter: 16 out of 30\n",
      "[Epoch 32] val_acc=0.378698 train_acc=0.410242 val_loss=0.023552 train_loss=0.020805\n",
      "EarlyStopping counter: 17 out of 30\n",
      "[Epoch 33] val_acc=0.390533 train_acc=0.405740 val_loss=0.023499 train_loss=0.020846\n",
      "EarlyStopping counter: 18 out of 30\n",
      "[Epoch 34] val_acc=0.378698 train_acc=0.413056 val_loss=0.023432 train_loss=0.020799\n",
      "EarlyStopping counter: 19 out of 30\n",
      "[Epoch 35] val_acc=0.393491 train_acc=0.406866 val_loss=0.023435 train_loss=0.020854\n",
      "EarlyStopping counter: 20 out of 30\n",
      "[Epoch 36] val_acc=0.360947 train_acc=0.405740 val_loss=0.023632 train_loss=0.020852\n",
      "EarlyStopping counter: 21 out of 30\n",
      "[Epoch 37] val_acc=0.381657 train_acc=0.419246 val_loss=0.023478 train_loss=0.020849\n",
      "EarlyStopping counter: 22 out of 30\n",
      "[Epoch 38] val_acc=0.396450 train_acc=0.404615 val_loss=0.023487 train_loss=0.020838\n",
      "EarlyStopping counter: 23 out of 30\n",
      "[Epoch 39] val_acc=0.384615 train_acc=0.408554 val_loss=0.023556 train_loss=0.020865\n",
      "EarlyStopping counter: 24 out of 30\n",
      "[Epoch 40] val_acc=0.375740 train_acc=0.398424 val_loss=0.023692 train_loss=0.020868\n",
      "EarlyStopping counter: 25 out of 30\n",
      "[Epoch 41] val_acc=0.363905 train_acc=0.416995 val_loss=0.023710 train_loss=0.020796\n",
      "EarlyStopping counter: 26 out of 30\n",
      "[Epoch 42] val_acc=0.372781 train_acc=0.418683 val_loss=0.023603 train_loss=0.020836\n",
      "EarlyStopping counter: 27 out of 30\n",
      "[Epoch 43] val_acc=0.360947 train_acc=0.407991 val_loss=0.023717 train_loss=0.020783\n",
      "EarlyStopping counter: 28 out of 30\n",
      "[Epoch 44] val_acc=0.360947 train_acc=0.428813 val_loss=0.023746 train_loss=0.020776\n",
      "EarlyStopping counter: 29 out of 30\n",
      "[Epoch 45] val_acc=0.378698 train_acc=0.408554 val_loss=0.023706 train_loss=0.020822\n",
      "EarlyStopping counter: 30 out of 30\n",
      "Early stopping.\n",
      "Using device: mps\n",
      "[Epoch 0] val_acc=0.387574 train_acc=0.330895 val_loss=0.023862 train_loss=0.021502\n",
      "Validation loss decreased (inf --> 0.023862).  Saving model ...\n",
      "[Epoch 1] val_acc=0.369822 train_acc=0.386607 val_loss=0.024044 train_loss=0.021090\n",
      "EarlyStopping counter: 1 out of 30\n",
      "[Epoch 2] val_acc=0.378698 train_acc=0.399550 val_loss=0.023904 train_loss=0.021010\n",
      "EarlyStopping counter: 2 out of 30\n",
      "[Epoch 3] val_acc=0.360947 train_acc=0.392234 val_loss=0.023784 train_loss=0.020916\n",
      "Validation loss decreased (0.023862 --> 0.023784).  Saving model ...\n",
      "[Epoch 4] val_acc=0.301775 train_acc=0.384918 val_loss=0.024386 train_loss=0.021041\n",
      "EarlyStopping counter: 1 out of 30\n",
      "[Epoch 5] val_acc=0.381657 train_acc=0.414744 val_loss=0.023849 train_loss=0.020907\n",
      "EarlyStopping counter: 2 out of 30\n",
      "[Epoch 6] val_acc=0.396450 train_acc=0.412493 val_loss=0.023554 train_loss=0.020876\n",
      "Validation loss decreased (0.023784 --> 0.023554).  Saving model ...\n",
      "[Epoch 7] val_acc=0.245562 train_acc=0.405740 val_loss=0.025551 train_loss=0.020840\n",
      "EarlyStopping counter: 1 out of 30\n",
      "[Epoch 8] val_acc=0.334320 train_acc=0.404052 val_loss=0.024404 train_loss=0.020892\n",
      "EarlyStopping counter: 2 out of 30\n",
      "[Epoch 9] val_acc=0.357988 train_acc=0.385481 val_loss=0.024024 train_loss=0.021030\n",
      "EarlyStopping counter: 3 out of 30\n",
      "[Epoch 10] val_acc=0.284024 train_acc=0.388295 val_loss=0.024869 train_loss=0.020963\n",
      "EarlyStopping counter: 4 out of 30\n",
      "[Epoch 11] val_acc=0.322485 train_acc=0.395611 val_loss=0.024567 train_loss=0.021006\n",
      "EarlyStopping counter: 5 out of 30\n",
      "[Epoch 12] val_acc=0.355030 train_acc=0.396173 val_loss=0.023838 train_loss=0.020913\n",
      "EarlyStopping counter: 6 out of 30\n",
      "[Epoch 13] val_acc=0.316568 train_acc=0.410805 val_loss=0.024218 train_loss=0.020848\n",
      "EarlyStopping counter: 7 out of 30\n",
      "[Epoch 14] val_acc=0.381657 train_acc=0.404052 val_loss=0.023900 train_loss=0.020837\n",
      "EarlyStopping counter: 8 out of 30\n",
      "[Epoch 15] val_acc=0.396450 train_acc=0.411930 val_loss=0.023635 train_loss=0.020833\n",
      "EarlyStopping counter: 9 out of 30\n",
      "[Epoch 16] val_acc=0.357988 train_acc=0.423185 val_loss=0.023952 train_loss=0.020751\n",
      "EarlyStopping counter: 10 out of 30\n",
      "[Epoch 17] val_acc=0.390533 train_acc=0.406303 val_loss=0.023749 train_loss=0.020837\n",
      "EarlyStopping counter: 11 out of 30\n",
      "[Epoch 18] val_acc=0.405325 train_acc=0.439505 val_loss=0.023756 train_loss=0.020746\n",
      "EarlyStopping counter: 12 out of 30\n",
      "[Epoch 19] val_acc=0.390533 train_acc=0.420371 val_loss=0.023907 train_loss=0.020780\n",
      "EarlyStopping counter: 13 out of 30\n",
      "[Epoch 20] val_acc=0.372781 train_acc=0.413618 val_loss=0.023882 train_loss=0.020799\n",
      "EarlyStopping counter: 14 out of 30\n",
      "[Epoch 21] val_acc=0.393491 train_acc=0.433877 val_loss=0.023671 train_loss=0.020695\n",
      "EarlyStopping counter: 15 out of 30\n",
      "[Epoch 22] val_acc=0.355030 train_acc=0.427124 val_loss=0.023889 train_loss=0.020753\n",
      "EarlyStopping counter: 16 out of 30\n",
      "[Epoch 23] val_acc=0.337278 train_acc=0.418120 val_loss=0.024038 train_loss=0.020784\n",
      "EarlyStopping counter: 17 out of 30\n",
      "[Epoch 24] val_acc=0.405325 train_acc=0.416995 val_loss=0.023821 train_loss=0.020821\n",
      "EarlyStopping counter: 18 out of 30\n",
      "[Epoch 25] val_acc=0.355030 train_acc=0.419246 val_loss=0.023889 train_loss=0.020785\n",
      "EarlyStopping counter: 19 out of 30\n",
      "[Epoch 26] val_acc=0.349112 train_acc=0.415869 val_loss=0.024190 train_loss=0.020797\n",
      "EarlyStopping counter: 20 out of 30\n",
      "[Epoch 27] val_acc=0.384615 train_acc=0.408554 val_loss=0.023886 train_loss=0.020807\n",
      "EarlyStopping counter: 21 out of 30\n",
      "[Epoch 28] val_acc=0.369822 train_acc=0.429375 val_loss=0.023868 train_loss=0.020662\n",
      "EarlyStopping counter: 22 out of 30\n",
      "[Epoch 29] val_acc=0.390533 train_acc=0.417558 val_loss=0.023891 train_loss=0.020776\n",
      "EarlyStopping counter: 23 out of 30\n",
      "[Epoch 30] val_acc=0.396450 train_acc=0.424311 val_loss=0.023912 train_loss=0.020753\n",
      "EarlyStopping counter: 24 out of 30\n",
      "[Epoch 31] val_acc=0.396450 train_acc=0.415307 val_loss=0.023884 train_loss=0.020744\n",
      "EarlyStopping counter: 25 out of 30\n",
      "[Epoch 32] val_acc=0.366864 train_acc=0.416995 val_loss=0.023892 train_loss=0.020764\n",
      "EarlyStopping counter: 26 out of 30\n",
      "[Epoch 33] val_acc=0.360947 train_acc=0.422060 val_loss=0.023851 train_loss=0.020777\n",
      "EarlyStopping counter: 27 out of 30\n",
      "[Epoch 34] val_acc=0.384615 train_acc=0.423748 val_loss=0.023841 train_loss=0.020720\n",
      "EarlyStopping counter: 28 out of 30\n",
      "[Epoch 35] val_acc=0.378698 train_acc=0.425999 val_loss=0.023831 train_loss=0.020647\n",
      "EarlyStopping counter: 29 out of 30\n",
      "[Epoch 36] val_acc=0.384615 train_acc=0.425436 val_loss=0.023816 train_loss=0.020671\n",
      "EarlyStopping counter: 30 out of 30\n",
      "Early stopping.\n",
      "Using device: mps\n",
      "[Epoch 0] val_acc=0.381657 train_acc=0.324705 val_loss=0.023831 train_loss=0.021527\n",
      "Validation loss decreased (inf --> 0.023831).  Saving model ...\n",
      "[Epoch 1] val_acc=0.399408 train_acc=0.410242 val_loss=0.023542 train_loss=0.020889\n",
      "Validation loss decreased (0.023831 --> 0.023542).  Saving model ...\n",
      "[Epoch 2] val_acc=0.411243 train_acc=0.440630 val_loss=0.023472 train_loss=0.020708\n",
      "Validation loss decreased (0.023542 --> 0.023472).  Saving model ...\n",
      "[Epoch 3] val_acc=0.369822 train_acc=0.459201 val_loss=0.023718 train_loss=0.020586\n",
      "EarlyStopping counter: 1 out of 30\n",
      "[Epoch 4] val_acc=0.355030 train_acc=0.445132 val_loss=0.023931 train_loss=0.020641\n",
      "EarlyStopping counter: 2 out of 30\n",
      "[Epoch 5] val_acc=0.405325 train_acc=0.440630 val_loss=0.023177 train_loss=0.020553\n",
      "Validation loss decreased (0.023472 --> 0.023177).  Saving model ...\n",
      "[Epoch 6] val_acc=0.387574 train_acc=0.452448 val_loss=0.023412 train_loss=0.020502\n",
      "EarlyStopping counter: 1 out of 30\n",
      "[Epoch 7] val_acc=0.375740 train_acc=0.454136 val_loss=0.023560 train_loss=0.020467\n",
      "EarlyStopping counter: 2 out of 30\n",
      "[Epoch 8] val_acc=0.405325 train_acc=0.449634 val_loss=0.023328 train_loss=0.020540\n",
      "EarlyStopping counter: 3 out of 30\n",
      "[Epoch 9] val_acc=0.355030 train_acc=0.438942 val_loss=0.023904 train_loss=0.020600\n",
      "EarlyStopping counter: 4 out of 30\n",
      "[Epoch 10] val_acc=0.405325 train_acc=0.446258 val_loss=0.023342 train_loss=0.020569\n",
      "EarlyStopping counter: 5 out of 30\n",
      "[Epoch 11] val_acc=0.331361 train_acc=0.425436 val_loss=0.023855 train_loss=0.020649\n",
      "EarlyStopping counter: 6 out of 30\n",
      "[Epoch 12] val_acc=0.355030 train_acc=0.424873 val_loss=0.023958 train_loss=0.020607\n",
      "EarlyStopping counter: 7 out of 30\n",
      "[Epoch 13] val_acc=0.272189 train_acc=0.451322 val_loss=0.024892 train_loss=0.020524\n",
      "EarlyStopping counter: 8 out of 30\n",
      "[Epoch 14] val_acc=0.363905 train_acc=0.455824 val_loss=0.023387 train_loss=0.020478\n",
      "EarlyStopping counter: 9 out of 30\n",
      "[Epoch 15] val_acc=0.405325 train_acc=0.451885 val_loss=0.023397 train_loss=0.020498\n",
      "EarlyStopping counter: 10 out of 30\n",
      "[Epoch 16] val_acc=0.378698 train_acc=0.441756 val_loss=0.023462 train_loss=0.020500\n",
      "EarlyStopping counter: 11 out of 30\n",
      "[Epoch 17] val_acc=0.399408 train_acc=0.463703 val_loss=0.023210 train_loss=0.020392\n",
      "EarlyStopping counter: 12 out of 30\n",
      "[Epoch 18] val_acc=0.352071 train_acc=0.446820 val_loss=0.023610 train_loss=0.020492\n",
      "EarlyStopping counter: 13 out of 30\n",
      "[Epoch 19] val_acc=0.381657 train_acc=0.458075 val_loss=0.023562 train_loss=0.020453\n",
      "EarlyStopping counter: 14 out of 30\n",
      "[Epoch 20] val_acc=0.399408 train_acc=0.429375 val_loss=0.023454 train_loss=0.020567\n",
      "EarlyStopping counter: 15 out of 30\n",
      "[Epoch 21] val_acc=0.375740 train_acc=0.453011 val_loss=0.023642 train_loss=0.020459\n",
      "EarlyStopping counter: 16 out of 30\n",
      "[Epoch 22] val_acc=0.372781 train_acc=0.451885 val_loss=0.023442 train_loss=0.020454\n",
      "EarlyStopping counter: 17 out of 30\n",
      "[Epoch 23] val_acc=0.352071 train_acc=0.463703 val_loss=0.023935 train_loss=0.020520\n",
      "EarlyStopping counter: 18 out of 30\n",
      "[Epoch 24] val_acc=0.384615 train_acc=0.449634 val_loss=0.023482 train_loss=0.020449\n",
      "EarlyStopping counter: 19 out of 30\n",
      "[Epoch 25] val_acc=0.402367 train_acc=0.467642 val_loss=0.023505 train_loss=0.020364\n",
      "EarlyStopping counter: 20 out of 30\n",
      "[Epoch 26] val_acc=0.393491 train_acc=0.460326 val_loss=0.023368 train_loss=0.020377\n",
      "EarlyStopping counter: 21 out of 30\n",
      "[Epoch 27] val_acc=0.417160 train_acc=0.458075 val_loss=0.023388 train_loss=0.020423\n",
      "EarlyStopping counter: 22 out of 30\n",
      "[Epoch 28] val_acc=0.369822 train_acc=0.460326 val_loss=0.023477 train_loss=0.020332\n",
      "EarlyStopping counter: 23 out of 30\n",
      "[Epoch 29] val_acc=0.393491 train_acc=0.463140 val_loss=0.023391 train_loss=0.020376\n",
      "EarlyStopping counter: 24 out of 30\n",
      "[Epoch 30] val_acc=0.408284 train_acc=0.456950 val_loss=0.023358 train_loss=0.020441\n",
      "EarlyStopping counter: 25 out of 30\n",
      "[Epoch 31] val_acc=0.366864 train_acc=0.472707 val_loss=0.023407 train_loss=0.020279\n",
      "EarlyStopping counter: 26 out of 30\n",
      "[Epoch 32] val_acc=0.393491 train_acc=0.460326 val_loss=0.023443 train_loss=0.020386\n",
      "EarlyStopping counter: 27 out of 30\n",
      "[Epoch 33] val_acc=0.399408 train_acc=0.453011 val_loss=0.023396 train_loss=0.020393\n",
      "EarlyStopping counter: 28 out of 30\n",
      "[Epoch 34] val_acc=0.384615 train_acc=0.451322 val_loss=0.023510 train_loss=0.020400\n",
      "EarlyStopping counter: 29 out of 30\n",
      "[Epoch 35] val_acc=0.369822 train_acc=0.455262 val_loss=0.023681 train_loss=0.020443\n",
      "EarlyStopping counter: 30 out of 30\n",
      "Early stopping.\n",
      "Using device: mps\n",
      "[Epoch 0] val_acc=0.343195 train_acc=0.307822 val_loss=0.024155 train_loss=0.021602\n",
      "Validation loss decreased (inf --> 0.024155).  Saving model ...\n",
      "[Epoch 1] val_acc=0.423077 train_acc=0.423185 val_loss=0.023506 train_loss=0.020883\n",
      "Validation loss decreased (0.024155 --> 0.023506).  Saving model ...\n",
      "[Epoch 2] val_acc=0.357988 train_acc=0.474395 val_loss=0.024176 train_loss=0.020507\n",
      "EarlyStopping counter: 1 out of 30\n",
      "[Epoch 3] val_acc=0.426036 train_acc=0.492403 val_loss=0.023393 train_loss=0.020317\n",
      "Validation loss decreased (0.023506 --> 0.023393).  Saving model ...\n",
      "[Epoch 4] val_acc=0.399408 train_acc=0.491277 val_loss=0.023781 train_loss=0.020268\n",
      "EarlyStopping counter: 1 out of 30\n",
      "[Epoch 5] val_acc=0.405325 train_acc=0.469893 val_loss=0.023696 train_loss=0.020311\n",
      "EarlyStopping counter: 2 out of 30\n",
      "[Epoch 6] val_acc=0.360947 train_acc=0.470456 val_loss=0.024133 train_loss=0.020241\n",
      "EarlyStopping counter: 3 out of 30\n",
      "[Epoch 7] val_acc=0.349112 train_acc=0.462015 val_loss=0.024094 train_loss=0.020343\n",
      "EarlyStopping counter: 4 out of 30\n",
      "[Epoch 8] val_acc=0.357988 train_acc=0.460889 val_loss=0.023632 train_loss=0.020338\n",
      "EarlyStopping counter: 5 out of 30\n",
      "[Epoch 9] val_acc=0.408284 train_acc=0.465391 val_loss=0.023806 train_loss=0.020223\n",
      "EarlyStopping counter: 6 out of 30\n",
      "[Epoch 10] val_acc=0.384615 train_acc=0.468768 val_loss=0.023810 train_loss=0.020285\n",
      "EarlyStopping counter: 7 out of 30\n",
      "[Epoch 11] val_acc=0.378698 train_acc=0.472707 val_loss=0.024057 train_loss=0.020201\n",
      "EarlyStopping counter: 8 out of 30\n",
      "[Epoch 12] val_acc=0.393491 train_acc=0.476646 val_loss=0.023591 train_loss=0.020136\n",
      "EarlyStopping counter: 9 out of 30\n",
      "[Epoch 13] val_acc=0.322485 train_acc=0.483962 val_loss=0.024826 train_loss=0.020038\n",
      "EarlyStopping counter: 10 out of 30\n",
      "[Epoch 14] val_acc=0.328402 train_acc=0.461452 val_loss=0.024205 train_loss=0.020219\n",
      "EarlyStopping counter: 11 out of 30\n",
      "[Epoch 15] val_acc=0.334320 train_acc=0.480023 val_loss=0.024433 train_loss=0.020157\n",
      "EarlyStopping counter: 12 out of 30\n",
      "[Epoch 16] val_acc=0.340237 train_acc=0.482273 val_loss=0.024632 train_loss=0.020149\n",
      "EarlyStopping counter: 13 out of 30\n",
      "[Epoch 17] val_acc=0.349112 train_acc=0.464828 val_loss=0.024085 train_loss=0.020137\n",
      "EarlyStopping counter: 14 out of 30\n",
      "[Epoch 18] val_acc=0.360947 train_acc=0.485087 val_loss=0.024235 train_loss=0.020073\n",
      "EarlyStopping counter: 15 out of 30\n",
      "[Epoch 19] val_acc=0.337278 train_acc=0.493528 val_loss=0.024346 train_loss=0.020039\n",
      "EarlyStopping counter: 16 out of 30\n",
      "[Epoch 20] val_acc=0.366864 train_acc=0.501407 val_loss=0.024254 train_loss=0.019976\n",
      "EarlyStopping counter: 17 out of 30\n",
      "[Epoch 21] val_acc=0.340237 train_acc=0.501407 val_loss=0.024433 train_loss=0.019889\n",
      "EarlyStopping counter: 18 out of 30\n",
      "[Epoch 22] val_acc=0.346154 train_acc=0.500281 val_loss=0.024109 train_loss=0.019847\n",
      "EarlyStopping counter: 19 out of 30\n",
      "[Epoch 23] val_acc=0.369822 train_acc=0.496905 val_loss=0.024123 train_loss=0.019902\n",
      "EarlyStopping counter: 20 out of 30\n",
      "[Epoch 24] val_acc=0.363905 train_acc=0.491277 val_loss=0.024355 train_loss=0.019885\n",
      "EarlyStopping counter: 21 out of 30\n",
      "[Epoch 25] val_acc=0.372781 train_acc=0.500281 val_loss=0.024188 train_loss=0.019923\n",
      "EarlyStopping counter: 22 out of 30\n",
      "[Epoch 26] val_acc=0.349112 train_acc=0.501970 val_loss=0.024382 train_loss=0.019916\n",
      "EarlyStopping counter: 23 out of 30\n",
      "[Epoch 27] val_acc=0.378698 train_acc=0.521103 val_loss=0.024481 train_loss=0.019769\n",
      "EarlyStopping counter: 24 out of 30\n",
      "[Epoch 28] val_acc=0.363905 train_acc=0.494654 val_loss=0.024386 train_loss=0.019979\n",
      "EarlyStopping counter: 25 out of 30\n",
      "[Epoch 29] val_acc=0.369822 train_acc=0.508723 val_loss=0.024266 train_loss=0.019816\n",
      "EarlyStopping counter: 26 out of 30\n",
      "[Epoch 30] val_acc=0.384615 train_acc=0.517727 val_loss=0.024318 train_loss=0.019780\n",
      "EarlyStopping counter: 27 out of 30\n",
      "[Epoch 31] val_acc=0.357988 train_acc=0.514350 val_loss=0.024165 train_loss=0.019756\n",
      "EarlyStopping counter: 28 out of 30\n",
      "[Epoch 32] val_acc=0.346154 train_acc=0.517164 val_loss=0.024492 train_loss=0.019746\n",
      "EarlyStopping counter: 29 out of 30\n",
      "[Epoch 33] val_acc=0.375740 train_acc=0.512099 val_loss=0.024356 train_loss=0.019777\n",
      "EarlyStopping counter: 30 out of 30\n",
      "Early stopping.\n",
      "Using device: mps\n",
      "[Epoch 0] val_acc=0.298817 train_acc=0.322454 val_loss=0.024435 train_loss=0.021600\n",
      "Validation loss decreased (inf --> 0.024435).  Saving model ...\n",
      "[Epoch 1] val_acc=0.316568 train_acc=0.410805 val_loss=0.024624 train_loss=0.020803\n",
      "EarlyStopping counter: 1 out of 30\n",
      "[Epoch 2] val_acc=0.423077 train_acc=0.465954 val_loss=0.023261 train_loss=0.020361\n",
      "Validation loss decreased (0.024435 --> 0.023261).  Saving model ...\n",
      "[Epoch 3] val_acc=0.372781 train_acc=0.519415 val_loss=0.023268 train_loss=0.019956\n",
      "EarlyStopping counter: 1 out of 30\n",
      "[Epoch 4] val_acc=0.298817 train_acc=0.521103 val_loss=0.024430 train_loss=0.019737\n",
      "EarlyStopping counter: 2 out of 30\n",
      "[Epoch 5] val_acc=0.346154 train_acc=0.535172 val_loss=0.024503 train_loss=0.019620\n",
      "EarlyStopping counter: 3 out of 30\n",
      "[Epoch 6] val_acc=0.446746 train_acc=0.556556 val_loss=0.022659 train_loss=0.019398\n",
      "Validation loss decreased (0.023261 --> 0.022659).  Saving model ...\n",
      "[Epoch 7] val_acc=0.337278 train_acc=0.567811 val_loss=0.024217 train_loss=0.019329\n",
      "EarlyStopping counter: 1 out of 30\n",
      "[Epoch 8] val_acc=0.458580 train_acc=0.589758 val_loss=0.022841 train_loss=0.019153\n",
      "EarlyStopping counter: 2 out of 30\n",
      "[Epoch 9] val_acc=0.417160 train_acc=0.594260 val_loss=0.022887 train_loss=0.019034\n",
      "EarlyStopping counter: 3 out of 30\n",
      "[Epoch 10] val_acc=0.286982 train_acc=0.611705 val_loss=0.025336 train_loss=0.018863\n",
      "EarlyStopping counter: 4 out of 30\n",
      "[Epoch 11] val_acc=0.414201 train_acc=0.616770 val_loss=0.023290 train_loss=0.018805\n",
      "EarlyStopping counter: 5 out of 30\n",
      "[Epoch 12] val_acc=0.449704 train_acc=0.613956 val_loss=0.022671 train_loss=0.018728\n",
      "EarlyStopping counter: 6 out of 30\n",
      "[Epoch 13] val_acc=0.440828 train_acc=0.627462 val_loss=0.023240 train_loss=0.018648\n",
      "EarlyStopping counter: 7 out of 30\n",
      "[Epoch 14] val_acc=0.307692 train_acc=0.621835 val_loss=0.024598 train_loss=0.018545\n",
      "EarlyStopping counter: 8 out of 30\n",
      "[Epoch 15] val_acc=0.387574 train_acc=0.615082 val_loss=0.023235 train_loss=0.018599\n",
      "EarlyStopping counter: 9 out of 30\n",
      "[Epoch 16] val_acc=0.437870 train_acc=0.633652 val_loss=0.022876 train_loss=0.018510\n",
      "EarlyStopping counter: 10 out of 30\n",
      "[Epoch 17] val_acc=0.428994 train_acc=0.628025 val_loss=0.023249 train_loss=0.018452\n",
      "EarlyStopping counter: 11 out of 30\n",
      "[Epoch 18] val_acc=0.396450 train_acc=0.637029 val_loss=0.023545 train_loss=0.018389\n",
      "EarlyStopping counter: 12 out of 30\n",
      "[Epoch 19] val_acc=0.488166 train_acc=0.640968 val_loss=0.022440 train_loss=0.018281\n",
      "Validation loss decreased (0.022659 --> 0.022440).  Saving model ...\n",
      "[Epoch 20] val_acc=0.434911 train_acc=0.651097 val_loss=0.022930 train_loss=0.018228\n",
      "EarlyStopping counter: 1 out of 30\n",
      "[Epoch 21] val_acc=0.414201 train_acc=0.634778 val_loss=0.023069 train_loss=0.018334\n",
      "EarlyStopping counter: 2 out of 30\n",
      "[Epoch 22] val_acc=0.434911 train_acc=0.625774 val_loss=0.023205 train_loss=0.018335\n",
      "EarlyStopping counter: 3 out of 30\n",
      "[Epoch 23] val_acc=0.464497 train_acc=0.635903 val_loss=0.023028 train_loss=0.018319\n",
      "EarlyStopping counter: 4 out of 30\n",
      "[Epoch 24] val_acc=0.467456 train_acc=0.643782 val_loss=0.022921 train_loss=0.018222\n",
      "EarlyStopping counter: 5 out of 30\n",
      "[Epoch 25] val_acc=0.411243 train_acc=0.637591 val_loss=0.023238 train_loss=0.018265\n",
      "EarlyStopping counter: 6 out of 30\n",
      "[Epoch 26] val_acc=0.366864 train_acc=0.655037 val_loss=0.023957 train_loss=0.018074\n",
      "EarlyStopping counter: 7 out of 30\n",
      "[Epoch 27] val_acc=0.479290 train_acc=0.640968 val_loss=0.022792 train_loss=0.018204\n",
      "EarlyStopping counter: 8 out of 30\n",
      "[Epoch 28] val_acc=0.411243 train_acc=0.636466 val_loss=0.023114 train_loss=0.018325\n",
      "EarlyStopping counter: 9 out of 30\n",
      "[Epoch 29] val_acc=0.446746 train_acc=0.644344 val_loss=0.022809 train_loss=0.018206\n",
      "EarlyStopping counter: 10 out of 30\n",
      "[Epoch 30] val_acc=0.340237 train_acc=0.656162 val_loss=0.024989 train_loss=0.018059\n",
      "EarlyStopping counter: 11 out of 30\n",
      "[Epoch 31] val_acc=0.414201 train_acc=0.639280 val_loss=0.023376 train_loss=0.018161\n",
      "EarlyStopping counter: 12 out of 30\n",
      "[Epoch 32] val_acc=0.399408 train_acc=0.654474 val_loss=0.023627 train_loss=0.018010\n",
      "EarlyStopping counter: 13 out of 30\n",
      "[Epoch 33] val_acc=0.458580 train_acc=0.661790 val_loss=0.022640 train_loss=0.017956\n",
      "EarlyStopping counter: 14 out of 30\n",
      "[Epoch 34] val_acc=0.417160 train_acc=0.649972 val_loss=0.023371 train_loss=0.018094\n",
      "EarlyStopping counter: 15 out of 30\n",
      "[Epoch 35] val_acc=0.500000 train_acc=0.652786 val_loss=0.022205 train_loss=0.018046\n",
      "Validation loss decreased (0.022440 --> 0.022205).  Saving model ...\n",
      "[Epoch 36] val_acc=0.396450 train_acc=0.652786 val_loss=0.023666 train_loss=0.018026\n",
      "EarlyStopping counter: 1 out of 30\n",
      "[Epoch 37] val_acc=0.443787 train_acc=0.656162 val_loss=0.023023 train_loss=0.018014\n",
      "EarlyStopping counter: 2 out of 30\n",
      "[Epoch 38] val_acc=0.443787 train_acc=0.652223 val_loss=0.022948 train_loss=0.018006\n",
      "EarlyStopping counter: 3 out of 30\n",
      "[Epoch 39] val_acc=0.446746 train_acc=0.669668 val_loss=0.023147 train_loss=0.017862\n",
      "EarlyStopping counter: 4 out of 30\n",
      "[Epoch 40] val_acc=0.470414 train_acc=0.640968 val_loss=0.022411 train_loss=0.018117\n",
      "EarlyStopping counter: 5 out of 30\n",
      "[Epoch 41] val_acc=0.497041 train_acc=0.640405 val_loss=0.022202 train_loss=0.018060\n",
      "Validation loss decreased (0.022205 --> 0.022202).  Saving model ...\n",
      "[Epoch 42] val_acc=0.446746 train_acc=0.659539 val_loss=0.022922 train_loss=0.018052\n",
      "EarlyStopping counter: 1 out of 30\n",
      "[Epoch 43] val_acc=0.464497 train_acc=0.662915 val_loss=0.022580 train_loss=0.017938\n",
      "EarlyStopping counter: 2 out of 30\n",
      "[Epoch 44] val_acc=0.446746 train_acc=0.651660 val_loss=0.022921 train_loss=0.018001\n",
      "EarlyStopping counter: 3 out of 30\n",
      "[Epoch 45] val_acc=0.508876 train_acc=0.648284 val_loss=0.022514 train_loss=0.018024\n",
      "EarlyStopping counter: 4 out of 30\n",
      "[Epoch 46] val_acc=0.500000 train_acc=0.678109 val_loss=0.022626 train_loss=0.017687\n",
      "EarlyStopping counter: 5 out of 30\n",
      "[Epoch 47] val_acc=0.458580 train_acc=0.701745 val_loss=0.022776 train_loss=0.017534\n",
      "EarlyStopping counter: 6 out of 30\n",
      "[Epoch 48] val_acc=0.491124 train_acc=0.687113 val_loss=0.022562 train_loss=0.017652\n",
      "EarlyStopping counter: 7 out of 30\n",
      "[Epoch 49] val_acc=0.485207 train_acc=0.701182 val_loss=0.022576 train_loss=0.017440\n",
      "EarlyStopping counter: 8 out of 30\n",
      "[Epoch 50] val_acc=0.479290 train_acc=0.699494 val_loss=0.022699 train_loss=0.017479\n",
      "EarlyStopping counter: 9 out of 30\n",
      "[Epoch 51] val_acc=0.461538 train_acc=0.705121 val_loss=0.022720 train_loss=0.017437\n",
      "EarlyStopping counter: 10 out of 30\n",
      "[Epoch 52] val_acc=0.482249 train_acc=0.701182 val_loss=0.022722 train_loss=0.017486\n",
      "EarlyStopping counter: 11 out of 30\n",
      "[Epoch 53] val_acc=0.461538 train_acc=0.696680 val_loss=0.022747 train_loss=0.017537\n",
      "EarlyStopping counter: 12 out of 30\n",
      "[Epoch 54] val_acc=0.491124 train_acc=0.699494 val_loss=0.022495 train_loss=0.017457\n",
      "EarlyStopping counter: 13 out of 30\n",
      "[Epoch 55] val_acc=0.482249 train_acc=0.695554 val_loss=0.022785 train_loss=0.017509\n",
      "EarlyStopping counter: 14 out of 30\n",
      "[Epoch 56] val_acc=0.470414 train_acc=0.696117 val_loss=0.022661 train_loss=0.017543\n",
      "EarlyStopping counter: 15 out of 30\n",
      "[Epoch 57] val_acc=0.488166 train_acc=0.707935 val_loss=0.022483 train_loss=0.017387\n",
      "EarlyStopping counter: 16 out of 30\n",
      "[Epoch 58] val_acc=0.455621 train_acc=0.688801 val_loss=0.022785 train_loss=0.017497\n",
      "EarlyStopping counter: 17 out of 30\n",
      "[Epoch 59] val_acc=0.476331 train_acc=0.693303 val_loss=0.022705 train_loss=0.017524\n",
      "EarlyStopping counter: 18 out of 30\n",
      "[Epoch 60] val_acc=0.470414 train_acc=0.710186 val_loss=0.022906 train_loss=0.017400\n",
      "EarlyStopping counter: 19 out of 30\n",
      "[Epoch 61] val_acc=0.449704 train_acc=0.702307 val_loss=0.023206 train_loss=0.017450\n",
      "EarlyStopping counter: 20 out of 30\n",
      "[Epoch 62] val_acc=0.497041 train_acc=0.700056 val_loss=0.022551 train_loss=0.017337\n",
      "EarlyStopping counter: 21 out of 30\n",
      "[Epoch 63] val_acc=0.446746 train_acc=0.693303 val_loss=0.023053 train_loss=0.017447\n",
      "EarlyStopping counter: 22 out of 30\n",
      "[Epoch 64] val_acc=0.464497 train_acc=0.689364 val_loss=0.022927 train_loss=0.017529\n",
      "EarlyStopping counter: 23 out of 30\n",
      "[Epoch 65] val_acc=0.482249 train_acc=0.704558 val_loss=0.022729 train_loss=0.017422\n",
      "EarlyStopping counter: 24 out of 30\n",
      "[Epoch 66] val_acc=0.470414 train_acc=0.701182 val_loss=0.022826 train_loss=0.017405\n",
      "EarlyStopping counter: 25 out of 30\n",
      "[Epoch 67] val_acc=0.467456 train_acc=0.701745 val_loss=0.022861 train_loss=0.017378\n",
      "EarlyStopping counter: 26 out of 30\n",
      "[Epoch 68] val_acc=0.467456 train_acc=0.697243 val_loss=0.022944 train_loss=0.017417\n",
      "EarlyStopping counter: 27 out of 30\n",
      "[Epoch 69] val_acc=0.464497 train_acc=0.709623 val_loss=0.022910 train_loss=0.017337\n",
      "EarlyStopping counter: 28 out of 30\n",
      "[Epoch 70] val_acc=0.458580 train_acc=0.715813 val_loss=0.023049 train_loss=0.017213\n",
      "EarlyStopping counter: 29 out of 30\n",
      "[Epoch 71] val_acc=0.473373 train_acc=0.721441 val_loss=0.022808 train_loss=0.017169\n",
      "EarlyStopping counter: 30 out of 30\n",
      "Early stopping.\n",
      "Using device: mps\n",
      "[Epoch 0] val_acc=0.346154 train_acc=0.323579 val_loss=0.024098 train_loss=0.021509\n",
      "Validation loss decreased (inf --> 0.024098).  Saving model ...\n",
      "[Epoch 1] val_acc=0.402367 train_acc=0.439505 val_loss=0.023531 train_loss=0.020734\n",
      "Validation loss decreased (0.024098 --> 0.023531).  Saving model ...\n",
      "[Epoch 2] val_acc=0.366864 train_acc=0.476646 val_loss=0.023710 train_loss=0.020370\n",
      "EarlyStopping counter: 1 out of 30\n",
      "[Epoch 3] val_acc=0.423077 train_acc=0.516601 val_loss=0.023277 train_loss=0.020104\n",
      "Validation loss decreased (0.023531 --> 0.023277).  Saving model ...\n",
      "[Epoch 4] val_acc=0.423077 train_acc=0.534609 val_loss=0.023168 train_loss=0.019888\n",
      "Validation loss decreased (0.023277 --> 0.023168).  Saving model ...\n",
      "[Epoch 5] val_acc=0.355030 train_acc=0.542487 val_loss=0.023741 train_loss=0.019702\n",
      "EarlyStopping counter: 1 out of 30\n",
      "[Epoch 6] val_acc=0.420118 train_acc=0.564997 val_loss=0.023048 train_loss=0.019534\n",
      "Validation loss decreased (0.023168 --> 0.023048).  Saving model ...\n",
      "[Epoch 7] val_acc=0.381657 train_acc=0.558807 val_loss=0.023486 train_loss=0.019469\n",
      "EarlyStopping counter: 1 out of 30\n",
      "[Epoch 8] val_acc=0.292899 train_acc=0.558807 val_loss=0.024911 train_loss=0.019384\n",
      "EarlyStopping counter: 2 out of 30\n",
      "[Epoch 9] val_acc=0.340237 train_acc=0.550929 val_loss=0.024117 train_loss=0.019457\n",
      "EarlyStopping counter: 3 out of 30\n",
      "[Epoch 10] val_acc=0.372781 train_acc=0.576815 val_loss=0.023526 train_loss=0.019330\n",
      "EarlyStopping counter: 4 out of 30\n",
      "[Epoch 11] val_acc=0.352071 train_acc=0.584693 val_loss=0.024197 train_loss=0.019198\n",
      "EarlyStopping counter: 5 out of 30\n",
      "[Epoch 12] val_acc=0.408284 train_acc=0.568936 val_loss=0.023263 train_loss=0.019252\n",
      "EarlyStopping counter: 6 out of 30\n",
      "[Epoch 13] val_acc=0.399408 train_acc=0.563872 val_loss=0.023529 train_loss=0.019219\n",
      "EarlyStopping counter: 7 out of 30\n",
      "[Epoch 14] val_acc=0.272189 train_acc=0.576815 val_loss=0.025693 train_loss=0.019090\n",
      "EarlyStopping counter: 8 out of 30\n",
      "[Epoch 15] val_acc=0.420118 train_acc=0.569499 val_loss=0.023084 train_loss=0.019104\n",
      "EarlyStopping counter: 9 out of 30\n",
      "[Epoch 16] val_acc=0.408284 train_acc=0.582442 val_loss=0.023394 train_loss=0.019008\n",
      "EarlyStopping counter: 10 out of 30\n",
      "[Epoch 17] val_acc=0.473373 train_acc=0.578503 val_loss=0.022817 train_loss=0.019077\n",
      "Validation loss decreased (0.023048 --> 0.022817).  Saving model ...\n",
      "[Epoch 18] val_acc=0.417160 train_acc=0.588070 val_loss=0.023275 train_loss=0.018940\n",
      "EarlyStopping counter: 1 out of 30\n",
      "[Epoch 19] val_acc=0.426036 train_acc=0.594823 val_loss=0.023162 train_loss=0.018857\n",
      "EarlyStopping counter: 2 out of 30\n",
      "[Epoch 20] val_acc=0.452663 train_acc=0.582442 val_loss=0.022823 train_loss=0.018970\n",
      "EarlyStopping counter: 3 out of 30\n",
      "[Epoch 21] val_acc=0.399408 train_acc=0.593134 val_loss=0.023300 train_loss=0.018939\n",
      "EarlyStopping counter: 4 out of 30\n",
      "[Epoch 22] val_acc=0.440828 train_acc=0.597074 val_loss=0.023010 train_loss=0.018815\n",
      "EarlyStopping counter: 5 out of 30\n",
      "[Epoch 23] val_acc=0.449704 train_acc=0.591446 val_loss=0.022944 train_loss=0.018813\n",
      "EarlyStopping counter: 6 out of 30\n",
      "[Epoch 24] val_acc=0.387574 train_acc=0.593134 val_loss=0.023382 train_loss=0.018808\n",
      "EarlyStopping counter: 7 out of 30\n",
      "[Epoch 25] val_acc=0.420118 train_acc=0.592009 val_loss=0.023228 train_loss=0.018808\n",
      "EarlyStopping counter: 8 out of 30\n",
      "[Epoch 26] val_acc=0.452663 train_acc=0.601576 val_loss=0.022854 train_loss=0.018742\n",
      "EarlyStopping counter: 9 out of 30\n",
      "[Epoch 27] val_acc=0.428994 train_acc=0.576252 val_loss=0.023151 train_loss=0.018890\n",
      "EarlyStopping counter: 10 out of 30\n",
      "[Epoch 28] val_acc=0.423077 train_acc=0.612268 val_loss=0.023065 train_loss=0.018700\n",
      "EarlyStopping counter: 11 out of 30\n",
      "[Epoch 29] val_acc=0.417160 train_acc=0.590884 val_loss=0.023147 train_loss=0.018824\n",
      "EarlyStopping counter: 12 out of 30\n",
      "[Epoch 30] val_acc=0.431953 train_acc=0.607203 val_loss=0.023157 train_loss=0.018626\n",
      "EarlyStopping counter: 13 out of 30\n",
      "[Epoch 31] val_acc=0.437870 train_acc=0.604389 val_loss=0.023065 train_loss=0.018718\n",
      "EarlyStopping counter: 14 out of 30\n",
      "[Epoch 32] val_acc=0.431953 train_acc=0.588070 val_loss=0.023038 train_loss=0.018813\n",
      "EarlyStopping counter: 15 out of 30\n",
      "[Epoch 33] val_acc=0.443787 train_acc=0.606640 val_loss=0.022983 train_loss=0.018691\n",
      "EarlyStopping counter: 16 out of 30\n",
      "[Epoch 34] val_acc=0.417160 train_acc=0.604952 val_loss=0.023086 train_loss=0.018582\n",
      "EarlyStopping counter: 17 out of 30\n",
      "[Epoch 35] val_acc=0.414201 train_acc=0.609454 val_loss=0.023573 train_loss=0.018651\n",
      "EarlyStopping counter: 18 out of 30\n",
      "[Epoch 36] val_acc=0.414201 train_acc=0.609454 val_loss=0.023354 train_loss=0.018558\n",
      "EarlyStopping counter: 19 out of 30\n",
      "[Epoch 37] val_acc=0.408284 train_acc=0.600450 val_loss=0.023353 train_loss=0.018714\n",
      "EarlyStopping counter: 20 out of 30\n",
      "[Epoch 38] val_acc=0.420118 train_acc=0.610580 val_loss=0.023388 train_loss=0.018572\n",
      "EarlyStopping counter: 21 out of 30\n",
      "[Epoch 39] val_acc=0.426036 train_acc=0.579066 val_loss=0.023206 train_loss=0.018801\n",
      "EarlyStopping counter: 22 out of 30\n",
      "[Epoch 40] val_acc=0.434911 train_acc=0.605515 val_loss=0.023118 train_loss=0.018643\n",
      "EarlyStopping counter: 23 out of 30\n",
      "[Epoch 41] val_acc=0.437870 train_acc=0.624086 val_loss=0.022925 train_loss=0.018492\n",
      "EarlyStopping counter: 24 out of 30\n",
      "[Epoch 42] val_acc=0.449704 train_acc=0.606640 val_loss=0.023057 train_loss=0.018532\n",
      "EarlyStopping counter: 25 out of 30\n",
      "[Epoch 43] val_acc=0.423077 train_acc=0.590321 val_loss=0.023212 train_loss=0.018712\n",
      "EarlyStopping counter: 26 out of 30\n",
      "[Epoch 44] val_acc=0.417160 train_acc=0.626337 val_loss=0.023262 train_loss=0.018346\n",
      "EarlyStopping counter: 27 out of 30\n",
      "[Epoch 45] val_acc=0.399408 train_acc=0.620146 val_loss=0.023522 train_loss=0.018498\n",
      "EarlyStopping counter: 28 out of 30\n",
      "[Epoch 46] val_acc=0.414201 train_acc=0.614519 val_loss=0.023192 train_loss=0.018529\n",
      "EarlyStopping counter: 29 out of 30\n",
      "[Epoch 47] val_acc=0.426036 train_acc=0.619584 val_loss=0.023135 train_loss=0.018446\n",
      "EarlyStopping counter: 30 out of 30\n",
      "Early stopping.\n"
     ]
    }
   ],
   "source": [
    "valid_acc = {}\n",
    "test_acc = {}\n",
    "\n",
    "for ts in time_slots:\n",
    "    train_data, valid_data, test_data = get_time_series_dataloader(ts)\n",
    "    \n",
    "    time_model = RNN()\n",
    "    time_model.to(device)\n",
    "    \n",
    "    optimizer = torch.optim.Adam(time_model.parameters(), lr=0.001, weight_decay=1e-03)\n",
    "    scheduler = torch.optim.lr_scheduler.ReduceLROnPlateau(optimizer, mode='min', factor=0.5, patience=5, verbose=True)\n",
    "    \n",
    "    _ = train(\n",
    "        model=time_model,\n",
    "        optimizer=optimizer,\n",
    "        scheduler=scheduler,\n",
    "        loss_func=nn.CrossEntropyLoss(),\n",
    "        train_data=train_data,\n",
    "        val_data=valid_data,\n",
    "        early_stopping_patience=30,\n",
    "        cp_path=\"models/rnn\",\n",
    "        cp_filename=f\"time_{ts}.pt\",\n",
    "        n_epochs=100,\n",
    "        show_progress_bar=False,\n",
    "    )\n",
    "    \n",
    "    # Load best model and test\n",
    "    time_model = torch.load(f\"models/rnn/time_{ts}.pt\")\n",
    "    time_model.to(device)\n",
    "    time_model.eval()\n",
    "    \n",
    "    # Evaluate validation accuracies\n",
    "    valid_acc[ts] = 0\n",
    "    with torch.no_grad():\n",
    "        for X, y in valid_data:\n",
    "            X, y = X.to(device), y.to(device)\n",
    "            y_pred = time_model(X)\n",
    "            valid_acc[ts] += (y_pred.argmax(dim=1) == y.argmax(dim=1)).sum().item()\n",
    "    valid_acc[ts] /= len(valid_data.dataset)\n",
    "    \n",
    "    # Evaluate test accuracies\n",
    "    test_acc[ts] = 0\n",
    "    with torch.no_grad():\n",
    "        for X, y in test_data:\n",
    "            X, y = X.to(device), y.to(device)\n",
    "            y_pred = time_model(X)\n",
    "            test_acc[ts] += (y_pred.argmax(dim=1) == y.argmax(dim=1)).sum().item()\n",
    "    test_acc[ts] /= len(test_data.dataset)"
   ]
  },
  {
   "cell_type": "code",
   "execution_count": 16,
   "metadata": {},
   "outputs": [
    {
     "data": {
      "image/png": "[encoded data removed]",
      "text/plain": [
       "<Figure size 640x480 with 1 Axes>"
      ]
     },
     "metadata": {},
     "output_type": "display_data"
    }
   ],
   "source": [
    "plt.plot(valid_acc.keys(), valid_acc.values(), label=\"Valid Acc\")\n",
    "plt.plot(test_acc.keys(), test_acc.values(), label=\"Test Acc\")\n",
    "plt.legend()\n",
    "plt.title(\"Time Series Model Accuracies\")\n",
    "plt.xlabel(\"Num Time Slots\")\n",
    "plt.ylabel(\"Accuracy\")\n",
    "plt.show()"
   ]
  }
 ],
 "metadata": {
  "kernelspec": {
   "display_name": "base",
   "language": "python",
   "name": "python3"
  },
  "language_info": {
   "codemirror_mode": {
    "name": "ipython",
    "version": 3
   },
   "file_extension": ".py",
   "mimetype": "text/x-python",
   "name": "python",
   "nbconvert_exporter": "python",
   "pygments_lexer": "ipython3",
   "version": "3.10.13"
  }
 },
 "nbformat": 4,
 "nbformat_minor": 2
}
